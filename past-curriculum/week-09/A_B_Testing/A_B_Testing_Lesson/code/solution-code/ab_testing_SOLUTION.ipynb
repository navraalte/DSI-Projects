{
 "cells": [
  {
   "cell_type": "code",
   "execution_count": 21,
   "metadata": {
    "collapsed": false
   },
   "outputs": [],
   "source": [
    "import numpy as np\n",
    "import scipy.stats as stats\n",
    "import pylab as pl\n",
    "%matplotlib inline"
   ]
  },
  {
   "cell_type": "markdown",
   "metadata": {},
   "source": [
    "# Running a T-Test"
   ]
  },
  {
   "cell_type": "code",
   "execution_count": 68,
   "metadata": {
    "collapsed": false
   },
   "outputs": [
    {
     "data": {
      "image/png": "[encoded data removed]",
      "text/plain": [
       "<matplotlib.figure.Figure at 0x115aafed0>"
      ]
     },
     "metadata": {},
     "output_type": "display_data"
    },
    {
     "data": {
      "image/png": "[encoded data removed]",
      "text/plain": [
       "<matplotlib.figure.Figure at 0x114ed8d50>"
      ]
     },
     "metadata": {},
     "output_type": "display_data"
    },
    {
     "data": {
      "text/plain": [
       "Ttest_indResult(statistic=-0.16571861359484602, pvalue=0.86856646763447187)"
      ]
     },
     "execution_count": 68,
     "metadata": {},
     "output_type": "execute_result"
    }
   ],
   "source": [
    "# Generate data\n",
    "a = sorted(np.random.randn(100))\n",
    "b = sorted(np.random.randn(1) * np.random.randn(80))\n",
    "\n",
    "# Plot distribution of A\n",
    "fit = stats.norm.pdf(a, np.mean(a), np.std(a))\n",
    "pl.plot(a,fit,'-o')\n",
    "pl.hist(a,normed=True) \n",
    "pl.title('Group A')\n",
    "pl.show()\n",
    "\n",
    "# Plot distribution of B\n",
    "fit = stats.norm.pdf(b, np.mean(b), np.std(b))\n",
    "pl.plot(b,fit,'-o')\n",
    "pl.hist(b,normed=True) \n",
    "pl.title('Group B')\n",
    "pl.show()\n",
    "\n",
    "# Perform T-test\n",
    "stats.ttest_ind(a, b)\n"
   ]
  },
  {
   "cell_type": "markdown",
   "metadata": {
    "collapsed": false
   },
   "source": [
    "# Running a Z-Test"
   ]
  },
  {
   "cell_type": "code",
   "execution_count": 69,
   "metadata": {
    "collapsed": false
   },
   "outputs": [],
   "source": [
    "def ztest(x1, n1, x2, n2, one_tailed=False):\n",
    "    \"\"\"\n",
    "    One- or Two-Tailed Z-test for two samples\n",
    "    \n",
    "    Args:\n",
    "        x1 = # of successes in Sample 1\n",
    "        n1 = # of observations in Sample 1\n",
    "        x2 = # of successes in Sample 2\n",
    "        n2 = # of observations in Sample 2\n",
    "        one_tailed = Boolean, whether or not the test should be One-Tailed\n",
    "        \n",
    "    Return:\n",
    "        z = Z-stat\n",
    "    \"\"\"\n",
    "    x1 = float(x1)\n",
    "    n1 = float(n1)\n",
    "    x2 = float(x2)\n",
    "    n2 = float(n2)\n",
    " \n",
    "    p1 = x1 / n1\n",
    "    p2 = x2 / n2    \n",
    " \n",
    "    p = (x1 + x2) / (n1 + n2)\n",
    "    se = p * (1 - p) * ((1 / n1) + (1/ n2))\n",
    "    sse = np.sqrt(se)\n",
    "    \n",
    "    z = (p1 - p2) / sse\n",
    "    p = 1 - stats.norm.cdf(abs(z))\n",
    "    \n",
    "    if not one_tailed:\n",
    "        p *= 2\n",
    "        \n",
    "    return z, p"
   ]
  },
  {
   "cell_type": "code",
   "execution_count": 70,
   "metadata": {
    "collapsed": false
   },
   "outputs": [
    {
     "data": {
      "text/plain": [
       "(-4.3299120715441166, 1.4916889162330804e-05)"
      ]
     },
     "execution_count": 70,
     "metadata": {},
     "output_type": "execute_result"
    }
   ],
   "source": [
    "# Do a test with fake data:\n",
    "\n",
    "control_observations = 3141 #n1\n",
    "control_successes = 1904 # x1\n",
    "test_observations = 3241 #n2\n",
    "test_successes = 2134 #x2\n",
    "\n",
    "ztest(control_successes, control_observations, test_successes, test_observations, one_tailed=False)"
   ]
  }
 ],
 "metadata": {
  "kernelspec": {
   "display_name": "Python 2",
   "language": "python",
   "name": "python2"
  },
  "language_info": {
   "codemirror_mode": {
    "name": "ipython",
    "version": 2
   },
   "file_extension": ".py",
   "mimetype": "text/x-python",
   "name": "python",
   "nbconvert_exporter": "python",
   "pygments_lexer": "ipython2",
   "version": "2.7.11"
  }
 },
 "nbformat": 4,
 "nbformat_minor": 0
}
