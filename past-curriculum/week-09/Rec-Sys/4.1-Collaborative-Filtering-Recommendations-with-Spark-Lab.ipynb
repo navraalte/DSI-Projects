{
 "cells": [
  {
   "cell_type": "markdown",
   "metadata": {},
   "source": [
    "<img src=\"https://ga-dash.s3.amazonaws.com/production/assets/logo-9f88ae6c9c3871690e33280fcf557f33.png\" style=\"float: left; margin: 10px\">\n",
    "\n",
    "# Collaborative Filtering Recommendations with Spark Lab\n",
    "Week 9 | Lesson 4.1\n",
    "\n"
   ]
  },
  {
   "cell_type": "code",
   "execution_count": 1,
   "metadata": {
    "collapsed": false
   },
   "outputs": [],
   "source": [
    "import pandas as pd\n",
    "import numpy as np\n",
    "import matplotlib.pyplot as plt\n",
    "import seaborn as sb\n",
    "import pyspark \n",
    "from IPython.display import Image\n",
    "from __future__ import division\n",
    "from sklearn.utils import shuffle\n",
    "from collections import defaultdict, Counter\n",
    "from time import time\n",
    "import pickle\n",
    "\n",
    "from pyspark import SparkContext, SparkConf\n",
    "from pyspark.mllib.recommendation import ALS, MatrixFactorizationModel\n",
    "import math\n",
    "\n",
    "%matplotlib inline"
   ]
  },
  {
   "cell_type": "markdown",
   "metadata": {},
   "source": [
    "## Introduction\n",
    "\n",
    "In this lab you will be going on a tour de force through the collaborative filtering recommendation system building pipeline using Spark's implementation of Collaborative Filtering. This is a project that took more than three months of research, experimentaion, and implementation to complete. Most of this project has been has been summerized and most code has been provided. The goal of this lab is to leave you with an understanding of the thought process of this pipeline and to gain some experience writing python functions using Spark RDDs. \n",
    "\n",
    "#### Outline\n",
    "\n",
    "1. Assess the sparsity of the ratings and purchase matricies\n",
    "2. Collaborative Filtering with Spark\n",
    "2. Cold Start Problem\n",
    "3. Market Segmentation\n",
    "4. Convert Implict data into Explict data\n",
    "5. Cross Validatation\n",
    "6. Build a Collaborative Filtering Recommendation System\n",
    "7. Curate Recommendations into Varietal \"Sub-Genres\""
   ]
  },
  {
   "cell_type": "markdown",
   "metadata": {},
   "source": [
    "### 1. Assess the sparsity of the ratings and purchase matricies\n",
    "\n"
   ]
  },
  {
   "cell_type": "code",
   "execution_count": 81,
   "metadata": {
    "collapsed": true
   },
   "outputs": [],
   "source": [
    "# load ratings data\n",
    "ratings_path = \"./datasets/Ratings.txt\"\n",
    "df_ratings = pd.read_csv(ratings_path, sep='\\t')"
   ]
  },
  {
   "cell_type": "code",
   "execution_count": 82,
   "metadata": {
    "collapsed": true
   },
   "outputs": [],
   "source": [
    "# purchase data\n",
    "purchase_path = \"./datasets/Purchases.txt\"\n",
    "df_purchases = pd.read_csv(purchase_path, sep='\\t')"
   ]
  },
  {
   "cell_type": "code",
   "execution_count": null,
   "metadata": {
    "collapsed": false
   },
   "outputs": [],
   "source": []
  },
  {
   "cell_type": "code",
   "execution_count": null,
   "metadata": {
    "collapsed": false
   },
   "outputs": [],
   "source": []
  },
  {
   "cell_type": "code",
   "execution_count": 7,
   "metadata": {
    "collapsed": false
   },
   "outputs": [],
   "source": [
    "# calculate number of ratings from unique users\n",
    "\n",
    "# calculate total number of ratings\n"
   ]
  },
  {
   "cell_type": "code",
   "execution_count": 8,
   "metadata": {
    "collapsed": false
   },
   "outputs": [],
   "source": [
    "# calculate number of purchases from unique users\n",
    "\n",
    "# calculate number total number of purchases \n"
   ]
  },
  {
   "cell_type": "code",
   "execution_count": 9,
   "metadata": {
    "collapsed": false
   },
   "outputs": [],
   "source": [
    "# calculate the ratio between ratings from unique users and from the total \n"
   ]
  },
  {
   "cell_type": "code",
   "execution_count": 10,
   "metadata": {
    "collapsed": false
   },
   "outputs": [],
   "source": [
    "# calculate the ratio between purchase from unique users and from the total\n"
   ]
  },
  {
   "cell_type": "code",
   "execution_count": 11,
   "metadata": {
    "collapsed": false
   },
   "outputs": [],
   "source": [
    "# calcualte the ratio between ratings from unique users and purchases from unqiue users \n"
   ]
  },
  {
   "cell_type": "code",
   "execution_count": 12,
   "metadata": {
    "collapsed": false
   },
   "outputs": [],
   "source": [
    "# calculate the ratio between total ratings and total purchases \n"
   ]
  },
  {
   "cell_type": "code",
   "execution_count": null,
   "metadata": {
    "collapsed": false
   },
   "outputs": [],
   "source": []
  },
  {
   "cell_type": "markdown",
   "metadata": {
    "collapsed": true
   },
   "source": [
    "The aggragations show us that less than 2 percent of users rate their purchase, and less than 1 percent of items have a rating. This tells us that any user-item rating matrix we construct will be extremely sparse. This will not be enough data to build a collaborative filtering model that can learn the latent features of user's purchases. \n",
    "\n",
    "Look at the percent of purchases that occured from unique users. This score is larger than the percent of unique users that have made a purchase and have rated a wine. However, the total_user_ratings is far smaller than unique_user_purchases. There are 100 times more users making purchases than there are rating items. This implies that we have more purchase data than we do rating data. \n",
    "\n",
    "This insight suggest that, if can can transform purchase data into something that resembles ratings data, then we'd have much more information about user item preferences and we'd be able to build a collaborative filltering recommendation system. This means that **we'll have to feature engineer Implicit purchase data into Explicit ratings data. **"
   ]
  },
  {
   "cell_type": "markdown",
   "metadata": {},
   "source": [
    "### 2. Collaborative Filtering with Spark\n",
    "\n",
    "\n",
    "### 2.1 Intuit with an Example \n",
    "Let's say that April and August have both watched *The Matrix*, *Rouge One*, *Intersteller*, and *Ex Machina*. However Apirl has watched *The Martian* and August has not. CF will do two things to give a rating for *The Martian* that it thinks will reflect August's movie preferences. \n",
    "\n",
    "First CF will identify the latent feature, which is the Science Fiction genre, that is common to April and August's movie preference. Second, it will notice that both April and August have seen a lot of the same Science Fiction movies and both have rated those movies similarly in the past. Since April rated *The Martian* a 9/10, the CF model will note the similarity of both people's preference in movies and the high rating that April give to *The Martian*. Therefore, the model will recommend that August watch *The Martain* -- which will correspond to a high rating. \n",
    "\n",
    "\n",
    "\n",
    "![](https://image.slidesharecdn.com/analyticswithcassandrasparkfrankfurt-150618181941-lva1-app6892/95/analytics-with-cassandra-spark-mllib-cassandra-essentials-day-38-638.jpg?cb=1434651656)\n",
    "\n",
    "\n",
    "The above image shows how CF uses the preferences of the middle two users highlighted in green to predict a rating for the bottom users highlighted in green. \n",
    "\n",
    "### Qestion: Can you guess if the question mark will be replaced with a thumbs or thumbs down?\n",
    "\n",
    ">Your answer here\n",
    "\n",
    "\n",
    "### 2.2 How Collaborative Filtering works\n",
    "Collaborative Filtering (CF) is a solution to the sparse matrix problem. CF implements Matrix Factoriation (MF) to decompose the rating matrix $R$ into two matrices, sometimes refered to as $U$ and $V^{T}$. These 3 matricies are used in an optimization process called Alternativing Least Squares (ALS) in order to approximate $R$ as $\\hat{R}$. Unlike $R$, $\\hat{R}$  has its zero values imputed with non-zero values. These non-zero values have been filled in by discovering the latent features of $R$. These latent features tell us about hidden relationships between users and items in order to fill in those missing values. \n",
    "\n",
    "\n",
    "**CHECK OUT post to get a deeper understanding of how Matrix Factorization works** [Matrix Factorization](http://recommender.no/algorithms/matrix-factorization-algorithm-works/)\n",
    "\n",
    "\n",
    "\n",
    "\n",
    "![](http://ampcamp.berkeley.edu/big-data-mini-course/img/matrix_factorization.png)\n",
    "\n",
    "\n",
    "\n",
    "\n",
    "Spark's implementaion of CF differs from other implementaion in where it stores and minipulates the $U$ and $V^{T}$ matricies. Spark stores $U$ and $V^{T}$ as column and row vectors \n",
    "\n",
    "\n",
    "\n",
    "![](https://databricks.com/wp-content/uploads/2014/07/als-illustration.png)"
   ]
  },
  {
   "cell_type": "code",
   "execution_count": null,
   "metadata": {
    "collapsed": true
   },
   "outputs": [],
   "source": [
    "# delete the dataframes in order to free up memory space \n",
    "del df_ratings\n",
    "del df_purchases"
   ]
  },
  {
   "cell_type": "markdown",
   "metadata": {
    "collapsed": true
   },
   "source": [
    "### 2. Cold Start Problem\n",
    "\n",
    "Collaborative filters are essentially matrix factorization models plus a similarity equation between users and items. Users who have not made a purchase introduce a row of zeros into the matrix and does not contribute any information to the factorization process. \n",
    "\n",
    "In the context of recommendations, users with no previous purchases can not be compared with other users who have made purchases in order to asses the similarity in their item preferences. Without any purchases, the CF model cannot uncover the latent features that drive user's purchases behavior. Thus users with zero purchases must be excluded from collaborative filters. \n",
    "\n",
    "Take a look at the Customers vs. Total Purchases graph. It shows that the vast, vast majority of users have made one or two purchases. The first bin (the tallest one) shows that over 200,000 users made only a single purchase in the 10 history that this data represents. \n",
    "\n",
    "User's with one, two, or even three purchases still might not contribute enough information to the CF in order to do a decent job at modeling their purchasing behavior, thereby leading to poor model performance. So we might consider increasing the minimum number of purchases that a user must have in order to be included in the CF model. But increasing that minimum number comes at a cost. \n",
    "\n",
    "If that minimum number is set too high, we'll be excluding too many people from the recommendation process. **We'll need to optimize the minimum number of purchases with respect to something that makes sense -- but what?** Keep reading. \n",
    "\n"
   ]
  },
  {
   "cell_type": "code",
   "execution_count": 2,
   "metadata": {
    "collapsed": false
   },
   "outputs": [
    {
     "data": {
      "image/png": "[encoded data removed]",
      "text/plain": [
       "<IPython.core.display.Image object>"
      ]
     },
     "execution_count": 2,
     "metadata": {},
     "output_type": "execute_result"
    }
   ],
   "source": [
    "Image(\"./images/purchase_dist.png\")"
   ]
  },
  {
   "cell_type": "markdown",
   "metadata": {},
   "source": [
    "**NOTE ON PLOT: ** The horizontal axis has been truncated to only show the first 100 total purchases. "
   ]
  },
  {
   "cell_type": "markdown",
   "metadata": {
    "collapsed": true
   },
   "source": [
    "### 3. Market Segmentation \n",
    "\n",
    "In the business world it is wise, usefull, and analytically preduent to segment users into meaningful categories. For our purposes, we're only interested in a single category. We are interested in category of users that responsible for the majority of purchases and therefore revenue. It is these users that we want our recommendation system to keep happy, engaged, purchasing, and prevent from churning. \n",
    "\n",
    "Countless hours of Exploratory Data Analysis lead to the following approach. "
   ]
  },
  {
   "cell_type": "markdown",
   "metadata": {},
   "source": [
    "### 3.1 Remove non red or white wine product keys from the product data\n",
    "This data set contains purchases for not just wines but also various spirits and champaigns. The motivations for purchasing wines are presumably different from the motivations for purchasing \n",
    "whisky or champaign, so we need to filter those purchases out of our data set. Also, our job is to build a wine recommender so clearly we want to filter out any non-wine products."
   ]
  },
  {
   "cell_type": "markdown",
   "metadata": {},
   "source": [
    "### 3.2 Filter out customers who purchases less than 5 bottles of wines\n",
    "\n",
    "In order to detect latent features (wine preferences of users) there needs to be enough \n",
    "purchase data present in order for patterns to emerge for each user. For this reason, we must include a minimum number of wine purchases that lead to optimium model performance. That number was shown to be 5 through cross validation. \n",
    "    \n",
    "    \n",
    "\n",
    "**Pre-filter: ** \n",
    "\n",
    "    Total users 719800\n",
    "\n",
    "**Post-filter: **\n",
    "\n",
    "    Total users 225056\n",
    "\n",
    "By excluding users with less than 5 purchases, we have managed to retained 31.3 percent of original users. In other words, **we have droped 69 percent of users!** \n"
   ]
  },
  {
   "cell_type": "markdown",
   "metadata": {
    "collapsed": true
   },
   "source": [
    "### 3.3. Filter out Customers with no subsequent transactions\n",
    "The goal of the recommender is to model the purchasing behavior of recurring users. \n",
    "Users who visit the site once and never return provide detract from our goal. \n",
    "\n",
    "**Pre-filter: **\n",
    "\n",
    "    Number of purchases 6628100\n",
    "    Unique user 719800\n",
    "\n",
    "**Post-filter: **\n",
    "\n",
    "    Number of purchases 4561063\n",
    "    Unique user 166563\n",
    "\n",
    "By excluding users only made a single transaction, we managed to retained 23 percent of unique users \n",
    "and 69 percent of total purchases. \n",
    "\n",
    "Take a look at the number of unique users and total purchases retained. Notice that about 20 percent of users are resonsible for 70 percent of purchases. [**This follows the Pereto Principle very closely!**](https://en.wikipedia.org/wiki/Pareto_principle)\n"
   ]
  },
  {
   "cell_type": "markdown",
   "metadata": {},
   "source": [
    "### 3.4 Remove transactions with more than K purchases\n",
    "\n",
    "We want to remove the bulk purchases made by wedding and party planers. \n",
    "These bulk purchases, usually of a single type of wine,  don't reflect any deep wine preferences made by the typical user. \n",
    "\n",
    "K can be adjusted, say, bewteen 10 and 20. \n",
    "We will use a upper bound of 10 purchases for a single transaction.  "
   ]
  },
  {
   "cell_type": "markdown",
   "metadata": {},
   "source": [
    "### 3.5 Market Segmentation Overview\n",
    "\n",
    "We have segmented users in the following way:\n",
    "\n",
    "    -Purchased wine\n",
    "        - Purchased at least 5 bottles\n",
    "            - At least subsequent 2 transactions\n",
    "                - No more than 10 bottles in a single transaction\n",
    "                \n",
    "It is this subset of users that the will be used to train the recommendation model. "
   ]
  },
  {
   "cell_type": "markdown",
   "metadata": {},
   "source": [
    "### 4. Convert Implict data into Explict data\n",
    "Now that we have segmented the users into a meaningful category, we want to project their purchases into a ratings space. This means that we'll need to **transform implict data into explict data**, which can be tricky. Recall purchases don't necessary reflect a perference (i.e. I can purchase a particular bottle of wine several times and rate it a 5 out of 10 -- think \"two buck chuck\"). \n",
    "\n",
    "In order to detect and extract user preferences from  purchases, we are going to give each of the wines that they purchase a relative rating based on the majority wine type that they purchased. \n",
    "    \n",
    "For each user's purchased bottle of wine, \n",
    "\n",
    "$$ Rating_{u,w} = \\frac{ N_{bottles,~ w , u} - \\text{Freq}_{(bottle~|~type)~w, u} } {\\sum{_{(bottles~|~type)~w, u}}}  $$\n",
    "\n",
    "$N_{bottles}$ total number of wine purchases made by user, u \n",
    "\n",
    "$\\text{Freq}_{(bottle~|~type)~w, u}$ frequency of purchases for type of wine (either red or white)\n",
    "\n",
    "$\\sum{_{(bottles~|~type))~w, u}}$ total number of purchase for type of wine (either red or white)\n",
    "\n",
    "$Rating_{u,w} $ rating of wine $w$ by user $u$\n",
    "\n",
    "#### Intuition behind this approach \n",
    "\n",
    "We want to capture and quantify a preference for either red or white wine for each user, then normalize that number. Although we can't say for sure that a user prefers one vinyard's Cabernet over another based on purchases (and to what extent), we can be reasonably sure that they prefer red over white if 4 out of 5 purchases are for red wines. In affect, we are giving all of user_i's red wine purchases the same rating and their white wine purchases the same rating. \n"
   ]
  },
  {
   "cell_type": "markdown",
   "metadata": {},
   "source": [
    "### 4.1 Distributions: Purchase space to Ratings space\n",
    "\n",
    "The first distribution is the Total Purchases vs. Customers graph that we saw earlier. Here each bins represents how many customers made X number of purchases. \n",
    "\n",
    "The second distribution is the Users Ratings vs. Number of Wines. Here we have ratings as floating point values, normalized from 0 to 1. The transformation also smooth the long tail distribtuion. "
   ]
  },
  {
   "cell_type": "code",
   "execution_count": 3,
   "metadata": {
    "collapsed": false
   },
   "outputs": [
    {
     "data": {
      "image/png": "[encoded data removed]",
      "text/plain": [
       "<IPython.core.display.Image object>"
      ]
     },
     "execution_count": 3,
     "metadata": {},
     "output_type": "execute_result"
    }
   ],
   "source": [
    "Image(\"./images/purchase_dist.png\")"
   ]
  },
  {
   "cell_type": "code",
   "execution_count": 4,
   "metadata": {
    "collapsed": false
   },
   "outputs": [
    {
     "data": {
      "image/png": "[encoded data removed]",
      "text/plain": [
       "<IPython.core.display.Image object>"
      ]
     },
     "execution_count": 4,
     "metadata": {},
     "output_type": "execute_result"
    }
   ],
   "source": [
    "Image(\"./images/continuous_ratings_dist.png\")"
   ]
  },
  {
   "cell_type": "markdown",
   "metadata": {},
   "source": [
    "### 4.2 Transform floating point ratings into categorical ratings\n",
    "\n",
    "Now that we have transformed purchase data into ratings data, we need to transform floating point values into discret values. \n",
    "\n",
    "This is done by partitioning the User Ratings vs. Number of Wines distribution into 10 equal sized bins. Why 10 bins? This is essentially an arbitrary number. 10 was choosen because rating a wine on a scale from 1 to 10 is readily understood by most people. \n",
    "\n",
    "\n",
    "Each bin will have an approximately equal number of values -- about 373760 floating values in each bin. Take the total number of purchased wines and divide it by 10 and you'll get approximately 373760. \n",
    "\n",
    "Then scan through the sorted distribution (as it appears above) and assign each value to the present bin. When that bin has reached it's capacity of about 373760, then move on from that bin and start assinging values to the next bin. Repeat this iterative process until all points have been assigned to a bin. \n",
    "\n",
    "Once this process is complete, we arrive at a near uniform distribution of 10 categorical values for ratings. "
   ]
  },
  {
   "cell_type": "code",
   "execution_count": 5,
   "metadata": {
    "collapsed": false
   },
   "outputs": [
    {
     "data": {
      "image/png": "[encoded data removed]",
      "text/plain": [
       "<IPython.core.display.Image object>"
      ]
     },
     "execution_count": 5,
     "metadata": {},
     "output_type": "execute_result"
    }
   ],
   "source": [
    "Image(\"./images/categorical_ratings.png\")"
   ]
  },
  {
   "cell_type": "markdown",
   "metadata": {},
   "source": [
    "### 5. Cross Validatation \n",
    "\n",
    "Now that we have featured engineered a Ratings matrix where rows are users and columns are wines, can finally start building the model and optimizing it's performance.\n",
    "\n",
    "The collaborative filter will be validate in two ways. \n",
    "\n",
    "First we will perform a train and holdout split and record the Room Mean Squre Error as the size of the training set increases. Scoring a recommender's performance based on the RMSE is very common. In fact this is the same metric that Netflix used in their 1 million dollar Kaggle competition. \n",
    "\n",
    "Second, a special versional of ROC curve analysis is implemented.\n",
    "\n",
    "\n",
    "### 5.1 Leave One out Cross Validation (LOOCV)\n",
    "\n",
    "\n",
    "The data spans across 10 years: from 2005 to 2014. Taking advantage of this fact LOOCV is implemented by iteratively adding one year's worth of data into the training set. Each training set undergoes Stratifed KFold CV with 10 splits.  The \"Stratifed\" in Stratifed KFold means that equal proportions of each class (ratings from 1 through 10) will be sample for each training set; this helps avoid unbalanced classes which bias models. \n",
    "\n",
    "The diagram below shows how each year is iteratively moved from the test set to the training set. Intuitaively, we'd expect the model's predictive performance to increases as the size of the training set increases. \n",
    "\n",
    "    [TRAIN SET][       TEST SET        ]   \n",
    "    ------------------------------------\n",
    "    [5] [6, 7, 8, 9, 10, 11, 12, 13, 14]\n",
    "    [5, 6] [7, 8, 9, 10, 11, 12, 13, 14]\n",
    "    [5, 6, 7] [8, 9, 10, 11, 12, 13, 14]\n",
    "    [5, 6, 7, 8] [9, 10, 11, 12, 13, 14]\n",
    "    [5, 6, 7, 8, 9] [10, 11, 12, 13, 14]\n",
    "    [5, 6, 7, 8, 9, 10] [11, 12, 13, 14]\n",
    "    [5, 6, 7, 8, 9, 10, 11] [12, 13, 14]\n",
    "    [5, 6, 7, 8, 9, 10, 11, 12] [13, 14]\n",
    "    [5, 6, 7, 8, 9, 10, 11, 12, 13] [14]"
   ]
  },
  {
   "cell_type": "code",
   "execution_count": 6,
   "metadata": {
    "collapsed": false
   },
   "outputs": [
    {
     "data": {
      "image/png": "[encoded data removed]",
      "text/plain": [
       "<IPython.core.display.Image object>"
      ]
     },
     "execution_count": 6,
     "metadata": {},
     "output_type": "execute_result"
    }
   ],
   "source": [
    "Image(\"./images/RMSE_vs_Training_Set_Size.png\")"
   ]
  },
  {
   "cell_type": "markdown",
   "metadata": {},
   "source": [
    "The RMSE vs. Training Set Size Learning Curve shows a few things. \n",
    "\n",
    "First it shows that the model's error drops from about 3.4 to 2.5 as the training set size increases from 10 percent to 90 percent of the data. We can also see that the model is overfitting, this is evident by the large gap between the train and test error curves. \n",
    "\n",
    "It shows that the model will be able to continue reducing its error if it were trained on more data. However we can see that the test curve's rate of change is nearly flat, so training on additonal data would bring us into the realm of diminishing returns. \n",
    "\n",
    "#### Compare to Navie Base Line\n",
    "\n",
    "Whenever we assess the performance of a model, we always want to have a baseline model for comparison. A common navie base line for recommendation systems is to simply predict the the average rating every time. Doing this arrives at a RMSE of about 2.9. This means that our collaborative filter was able to improve on the navie baseline model. Though we'd like to see higher improvement. \n",
    "\n",
    "### Question: Can you think (research) of a way to improve the performance of a recommendation system?\n",
    "\n",
    "Sometimes people will combime approachs, such as combining content based and collaborative filtering methods. \n",
    "\n",
    ">Your answer here"
   ]
  },
  {
   "cell_type": "markdown",
   "metadata": {},
   "source": [
    "### 5.2 ROC Analysis for Recommendation Systems\n",
    "\n",
    "\n",
    "Further model validation is performed by plotting a ROC Curve. ROC curves show the relationship between the True Positive Rate (TPR) and the False Positive Rate (FPR) as a hyper-parameter, or some other threshold value, is varied. In order to plot roc curves, the non-binary predicted ratings of the model must be transformed into a binary classification. This is achieved in the following way.\n",
    "\n",
    "\n",
    "\n",
    "\n",
    "1. Ratings vary from 1 to 10. \n",
    "2. Create a threshold value, t, and vary it from 2 to 10. \n",
    "3. Ratings below the threshold, t, are given the label 0, meaning don’t recommend. \n",
    "4. Ratings above the threshold, t, are given the label 1, meaning do recommend. \n",
    "5. Test set ratings and predicted ratings are both compared to the threshold value as we iterate through threshold values (i.e. for t = i and rating = r, if r $\\ge$ t then 1 else if r $\\lt$ t then 0 ). \n",
    "\n",
    "Those 0 and 1 binary classifications enable us to build a confusion matrix that can be used to obtain true positive and false positive rates. A more detailed explanation of this procedure can be found in [An Evaluation Methodology for\n",
    "Collaborative Recommender Systems](http://www.contentwise.tv/files/An-evaluation-Methodology-for-Collaborative-Recommender-Systems.pdf). \n",
    "\n",
    "#### The Take Away\n",
    "\n",
    "The ROC tells us that to maximize the TPR and minimize the FPR, we need to pick a certain threshold value (a rating from the 1 to 10 scale). We will use this value in the following way. Every user in the data set will be given rating for wines that they have and have not rated before (remember that since we mapped purchases into a ratings space we can know talk about user ratings). If the rating for a particular bottle of wine is below that threshold value, we do not recommend that wine. We only recommend wines with a rating that is above the threshold value. \n",
    "\n",
    "Although you can't conclude this from looking at the ROC curve, the optimum threshold value is a rating of 7. "
   ]
  },
  {
   "cell_type": "code",
   "execution_count": 40,
   "metadata": {
    "collapsed": false
   },
   "outputs": [
    {
     "data": {
      "image/png": "[encoded data removed]",
      "text/plain": [
       "<IPython.core.display.Image object>"
      ]
     },
     "execution_count": 40,
     "metadata": {},
     "output_type": "execute_result"
    }
   ],
   "source": [
    "Image(\"./images/ROC_Curve.png\")"
   ]
  },
  {
   "cell_type": "markdown",
   "metadata": {
    "collapsed": true
   },
   "source": [
    "## 6. Build a Recommendation System\n"
   ]
  },
  {
   "cell_type": "code",
   "execution_count": 11,
   "metadata": {
    "collapsed": true
   },
   "outputs": [],
   "source": [
    "home = \"/Users/Alexander/Wine_Recommender/data/\"\n",
    "ratings_path = home + \"spark_ready_data.pkl\"\n",
    "products_path = home + \"wine_products.pkl\""
   ]
  },
  {
   "cell_type": "code",
   "execution_count": 50,
   "metadata": {
    "collapsed": true
   },
   "outputs": [],
   "source": [
    "df_products = pd.read_pickle(products_path)"
   ]
  },
  {
   "cell_type": "code",
   "execution_count": null,
   "metadata": {
    "collapsed": false
   },
   "outputs": [],
   "source": []
  },
  {
   "cell_type": "markdown",
   "metadata": {},
   "source": [
    "#### Spark cluster\n",
    "\n",
    "We need to initiate the spark contenxt by specifying how many cpus we want to dedicate to our spark cluster. Because we are working a large data set, I suggest that you use as many cpus as your compute has available. I also suggest that you shut down any non-essential applications that may be running. "
   ]
  },
  {
   "cell_type": "code",
   "execution_count": 2,
   "metadata": {
    "collapsed": true
   },
   "outputs": [],
   "source": [
    "# number of nodes in local spark cluster\n",
    "n_worker_cups = \n",
    "conf = SparkConf().setMaster(\"local[{}]\".format(n_worker_cups))\n",
    "sc = SparkContext(conf=conf)"
   ]
  },
  {
   "cell_type": "markdown",
   "metadata": {},
   "source": [
    "#### Format Data for Spark Recommender\n",
    "Data needs to be in this form --> (user_id, item_id, n_purchases)"
   ]
  },
  {
   "cell_type": "markdown",
   "metadata": {},
   "source": [
    "#### Create user tags/user ids bride rdd"
   ]
  },
  {
   "cell_type": "code",
   "execution_count": 3,
   "metadata": {
    "collapsed": true
   },
   "outputs": [],
   "source": [
    "def create_cust_tag_bridge_rdd(data, sc):\n",
    "    # create int:cust_tag key value pairs\n",
    "    # spark can't read string user ids\n",
    "    \n",
    "    unique_user_tags = np.unique([row[0] for row in data])\n",
    "    \n",
    "    index_to_int = np.arange(0, len(unique_user_tags) * 100, 100)\n",
    "    cust_tag_bridge = [ (tag_hash, tag_int) for tag_hash, tag_int in zip(unique_user_tags, index_to_int)]\n",
    "    \n",
    "    return sc.parallelize(cust_tag_bridge)"
   ]
  },
  {
   "cell_type": "markdown",
   "metadata": {},
   "source": [
    "#### Wine Products RDD"
   ]
  },
  {
   "cell_type": "code",
   "execution_count": 4,
   "metadata": {
    "collapsed": true
   },
   "outputs": [],
   "source": [
    "def create_products_rdd(products_df):\n",
    "    # create products_rdd\n",
    "    products_rdd = sc.parallelize(products_df.values.tolist())\n",
    "    \n",
    "    # format --> (productKey, (productID, Appellation, Varietal, Vinyard) )\n",
    "    products_rdd = products_rdd.map(lambda row: (row[0], (row[1], row[2], row[3], row[4], row[5]) )   )\n",
    "    \n",
    "    return products_rdd"
   ]
  },
  {
   "cell_type": "markdown",
   "metadata": {},
   "source": [
    "#### Ratings RDD"
   ]
  },
  {
   "cell_type": "code",
   "execution_count": 5,
   "metadata": {
    "collapsed": true
   },
   "outputs": [],
   "source": [
    "def create_clean_data_rdd(data, cust_tag_bridge_rdd):\n",
    "    # create bride rdd for customer tags and customer ids\n",
    "    data_rdd = sc.parallelize(data)\n",
    "    \n",
    "    tag_data_bridge_rdd = data_rdd.map(lambda row: (row[0], (row[1], row[2]) ))\n",
    "    \n",
    "    clean_data_rdd = \\\n",
    "    tag_data_bridge_rdd.sortByKey()\\\n",
    "                   .join( cust_tag_bridge_rdd.sortByKey())\\\n",
    "                   .map(lambda row: ( row[1][1], row[1][0][0], row[1][0][1]))\n",
    "            \n",
    "    return clean_data_rdd"
   ]
  },
  {
   "cell_type": "markdown",
   "metadata": {},
   "source": [
    "### Create get clean data rdd"
   ]
  },
  {
   "cell_type": "code",
   "execution_count": 6,
   "metadata": {
    "collapsed": false
   },
   "outputs": [],
   "source": [
    "def get_ratings_data(ratings_path):\n",
    "    start = time()\n",
    "    data = pickle.load(open(ratings_path, 'rb'))\n",
    "    end = time()\n",
    "    print (\"Load Data Time Elapsed = {:.3} seconds\".format(end - start))\n",
    "    return data"
   ]
  },
  {
   "cell_type": "code",
   "execution_count": 7,
   "metadata": {
    "collapsed": true
   },
   "outputs": [],
   "source": [
    "def get_clean_data_rdd(sc, return_cust_brige_rdd = False):\n",
    "    '''Loads ratings from master file and formats data into model readable form.\n",
    "       data --> (user_id, productKey, rating)'''\n",
    "    # load data\n",
    "    data = get_ratings_data(ratings_path)\n",
    "    # assigne each user hash tag a user_id\n",
    "    cust_tag_bridge_rdd = create_cust_tag_bridge_rdd(data, sc)\n",
    "    # model readable format\n",
    "    clean_data_rdd = create_clean_data_rdd(data, cust_tag_bridge_rdd) \n",
    "    \n",
    "    if return_cust_brige_rdd == False:\n",
    "        cust_tag_bridge_rdd.unpersist()\n",
    "        return clean_data_rdd\n",
    "    else:\n",
    "        return clean_data_rdd, cust_tag_bridge_rdd"
   ]
  },
  {
   "cell_type": "markdown",
   "metadata": {},
   "source": [
    "### Create Train model \n",
    "    Here we will train the model on the entire data set. The hyper-parameters has been validate during cros"
   ]
  },
  {
   "cell_type": "code",
   "execution_count": 8,
   "metadata": {
    "collapsed": false
   },
   "outputs": [],
   "source": [
    "def train_model(training_RDD):\n",
    "    seed = 5\n",
    "    iterations = 20\n",
    "    regularization_parameter = 0.1\n",
    "    rank = 16\n",
    "\n",
    "    model = ALS.train(training_RDD, \n",
    "                      rank=rank, \n",
    "                      seed=seed, \n",
    "                      iterations=iterations,\n",
    "                      lambda_=regularization_parameter,\n",
    "                      nonnegative=True)\n",
    "    return model"
   ]
  },
  {
   "cell_type": "markdown",
   "metadata": {},
   "source": [
    "### Create get_fitted Model "
   ]
  },
  {
   "cell_type": "code",
   "execution_count": 9,
   "metadata": {
    "collapsed": false
   },
   "outputs": [],
   "source": [
    "def get_fitted_model(sc, ratings_path):\n",
    "    '''Loads rating data from file, trains model, and returns a fitted model'''\n",
    "    \n",
    "    print (\"load data and build RDDs...\")\n",
    "    clean_data_rdd = get_clean_data_rdd(sc)\n",
    "    \n",
    "    print (\"Training Model...\")\n",
    "    start = time()\n",
    "    fitted_model = train_model(clean_data_rdd )\n",
    "    end = time()\n",
    "    print (\"Training Model: Time Elapsed = {:.3} \\n\".format(end - start))\n",
    "    \n",
    "    # restore memory resources\n",
    "    clean_data_rdd.unpersist()\n",
    "    \n",
    "    return fitted_model"
   ]
  },
  {
   "cell_type": "code",
   "execution_count": 13,
   "metadata": {
    "collapsed": false
   },
   "outputs": [],
   "source": [
    "# run get_fitted_model in order to fit the model\n",
    "# save output as fitted_model\n"
   ]
  },
  {
   "cell_type": "markdown",
   "metadata": {},
   "source": [
    "### Get K Recommendations for a User\n",
    "\n",
    "1. For some ith user, remove their purchased wines from the total data.\n",
    "2. Get predicted rating on all previously unpurchased wines. \n",
    "3. Filter recomendations based on the rating threshold value that was validated during cross validation (i.e. 7) \n",
    "4. Curate recommendations for presentation "
   ]
  },
  {
   "cell_type": "code",
   "execution_count": 13,
   "metadata": {
    "collapsed": true
   },
   "outputs": [],
   "source": [
    "# will get K predictions for user with this id\n",
    "user_id = 0"
   ]
  },
  {
   "cell_type": "code",
   "execution_count": 14,
   "metadata": {
    "collapsed": false
   },
   "outputs": [],
   "source": [
    "# run get_clean_data_rdd save the out as clean_data_rdd and cust_tag_bridge_rdd \n",
    "# set return_cust_brige_rdd to True\n"
   ]
  },
  {
   "cell_type": "markdown",
   "metadata": {
    "collapsed": false
   },
   "source": [
    "Let's now get some recommendations! For that we will get an RDD with all the movies the new user hasn't rated yet. We will input them into the model in order to predict ratings\n"
   ]
  },
  {
   "cell_type": "code",
   "execution_count": 16,
   "metadata": {
    "collapsed": true
   },
   "outputs": [],
   "source": [
    "# ( user_id, movie_id, rating  )\n",
    "# get user_id 0's movie ids in a list\n",
    "movie_ids = clean_data_rdd.filter(lambda row: row[0] == user_id )\\\n",
    "                           .map(lambda row: row[1]).collect()"
   ]
  },
  {
   "cell_type": "code",
   "execution_count": 16,
   "metadata": {
    "collapsed": false
   },
   "outputs": [],
   "source": [
    "# use the .take method to print out the first 5 values of movie_ids\n"
   ]
  },
  {
   "cell_type": "code",
   "execution_count": 18,
   "metadata": {
    "collapsed": true
   },
   "outputs": [],
   "source": [
    "# get wine_ids that user_id has not purchased \n",
    "unpurchased_wines = \\\n",
    "clean_data_rdd.filter(lambda row: row[0] != user_id )\\\n",
    "    .filter(lambda row: row[2] not in  movie_ids)\\\n",
    "    .map(lambda row: (user_id, row[1] ) ).distinct()"
   ]
  },
  {
   "cell_type": "code",
   "execution_count": 17,
   "metadata": {
    "collapsed": false
   },
   "outputs": [],
   "source": [
    "# rdd contains (user_id, movie_id) pairs \n",
    "# use the .count and .take .methods on unpurchased_wines to get a print out \n"
   ]
  },
  {
   "cell_type": "code",
   "execution_count": 22,
   "metadata": {
    "collapsed": true
   },
   "outputs": [],
   "source": [
    "def get_userID_moiveID_pairs(user_id, clean_data_rdd):\n",
    "    '''In order to get recommendations for a user, we need to build an RDD with (user_id, wine_id)\n",
    "       pairs for wines that the user has not previously purchased.'''\n",
    "    # ( user_id, movie_id, rating  )\n",
    "    # get user_id 0's movie ids in a list\n",
    "    movie_ids = clean_data_rdd.filter(lambda row: row[0] == user_id )\\\n",
    "                              .map(lambda row: row[1]).collect()\n",
    "        \n",
    "    # get wine_ids that user_id has not purchased \n",
    "    unpurchased_wines = clean_data_rdd.filter(lambda row: row[0] != user_id )\\\n",
    "                                      .filter(lambda row: row[2] not in  movie_ids)\\\n",
    "                                      .map(lambda row: (user_id, row[1] ) ).distinct()\n",
    "    return unpurchased_wines"
   ]
  },
  {
   "cell_type": "code",
   "execution_count": 23,
   "metadata": {
    "collapsed": true
   },
   "outputs": [],
   "source": [
    "# run get_userID_moiveID_pairs \n",
    "# save output to variable unpurchased_wines\n"
   ]
  },
  {
   "cell_type": "code",
   "execution_count": 18,
   "metadata": {
    "collapsed": false
   },
   "outputs": [],
   "source": [
    "# use the .take method on unpurchased_wines\n",
    "# explain what the output is\n"
   ]
  },
  {
   "cell_type": "markdown",
   "metadata": {},
   "source": [
    "#### Get Recommendations for Single User"
   ]
  },
  {
   "cell_type": "code",
   "execution_count": 19,
   "metadata": {
    "collapsed": true
   },
   "outputs": [],
   "source": [
    "# Use the .predictAll on fitted_model to get recommendations for user\n",
    "# save the result to variable user_recs\n"
   ]
  },
  {
   "cell_type": "code",
   "execution_count": 27,
   "metadata": {
    "collapsed": false
   },
   "outputs": [
    {
     "data": {
      "text/plain": [
       "[Rating(user=0, product=185012, rating=4.508028184183978),\n",
       " Rating(user=0, product=354796, rating=3.740411353249598),\n",
       " Rating(user=0, product=364608, rating=6.7881637763544855),\n",
       " Rating(user=0, product=143464, rating=4.422797417105195),\n",
       " Rating(user=0, product=155312, rating=6.168732817161046)]"
      ]
     },
     "execution_count": 27,
     "metadata": {},
     "output_type": "execute_result"
    }
   ],
   "source": [
    "# your user recommendation should look something like this \n",
    "user_recs.take(5)"
   ]
  },
  {
   "cell_type": "markdown",
   "metadata": {},
   "source": [
    "### Distribution of Predicted Ratings for User"
   ]
  },
  {
   "cell_type": "code",
   "execution_count": 20,
   "metadata": {
    "collapsed": true
   },
   "outputs": [],
   "source": [
    "# user the .collect method to pull all the ratings from user_recs into memory and save it to a local variable\n",
    "# save the output to variable local_ratings\n"
   ]
  },
  {
   "cell_type": "code",
   "execution_count": null,
   "metadata": {
    "collapsed": false
   },
   "outputs": [],
   "source": [
    "# plot the distribution of the ratings from local_ratings\n"
   ]
  },
  {
   "cell_type": "markdown",
   "metadata": {},
   "source": [
    "### Apply Threshold"
   ]
  },
  {
   "cell_type": "code",
   "execution_count": 41,
   "metadata": {
    "collapsed": true
   },
   "outputs": [],
   "source": [
    "# value validated during cross validation \n",
    "threshold = 7"
   ]
  },
  {
   "cell_type": "code",
   "execution_count": 42,
   "metadata": {
    "collapsed": true
   },
   "outputs": [],
   "source": [
    "# filter recommendations from user_recs that are less than the threshold  \n",
    "# save the results to variable validated_user_recs\n"
   ]
  },
  {
   "cell_type": "markdown",
   "metadata": {},
   "source": [
    "### Make Recommendations Human Readable\n",
    "Retreive the users' customerhash and the wine's features"
   ]
  },
  {
   "cell_type": "code",
   "execution_count": 53,
   "metadata": {
    "collapsed": true
   },
   "outputs": [],
   "source": [
    "def format_user_recs(user_recs, products_rdd, cust_tag_bridge_rdd, thresh = 9):\n",
    "    '''Reformat user recommendations so it's human readable and in preperation for curation.\n",
    "       This function swaps the user_id back to the original user hash tag, and attachs the wine\n",
    "       features (i.e. productID, appellation, varieatl, ...) '''\n",
    "    \n",
    "    # value validated in Spark_Recommendation_Model_Validation notebook\n",
    "    threshold = thresh\n",
    "    validated_user_recs = user_recs.filter(lambda row: row[2] >= threshold )\n",
    "    \n",
    "    # format --> (product key, predicted rating, user hash tag)\n",
    "    wineID_rating_userHash = \\\n",
    "    validated_user_recs.map(lambda row:  (row[0], (row[1], row[2]) )  )\\\n",
    "                       .join(cust_tag_bridge_rdd\\\n",
    "                       .map(lambda row: (row[1], row[0])))\\\n",
    "                       .map(lambda row: (row[1][0][0],\n",
    "                                        (row[1][0][1],\n",
    "                                         row[1][1] ) ))  \n",
    "            \n",
    "            \n",
    "         \n",
    "            \n",
    "            \n",
    "    # Key:Value pair RDD\n",
    "    # format --> (custumer tag, (productKey , productID, Appellation, Varietal, Vineyard, wine type, Rating  ) )  \n",
    "    clean_user_recs = \\\n",
    "    wineID_rating_userHash.join(products_rdd)\\\n",
    "                          .map(lambda row: ( row[1][0][1], \n",
    "                                             (row[0], \n",
    "                                              row[1][1][0], \n",
    "                                              row[1][1][1], \n",
    "                                              row[1][1][2], \n",
    "                                              row[1][1][3],\n",
    "                                              row[1][1][4],\n",
    "                                              row[1][0][0])))\n",
    "    return clean_user_recs"
   ]
  },
  {
   "cell_type": "code",
   "execution_count": 54,
   "metadata": {
    "collapsed": true
   },
   "outputs": [],
   "source": [
    "# run create_products_rdd\n",
    "# save output to variable products_rdd\n",
    "\n"
   ]
  },
  {
   "cell_type": "code",
   "execution_count": 21,
   "metadata": {
    "collapsed": false
   },
   "outputs": [],
   "source": [
    "# (custumer tag,  (productKey , productID, Appellation, Varietal, Vineyard, wine type, Rating  ) )\n",
    "\n",
    "# run format_user_recs\n",
    "# save output to clean_user_recs_rdd\n"
   ]
  },
  {
   "cell_type": "markdown",
   "metadata": {},
   "source": [
    "The output of the clean_user_recs_rdd function are our semi-final recommendations for the user. Each recommended wine appears in a tuple with several other feautres as key-value pairs \n",
    "\n",
    "**(custumer tag,   (productKey , productID, Appellation, Varietal, Vineyard, wine type, Rating  ) )**\n",
    "\n"
   ]
  },
  {
   "cell_type": "code",
   "execution_count": 71,
   "metadata": {
    "collapsed": false
   },
   "outputs": [
    {
     "data": {
      "text/plain": [
       "[('00000F7264C27BA6FEA0C837ED6AA0AA',\n",
       "  (12,\n",
       "   118342,\n",
       "   'Other Spain',\n",
       "   'Grenache',\n",
       "   'Evodia',\n",
       "   'Red Wines',\n",
       "   8.024590131168189)),\n",
       " ('00000F7264C27BA6FEA0C837ED6AA0AA',\n",
       "  (262164,\n",
       "   85231,\n",
       "   'Other California',\n",
       "   'Pinot Noir',\n",
       "   'Camelot',\n",
       "   'Red Wines',\n",
       "   8.190527720509952))]"
      ]
     },
     "execution_count": 71,
     "metadata": {},
     "output_type": "execute_result"
    }
   ],
   "source": [
    "# your output should look something like this \n",
    "clean_user_recs_rdd.take(2)"
   ]
  },
  {
   "cell_type": "markdown",
   "metadata": {},
   "source": [
    "### 7. Curate Recommendations into Varietal \"Sub-Genres\"\n",
    "\n",
    "Now that we have our recommendations, we need to think about how we are going to select from among them and how we going to present the recommendations to the user. \n",
    "\n",
    "We are going to select the top 3 rated wines from the top 3 most recommended varietals. "
   ]
  },
  {
   "cell_type": "code",
   "execution_count": 75,
   "metadata": {
    "collapsed": true
   },
   "outputs": [],
   "source": [
    "def curate_top_wines(top_varietal_recs, top_varietals):\n",
    "    final_recs = defaultdict(list)\n",
    "    for var in top_varietals:\n",
    "        var_cnt = 1\n",
    "        for row in top_varietal_recs:\n",
    "            if row[1][3] == var:\n",
    "                # number of varietals is hard coded -- modify this if you desire \n",
    "                if var_cnt <= 3:\n",
    "                    var_cnt += 1\n",
    "                    final_recs[row[0]].append(row[1][:-1])\n",
    "    return final_recs"
   ]
  },
  {
   "cell_type": "code",
   "execution_count": 76,
   "metadata": {
    "collapsed": true
   },
   "outputs": [],
   "source": [
    "def get_top_rec_varietals(clean_user_recs):\n",
    "    '''Returns the top 3 wines from the top 3 varietals for user'''\n",
    "    \n",
    "    # { custumer tag : (productKey , productID, Appellation, Varietal, Vineyard, wine type, Rating  ) }\n",
    "    user_recs_key_value_tuple = clean_user_recs.collect()\n",
    "    \n",
    "    # varietal name of wine  \n",
    "    varietals = [row[1][3] for row in user_recs_key_value_tuple]\n",
    "    \n",
    "    var_count = Counter(varietals)\n",
    "    \n",
    "    # get top 3 most recommender varietals for this user\n",
    "    # number of wines to return is hard coded -- modify this if you desire \n",
    "    top_varietals =  [row[0] for row in var_count.most_common()[0:3]] \n",
    "    \n",
    "    top_varietal_recs = clean_user_recs.filter(lambda row: row[1][3] in  top_varietals ).collect()\n",
    "    \n",
    "    return curate_top_wines(top_varietal_recs, top_varietals)"
   ]
  },
  {
   "cell_type": "code",
   "execution_count": 77,
   "metadata": {
    "collapsed": false
   },
   "outputs": [],
   "source": [
    "# run get_top_rec_varietals\n",
    "# save output to final_recs\n"
   ]
  },
  {
   "cell_type": "code",
   "execution_count": 80,
   "metadata": {
    "collapsed": false
   },
   "outputs": [
    {
     "name": "stdout",
     "output_type": "stream",
     "text": [
      "['00000F7264C27BA6FEA0C837ED6AA0AA']\n"
     ]
    },
    {
     "data": {
      "text/plain": [
       "[(262188,\n",
       "  84808,\n",
       "  'Sonoma County',\n",
       "  'Chardonnay',\n",
       "  'Kendall-Jackson',\n",
       "  'White Wines'),\n",
       " (262260, 78140, 'Santa Maria Valley', 'Chardonnay', 'Cambria', 'White Wines'),\n",
       " (393468, 79324, 'Willamette Valley', 'Chardonnay', 'Argyle', 'White Wines'),\n",
       " (262596,\n",
       "  75352,\n",
       "  'Other California',\n",
       "  'Sauvignon Blanc',\n",
       "  'Dancing Bull',\n",
       "  'White Wines'),\n",
       " (900, 129813, 'Other California', 'Sauvignon Blanc', 'Rusack', 'White Wines'),\n",
       " (415212,\n",
       "  84980,\n",
       "  'Columbia Valley',\n",
       "  'Sauvignon Blanc',\n",
       "  'Barnard Griffin',\n",
       "  'White Wines'),\n",
       " (131928, 92229, 'Napa Valley', 'Cabernet Sauvignon', 'Duckhorn', 'Red Wines'),\n",
       " (394824,\n",
       "  73461,\n",
       "  'South Africa',\n",
       "  'Cabernet Sauvignon',\n",
       "  'Graham Beck',\n",
       "  'Red Wines'),\n",
       " (263988, 113108, 'Sonoma County', 'Cabernet Sauvignon', 'Simi', 'Red Wines')]"
      ]
     },
     "execution_count": 80,
     "metadata": {},
     "output_type": "execute_result"
    }
   ],
   "source": [
    "# your output should looks similar \n",
    "# {custumer tag : (productKey , productID, Appellation, Varietal, Vineyard, wine type ) )\n",
    "print final_recs.keys()\n",
    "final_recs.values()[0]"
   ]
  }
 ],
 "metadata": {
  "kernelspec": {
   "display_name": "Python [conda env:dsi]",
   "language": "python",
   "name": "conda-env-dsi-py"
  },
  "language_info": {
   "codemirror_mode": {
    "name": "ipython",
    "version": 2
   },
   "file_extension": ".py",
   "mimetype": "text/x-python",
   "name": "python",
   "nbconvert_exporter": "python",
   "pygments_lexer": "ipython2",
   "version": "2.7.13"
  }
 },
 "nbformat": 4,
 "nbformat_minor": 2
}
