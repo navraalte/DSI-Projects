{
 "cells": [
  {
   "cell_type": "markdown",
   "metadata": {},
   "source": [
    "<img src = http://i.imgur.com/83ydy1r.png>"
   ]
  },
  {
   "cell_type": "markdown",
   "metadata": {},
   "source": [
    "##  Latent Semantic Analysis (LSA) and Latent Dirchlet Allocation (LDA)\n",
    "### Lesson Objectives: \n",
    "- Build information and document retrieval pipelines using LSA and LDA \n",
    "- Explain LSA, LDA to grandmother \n",
    "- Train and test LDA Models \n",
    "\n",
    "\n",
    "### Lesson Prereqs: \n",
    "- Vector Spaces \n",
    "- Similarity Measures: Cosine Similarity, Euclidean Distance \n",
    "- TF-IDF \n",
    "- Count Vectors \n",
    "\n",
    "> **Check**: What is a vector space? \n",
    "\n",
    "> **Check**: What is TF-IDF? \n",
    "\n",
    "<img src= https://camo.githubusercontent.com/9cc6e73239f696be8e271e8475313629d0fbd090/68747470733a2f2f736e61672e67792f6c62737556322e6a7067> \n",
    "\n",
    "<img src = https://camo.githubusercontent.com/b0e55232d21bf1eda7a03c461bbcfa7e14141fb8/68747470733a2f2f736e61672e67792f596467784b7a2e6a7067> \n",
    "\n",
    "<img src = https://camo.githubusercontent.com/c674c5254d0f36ab0dff72fc3ab286322bf7012b/68747470733a2f2f736e61672e67792f437472364f4c2e6a7067> \n",
    "\n",
    "<img src= https://camo.githubusercontent.com/1267c9c60f2224fd36ed1e98c75a2d5974c15453/68747470733a2f2f736e61672e67792f6f6239556d382e6a7067>"
   ]
  },
  {
   "cell_type": "markdown",
   "metadata": {
    "collapsed": true
   },
   "source": [
    "<img src = http://i.imgur.com/sWec30N.png>\n",
    "\n",
    "<img src = http://i.imgur.com/rcolBSq.png>"
   ]
  },
  {
   "cell_type": "code",
   "execution_count": 1,
   "metadata": {
    "collapsed": false
   },
   "outputs": [
    {
     "data": {
      "text/html": [
       "<div>\n",
       "<table border=\"1\" class=\"dataframe\">\n",
       "  <thead>\n",
       "    <tr style=\"text-align: right;\">\n",
       "      <th></th>\n",
       "      <th>cool</th>\n",
       "      <th>data</th>\n",
       "      <th>football</th>\n",
       "      <th>fun</th>\n",
       "      <th>great</th>\n",
       "      <th>learning</th>\n",
       "      <th>like</th>\n",
       "      <th>machine</th>\n",
       "      <th>python</th>\n",
       "      <th>science</th>\n",
       "      <th>statistics</th>\n",
       "      <th>super</th>\n",
       "      <th>watch</th>\n",
       "    </tr>\n",
       "  </thead>\n",
       "  <tbody>\n",
       "    <tr>\n",
       "      <th>Machine learning is super fun</th>\n",
       "      <td>0</td>\n",
       "      <td>0</td>\n",
       "      <td>0</td>\n",
       "      <td>1</td>\n",
       "      <td>0</td>\n",
       "      <td>1</td>\n",
       "      <td>0</td>\n",
       "      <td>1</td>\n",
       "      <td>0</td>\n",
       "      <td>0</td>\n",
       "      <td>0</td>\n",
       "      <td>1</td>\n",
       "      <td>0</td>\n",
       "    </tr>\n",
       "    <tr>\n",
       "      <th>Python is super, super cool</th>\n",
       "      <td>1</td>\n",
       "      <td>0</td>\n",
       "      <td>0</td>\n",
       "      <td>0</td>\n",
       "      <td>0</td>\n",
       "      <td>0</td>\n",
       "      <td>0</td>\n",
       "      <td>0</td>\n",
       "      <td>1</td>\n",
       "      <td>0</td>\n",
       "      <td>0</td>\n",
       "      <td>2</td>\n",
       "      <td>0</td>\n",
       "    </tr>\n",
       "    <tr>\n",
       "      <th>Statistics is cool, too</th>\n",
       "      <td>1</td>\n",
       "      <td>0</td>\n",
       "      <td>0</td>\n",
       "      <td>0</td>\n",
       "      <td>0</td>\n",
       "      <td>0</td>\n",
       "      <td>0</td>\n",
       "      <td>0</td>\n",
       "      <td>0</td>\n",
       "      <td>0</td>\n",
       "      <td>1</td>\n",
       "      <td>0</td>\n",
       "      <td>0</td>\n",
       "    </tr>\n",
       "    <tr>\n",
       "      <th>Data science is fun</th>\n",
       "      <td>0</td>\n",
       "      <td>1</td>\n",
       "      <td>0</td>\n",
       "      <td>1</td>\n",
       "      <td>0</td>\n",
       "      <td>0</td>\n",
       "      <td>0</td>\n",
       "      <td>0</td>\n",
       "      <td>0</td>\n",
       "      <td>1</td>\n",
       "      <td>0</td>\n",
       "      <td>0</td>\n",
       "      <td>0</td>\n",
       "    </tr>\n",
       "    <tr>\n",
       "      <th>Python is great for machine learning</th>\n",
       "      <td>0</td>\n",
       "      <td>0</td>\n",
       "      <td>0</td>\n",
       "      <td>0</td>\n",
       "      <td>1</td>\n",
       "      <td>1</td>\n",
       "      <td>0</td>\n",
       "      <td>1</td>\n",
       "      <td>1</td>\n",
       "      <td>0</td>\n",
       "      <td>0</td>\n",
       "      <td>0</td>\n",
       "      <td>0</td>\n",
       "    </tr>\n",
       "    <tr>\n",
       "      <th>I like football</th>\n",
       "      <td>0</td>\n",
       "      <td>0</td>\n",
       "      <td>1</td>\n",
       "      <td>0</td>\n",
       "      <td>0</td>\n",
       "      <td>0</td>\n",
       "      <td>1</td>\n",
       "      <td>0</td>\n",
       "      <td>0</td>\n",
       "      <td>0</td>\n",
       "      <td>0</td>\n",
       "      <td>0</td>\n",
       "      <td>0</td>\n",
       "    </tr>\n",
       "    <tr>\n",
       "      <th>Football is great to watch</th>\n",
       "      <td>0</td>\n",
       "      <td>0</td>\n",
       "      <td>1</td>\n",
       "      <td>0</td>\n",
       "      <td>1</td>\n",
       "      <td>0</td>\n",
       "      <td>0</td>\n",
       "      <td>0</td>\n",
       "      <td>0</td>\n",
       "      <td>0</td>\n",
       "      <td>0</td>\n",
       "      <td>0</td>\n",
       "      <td>1</td>\n",
       "    </tr>\n",
       "  </tbody>\n",
       "</table>\n",
       "</div>"
      ],
      "text/plain": [
       "                                      cool  data  football  fun  great  \\\n",
       "Machine learning is super fun            0     0         0    1      0   \n",
       "Python is super, super cool              1     0         0    0      0   \n",
       "Statistics is cool, too                  1     0         0    0      0   \n",
       "Data science is fun                      0     1         0    1      0   \n",
       "Python is great for machine learning     0     0         0    0      1   \n",
       "I like football                          0     0         1    0      0   \n",
       "Football is great to watch               0     0         1    0      1   \n",
       "\n",
       "                                      learning  like  machine  python  \\\n",
       "Machine learning is super fun                1     0        1       0   \n",
       "Python is super, super cool                  0     0        0       1   \n",
       "Statistics is cool, too                      0     0        0       0   \n",
       "Data science is fun                          0     0        0       0   \n",
       "Python is great for machine learning         1     0        1       1   \n",
       "I like football                              0     1        0       0   \n",
       "Football is great to watch                   0     0        0       0   \n",
       "\n",
       "                                      science  statistics  super  watch  \n",
       "Machine learning is super fun               0           0      1      0  \n",
       "Python is super, super cool                 0           0      2      0  \n",
       "Statistics is cool, too                     0           1      0      0  \n",
       "Data science is fun                         1           0      0      0  \n",
       "Python is great for machine learning        0           0      0      0  \n",
       "I like football                             0           0      0      0  \n",
       "Football is great to watch                  0           0      0      1  "
      ]
     },
     "execution_count": 1,
     "metadata": {},
     "output_type": "execute_result"
    }
   ],
   "source": [
    "import sklearn\n",
    "# Import all of the scikit learn stuff\n",
    "from __future__ import print_function\n",
    "from sklearn.decomposition import TruncatedSVD\n",
    "from sklearn.feature_extraction.text import TfidfVectorizer\n",
    "from sklearn.feature_extraction.text import CountVectorizer\n",
    "from sklearn.preprocessing import Normalizer\n",
    "from sklearn import metrics\n",
    "from sklearn.cluster import KMeans, MiniBatchKMeans\n",
    "import pandas as pd\n",
    "import numpy \n",
    "import warnings\n",
    "# Suppress warnings from pandas library\n",
    "\n",
    "warnings.filterwarnings(\"ignore\", category=DeprecationWarning, module=\"pandas\", lineno=570)\n",
    "\n",
    "example = [\"Machine learning is super fun\", \"Python is super, super cool\", \"Statistics is cool, too\", \n",
    "           \"Data science is fun\", \"Python is great for machine learning\", \"I like football\", \n",
    "           \"Football is great to watch\"]\n",
    "\n",
    "vectorizer = CountVectorizer(min_df = 1, stop_words = 'english')\n",
    "dtm = vectorizer.fit_transform(example)\n",
    "pd.DataFrame(dtm.toarray(),index=example,columns=vectorizer.get_feature_names()).head(10)"
   ]
  },
  {
   "cell_type": "code",
   "execution_count": 2,
   "metadata": {
    "collapsed": false
   },
   "outputs": [
    {
     "data": {
      "text/html": [
       "<div>\n",
       "<table border=\"1\" class=\"dataframe\">\n",
       "  <thead>\n",
       "    <tr style=\"text-align: right;\">\n",
       "      <th></th>\n",
       "      <th>cool</th>\n",
       "      <th>data</th>\n",
       "      <th>football</th>\n",
       "      <th>fun</th>\n",
       "      <th>great</th>\n",
       "      <th>learning</th>\n",
       "      <th>like</th>\n",
       "      <th>machine</th>\n",
       "      <th>python</th>\n",
       "      <th>science</th>\n",
       "      <th>statistics</th>\n",
       "      <th>super</th>\n",
       "      <th>watch</th>\n",
       "    </tr>\n",
       "  </thead>\n",
       "  <tbody>\n",
       "    <tr>\n",
       "      <th>component_1</th>\n",
       "      <td>0.280004</td>\n",
       "      <td>0.035353</td>\n",
       "      <td>0.033417</td>\n",
       "      <td>0.223993</td>\n",
       "      <td>0.178307</td>\n",
       "      <td>0.338085</td>\n",
       "      <td>0.004555</td>\n",
       "      <td>0.338085</td>\n",
       "      <td>0.391281</td>\n",
       "      <td>0.035353</td>\n",
       "      <td>0.038169</td>\n",
       "      <td>0.672310</td>\n",
       "      <td>0.028861</td>\n",
       "    </tr>\n",
       "    <tr>\n",
       "      <th>component_2</th>\n",
       "      <td>0.365270</td>\n",
       "      <td>-0.064548</td>\n",
       "      <td>-0.298349</td>\n",
       "      <td>-0.168056</td>\n",
       "      <td>-0.478428</td>\n",
       "      <td>-0.366379</td>\n",
       "      <td>-0.082792</td>\n",
       "      <td>-0.366379</td>\n",
       "      <td>0.001036</td>\n",
       "      <td>-0.064548</td>\n",
       "      <td>0.101363</td>\n",
       "      <td>0.424306</td>\n",
       "      <td>-0.215557</td>\n",
       "    </tr>\n",
       "  </tbody>\n",
       "</table>\n",
       "</div>"
      ],
      "text/plain": [
       "                 cool      data  football       fun     great  learning  \\\n",
       "component_1  0.280004  0.035353  0.033417  0.223993  0.178307  0.338085   \n",
       "component_2  0.365270 -0.064548 -0.298349 -0.168056 -0.478428 -0.366379   \n",
       "\n",
       "                 like   machine    python   science  statistics     super  \\\n",
       "component_1  0.004555  0.338085  0.391281  0.035353    0.038169  0.672310   \n",
       "component_2 -0.082792 -0.366379  0.001036 -0.064548    0.101363  0.424306   \n",
       "\n",
       "                watch  \n",
       "component_1  0.028861  \n",
       "component_2 -0.215557  "
      ]
     },
     "execution_count": 2,
     "metadata": {},
     "output_type": "execute_result"
    }
   ],
   "source": [
    "# Fit LSA. Use algorithm = “randomized” for large datasets\n",
    "lsa = TruncatedSVD(2, algorithm = 'arpack')\n",
    "dtm_lsa = lsa.fit_transform(dtm)\n",
    "dtm_lsa = Normalizer(copy=False).fit_transform(dtm_lsa)\n",
    "\n",
    "pd.DataFrame(lsa.components_,index = [\"component_1\",\"component_2\"],columns =\n",
    "vectorizer.get_feature_names())"
   ]
  },
  {
   "cell_type": "code",
   "execution_count": 3,
   "metadata": {
    "collapsed": false
   },
   "outputs": [
    {
     "data": {
      "text/plain": [
       "([0.95702439393037986,\n",
       "  0.85648370973755494,\n",
       "  0.56335489155638829,\n",
       "  0.70417108799801786,\n",
       "  0.71728390345517257,\n",
       "  0.099136388426341648,\n",
       "  0.23561831047045323],\n",
       " [-0.29000742994307738,\n",
       "  0.5161740549022158,\n",
       "  0.82621502416712933,\n",
       "  -0.71003033655449399,\n",
       "  -0.69678102861954461,\n",
       "  -0.99507385479158361,\n",
       "  -0.97184567281593093])"
      ]
     },
     "execution_count": 3,
     "metadata": {},
     "output_type": "execute_result"
    }
   ],
   "source": [
    "xs = [w[0] for w in dtm_lsa]\n",
    "ys = [w[1] for w in dtm_lsa]\n",
    "xs, ys"
   ]
  },
  {
   "cell_type": "code",
   "execution_count": 4,
   "metadata": {
    "collapsed": false
   },
   "outputs": [
    {
     "name": "stdout",
     "output_type": "stream",
     "text": [
      "Populating the interactive namespace from numpy and matplotlib\n"
     ]
    },
    {
     "data": {
      "text/plain": [
       "<matplotlib.text.Text at 0x1095cb310>"
      ]
     },
     "execution_count": 4,
     "metadata": {},
     "output_type": "execute_result"
    },
    {
     "data": {
      "image/png": "[encoded data removed]",
      "text/plain": [
       "<matplotlib.figure.Figure at 0x104357810>"
      ]
     },
     "metadata": {},
     "output_type": "display_data"
    }
   ],
   "source": [
    "# Plot scatter plot of points\n",
    "%pylab inline\n",
    "import matplotlib.pyplot as plt\n",
    "figure()\n",
    "plt.scatter(xs,ys)\n",
    "xlabel('First principal component')\n",
    "ylabel('Second principal component')\n",
    "title('Plot of points against LSA principal components')"
   ]
  },
  {
   "cell_type": "code",
   "execution_count": 5,
   "metadata": {
    "collapsed": false
   },
   "outputs": [
    {
     "name": "stdout",
     "output_type": "stream",
     "text": [
      "Populating the interactive namespace from numpy and matplotlib\n"
     ]
    },
    {
     "data": {
      "image/png": "[encoded data removed]",
      "text/plain": [
       "<matplotlib.figure.Figure at 0x10782cd90>"
      ]
     },
     "metadata": {},
     "output_type": "display_data"
    }
   ],
   "source": [
    "# Plot scatter plot of points with vectors\n",
    "%pylab inline\n",
    "import matplotlib.pyplot as plt\n",
    "plt.figure()\n",
    "ax = plt.gca()\n",
    "ax.quiver(0,0,xs,ys,angles='xy',scale_units='xy',scale=1, linewidth = .01)\n",
    "ax.set_xlim([-1,1])\n",
    "ax.set_ylim([-1,1])\n",
    "xlabel('First principal component')\n",
    "ylabel('Second principal component')\n",
    "title('Plot of points against LSA principal components')\n",
    "plt.draw()\n",
    "plt.show()"
   ]
  },
  {
   "cell_type": "code",
   "execution_count": 6,
   "metadata": {
    "collapsed": false
   },
   "outputs": [
    {
     "data": {
      "text/html": [
       "<div>\n",
       "<table border=\"1\" class=\"dataframe\">\n",
       "  <thead>\n",
       "    <tr style=\"text-align: right;\">\n",
       "      <th></th>\n",
       "      <th>Machine learning is super fun</th>\n",
       "      <th>Python is super, super cool</th>\n",
       "      <th>Statistics is cool, too</th>\n",
       "      <th>Data science is fun</th>\n",
       "      <th>Python is great for machine learning</th>\n",
       "      <th>I like football</th>\n",
       "      <th>Football is great to watch</th>\n",
       "    </tr>\n",
       "  </thead>\n",
       "  <tbody>\n",
       "    <tr>\n",
       "      <th>Machine learning is super fun</th>\n",
       "      <td>1.000000</td>\n",
       "      <td>0.669981</td>\n",
       "      <td>0.299536</td>\n",
       "      <td>0.879823</td>\n",
       "      <td>0.888530</td>\n",
       "      <td>0.383455</td>\n",
       "      <td>0.507335</td>\n",
       "    </tr>\n",
       "    <tr>\n",
       "      <th>Python is super, super cool</th>\n",
       "      <td>0.669981</td>\n",
       "      <td>1.000000</td>\n",
       "      <td>0.908975</td>\n",
       "      <td>0.236612</td>\n",
       "      <td>0.254682</td>\n",
       "      <td>-0.428723</td>\n",
       "      <td>-0.299838</td>\n",
       "    </tr>\n",
       "    <tr>\n",
       "      <th>Statistics is cool, too</th>\n",
       "      <td>0.299536</td>\n",
       "      <td>0.908975</td>\n",
       "      <td>1.000000</td>\n",
       "      <td>-0.189940</td>\n",
       "      <td>-0.171606</td>\n",
       "      <td>-0.766296</td>\n",
       "      <td>-0.670217</td>\n",
       "    </tr>\n",
       "    <tr>\n",
       "      <th>Data science is fun</th>\n",
       "      <td>0.879823</td>\n",
       "      <td>0.236612</td>\n",
       "      <td>-0.189940</td>\n",
       "      <td>1.000000</td>\n",
       "      <td>0.999826</td>\n",
       "      <td>0.776342</td>\n",
       "      <td>0.855956</td>\n",
       "    </tr>\n",
       "    <tr>\n",
       "      <th>Python is great for machine learning</th>\n",
       "      <td>0.888530</td>\n",
       "      <td>0.254682</td>\n",
       "      <td>-0.171606</td>\n",
       "      <td>0.999826</td>\n",
       "      <td>1.000000</td>\n",
       "      <td>0.764458</td>\n",
       "      <td>0.846169</td>\n",
       "    </tr>\n",
       "    <tr>\n",
       "      <th>I like football</th>\n",
       "      <td>0.383455</td>\n",
       "      <td>-0.428723</td>\n",
       "      <td>-0.766296</td>\n",
       "      <td>0.776342</td>\n",
       "      <td>0.764458</td>\n",
       "      <td>1.000000</td>\n",
       "      <td>0.990417</td>\n",
       "    </tr>\n",
       "    <tr>\n",
       "      <th>Football is great to watch</th>\n",
       "      <td>0.507335</td>\n",
       "      <td>-0.299838</td>\n",
       "      <td>-0.670217</td>\n",
       "      <td>0.855956</td>\n",
       "      <td>0.846169</td>\n",
       "      <td>0.990417</td>\n",
       "      <td>1.000000</td>\n",
       "    </tr>\n",
       "  </tbody>\n",
       "</table>\n",
       "</div>"
      ],
      "text/plain": [
       "                                      Machine learning is super fun  \\\n",
       "Machine learning is super fun                              1.000000   \n",
       "Python is super, super cool                                0.669981   \n",
       "Statistics is cool, too                                    0.299536   \n",
       "Data science is fun                                        0.879823   \n",
       "Python is great for machine learning                       0.888530   \n",
       "I like football                                            0.383455   \n",
       "Football is great to watch                                 0.507335   \n",
       "\n",
       "                                      Python is super, super cool  \\\n",
       "Machine learning is super fun                            0.669981   \n",
       "Python is super, super cool                              1.000000   \n",
       "Statistics is cool, too                                  0.908975   \n",
       "Data science is fun                                      0.236612   \n",
       "Python is great for machine learning                     0.254682   \n",
       "I like football                                         -0.428723   \n",
       "Football is great to watch                              -0.299838   \n",
       "\n",
       "                                      Statistics is cool, too  \\\n",
       "Machine learning is super fun                        0.299536   \n",
       "Python is super, super cool                          0.908975   \n",
       "Statistics is cool, too                              1.000000   \n",
       "Data science is fun                                 -0.189940   \n",
       "Python is great for machine learning                -0.171606   \n",
       "I like football                                     -0.766296   \n",
       "Football is great to watch                          -0.670217   \n",
       "\n",
       "                                      Data science is fun  \\\n",
       "Machine learning is super fun                    0.879823   \n",
       "Python is super, super cool                      0.236612   \n",
       "Statistics is cool, too                         -0.189940   \n",
       "Data science is fun                              1.000000   \n",
       "Python is great for machine learning             0.999826   \n",
       "I like football                                  0.776342   \n",
       "Football is great to watch                       0.855956   \n",
       "\n",
       "                                      Python is great for machine learning  \\\n",
       "Machine learning is super fun                                     0.888530   \n",
       "Python is super, super cool                                       0.254682   \n",
       "Statistics is cool, too                                          -0.171606   \n",
       "Data science is fun                                               0.999826   \n",
       "Python is great for machine learning                              1.000000   \n",
       "I like football                                                   0.764458   \n",
       "Football is great to watch                                        0.846169   \n",
       "\n",
       "                                      I like football  \\\n",
       "Machine learning is super fun                0.383455   \n",
       "Python is super, super cool                 -0.428723   \n",
       "Statistics is cool, too                     -0.766296   \n",
       "Data science is fun                          0.776342   \n",
       "Python is great for machine learning         0.764458   \n",
       "I like football                              1.000000   \n",
       "Football is great to watch                   0.990417   \n",
       "\n",
       "                                      Football is great to watch  \n",
       "Machine learning is super fun                           0.507335  \n",
       "Python is super, super cool                            -0.299838  \n",
       "Statistics is cool, too                                -0.670217  \n",
       "Data science is fun                                     0.855956  \n",
       "Python is great for machine learning                    0.846169  \n",
       "I like football                                         0.990417  \n",
       "Football is great to watch                              1.000000  "
      ]
     },
     "execution_count": 6,
     "metadata": {},
     "output_type": "execute_result"
    }
   ],
   "source": [
    "# Compute document similarity using LSA components\n",
    "similarity = np.asarray(numpy.asmatrix(dtm_lsa) * numpy.asmatrix(dtm_lsa).T)\n",
    "pd.DataFrame(similarity,index=example, columns=example).head(10)"
   ]
  },
  {
   "cell_type": "markdown",
   "metadata": {},
   "source": [
    "### <a href = http://blog.echen.me/2011/08/22/introduction-to-latent-dirichlet-allocation/> LDA for Grandmas (15 Minute Read) </a>\n",
    "\n",
    "<a href=https://www.youtube.com/watch?v=3mHy4OSyRf0> LDA Introduction </a>\n",
    "\n",
    "## First, choose K topics\n",
    "\n",
    "Kind of like KNN but we are deciding, up front, on a preset number of topics.\n",
    "\n",
    "## Calculate Word / Topic Probabilities\n",
    "\n",
    "![](https://snag.gy/yx9grm.jpg)\n",
    "\n",
    "**For each possible topic Z, and each word:**\n",
    "1. Multiply the frequency of the word by the total number of words already in topic Z\n",
    "\n",
    "This gives us a probability that each word exists in the preset number of topics.\n",
    "\n",
    "> The term here that is unfamilliar is a hyperparameter, *alpha*.  In this case, alpha is a scaler that helps minimize an error term.  Thankfully, most LDA models that are implented will set this automatically and it's usually, 95% of the time, a fine solution.  To really get a strong handle of the math behind this model, there are whitepapers you can read.  Also, having a strong handle on Bayesian statistis is a must to really grasp this model at it's lowest levels.  We are not going there today!\n",
    "\n",
    "> One problem **alpha** solves is leaving the window of opportunity open when a word may only belong in a single topic, that doesn't exist in any others.\n",
    "\n",
    "\n"
   ]
  },
  {
   "cell_type": "markdown",
   "metadata": {},
   "source": [
    "## Calculate Word / Topic Probabilities\n",
    "\n",
    "![](https://snag.gy/yx9grm.jpg)\n",
    "\n",
    "**For each possible topic Z, and each word:**\n",
    "1. Multiply the frequency of the word by the total number of words already in topic Z\n",
    "\n",
    "This gives us a probability that each word exists in the preset number of topics.\n",
    "\n",
    "> The term here that is unfamilliar is a hyperparameter, *alpha*.  In this case, alpha is a scaler that helps minimize an error term.  Thankfully, most LDA models that are implented will set this automatically and it's usually, 95% of the time, a fine solution.  To really get a strong handle of the math behind this model, there are whitepapers you can read.  Also, having a strong handle on Bayesian statistis is a must to really grasp this model at it's lowest levels.  We are not going there today!\n",
    "\n",
    "> One problem **alpha** solves is leaving the window of opportunity open when a word may only belong in a single topic, that doesn't exist in any others."
   ]
  },
  {
   "cell_type": "markdown",
   "metadata": {},
   "source": [
    "## LDA Intuition\n",
    " \n",
    "Using the previous assumption about how words are assigned to topics, as we iterate through each word in our corpus, and assign to topics:\n",
    "\n",
    "1. Words become more common in topics where they are already common.\n",
    "1. Topics will become more common in documents where they are already common.\n",
    "\n",
    "**With LDA**:\n",
    "- Words are assigned to topics randomly at first\n",
    "- As words are found to be consistently distributed within topics, the model achieves a sort of balance based on the distribution of words accross all documents."
   ]
  },
  {
   "cell_type": "markdown",
   "metadata": {},
   "source": [
    "### (Optional) LDA Math...\n",
    "\n",
    "<img src= http://i.imgur.com/HRRK6k0.png>"
   ]
  },
  {
   "cell_type": "markdown",
   "metadata": {},
   "source": [
    "### Parameters of LDA\n",
    "\n",
    "$\\alpha$ and $\\beta$ Hyperparameters: \n",
    "- $\\alpha$ represents document-topic density and Beta represents topic-word density. Higher the value of $\\alpha$, documents are composed of more topics and lower the value of $\\alpha$, documents contain fewer topics. \n",
    "\n",
    "- On the other hand, higher the $\\beta$, topics are composed of a large number of words in the corpus, and with the lower value of beta, they are composed of few words.\n",
    "\n",
    "Number of Topics – Number of topics to be extracted from the corpus. Researchers have developed approaches to obtain an optimal number of topics by using Kullback Leibler Divergence Score. \n",
    "\n",
    "Number of Topic Terms – Number of terms composed in a single topic. It is generally decided according to the requirement. If the problem statement talks about extracting themes or concepts, it is recommended to choose a higher number, if problem statement talks about extracting features or terms, a low number is recommended.\n",
    "\n",
    "Number of Iterations / passes – Maximum number of iterations allowed to LDA algorithm for convergence.\n",
    "\n"
   ]
  },
  {
   "cell_type": "markdown",
   "metadata": {},
   "source": [
    "## LDA Challenges\n",
    "\n",
    "1. **There's a bit of entropy to topics.**\n",
    "There can be between %1-10 shift in what is generated in LDA models.  You may not get the same thing 2x!\n",
    "\n",
    "1. **Can be very difficult to assess.**\n",
    "If you have a large corpus, with many topics (>10), it's damn near impossible to visualize the distribution of documents to topics.\n",
    "\n",
    "1. **Preprocessing is heavy.**\n",
    "To get the most out of LDA, cleaning stopwords, and specific language can be a challenging task.  Sometimes it's difficult to avoid the noise involved with this model.\n",
    "\n",
    "1. **SME is necessary for accurate topic assessment.**\n",
    "The more straight forward your text is, the less subject matter expertise is required.  A more advanced use of LDA would involve assessing documents with lots of idiomtic language. Knowing what topics are found, can be subjective.\n",
    "\n",
    "1.  **Determining what topics mean, is tricky.**\n",
    "A collection of world probabiltiies generally isn't very intuitive.  You could take the first word and use that as your topic \"label\".  Hence, subject matter expertise.\n",
    "\n",
    "1. **LDA is unsupervised.**\n",
    "It's not possible to know what is \"correct\".  The repsonse topics are generated, hence this is why LDA is known as a \"generative\" model. \n",
    "\n",
    "1. **Tuning your LDA model can be tough.\"**\n",
    "With other unsupervised models, it's possible to tune for the parameter **K** *number of topics*, but it's not necessarily a very accurate method.  There are things you can do to assess the main paramter **K**.\n",
    "\n"
   ]
  },
  {
   "cell_type": "markdown",
   "metadata": {},
   "source": [
    "## LDA Strengths\n",
    "\n",
    "1. **It can be very strong performer in production.**\n",
    "After you build the model, it can easily be used \"online\".\n",
    "> \"Online\" training allows you to update your model with more training data without having to refit all your data.  Only new data can be fit globally.\n",
    "\n",
    "1.  **It's easy to get a quick sense of what a large body of text is broadly \"about\", without having to read all of it.** Rather than reading 12k PDF's on corproate policies, you could extract the text, and run LDA to see what generalities it finds.\n",
    "1.  **Easily classify / tag documents by topic.**\n",
    "1.  **It can \"just work\" out of the box.**  However, your mileage will vary depending on your preprocessing."
   ]
  },
  {
   "cell_type": "markdown",
   "metadata": {},
   "source": [
    "## Other Types of LDA models\n",
    "\n",
    "- Topics Over Time\n",
    "- Dynamic Topic Modeling\n",
    "- Hierarchical LDA\n",
    "- Pachinko Allocation \n",
    "\n",
    "A cool new LDA model to look out for:\n",
    "\n",
    "- LDA2Vec"
   ]
  },
  {
   "cell_type": "markdown",
   "metadata": {},
   "source": [
    "### Evaluating LDA: \n",
    "- Perplexity to Evaluate: <a href=https://www.youtube.com/watch?v=OHyVNCvnsTo> Stanford NLP </a> \n",
    "- Extrinsic Evaluations: Human Evaluation, Mechanical Turkers"
   ]
  },
  {
   "cell_type": "markdown",
   "metadata": {},
   "source": [
    "## LDA Codealong"
   ]
  },
  {
   "cell_type": "code",
   "execution_count": 14,
   "metadata": {
    "collapsed": false
   },
   "outputs": [],
   "source": [
    "#from gensim import corpora, models, matutils\n",
    "from gensim import corpora, models, matutils\n",
    "from sklearn.feature_extraction.text import CountVectorizer, TfidfVectorizer\n",
    "from collections import defaultdict\n",
    "import pandas as pd\n",
    "\n",
    "\n",
    "doc_a = \"Brocolli is good to eat. My brother likes to eat good brocolli, but not my mother.\"\n",
    "doc_b = \"My mother spends a lot of time driving my brother around to baseball practice.\"\n",
    "doc_c = \"Some health experts suggest that driving may cause increased tension and blood pressure.\"\n",
    "doc_d = \"I often feel pressure to perform well at school, but my mother never seems to drive my brother to do better.\"\n",
    "doc_e = \"Health professionals say that brocolli is good for your health.\"\n",
    "\n",
    "# compile sample documents into a list\n",
    "documents = [doc_a, doc_b, doc_c, doc_d, doc_e]\n",
    "df        = pd.DataFrame(documents, columns=['text'])"
   ]
  },
  {
   "cell_type": "code",
   "execution_count": 2,
   "metadata": {
    "collapsed": false
   },
   "outputs": [
    {
     "data": {
      "text/html": [
       "<div>\n",
       "<table border=\"1\" class=\"dataframe\">\n",
       "  <thead>\n",
       "    <tr style=\"text-align: right;\">\n",
       "      <th></th>\n",
       "      <th>text</th>\n",
       "    </tr>\n",
       "  </thead>\n",
       "  <tbody>\n",
       "    <tr>\n",
       "      <th>0</th>\n",
       "      <td>Brocolli is good to eat. My brother likes to e...</td>\n",
       "    </tr>\n",
       "    <tr>\n",
       "      <th>1</th>\n",
       "      <td>My mother spends a lot of time driving my brot...</td>\n",
       "    </tr>\n",
       "    <tr>\n",
       "      <th>2</th>\n",
       "      <td>Some health experts suggest that driving may c...</td>\n",
       "    </tr>\n",
       "    <tr>\n",
       "      <th>3</th>\n",
       "      <td>I often feel pressure to perform well at schoo...</td>\n",
       "    </tr>\n",
       "    <tr>\n",
       "      <th>4</th>\n",
       "      <td>Health professionals say that brocolli is good...</td>\n",
       "    </tr>\n",
       "  </tbody>\n",
       "</table>\n",
       "</div>"
      ],
      "text/plain": [
       "                                                text\n",
       "0  Brocolli is good to eat. My brother likes to e...\n",
       "1  My mother spends a lot of time driving my brot...\n",
       "2  Some health experts suggest that driving may c...\n",
       "3  I often feel pressure to perform well at schoo...\n",
       "4  Health professionals say that brocolli is good..."
      ]
     },
     "execution_count": 2,
     "metadata": {},
     "output_type": "execute_result"
    }
   ],
   "source": [
    "df"
   ]
  },
  {
   "cell_type": "code",
   "execution_count": 5,
   "metadata": {
    "collapsed": true
   },
   "outputs": [],
   "source": [
    "from sklearn.feature_extraction.text import ENGLISH_STOP_WORDS\n",
    "\n",
    "custom_stop_words = list(ENGLISH_STOP_WORDS)\n",
    "custom_stop_words.append('mother')\n",
    "custom_stop_words.append('brother')"
   ]
  },
  {
   "cell_type": "code",
   "execution_count": 6,
   "metadata": {
    "collapsed": true
   },
   "outputs": [],
   "source": [
    "vectorizer = CountVectorizer(stop_words=custom_stop_words)\n",
    "X = vectorizer.fit_transform(df['text'])\n"
   ]
  },
  {
   "cell_type": "markdown",
   "metadata": {},
   "source": [
    "## Check out the tokens that were saved, after stopword removal.\n",
    "\n",
    "Each token, has a value of it's feature offset in the internal matrix."
   ]
  },
  {
   "cell_type": "code",
   "execution_count": 7,
   "metadata": {
    "collapsed": false
   },
   "outputs": [
    {
     "data": {
      "text/plain": [
       "{u'baseball': 0,\n",
       " u'better': 1,\n",
       " u'blood': 2,\n",
       " u'brocolli': 3,\n",
       " u'cause': 4,\n",
       " u'drive': 5,\n",
       " u'driving': 6,\n",
       " u'eat': 7,\n",
       " u'experts': 8,\n",
       " u'feel': 9,\n",
       " u'good': 10,\n",
       " u'health': 11,\n",
       " u'increased': 12,\n",
       " u'likes': 13,\n",
       " u'lot': 14,\n",
       " u'perform': 15,\n",
       " u'practice': 16,\n",
       " u'pressure': 17,\n",
       " u'professionals': 18,\n",
       " u'say': 19,\n",
       " u'school': 20,\n",
       " u'spends': 21,\n",
       " u'suggest': 22,\n",
       " u'tension': 23,\n",
       " u'time': 24}"
      ]
     },
     "execution_count": 7,
     "metadata": {},
     "output_type": "execute_result"
    }
   ],
   "source": [
    "vectorizer.vocabulary_\n"
   ]
  },
  {
   "cell_type": "markdown",
   "metadata": {},
   "source": [
    "## Counts of tokens\n",
    "\n",
    "What is being counted?\n",
    "\n",
    "_Warning: big ugly sparse matrix ahead._"
   ]
  },
  {
   "cell_type": "code",
   "execution_count": 8,
   "metadata": {
    "collapsed": false
   },
   "outputs": [
    {
     "data": {
      "text/plain": [
       "baseball         1\n",
       "better           1\n",
       "blood            1\n",
       "brocolli         3\n",
       "cause            1\n",
       "drive            1\n",
       "driving          2\n",
       "eat              2\n",
       "experts          1\n",
       "feel             1\n",
       "good             3\n",
       "health           3\n",
       "increased        1\n",
       "likes            1\n",
       "lot              1\n",
       "perform          1\n",
       "practice         1\n",
       "pressure         2\n",
       "professionals    1\n",
       "say              1\n",
       "school           1\n",
       "spends           1\n",
       "suggest          1\n",
       "tension          1\n",
       "time             1\n",
       "dtype: int64"
      ]
     },
     "execution_count": 8,
     "metadata": {},
     "output_type": "execute_result"
    }
   ],
   "source": [
    "docs = pd.DataFrame(X.toarray(), columns=vectorizer.get_feature_names())\n",
    "docs.sum()"
   ]
  },
  {
   "cell_type": "markdown",
   "metadata": {},
   "source": [
    "## Setup LDA Model!\n",
    "\n",
    "First we setup the vocabulary.  We could do this in 1 of 2 ways.  The quick and dirty way is to build a dictionary with a keys representing the feature offset of the tokens in the matrix, with the tokens as values."
   ]
  },
  {
   "cell_type": "code",
   "execution_count": 9,
   "metadata": {
    "collapsed": false
   },
   "outputs": [
    {
     "data": {
      "text/plain": [
       "{0: u'baseball',\n",
       " 1: u'better',\n",
       " 2: u'blood',\n",
       " 3: u'brocolli',\n",
       " 4: u'cause',\n",
       " 5: u'drive',\n",
       " 6: u'driving',\n",
       " 7: u'eat',\n",
       " 8: u'experts',\n",
       " 9: u'feel',\n",
       " 10: u'good',\n",
       " 11: u'health',\n",
       " 12: u'increased',\n",
       " 13: u'likes',\n",
       " 14: u'lot',\n",
       " 15: u'perform',\n",
       " 16: u'practice',\n",
       " 17: u'pressure',\n",
       " 18: u'professionals',\n",
       " 19: u'say',\n",
       " 20: u'school',\n",
       " 21: u'spends',\n",
       " 22: u'suggest',\n",
       " 23: u'tension',\n",
       " 24: u'time'}"
      ]
     },
     "execution_count": 9,
     "metadata": {},
     "output_type": "execute_result"
    }
   ],
   "source": [
    "# This is the fastest way to swap a dictionary key / value order.  This is the format gensim LDA expects it's vocabulary.\n",
    "vocab = {v: k for k, v in vectorizer.vocabulary_.iteritems()}\n",
    "vocab"
   ]
  },
  {
   "cell_type": "code",
   "execution_count": 10,
   "metadata": {
    "collapsed": false
   },
   "outputs": [
    {
     "data": {
      "text/plain": [
       "CountVectorizer(analyzer=u'word', binary=False, decode_error=u'strict',\n",
       "        dtype=<type 'numpy.int64'>, encoding=u'utf-8', input=u'content',\n",
       "        lowercase=True, max_df=1.0, max_features=None, min_df=1,\n",
       "        ngram_range=(1, 1), preprocessor=None,\n",
       "        stop_words=['all', 'six', 'less', 'being', 'indeed', 'over', 'move', 'anyway', 'fifty', 'four', 'not', 'own', 'through', 'yourselves', 'go', 'where', 'mill', 'only', 'find', 'before', 'one', 'whose', 'system', 'how', 'somewhere', 'with', 'thick', 'show', 'had', 'enough', 'should', 'to', 'must', 'who... 'their', 'rather', 'without', 'so', 'five', 'the', 'first', 'whereas', 'once', 'mother', 'brother'],\n",
       "        strip_accents=None, token_pattern=u'(?u)\\\\b\\\\w\\\\w+\\\\b',\n",
       "        tokenizer=None, vocabulary=None)"
      ]
     },
     "execution_count": 10,
     "metadata": {},
     "output_type": "execute_result"
    }
   ],
   "source": [
    "vectorizer"
   ]
  },
  {
   "cell_type": "markdown",
   "metadata": {},
   "source": [
    "## Default token mapping method\n",
    "Otherwise, you can use this dictionary method that is much more standard for working with gensim models for the id2word parameter of the model.  \n",
    "\n",
    "**Why would you use this instead?**\n",
    "\n",
    "The main advantage is that this dictionary method allows for quick helper functions that allow you to quickly access common points of interest like tokens, token -> id mappings.  However, there are some performance advantages if you ever want to save your model to a file, then load it at a later time.  Because the tokenizations can take a while to be computed, you can save these post computed items to file, then load them from disk later which is quite a bit faster.  Also, it's possible to add new documents to your corpus without having to re-tokenize your entire set.  This is great for online systems that can take new documents on demmand.  \n",
    "\n",
    "As you work with larger datasets with text, this is a much better way to handle LDA and other Gensim models from a performance point of view."
   ]
  },
  {
   "cell_type": "code",
   "execution_count": 11,
   "metadata": {
    "collapsed": false
   },
   "outputs": [
    {
     "data": {
      "text/plain": [
       "[[(3, 2), (7, 2), (10, 2), (13, 1)],\n",
       " [(0, 1), (6, 1), (14, 1), (16, 1), (21, 1), (24, 1)],\n",
       " [(2, 1), (4, 1), (6, 1), (8, 1), (11, 1), (12, 1), (17, 1), (22, 1), (23, 1)],\n",
       " [(1, 1), (5, 1), (9, 1), (15, 1), (17, 1), (20, 1)],\n",
       " [(3, 1), (10, 1), (11, 2), (18, 1), (19, 1)]]"
      ]
     },
     "execution_count": 11,
     "metadata": {},
     "output_type": "execute_result"
    }
   ],
   "source": [
    "bow = []\n",
    "\n",
    "for document in X.toarray():\n",
    "    \n",
    "    single_document = []\n",
    "    \n",
    "    for token_id, token_count in enumerate(document):\n",
    "\n",
    "        if token_count > 0:\n",
    "            single_document.append((token_id, token_count))\n",
    "\n",
    "    bow.append(single_document)\n",
    "    \n",
    "bow"
   ]
  },
  {
   "cell_type": "code",
   "execution_count": 15,
   "metadata": {
    "collapsed": false
   },
   "outputs": [],
   "source": [
    "# remove words that appear only once\n",
    "frequency = defaultdict(int)\n",
    "\n",
    "for text in documents:\n",
    "    for token in text.split():\n",
    "        frequency[token] += 1\n",
    "\n",
    "texts = [[token for token in text.split() if frequency[token] > 1 and token not in stops]\n",
    "          for text in documents]\n",
    "\n",
    "# Create gensim dictionary object\n",
    "dictionary = corpora.Dictionary(texts)\n",
    "\n",
    "# Create corpus matrix\n",
    "corpus = [dictionary.doc2bow(text) for text in texts]"
   ]
  },
  {
   "cell_type": "code",
   "execution_count": 16,
   "metadata": {
    "collapsed": false
   },
   "outputs": [
    {
     "data": {
      "text/plain": [
       "[[(0, 2), (1, 1), (2, 1)],\n",
       " [(1, 1), (2, 1), (3, 1), (4, 1)],\n",
       " [(3, 1)],\n",
       " [(2, 1), (4, 1)],\n",
       " [(0, 1)]]"
      ]
     },
     "execution_count": 16,
     "metadata": {},
     "output_type": "execute_result"
    }
   ],
   "source": [
    "corpus"
   ]
  },
  {
   "cell_type": "markdown",
   "metadata": {},
   "source": [
    "## Setup the actual LDA model!\n",
    "Finally we initialize and assign our model to a variable object!\n"
   ]
  },
  {
   "cell_type": "code",
   "execution_count": 18,
   "metadata": {
    "collapsed": true
   },
   "outputs": [],
   "source": [
    "\n",
    "lda = models.LdaModel(\n",
    "    matutils.Sparse2Corpus(X, documents_columns=False),\n",
    "    # or use the corpus object created with the dictionary in the previous frame!\n",
    "    # corpus, \n",
    "    num_topics  =  3,\n",
    "    passes      =  20,\n",
    "    id2word     =  vocab\n",
    "    # or use the gensim dictionary object!\n",
    "    # id2word     =  dictionary\n",
    ")"
   ]
  },
  {
   "cell_type": "markdown",
   "metadata": {},
   "source": [
    "\n",
    "### Ok great, what now?!\n",
    "Well let's look at the topics already!  These are the topics overall.\n"
   ]
  },
  {
   "cell_type": "code",
   "execution_count": 20,
   "metadata": {
    "collapsed": false
   },
   "outputs": [
    {
     "data": {
      "text/plain": [
       "[(0,\n",
       "  u'0.066*drive + 0.066*feel + 0.066*school + 0.066*better + 0.066*perform'),\n",
       " (1,\n",
       "  u'0.077*driving + 0.077*pressure + 0.077*health + 0.077*increased + 0.077*blood'),\n",
       " (2, u'0.156*good + 0.156*brocolli + 0.109*eat + 0.109*health + 0.062*likes')]"
      ]
     },
     "execution_count": 20,
     "metadata": {},
     "output_type": "execute_result"
    }
   ],
   "source": [
    "lda.print_topics(num_topics=3, num_words=5)"
   ]
  },
  {
   "cell_type": "code",
   "execution_count": 24,
   "metadata": {
    "collapsed": false
   },
   "outputs": [
    {
     "data": {
      "text/plain": [
       "[(0, 0.041801196137848093),\n",
       " (1, 0.041825351040055782),\n",
       " (2, 0.91637345282209615)]"
      ]
     },
     "execution_count": 24,
     "metadata": {},
     "output_type": "execute_result"
    }
   ],
   "source": [
    "##This is how each document scored per topic:\n",
    "lda.get_document_topics(bow[0])"
   ]
  },
  {
   "cell_type": "markdown",
   "metadata": {},
   "source": [
    "## Lets come up with some high level labels\n",
    "This is the subjective part of LDA.  What do the word probabilties that represent topics mean?  Let's make some up."
   ]
  },
  {
   "cell_type": "code",
   "execution_count": 25,
   "metadata": {
    "collapsed": true
   },
   "outputs": [],
   "source": [
    "topics_labels = {\n",
    "   0: \"Family Stress\",\n",
    "   1: \"Driving\",\n",
    "   2: \"Food\"\n",
    "}"
   ]
  },
  {
   "cell_type": "code",
   "execution_count": 26,
   "metadata": {
    "collapsed": false
   },
   "outputs": [
    {
     "data": {
      "text/plain": [
       "<matplotlib.axes._subplots.AxesSubplot at 0x11c53f290>"
      ]
     },
     "execution_count": 26,
     "metadata": {},
     "output_type": "execute_result"
    },
    {
     "data": {
      "image/png": "[encoded data removed]",
      "text/plain": [
       "<matplotlib.figure.Figure at 0x11c4bfad0>"
      ]
     },
     "metadata": {},
     "output_type": "display_data"
    }
   ],
   "source": [
    "%matplotlib inline\n",
    "import seaborn as sns\n",
    "\n",
    "doc_topics = [lda.get_document_topics(doc) for doc in corpus]\n",
    "\n",
    "doc_topic_probabilities = []\n",
    "\n",
    "for document in doc_topics:\n",
    "    \n",
    "    single_document = []\n",
    "    \n",
    "    for topic, probablity in document:\n",
    "        \n",
    "        single_document.append(probablity)\n",
    "        \n",
    "    doc_topic_probabilities.append(single_document)\n",
    "    \n",
    "docs_topics = pd.DataFrame(doc_topic_probabilities)\n",
    "sns.heatmap(docs_topics)\n",
    "\n",
    "\n",
    "# doc_topic_probabilities"
   ]
  },
  {
   "cell_type": "code",
   "execution_count": 27,
   "metadata": {
    "collapsed": false
   },
   "outputs": [
    {
     "data": {
      "text/plain": [
       "document_id  topic        \n",
       "0            Driving          0.248424\n",
       "             Family Stress    0.684073\n",
       "             Food             0.067503\n",
       "1            Driving          0.486039\n",
       "             Family Stress    0.240883\n",
       "             Food             0.273078\n",
       "2            Driving          0.167146\n",
       "             Family Stress    0.167073\n",
       "             Food             0.665781\n",
       "3            Driving          0.776452\n",
       "             Family Stress    0.111791\n",
       "             Food             0.111757\n",
       "4            Driving          0.168181\n",
       "             Family Stress    0.663936\n",
       "             Food             0.167883\n",
       "Name: probability, dtype: float64"
      ]
     },
     "execution_count": 27,
     "metadata": {},
     "output_type": "execute_result"
    }
   ],
   "source": [
    "doc_topics = [lda.get_document_topics(doc) for doc in corpus]\n",
    "\n",
    "topic_data = []\n",
    "\n",
    "for document_id, topics in enumerate(doc_topics):\n",
    "    \n",
    "    document_topics = []\n",
    "    \n",
    "    for topic, probability in topics:\n",
    "       \n",
    "        topic_data.append({\n",
    "            'document_id':  document_id,\n",
    "            'topic_id':     topic,\n",
    "            'topic':        topics_labels[topic],\n",
    "            'probability':  probability\n",
    "        })\n",
    "\n",
    "topics_df = pd.DataFrame(topic_data)\n",
    "topics_df.pivot_table(values=\"probability\", index=[\"document_id\", \"topic\"]).T"
   ]
  },
  {
   "cell_type": "code",
   "execution_count": 28,
   "metadata": {
    "collapsed": false
   },
   "outputs": [
    {
     "name": "stdout",
     "output_type": "stream",
     "text": [
      "\n",
      "Topics in LDA model:\n",
      "-175.837784575\n"
     ]
    },
    {
     "name": "stderr",
     "output_type": "stream",
     "text": [
      "/Users/Vrushank/anaconda/envs/dsi/lib/python2.7/site-packages/sklearn/decomposition/online_lda.py:508: DeprecationWarning: The default value for 'learning_method' will be changed from 'online' to 'batch' in the release 0.20. This warning was introduced in 0.18.\n",
      "  DeprecationWarning)\n"
     ]
    }
   ],
   "source": [
    "from sklearn.decomposition import LatentDirichletAllocation\n",
    "\n",
    "def print_top_words(model, feature_names, n_top_words):\n",
    "    for topic_idx, topic in enumerate(model.components_):\n",
    "        print(\"Topic #%d:\" % topic_idx)\n",
    "        print(\" \".join([feature_names[i]\n",
    "                        for i in topic.argsort()[:-n_top_words - 1:-1]]))\n",
    "    print()\n",
    "\n",
    "lda = LatentDirichletAllocation(n_topics=3)\n",
    "lda.fit(X)\n",
    "\n",
    "print(\"\\nTopics in LDA model:\")\n",
    "tf_feature_names = vectorizer.get_feature_names()\n",
    "# print_top_words(lda, tf_feature_names, 10)\n",
    "\n",
    "print lda.score(X)"
   ]
  },
  {
   "cell_type": "markdown",
   "metadata": {},
   "source": [
    "## So what now!?\n",
    "\n",
    "Well, this is a very basic example.  LDA typically doesn't perform well on very small datasets.  It can be useful to see how it works and to implement, but you should try to see how it behaves on your own.  Finding the optimal number of topics can be tricky.\n",
    "\n",
    "Generally, you should consider:\n",
    "- How well topics are applied to documents overall\n",
    "- The strength of topics overall, to all documents\n",
    "- Improving preprocessing such as stopword removal\n",
    "- Exploring LDA Topics [pyLDAvis](https://github.com/bmabey/pyLDAvis/blob/master/README.rst))\n",
    "\n",
    "These general guidelines should help you tune your hyperparameter **K** for number of topics."
   ]
  },
  {
   "cell_type": "markdown",
   "metadata": {},
   "source": [
    "## Additional Resources\n",
    "\n",
    "<a href=https://www.youtube.com/watch?v=3mHy4OSyRf0> Intro Topic Models </a>\n",
    "\n",
    "<a href=https://metacademy.org/graphs/concepts/latent_dirichlet_allocation> Technical Resources for LDA </a>"
   ]
  }
 ],
 "metadata": {
  "kernelspec": {
   "display_name": "Python 2",
   "language": "python",
   "name": "python2"
  },
  "language_info": {
   "codemirror_mode": {
    "name": "ipython",
    "version": 2
   },
   "file_extension": ".py",
   "mimetype": "text/x-python",
   "name": "python",
   "nbconvert_exporter": "python",
   "pygments_lexer": "ipython2",
   "version": "2.7.12"
  }
 },
 "nbformat": 4,
 "nbformat_minor": 0
}
