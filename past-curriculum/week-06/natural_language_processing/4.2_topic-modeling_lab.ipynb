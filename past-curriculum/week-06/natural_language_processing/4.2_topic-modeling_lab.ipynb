{
 "cells": [
  {
   "cell_type": "markdown",
   "metadata": {},
   "source": [
    "#  Topic Models Lab\n",
    "It's time to try this on your own or with a group!\n",
    "\n",
    "For this practice, you will be working with the 20 newsgroup dataset from skelarn.datasets, which has a collection of newsgroup discussions.  \n",
    "\n",
    "### Load up the 20 newsgroup dataset from sklearn.datasets\n",
    "This could take a little while."
   ]
  },
  {
   "cell_type": "code",
   "execution_count": 615,
   "metadata": {
    "collapsed": true
   },
   "outputs": [],
   "source": [
    "from sklearn.datasets import fetch_20newsgroups\n",
    "\n",
    "news = fetch_20newsgroups()"
   ]
  },
  {
   "cell_type": "code",
   "execution_count": 617,
   "metadata": {
    "collapsed": false
   },
   "outputs": [
    {
     "data": {
      "text/plain": [
       "['description', 'DESCR', 'filenames', 'target_names', 'data', 'target']"
      ]
     },
     "execution_count": 617,
     "metadata": {},
     "output_type": "execute_result"
    }
   ],
   "source": [
    "news.keys()"
   ]
  },
  {
   "cell_type": "code",
   "execution_count": 622,
   "metadata": {
    "collapsed": false
   },
   "outputs": [
    {
     "data": {
      "text/html": [
       "<div>\n",
       "<table border=\"1\" class=\"dataframe\">\n",
       "  <thead>\n",
       "    <tr style=\"text-align: right;\">\n",
       "      <th></th>\n",
       "      <th>text</th>\n",
       "      <th>file</th>\n",
       "    </tr>\n",
       "  </thead>\n",
       "  <tbody>\n",
       "    <tr>\n",
       "      <th>0</th>\n",
       "      <td>From: lerxst@wam.umd.edu (where's my thing)\\nS...</td>\n",
       "      <td>/Users/davidyerrington/scikit_learn_data/20new...</td>\n",
       "    </tr>\n",
       "    <tr>\n",
       "      <th>1</th>\n",
       "      <td>From: guykuo@carson.u.washington.edu (Guy Kuo)...</td>\n",
       "      <td>/Users/davidyerrington/scikit_learn_data/20new...</td>\n",
       "    </tr>\n",
       "    <tr>\n",
       "      <th>2</th>\n",
       "      <td>From: twillis@ec.ecn.purdue.edu (Thomas E Will...</td>\n",
       "      <td>/Users/davidyerrington/scikit_learn_data/20new...</td>\n",
       "    </tr>\n",
       "    <tr>\n",
       "      <th>3</th>\n",
       "      <td>From: jgreen@amber (Joe Green)\\nSubject: Re: W...</td>\n",
       "      <td>/Users/davidyerrington/scikit_learn_data/20new...</td>\n",
       "    </tr>\n",
       "    <tr>\n",
       "      <th>4</th>\n",
       "      <td>From: jcm@head-cfa.harvard.edu (Jonathan McDow...</td>\n",
       "      <td>/Users/davidyerrington/scikit_learn_data/20new...</td>\n",
       "    </tr>\n",
       "  </tbody>\n",
       "</table>\n",
       "</div>"
      ],
      "text/plain": [
       "                                                text  \\\n",
       "0  From: lerxst@wam.umd.edu (where's my thing)\\nS...   \n",
       "1  From: guykuo@carson.u.washington.edu (Guy Kuo)...   \n",
       "2  From: twillis@ec.ecn.purdue.edu (Thomas E Will...   \n",
       "3  From: jgreen@amber (Joe Green)\\nSubject: Re: W...   \n",
       "4  From: jcm@head-cfa.harvard.edu (Jonathan McDow...   \n",
       "\n",
       "                                                file  \n",
       "0  /Users/davidyerrington/scikit_learn_data/20new...  \n",
       "1  /Users/davidyerrington/scikit_learn_data/20new...  \n",
       "2  /Users/davidyerrington/scikit_learn_data/20new...  \n",
       "3  /Users/davidyerrington/scikit_learn_data/20new...  \n",
       "4  /Users/davidyerrington/scikit_learn_data/20new...  "
      ]
     },
     "execution_count": 622,
     "metadata": {},
     "output_type": "execute_result"
    }
   ],
   "source": [
    "# Allow me to setup a dataframe\n",
    "news_df = pd.DataFrame(news['data'], columns=[\"text\"])\n",
    "news_df['file'] = news['filenames']\n",
    "news_df.head()"
   ]
  },
  {
   "cell_type": "markdown",
   "metadata": {},
   "source": [
    "## 1. Pull out the newsgroup name from the \"file\" column, assign to new feature called \"newsgroup\"\n",
    "Within the filepath variable, contains a newsgroup string that will be useful for filtering.  "
   ]
  },
  {
   "cell_type": "code",
   "execution_count": 629,
   "metadata": {
    "collapsed": false
   },
   "outputs": [],
   "source": [
    "# Here is an example of a single filepath.  The newsgroup this belongs to is \"rec.autos\".\n",
    "news_df['newsgroup'] = news_df['file'].map(lambda file: file.split(\"/\")[-2])"
   ]
  },
  {
   "cell_type": "markdown",
   "metadata": {},
   "source": [
    "## 2. Select a single newsgroup topic to setup and perform LDA"
   ]
  },
  {
   "cell_type": "code",
   "execution_count": 677,
   "metadata": {
    "collapsed": false
   },
   "outputs": [],
   "source": [
    "## This is an example for sklearn -- try this in gensim!\n",
    "\n",
    "subset_df = news_df[news_df['newsgroup'] == \"talk.politics.mideast\"]\n",
    "\n",
    "# number of topics\n",
    "k     =  10\n",
    "\n",
    "# Vectorize\n",
    "vectorizer  =  CountVectorizer(stop_words='english')\n",
    "X           =  vectorizer.fit_transform(subset_df['text'])\n",
    "\n",
    "# This is the fastest way to swap a dictionary key / value order.  This is the format gensim LDA expects it's vocabulary.\n",
    "vocab = {v: k for k, v in vectorizer.vocabulary_.iteritems()}\n",
    "vocab\n",
    "\n",
    "# model\n",
    "lda = models.LdaModel(\n",
    "    matutils.Sparse2Corpus(X, documents_columns=False),\n",
    "    # or use the corpus object created with the dictionary in the previous frame!\n",
    "    # corpus, \n",
    "    num_topics  =  k,\n",
    "    passes      =  10,\n",
    "    id2word     =  vocab\n",
    "    # or use the gensim dictionary object!\n",
    "    # id2word     =  dictionary\n",
    ")\n"
   ]
  },
  {
   "cell_type": "markdown",
   "metadata": {},
   "source": [
    "## 3. Examine the topics that are found"
   ]
  },
  {
   "cell_type": "code",
   "execution_count": null,
   "metadata": {
    "collapsed": false
   },
   "outputs": [],
   "source": []
  },
  {
   "cell_type": "markdown",
   "metadata": {},
   "source": [
    "## 4. Adjust your number of topics parameter\n",
    "A strong clue to get the K parameter just right, is to see how word probabilities overlap.  Sometimes you'll see duplicate topics occur so you should reduce the number until they no longer overlap.  There are some downsides to this approach but it's a quick and easy first pass until you can take a deeper look at everything."
   ]
  },
  {
   "cell_type": "code",
   "execution_count": null,
   "metadata": {
    "collapsed": true
   },
   "outputs": [],
   "source": []
  },
  {
   "cell_type": "markdown",
   "metadata": {},
   "source": [
    "## 5. Of the topics, how are they distributed across your documents?\n",
    "Plot a histogram of a few of the topics to see how they are spread.  Do any dominate?  Are few represented?\n",
    "\n",
    "One of the toughest questions to examine is how relevent the documents content is to the actual topics.  The latent characteristics may be present, but not understood fully.  There is a real risk of going down the rabbit hole and tweaking the model excessively (remember, 4+ months were spent iterating on Rapstats)."
   ]
  },
  {
   "cell_type": "code",
   "execution_count": 699,
   "metadata": {
    "collapsed": false
   },
   "outputs": [],
   "source": [
    "\n"
   ]
  },
  {
   "cell_type": "markdown",
   "metadata": {},
   "source": [
    "## 6. Can you further clean your newsgroup text?\n",
    "\n",
    "Look at those blasted subject headers and crap in the first lines of the messages.  Can you think of any ways to get rid of some of the more common terms?  Hint:  Remove items that only occur once, or too frequently."
   ]
  },
  {
   "cell_type": "code",
   "execution_count": null,
   "metadata": {
    "collapsed": true
   },
   "outputs": [],
   "source": []
  },
  {
   "cell_type": "markdown",
   "metadata": {},
   "source": [
    "## 7. Implement TFIDF vectorizer instead of count vectorizer.\n",
    "\n",
    "How does this compare?  Does this improve the quality of results?"
   ]
  },
  {
   "cell_type": "code",
   "execution_count": null,
   "metadata": {
    "collapsed": true
   },
   "outputs": [],
   "source": []
  }
 ],
 "metadata": {
  "anaconda-cloud": {},
  "kernelspec": {
   "display_name": "Python 2",
   "language": "python",
   "name": "python2"
  },
  "language_info": {
   "codemirror_mode": {
    "name": "ipython",
    "version": 2
   },
   "file_extension": ".py",
   "mimetype": "text/x-python",
   "name": "python",
   "nbconvert_exporter": "python",
   "pygments_lexer": "ipython2",
   "version": "2.7.13"
  }
 },
 "nbformat": 4,
 "nbformat_minor": 0
}
