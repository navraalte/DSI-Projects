{
 "cells": [
  {
   "cell_type": "markdown",
   "metadata": {},
   "source": [
    "<img src = http://i.imgur.com/83ydy1r.png>"
   ]
  },
  {
   "cell_type": "markdown",
   "metadata": {},
   "source": [
    "##  Latent Semantic Analysis (LSA) and Latent Dirchlet Allocation (LDA)\n",
    "### Lesson Objectives: \n",
    "- Build information and document retrieval pipelines using LSA and LDA \n",
    "- Explain LSA, LDA to grandmother \n",
    "- Train and test LDA Models \n",
    "\n",
    "\n",
    "### Lesson Prereqs: \n",
    "- Vector Spaces \n",
    "- Similarity Measures: Cosine Similarity, Euclidean Distance \n",
    "- TF-IDF \n",
    "- Count Vectors \n",
    "\n",
    "> **Check**: What is a vector space? \n",
    "\n",
    "> **Check**: What is TF-IDF? \n",
    "\n",
    "<img src= https://camo.githubusercontent.com/9cc6e73239f696be8e271e8475313629d0fbd090/68747470733a2f2f736e61672e67792f6c62737556322e6a7067> \n",
    "\n",
    "<img src = https://camo.githubusercontent.com/b0e55232d21bf1eda7a03c461bbcfa7e14141fb8/68747470733a2f2f736e61672e67792f596467784b7a2e6a7067> \n",
    "\n",
    "<img src = https://camo.githubusercontent.com/c674c5254d0f36ab0dff72fc3ab286322bf7012b/68747470733a2f2f736e61672e67792f437472364f4c2e6a7067> \n",
    "\n",
    "<img src= https://camo.githubusercontent.com/1267c9c60f2224fd36ed1e98c75a2d5974c15453/68747470733a2f2f736e61672e67792f6f6239556d382e6a7067>"
   ]
  },
  {
   "cell_type": "markdown",
   "metadata": {
    "collapsed": true
   },
   "source": [
    "<img src = http://i.imgur.com/sWec30N.png>\n",
    "\n",
    "<img src = http://i.imgur.com/rcolBSq.png>"
   ]
  },
  {
   "cell_type": "code",
   "execution_count": 1,
   "metadata": {
    "collapsed": false
   },
   "outputs": [
    {
     "data": {
      "text/html": [
       "<div>\n",
       "<table border=\"1\" class=\"dataframe\">\n",
       "  <thead>\n",
       "    <tr style=\"text-align: right;\">\n",
       "      <th></th>\n",
       "      <th>cool</th>\n",
       "      <th>data</th>\n",
       "      <th>football</th>\n",
       "      <th>fun</th>\n",
       "      <th>great</th>\n",
       "      <th>learning</th>\n",
       "      <th>like</th>\n",
       "      <th>machine</th>\n",
       "      <th>python</th>\n",
       "      <th>science</th>\n",
       "      <th>statistics</th>\n",
       "      <th>super</th>\n",
       "      <th>watch</th>\n",
       "    </tr>\n",
       "  </thead>\n",
       "  <tbody>\n",
       "    <tr>\n",
       "      <th>Machine learning is super fun</th>\n",
       "      <td>0</td>\n",
       "      <td>0</td>\n",
       "      <td>0</td>\n",
       "      <td>1</td>\n",
       "      <td>0</td>\n",
       "      <td>1</td>\n",
       "      <td>0</td>\n",
       "      <td>1</td>\n",
       "      <td>0</td>\n",
       "      <td>0</td>\n",
       "      <td>0</td>\n",
       "      <td>1</td>\n",
       "      <td>0</td>\n",
       "    </tr>\n",
       "    <tr>\n",
       "      <th>Python is super, super cool</th>\n",
       "      <td>1</td>\n",
       "      <td>0</td>\n",
       "      <td>0</td>\n",
       "      <td>0</td>\n",
       "      <td>0</td>\n",
       "      <td>0</td>\n",
       "      <td>0</td>\n",
       "      <td>0</td>\n",
       "      <td>1</td>\n",
       "      <td>0</td>\n",
       "      <td>0</td>\n",
       "      <td>2</td>\n",
       "      <td>0</td>\n",
       "    </tr>\n",
       "    <tr>\n",
       "      <th>Statistics is cool, too</th>\n",
       "      <td>1</td>\n",
       "      <td>0</td>\n",
       "      <td>0</td>\n",
       "      <td>0</td>\n",
       "      <td>0</td>\n",
       "      <td>0</td>\n",
       "      <td>0</td>\n",
       "      <td>0</td>\n",
       "      <td>0</td>\n",
       "      <td>0</td>\n",
       "      <td>1</td>\n",
       "      <td>0</td>\n",
       "      <td>0</td>\n",
       "    </tr>\n",
       "    <tr>\n",
       "      <th>Data science is fun</th>\n",
       "      <td>0</td>\n",
       "      <td>1</td>\n",
       "      <td>0</td>\n",
       "      <td>1</td>\n",
       "      <td>0</td>\n",
       "      <td>0</td>\n",
       "      <td>0</td>\n",
       "      <td>0</td>\n",
       "      <td>0</td>\n",
       "      <td>1</td>\n",
       "      <td>0</td>\n",
       "      <td>0</td>\n",
       "      <td>0</td>\n",
       "    </tr>\n",
       "    <tr>\n",
       "      <th>Python is great for machine learning</th>\n",
       "      <td>0</td>\n",
       "      <td>0</td>\n",
       "      <td>0</td>\n",
       "      <td>0</td>\n",
       "      <td>1</td>\n",
       "      <td>1</td>\n",
       "      <td>0</td>\n",
       "      <td>1</td>\n",
       "      <td>1</td>\n",
       "      <td>0</td>\n",
       "      <td>0</td>\n",
       "      <td>0</td>\n",
       "      <td>0</td>\n",
       "    </tr>\n",
       "    <tr>\n",
       "      <th>I like football</th>\n",
       "      <td>0</td>\n",
       "      <td>0</td>\n",
       "      <td>1</td>\n",
       "      <td>0</td>\n",
       "      <td>0</td>\n",
       "      <td>0</td>\n",
       "      <td>1</td>\n",
       "      <td>0</td>\n",
       "      <td>0</td>\n",
       "      <td>0</td>\n",
       "      <td>0</td>\n",
       "      <td>0</td>\n",
       "      <td>0</td>\n",
       "    </tr>\n",
       "    <tr>\n",
       "      <th>Football is great to watch</th>\n",
       "      <td>0</td>\n",
       "      <td>0</td>\n",
       "      <td>1</td>\n",
       "      <td>0</td>\n",
       "      <td>1</td>\n",
       "      <td>0</td>\n",
       "      <td>0</td>\n",
       "      <td>0</td>\n",
       "      <td>0</td>\n",
       "      <td>0</td>\n",
       "      <td>0</td>\n",
       "      <td>0</td>\n",
       "      <td>1</td>\n",
       "    </tr>\n",
       "  </tbody>\n",
       "</table>\n",
       "</div>"
      ],
      "text/plain": [
       "                                      cool  data  football  fun  great  \\\n",
       "Machine learning is super fun            0     0         0    1      0   \n",
       "Python is super, super cool              1     0         0    0      0   \n",
       "Statistics is cool, too                  1     0         0    0      0   \n",
       "Data science is fun                      0     1         0    1      0   \n",
       "Python is great for machine learning     0     0         0    0      1   \n",
       "I like football                          0     0         1    0      0   \n",
       "Football is great to watch               0     0         1    0      1   \n",
       "\n",
       "                                      learning  like  machine  python  \\\n",
       "Machine learning is super fun                1     0        1       0   \n",
       "Python is super, super cool                  0     0        0       1   \n",
       "Statistics is cool, too                      0     0        0       0   \n",
       "Data science is fun                          0     0        0       0   \n",
       "Python is great for machine learning         1     0        1       1   \n",
       "I like football                              0     1        0       0   \n",
       "Football is great to watch                   0     0        0       0   \n",
       "\n",
       "                                      science  statistics  super  watch  \n",
       "Machine learning is super fun               0           0      1      0  \n",
       "Python is super, super cool                 0           0      2      0  \n",
       "Statistics is cool, too                     0           1      0      0  \n",
       "Data science is fun                         1           0      0      0  \n",
       "Python is great for machine learning        0           0      0      0  \n",
       "I like football                             0           0      0      0  \n",
       "Football is great to watch                  0           0      0      1  "
      ]
     },
     "execution_count": 1,
     "metadata": {},
     "output_type": "execute_result"
    }
   ],
   "source": [
    "import sklearn\n",
    "# Import all of the scikit learn stuff\n",
    "from __future__ import print_function\n",
    "from sklearn.decomposition import TruncatedSVD\n",
    "from sklearn.feature_extraction.text import TfidfVectorizer\n",
    "from sklearn.feature_extraction.text import CountVectorizer\n",
    "from sklearn.preprocessing import Normalizer\n",
    "from sklearn import metrics\n",
    "from sklearn.cluster import KMeans, MiniBatchKMeans\n",
    "import pandas as pd\n",
    "import numpy \n",
    "import warnings\n",
    "# Suppress warnings from pandas library\n",
    "\n",
    "warnings.filterwarnings(\"ignore\", category=DeprecationWarning, module=\"pandas\", lineno=570)\n",
    "\n",
    "example = [\"Machine learning is super fun\", \"Python is super, super cool\", \"Statistics is cool, too\", \n",
    "           \"Data science is fun\", \"Python is great for machine learning\", \"I like football\", \n",
    "           \"Football is great to watch\"]\n",
    "\n",
    "vectorizer = CountVectorizer(min_df = 1, stop_words = 'english')\n",
    "dtm = vectorizer.fit_transform(example)\n",
    "pd.DataFrame(dtm.toarray(),index=example,columns=vectorizer.get_feature_names()).head(10)"
   ]
  },
  {
   "cell_type": "code",
   "execution_count": 2,
   "metadata": {
    "collapsed": false
   },
   "outputs": [
    {
     "data": {
      "text/html": [
       "<div>\n",
       "<table border=\"1\" class=\"dataframe\">\n",
       "  <thead>\n",
       "    <tr style=\"text-align: right;\">\n",
       "      <th></th>\n",
       "      <th>cool</th>\n",
       "      <th>data</th>\n",
       "      <th>football</th>\n",
       "      <th>fun</th>\n",
       "      <th>great</th>\n",
       "      <th>learning</th>\n",
       "      <th>like</th>\n",
       "      <th>machine</th>\n",
       "      <th>python</th>\n",
       "      <th>science</th>\n",
       "      <th>statistics</th>\n",
       "      <th>super</th>\n",
       "      <th>watch</th>\n",
       "    </tr>\n",
       "  </thead>\n",
       "  <tbody>\n",
       "    <tr>\n",
       "      <th>component_1</th>\n",
       "      <td>0.280004</td>\n",
       "      <td>0.035353</td>\n",
       "      <td>0.033417</td>\n",
       "      <td>0.223993</td>\n",
       "      <td>0.178307</td>\n",
       "      <td>0.338085</td>\n",
       "      <td>0.004555</td>\n",
       "      <td>0.338085</td>\n",
       "      <td>0.391281</td>\n",
       "      <td>0.035353</td>\n",
       "      <td>0.038169</td>\n",
       "      <td>0.672310</td>\n",
       "      <td>0.028861</td>\n",
       "    </tr>\n",
       "    <tr>\n",
       "      <th>component_2</th>\n",
       "      <td>0.365270</td>\n",
       "      <td>-0.064548</td>\n",
       "      <td>-0.298349</td>\n",
       "      <td>-0.168056</td>\n",
       "      <td>-0.478428</td>\n",
       "      <td>-0.366379</td>\n",
       "      <td>-0.082792</td>\n",
       "      <td>-0.366379</td>\n",
       "      <td>0.001036</td>\n",
       "      <td>-0.064548</td>\n",
       "      <td>0.101363</td>\n",
       "      <td>0.424306</td>\n",
       "      <td>-0.215557</td>\n",
       "    </tr>\n",
       "  </tbody>\n",
       "</table>\n",
       "</div>"
      ],
      "text/plain": [
       "                 cool      data  football       fun     great  learning  \\\n",
       "component_1  0.280004  0.035353  0.033417  0.223993  0.178307  0.338085   \n",
       "component_2  0.365270 -0.064548 -0.298349 -0.168056 -0.478428 -0.366379   \n",
       "\n",
       "                 like   machine    python   science  statistics     super  \\\n",
       "component_1  0.004555  0.338085  0.391281  0.035353    0.038169  0.672310   \n",
       "component_2 -0.082792 -0.366379  0.001036 -0.064548    0.101363  0.424306   \n",
       "\n",
       "                watch  \n",
       "component_1  0.028861  \n",
       "component_2 -0.215557  "
      ]
     },
     "execution_count": 2,
     "metadata": {},
     "output_type": "execute_result"
    }
   ],
   "source": [
    "# Fit LSA. Use algorithm = “randomized” for large datasets\n",
    "lsa = TruncatedSVD(2, algorithm = 'arpack')\n",
    "dtm_lsa = lsa.fit_transform(dtm)\n",
    "dtm_lsa = Normalizer(copy=False).fit_transform(dtm_lsa)\n",
    "\n",
    "pd.DataFrame(lsa.components_,index = [\"component_1\",\"component_2\"],columns =\n",
    "vectorizer.get_feature_names())"
   ]
  },
  {
   "cell_type": "code",
   "execution_count": 3,
   "metadata": {
    "collapsed": false
   },
   "outputs": [
    {
     "data": {
      "text/plain": [
       "([0.95702439393037986,\n",
       "  0.85648370973755494,\n",
       "  0.56335489155638829,\n",
       "  0.70417108799801786,\n",
       "  0.71728390345517257,\n",
       "  0.099136388426341648,\n",
       "  0.23561831047045323],\n",
       " [-0.29000742994307738,\n",
       "  0.5161740549022158,\n",
       "  0.82621502416712933,\n",
       "  -0.71003033655449399,\n",
       "  -0.69678102861954461,\n",
       "  -0.99507385479158361,\n",
       "  -0.97184567281593093])"
      ]
     },
     "execution_count": 3,
     "metadata": {},
     "output_type": "execute_result"
    }
   ],
   "source": [
    "xs = [w[0] for w in dtm_lsa]\n",
    "ys = [w[1] for w in dtm_lsa]\n",
    "xs, ys"
   ]
  },
  {
   "cell_type": "code",
   "execution_count": 4,
   "metadata": {
    "collapsed": false
   },
   "outputs": [
    {
     "name": "stdout",
     "output_type": "stream",
     "text": [
      "Populating the interactive namespace from numpy and matplotlib\n"
     ]
    },
    {
     "data": {
      "text/plain": [
       "<matplotlib.text.Text at 0x1095cb310>"
      ]
     },
     "execution_count": 4,
     "metadata": {},
     "output_type": "execute_result"
    },
    {
     "data": {
      "image/png": "[encoded data removed]",
      "text/plain": [
       "<matplotlib.figure.Figure at 0x104357810>"
      ]
     },
     "metadata": {},
     "output_type": "display_data"
    }
   ],
   "source": [
    "# Plot scatter plot of points\n",
    "%pylab inline\n",
    "import matplotlib.pyplot as plt\n",
    "figure()\n",
    "plt.scatter(xs,ys)\n",
    "xlabel('First principal component')\n",
    "ylabel('Second principal component')\n",
    "title('Plot of points against LSA principal components')"
   ]
  },
  {
   "cell_type": "code",
   "execution_count": 5,
   "metadata": {
    "collapsed": false
   },
   "outputs": [
    {
     "name": "stdout",
     "output_type": "stream",
     "text": [
      "Populating the interactive namespace from numpy and matplotlib\n"
     ]
    },
    {
     "data": {
      "image/png": "[encoded data removed]",
      "text/plain": [
       "<matplotlib.figure.Figure at 0x10782cd90>"
      ]
     },
     "metadata": {},
     "output_type": "display_data"
    }
   ],
   "source": [
    "# Plot scatter plot of points with vectors\n",
    "%pylab inline\n",
    "import matplotlib.pyplot as plt\n",
    "plt.figure()\n",
    "ax = plt.gca()\n",
    "ax.quiver(0,0,xs,ys,angles='xy',scale_units='xy',scale=1, linewidth = .01)\n",
    "ax.set_xlim([-1,1])\n",
    "ax.set_ylim([-1,1])\n",
    "xlabel('First principal component')\n",
    "ylabel('Second principal component')\n",
    "title('Plot of points against LSA principal components')\n",
    "plt.draw()\n",
    "plt.show()"
   ]
  },
  {
   "cell_type": "code",
   "execution_count": 6,
   "metadata": {
    "collapsed": false
   },
   "outputs": [
    {
     "data": {
      "text/html": [
       "<div>\n",
       "<table border=\"1\" class=\"dataframe\">\n",
       "  <thead>\n",
       "    <tr style=\"text-align: right;\">\n",
       "      <th></th>\n",
       "      <th>Machine learning is super fun</th>\n",
       "      <th>Python is super, super cool</th>\n",
       "      <th>Statistics is cool, too</th>\n",
       "      <th>Data science is fun</th>\n",
       "      <th>Python is great for machine learning</th>\n",
       "      <th>I like football</th>\n",
       "      <th>Football is great to watch</th>\n",
       "    </tr>\n",
       "  </thead>\n",
       "  <tbody>\n",
       "    <tr>\n",
       "      <th>Machine learning is super fun</th>\n",
       "      <td>1.000000</td>\n",
       "      <td>0.669981</td>\n",
       "      <td>0.299536</td>\n",
       "      <td>0.879823</td>\n",
       "      <td>0.888530</td>\n",
       "      <td>0.383455</td>\n",
       "      <td>0.507335</td>\n",
       "    </tr>\n",
       "    <tr>\n",
       "      <th>Python is super, super cool</th>\n",
       "      <td>0.669981</td>\n",
       "      <td>1.000000</td>\n",
       "      <td>0.908975</td>\n",
       "      <td>0.236612</td>\n",
       "      <td>0.254682</td>\n",
       "      <td>-0.428723</td>\n",
       "      <td>-0.299838</td>\n",
       "    </tr>\n",
       "    <tr>\n",
       "      <th>Statistics is cool, too</th>\n",
       "      <td>0.299536</td>\n",
       "      <td>0.908975</td>\n",
       "      <td>1.000000</td>\n",
       "      <td>-0.189940</td>\n",
       "      <td>-0.171606</td>\n",
       "      <td>-0.766296</td>\n",
       "      <td>-0.670217</td>\n",
       "    </tr>\n",
       "    <tr>\n",
       "      <th>Data science is fun</th>\n",
       "      <td>0.879823</td>\n",
       "      <td>0.236612</td>\n",
       "      <td>-0.189940</td>\n",
       "      <td>1.000000</td>\n",
       "      <td>0.999826</td>\n",
       "      <td>0.776342</td>\n",
       "      <td>0.855956</td>\n",
       "    </tr>\n",
       "    <tr>\n",
       "      <th>Python is great for machine learning</th>\n",
       "      <td>0.888530</td>\n",
       "      <td>0.254682</td>\n",
       "      <td>-0.171606</td>\n",
       "      <td>0.999826</td>\n",
       "      <td>1.000000</td>\n",
       "      <td>0.764458</td>\n",
       "      <td>0.846169</td>\n",
       "    </tr>\n",
       "    <tr>\n",
       "      <th>I like football</th>\n",
       "      <td>0.383455</td>\n",
       "      <td>-0.428723</td>\n",
       "      <td>-0.766296</td>\n",
       "      <td>0.776342</td>\n",
       "      <td>0.764458</td>\n",
       "      <td>1.000000</td>\n",
       "      <td>0.990417</td>\n",
       "    </tr>\n",
       "    <tr>\n",
       "      <th>Football is great to watch</th>\n",
       "      <td>0.507335</td>\n",
       "      <td>-0.299838</td>\n",
       "      <td>-0.670217</td>\n",
       "      <td>0.855956</td>\n",
       "      <td>0.846169</td>\n",
       "      <td>0.990417</td>\n",
       "      <td>1.000000</td>\n",
       "    </tr>\n",
       "  </tbody>\n",
       "</table>\n",
       "</div>"
      ],
      "text/plain": [
       "                                      Machine learning is super fun  \\\n",
       "Machine learning is super fun                              1.000000   \n",
       "Python is super, super cool                                0.669981   \n",
       "Statistics is cool, too                                    0.299536   \n",
       "Data science is fun                                        0.879823   \n",
       "Python is great for machine learning                       0.888530   \n",
       "I like football                                            0.383455   \n",
       "Football is great to watch                                 0.507335   \n",
       "\n",
       "                                      Python is super, super cool  \\\n",
       "Machine learning is super fun                            0.669981   \n",
       "Python is super, super cool                              1.000000   \n",
       "Statistics is cool, too                                  0.908975   \n",
       "Data science is fun                                      0.236612   \n",
       "Python is great for machine learning                     0.254682   \n",
       "I like football                                         -0.428723   \n",
       "Football is great to watch                              -0.299838   \n",
       "\n",
       "                                      Statistics is cool, too  \\\n",
       "Machine learning is super fun                        0.299536   \n",
       "Python is super, super cool                          0.908975   \n",
       "Statistics is cool, too                              1.000000   \n",
       "Data science is fun                                 -0.189940   \n",
       "Python is great for machine learning                -0.171606   \n",
       "I like football                                     -0.766296   \n",
       "Football is great to watch                          -0.670217   \n",
       "\n",
       "                                      Data science is fun  \\\n",
       "Machine learning is super fun                    0.879823   \n",
       "Python is super, super cool                      0.236612   \n",
       "Statistics is cool, too                         -0.189940   \n",
       "Data science is fun                              1.000000   \n",
       "Python is great for machine learning             0.999826   \n",
       "I like football                                  0.776342   \n",
       "Football is great to watch                       0.855956   \n",
       "\n",
       "                                      Python is great for machine learning  \\\n",
       "Machine learning is super fun                                     0.888530   \n",
       "Python is super, super cool                                       0.254682   \n",
       "Statistics is cool, too                                          -0.171606   \n",
       "Data science is fun                                               0.999826   \n",
       "Python is great for machine learning                              1.000000   \n",
       "I like football                                                   0.764458   \n",
       "Football is great to watch                                        0.846169   \n",
       "\n",
       "                                      I like football  \\\n",
       "Machine learning is super fun                0.383455   \n",
       "Python is super, super cool                 -0.428723   \n",
       "Statistics is cool, too                     -0.766296   \n",
       "Data science is fun                          0.776342   \n",
       "Python is great for machine learning         0.764458   \n",
       "I like football                              1.000000   \n",
       "Football is great to watch                   0.990417   \n",
       "\n",
       "                                      Football is great to watch  \n",
       "Machine learning is super fun                           0.507335  \n",
       "Python is super, super cool                            -0.299838  \n",
       "Statistics is cool, too                                -0.670217  \n",
       "Data science is fun                                     0.855956  \n",
       "Python is great for machine learning                    0.846169  \n",
       "I like football                                         0.990417  \n",
       "Football is great to watch                              1.000000  "
      ]
     },
     "execution_count": 6,
     "metadata": {},
     "output_type": "execute_result"
    }
   ],
   "source": [
    "# Compute document similarity using LSA components\n",
    "similarity = np.asarray(numpy.asmatrix(dtm_lsa) * numpy.asmatrix(dtm_lsa).T)\n",
    "pd.DataFrame(similarity,index=example, columns=example).head(10)"
   ]
  },
  {
   "cell_type": "markdown",
   "metadata": {},
   "source": [
    "### <a href = http://blog.echen.me/2011/08/22/introduction-to-latent-dirichlet-allocation/> LDA for Grandmas (15 Minute Read) </a>\n",
    "\n",
    "\n",
    "<img src= http://i.imgur.com/HRRK6k0.png>"
   ]
  },
  {
   "cell_type": "markdown",
   "metadata": {},
   "source": [
    "### Parameters of LDA\n",
    "\n",
    "$\\alpha$ and $\\beta$ Hyperparameters: \n",
    "- $\\alpha$ represents document-topic density and Beta represents topic-word density. Higher the value of $\\alpha$, documents are composed of more topics and lower the value of $\\alpha$, documents contain fewer topics. \n",
    "\n",
    "- On the other hand, higher the $\\beta$, topics are composed of a large number of words in the corpus, and with the lower value of beta, they are composed of few words.\n",
    "\n",
    "Number of Topics – Number of topics to be extracted from the corpus. Researchers have developed approaches to obtain an optimal number of topics by using Kullback Leibler Divergence Score. \n",
    "\n",
    "Number of Topic Terms – Number of terms composed in a single topic. It is generally decided according to the requirement. If the problem statement talks about extracting themes or concepts, it is recommended to choose a higher number, if problem statement talks about extracting features or terms, a low number is recommended.\n",
    "\n",
    "Number of Iterations / passes – Maximum number of iterations allowed to LDA algorithm for convergence.\n",
    "\n"
   ]
  },
  {
   "cell_type": "markdown",
   "metadata": {},
   "source": [
    "### Evaluating LDA: \n",
    "- Perplexity to Evaluate: <a href=https://www.youtube.com/watch?v=OHyVNCvnsTo> Stanford NLP </a> \n",
    "- Extrinsic Evaluations: Human Evaluation, Mechanical Turkers"
   ]
  },
  {
   "cell_type": "code",
   "execution_count": 1,
   "metadata": {
    "collapsed": false
   },
   "outputs": [],
   "source": [
    "## Running in python\n",
    "\n",
    "## Preparing Documents\n",
    "\n",
    "## Here are the sample documents combining together to form a corpus.\n",
    "\n",
    "doc1 = \"Sugar is bad to consume. My sister likes to have sugar, but not my father.\"\n",
    "doc2 = \"My father spends a lot of time driving my sister around to dance practice.\"\n",
    "doc3 = \"Doctors suggest that driving may cause increased stress and blood pressure.\"\n",
    "doc4 = \"Sometimes I feel pressure to perform well at school, but my father never seems to drive my sister to do better.\"\n",
    "doc5 = \"Health experts say that Sugar is not good for your lifestyle.\"\n",
    "\n",
    "# compile documents\n",
    "doc_complete = [doc1, doc2, doc3, doc4, doc5]"
   ]
  },
  {
   "cell_type": "code",
   "execution_count": 2,
   "metadata": {
    "collapsed": false
   },
   "outputs": [],
   "source": [
    "from nltk.corpus import stopwords \n",
    "from nltk.stem.wordnet import WordNetLemmatizer\n",
    "import string\n",
    "stop = set(stopwords.words('english'))\n",
    "exclude = set(string.punctuation) \n",
    "lemma = WordNetLemmatizer()\n",
    "def clean(doc):\n",
    "    stop_free = \" \".join([i for i in doc.lower().split() if i not in stop])\n",
    "    punc_free = ''.join(ch for ch in stop_free if ch not in exclude)\n",
    "    normalized = \" \".join(lemma.lemmatize(word) for word in punc_free.split())\n",
    "    return normalized\n",
    "\n",
    "doc_clean = [clean(doc).split() for doc in doc_complete]"
   ]
  },
  {
   "cell_type": "code",
   "execution_count": 3,
   "metadata": {
    "collapsed": false
   },
   "outputs": [],
   "source": [
    "# Importing Gensim\n",
    "import gensim\n",
    "from gensim import corpora\n",
    "\n",
    "# Creating the term dictionary of our courpus, where every unique term is assigned an index. dictionary = corpora.Dictionary(doc_clean)\n",
    "dictionary = corpora.Dictionary(doc_clean)\n",
    "# Converting list of documents (corpus) into Document Term Matrix using dictionary prepared above.\n",
    "doc_term_matrix = [dictionary.doc2bow(doc) for doc in doc_clean]"
   ]
  },
  {
   "cell_type": "code",
   "execution_count": 4,
   "metadata": {
    "collapsed": true
   },
   "outputs": [],
   "source": [
    "# Creating the object for LDA model using gensim library\n",
    "Lda = gensim.models.ldamodel.LdaModel\n",
    "\n",
    "# Running and Trainign LDA model on the document term matrix.\n",
    "ldamodel = Lda(doc_term_matrix, num_topics=3, id2word = dictionary, passes=50)"
   ]
  },
  {
   "cell_type": "code",
   "execution_count": 5,
   "metadata": {
    "collapsed": false
   },
   "outputs": [
    {
     "name": "stdout",
     "output_type": "stream",
     "text": [
      "[(0, u'0.085*sugar + 0.084*father + 0.084*sister'), (1, u'0.056*pressure + 0.056*sometimes + 0.056*seems'), (2, u'0.050*driving + 0.050*cause + 0.050*stress')]\n"
     ]
    }
   ],
   "source": [
    "print(ldamodel.print_topics(num_topics=3, num_words=3))"
   ]
  },
  {
   "cell_type": "code",
   "execution_count": null,
   "metadata": {
    "collapsed": true
   },
   "outputs": [],
   "source": []
  }
 ],
 "metadata": {
  "kernelspec": {
   "display_name": "Python 2",
   "language": "python",
   "name": "python2"
  },
  "language_info": {
   "codemirror_mode": {
    "name": "ipython",
    "version": 2
   },
   "file_extension": ".py",
   "mimetype": "text/x-python",
   "name": "python",
   "nbconvert_exporter": "python",
   "pygments_lexer": "ipython2",
   "version": "2.7.13"
  }
 },
 "nbformat": 4,
 "nbformat_minor": 0
}
