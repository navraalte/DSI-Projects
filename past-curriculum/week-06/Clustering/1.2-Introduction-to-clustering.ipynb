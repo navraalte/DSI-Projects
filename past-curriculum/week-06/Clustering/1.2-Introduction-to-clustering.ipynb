{
 "cells": [
  {
   "cell_type": "markdown",
   "metadata": {
    "collapsed": true
   },
   "source": [
    "---\n",
    "title: Intro to Clustering\n",
    "duration: \"1:25\"\n",
    "creator:\n",
    "\n",
    "    name: Patrick Smith\n",
    "    city: DC \n",
    "---\n",
    "---\n",
    "edited:\n",
    "\n",
    "    name: Ferris Jumah\n",
    "    city: SF \n",
    "---\n",
    "\n",
    "# ![](https://ga-dash.s3.amazonaws.com/production/assets/logo-9f88ae6c9c3871690e33280fcf557f33.png) Intro to Clustering\n",
    "\n",
    "\n",
    "Week **6**| Lesson **1.2**\n",
    "\n",
    "### LEARNING OBJECTIVES\n",
    "*After this lesson, you will be able to:*\n",
    "- Format and preprocess data for cluster\n",
    "- Perform a K-Means Clustering Analysis\n",
    "- Evaluate clusters for fit \n",
    "\n",
    "\n",
    "### STUDENT PRE-WORK\n",
    "*Before this lesson, you should already be able to:*\n",
    "- Write functions in Python\n",
    "- Have a working knowledge of Pandas and Scikit-Learn\n",
    "\n",
    "### INSTRUCTOR PREP\n",
    "*Before this lesson, instructors will need to:*\n",
    "- Prepare the starter and solution code on their local machine\n",
    "\n",
    "\n",
    "\n",
    "---\n",
    "| TIMING  | TYPE  \n",
    "|:-:|---|---|\n",
    "| 25 min| [Review](#review) |\n",
    "| 10 min| [**Industry Example **](#hook) |\n",
    "| 45 min| [**Content **](#content) |\n",
    "| 20 min| [Conclusion](#conclusion) |\n",
    "| 5 min | [Additional Resources](#more)\n",
    "\n",
    "---\n",
    "\n",
    "\n",
    "<a name=\"opening\"></a>\n",
    "## Opening (5 mins)\n",
    "> Instructor Note: \n",
    "- Review pre-work, projects, or exit ticket, if applicable\n",
    "- Review current lesson objectives\n",
    "- Reference general course content or topics (e.g. code or concepts that have been used across multiple lessons)\n",
    "- Include Hook / Real-world Relevance (why the content from this lesson is useful or important)\n",
    "\n",
    "<a name=\"introduction\"></a>\n",
    "## Introduction: Intro to Clustering (5 mins)\n",
    "\n",
    "\n",
    "#### What is Clustering? \n",
    "\n",
    "Clustering is one of the most ubiquitous and widespread methods for understanding a dataset. In clustering, we group points in a dataset together so that the members of that group are more similar to each other than they are to members of other groups. In this sense, we're creating groups to understand our data. \n",
    "\n",
    "For instance; Your employer gives you a dataset of voter preferences from a local poll and they want you to figure out just exactly how these voters are grouping based on their preferences. The answer: clustering!\n",
    "\n",
    "#### How is Clustering Different from Classification? \n",
    "\n",
    "You may be thinking: How is clustering different from classification? If we're just creating groups, aren't the two one and the same?\n",
    "There exists an important distinction between classification and clustering: In classification, we are grouping data according to a set of predefined groups; We know what the characteristics of a mammal are, and humans have the characteristics of that predefined group. In clustering, however, we set out to figure out *if* the points in our dataset have relationships with each other, and we group those with similar characteristics in a cluster. In other words, we need to discover the classes themselves.\n",
    "\n",
    "##### Further intuition \n",
    "[Why is Clustering Not Classification](https://www.quora.com/Why-is-clustering-not-classification)\n",
    "\n",
    "**Check ** How is clustering different from classification? When might we use one over the other? Can you provide some examples?\n",
    "\n",
    "----\n",
    "<a name=\"demo\"></a>\n",
    "## How Does Clustering Work? - Demo (10 mins)\n",
    "\n",
    "The are numerous algorithms for clustering a dataset; today we're going to look at one of the most commonly used algorithms: k-means.\n",
    "\n",
    "#### K-Means Clustering\n",
    "\n",
    "K-Means is a clustering algorithm that assumes *k* clusters, and then computes these clusters based on the attributes of the available data. The algorithm takes your entire dataset, let's call it *df*, and iterates over its attributes to determine clusters based around centers, known as **centroids**. Unlike many statistical methods, there is no finite way to determine what \"k\" is; for our methods, we're going to approximate *k* based on distribution of our data. \n",
    "\n",
    "####  K-Means Algorithm\n",
    "1. Choose number of clusters, K\n",
    "2. Randomly K choose centroids, data points to serve as centers\n",
    "3. Calculate distance between every point and centroids\n",
    "4. Assign points to closest centroids\n",
    "5. Calculate \"average points\" of clusters\n",
    "6. Use average points and repeat steps 3-5\n",
    "7. Repeat until convergence or \"stop point\"\n",
    "\n",
    "**DATA VISUALIZATION:** This algorithm is visualized in a step-by-step manner [check it out!](http://tech.nitoyon.com/en/blog/2013/11/07/k-means/)\n",
    "\n",
    "----\n",
    "\n",
    "**Important Note** K means does not guarrentee the same results with each run\n",
    "\n",
    "**Check:** Can you remember what Mathematical distance is? What algorithm does this remind you of?\n",
    "\n",
    "**Unsupervised and supervised algorithms bare many similarities**\n",
    "\n",
    "[Great visualization](http://opencv-python-tutroals.readthedocs.io/en/latest/py_tutorials/py_ml/py_kmeans/py_kmeans_understanding/py_kmeans_understanding.html)\n",
    "\n",
    "-----\n",
    "\n",
    "#### K-Means in Python\n",
    "\n",
    "Implementing k-means in python is as simple as calling a function from the Scikit-Learn toolbox:\n",
    "\n",
    "```python\n",
    "sklearn.cluster.KMeans(n_clusters=k)\n",
    "```\n",
    "\n",
    "Getting to this point takes a good deal of preprocessing - however we'll touch on that in a bit. To find *k* in python, we can use an approximation using a graph of the dataset.\n",
    "\n",
    "We can also test the accuracy of our k-means test by computing the **Silhouette Coefficient**, a metric to test how well each of the data points lies within the cluster\n",
    "\n",
    "```python\n",
    "metrics.silhouette_score(test, labels, metric='euclidean')\n",
    "plt.plot(s)\n",
    "plt.ylabel(\"Silouette\")\n",
    "plt.xlabel(\"k\")\n",
    "sns.despine()\n",
    "```\n",
    "\n",
    "-----\n",
    "\n",
    "\n",
    "###### Silhouette Value\n",
    "\n",
    "The silhouette value for each point is a measure of how similar that point is to points in its own cluster compared to points in other clusters, and ranges from -1 to +1.\n",
    "\n",
    "The silhouette value for the ith point, Si, is defined as\n",
    "\n",
    "* Si = (bi-ai)/ max(ai,bi) where ai is the average distance from the ith point to the other points in the same cluster as i, and bi is the minimum average distance from the ith point to points in a different cluster, minimized over clusters.\n",
    "\n",
    "This is then averaged across all points.\n",
    "\n",
    "This method just compares the intra-group similarity to closest group similarity. If any data member average distance to other members of the same cluster is higher than average distance to some other cluster members, then this value is negative and clustering is not successful. On the other hand, silhouette values close to 1 indicates a successful clustering operation. 0.5 is not an exact measure for clustering.\n",
    "\n",
    "\n",
    "-----"
   ]
  },
  {
   "cell_type": "markdown",
   "metadata": {},
   "source": [
    "<a name=\"guided-practice\"></a>\n",
    "## Guided Practice: Preparing your analysis & Handling Data (15 mins)\n",
    "\n",
    "Let's say that you're asked to perform a k-means clustering analysis on the classic Iris dataset - how would you go about it?\n",
    "\n",
    "First; Let's setup out imports: "
   ]
  },
  {
   "cell_type": "code",
   "execution_count": 6,
   "metadata": {
    "collapsed": true
   },
   "outputs": [],
   "source": [
    "%matplotlib inline \n",
    "\n",
    "import pandas as pd\n",
    "import numpy as np\n",
    "import seaborn as sns\n",
    "from sklearn import cluster\n",
    "from sklearn import metrics\n",
    "from sklearn.metrics import pairwise_distances\n",
    "from sklearn import cluster, datasets\n",
    "import matplotlib.pyplot as plt\n",
    "import matplotlib\n",
    "matplotlib.style.use('ggplot')"
   ]
  },
  {
   "cell_type": "markdown",
   "metadata": {},
   "source": [
    "We're going to be using **Scikit-Learn** for our analysis; let's load in the [Iris](./assets/datasets/iris.csv) dataset using Pandas"
   ]
  },
  {
   "cell_type": "code",
   "execution_count": 7,
   "metadata": {
    "collapsed": false
   },
   "outputs": [
    {
     "data": {
      "text/html": [
       "<div>\n",
       "<table border=\"1\" class=\"dataframe\">\n",
       "  <thead>\n",
       "    <tr style=\"text-align: right;\">\n",
       "      <th></th>\n",
       "      <th>SepalLength</th>\n",
       "      <th>SepalWidth</th>\n",
       "      <th>PetalLength</th>\n",
       "      <th>PetalWidth</th>\n",
       "      <th>Name</th>\n",
       "    </tr>\n",
       "  </thead>\n",
       "  <tbody>\n",
       "    <tr>\n",
       "      <th>0</th>\n",
       "      <td>5.1</td>\n",
       "      <td>3.5</td>\n",
       "      <td>1.4</td>\n",
       "      <td>0.2</td>\n",
       "      <td>Iris-setosa</td>\n",
       "    </tr>\n",
       "    <tr>\n",
       "      <th>1</th>\n",
       "      <td>4.9</td>\n",
       "      <td>3.0</td>\n",
       "      <td>1.4</td>\n",
       "      <td>0.2</td>\n",
       "      <td>Iris-setosa</td>\n",
       "    </tr>\n",
       "    <tr>\n",
       "      <th>2</th>\n",
       "      <td>4.7</td>\n",
       "      <td>3.2</td>\n",
       "      <td>1.3</td>\n",
       "      <td>0.2</td>\n",
       "      <td>Iris-setosa</td>\n",
       "    </tr>\n",
       "    <tr>\n",
       "      <th>3</th>\n",
       "      <td>4.6</td>\n",
       "      <td>3.1</td>\n",
       "      <td>1.5</td>\n",
       "      <td>0.2</td>\n",
       "      <td>Iris-setosa</td>\n",
       "    </tr>\n",
       "    <tr>\n",
       "      <th>4</th>\n",
       "      <td>5.0</td>\n",
       "      <td>3.6</td>\n",
       "      <td>1.4</td>\n",
       "      <td>0.2</td>\n",
       "      <td>Iris-setosa</td>\n",
       "    </tr>\n",
       "  </tbody>\n",
       "</table>\n",
       "</div>"
      ],
      "text/plain": [
       "   SepalLength  SepalWidth  PetalLength  PetalWidth         Name\n",
       "0          5.1         3.5          1.4         0.2  Iris-setosa\n",
       "1          4.9         3.0          1.4         0.2  Iris-setosa\n",
       "2          4.7         3.2          1.3         0.2  Iris-setosa\n",
       "3          4.6         3.1          1.5         0.2  Iris-setosa\n",
       "4          5.0         3.6          1.4         0.2  Iris-setosa"
      ]
     },
     "execution_count": 7,
     "metadata": {},
     "output_type": "execute_result"
    }
   ],
   "source": [
    "iris = pd.read_csv(\"./assets/datasets/iris.csv\")\n",
    "iris.head(n=5)"
   ]
  },
  {
   "cell_type": "code",
   "execution_count": 1,
   "metadata": {
    "collapsed": false
   },
   "outputs": [],
   "source": [
    "##Can we notice any clusters through EDA to help us decide on the K?"
   ]
  },
  {
   "cell_type": "markdown",
   "metadata": {},
   "source": [
    "With the Iris dataset, we already have labels, lets use those to see of our guess on number of clusters was correct"
   ]
  },
  {
   "cell_type": "code",
   "execution_count": 2,
   "metadata": {
    "collapsed": false
   },
   "outputs": [],
   "source": [
    "# plot a pairplot using seaborn\n"
   ]
  },
  {
   "cell_type": "markdown",
   "metadata": {},
   "source": [
    "We can see that regardless of what factors we plot, there seems to be two distinct clusters emerging - this will help us with the next portion of our analysis: running the k-means test. \n",
    "\n",
    "Before we get there, there is a but more pre-processing to do. "
   ]
  },
  {
   "cell_type": "code",
   "execution_count": 3,
   "metadata": {
    "collapsed": true
   },
   "outputs": [],
   "source": [
    "#Now that we have our data; let's convert it to a Pandas dataframe for our analysis: \n"
   ]
  },
  {
   "cell_type": "markdown",
   "metadata": {},
   "source": [
    "Our dataset has the categorical column **Name** in it, so we'll to convert this columns to numeric data for the k-means algorithm to accept it. Typically, that would take a simple **if** statement to for all of the values in the categorical column. For this dataset, the name column has *Iris-setosa*, *Iris-virginica*, and *Iris-versicolor* as attributes. \n",
    "\n",
    "Let's write a definition: "
   ]
  },
  {
   "cell_type": "code",
   "execution_count": 4,
   "metadata": {
    "collapsed": true
   },
   "outputs": [],
   "source": [
    "def name_to_numeric(x):\n",
    "     pass"
   ]
  },
  {
   "cell_type": "code",
   "execution_count": null,
   "metadata": {
    "collapsed": false
   },
   "outputs": [],
   "source": []
  },
  {
   "cell_type": "markdown",
   "metadata": {},
   "source": [
    "<a name=\"guided-practice\"></a>\n",
    "## Guided Practice: Perform K-Means Clustering (15 mins)\n",
    "\n",
    "Before you perform your k-means test - there are still some transformations to do: \n",
    "\n",
    "We convert our data into a Numpy Array:"
   ]
  },
  {
   "cell_type": "code",
   "execution_count": 5,
   "metadata": {
    "collapsed": true
   },
   "outputs": [],
   "source": [
    "# convert dataframe to array\n"
   ]
  },
  {
   "cell_type": "markdown",
   "metadata": {},
   "source": [
    "And we're ready to go!\n",
    "\n",
    "Now that we've formatted our data and understand it's structures, we can finally go ahead and cluster.\n",
    "\n",
    "We're going to set *k* at two given behavior we were seeing above in our graphs. "
   ]
  },
  {
   "cell_type": "code",
   "execution_count": 6,
   "metadata": {
    "collapsed": false
   },
   "outputs": [],
   "source": [
    "#We can use Scikit's built-in functions to \n",
    "#determine the locations of the centroids and their labels: \n",
    "\n"
   ]
  },
  {
   "cell_type": "code",
   "execution_count": 7,
   "metadata": {
    "collapsed": false
   },
   "outputs": [],
   "source": [
    "#And to compute the clusters' silhouette coefficient:\n",
    "\n"
   ]
  },
  {
   "cell_type": "code",
   "execution_count": 8,
   "metadata": {
    "collapsed": false
   },
   "outputs": [],
   "source": [
    "# use seaborn to color code and plot the clusters"
   ]
  },
  {
   "cell_type": "code",
   "execution_count": 9,
   "metadata": {
    "collapsed": false
   },
   "outputs": [],
   "source": [
    "#Compare to actual clusters\n"
   ]
  },
  {
   "cell_type": "markdown",
   "metadata": {},
   "source": [
    "\n",
    "...and we're done! You've completed your first clustering analysis.\n",
    "\n",
    "\n",
    "\n",
    "<a name=\"conclusion\"></a>\n",
    "## Conclusion (5 mins)\n",
    "\n",
    "In this lesson you covered how to: \n",
    "- Format and preprocess data for cluster\n",
    "- Perform a K-Means Clustering Analysis\n",
    "- Evaluate clusters for fit \n",
    "\n",
    "\n",
    "\n",
    "***\n",
    "\n",
    "### ADDITIONAL RESOURCES\n",
    "\n",
    "- An [Introductory Tutorial on Clustering](http://home.deib.polimi.it/matteucc/Clustering/tutorial_html/)\n",
    "- A [Deep Dive from Wikipedia](https://en.wikipedia.org/wiki/K-means_clustering)\n",
    "- A Blog From [Galvanize on Clustering](http://www.galvanize.com/blog/introduction-k-means-cluster-analysis/#.VzzxhGPqNFI)\n"
   ]
  }
 ],
 "metadata": {
  "anaconda-cloud": {},
  "kernelspec": {
   "display_name": "Python [conda env:dsi]",
   "language": "python",
   "name": "conda-env-dsi-py"
  },
  "language_info": {
   "codemirror_mode": {
    "name": "ipython",
    "version": 2
   },
   "file_extension": ".py",
   "mimetype": "text/x-python",
   "name": "python",
   "nbconvert_exporter": "python",
   "pygments_lexer": "ipython2",
   "version": "2.7.13"
  }
 },
 "nbformat": 4,
 "nbformat_minor": 0
}
