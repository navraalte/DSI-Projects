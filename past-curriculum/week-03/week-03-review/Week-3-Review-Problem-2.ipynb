{
 "cells": [
  {
   "cell_type": "markdown",
   "metadata": {},
   "source": [
    "### Review Problem 2\n",
    "\n",
    "In this problem you will be defining a function that calculates the pearson correlation coefficient between two lists of numbers.\n",
    "Your function should:\n",
    "\n",
    "- Accept two arguments that are the provided lists X and Y.\n",
    "\n",
    "- Print the length of X and Y using the len() function, like so:\n",
    "      Length of X: 40\n",
    "      Length of Y: 40\n",
    "  \n",
    "  \n",
    "  \n",
    "- Calculate the pearson correlation between the two lists and assign the value to variable pearson_r.\n",
    "\n",
    "\n",
    "- Create a variable X_deviation that is each element of X minus the mean of X. You can use np.mean() to calculate the mean.\n",
    "\n",
    "\n",
    "- Create a variable Y_deviation that is each element of Y minus the mean of Y.\n",
    "- Create a variable sqrt_X_deviation_sq that is the square root of the sum of the square of each element of X_deviation. Ive partially completed it below, for clarification:\n",
    "      sqrt_X_deviation_sq = np.sqrt(np.sum(\"each element of X_deviation squared\"))\n",
    "      \n",
    "- Create a variable sqrt_Y_deviation_sq that is the same thing you just did for X_deviation but for Y_deviation.\n",
    "\n",
    "\n",
    "- Create a variable sum_XY_deviation that is the sum of each element of X and Y multiplied by each other, in order. You can use the zip() function to iterate through two lists at the same time:\n",
    "      \n",
    "      for x_d, y_d in zip(X_deviation, Y_deviation):\n",
    "        pearson_r is equal to sum_XY_deviation divided by (sqrt_X_deviation_sq * sqrt_Y_deviation_sq)\n",
    "        \n",
    "- Print pearson_r\n",
    "- Check if it is the same as numpys correlation function. Print np.corrcoef(X, Y)[0,1]"
   ]
  },
  {
   "cell_type": "code",
   "execution_count": null,
   "metadata": {
    "collapsed": false
   },
   "outputs": [],
   "source": []
  },
  {
   "cell_type": "code",
   "execution_count": null,
   "metadata": {
    "collapsed": true
   },
   "outputs": [],
   "source": []
  }
 ],
 "metadata": {
  "kernelspec": {
   "display_name": "Python [Root]",
   "language": "python",
   "name": "Python [Root]"
  },
  "language_info": {
   "codemirror_mode": {
    "name": "ipython",
    "version": 2
   },
   "file_extension": ".py",
   "mimetype": "text/x-python",
   "name": "python",
   "nbconvert_exporter": "python",
   "pygments_lexer": "ipython2",
   "version": "2.7.12"
  }
 },
 "nbformat": 4,
 "nbformat_minor": 0
}
