{
 "cells": [
  {
   "cell_type": "markdown",
   "metadata": {},
   "source": [
    "### Review Problem 3\n",
    "\n",
    "You are given a string . \n",
    "The string contains only lowercase English alphabet characters.\n",
    "\n",
    "Your task is to find the top three most common characters in the string .\n",
    "\n",
    "- Input Format\n",
    "\n",
    "A single line of input containing the string .\n",
    "\n",
    "\n",
    "- Output Format\n",
    "\n",
    "Print the three most common characters along with their occurrence count each on a separate line.\n",
    "Sort output in descending order of occurrence count.\n",
    "If the occurrence count is the same, sort the characters in ascending order.\n",
    "\n",
    "\n",
    "- Sample Input\n",
    "\n",
    "    aabbbccde\n",
    "    \n",
    "    \n",
    "- Sample Output\n",
    "\n",
    "    b 3 \n",
    "    a 2\n",
    "    c 2\n",
    "\n",
    "\n",
    "- Explanation\n",
    "\n",
    "Here, b occurs  times. It is printed first.\n",
    "Both a and c occur  times. So, a is printed in the second line and c in the third line because a comes before c.\n",
    "\n"
   ]
  },
  {
   "cell_type": "code",
   "execution_count": null,
   "metadata": {
    "collapsed": false
   },
   "outputs": [],
   "source": []
  },
  {
   "cell_type": "code",
   "execution_count": null,
   "metadata": {
    "collapsed": true
   },
   "outputs": [],
   "source": []
  }
 ],
 "metadata": {
  "kernelspec": {
   "display_name": "Python [Root]",
   "language": "python",
   "name": "Python [Root]"
  },
  "language_info": {
   "codemirror_mode": {
    "name": "ipython",
    "version": 2
   },
   "file_extension": ".py",
   "mimetype": "text/x-python",
   "name": "python",
   "nbconvert_exporter": "python",
   "pygments_lexer": "ipython2",
   "version": "2.7.12"
  }
 },
 "nbformat": 4,
 "nbformat_minor": 0
}
