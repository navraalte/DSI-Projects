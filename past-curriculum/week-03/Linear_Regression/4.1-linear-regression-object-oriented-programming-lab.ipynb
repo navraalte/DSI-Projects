{
 "cells": [
  {
   "cell_type": "markdown",
   "metadata": {},
   "source": [
    "<img src=\"https://ga-dash.s3.amazonaws.com/production/assets/logo-9f88ae6c9c3871690e33280fcf557f33.png\" style=\"float: left; margin: 15px;\">\n",
    "\n",
    "## Linear Regression and Object Oriented Programming\n",
    "\n",
    "Week 3 | 4.1\n",
    "\n",
    "\n",
    "---"
   ]
  },
  {
   "cell_type": "markdown",
   "metadata": {},
   "source": [
    "### Deriving the least squares solution to linear regression\n",
    "\n",
    "With target vector $y$ and prediction matrix $X$, we can formulate a regression as:\n",
    "\n",
    "### $$ y = \\beta X + \\epsilon $$\n",
    "\n",
    "Where $\\beta$ is our vector of coefficients and $\\epsilon$ is our vector of errors, or residuals.\n",
    "\n",
    "We can equivalently formulate this as a calculation of the residuals:\n",
    "\n",
    "### $$ \\epsilon = y - \\beta X$$\n",
    "\n",
    "Our goal is to minimize the sum of squared residuals. The sum of squared residuals is equivalent to the dot product of the vector of residuals:\n",
    "\n",
    "### $$ \\sum_{i=1}^n \\epsilon_i^2 = \n",
    "\\left[\\begin{array}{cc}\n",
    "\\epsilon_1 \\cdots \\epsilon_n\n",
    "\\end{array}\\right] \n",
    "\\left[\\begin{array}{cc}\n",
    "\\epsilon_1 \\\\ \\cdots \\\\ \\epsilon_n\n",
    "\\end{array}\\right] = \\epsilon' \\epsilon\n",
    "$$\n",
    "\n",
    "Therefore we can write the sum of squared residuals as:\n",
    "\n",
    "### $$ \\epsilon' \\epsilon = (y - \\beta X)' (y - \\beta X) $$\n",
    "\n",
    "Which becomes:\n",
    "\n",
    "### $$ \\epsilon' \\epsilon = y'y - y'X\\beta - \\beta' X' y + \\beta' X' X \\beta $$\n",
    "\n",
    "Now take the derivative with respect to $\\beta$:\n",
    "\n",
    "### $$ \\frac{\\partial \\epsilon' \\epsilon}{\\partial \\beta} = \n",
    "-2X'y + 2X'X\\beta$$\n",
    "\n",
    "We want to minimize the sum of squared errors, and so we set the derivative to zero and solve for the beta coefficient vector:\n",
    "\n",
    "### $$ 0 = -2X'y + 2X'X\\beta \\\\\n",
    "X'X\\beta = X'y \\\\\n",
    "\\beta = (X'X)^{-1}X'y$$"
   ]
  },
  {
   "cell_type": "code",
   "execution_count": null,
   "metadata": {
    "collapsed": true
   },
   "outputs": [],
   "source": [
    "import pandas as pd\n",
    "import numpy as np\n",
    "import matplotlib\n",
    "import matplotlib.pyplot as plt\n",
    "import seaborn as sns\n",
    "\n",
    "sns.set_style('darkgrid')\n",
    "%config InlineBackend.figure_format = 'retina'\n",
    "%matplotlib inline"
   ]
  },
  {
   "cell_type": "code",
   "execution_count": 9,
   "metadata": {
    "collapsed": true
   },
   "outputs": [],
   "source": [
    "# load data\n",
    "house = '~/DSI-SF-5/datasets/fast_food_chains/discrim.csv'\n",
    "house = pd.read_csv(house)"
   ]
  },
  {
   "cell_type": "markdown",
   "metadata": {},
   "source": [
    "---\n",
    "\n",
    "## Classes and Objects\n",
    "\n",
    "In python, everything is an \"object\" of a specific type. This is the basis of what is known as object oriented programming.\n",
    "\n",
    "A class is a type of object. You can think of a class definition as a sort of \"blueprint\" that specifies the construction of a new object when instantiated.\n",
    "\n",
    "Knowing how to define and use classes is esential to programming python at an intermediate or advanced level. \n",
    "\n"
   ]
  },
  {
   "cell_type": "markdown",
   "metadata": {},
   "source": [
    "---\n",
    "\n",
    "### Coding a simple version of `LinearRegression`\n",
    "\n",
    "\n",
    "In the afternoon lesson, you will be exposed to opensource implementations that are commonly used in industry. The [statsmodels](http://statsmodels.sourceforge.net/devel/index.html) and [sklearn](http://scikit-learn.org/stable/) packages. Sklearn is especially popular and so we will create our LR class by imitating how skearn structures the class for its own models. For instance, just as sklearn, we will include a 'fit' and 'predict' method in our class. \n",
    "\n",
    "Here is the [Sklearn documentation for Linear Regression](http://scikit-learn.org/stable/modules/generated/sklearn.linear_model.LinearRegression.html) provided\n",
    "for your reference. Once again, we will go cover both of these packages in the afternoon lesson. \n",
    "\n",
    "We will walk through the creation of this class (a simplified version).\n",
    "\n",
    "\n",
    "### 1. The class definition\n",
    "\n",
    "Below is the beginning of our class blueprint:"
   ]
  },
  {
   "cell_type": "code",
   "execution_count": 2,
   "metadata": {
    "collapsed": true
   },
   "outputs": [],
   "source": [
    "class SimpleLinearRegression(object):\n",
    "    \n",
    "    def __init__(self):\n",
    "        self.coef_ = None\n",
    "        self.intercept_ = None"
   ]
  },
  {
   "cell_type": "markdown",
   "metadata": {},
   "source": [
    "What are the components of this?\n",
    "\n",
    "**`class`**\n",
    "\n",
    "- The `class` is like `def`, but instead of defining a function it defines a class.\n",
    "\n",
    "**`object`**\n",
    "\n",
    "- `object` in the parentheses of the class definition indicate that this class \"inherits\" from the `object` class. The object class is a very general, very fundamental class in python. Inheritance means that whatever properties and function are part of the `object` class are passed down to our `SimpleLinearRegression` class.\n",
    "\n",
    "**`def __init__(self)`**\n",
    "\n",
    "- The `def __init__(self):` is our class's initialization function. This function is called when you instantiate the class by typing `SimpleLinearRegression()`\n",
    "\n",
    "**`self`**\n",
    "\n",
    "- `self` is the (confusing) first argument to class definitions. It is a variable that refers to the **current instantiation of the class**. What does this mean? When you instantiate a class and assign it to a variable with `slr = SimpleLinearRegression()`, the `self` argument is now a reference to the current instantiation of the class `slr`. Now, when you use a function that is part of the class, it knows to use that specific object's function. This lets you have multiple instantiations of a class with the same function name.\n",
    "\n",
    "**class attributes**\n",
    "\n",
    "- `self.coef_` and `self.intercept_`, likewise, are \"attributes\" (variables) that are connected to the instantiation of the class. When self becomes `slr`, for example, the `self` becomes `slr` and `self.coef_` becomes `slr.coef`"
   ]
  },
  {
   "cell_type": "markdown",
   "metadata": {},
   "source": [
    "---\n",
    "\n",
    "### 2. Adding a class function\n",
    "\n",
    "Now, just like with `__init__`, we can add functions to the class.\n",
    "\n",
    "Let's add a `calculate_betas()` method that will calculate the coefficients for a linear regression."
   ]
  },
  {
   "cell_type": "code",
   "execution_count": null,
   "metadata": {
    "collapsed": true
   },
   "outputs": [],
   "source": []
  },
  {
   "cell_type": "markdown",
   "metadata": {},
   "source": [
    "Notice that we assigned `self.coef_` inside of the `calculate_betas()` function.\n",
    "\n",
    "This will set the class attribute `self.coef_`, and this attribute can be accessed by _any other function in the class without passing it as an argument!_\n",
    "\n",
    "It can also be accessed by you after instantiating the class.\n",
    "\n",
    "---\n",
    "\n",
    "### 3. Assigning attributes during instantiation\n",
    "\n",
    "There is an issue here - we may pass an `X` matrix in without an intercept. \n",
    "\n",
    "Add a keyword argument to the `__init__` function which will specify whether the `X` matrix should have an intercept added or not."
   ]
  },
  {
   "cell_type": "code",
   "execution_count": null,
   "metadata": {
    "collapsed": true
   },
   "outputs": [],
   "source": []
  },
  {
   "cell_type": "markdown",
   "metadata": {},
   "source": [
    "---\n",
    "\n",
    "### 4. Add a function to add an intercept to the `X` matrix if necessary\n",
    "\n",
    "This function will be called from inside the `fit` function."
   ]
  },
  {
   "cell_type": "code",
   "execution_count": null,
   "metadata": {
    "collapsed": true
   },
   "outputs": [],
   "source": []
  },
  {
   "cell_type": "markdown",
   "metadata": {},
   "source": [
    "---\n",
    "\n",
    "### 5. Try out the class...\n",
    "\n",
    "Let's instantiate the class and try out the coefficient fitting function on the housing data."
   ]
  },
  {
   "cell_type": "code",
   "execution_count": null,
   "metadata": {
    "collapsed": true
   },
   "outputs": [],
   "source": []
  },
  {
   "cell_type": "markdown",
   "metadata": {},
   "source": [
    "---\n",
    "\n",
    "### 6. Add the `predict` function.\n",
    "\n",
    "Let's add some more of the class methods that are in the real `LinearRegression` class.\n",
    "\n",
    "First off add the `predict` function. It will take a design matrix `X` and return predictions for those rows."
   ]
  },
  {
   "cell_type": "code",
   "execution_count": null,
   "metadata": {
    "collapsed": true
   },
   "outputs": [],
   "source": []
  },
  {
   "cell_type": "markdown",
   "metadata": {},
   "source": [
    "---\n",
    "\n",
    "### 7. Add a `score` method.\n",
    "\n",
    "This will calculate the $R^2$ of your model on a provided `X` and `y`.\n",
    "\n",
    "You'll probably need to write a helper function to calculate the sum of squared errors, since this will be run for both the baseline model and the regression model in order to calculate the $R^2$."
   ]
  },
  {
   "cell_type": "code",
   "execution_count": null,
   "metadata": {
    "collapsed": true
   },
   "outputs": [],
   "source": []
  },
  {
   "cell_type": "markdown",
   "metadata": {},
   "source": [
    "Check against sklearn's implementation:"
   ]
  },
  {
   "cell_type": "code",
   "execution_count": 3,
   "metadata": {
    "collapsed": true
   },
   "outputs": [],
   "source": [
    "from sklearn.linear_model import LinearRegression"
   ]
  },
  {
   "cell_type": "code",
   "execution_count": null,
   "metadata": {
    "collapsed": true
   },
   "outputs": [],
   "source": []
  },
  {
   "cell_type": "markdown",
   "metadata": {},
   "source": [
    "---\n",
    "\n",
    "### 8. Inspecting a class\n",
    "\n",
    "When we want to know more about a class object, we can use the \"inspect\" module. Specifically the `inspect.getmembers()` function takes an instantiated class as an argument and returns an information dictionary.\n",
    "\n",
    "This can be helpful to know what attributes and methods are avaiable and basically, the blueprint of a class object in memory.  Depending on the way the class was implemented, you can usually find useful information hiding inside of `slr.__class__.__dict__` -- which can be easier to look at.  The \"right way\" is to use the \"inspect\" module."
   ]
  },
  {
   "cell_type": "code",
   "execution_count": 4,
   "metadata": {
    "collapsed": true
   },
   "outputs": [],
   "source": [
    "import inspect"
   ]
  },
  {
   "cell_type": "code",
   "execution_count": null,
   "metadata": {
    "collapsed": true
   },
   "outputs": [],
   "source": []
  },
  {
   "cell_type": "markdown",
   "metadata": {},
   "source": [
    "---\n",
    "\n",
    "### Special Class Methods\n",
    "\n",
    "|Method| Description|\n",
    "|--|--|\n",
    "|\\_\\_init\\_\\_ ( self [,args...] )| Constructor (with any optional arguments) Sample Call : obj = className(args)\n",
    "|\\_\\_del\\_\\_( self ) | Destructor, deletes an object Sample Call : del obj\n",
    "|\\_\\_repr\\_\\_( self ) | Evaluatable string representation Sample Call : repr(obj)\n",
    "|\\_\\_str\\_\\_( self ) | Printable string representation Sample Call : str(obj)\n",
    "|\\_\\_cmp\\_\\_ ( self, x ) | Object comparison Sample Call : cmp(obj, x)\n",
    "\n",
    "The `__repr__` function reports back something descriptive about what the class represents.  You can basically do whatever you want with it but the purpose of it is to convey something descirptive about your class.\n",
    "\n",
    "The `__del__` method is the bookend function of `__init__`. You can use it to run code once your class is done executing.  \n",
    "\n",
    "Generally it works well but in practice there are a few things watch out for.  Read more about [safely using Python destructors](http://eli.thegreenplace.net/2009/06/12/safely-using-destructors-in-python)"
   ]
  },
  {
   "cell_type": "code",
   "execution_count": null,
   "metadata": {
    "collapsed": true
   },
   "outputs": [],
   "source": []
  }
 ],
 "metadata": {
  "anaconda-cloud": {},
  "kernelspec": {
   "display_name": "Python [default]",
   "language": "python",
   "name": "python2"
  },
  "language_info": {
   "codemirror_mode": {
    "name": "ipython",
    "version": 2
   },
   "file_extension": ".py",
   "mimetype": "text/x-python",
   "name": "python",
   "nbconvert_exporter": "python",
   "pygments_lexer": "ipython2",
   "version": "2.7.12"
  }
 },
 "nbformat": 4,
 "nbformat_minor": 0
}
