{
 "cells": [
  {
   "cell_type": "markdown",
   "metadata": {},
   "source": [
    "<img src=\"https://camo.githubusercontent.com/6ce15b81c1f06d716d753a61f5db22375fa684da/68747470733a2f2f67612d646173682e73332e616d617a6f6e6177732e636f6d2f70726f64756374696f6e2f6173736574732f6c6f676f2d39663838616536633963333837313639306533333238306663663535376633332e706e67\"; align=\"left\"; height=\"40\"; width=\"30\"> \n",
    "# Intro to Python\n",
    "\n"
   ]
  },
  {
   "cell_type": "markdown",
   "metadata": {},
   "source": [
    "#### History of Python\n",
    "\n",
    "Python 1: 1994\n",
    "\n",
    "Python 2: 2000\n",
    "\n",
    "Python 3: 2008\n",
    "\n",
    "Note: We will be using Python 2.7!"
   ]
  },
  {
   "cell_type": "code",
   "execution_count": 1,
   "metadata": {
    "collapsed": false
   },
   "outputs": [
    {
     "name": "stdout",
     "output_type": "stream",
     "text": [
      "The Zen of Python, by Tim Peters\n",
      "\n",
      "Beautiful is better than ugly.\n",
      "Explicit is better than implicit.\n",
      "Simple is better than complex.\n",
      "Complex is better than complicated.\n",
      "Flat is better than nested.\n",
      "Sparse is better than dense.\n",
      "Readability counts.\n",
      "Special cases aren't special enough to break the rules.\n",
      "Although practicality beats purity.\n",
      "Errors should never pass silently.\n",
      "Unless explicitly silenced.\n",
      "In the face of ambiguity, refuse the temptation to guess.\n",
      "There should be one-- and preferably only one --obvious way to do it.\n",
      "Although that way may not be obvious at first unless you're Dutch.\n",
      "Now is better than never.\n",
      "Although never is often better than *right* now.\n",
      "If the implementation is hard to explain, it's a bad idea.\n",
      "If the implementation is easy to explain, it may be a good idea.\n",
      "Namespaces are one honking great idea -- let's do more of those!\n"
     ]
    }
   ],
   "source": [
    "import this"
   ]
  },
  {
   "cell_type": "code",
   "execution_count": 24,
   "metadata": {
    "collapsed": true
   },
   "outputs": [],
   "source": [
    "import numpy.random as rng\n",
    "students = [\"Brian\", \"Daniel\", \"Nathan\", \"Howard\", \"Erik\", \"Sasha\",\n",
    "            \"Yunus\", \"Anthony\", \"Lana\",  \"Taylor\"]\n",
    "\n",
    "def caller(): return rng.choice(students)"
   ]
  },
  {
   "cell_type": "markdown",
   "metadata": {},
   "source": [
    "### Session OBJECTIVES\n",
    "*After this lesson, you will be able to:*\n",
    "- Define integers, strings, tuples, lists, and dictionaries\n",
    "- Demonstrate arithmetic operations and string operations\n",
    "- Demonstrate variable assignment"
   ]
  },
  {
   "cell_type": "markdown",
   "metadata": {},
   "source": [
    "### STUDENT PRE-WORK\n",
    "*Before this lesson, you should already be able to:*\n",
    "- Describe/define Python data types"
   ]
  },
  {
   "cell_type": "markdown",
   "metadata": {},
   "source": [
    "<a name=\"introduction\"></a>\n",
    "## Introduction: Python Data Types (5 mins)\n",
    "\n",
    "Integers: whole numbers from negative infinity to infinity, such as 1, 0, -5, etc.\n",
    "\n",
    "Booleans: subtypes of int\n",
    "\n",
    "Floats: short for \"floating point number,\" any rational number, usually used with decimals such as 2.8 or 3.14159.\n",
    "\n",
    "Strings: a set of letters, numbers, or other characters.\n",
    "\"Frank Underwood, I am your father.\"\n",
    "\n",
    "Tuples: a list with a fixed number of elements. ie x=(1,2,3) parentheses makes it a tuple.\n",
    "x = (\"Kirk\", \"Picard\", \"Spock\")\n",
    "\n",
    "Lists: a list without a fixed number of elements. ie x=[1,2,3] note the square brackets, a list\n",
    "x = [\"Lord\", \"of\", \"the\", \"Rings\"]\n",
    "\n",
    "Dictionaries: a type with multiple elements i.e. x = {1: 'a','b': 2,3: 3} where you address the elements with, e.g., a text.\n",
    "x = {'key1':'value1', 'key2':'value2'}\n",
    "\n",
    "[Python Basic data types](https://en.wikiversity.org/wiki/Python/Basic_data_types)"
   ]
  },
  {
   "cell_type": "markdown",
   "metadata": {},
   "source": [
    "** Integers ** : Integers are numeric values and can be stored, manipulated, and expressed inside variables without quotes. In iPython notebook type:\n",
    "\n"
   ]
  },
  {
   "cell_type": "code",
   "execution_count": 3,
   "metadata": {
    "collapsed": false
   },
   "outputs": [
    {
     "data": {
      "text/plain": [
       "23"
      ]
     },
     "execution_count": 3,
     "metadata": {},
     "output_type": "execute_result"
    }
   ],
   "source": [
    "23"
   ]
  },
  {
   "cell_type": "code",
   "execution_count": 4,
   "metadata": {
    "collapsed": false
   },
   "outputs": [
    {
     "data": {
      "text/plain": [
       "-44"
      ]
     },
     "execution_count": 4,
     "metadata": {},
     "output_type": "execute_result"
    }
   ],
   "source": [
    "-44"
   ]
  },
  {
   "cell_type": "code",
   "execution_count": 5,
   "metadata": {
    "collapsed": false
   },
   "outputs": [
    {
     "data": {
      "text/plain": [
       "26"
      ]
     },
     "execution_count": 5,
     "metadata": {},
     "output_type": "execute_result"
    }
   ],
   "source": [
    "45-19"
   ]
  },
  {
   "cell_type": "markdown",
   "metadata": {},
   "source": [
    "** Booleans**: subtypes of int that are used to denote true value."
   ]
  },
  {
   "cell_type": "code",
   "execution_count": 33,
   "metadata": {
    "collapsed": false
   },
   "outputs": [
    {
     "data": {
      "text/plain": [
       "True"
      ]
     },
     "execution_count": 33,
     "metadata": {},
     "output_type": "execute_result"
    }
   ],
   "source": [
    "True "
   ]
  },
  {
   "cell_type": "code",
   "execution_count": 34,
   "metadata": {
    "collapsed": false
   },
   "outputs": [
    {
     "data": {
      "text/plain": [
       "False"
      ]
     },
     "execution_count": 34,
     "metadata": {},
     "output_type": "execute_result"
    }
   ],
   "source": [
    "False"
   ]
  },
  {
   "cell_type": "code",
   "execution_count": 35,
   "metadata": {
    "collapsed": false
   },
   "outputs": [
    {
     "data": {
      "text/plain": [
       "False"
      ]
     },
     "execution_count": 35,
     "metadata": {},
     "output_type": "execute_result"
    }
   ],
   "source": [
    "not True "
   ]
  },
  {
   "cell_type": "code",
   "execution_count": 36,
   "metadata": {
    "collapsed": false
   },
   "outputs": [
    {
     "data": {
      "text/plain": [
       "True"
      ]
     },
     "execution_count": 36,
     "metadata": {},
     "output_type": "execute_result"
    }
   ],
   "source": [
    "True == 1"
   ]
  },
  {
   "cell_type": "code",
   "execution_count": 37,
   "metadata": {
    "collapsed": false
   },
   "outputs": [
    {
     "data": {
      "text/plain": [
       "False"
      ]
     },
     "execution_count": 37,
     "metadata": {},
     "output_type": "execute_result"
    }
   ],
   "source": [
    "True and False"
   ]
  },
  {
   "cell_type": "code",
   "execution_count": 38,
   "metadata": {
    "collapsed": false
   },
   "outputs": [
    {
     "data": {
      "text/plain": [
       "True"
      ]
     },
     "execution_count": 38,
     "metadata": {},
     "output_type": "execute_result"
    }
   ],
   "source": [
    "True or False"
   ]
  },
  {
   "cell_type": "markdown",
   "metadata": {},
   "source": [
    "** Check for understanding: **\n",
    "\n",
    "What is output of: \n",
    "    \n",
    "    2 * 3 == 5\n",
    "    \n",
    "    2 * 3 != 5\n",
    "    \n",
    "    1 < 10\n",
    "    \n",
    "    1 < 2 < 3"
   ]
  },
  {
   "cell_type": "code",
   "execution_count": null,
   "metadata": {
    "collapsed": true
   },
   "outputs": [],
   "source": [
    "caller()"
   ]
  },
  {
   "cell_type": "markdown",
   "metadata": {},
   "source": [
    "** Strings **: Strings are a type. They are the basic unit of text in Python and all the other types except integers may contain strings. In iPython notebook type"
   ]
  },
  {
   "cell_type": "code",
   "execution_count": 6,
   "metadata": {
    "collapsed": false
   },
   "outputs": [
    {
     "data": {
      "text/plain": [
       "'I love Darth Vader'"
      ]
     },
     "execution_count": 6,
     "metadata": {},
     "output_type": "execute_result"
    }
   ],
   "source": [
    "\"I love Darth Vader\""
   ]
  },
  {
   "cell_type": "code",
   "execution_count": 7,
   "metadata": {
    "collapsed": false
   },
   "outputs": [
    {
     "name": "stdout",
     "output_type": "stream",
     "text": [
      "Luke, I am your father\n"
     ]
    }
   ],
   "source": [
    "## Variable Assignment \n",
    "x = \"Luke, I am your father\"\n",
    "\n",
    "print x"
   ]
  },
  {
   "cell_type": "markdown",
   "metadata": {},
   "source": [
    "** Lists **: A list is a changeable (mutable) sequence of data. A list is contained by square brackets i.e. [1,2,3]. "
   ]
  },
  {
   "cell_type": "code",
   "execution_count": 13,
   "metadata": {
    "collapsed": false
   },
   "outputs": [
    {
     "name": "stdout",
     "output_type": "stream",
     "text": [
      "4369463056\n",
      "4369463056\n"
     ]
    }
   ],
   "source": [
    "x = [\"Kirk\", \"Picard\", \"Spock\"]\n",
    "print id(x)\n",
    "\n",
    "x += [\"Abraham\",]\n",
    "\n",
    "print id(x)"
   ]
  },
  {
   "cell_type": "code",
   "execution_count": 14,
   "metadata": {
    "collapsed": false
   },
   "outputs": [
    {
     "name": "stdout",
     "output_type": "stream",
     "text": [
      "Kirk\n",
      "Spock\n"
     ]
    }
   ],
   "source": [
    "## You can access lists by\n",
    "print x[0]\n",
    "print x[2]"
   ]
  },
  {
   "cell_type": "markdown",
   "metadata": {},
   "source": [
    "** Check for Understanding  **:\n",
    "\n",
    "- What happens at x[11]?\n",
    "\n",
    "- What about at x[-1]?\n",
    "\n",
    "- What about at x[-3]"
   ]
  },
  {
   "cell_type": "code",
   "execution_count": null,
   "metadata": {
    "collapsed": false
   },
   "outputs": [],
   "source": [
    "caller()"
   ]
  },
  {
   "cell_type": "markdown",
   "metadata": {},
   "source": [
    "** Tuples **: A tuple is an unchangeable (immutable) sequence of values. When you typed ('I love Python') you only included one element. In iPython notebook type:"
   ]
  },
  {
   "cell_type": "code",
   "execution_count": 12,
   "metadata": {
    "collapsed": false
   },
   "outputs": [
    {
     "name": "stdout",
     "output_type": "stream",
     "text": [
      "4358075008\n",
      "4369379096\n"
     ]
    }
   ],
   "source": [
    "x = (\"Kirk\", \"Picard\", \"Spock\")\n",
    "print id(x)\n",
    "\n",
    "x += (\"Abraham\",)\n",
    "\n",
    "print id(x)"
   ]
  },
  {
   "cell_type": "markdown",
   "metadata": {},
   "source": [
    "** Dictionaries **: Dictionaries contain key and value. {} enclose dictionaries. The first input in a dictionary pair is the 'key'. The second input in a dictionary pair is the 'value'.\n",
    "\n",
    "    {'key1': 'value1', 'key2': 'value2'}\n"
   ]
  },
  {
   "cell_type": "code",
   "execution_count": 28,
   "metadata": {
    "collapsed": false
   },
   "outputs": [
    {
     "name": "stdout",
     "output_type": "stream",
     "text": [
      "{'key2': 'value2', 'key1': 'value1'}\n"
     ]
    }
   ],
   "source": [
    "x = {'key1':'value1', 'key2':'value2'}\n",
    "print(x)"
   ]
  },
  {
   "cell_type": "code",
   "execution_count": 30,
   "metadata": {
    "collapsed": false
   },
   "outputs": [],
   "source": [
    "## Adding new items to a dictionary\n",
    "x['key3'] = 'I love Python'"
   ]
  },
  {
   "cell_type": "code",
   "execution_count": 31,
   "metadata": {
    "collapsed": true
   },
   "outputs": [],
   "source": [
    "### Overwriting keys \n",
    "x['key1'] = 'new_value'"
   ]
  },
  {
   "cell_type": "code",
   "execution_count": 32,
   "metadata": {
    "collapsed": false
   },
   "outputs": [
    {
     "data": {
      "text/plain": [
       "False"
      ]
     },
     "execution_count": 32,
     "metadata": {},
     "output_type": "execute_result"
    }
   ],
   "source": [
    "### Checking if a key is in a dictionary\n",
    "'key4' in x "
   ]
  },
  {
   "cell_type": "markdown",
   "metadata": {},
   "source": [
    "** Check for understanding **: \n",
    "\n",
    "- How do you create two keys with the same value?\n",
    "\n",
    "- x[key4] yields?"
   ]
  },
  {
   "cell_type": "code",
   "execution_count": null,
   "metadata": {
    "collapsed": true
   },
   "outputs": [],
   "source": [
    "caller()"
   ]
  },
  {
   "cell_type": "markdown",
   "metadata": {},
   "source": [
    "** Arithmetic Operations **: Math is very straightforward in Python. + adds, - subtracts, / divides, and believe it or not * multiplies. The main thing to comment on is %. % performs a division and then returns the remainder. This is called the modulus operation. In iPython notebook type:"
   ]
  },
  {
   "cell_type": "code",
   "execution_count": 39,
   "metadata": {
    "collapsed": false
   },
   "outputs": [
    {
     "data": {
      "text/plain": [
       "0"
      ]
     },
     "execution_count": 39,
     "metadata": {},
     "output_type": "execute_result"
    }
   ],
   "source": [
    "9 % 3"
   ]
  },
  {
   "cell_type": "code",
   "execution_count": 40,
   "metadata": {
    "collapsed": false
   },
   "outputs": [
    {
     "data": {
      "text/plain": [
       "3"
      ]
     },
     "execution_count": 40,
     "metadata": {},
     "output_type": "execute_result"
    }
   ],
   "source": [
    "9 / 3"
   ]
  },
  {
   "cell_type": "code",
   "execution_count": 41,
   "metadata": {
    "collapsed": false
   },
   "outputs": [
    {
     "data": {
      "text/plain": [
       "0"
      ]
     },
     "execution_count": 41,
     "metadata": {},
     "output_type": "execute_result"
    }
   ],
   "source": [
    "9 / 11"
   ]
  },
  {
   "cell_type": "markdown",
   "metadata": {},
   "source": [
    "You can also use variables, and elements and values in simple arithmetic. In iPython notebook type:\n"
   ]
  },
  {
   "cell_type": "code",
   "execution_count": 42,
   "metadata": {
    "collapsed": false
   },
   "outputs": [
    {
     "data": {
      "text/plain": [
       "6"
      ]
     },
     "execution_count": 42,
     "metadata": {},
     "output_type": "execute_result"
    }
   ],
   "source": [
    "x = 1\n",
    "y = 5\n",
    "x + y"
   ]
  },
  {
   "cell_type": "code",
   "execution_count": 43,
   "metadata": {
    "collapsed": false
   },
   "outputs": [
    {
     "data": {
      "text/plain": [
       "5"
      ]
     },
     "execution_count": 43,
     "metadata": {},
     "output_type": "execute_result"
    }
   ],
   "source": [
    "x = [1, 2, 3]\n",
    "x[1] + x[2]"
   ]
  },
  {
   "cell_type": "markdown",
   "metadata": {},
   "source": [
    "This is how you use elements from a list to perform arithmetic operations. It should be clarified that x[0] = 1, x[1] = 2, and x[2] = 3. You can also add and multiply strings, tuples, and lists."
   ]
  },
  {
   "cell_type": "code",
   "execution_count": 44,
   "metadata": {
    "collapsed": false
   },
   "outputs": [
    {
     "data": {
      "text/plain": [
       "3"
      ]
     },
     "execution_count": 44,
     "metadata": {},
     "output_type": "execute_result"
    }
   ],
   "source": [
    "x = {'a':1, 'b':2}\n",
    "x['a'] + x['b']"
   ]
  },
  {
   "cell_type": "markdown",
   "metadata": {},
   "source": [
    "** Concatenating **: To add two strings together - to do this you just type the first string, an addition sign, the second string. In iPython notebook type:"
   ]
  },
  {
   "cell_type": "code",
   "execution_count": 46,
   "metadata": {
    "collapsed": false
   },
   "outputs": [
    {
     "data": {
      "text/plain": [
       "'X Files is awesome'"
      ]
     },
     "execution_count": 46,
     "metadata": {},
     "output_type": "execute_result"
    }
   ],
   "source": [
    "\"X Files\" + \" is awesome\""
   ]
  },
  {
   "cell_type": "code",
   "execution_count": 47,
   "metadata": {
    "collapsed": false
   },
   "outputs": [
    {
     "data": {
      "text/plain": [
       "'X Files is awesome'"
      ]
     },
     "execution_count": 47,
     "metadata": {},
     "output_type": "execute_result"
    }
   ],
   "source": [
    "x = \"X Files\"\n",
    "y = \" is awesome\"\n",
    "x + y"
   ]
  },
  {
   "cell_type": "code",
   "execution_count": 48,
   "metadata": {
    "collapsed": false
   },
   "outputs": [
    {
     "name": "stdout",
     "output_type": "stream",
     "text": [
      "('I', 'Love', 'True Detective Season 1')\n"
     ]
    }
   ],
   "source": [
    "x = ('I', 'Love')\n",
    "y = ('True Detective Season 1',)\n",
    "print(x + y)"
   ]
  },
  {
   "cell_type": "markdown",
   "metadata": {},
   "source": [
    "** Check for understanding **: How would it be different if you did: \n",
    "\n",
    "    x += ('True Detective Season 1',)\n",
    "\n",
    "    x += ['True Detective Season 1',]"
   ]
  },
  {
   "cell_type": "code",
   "execution_count": 53,
   "metadata": {
    "collapsed": false
   },
   "outputs": [
    {
     "data": {
      "text/plain": [
       "'Brian'"
      ]
     },
     "execution_count": 53,
     "metadata": {},
     "output_type": "execute_result"
    }
   ],
   "source": [
    "caller()"
   ]
  },
  {
   "cell_type": "markdown",
   "metadata": {},
   "source": [
    "** Multiplying types **\n",
    "\n",
    "Multiplying is very easy and straight forward. In iPython notebook type:"
   ]
  },
  {
   "cell_type": "code",
   "execution_count": 49,
   "metadata": {
    "collapsed": false
   },
   "outputs": [
    {
     "data": {
      "text/plain": [
       "'the americans the americans the americans the americans the americans '"
      ]
     },
     "execution_count": 49,
     "metadata": {},
     "output_type": "execute_result"
    }
   ],
   "source": [
    "x = 'the americans '\n",
    "x * 5"
   ]
  },
  {
   "cell_type": "code",
   "execution_count": 50,
   "metadata": {
    "collapsed": false
   },
   "outputs": [
    {
     "data": {
      "text/plain": [
       "('the americans',\n",
       " 'the americans',\n",
       " 'the americans',\n",
       " 'the americans',\n",
       " 'the americans')"
      ]
     },
     "execution_count": 50,
     "metadata": {},
     "output_type": "execute_result"
    }
   ],
   "source": [
    "x = ('the americans',)\n",
    "x * 5"
   ]
  },
  {
   "cell_type": "markdown",
   "metadata": {},
   "source": [
    "** Check for understanding **: What about \n",
    "\n",
    "    x = {'the americans': 1}\n",
    "    x * 5"
   ]
  },
  {
   "cell_type": "code",
   "execution_count": null,
   "metadata": {
    "collapsed": true
   },
   "outputs": [],
   "source": [
    "caller()"
   ]
  },
  {
   "cell_type": "markdown",
   "metadata": {},
   "source": [
    "** Indexing **\n",
    "\n",
    "You have already learned how to index in lesson 2. When you typed x[3] you were indexing. You may also index a string without first making a variable represent it. In iPython notebook type:\n",
    "\n"
   ]
  },
  {
   "cell_type": "code",
   "execution_count": null,
   "metadata": {
    "collapsed": true
   },
   "outputs": [],
   "source": [
    "\"I Love Spotify\"[5]"
   ]
  },
  {
   "cell_type": "markdown",
   "metadata": {},
   "source": [
    "** Slicing **: Slicing is used to access a range of elements the way that indexing accesses one element. In iPython notebook type:"
   ]
  },
  {
   "cell_type": "code",
   "execution_count": 55,
   "metadata": {
    "collapsed": false
   },
   "outputs": [],
   "source": [
    "x = \"Spotify and Netflix are awesome\"\n",
    "x[12:32]"
   ]
  },
  {
   "cell_type": "markdown",
   "metadata": {},
   "source": [
    "## Note on Mutability vs Immutability\n",
    "\n",
    "Mutable objects in Python cab altered. Immutable objects can not be changed but rather return new objects when doing an update.\n",
    "\n",
    "MUTABILITY OF COMMON TYPES\n",
    "The following are some immutable objects:\n",
    "\n",
    "- int\n",
    "- float\n",
    "- decimal\n",
    "- bool\n",
    "- string\n",
    "- tuple\n",
    "\n",
    "\n",
    "\n",
    "The following are some mutable objects:\n",
    "\n",
    "- list\n",
    "- dict\n",
    "- set (tbd)"
   ]
  },
  {
   "cell_type": "markdown",
   "metadata": {},
   "source": [
    "## Independent Practice: Topic (10 minutes)\n",
    "\n",
    "Pair up, make up your own statements and see if your partner can tell you what will be returned BEFORE running it.\n"
   ]
  },
  {
   "cell_type": "markdown",
   "metadata": {},
   "source": [
    "Let's check to see if we know what we learned in this session:\n",
    "\n",
    "- Define integers, strings, tuples, lists, and dictionaries\n",
    "- Demonstrate arithmetic operations and string operations\n",
    "- Demonstrate variable assignment\n",
    "- The difference between mutable and immutable types in Python."
   ]
  },
  {
   "cell_type": "markdown",
   "metadata": {},
   "source": [
    "## Session: Lists and Dictionaries\n",
    "\n",
    "*After this session, you will be able to:*\n",
    "- Create lists and operate on them\n",
    "- Create dictionaries and operate on them\n",
    "\n",
    "### STUDENT PRE-WORK\n",
    "*Before this lesson, you should already be able to:*\n",
    "- Define/describe/explain a list and a dictionary\n"
   ]
  },
  {
   "cell_type": "markdown",
   "metadata": {},
   "source": [
    "## Lists\n",
    "Lists can be assigned to variables. Make the list of friends and assign it to a variable named \"friends\"\n",
    "\n",
    "<details><summary> L-1: make a list with the 5 friends\n",
    "</summary>\n",
    "```python\n",
    "friends = ['Curly', 'Moe', 'Larry', 'Tweedle Dee', 'Tweedle Dumb']\n",
    "print(friends)\n",
    "['Curly', 'Moe', 'Larry', 'Tweedle Dee', 'Tweedle Dumb']\n",
    "```\n",
    "</details>\n",
    "\n",
    "Recall that lists are indexed with integers.\n",
    "\n",
    "<details><summary> L-2: print the 3rd item of the friends list\n",
    "</summary>\n",
    "```python\n",
    "print(friends[2])\n",
    "Larry\n",
    "```\n",
    "</details>\n",
    "\n",
    "You can use two indices separated by a colon to access a range of elements within a list. For example: **my_list[0:5]** would print out the first 5 elements of my_list.\n",
    "\n",
    "<details><summary> L-3: print the 3rd thru 5th elements of the friends list\n",
    "</summary>\n",
    "```python\n",
    "print(friends[2:5])\n",
    "['Larry', 'Tweedle Dee', 'Tweedle Dumb']\n",
    "```\n",
    "</details>\n",
    "\n",
    "---"
   ]
  },
  {
   "cell_type": "markdown",
   "metadata": {},
   "source": [
    "##### Modifying lists\n",
    "\n",
    "Lists have pre-defined functions which are very useful for manipulating them. The build in functions of list work _in place_, meaning that you do not have to assign the result to a new variable.\n",
    "\n",
    "The **.append()** function will add an element to the end of a list. Use the function like: **[...].append(item)**\n",
    "\n",
    "<details><summary> L-4: add 'Samwise' to the end of the friends list using .append()\n",
    "</summary>\n",
    "```python\n",
    "friends.append('Samwise')\n",
    "print(friends)\n",
    "['Curly', 'Moe', 'Larry', 'Tweedle Dee', 'Tweedle Dumb', 'Sam']\n",
    "```\n",
    "</details>\n",
    "\n",
    "You can also combine lists by simply adding them together with the **+** operator.\n",
    "\n",
    "<details><summary> L-5: add the list ['Bob', 'Joe'] to the friends list\n",
    "</summary>\n",
    "```python\n",
    "friends = friends + ['Bob', 'Joe']\n",
    "print(friends)\n",
    "['Curly', 'Moe', 'Larry', 'Tweedle Dee', 'Tweedle Dumb', 'Sam', 'Bob', 'Joe']\n",
    "```\n",
    "</details>\n",
    "\n",
    "The **.remove()** function can remove an specific element of a list, and the **del** command will remove the item of a list at a specific index. For example, **del my_list[2]** removes the 3rd element of my_list.\n",
    "\n",
    "<details><summary> L-6: remove 'Sam' from the list with the .remove() function\n",
    "</summary>\n",
    "```python\n",
    "friends.remove(3)\n",
    "print(friends)\n",
    "['Curly', 'Moe', 'Larry', 'Tweedle Dumb', 'Bob', 'Joe']\n",
    "```\n",
    "</details>\n",
    "\n",
    "<details><summary> L-7: remove the first element of friends using del\n",
    "</summary>\n",
    "```python\n",
    "del friends[0]\n",
    "print(friends)\n",
    "['Moe', 'Larry', 'Tweedle Dumb', 'Bob', 'Joe']\n",
    "```\n",
    "</details>\n",
    "\n",
    "[More information about lists](http://sthurlow.com/python/lesson06/)"
   ]
  },
  {
   "cell_type": "code",
   "execution_count": null,
   "metadata": {
    "collapsed": true
   },
   "outputs": [],
   "source": [
    "caller()"
   ]
  },
  {
   "cell_type": "markdown",
   "metadata": {},
   "source": [
    "<a name=\"ind-practice\"></a>\n",
    "## Independent Practice: Lists (10 minutes)\n",
    "Explore the built in functions of lists:\n",
    "\n",
    "- use **.append(item)** to add item to a list\n",
    "- use **.extend([item1, item2])** to join another list to the end of the list\n",
    "- use **.insert(index, item)** to add an item to a list at an index\n",
    "- use **.remove(item)** to remove an item from a list\n",
    "- use **.sort()** to sort a list\n",
    "- use **.count(item)** to count the number of times an item appears in a list\n",
    "- use **.index(item)** to find the index of an element in a list\n",
    "- use **.pop()** to extract (and remove) the last element of a list\n",
    "- use **.reverse()** to reverse a list"
   ]
  },
  {
   "cell_type": "markdown",
   "metadata": {},
   "source": [
    "<a name=\"demo\"></a>\n",
    "## Demo / Guided Practice: Dictionaries (25 mins)\n",
    "\n",
    "Dictionaries are useful when you want to associate items with a specific reference, or **key**. An example of this would be storing phone numbers of your friends with the key values as your friends' names.\n",
    "\n",
    "Remember that dictionaries are created with curly brackets, using **{key:value, key2:value2}** syntax.\n",
    "\n",
    "One potentially confusing aspect of dictionaries is that although they are created with the curly brackets **{ }**, accessing a value with a key is done using square brackets **[ ]**, for example: **my_dict['key']** returns the value for \"key\" in my_dict.\n",
    "\n",
    "---"
   ]
  },
  {
   "cell_type": "markdown",
   "metadata": {},
   "source": [
    "##### Making and using dictionaries\n",
    "\n",
    "Dictionaries are created the same as lists, with assignment to a variable. Create a dictionary called \"zipcodes\" with the following district:zip code pairs:\n",
    "\n",
    "'sunset':94122\n",
    "'presidio':94129\n",
    "'soma':94105\n",
    "'marina':94123\n",
    "\n",
    "<details><summary> D-1: Create the SF district dictionary\n",
    "</summary>\n",
    "```python\n",
    "zipcodes = {'sunset':94122, 'presidio':94129, 'soma':94105, 'marina':94123}\n",
    "print(zipcodes)\n",
    "{'soma': 94105, 'presidio': 94129, 'sunset': 94122, 'marina': 94123}\n",
    "```\n",
    "</details>\n",
    "\n",
    "As you can see, when you print the dictionary, the key:value pairs are not guaranteed to be ordered the way you entered them like a list.\n",
    "\n",
    "Values for a key can be accessed using the square bracket **[ ]** syntax or with the **.get()** method.\n",
    "\n",
    "<details><summary> D-2: access the zip code for soma and assign it to a variable\n",
    "</summary>\n",
    "```python\n",
    "soma = zipcodes['soma']\n",
    "print(soma)\n",
    "94105\n",
    "```\n",
    "</details>\n",
    "\n",
    "You can list the current keys in a dictionary with the **.keys()** function. The keys will be returned in a list.\n",
    "\n",
    "<details><summary> D-3: print out a list of the keys in zipcodes using .keys()\n",
    "</summary>\n",
    "```python\n",
    "zipcodes.keys()\n",
    "['soma', 'presidio', 'sunset', 'marina']\n",
    "```\n",
    "</details>\n",
    "\n",
    "The **.items()** function will create a list of tuples, where each of the tuples in the list is a key:value pair in the dictionary.\n",
    "\n",
    "<details><summary> D-4: print out a list of the key:value pairs in zipcodes using .items()\n",
    "</summary>\n",
    "```python\n",
    "zipcodes.items()\n",
    "[('soma', 94105), ('presidio', 94129), ('castro', 94114), ('marina', 94123)]\n",
    "```\n",
    "</details>\n",
    "\n",
    "---\n",
    "\n",
    "##### Modifying dictionaries\n",
    "\n",
    "Adding new key:value pairs to a dictionary is similar to how you access an existing entry. The syntax for adding a new entry is: **my_dict['new_key'] = new_value**.\n",
    "\n",
    "<details><summary> D-5: add 'castro':94114 to the zipcodes dictionary\n",
    "</summary>\n",
    "```python\n",
    "zipcodes['castro'] = 94114\n",
    "print(zipcodes)\n",
    "{'soma': 94105, 'presidio': 94129, 'sunset': 94122, 'castro': 94114, 'marina': 94123}\n",
    "```\n",
    "</details>\n",
    "\n",
    "Removing a dictionary key:value pair can be done with the **del** command, like with a list, or with the **.pop()** function which will remove a key from the dictionary and return the value for that key.\n",
    "\n",
    "<details><summary> D-6: remove the sunset zipcode with .pop() and assign it to a variable\n",
    "</summary>\n",
    "```python\n",
    "sunset = zipcodes.pop('sunset')\n",
    "print(sunset)\n",
    "94122\n",
    "```\n",
    "</details>"
   ]
  },
  {
   "cell_type": "code",
   "execution_count": null,
   "metadata": {
    "collapsed": true
   },
   "outputs": [],
   "source": [
    "caller()"
   ]
  },
  {
   "cell_type": "markdown",
   "metadata": {},
   "source": [
    "<a name=\"ind-practice\"></a>\n",
    "## Independent Practice: Dictionaries (10 minutes)\n",
    "\n",
    "Build your own dictionary with key:value pairs of your choosing.\n",
    "\n",
    "Explore some of the built in functions for dictionaries:\n",
    "\n",
    "- use **.pop(key)** to remove a key:value pair from the dictionary and return the value\n",
    "- use **.get(key)** to get the value for a key\n",
    "- use **.has_key(key)** to check if a key is in the dictionary\n",
    "- use **.keys()** to get a list of the keys in the dictionary\n",
    "- use **.items()** to get a list of the key:value pairs in the dictionary\n",
    "- use **.update(other_dictionary)** to merge a 2nd dictionary into the current dictionary\n",
    "- use **.clear()** to remove all key:value pairs from the dictionary\n"
   ]
  },
  {
   "cell_type": "markdown",
   "metadata": {},
   "source": [
    "<a name=\"conclusion\"></a>\n",
    "## Conclusion (10 mins)\n",
    "- Partner up and explain what a list and a dictionary are to your partners\n",
    "- What are the differences between a list and a dictionary?\n",
    "- What are the two things you need for a dictionary?"
   ]
  },
  {
   "cell_type": "code",
   "execution_count": null,
   "metadata": {
    "collapsed": true
   },
   "outputs": [],
   "source": []
  }
 ],
 "metadata": {
  "kernelspec": {
   "display_name": "Python 2",
   "language": "python",
   "name": "python2"
  },
  "language_info": {
   "codemirror_mode": {
    "name": "ipython",
    "version": 2
   },
   "file_extension": ".py",
   "mimetype": "text/x-python",
   "name": "python",
   "nbconvert_exporter": "python",
   "pygments_lexer": "ipython2",
   "version": "2.7.12"
  }
 },
 "nbformat": 4,
 "nbformat_minor": 2
}
