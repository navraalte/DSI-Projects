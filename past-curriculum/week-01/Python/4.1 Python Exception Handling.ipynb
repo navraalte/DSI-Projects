{
 "cells": [
  {
   "cell_type": "markdown",
   "metadata": {},
   "source": [
    "<img src=\"https://ga-dash.s3.amazonaws.com/production/assets/logo-9f88ae6c9c3871690e33280fcf557f33.png\" style=\"float: left; margin: 10px;\"> \n",
    "# Python Exception Handling\n",
    "\n",
    "---\n",
    "Week 1 | Lesson 1.8\n",
    "\n",
    "### LEARNING OBJECTIVES\n",
    "*After this lesson, you will be able to:*\n",
    "- Describe and use isinstance and assert python key words\n",
    "- Describe and use exception handling \n",
    "- Describe and use user-defined exceptions \n",
    "\n",
    "\n",
    "### STUDENT PRE-WORK\n",
    "*Before this lesson, you should already be able to:*\n",
    "- Read and write list comprehensions \n",
    "- Describe and different python data types\n",
    "- Read and write python functions\n",
    "\n"
   ]
  },
  {
   "cell_type": "markdown",
   "metadata": {},
   "source": [
    "## Motivation \n",
    "\n",
    "As the programs that you code become longer, you'll soon find yourself spending a significant amount of time debugging them. So having some debugging tools in your pocket beyond simply print statements is really helpful. Python key words like isinstance and assrts are used to run checks through out your code to ensure that you have certain data types and values in locations where you expect to see them. \n",
    "\n",
    "Also, it will sometimes be the case that you expect to see certain errors in your code.  In fact, your code may actually be desgined to make descisions around these expected errors. For instance, if error A is raised then it runs one function, if error B is raised than run another function and the rest of code continues to run without interruption. This is an example of exception handling. \n"
   ]
  },
  {
   "cell_type": "markdown",
   "metadata": {},
   "source": [
    "## Is Instance \n",
    "\n",
    "\n",
    "<font color='green'>isinstance</font> is a built-in python function that checks if the passed argument is an instance of a specific class type. This function will return a boolean value (i.e. True or False) which can then be used in a condition statement. \n",
    "\n",
    "\n"
   ]
  },
  {
   "cell_type": "code",
   "execution_count": 168,
   "metadata": {
    "collapsed": false
   },
   "outputs": [
    {
     "data": {
      "text/plain": [
       "True"
      ]
     },
     "execution_count": 168,
     "metadata": {},
     "output_type": "execute_result"
    }
   ],
   "source": [
    "isinstance ({'a':1, 'b':2}, dict)"
   ]
  },
  {
   "cell_type": "code",
   "execution_count": 52,
   "metadata": {
    "collapsed": false
   },
   "outputs": [
    {
     "data": {
      "text/plain": [
       "False"
      ]
     },
     "execution_count": 52,
     "metadata": {},
     "output_type": "execute_result"
    }
   ],
   "source": [
    "isinstance ([1,2,3], dict)"
   ]
  },
  {
   "cell_type": "markdown",
   "metadata": {},
   "source": [
    "Strickly speaing <font color='green'>isinstance</font> is not an assertion nor exception handling. However it a very useful debugging tool that it gets an honorary mention because this function comes in handy when we do start implementing exception handling. \n",
    "\n",
    "The invert_dataobject function is an example of when using <font color='green'>isinstance</font>  provides an elegant solution for checking the data type of an object. If the data object is a dictionary, one line of code is ran if it is a list than another line of is ran. "
   ]
  },
  {
   "cell_type": "code",
   "execution_count": 4,
   "metadata": {
    "collapsed": false
   },
   "outputs": [],
   "source": [
    "# isinstance statements\n",
    "def invert_dataobject(data_object):\n",
    "    '''Accepts a dictionary or list,it will invert dictionary or reverse the list.\n",
    "    INPUT: dictionary or list\n",
    "    OUTPUT: dictionary or list'''\n",
    "    # check if data object is a dict\n",
    "    if isinstance (data_object,dict) == True:\n",
    "        # invert dictionary\n",
    "        return {v: k for k, v in data_object.iteritems()}\n",
    "    elif isinstance (data_object,list) == True:\n",
    "        # reverse list\n",
    "        return data_object[::-1]\n",
    "    else:\n",
    "        # execute base case \n",
    "        print \"data object was neither a dict or a list type. \""
   ]
  },
  {
   "cell_type": "code",
   "execution_count": 7,
   "metadata": {
    "collapsed": false
   },
   "outputs": [
    {
     "data": {
      "text/plain": [
       "{1: 'CA', 2: 'NV', 3: 'WA'}"
      ]
     },
     "execution_count": 7,
     "metadata": {},
     "output_type": "execute_result"
    }
   ],
   "source": [
    "my_dict = {'CA':1, \"NV\":2, \"WA\":3}\n",
    "invert_dataobject(my_dict)"
   ]
  },
  {
   "cell_type": "code",
   "execution_count": 8,
   "metadata": {
    "collapsed": false
   },
   "outputs": [
    {
     "data": {
      "text/plain": [
       "[5, 4, 3, 2, 1]"
      ]
     },
     "execution_count": 8,
     "metadata": {},
     "output_type": "execute_result"
    }
   ],
   "source": [
    "my_list = [1,2,3,4,5]\n",
    "invert_dataobject(my_list)"
   ]
  },
  {
   "cell_type": "markdown",
   "metadata": {},
   "source": [
    "## Assertion\n",
    "\n",
    "<font color='green'>assert</font> tests an expression, and if the result comes up false, an exception is raised.\n",
    "\n",
    "An <font color='green'>assert</font>  is a sanity-check tool that you can turn on or turn off when you are done with testing/debugging your code. \n",
    "\n",
    "The easiest way to think of an assertion is to liken it to a raise-if statement (or to be more accurate, a raise-if-not statement). \n",
    "\n"
   ]
  },
  {
   "cell_type": "code",
   "execution_count": 51,
   "metadata": {
    "collapsed": true
   },
   "outputs": [],
   "source": [
    "# checking the drinking age\n",
    "age = 25\n",
    "assert age >= 21, \"not old enough! BAD!\""
   ]
  },
  {
   "cell_type": "code",
   "execution_count": 25,
   "metadata": {
    "collapsed": false
   },
   "outputs": [
    {
     "ename": "AssertionError",
     "evalue": "not old enough! BAD!",
     "output_type": "error",
     "traceback": [
      "\u001b[0;31m---------------------------------------------------------------------------\u001b[0m",
      "\u001b[0;31mAssertionError\u001b[0m                            Traceback (most recent call last)",
      "\u001b[0;32m<ipython-input-25-e077c9cc18e7>\u001b[0m in \u001b[0;36m<module>\u001b[0;34m()\u001b[0m\n\u001b[1;32m      1\u001b[0m \u001b[0;31m# checking the drinking age\u001b[0m\u001b[0;34m\u001b[0m\u001b[0;34m\u001b[0m\u001b[0m\n\u001b[1;32m      2\u001b[0m \u001b[0mage\u001b[0m \u001b[0;34m=\u001b[0m \u001b[0;36m19\u001b[0m\u001b[0;34m\u001b[0m\u001b[0m\n\u001b[0;32m----> 3\u001b[0;31m \u001b[0;32massert\u001b[0m \u001b[0mage\u001b[0m \u001b[0;34m>\u001b[0m \u001b[0;36m21\u001b[0m\u001b[0;34m,\u001b[0m \u001b[0;34m\"not old enough! BAD!\"\u001b[0m\u001b[0;34m\u001b[0m\u001b[0m\n\u001b[0m",
      "\u001b[0;31mAssertionError\u001b[0m: not old enough! BAD!"
     ]
    }
   ],
   "source": [
    "# checking the drinking age\n",
    "age = 19\n",
    "assert age > 21, \"not old enough! BAD!\""
   ]
  },
  {
   "cell_type": "markdown",
   "metadata": {},
   "source": [
    "The net_tips function is an example of when using an assert statement is useful. This function is used to calculate the total amount of tips that waiters and waitress earned during their shift. "
   ]
  },
  {
   "cell_type": "code",
   "execution_count": 18,
   "metadata": {
    "collapsed": false
   },
   "outputs": [],
   "source": [
    "# assert \n",
    "def net_tips(tips_dict):\n",
    "    '''Calculates the net tips for a shift'''\n",
    "    total_tips = 0\n",
    "    for user_tips in tips_dict.itervalues():\n",
    "        # raise AssertionError if tip value is negative\n",
    "        assert user_tips >= 0\n",
    "        total_tips += user_tips\n",
    "        \n",
    "    return total_tips    "
   ]
  },
  {
   "cell_type": "code",
   "execution_count": 19,
   "metadata": {
    "collapsed": false
   },
   "outputs": [
    {
     "data": {
      "text/plain": [
       "120"
      ]
     },
     "execution_count": 19,
     "metadata": {},
     "output_type": "execute_result"
    }
   ],
   "source": [
    "group_tips = {'Lenin': 40, 'Veronica': 50, 'Bianca': 30}\n",
    "\n",
    "net_tips(group_tips)"
   ]
  },
  {
   "cell_type": "code",
   "execution_count": 20,
   "metadata": {
    "collapsed": false
   },
   "outputs": [
    {
     "ename": "AssertionError",
     "evalue": "",
     "output_type": "error",
     "traceback": [
      "\u001b[0;31m---------------------------------------------------------------------------\u001b[0m",
      "\u001b[0;31mAssertionError\u001b[0m                            Traceback (most recent call last)",
      "\u001b[0;32m<ipython-input-20-39432d3a4732>\u001b[0m in \u001b[0;36m<module>\u001b[0;34m()\u001b[0m\n\u001b[1;32m      1\u001b[0m \u001b[0mgroup_tips\u001b[0m \u001b[0;34m=\u001b[0m \u001b[0;34m{\u001b[0m\u001b[0;34m'Lenin'\u001b[0m\u001b[0;34m:\u001b[0m \u001b[0;36m40\u001b[0m\u001b[0;34m,\u001b[0m \u001b[0;34m'Veronica'\u001b[0m\u001b[0;34m:\u001b[0m \u001b[0;34m-\u001b[0m\u001b[0;36m50\u001b[0m\u001b[0;34m,\u001b[0m \u001b[0;34m'Bianca'\u001b[0m\u001b[0;34m:\u001b[0m \u001b[0;36m30\u001b[0m\u001b[0;34m}\u001b[0m\u001b[0;34m\u001b[0m\u001b[0m\n\u001b[1;32m      2\u001b[0m \u001b[0;34m\u001b[0m\u001b[0m\n\u001b[0;32m----> 3\u001b[0;31m \u001b[0mnet_tips\u001b[0m\u001b[0;34m(\u001b[0m\u001b[0mgroup_tips\u001b[0m\u001b[0;34m)\u001b[0m\u001b[0;34m\u001b[0m\u001b[0m\n\u001b[0m",
      "\u001b[0;32m<ipython-input-18-9fa0f2339727>\u001b[0m in \u001b[0;36mnet_tips\u001b[0;34m(tips_dict)\u001b[0m\n\u001b[1;32m      5\u001b[0m     \u001b[0;32mfor\u001b[0m \u001b[0muser_tips\u001b[0m \u001b[0;32min\u001b[0m \u001b[0mtips_dict\u001b[0m\u001b[0;34m.\u001b[0m\u001b[0mitervalues\u001b[0m\u001b[0;34m(\u001b[0m\u001b[0;34m)\u001b[0m\u001b[0;34m:\u001b[0m\u001b[0;34m\u001b[0m\u001b[0m\n\u001b[1;32m      6\u001b[0m         \u001b[0;31m# raise AssertionError if tip value is negative\u001b[0m\u001b[0;34m\u001b[0m\u001b[0;34m\u001b[0m\u001b[0m\n\u001b[0;32m----> 7\u001b[0;31m         \u001b[0;32massert\u001b[0m \u001b[0muser_tips\u001b[0m \u001b[0;34m>=\u001b[0m \u001b[0;36m0\u001b[0m\u001b[0;34m\u001b[0m\u001b[0m\n\u001b[0m\u001b[1;32m      8\u001b[0m         \u001b[0mtotal_tips\u001b[0m \u001b[0;34m+=\u001b[0m \u001b[0muser_tips\u001b[0m\u001b[0;34m\u001b[0m\u001b[0m\n\u001b[1;32m      9\u001b[0m \u001b[0;34m\u001b[0m\u001b[0m\n",
      "\u001b[0;31mAssertionError\u001b[0m: "
     ]
    }
   ],
   "source": [
    "group_tips = {'Lenin': 40, 'Veronica': -50, 'Bianca': 30}\n",
    "\n",
    "net_tips(group_tips)"
   ]
  },
  {
   "cell_type": "markdown",
   "metadata": {},
   "source": [
    "### Check for Understanding\n",
    "--------\n",
    "\n",
    "<details><summary>\n",
    "What is the difference between isinstance and assert?\n",
    "</summary>\n",
    "<font color='green'>isinstance</font>will return a boolean value (i.e. True or False) which can then be used in a condition statement. \n",
    "<br>\n",
    "<font color='green'>assert</font> tests an expression, and if the result comes up false, an exception is raised.\n",
    "\n",
    "\n",
    "</details>\n",
    "\n",
    "--------\n",
    "\n"
   ]
  },
  {
   "cell_type": "markdown",
   "metadata": {},
   "source": [
    "## Exception Handling\n",
    "\n",
    "**Exception handling** is code that response to specific errors in specific ways while allowing the rest of the program to continue running without interruptions. \n",
    "\n",
    "Code that is syntactically correct may still cause an error when an attempt is made to execute it. Errors detected during execution are called exceptions these types of errors are not necessaryly fatal for your programs. \n",
    "\n",
    "```python\n",
    "try:\n",
    "    # attempt to run block of code\n",
    "    # code\n",
    "except Error_Name:\n",
    "     # code that response to specific error \n",
    "     # code\n",
    "\n",
    "```\n",
    "\n"
   ]
  },
  {
   "cell_type": "markdown",
   "metadata": {},
   "source": [
    "Imagine that you're working for marketing team. Your job is to write code that automates the process of sending emails to users. Unfortunately, it is very common in industry to work with messy data. Your email data set contains a user's email enclosed in a list. \n",
    "\n",
    "If that email is passed into the send_email function, then your program will run into an error. "
   ]
  },
  {
   "cell_type": "code",
   "execution_count": 26,
   "metadata": {
    "collapsed": true
   },
   "outputs": [],
   "source": [
    "def send_email(user_email):\n",
    "    if isinstance(user_email, list):\n",
    "        print \"ERROR! Email format is invalid: {}\".format(user_email)\n",
    "    else:\n",
    "        print(\"sent email to {}\".format(user_email))"
   ]
  },
  {
   "cell_type": "code",
   "execution_count": 27,
   "metadata": {
    "collapsed": false
   },
   "outputs": [
    {
     "name": "stdout",
     "output_type": "stream",
     "text": [
      "sent email to buck.stops@gmail.com\n",
      "sent email to joker.smiles@gmail.com\n",
      "ERROR! Email format is invalid: ['baine@gmail.com']\n"
     ]
    }
   ],
   "source": [
    "emails = [\"buck.stops@gmail.com\", \"joker.smiles@gmail.com\", [\"baine@gmail.com\"]]\n",
    "for email in emails:\n",
    "    send_email(email)  "
   ]
  },
  {
   "cell_type": "markdown",
   "metadata": {},
   "source": [
    "We can combine an <font color='green'>assert</font> and an <font color='green'>isinstance</font> statement to raise an error statemtn if a specific type of error is encouter. "
   ]
  },
  {
   "cell_type": "code",
   "execution_count": 28,
   "metadata": {
    "collapsed": false
   },
   "outputs": [
    {
     "ename": "AssertionError",
     "evalue": "",
     "output_type": "error",
     "traceback": [
      "\u001b[0;31m---------------------------------------------------------------------------\u001b[0m",
      "\u001b[0;31mAssertionError\u001b[0m                            Traceback (most recent call last)",
      "\u001b[0;32m<ipython-input-28-7bf14b527e79>\u001b[0m in \u001b[0;36m<module>\u001b[0;34m()\u001b[0m\n\u001b[0;32m----> 1\u001b[0;31m \u001b[0;32massert\u001b[0m \u001b[0misinstance\u001b[0m\u001b[0;34m(\u001b[0m\u001b[0;34m[\u001b[0m\u001b[0;34m]\u001b[0m\u001b[0;34m,\u001b[0m \u001b[0mstr\u001b[0m\u001b[0;34m)\u001b[0m\u001b[0;34m\u001b[0m\u001b[0m\n\u001b[0m",
      "\u001b[0;31mAssertionError\u001b[0m: "
     ]
    }
   ],
   "source": [
    "assert isinstance([], str)"
   ]
  },
  {
   "cell_type": "markdown",
   "metadata": {},
   "source": [
    "Let's change our send_email function to include a AssertionError so we can insert it into an try/except statement. "
   ]
  },
  {
   "cell_type": "code",
   "execution_count": 29,
   "metadata": {
    "collapsed": true
   },
   "outputs": [],
   "source": [
    "# try/except (with explict errors)\n",
    "def send_email(user_email):\n",
    "    '''Sends email to user\n",
    "    INPUT: string'''\n",
    "    assert isinstance(user_email, str), \"Email has bad format\"\n",
    "    print(\"sent email to {}\".format(user_email))"
   ]
  },
  {
   "cell_type": "code",
   "execution_count": 207,
   "metadata": {
    "collapsed": false
   },
   "outputs": [],
   "source": [
    "def marketing_emails(emails):\n",
    "    '''Iterates through marketing emails and sends valid emails with valid syntax\n",
    "    INPUT: list\n",
    "    OUTPUT: list'''\n",
    "    # store invalid emails \n",
    "    collect_bad_emails = []\n",
    "    # iterate through eamils\n",
    "    for email in emails:\n",
    "        # try to send an email to a user\n",
    "        try:\n",
    "            assert isinstance(email, str)\n",
    "            send_email(email)\n",
    "        # if AssertionError is raised, then the email had invalid syntax. \n",
    "        except AssertionError :\n",
    "            collect_bad_emails.append(email)\n",
    "            \n",
    "    return collect_bad_emails"
   ]
  },
  {
   "cell_type": "code",
   "execution_count": 208,
   "metadata": {
    "collapsed": false
   },
   "outputs": [
    {
     "name": "stdout",
     "output_type": "stream",
     "text": [
      "sent email to buck.stops@gmail.com\n",
      "sent email to joker.smiles@gmail.com\n"
     ]
    },
    {
     "data": {
      "text/plain": [
       "[['baine@gmail.com']]"
      ]
     },
     "execution_count": 208,
     "metadata": {},
     "output_type": "execute_result"
    }
   ],
   "source": [
    "# try/except (with explict errors)\n",
    "marketing_emails(emails)"
   ]
  },
  {
   "cell_type": "markdown",
   "metadata": {},
   "source": [
    "The marketing_emails contains a try/except statements that does 3 things:\n",
    "\n",
    "1. Tries to send each user a marketing email\n",
    "2. Checks if email is an instance of a string data type before sending the email\n",
    "3. If an AssertionError is raised, the email is not sent. \n",
    "\n",
    "In this situation, the try/except exception handeling prevents invalid emails from being sent to the send_email function during run time. Invalid emails syntax is an error that we can anticipate in our real-world messy data, so we can build code that can handle those types of exceptions. \n",
    "\n",
    "What if we didn't explicitly specify what type of error to handle?"
   ]
  },
  {
   "cell_type": "markdown",
   "metadata": {},
   "source": [
    "### Check for Understanding\n",
    "--------\n",
    "1. Are there any errors raised?\n",
    "\n",
    "2. If so, are the errors handled well?\n",
    "\n",
    "-----\n"
   ]
  },
  {
   "cell_type": "code",
   "execution_count": 52,
   "metadata": {
    "collapsed": true
   },
   "outputs": [],
   "source": [
    "def get_purchase_total(purchases, lst_length):\n",
    "    '''Calculates total purchases\n",
    "    INPUT: list, list\n",
    "    OUTPUT: list'''\n",
    "    total_purchases = 0\n",
    "\n",
    "    for index in lst_length:\n",
    "\n",
    "        try:\n",
    "            assert purchases[index] >= 0\n",
    "            total_purchases += purchases[index]\n",
    "        except:\n",
    "            pass\n",
    "\n",
    "    return total_purchases"
   ]
  },
  {
   "cell_type": "code",
   "execution_count": 40,
   "metadata": {
    "collapsed": false
   },
   "outputs": [
    {
     "data": {
      "text/plain": [
       "[0, 1, 2, 3, 4, 5, 6, 7, 8, 9]"
      ]
     },
     "execution_count": 40,
     "metadata": {},
     "output_type": "execute_result"
    }
   ],
   "source": [
    "list_length = range(10)\n",
    "list_length"
   ]
  },
  {
   "cell_type": "code",
   "execution_count": 41,
   "metadata": {
    "collapsed": false
   },
   "outputs": [
    {
     "name": "stdout",
     "output_type": "stream",
     "text": [
      "Error!\n",
      "Error!\n",
      "Error!\n",
      "Error!\n",
      "Error!\n",
      "Error!\n",
      "Error!\n"
     ]
    },
    {
     "data": {
      "text/plain": [
       "24"
      ]
     },
     "execution_count": 41,
     "metadata": {},
     "output_type": "execute_result"
    }
   ],
   "source": [
    "user_purchases = [12, -3, 5, 7]\n",
    "get_purchase_total(user_purchases, list_length)"
   ]
  },
  {
   "cell_type": "code",
   "execution_count": null,
   "metadata": {
    "collapsed": true
   },
   "outputs": [],
   "source": [
    "# feel free to deconstruct and explore the get_purchase_total here to answer the question"
   ]
  },
  {
   "cell_type": "code",
   "execution_count": null,
   "metadata": {
    "collapsed": true
   },
   "outputs": [],
   "source": [
    "# feel free to deconstruct and explore the get_purchase_total here to answer the question"
   ]
  },
  {
   "cell_type": "markdown",
   "metadata": {},
   "source": [
    "![](http://www.python-kurs.eu/images/python_logo_band_aid.jpg)"
   ]
  },
  {
   "cell_type": "code",
   "execution_count": 36,
   "metadata": {
    "collapsed": false
   },
   "outputs": [],
   "source": [
    "def get_purchase_total_with_exceptions(purchases, lst_length):\n",
    "    '''Calculates total purchases\n",
    "    INPUT: list, list\n",
    "    OUTPUT: list'''\n",
    "    total_purchases = 0\n",
    "    \n",
    "    for index in lst_length:\n",
    "\n",
    "        try:\n",
    "            assert purchases[index] >= 0\n",
    "            total_purchases += purchases[index]\n",
    "        except AssertionError:\n",
    "            print \"AssertionError was triggered for user {}\".format(index)\n",
    "        except IndexError:\n",
    "            print \"IndexError was triggered for user {}\".format(index)\n",
    "\n",
    "    return total_purchases"
   ]
  },
  {
   "cell_type": "code",
   "execution_count": 48,
   "metadata": {
    "collapsed": false
   },
   "outputs": [
    {
     "name": "stdout",
     "output_type": "stream",
     "text": [
      "AssertionError was triggered for user 0.011, 200\n"
     ]
    }
   ],
   "source": [
    "print \"AssertionError was triggered for user {0:.2}, {1}\".format(0.01111, 200)"
   ]
  },
  {
   "cell_type": "code",
   "execution_count": 38,
   "metadata": {
    "collapsed": false
   },
   "outputs": [
    {
     "name": "stdout",
     "output_type": "stream",
     "text": [
      "AssertionError was triggered for user 1\n",
      "IndexError was triggered for user 5\n",
      "IndexError was triggered for user 6\n",
      "IndexError was triggered for user 7\n",
      "IndexError was triggered for user 8\n",
      "IndexError was triggered for user 9\n"
     ]
    },
    {
     "data": {
      "text/plain": [
       "34"
      ]
     },
     "execution_count": 38,
     "metadata": {},
     "output_type": "execute_result"
    }
   ],
   "source": [
    "user_purchases = [12, -3, 5, 7, 10]\n",
    "list_length = range(10)\n",
    "get_purchase_total_with_exceptions(user_purchases, list_length)"
   ]
  },
  {
   "cell_type": "code",
   "execution_count": 246,
   "metadata": {
    "collapsed": false
   },
   "outputs": [
    {
     "name": "stdout",
     "output_type": "stream",
     "text": [
      "AssertionError was triggered for user 1\n",
      "IndexError was triggered for user 5\n",
      "IndexError was triggered for user 6\n"
     ]
    },
    {
     "data": {
      "text/plain": [
       "34"
      ]
     },
     "execution_count": 246,
     "metadata": {},
     "output_type": "execute_result"
    }
   ],
   "source": [
    "list_length = range(7)\n",
    "get_purchase_total_with_exceptions(user_purchases, list_length)"
   ]
  },
  {
   "cell_type": "markdown",
   "metadata": {},
   "source": [
    "## Extensions to the Try/Except Statement\n",
    "\n",
    "There are other key words that can be attached to the try/except statement.\n",
    "\n",
    "The finally key word can be attached at the end of the try/except statement. Use this key word attachment whenever you a block of code at the end of a try/except statement to ALWAYS run -- independent of whether or not an exception is raised. \n",
    "\n",
    "```python\n",
    "try:\n",
    "    # attempt to run code\n",
    "except Exception:\n",
    "    # run this code if specificed exception is raise\n",
    "finally:\n",
    "   # Always run this code right before the try/except statement terminates. \n",
    "```\n",
    "\n",
    "The else key word can also be attached at the end of the try/except statement. Use this key word attachemnt whenever you want a block of code to run ONLY if there are no exceptions. \n",
    "\n",
    "```python\n",
    "try:\n",
    "   # attempt to run code\n",
    "except ExceptionI:\n",
    "   # run this code if ExceptionI is raise\n",
    "except ExceptionII:\n",
    "   # run this code if ExceptionII is raise\n",
    "else:\n",
    "   # If there is no exception then execute this block.\n",
    "```\n",
    "\n",
    "Let's extend the get_purchase_total_with_exceptions function by attaching an else keyword. "
   ]
  },
  {
   "cell_type": "code",
   "execution_count": 49,
   "metadata": {
    "collapsed": true
   },
   "outputs": [],
   "source": [
    "# try/except \n",
    "def get_purchase_total_with_exceptions(purchases, lst_length):\n",
    "    '''Calculates total purchases\n",
    "    INPUT: list, list\n",
    "    OUTPUT: list'''\n",
    "    total_purchases = 0\n",
    "    \n",
    "    for index in lst_length:\n",
    "\n",
    "        try:\n",
    "            assert purchases[index] >= 0\n",
    "            total_purchases += purchases[index]\n",
    "        except AssertionError:\n",
    "            print \"AssertionError was triggered for user {}\".format(index)\n",
    "        except IndexError:\n",
    "            print \"IndexError was triggered for user {}\".format(index)\n",
    "        else:\n",
    "            print \"Great! No exceptions were triggered for user {}\".format(index)\n",
    "\n",
    "    return total_purchases"
   ]
  },
  {
   "cell_type": "code",
   "execution_count": 50,
   "metadata": {
    "collapsed": false
   },
   "outputs": [
    {
     "name": "stdout",
     "output_type": "stream",
     "text": [
      "Great! No exceptions were triggered for user 0\n",
      "AssertionError was triggered for user 1\n",
      "Great! No exceptions were triggered for user 2\n"
     ]
    },
    {
     "data": {
      "text/plain": [
       "17"
      ]
     },
     "execution_count": 50,
     "metadata": {},
     "output_type": "execute_result"
    }
   ],
   "source": [
    "user_purchases = [12, -3, 5, 7, 10]\n",
    "list_length = range(3)\n",
    "get_purchase_total_with_exceptions(user_purchases, list_length)"
   ]
  },
  {
   "cell_type": "markdown",
   "metadata": {
    "collapsed": true
   },
   "source": [
    "# Lab\n",
    "\n",
    "You will use exception handling in the following two exercises. \n",
    "\n",
    "### Exercise One"
   ]
  },
  {
   "cell_type": "markdown",
   "metadata": {},
   "source": [
    "1. Create a function (accepting arguments is optional) that asks the user to enter a number. \n",
    "2. The function terminates only when the user's casted input has an int data type (ie. 3 and \"3\" are currect, \"d\" is incorrect. )\n",
    "2. Use a try/except statement (no attachments) to handle the raised exception. \n",
    "4. Print out an appropriate message in the except.\n",
    "\n",
    "**Hint:** consider using a while loop.)"
   ]
  },
  {
   "cell_type": "code",
   "execution_count": 57,
   "metadata": {
    "collapsed": false
   },
   "outputs": [
    {
     "name": "stdout",
     "output_type": "stream",
     "text": [
      "Please enter a number: \"je\"\n"
     ]
    },
    {
     "ename": "ValueError",
     "evalue": "invalid literal for int() with base 10: 'je'",
     "output_type": "error",
     "traceback": [
      "\u001b[0;31m---------------------------------------------------------------------------\u001b[0m",
      "\u001b[0;31mValueError\u001b[0m                                Traceback (most recent call last)",
      "\u001b[0;32m<ipython-input-57-f28331fbe0f5>\u001b[0m in \u001b[0;36m<module>\u001b[0;34m()\u001b[0m\n\u001b[1;32m      1\u001b[0m \u001b[0;31m# starter code\u001b[0m\u001b[0;34m\u001b[0m\u001b[0;34m\u001b[0m\u001b[0m\n\u001b[0;32m----> 2\u001b[0;31m \u001b[0mx\u001b[0m \u001b[0;34m=\u001b[0m \u001b[0mint\u001b[0m\u001b[0;34m(\u001b[0m\u001b[0minput\u001b[0m\u001b[0;34m(\u001b[0m\u001b[0;34m\"Please enter a number: \"\u001b[0m\u001b[0;34m)\u001b[0m\u001b[0;34m)\u001b[0m\u001b[0;34m\u001b[0m\u001b[0m\n\u001b[0m",
      "\u001b[0;31mValueError\u001b[0m: invalid literal for int() with base 10: 'je'"
     ]
    }
   ],
   "source": [
    "# starter code\n",
    "x = int(input(\"Please enter a number: \"))"
   ]
  },
  {
   "cell_type": "code",
   "execution_count": 260,
   "metadata": {
    "collapsed": false
   },
   "outputs": [],
   "source": [
    "# Solution Don't let student see this untill they have completed the exercise \n",
    "# def get_user_number():\n",
    "#     input_successful = False\n",
    "#     while input_successful == False:\n",
    "#         try:\n",
    "#             x = int(input(\"Please enter a number: \"))\n",
    "#             input_successful = True\n",
    "#         except ValueError:\n",
    "#             print(\"Oops!  That was no valid number.  Try again...\")"
   ]
  },
  {
   "cell_type": "code",
   "execution_count": 262,
   "metadata": {
    "collapsed": false
   },
   "outputs": [
    {
     "name": "stdout",
     "output_type": "stream",
     "text": [
      "Please enter a number: 3\n"
     ]
    }
   ],
   "source": [
    "# get_user_number()"
   ]
  },
  {
   "cell_type": "markdown",
   "metadata": {},
   "source": [
    "### Exercise Two"
   ]
  },
  {
   "cell_type": "markdown",
   "metadata": {},
   "source": [
    "1. Create a function that accepts a single argument (a file path) \n",
    "2. The function loads a file to a file handle and attemps to write to the file. \n",
    "3. Use a try/execpt/else statement to handel the error that is raised when you attempt to open the file with the file path provided. \n",
    "4. The function should print.\n",
    "4. Print out an appropriate message under the except statement. \n",
    "5. Print an appropriat message under the else statement. "
   ]
  },
  {
   "cell_type": "code",
   "execution_count": 230,
   "metadata": {
    "collapsed": false
   },
   "outputs": [
    {
     "ename": "IOError",
     "evalue": "[Errno 2] No such file or directory: '/Users/GeneralAssembly/goodluck.py'",
     "output_type": "error",
     "traceback": [
      "\u001b[0;31m---------------------------------------------------------------------------\u001b[0m",
      "\u001b[0;31mIOError\u001b[0m                                   Traceback (most recent call last)",
      "\u001b[0;32m<ipython-input-230-04d2731fcfbe>\u001b[0m in \u001b[0;36m<module>\u001b[0;34m()\u001b[0m\n\u001b[1;32m      1\u001b[0m \u001b[0;31m# stater code\u001b[0m\u001b[0;34m\u001b[0m\u001b[0;34m\u001b[0m\u001b[0m\n\u001b[1;32m      2\u001b[0m \u001b[0mfile_path\u001b[0m \u001b[0;34m=\u001b[0m \u001b[0;34m\"/Users/GeneralAssembly/goodluck.py\"\u001b[0m\u001b[0;34m\u001b[0m\u001b[0m\n\u001b[0;32m----> 3\u001b[0;31m \u001b[0mfh\u001b[0m \u001b[0;34m=\u001b[0m \u001b[0mopen\u001b[0m\u001b[0;34m(\u001b[0m\u001b[0mfile_path\u001b[0m\u001b[0;34m,\u001b[0m \u001b[0;34m\"r\"\u001b[0m\u001b[0;34m)\u001b[0m\u001b[0;34m\u001b[0m\u001b[0m\n\u001b[0m",
      "\u001b[0;31mIOError\u001b[0m: [Errno 2] No such file or directory: '/Users/GeneralAssembly/goodluck.py'"
     ]
    }
   ],
   "source": [
    "# stater code\n",
    "file_path = \"/Users/GeneralAssembly/goodluck.py\"\n",
    "fh = open(file_path, \"r\")\n",
    "fh.write(\"This is my test file for exception handling!!\")"
   ]
  },
  {
   "cell_type": "code",
   "execution_count": 263,
   "metadata": {
    "collapsed": false
   },
   "outputs": [],
   "source": [
    "# Solution Don't let student see this untill they have completed the exercise \n",
    "# def load_file(file_path):\n",
    "#     try:\n",
    "#         fh = open(file_path, \"r\")\n",
    "#         fh.write(\"This is my test file for exception handling!!\")\n",
    "#     except IOError:\n",
    "#         print \"Error: can\\'t find file or read data\"\n",
    "#     else:\n",
    "#         print \"Written content in the file successfully\""
   ]
  },
  {
   "cell_type": "code",
   "execution_count": 264,
   "metadata": {
    "collapsed": false
   },
   "outputs": [
    {
     "name": "stdout",
     "output_type": "stream",
     "text": [
      "Error: can't find file or read data\n"
     ]
    }
   ],
   "source": [
    "# load_file(file_path)"
   ]
  }
 ],
 "metadata": {
  "anaconda-cloud": {},
  "kernelspec": {
   "display_name": "Python [conda env:python2]",
   "language": "python",
   "name": "conda-env-python2-py"
  },
  "language_info": {
   "codemirror_mode": {
    "name": "ipython",
    "version": 2
   },
   "file_extension": ".py",
   "mimetype": "text/x-python",
   "name": "python",
   "nbconvert_exporter": "python",
   "pygments_lexer": "ipython2",
   "version": "2.7.12"
  }
 },
 "nbformat": 4,
 "nbformat_minor": 1
}
