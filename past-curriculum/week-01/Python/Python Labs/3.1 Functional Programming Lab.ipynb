{
 "cells": [
  {
   "cell_type": "markdown",
   "metadata": {},
   "source": [
    "### Functional Programming in Python\n",
    "In class, we briefly explored the Functional Programming in Python through lambda functions, map, filter, iterators, generators, and deocrators. This note will review those ideas. "
   ]
  },
  {
   "cell_type": "markdown",
   "metadata": {},
   "source": [
    "#### Lambda Functions \n",
    "The `lambda` keyword creates anonymous functions within Python. Programmers usually use `lambda` out of convenience because they don't require explicitly defining a new function. This is especially useful when the function you are writing won't be used again outside a particular context. `lambda`s usually serve as an input function to higher order functions (that require functional input), i.e. `map`, `filter`, `pandas.apply`, and others alike."
   ]
  },
  {
   "cell_type": "code",
   "execution_count": 20,
   "metadata": {
    "collapsed": false
   },
   "outputs": [],
   "source": [
    "# Before compiling the following code snippets, write down what\n",
    "# each individual lambda function will return in an inline comment. \n",
    "# If you think it returns an error, why would it be the case. \n",
    " \n",
    "    \n",
    "(lambda val: val** 2) (2)\n",
    "\n",
    "(lambda x, y: x + y)(2, 3)\n",
    "\n",
    "(lambda x, y: x + y)((2, 3))\n",
    "\n",
    "ga = (lambda s: s if 'General' in s else 'Specific ' + s)\n",
    "ga('General Assembly')\n",
    "ga('Assembly')"
   ]
  },
  {
   "cell_type": "markdown",
   "metadata": {},
   "source": [
    "### Comprehensions \n",
    "\n",
    "In Python, you can build sequences using list comprehensions or generator expressions. Such expressions make your code more readable and often faster to execute. \n",
    "\n",
    "**Exercise**: Transform the following piece of code into a list comprehension.\n",
    "\n",
    "    letters = string.ascii_uppercase\n",
    "    letters_idx = []\n",
    "    for letter in letters:\n",
    "        letters_idx.append(letters.index(letter))\n",
    "    print letters_idx\n",
    "    \n",
    "\n",
    "**Exercise**: Create a Cartesian product of t-shirt colors/sizes using a list comprehension. \n",
    "    \n",
    "    Inputs: \n",
    "    colors = ['black', 'white']\n",
    "    sizes = ['S', 'M', 'L']\n",
    "    \n",
    "    Output: \n",
    "    [('black', 'S'), ('black', 'M'), ('black', 'L'), \n",
    "     ('white', 'S'), ('white', 'M'), ('white', 'L')]\n",
    "     \n",
    "     \n",
    "**Exercise:** In the output above, change the 'S' size to 'Small' and 'M' and 'L' to be 'Large'. \n",
    "\n",
    "**Exercise:** What are the other types of comprehensions and how are they different from list comprehensions?\n",
    "\n",
    "While `for loop` can be general and do things beyond just outputting a list, list comprehensions are designed to build a new list. Don’t use that syntax if you are not doing something with the produced list. Additionally, if the list comprehension spans more than two lines, it is probably best to break it apart or rewrite as a plain old `for loop`."
   ]
  },
  {
   "cell_type": "markdown",
   "metadata": {},
   "source": [
    "### Higher Order functions\n",
    "Higher order functions take in function as an argument OR returns a function as result is a higher order\n",
    "function. Some of the examples we have discussed so far are `map`, `sorted`, `filter`. \n",
    "\n",
    "`map(func, iterable)` applies the function over elements of an iterable. If you have multiple iterables, then `map(func, zip(iterA, iterB, iterC))` where your function takes in as many arguments \n",
    "\n",
    "From module: `functools`, recall the function `reduce`. `functools.reduce(function, iterable[, initializer])`. \n",
    "\n",
    "**Exercise**: Read through the Blog Post on MapReduce (http://michaelnielsen.org/blog/write-your-first-mapreduce-program-in-20-minutes/) [no need to implement] and explain how it's related to the `map` and `reduce` functions we have covered. \n",
    "\n",
    "`filter(pred, iterable)` applies a function that returns a bool value to each item in the iterable and returns only the items for which this is true. \n",
    "\n",
    "\n",
    "\n",
    "`sorted(iterable, key=func)` takes in an optional key argument that allows you to provide a function to be applied to each item for sorting. \n",
    "\n",
    "Beyond `sorted`, `max(seq)`, `min(seq)`, and `seq.sort()` also use keys to determine the values used for ordering elements in a sequence.\n",
    "\n",
    "\n",
    "**Exercise**: What do the following uses of `sorted` return?\n",
    "    \n",
    "    # first example \n",
    "    fruits = ['strawberry','fig','apple','cherry','raspberry','banana']\n",
    "    sorted(fruits, key=len)\n",
    "    \n",
    "    # second example\n",
    "    sorted(fruits, key=lambda word: word[::-1])\n",
    "    \n",
    "   \n",
    "    \n",
    "**Exercise**: Write a function to return the two words with the highest alphanumeric score of uppercase letters:\n",
    "\n",
    "    def alpha_score(upper_letters):\n",
    "         \"\"\"\n",
    "         Computers the alphanumeric sum of letters in a\n",
    "         string. Prerequisite: upper_letters is composed\n",
    "         entirely of capital letters.\n",
    "         \n",
    "         \"\"\"\n",
    "        return sum(map(lambda l: 1 + ord(l) - ord('A'), upper_letters))\n",
    "\n",
    "    \n",
    "    alpha_score('ABC')  # => 6 = 1 ('A') + 2 ('B') + 3 ('C')\n",
    "\n",
    "    \n",
    "    def two_best(words):\n",
    "        pass  # Your implementation here\n",
    "\n",
    "    two_best(['hEllO', 'wOrLD', 'i', 'aM', 'PyThOn'])\n",
    "  "
   ]
  },
  {
   "cell_type": "markdown",
   "metadata": {},
   "source": [
    "### Iterables vs. Generators \n",
    "\n",
    "Iterator object represents a stream of data returned one value at a time. Meanwhile, generators lazily compute the values on the fly without holding the contents of the list in place in memory. \n",
    "\n",
    "\n",
    "[Expert] **Exercise**: For each of the following scenarios, discuss whether it would be more appropriate to use a generator expression or a list comprehension:\n",
    "- Searching for a given entity in the entries of a 1TB database.\n",
    "- Calculate cheap airfare using journey-to-destination flight information.\n",
    "- Finding the first palindromic Fibonacci number greater than 1,000,000.\n",
    "- Determine all multi-word anagrams of user-supplied 1000-character-or-more strings (very expensive to do).\n",
    "- Return a list of all startups within 50 miles of San Francisco. \n",
    "\n",
    "\n",
    "[Challenge] **Exercise**: In class, we dicussed how to generate primes using the following function. \n",
    "\n",
    "    def primes_under(n):\n",
    "    tests = []\n",
    "    for i in range(2, n):\n",
    "        if not any(map(lambda test: test(i), tests)):\n",
    "            tests.append(make_divisibility_test(i))\n",
    "            yield i\n",
    "\n",
    "Change this function to generate composites. What is the 1000th composite number?"
   ]
  },
  {
   "cell_type": "markdown",
   "metadata": {},
   "source": [
    "### Decorators \n",
    "\n",
    "Functional decorators are essentially syntactic sugar that help you anotate and simplify your code. While decorators may seem abstract right now, they pop up all over the place when reading large codebases. Thus, it's important to have an understanding of what they do and why they could be useful. \n",
    "\n",
    "As mentioned in class, decorators take another function as an argument. They may perform some processing with the decorated function and return it or replace it with another function. More concretely, the following two snippets of code return the same output: \n",
    "\n",
    "    @decorate\n",
    "    def target():\n",
    "        print 'running target()'\n",
    "     \n",
    "    def target():\n",
    "        print running target()\n",
    "    \n",
    "    target = decorate(target)\n",
    "\n",
    "\n",
    "Deocrators help reduce the repetition in your code. While repetition may seem harmless, it can introduce subtle bugs into your system. Take the use case of an e-commerce app that keeps track of the promos/coupons being offered on the site. As the company introduces new types of promotional deals, it will probably write new functions to calculate the discount % for that customer associated with the promo. However, we also want to maintain a master list of all of the promos to keep track of the `best_promo`."
   ]
  },
  {
   "cell_type": "code",
   "execution_count": 34,
   "metadata": {
    "collapsed": false
   },
   "outputs": [],
   "source": [
    "# in the snippet below \n",
    "promos = []\n",
    "def promotion(promo_func):\n",
    "    promos.append(promo_func)\n",
    "    return promo_func\n",
    "\n",
    "@promotion\n",
    "def fidelity(order):\n",
    "    \"\"\"5% discount for customers with 1000 or more fidelity points\"\"\"\n",
    "    return order.total() * .05 if order.customer.fidelity >= 1000 else 0\n",
    "\n",
    "@promotion\n",
    "def bulk_item(order):\n",
    "    \"\"\"10% discount for each LineItem with 20 or more units\"\"\"\n",
    "    discount = 0\n",
    "    for item in order.cart:\n",
    "        if item.quantity >= 20:\n",
    "            discount += item.total() * .1\n",
    "    return discount\n",
    "\n",
    "\n",
    "@promotion\n",
    "def large_order(order):\n",
    "    \"\"\" 7% discount for orders with 10 or more distinct items\"\"\"\n",
    "    distinct_items = {item.product for item in order.cart}\n",
    "    if len(distinct_items) >= 10:\n",
    "        return order.total() * .07\n",
    "    return 0\n",
    "\n",
    "def best_promo(order):\n",
    "    \"\"\"\n",
    "    Select best discount available\n",
    "\n",
    "    \"\"\"\n",
    "    return max(promo(order) for promo in promos)"
   ]
  },
  {
   "cell_type": "markdown",
   "metadata": {},
   "source": [
    "In the code above, `promos` list starts out empty. `promotion` decorator returns `promo_func` unchanged but appends it to the `promos` list. Any function decorated by @promotion will be added to promos. This thus becomes an easy way to add items to the master promos list as new promotions are going live. "
   ]
  },
  {
   "cell_type": "markdown",
   "metadata": {},
   "source": [
    "**Exercise**: Familiarize yourself with the ipyparallel (http://people.duke.edu/~ccc14/sta-663-2016/19C_IPyParallel.html). Elaborate on why @remote and @parallel are useful decorators and specifically why could they come in handy when you are implementing ML algorithms that are easily parallelizable. "
   ]
  },
  {
   "cell_type": "markdown",
   "metadata": {},
   "source": [
    "[Expert] **Exercise**: Explore how decorators are used in Flask through these bloog posts (http://flask.pocoo.org/docs/0.11/quickstart/; http://flask.pocoo.org/docs/0.11/patterns/viewdecorators/). Describe your findings."
   ]
  },
  {
   "cell_type": "markdown",
   "metadata": {},
   "source": [
    "[Challenge] **Exercise**: Automatic Caching\n",
    "\n",
    "Write the `cache`  decorator that automatically caches any calls to the decorated function. You can assume that all arguments passed to the decorated function will always be hashable types. Can you think of reasons why such a decorator would be useful?\n",
    "\n",
    "Note: This is functionality is implemented as a decorator with functools.lru_cache"
   ]
  },
  {
   "cell_type": "code",
   "execution_count": null,
   "metadata": {
    "collapsed": false
   },
   "outputs": [],
   "source": [
    "def cache(function):\n",
    "    pass  # Your implementation here\n",
    "\n",
    "@cache\n",
    "def fib(n):\n",
    "    return fib(n-1) + fib(n-2) if n > 2 else 1\n",
    "\n",
    "fib(10)  # 55 (takes a moment to execute)\n",
    "fib(10)  # 55 (returns immediately)\n",
    "fib(100) # doesn't take forever\n",
    "fib(400) # doesn't raise RuntimeError"
   ]
  }
 ],
 "metadata": {
  "kernelspec": {
   "display_name": "Python 2",
   "language": "python",
   "name": "python2"
  },
  "language_info": {
   "codemirror_mode": {
    "name": "ipython",
    "version": 2
   },
   "file_extension": ".py",
   "mimetype": "text/x-python",
   "name": "python",
   "nbconvert_exporter": "python",
   "pygments_lexer": "ipython2",
   "version": "2.7.12"
  }
 },
 "nbformat": 4,
 "nbformat_minor": 1
}
