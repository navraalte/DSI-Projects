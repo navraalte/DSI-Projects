{
 "cells": [
  {
   "cell_type": "markdown",
   "metadata": {},
   "source": [
    "# Iteration practice with movies\n",
    "\n",
    "In this lab you'll be using the provided imdb `movies` list below as your dataset. \n",
    "\n",
    "This lab is designed to practice iteration. The normal questions are more gentle, and the challenge questions are suitable for advanced/expert python or programming-experienced students. \n",
    "\n",
    "All the questions require writing functions and also use iteration to solve. You should print out a test of each function you write.\n",
    "\n",
    "---\n",
    "\n",
    "### 1. Load the provided list of movies dictionaries."
   ]
  },
  {
   "cell_type": "code",
   "execution_count": 1,
   "metadata": {
    "collapsed": false
   },
   "outputs": [],
   "source": [
    "# List of movies dictionaries:\n",
    "\n",
    "movies = [\n",
    "{\n",
    "\"name\": \"Usual Suspects\", \n",
    "\"imdb\": 7.0,\n",
    "\"category\": \"Thriller\"\n",
    "},\n",
    "{\n",
    "\"name\": \"Hitman\",\n",
    "\"imdb\": 6.3,\n",
    "\"category\": \"Action\"\n",
    "},\n",
    "{\n",
    "\"name\": \"Dark Knight\",\n",
    "\"imdb\": 9.0,\n",
    "\"category\": \"Adventure\"\n",
    "},\n",
    "{\n",
    "\"name\": \"The Help\",\n",
    "\"imdb\": 8.0,\n",
    "\"category\": \"Drama\"\n",
    "},\n",
    "{\n",
    "\"name\": \"The Choice\",\n",
    "\"imdb\": 6.2,\n",
    "\"category\": \"Romance\"\n",
    "},\n",
    "{\n",
    "\"name\": \"Colonia\",\n",
    "\"imdb\": 7.4,\n",
    "\"category\": \"Romance\"\n",
    "},\n",
    "{\n",
    "\"name\": \"Love\",\n",
    "\"imdb\": 6.0,\n",
    "\"category\": \"Romance\"\n",
    "},\n",
    "{\n",
    "\"name\": \"Bride Wars\",\n",
    "\"imdb\": 5.4,\n",
    "\"category\": \"Romance\"\n",
    "},\n",
    "{\n",
    "\"name\": \"AlphaJet\",\n",
    "\"imdb\": 3.2,\n",
    "\"category\": \"War\"\n",
    "},\n",
    "{\n",
    "\"name\": \"Ringing Crime\",\n",
    "\"imdb\": 4.0,\n",
    "\"category\": \"Crime\"\n",
    "},\n",
    "{\n",
    "\"name\": \"Joking muck\",\n",
    "\"imdb\": 7.2,\n",
    "\"category\": \"Comedy\"\n",
    "},\n",
    "{\n",
    "\"name\": \"What is the name\",\n",
    "\"imdb\": 9.2,\n",
    "\"category\": \"Suspense\"\n",
    "},\n",
    "{\n",
    "\"name\": \"Detective\",\n",
    "\"imdb\": 7.0,\n",
    "\"category\": \"Suspense\"\n",
    "},\n",
    "{\n",
    "\"name\": \"Exam\",\n",
    "\"imdb\": 4.2,\n",
    "\"category\": \"Thriller\"\n",
    "},\n",
    "{\n",
    "\"name\": \"We Two\",\n",
    "\"imdb\": 7.2,\n",
    "\"category\": \"Romance\"\n",
    "}\n",
    "]"
   ]
  },
  {
   "cell_type": "markdown",
   "metadata": {},
   "source": [
    "---\n",
    "\n",
    "### 2. Filtering data by IMDB score\n",
    "\n",
    "#### 2.1 \n",
    "\n",
    "Write a function that:\n",
    "\n",
    "1. Accepts a single movie dictionary from the `movies` list as an argument.\n",
    "2. Returns True if the IMDB score is above 5.5.\n",
    "\n",
    "#### 2.2 [Challenge] \n",
    "\n",
    "Write a function that:\n",
    "\n",
    "1. Accepts the movies list and a specified category.\n",
    "2. Returns True if the average score of the category is higher than the average score of all movies."
   ]
  },
  {
   "cell_type": "code",
   "execution_count": 2,
   "metadata": {
    "collapsed": false
   },
   "outputs": [],
   "source": [
    "# Your code here.\n",
    "def filter_imdb(movie, score=5.5):\n",
    "    return movie['imdb'] > score\n",
    "\n",
    "def filter_cat(movie, category):\n",
    "    return movie['category'] == category \n",
    "\n",
    "def category_average(movies, category):\n",
    "    cat_movies = [movie['imdb'] for movie in movies if filter_cat(movie, category)]\n",
    "    cat_movies_avg = sum(cat_movies) / len(cat_movies)\n",
    "    return cat_movies_avg\n",
    "\n",
    "def good_category(movies, category):\n",
    "    total_avg = sum([movie['imdb'] for movie in movies]) / len(movies)\n",
    "    return category_average(movies, category) > total_avg"
   ]
  },
  {
   "cell_type": "markdown",
   "metadata": {},
   "source": [
    "---\n",
    "\n",
    "### 3. Creating subsets by numeric condition\n",
    "\n",
    "#### 3.1\n",
    "\n",
    "Write a function that:\n",
    "\n",
    "1. Accepts the list of movies and a specified imdb score.\n",
    "2. Returns the sublist of movies that have a score greater than the specified score.\n",
    "\n",
    "#### 3.2 [Expert] \n",
    "\n",
    "Write a function that:\n",
    "\n",
    "1. Accepts the movies list as an argument.\n",
    "2. Returns the movies list sorted first by category and then by movie according to average score and individual score, respectively."
   ]
  },
  {
   "cell_type": "code",
   "execution_count": 3,
   "metadata": {
    "collapsed": false
   },
   "outputs": [],
   "source": [
    "# Your code here.\n",
    "def good_movies(movies, score):\n",
    "    return [movie for movie in movies if filter_imdb(movie, score)]\n",
    "\n",
    "\n",
    "def sorted_cat(movies):\n",
    "    cat_avg_movies = []\n",
    "    \n",
    "    for item in movies:\n",
    "        item.update({'cat_avg': category_average(movies, item['category'])})\n",
    "        cat_avg_movies.append(item)\n",
    "        \n",
    "    cat_avg_movies.sort(key = lambda x: (x['cat_avg'], x['imdb']), reverse=True)\n",
    "    return cat_avg_movies"
   ]
  },
  {
   "cell_type": "markdown",
   "metadata": {},
   "source": [
    "---\n",
    "\n",
    "### 4. Creating subsets by string condition\n",
    "\n",
    "#### 4.1\n",
    "\n",
    "Write a function that:\n",
    "\n",
    "1. Accepts the movies list and a category name.\n",
    "2. Returns the movie names within that category (case-insensitive!)\n",
    "3. If the category is not in the data, print a message that it does not exist and return None.\n",
    "\n",
    "Recall that to convert a string to lowercase, you can use:\n",
    "\n",
    "```python\n",
    "mystring = 'Dumb and Dumber'\n",
    "lowercase_mystring = mystring.lower()\n",
    "print lowercase_mystring\n",
    "'dumb and dumber'\n",
    "```\n",
    "\n",
    "#### 4.2 [Challenge]\n",
    "\n",
    "Write a function that:\n",
    "\n",
    "1. Accepts the movies list and a \"search string\".\n",
    "2. Returns a dictionary with keys `'category'` and `'title'` whose values are lists of categories that contain the search string and titles that contain the search string, respectively (case-insensitive!)"
   ]
  },
  {
   "cell_type": "code",
   "execution_count": 4,
   "metadata": {
    "collapsed": false
   },
   "outputs": [],
   "source": [
    "# Your code here.\n",
    "def get_cat(movies, category):\n",
    "    category = category.title()\n",
    "    filtered_movies = [movie['name'] for movie in movies if filter_cat(movie, category)]\n",
    "    if filtered_movies:\n",
    "        return filtered_movies\n",
    "    else:\n",
    "        print \"This category doesn't exist\"\n",
    "        return None"
   ]
  },
  {
   "cell_type": "code",
   "execution_count": 5,
   "metadata": {
    "collapsed": false
   },
   "outputs": [],
   "source": [
    "def search_cat_title(movies, substr):\n",
    "    substr = substr.lower()\n",
    "    fuzzy_movies = {'title': set(), 'category': set()}\n",
    "    \n",
    "    for movie in movies:\n",
    "        if substr in movie['name'].lower():\n",
    "            fuzzy_movies['title'].add(movie['name'])\n",
    "        \n",
    "        if substr in movie['category'].lower():\n",
    "            fuzzy_movies['category'].add(movie['category'])\n",
    "    \n",
    "    return fuzzy_movies"
   ]
  },
  {
   "cell_type": "code",
   "execution_count": 6,
   "metadata": {
    "collapsed": false
   },
   "outputs": [
    {
     "data": {
      "text/plain": [
       "{'category': {'Suspense'}, 'title': {'Usual Suspects'}}"
      ]
     },
     "execution_count": 6,
     "metadata": {},
     "output_type": "execute_result"
    }
   ],
   "source": [
    "search_cat_title(movies, 'SUS')"
   ]
  },
  {
   "cell_type": "markdown",
   "metadata": {},
   "source": [
    "---\n",
    "\n",
    "### Multiple conditions\n",
    "\n",
    "#### 5.1\n",
    "\n",
    "Write a function that:\n",
    "\n",
    "1. Accepts the movies list and a \"search criteria\" variable.\n",
    "2. If the criteria variable is numeric, return a list of movie titles with a score greater than or equal to the criteria.\n",
    "3. If the criteria variable is a string, return a list of movie titles that match that category (case-insensitive!). If there is no match, return an empty list and print an informative message.\n",
    "\n",
    "#### 5.2 [Expert]\n",
    "\n",
    "Write a function that:\n",
    "\n",
    "1. Accepts the movies list and a string search criteria variable.\n",
    "2. The search criteria variable can contain within it:\n",
    "  - Boolean operations: `'AND'`, `'OR'`, and `'NOT'` (can have/be lowercase as well, I just capitalized for clarity).\n",
    "  - Search criteria specified with syntax `score=...`, `category=...`, and/or `title=...`, where the `...` indicates what to look for.\n",
    "    - If `score` is present, it means scores greater than or equal to the value.\n",
    "    - For `category` and `title`, the string indicates that the category or title must _contain_ the search string (case-insensitive).\n",
    "3. Return the matches for the search criteria specified."
   ]
  },
  {
   "cell_type": "code",
   "execution_count": 7,
   "metadata": {
    "collapsed": false
   },
   "outputs": [
    {
     "name": "stdout",
     "output_type": "stream",
     "text": [
      "['Usual Suspects', 'Dark Knight', 'The Help', 'Colonia', 'Joking muck', 'What is the name', 'Detective', 'We Two']\n",
      "['What is the name', 'Detective']\n",
      "[]\n",
      "Input either a numeric or string search criteria\n"
     ]
    }
   ],
   "source": [
    "# Your code here.\n",
    "# Code for 5.1 Section \n",
    "def filter_movies(movies, search_crit):\n",
    "    if type(search_crit) in [int, float]:\n",
    "        return [movie['name'] for movie in movies if filter_imdb(movie, search_crit)]\n",
    "    elif type(search_crit) == str:\n",
    "        filtered_movies = [movie['name'] for movie in movies\n",
    "                           if search_crit.lower() in movie['category'].lower()]    \n",
    "        return filtered_movies\n",
    "    else:\n",
    "        return \"Input either a numeric or string search criteria\"\n",
    "            \n",
    "\n",
    "print filter_movies(movies, 6.9)\n",
    "print filter_movies(movies, 'suspense')\n",
    "print filter_movies(movies, 'horror')\n",
    "print filter_movies(movies, {'name':'the godfather'})"
   ]
  },
  {
   "cell_type": "code",
   "execution_count": 97,
   "metadata": {
    "collapsed": false
   },
   "outputs": [],
   "source": [
    "# Code for 5.2 Section \n",
    "def movie_matches_subparser(movies, movie_key, value):\n",
    "    if movie_key == 'title':\n",
    "        movie_key = 'name'\n",
    "    elif movie_key not in ['category','imdb']:\n",
    "        print 'movie lookup key', movie_key, 'incorrect'\n",
    "        return []\n",
    "        \n",
    "    if movie_key == 'imdb':\n",
    "        try:\n",
    "            value = float(value)\n",
    "        except:\n",
    "            print 'imdb', value, 'cannot become float'\n",
    "            return []\n",
    "        \n",
    "    subset = []\n",
    "    for movie_ind, movie in enumerate(movies):\n",
    "        if type(value) == float:\n",
    "            if movie[movie_key] >= value:\n",
    "                subset.append(movie_ind)\n",
    "        else:\n",
    "            if value in movie[movie_key].lower():\n",
    "                subset.append(movie_ind)\n",
    "    \n",
    "    return subset\n",
    "\n",
    "\n",
    "\n",
    "def meets_boolean_criteria(movies, criteria_info):\n",
    "    \n",
    "    movie_inds = range(len(movies))\n",
    "    \n",
    "    full_set = set(movie_inds)\n",
    "    return_set = set(movie_inds)\n",
    "    \n",
    "    for boolean, movie_subset in criteria_info:\n",
    "        \n",
    "        movie_subset = set(movie_subset)\n",
    "        \n",
    "        if boolean == 'and':\n",
    "            return_set = return_set & movie_subset\n",
    "        elif boolean == 'or':\n",
    "            return_set = return_set | movie_subset\n",
    "        elif boolean == 'not':\n",
    "            return_set = return_set - movie_subset\n",
    "        elif boolean == 'ornot':\n",
    "            return_set = return_set | (full_set - movie_subset)\n",
    "            \n",
    "    return_list = []\n",
    "    for ind in list(return_set):\n",
    "        return_list.append(movies[ind])\n",
    "        \n",
    "    return return_list  \n",
    "            \n",
    "                \n",
    "\n",
    "def boolean_search(movies, search):\n",
    "    \n",
    "    search = search.lower()\n",
    "    search = search.split(' ')\n",
    "    \n",
    "    criteria_info = []\n",
    "    current_boolean = 'and'\n",
    "    \n",
    "    while len(search) > 0:\n",
    "        item = search.pop(0)\n",
    "        if item in ['and','or','not']:\n",
    "            if (current_boolean == 'or') and (item == 'not'):\n",
    "                current_boolean = 'ornot'\n",
    "            else:\n",
    "                current_boolean = item\n",
    "            continue\n",
    "        else:\n",
    "            if '=' in item:\n",
    "                item = item.split('=')\n",
    "            else:\n",
    "                print item, 'syntax incorrect'\n",
    "                return []\n",
    "                            \n",
    "            movie_match_inds = movie_matches_subparser(movies, item[0], item[1])\n",
    "            criteria_info.append([current_boolean, movie_match_inds])\n",
    "\n",
    "    matches = meets_boolean_criteria(movies, criteria_info)\n",
    "    return matches"
   ]
  },
  {
   "cell_type": "code",
   "execution_count": 98,
   "metadata": {
    "collapsed": false
   },
   "outputs": [
    {
     "name": "stdout",
     "output_type": "stream",
     "text": [
      "[{'category': 'Thriller', 'imdb': 7.0, 'name': 'Usual Suspects'}, {'category': 'Action', 'imdb': 6.3, 'name': 'Hitman'}, {'category': 'Adventure', 'imdb': 9.0, 'name': 'Dark Knight'}, {'category': 'Drama', 'imdb': 8.0, 'name': 'The Help'}, {'category': 'Romance', 'imdb': 6.2, 'name': 'The Choice'}, {'category': 'Romance', 'imdb': 7.4, 'name': 'Colonia'}, {'category': 'Romance', 'imdb': 5.4, 'name': 'Bride Wars'}, {'category': 'War', 'imdb': 3.2, 'name': 'AlphaJet'}, {'category': 'Crime', 'imdb': 4.0, 'name': 'Ringing Crime'}, {'category': 'Comedy', 'imdb': 7.2, 'name': 'Joking muck'}, {'category': 'Suspense', 'imdb': 9.2, 'name': 'What is the name'}, {'category': 'Suspense', 'imdb': 7.0, 'name': 'Detective'}, {'category': 'Thriller', 'imdb': 4.2, 'name': 'Exam'}, {'category': 'Romance', 'imdb': 7.2, 'name': 'We Two'}]\n",
      "[{'category': 'Adventure', 'imdb': 9.0, 'name': 'Dark Knight'}]\n",
      "imdb notafloat cannot become float\n",
      "when syntax incorrect\n"
     ]
    },
    {
     "data": {
      "text/plain": [
       "[]"
      ]
     },
     "execution_count": 98,
     "metadata": {},
     "output_type": "execute_result"
    }
   ],
   "source": [
    "print boolean_search(movies, 'imdb=7.0 NOT category=suspense OR NOT title=love')\n",
    "\n",
    "print boolean_search(movies, 'imdb=8.9 AND NOT category=suspense')\n",
    "\n",
    "boolean_search(movies, 'imdb=notafloat')\n",
    "\n",
    "boolean_search(movies, 'category=1')\n",
    "\n",
    "boolean_search(movies, 'category=suspense WHEN imdb=5.5')"
   ]
  }
 ],
 "metadata": {
  "anaconda-cloud": {},
  "kernelspec": {
   "display_name": "Python 2",
   "language": "python",
   "name": "python2"
  },
  "language_info": {
   "codemirror_mode": {
    "name": "ipython",
    "version": 2
   },
   "file_extension": ".py",
   "mimetype": "text/x-python",
   "name": "python",
   "nbconvert_exporter": "python",
   "pygments_lexer": "ipython2",
   "version": "2.7.12"
  }
 },
 "nbformat": 4,
 "nbformat_minor": 0
}
