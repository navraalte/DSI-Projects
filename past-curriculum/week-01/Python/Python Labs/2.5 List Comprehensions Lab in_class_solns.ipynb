{
 "cells": [
  {
   "cell_type": "markdown",
   "metadata": {},
   "source": [
    "<img src=\"http://imgur.com/1ZcRyrc.png\" style=\"float: left; margin: 15px; height: 80px\">\n",
    "\n",
    "# List comprehension independent practice\n",
    "\n",
    "Week 1 | Lesson 1.3\n",
    "\n",
    "---\n",
    "\n",
    "Each problem below should be completed with a standard for-loop pattern as well as a single list (or dictionary) comprehension. This will give you a feel for the differences and similarities between the two.\n",
    "\n",
    "Questions increase in difficulty as you go down the problem set.\n",
    "\n",
    "---\n",
    "\n",
    "### Load useful packages:"
   ]
  },
  {
   "cell_type": "code",
   "execution_count": 1,
   "metadata": {
    "collapsed": true
   },
   "outputs": [],
   "source": [
    "import string\n",
    "import numpy as np"
   ]
  },
  {
   "cell_type": "markdown",
   "metadata": {},
   "source": [
    "---\n",
    "\n",
    "### 1. convert each string from lowercase to uppercase\n",
    "\n",
    "Python strings can be turned to uppercase by appending: **`.upper()`**. The inverse to lowercase can be done with **`.lower()`**.\n",
    "\n",
    "```python\n",
    "'yellow'.upper()\n",
    "'YELLOW'\n",
    "'GREEN'.lower()\n",
    "'green'\n",
    "```\n",
    "\n",
    "#### 1.1 With a for-loop"
   ]
  },
  {
   "cell_type": "markdown",
   "metadata": {},
   "source": [
    "#### 1.2 With a list comprehension"
   ]
  },
  {
   "cell_type": "code",
   "execution_count": 2,
   "metadata": {
    "collapsed": false
   },
   "outputs": [],
   "source": [
    "strings = ['black','Yellow','ReD','GreeN','BLUe']"
   ]
  },
  {
   "cell_type": "code",
   "execution_count": 3,
   "metadata": {
    "collapsed": false
   },
   "outputs": [
    {
     "data": {
      "text/plain": [
       "['BLACK', 'YELLOW', 'RED', 'GREEN', 'BLUE']"
      ]
     },
     "execution_count": 3,
     "metadata": {},
     "output_type": "execute_result"
    }
   ],
   "source": [
    "strings_upper = [string.upper() for string in strings]\n",
    "strings_upper"
   ]
  },
  {
   "cell_type": "markdown",
   "metadata": {},
   "source": [
    "---\n",
    "\n",
    "### 2. take the numbers in the list and keep only the even numbers\n",
    "\n",
    "Recall that the modulo operator **%** can be used to calculate the remainder. This is useful for finding even and odd numbers.\n",
    "\n",
    "```python\n",
    "print 5 % 2\n",
    "1\n",
    "print 4 % 2\n",
    "0\n",
    "```\n",
    "\n",
    "#### 2.1 With a for-loop"
   ]
  },
  {
   "cell_type": "markdown",
   "metadata": {},
   "source": [
    "#### 2.2 With a list comprehension"
   ]
  },
  {
   "cell_type": "code",
   "execution_count": 6,
   "metadata": {
    "collapsed": false
   },
   "outputs": [
    {
     "data": {
      "text/plain": [
       "[2, 4, 6, 8, 10]"
      ]
     },
     "execution_count": 6,
     "metadata": {},
     "output_type": "execute_result"
    }
   ],
   "source": [
    "numbers = [1,2,3,4,5,6,7,8,9,10]\n",
    "even_numbers = []\n",
    "for num in numbers:\n",
    "    if not num % 2:\n",
    "        even_numbers.append(num)\n",
    "\n",
    "even_numbers"
   ]
  },
  {
   "cell_type": "code",
   "execution_count": 14,
   "metadata": {
    "collapsed": false
   },
   "outputs": [],
   "source": [
    "evene_nums_lc = [n for n in numbers if n % 2 == 0]\n",
    "\n",
    "\n",
    "assert even_numbers == evene_nums_lc"
   ]
  },
  {
   "cell_type": "markdown",
   "metadata": {},
   "source": [
    "---\n",
    "\n",
    "### 3. convert to 'v' if a character is a vowel and 'c' if a consonant, otherwise convert to '?'\n",
    "\n",
    "I've conveniently defined the vowels and lowercase alphabet below. The characters to convert are in the `characters` list."
   ]
  },
  {
   "cell_type": "code",
   "execution_count": 24,
   "metadata": {
    "collapsed": false
   },
   "outputs": [
    {
     "name": "stdout",
     "output_type": "stream",
     "text": [
      "['a', 'b', 'c', 'd', 'e', 'f', 'g', 'h', 'i', 'j', 'k', 'l', 'm', 'n', 'o', 'p', 'q', 'r', 's', 't', 'u', 'v', 'w', 'x', 'y', 'z']\n",
      "['a', 'e', 'i', 'o', 'u']\n"
     ]
    }
   ],
   "source": [
    "import string\n",
    "alphabet = list(string.ascii_lowercase)\n",
    "vowels = list('aeiou')\n",
    "print alphabet\n",
    "print vowels\n",
    "\n",
    "characters = ['a','f',None,'k','l','1',12,'e','e',-1,'i','b','p']"
   ]
  },
  {
   "cell_type": "markdown",
   "metadata": {},
   "source": [
    "#### 3.1 With a for-loop"
   ]
  },
  {
   "cell_type": "code",
   "execution_count": 22,
   "metadata": {
    "collapsed": false
   },
   "outputs": [
    {
     "name": "stdout",
     "output_type": "stream",
     "text": [
      "['v', 'c', '?', 'c', 'c', '?', '?', 'v', 'v', '?', 'v', 'c', 'c']\n"
     ]
    }
   ],
   "source": [
    "## in-place version: dangerous if you want to reuse the input \n",
    "\n",
    "def convert_letters(lst):\n",
    "    for i in range(len(lst)):\n",
    "        if lst[i] in vowels:\n",
    "            lst[i] = \"v\"\n",
    "        elif lst[i] in alphabet and lst[i] not in vowels:\n",
    "            lst[i] = \"c\"\n",
    "        else:\n",
    "            lst[i] = \"?\"\n",
    "    return lst\n",
    "\n",
    "print convert_letters(characters)\n"
   ]
  },
  {
   "cell_type": "code",
   "execution_count": 23,
   "metadata": {
    "collapsed": false
   },
   "outputs": [
    {
     "data": {
      "text/plain": [
       "[(0, 'v'),\n",
       " (1, 'c'),\n",
       " (2, '?'),\n",
       " (3, 'c'),\n",
       " (4, 'c'),\n",
       " (5, '?'),\n",
       " (6, '?'),\n",
       " (7, 'v'),\n",
       " (8, 'v'),\n",
       " (9, '?'),\n",
       " (10, 'v'),\n",
       " (11, 'c'),\n",
       " (12, 'c')]"
      ]
     },
     "execution_count": 23,
     "metadata": {},
     "output_type": "execute_result"
    }
   ],
   "source": [
    "list(enumerate(characters))"
   ]
  },
  {
   "cell_type": "markdown",
   "metadata": {},
   "source": [
    "#### 3.2 With a list comprehension"
   ]
  },
  {
   "cell_type": "code",
   "execution_count": 25,
   "metadata": {
    "collapsed": false
   },
   "outputs": [
    {
     "data": {
      "text/plain": [
       "['v', 'c', '?', 'c', 'c', '?', '?', 'v', 'v', '?', 'v', 'c', 'c']"
      ]
     },
     "execution_count": 25,
     "metadata": {},
     "output_type": "execute_result"
    }
   ],
   "source": [
    "## list comprehensions with 'elif' functionality \n",
    "['?' if item not in alphabet else 'v' if item in vowels else 'c' for item in characters]"
   ]
  },
  {
   "cell_type": "markdown",
   "metadata": {},
   "source": [
    "---\n",
    "\n",
    "### 4. calculate the means of the numbers in each list that lie between 0 and 100 (inclusive)\n",
    "\n",
    "In other words, for each list inside of the `number_sets` list, calculate the mean of the numbers in the list that lie between 0 and 100.\n",
    "\n",
    "For example:\n",
    "\n",
    "```python\n",
    "a_list = [100, 1000, 99, 2, 0, -1]\n",
    "# before computing the mean, restrict to numbers in range [0, 100]\n",
    "a_list_restricted = [100, 99, 2, 0]\n",
    "# then compute the mean for that list\n",
    "a_list_mean = np.mean(a_list_restricted)\n",
    "```"
   ]
  },
  {
   "cell_type": "code",
   "execution_count": 28,
   "metadata": {
    "collapsed": false
   },
   "outputs": [],
   "source": [
    "number_sets = [[1,50,-40,20,90], [1004,1002,101,-90,40,34], [-1,-2,34,55,77,109]]"
   ]
  },
  {
   "cell_type": "markdown",
   "metadata": {},
   "source": [
    "#### 4.1 With a for-loop"
   ]
  },
  {
   "cell_type": "code",
   "execution_count": 32,
   "metadata": {
    "collapsed": false
   },
   "outputs": [
    {
     "name": "stdout",
     "output_type": "stream",
     "text": [
      "[40.25, 37.0, 55.333333333333336]\n"
     ]
    }
   ],
   "source": [
    "import numpy as np\n",
    "means = []\n",
    "\n",
    "for number_sublists in number_sets:\n",
    "    restricted_list = []\n",
    "    for number in number_sublists:\n",
    "        if number >= 0 and number <= 100:\n",
    "            restricted_list.append(number)\n",
    "    means.append(np.mean(restricted_list))\n",
    "    \n",
    "print means\n"
   ]
  },
  {
   "cell_type": "markdown",
   "metadata": {},
   "source": [
    "#### 4.2 With a list comprehension"
   ]
  },
  {
   "cell_type": "code",
   "execution_count": 37,
   "metadata": {
    "collapsed": false
   },
   "outputs": [
    {
     "data": {
      "text/plain": [
       "[40.25, 37.0, 55.333333333333336]"
      ]
     },
     "execution_count": 37,
     "metadata": {},
     "output_type": "execute_result"
    }
   ],
   "source": [
    "number_sets = [[1,50,-40,20,90], [1004,1002,101,-90,40,34], [-1,-2,34,55,77,109]]\n",
    "\n",
    "avg = lambda x: sum(x) / round(float(len(x)), 2)\n",
    "\n",
    "def btw_zero_hund(nums):\n",
    "    return [num for num in nums if 0 <= num <= 100]\n",
    "\n",
    "[avg(btw_zero_hund(nums)) for nums in number_sets]"
   ]
  },
  {
   "cell_type": "markdown",
   "metadata": {},
   "source": [
    "---\n",
    "\n",
    "### 5. Iterate through lists at the same time, concatenating strings from each\n",
    "\n",
    "**While iterating through both lists at the same time:**\n",
    "\n",
    "1. If the current index of the lists is even, join the string elements like: 'item1 item2'. \n",
    "2. If the current index of the lists is odd, join the string elements like: 'item2 item1'. \n",
    "3. Output a single list with the concatenated strings as elements.\n",
    "\n",
    "**item1** refers to the string at a particular index from the first list, and **item2** refers to the string from that index in the second list.\n",
    "\n",
    "You can use the handy **`zip(list1, list2)`** function to iterate through lists at the same time. For example:\n",
    "\n",
    "```python\n",
    "list1 = [1,2,3,4]\n",
    "list2 = ['A','B','C','D']\n",
    "zipped = zip(list1, list2)\n",
    "print zipped\n",
    "[(1, 'A'), (2, 'B'), (3, 'C'), (4, 'D')]\n",
    "```\n",
    "\n",
    "The **`enumerate()`** function will also come in handy!"
   ]
  },
  {
   "cell_type": "code",
   "execution_count": 38,
   "metadata": {
    "collapsed": true
   },
   "outputs": [],
   "source": [
    "strings1 = ['alpha','bravo','charlie','delta']\n",
    "strings2 = ['echo','foxtrot','golf','hotel']"
   ]
  },
  {
   "cell_type": "markdown",
   "metadata": {},
   "source": [
    "#### 5.1 With a for-loop"
   ]
  },
  {
   "cell_type": "code",
   "execution_count": 39,
   "metadata": {
    "collapsed": false
   },
   "outputs": [
    {
     "name": "stdout",
     "output_type": "stream",
     "text": [
      "['alphaecho', 'foxtrotbravo', 'charliegolf', 'hoteldelta']\n"
     ]
    }
   ],
   "source": [
    "str_concat = []\n",
    "for i, val in enumerate(strings1):\n",
    "    if i%2 == 0:\n",
    "        str_concat.append(val + strings2[i])\n",
    "    else:\n",
    "        str_concat.append(strings2[i] + val)\n",
    "\n",
    "print str_concat\n",
    "        "
   ]
  },
  {
   "cell_type": "markdown",
   "metadata": {},
   "source": [
    "#### 5.2 With a list comprehension"
   ]
  },
  {
   "cell_type": "code",
   "execution_count": 46,
   "metadata": {
    "collapsed": false
   },
   "outputs": [
    {
     "data": {
      "text/plain": [
       "['alphaecho', 'foxtrotbravo', 'charliegolf', 'hoteldelta']"
      ]
     },
     "execution_count": 46,
     "metadata": {},
     "output_type": "execute_result"
    }
   ],
   "source": [
    "[val[1] + val[0] if idx % 2 \n",
    " else ''.join(val) for idx, val in enumerate(zip(strings1, strings2))]"
   ]
  },
  {
   "cell_type": "markdown",
   "metadata": {},
   "source": [
    "---\n",
    "\n",
    "### 6. Dictionary comprehensions: create data dictionary from lists\n",
    "\n",
    "1. The keys will be the items in the `columns` list.\n",
    "2. The values for the column keys will be the number referred to by the key (given to you in the `values` list), times the numbers in the `multiples` list.\n",
    "\n",
    "For example, if I had columns `'two'` and `'three'`, the output would be:\n",
    "\n",
    "```python\n",
    "columns = ['two','three']\n",
    "values = [2, 3]\n",
    "multiples = [1,2,3,4,5]\n",
    "# ...code to generate output below...\n",
    "{\n",
    " 'two':[2,4,6,8,10],\n",
    " 'three':[3,6,9,12,15]\n",
    "}\n",
    "\n",
    "```\n",
    "\n",
    "from the columns and associated values where each column is the first five multiples of the values:"
   ]
  },
  {
   "cell_type": "code",
   "execution_count": 5,
   "metadata": {
    "collapsed": false
   },
   "outputs": [
    {
     "name": "stdout",
     "output_type": "stream",
     "text": [
      "{'a': 10, 'b': 10}\n"
     ]
    }
   ],
   "source": [
    "# EXAMPLE DICTIONARY COMPREHENSION:\n",
    "\n",
    "key_val_pairs = [['key1',10], ['key2',20]]\n",
    "\n",
    "my_dict = {key:val for key, val in key_val_pairs}\n",
    "print my_dict\n",
    "\n",
    "####################"
   ]
  },
  {
   "cell_type": "code",
   "execution_count": 8,
   "metadata": {
    "collapsed": false
   },
   "outputs": [
    {
     "data": {
      "text/plain": [
       "array([1, 2, 3, 4, 5])"
      ]
     },
     "execution_count": 8,
     "metadata": {},
     "output_type": "execute_result"
    }
   ],
   "source": [
    "import numpy as np\n",
    "a = np.array([1,2,3,4,5])\n",
    "a"
   ]
  },
  {
   "cell_type": "code",
   "execution_count": 10,
   "metadata": {
    "collapsed": false
   },
   "outputs": [
    {
     "data": {
      "text/plain": [
       "array([4, 5])"
      ]
     },
     "execution_count": 10,
     "metadata": {},
     "output_type": "execute_result"
    }
   ],
   "source": [
    "a[a > 3]"
   ]
  },
  {
   "cell_type": "code",
   "execution_count": 48,
   "metadata": {
    "collapsed": true
   },
   "outputs": [],
   "source": [
    "columns = ['five','seven','twelve']\n",
    "values = [5, 7, 12]\n",
    "multiples = [1, 2, 3, 4, 5]"
   ]
  },
  {
   "cell_type": "markdown",
   "metadata": {},
   "source": [
    "#### 6.1 With a for-loop"
   ]
  },
  {
   "cell_type": "code",
   "execution_count": 54,
   "metadata": {
    "collapsed": false
   },
   "outputs": [
    {
     "data": {
      "text/plain": [
       "{'five': [5, 10, 15, 20, 25],\n",
       " 'seven': [7, 14, 21, 28, 35],\n",
       " 'twelve': [12, 24, 36, 48, 60]}"
      ]
     },
     "execution_count": 54,
     "metadata": {},
     "output_type": "execute_result"
    }
   ],
   "source": [
    "cols_dict = dict(zip(columns, values))\n",
    "multiples_dict = {}\n",
    "for key, val in cols_dict.items():\n",
    "    mul_val = []\n",
    "    for mul in multiples:\n",
    "        mul_val.append(mul * val)\n",
    "    multiples_dict[key] = mul_val\n",
    "\n",
    "multiples_dict"
   ]
  },
  {
   "cell_type": "markdown",
   "metadata": {},
   "source": [
    "#### 6.2 With a dictionary comprehension"
   ]
  },
  {
   "cell_type": "code",
   "execution_count": 57,
   "metadata": {
    "collapsed": false
   },
   "outputs": [
    {
     "data": {
      "text/plain": [
       "{'five': [5, 10, 15, 20, 25],\n",
       " 'seven': [7, 14, 21, 28, 35],\n",
       " 'twelve': [12, 24, 36, 48, 60]}"
      ]
     },
     "execution_count": 57,
     "metadata": {},
     "output_type": "execute_result"
    }
   ],
   "source": [
    "{key: [x*y for x in multiples] for key, y in zip(columns, values)}"
   ]
  },
  {
   "cell_type": "markdown",
   "metadata": {},
   "source": [
    "---\n",
    "\n",
    "### 7. [Challenge] manually calculate the median of the first n numbers (from list \"N\") in list \"X\"\n",
    "\n",
    "You will:\n",
    "\n",
    "1. Iterate through the values in list N\n",
    "2. For the current value in N, calculate the median of the values in X up to the length specified by the value in N.\n",
    "3. Return a list (same length as N) with the calculated medians.\n",
    "\n",
    "So, if the current value in `N` was 10, you would take the first 10 elements from X and calculate the median of those elements.\n",
    "\n",
    "**NOTE: the median is calculated differently for even and odd numbered lists!**\n",
    "\n",
    "1. For **odd-length** lists, the median is the value in the middle.\n",
    "> ex: median of `[1,2,3,4,5]` is `3`\n",
    " \n",
    "2. For **even-length** lists, the median is the average of the two middle-most values:\n",
    "> ex: median of `[1,2,3,10,11,12]` is `6.5`, `(3+10)/2.`"
   ]
  },
  {
   "cell_type": "code",
   "execution_count": 63,
   "metadata": {
    "collapsed": false
   },
   "outputs": [
    {
     "name": "stdout",
     "output_type": "stream",
     "text": [
      "3\n",
      "6.5\n"
     ]
    }
   ],
   "source": [
    "N = [12, 5, 6, 8, 10]\n",
    "X = [1, 2, 3, 4, 5, 6, 7, 8, 9, 10, 11, 12, 13, 14, 15]\n",
    "\n",
    "def median(lst):\n",
    "    lst = sorted(lst)\n",
    "    n = len(lst)\n",
    "    if n % 2:\n",
    "        median = lst[n // 2]\n",
    "    else:\n",
    "        median = (lst[n // 2] + lst[n // 2 - 1]) / 2.\n",
    "    return median \n",
    "\n",
    "print median([1, 2, 3, 4, 5])\n",
    "print median([1,2,3,10,11,12])"
   ]
  },
  {
   "cell_type": "markdown",
   "metadata": {},
   "source": [
    "#### 7.1 Using loops"
   ]
  },
  {
   "cell_type": "code",
   "execution_count": 66,
   "metadata": {
    "collapsed": false
   },
   "outputs": [
    {
     "data": {
      "text/plain": [
       "[6.5, 3, 3.5, 4.5, 5.5]"
      ]
     },
     "execution_count": 66,
     "metadata": {},
     "output_type": "execute_result"
    }
   ],
   "source": [
    "medx = []\n",
    "for i in N:\n",
    "    medx.append(median(X[:i]))\n",
    "medx"
   ]
  },
  {
   "cell_type": "markdown",
   "metadata": {},
   "source": [
    "#### 7.2 Using list comprehensions"
   ]
  },
  {
   "cell_type": "code",
   "execution_count": 64,
   "metadata": {
    "collapsed": false
   },
   "outputs": [
    {
     "data": {
      "text/plain": [
       "[6.5, 3, 3.5, 4.5, 5.5]"
      ]
     },
     "execution_count": 64,
     "metadata": {},
     "output_type": "execute_result"
    }
   ],
   "source": [
    "[median(X[:i]) for i in N]"
   ]
  },
  {
   "cell_type": "markdown",
   "metadata": {},
   "source": [
    "---\n",
    "\n",
    "### 8. [Challenge] combine into a flat list: \n",
    "\n",
    "1. Iterate the elements of the first list `a`\n",
    "2. Multiply by them by the elements in the second list `b`\n",
    "3. Then subtract the elements in a third list `c`\n",
    "\n",
    "e.g:\n",
    "\n",
    "```python\n",
    "a = [1,2]\n",
    "b = [0,1]\n",
    "c = [1,2]\n",
    "output = [0,0,0,-1,0,0,1,0]\n",
    "```"
   ]
  },
  {
   "cell_type": "code",
   "execution_count": 9,
   "metadata": {
    "collapsed": true
   },
   "outputs": [],
   "source": [
    "a = [9,7,5]\n",
    "b = [10,5,1]\n",
    "c = [1,2,3]"
   ]
  },
  {
   "cell_type": "markdown",
   "metadata": {},
   "source": [
    "#### 8.1 With loops"
   ]
  },
  {
   "cell_type": "code",
   "execution_count": 68,
   "metadata": {
    "collapsed": false
   },
   "outputs": [
    {
     "data": {
      "text/plain": [
       "[-1, -2, 0, -1, -1, -2, 1, 0]"
      ]
     },
     "execution_count": 68,
     "metadata": {},
     "output_type": "execute_result"
    }
   ],
   "source": [
    "a = [1,2]\n",
    "b = [0,1]\n",
    "c = [1,2]\n",
    "output  = []\n",
    "for i in a:\n",
    "    for j in b:\n",
    "        for k in c: \n",
    "            output.append(i*j - k)"
   ]
  },
  {
   "cell_type": "markdown",
   "metadata": {},
   "source": [
    "#### 8.2 With list comprehensions"
   ]
  },
  {
   "cell_type": "code",
   "execution_count": 69,
   "metadata": {
    "collapsed": false
   },
   "outputs": [
    {
     "data": {
      "text/plain": [
       "[-1, -2, 0, -1, -1, -2, 1, 0]"
      ]
     },
     "execution_count": 69,
     "metadata": {},
     "output_type": "execute_result"
    }
   ],
   "source": [
    "[i*j - k for i in a for j in b for k in c]"
   ]
  }
 ],
 "metadata": {
  "anaconda-cloud": {},
  "kernelspec": {
   "display_name": "Python [Root]",
   "language": "python",
   "name": "Python [Root]"
  },
  "language_info": {
   "codemirror_mode": {
    "name": "ipython",
    "version": 2
   },
   "file_extension": ".py",
   "mimetype": "text/x-python",
   "name": "python",
   "nbconvert_exporter": "python",
   "pygments_lexer": "ipython2",
   "version": "2.7.12"
  }
 },
 "nbformat": 4,
 "nbformat_minor": 0
}
