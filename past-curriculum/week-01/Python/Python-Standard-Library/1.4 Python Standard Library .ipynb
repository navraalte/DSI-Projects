{
 "cells": [
  {
   "cell_type": "markdown",
   "metadata": {},
   "source": [
    "<img src=\"https://ga-dash.s3.amazonaws.com/production/assets/logo-9f88ae6c9c3871690e33280fcf557f33.png\" style=\"float: left; margin: 10px;\"> \n",
    "\n",
    "# Python Standard Library & Third-Party Packages\n",
    "***\n",
    "Week 1 | Lesson 1.4\n",
    "\n",
    "### LEARNING OBJECTIVES\n",
    "*After this lesson, you will be able to:*\n",
    "- Understand and know how to use the standard library\n",
    "- Know what third-party packages are and how to install them\n",
    "\n",
    "### STUDENT PRE-WORK\n",
    "*Before this lesson, you should already be able to:*\n",
    "- Understand basic python synatx\n"
   ]
  },
  {
   "cell_type": "markdown",
   "metadata": {},
   "source": [
    "![](http://saocarlos.pyladies.com/img/berry/Slides/python2.png)"
   ]
  },
  {
   "cell_type": "markdown",
   "metadata": {},
   "source": [
    "## Module \n",
    "\n",
    "**Definition:** smallest unit of code resuability \n",
    "\n",
    "Simply put, a module in python is a .py file that defines one or more function/classes which you intend to reuse in different codes of your program.\n"
   ]
  },
  {
   "cell_type": "code",
   "execution_count": 1,
   "metadata": {
    "collapsed": false
   },
   "outputs": [
    {
     "data": {
      "text/plain": [
       "4.0"
      ]
     },
     "execution_count": 1,
     "metadata": {},
     "output_type": "execute_result"
    }
   ],
   "source": [
    "# Import a module\n",
    "import math\n",
    "# use a module\n",
    "math.sqrt(16)"
   ]
  },
  {
   "cell_type": "code",
   "execution_count": 2,
   "metadata": {
    "collapsed": false
   },
   "outputs": [
    {
     "name": "stdout",
     "output_type": "stream",
     "text": [
      "4.0\n",
      "3.0\n"
     ]
    }
   ],
   "source": [
    "# Import functions from a module into the local namespace\n",
    "from math import ceil, floor\n",
    "print ceil(3.7)\n",
    "print floor(3.7)"
   ]
  },
  {
   "cell_type": "code",
   "execution_count": 1,
   "metadata": {
    "collapsed": true
   },
   "outputs": [],
   "source": [
    "# Bind a module function to a new local symbol\n",
    "from math import degrees as degs"
   ]
  },
  {
   "cell_type": "code",
   "execution_count": 2,
   "metadata": {
    "collapsed": false
   },
   "outputs": [],
   "source": [
    "# Any python file (including your own) can be a module \n",
    "from  my_script import send_greating"
   ]
  },
  {
   "cell_type": "markdown",
   "metadata": {},
   "source": [
    "## Package \n",
    "\n",
    "**Definition:** logical collections of modules\n",
    "\n",
    "A Python package refers to a directory of Python module(s). This feature comes in handy for organizing modules of one type at one place.\n",
    "\n",
    "A package is a unit of distribution that can contain a library or an executable (i.e. a script) or both. It's a way to share your code with the community.\n",
    "\n",
    "\n"
   ]
  },
  {
   "cell_type": "markdown",
   "metadata": {},
   "source": [
    "**Packges give structure to modules**   \n",
    "    \n",
    "    sound/\n",
    "    ├── __init__.py\n",
    "    ├── effects/\n",
    "    │   ├── __init__.py\n",
    "    │   ├── echo.py\n",
    "    │   ├── reverse.py\n",
    "    │   └── surround.py\n",
    "    ├── filters/\n",
    "    │   ├── __init__.py\n",
    "    │   ├── equalizer.py\n",
    "    │   ├── karaoke.py\n",
    "    │   └── vocoder.py\n",
    "    └── formats/\n",
    "     ├── __init__.py\n",
    "     ├── aiffread.py\n",
    "     ├── aiffwrite.py\n",
    "     ├── auread.py\n",
    "     ├── auwrite.py\n",
    "     ├── wavread.py\n",
    "     └── wavwrite.py"
   ]
  },
  {
   "cell_type": "markdown",
   "metadata": {},
   "source": [
    "This is the structure of the python packge called sound. Notice how each ***model** (every .py script) has a unit of functionality, such as the echo script which contains files that modify echos in sound files. Each of those models are then group in local directories. For instance the echo, reverse, and surround models are all grouped in the effects directory of the sound package. "
   ]
  },
  {
   "cell_type": "markdown",
   "metadata": {},
   "source": [
    "#### Don't run this cell"
   ]
  },
  {
   "cell_type": "code",
   "execution_count": null,
   "metadata": {
    "collapsed": true
   },
   "outputs": [],
   "source": [
    "# Don't run cell\n",
    "import sound.effects.echo\n",
    "\n",
    "# module echo as a function called echofilter\n",
    "echo.echofilter(input, output)\n",
    "\n",
    "# 2nd way to import a module \n",
    "from sound.effects import echo \n",
    "\n",
    "echo.echofilter(input, outptu, delay=0.7, atten=4)"
   ]
  },
  {
   "cell_type": "markdown",
   "metadata": {},
   "source": [
    "<style>\n",
    ".text_cell_render {\n",
    "font-family: Times New Roman, serif;\n",
    "}\n",
    "</style>"
   ]
  },
  {
   "cell_type": "markdown",
   "metadata": {},
   "source": [
    "### Package Import Rules"
   ]
  },
  {
   "cell_type": "code",
   "execution_count": null,
   "metadata": {
    "collapsed": false
   },
   "outputs": [],
   "source": [
    "# Don't run this cell!\n",
    "\n",
    "# The item can be a submodule (or subpackage) of package\n",
    "from package import item\n",
    "\n",
    "# All but the last must be packages\n",
    "import item.subitem.subsubitem"
   ]
  },
  {
   "cell_type": "code",
   "execution_count": 5,
   "metadata": {
    "collapsed": false
   },
   "outputs": [],
   "source": [
    "# sklearn is a package, linear_model is a subpackage\n",
    "from sklearn import linear_model\n",
    "\n",
    "# sklearn is a package, covariance is a subpackage, and outlier_detection is a module\n",
    "import sklearn.covariance.outlier_detection"
   ]
  },
  {
   "cell_type": "markdown",
   "metadata": {},
   "source": [
    "## Python Import Best Practices \n",
    "\n",
    "**All imports go at the top of the file after header comment **\n",
    "\n",
    "1. Putting all imports at the top of the file makes it clear to your team members (and youself when you read through the file 6 months later) which packages the file is dependent on to run. \n",
    "2. Scattering import statements through our files will make it difficult for readers to know which packages have been imported into the name space (more on this in a minutes.)\n",
    "\n",
    "![](Screen Shot 2017-01-28 at 6.18.18 PM.png)"
   ]
  },
  {
   "cell_type": "markdown",
   "metadata": {},
   "source": [
    "### Avoid imports statements that use the wild character   * \n",
    "\n",
    "1. These statements import all modules and subpackages from a package. By importing packages and modules this way, we don't see which names are populating the name space.  \n",
    "2. This usually leads to confusing errors that can be difficult to debug! "
   ]
  },
  {
   "cell_type": "code",
   "execution_count": 7,
   "metadata": {
    "collapsed": true
   },
   "outputs": [],
   "source": [
    "# avoid statments like this!\n",
    "from math import *"
   ]
  },
  {
   "cell_type": "code",
   "execution_count": 8,
   "metadata": {
    "collapsed": false
   },
   "outputs": [
    {
     "name": "stdout",
     "output_type": "stream",
     "text": [
      "1.0\n",
      "0.0\n"
     ]
    }
   ],
   "source": [
    "# some math calculations\n",
    "print cos(0)\n",
    "print sin(0)"
   ]
  },
  {
   "cell_type": "code",
   "execution_count": 9,
   "metadata": {
    "collapsed": true
   },
   "outputs": [],
   "source": [
    "def sin(favorite_sin):\n",
    "    '''Function shames you for engaging in your favorite sin.'''\n",
    "    print \"Shame on you for engaging in {}!\".format(favorite_sin)"
   ]
  },
  {
   "cell_type": "code",
   "execution_count": 10,
   "metadata": {
    "collapsed": false
   },
   "outputs": [
    {
     "name": "stdout",
     "output_type": "stream",
     "text": [
      "Shame on you for engaging in drinking wiskey!\n"
     ]
    }
   ],
   "source": [
    "# having fun with strings \n",
    "fav_sin = \"drinking wiskey\"\n",
    "\n",
    "sin(fav_sin)"
   ]
  },
  {
   "cell_type": "code",
   "execution_count": 11,
   "metadata": {
    "collapsed": false
   },
   "outputs": [
    {
     "name": "stdout",
     "output_type": "stream",
     "text": [
      "-0.999998731728\n",
      "Shame on you for engaging in 3.14!\n",
      "None\n"
     ]
    }
   ],
   "source": [
    "# now more calculations\n",
    "print cos(3.14)\n",
    "print sin(3.14)"
   ]
  },
  {
   "cell_type": "markdown",
   "metadata": {},
   "source": [
    "### Library\n",
    "\n",
    "**Definiton**\n",
    "    A set of modules which makes sense to be together and that can be used in a program or another library. \n",
    "    One can't run a library, but they can run the code inside of the library. \n",
    "    \n",
    "The term library is simply a generic term for a bunch of code that was designed with the aim of being usable by many applications. It provides some generic functionality that can be used by specific applications.\n",
    "\n",
    "When a module/package/something else is \"published\" people often refer to it as a library. Often libraries contain a package or multiple related packages, but it could be even a single module.\n",
    "\n",
    "Libraries usually do not provide any specific functionality, i.e. you cannot \"run a library\".\n",
    "\n",
    "A package, which is a unit of distribution, can contain a library or an executable (i.e. a script) or both. It's a way to share your code with the community.\n",
    "\n",
    "**Examples of Libraries**\n",
    "- Numpy\n",
    "- Pandas\n",
    "- Matplotlib\n",
    "- Python's Standard Library"
   ]
  },
  {
   "cell_type": "markdown",
   "metadata": {},
   "source": [
    "## Executing Moduls as Scripts\n",
    "\n",
    "We can run a module as a script. Do so by include the **if __name__ == '__main__':** statement.\n",
    "\n",
    "Every module in python has a special attribute called __name__ . The value of __name__  attribute is set to '__main__'  when module run as main program.\n",
    "\n",
    "```python\n",
    "def send_greating(student_name):\n",
    "    \"\"\"\"This function greats the student to the dsi course.\"\"\"\n",
    "    print \"Hello {} and welcome to DSI 5!\".format(student_name)\n",
    "    \n",
    "        \n",
    "def celebrate_birthday(student_name):\n",
    "    \"\"\"\"This function sends a birthday wish\"\"\"\n",
    "    print \"Happy birthday {}, and have a great year!\".format(student_name)   \n",
    "    \n",
    "    \n",
    "if __name__ == '__main__':  \n",
    "    \n",
    "    student_name = raw_input(\"Enter your name: \")\n",
    "    \n",
    "    send_greating(student_name)\n",
    "```"
   ]
  },
  {
   "cell_type": "markdown",
   "metadata": {},
   "source": [
    "### You Try\n",
    "\n",
    "1. Open up a terminal window\n",
    "2. Navigate to the directory where this jupyter notebook is located. \n",
    "3. Type **python my_script.py** into the terminal. "
   ]
  },
  {
   "cell_type": "markdown",
   "metadata": {},
   "source": [
    "## The Standard Library"
   ]
  },
  {
   "cell_type": "markdown",
   "metadata": {},
   "source": [
    "The term **standard library** is an extensive collection of packages, modules, data types, and functions that are built into the python language. Checkout the full documentation [here](https://docs.python.org/3/library/). Some examples of what the standard library has to offer are provided below\n"
   ]
  },
  {
   "cell_type": "markdown",
   "metadata": {},
   "source": [
    "### Regex \n",
    "\n",
    "Regex stands for **Regular Expressions**, it is very useful package for disecting and parsing the written language. Regex allows you to scan a body of text for speical chacters, words, a group of words, multiple appearances of certain wrods, and more. \n",
    "\n",
    "Check out this [Regex syntax building tool](http://regexr.com/). "
   ]
  },
  {
   "cell_type": "code",
   "execution_count": 50,
   "metadata": {
    "collapsed": true
   },
   "outputs": [],
   "source": [
    "import re"
   ]
  },
  {
   "cell_type": "code",
   "execution_count": 48,
   "metadata": {
    "collapsed": true
   },
   "outputs": [],
   "source": [
    "text = \\\n",
    "'''Edit the Expression & Text to see matches. Roll over matches or the expression for details. \n",
    "Undo mistakes with cmd-z. Save Favorites & Share expressions with friends or the Community. \n",
    "Explore your results with Tools. A full Reference & Help is available in the Library, or watch the video Tutorial.'''"
   ]
  },
  {
   "cell_type": "code",
   "execution_count": 58,
   "metadata": {
    "collapsed": false
   },
   "outputs": [],
   "source": [
    "m = re.findall(r\"([A-Z]\\w+)\", text)"
   ]
  },
  {
   "cell_type": "code",
   "execution_count": 60,
   "metadata": {
    "collapsed": false
   },
   "outputs": [
    {
     "data": {
      "text/plain": [
       "['Edit',\n",
       " 'Expression',\n",
       " 'Text',\n",
       " 'Roll',\n",
       " 'Undo',\n",
       " 'Save',\n",
       " 'Favorites',\n",
       " 'Share',\n",
       " 'Community',\n",
       " 'Explore',\n",
       " 'Tools',\n",
       " 'Reference',\n",
       " 'Help',\n",
       " 'Library',\n",
       " 'Tutorial']"
      ]
     },
     "execution_count": 60,
     "metadata": {},
     "output_type": "execute_result"
    }
   ],
   "source": [
    "m"
   ]
  },
  {
   "cell_type": "markdown",
   "metadata": {},
   "source": [
    "### Collections\n",
    "\n",
    "Collections is a library with some pretty handy data types that are enhancemnts on some standard python data objects"
   ]
  },
  {
   "cell_type": "code",
   "execution_count": 70,
   "metadata": {
    "collapsed": true
   },
   "outputs": [],
   "source": [
    "from collections import defaultdict, namedtuple, Counter"
   ]
  },
  {
   "cell_type": "markdown",
   "metadata": {},
   "source": [
    "#### Defaultdic\n",
    "\n",
    "Defaultdect allows you to initialize a dictionary's value container with a standard data object: list, dict, tuple. Then you can reference that standard data object's method's when you minipulate the Defaultdect's values. "
   ]
  },
  {
   "cell_type": "code",
   "execution_count": 63,
   "metadata": {
    "collapsed": false
   },
   "outputs": [
    {
     "data": {
      "text/plain": [
       "[('blue', [2, 4]), ('red', [1]), ('yellow', [1, 3])]"
      ]
     },
     "execution_count": 63,
     "metadata": {},
     "output_type": "execute_result"
    }
   ],
   "source": [
    "s = [('yellow', 1), ('blue', 2), ('yellow', 3), ('blue', 4), ('red', 1)]\n",
    "d = defaultdict(list)\n",
    "for k, v in s:\n",
    "     d[k].append(v)\n",
    "\n",
    "d.items()"
   ]
  },
  {
   "cell_type": "markdown",
   "metadata": {},
   "source": [
    "#### Counter"
   ]
  },
  {
   "cell_type": "markdown",
   "metadata": {},
   "source": [
    "A Counter is a dict subclass for counting hashable objects. It is an unordered collection where elements are stored as dictionary keys and their counts are stored as dictionary values. Counts are allowed to be any integer value including zero or negative counts. The Counter class is similar to bags or multisets in other languages."
   ]
  },
  {
   "cell_type": "code",
   "execution_count": 66,
   "metadata": {
    "collapsed": false
   },
   "outputs": [
    {
     "data": {
      "text/plain": [
       "Counter({'blue': 3, 'green': 1, 'red': 2})"
      ]
     },
     "execution_count": 66,
     "metadata": {},
     "output_type": "execute_result"
    }
   ],
   "source": [
    "# Tally occurrences of words in a list\n",
    "cnt = Counter()\n",
    "for word in ['red', 'blue', 'red', 'green', 'blue', 'blue']:\n",
    "     cnt[word] += 1\n",
    "        \n",
    "cnt"
   ]
  },
  {
   "cell_type": "code",
   "execution_count": 68,
   "metadata": {
    "collapsed": true
   },
   "outputs": [],
   "source": [
    "Color = namedtuple(\"Color\", [\"hue\", \"saturation\", \"luminosity\"])"
   ]
  },
  {
   "cell_type": "code",
   "execution_count": null,
   "metadata": {
    "collapsed": true
   },
   "outputs": [],
   "source": [
    "Color."
   ]
  },
  {
   "cell_type": "code",
   "execution_count": 67,
   "metadata": {
    "collapsed": false
   },
   "outputs": [
    {
     "name": "stdout",
     "output_type": "stream",
     "text": [
      "Wow, that is light!\n"
     ]
    }
   ],
   "source": [
    "pixel = Color(170, 0.1, 0.6)\n",
    "\n",
    "if pixel.saturation >= 0.5:\n",
    "    print \"Whew, that is bright!\"\n",
    "    \n",
    "if pixel.luminosity >= 0.5:\n",
    "    print \"Wow, that is light!\""
   ]
  },
  {
   "cell_type": "markdown",
   "metadata": {},
   "source": [
    "### Itertools\n",
    "\n",
    "Itertools is a library that provides several different methods of iteration through data. "
   ]
  },
  {
   "cell_type": "code",
   "execution_count": 71,
   "metadata": {
    "collapsed": true
   },
   "outputs": [],
   "source": [
    "import itertools"
   ]
  },
  {
   "cell_type": "code",
   "execution_count": 72,
   "metadata": {
    "collapsed": false
   },
   "outputs": [
    {
     "name": "stdout",
     "output_type": "stream",
     "text": [
      "(0, 1)\n",
      "(0, 2)\n",
      "(1, 2)\n"
     ]
    }
   ],
   "source": [
    "for unique_comb in itertools.combinations(range(3), 2):\n",
    "    print unique_comb"
   ]
  },
  {
   "cell_type": "markdown",
   "metadata": {},
   "source": [
    "### Json\n",
    "\n",
    "**JSON (JavaScript Object Notation)** is a lightweight data interchange format inspired by JavaScript object literal syntax."
   ]
  },
  {
   "cell_type": "code",
   "execution_count": 6,
   "metadata": {
    "collapsed": true
   },
   "outputs": [],
   "source": [
    "import json"
   ]
  },
  {
   "cell_type": "code",
   "execution_count": 83,
   "metadata": {
    "collapsed": true
   },
   "outputs": [],
   "source": [
    "squares = {1:1, 2:4, 3:9, 4:16}\n",
    "\n",
    "# Serialize to/from string\n",
    "output = json.dumps(squares) #=> \"{1:1, 2:4, 3:9, 4:16}\""
   ]
  },
  {
   "cell_type": "code",
   "execution_count": 86,
   "metadata": {
    "collapsed": false
   },
   "outputs": [
    {
     "data": {
      "text/plain": [
       "'{\"1\": 1, \"2\": 4, \"3\": 9, \"4\": 16}'"
      ]
     },
     "execution_count": 86,
     "metadata": {},
     "output_type": "execute_result"
    }
   ],
   "source": [
    "output"
   ]
  },
  {
   "cell_type": "code",
   "execution_count": 87,
   "metadata": {
    "collapsed": false
   },
   "outputs": [
    {
     "data": {
      "text/plain": [
       "str"
      ]
     },
     "execution_count": 87,
     "metadata": {},
     "output_type": "execute_result"
    }
   ],
   "source": [
    "type(output)"
   ]
  },
  {
   "cell_type": "code",
   "execution_count": 84,
   "metadata": {
    "collapsed": false
   },
   "outputs": [
    {
     "data": {
      "text/plain": [
       "'{\"1\": 1, \"2\": 4, \"3\": 9, \"4\": 16}'"
      ]
     },
     "execution_count": 84,
     "metadata": {},
     "output_type": "execute_result"
    }
   ],
   "source": [
    "output"
   ]
  },
  {
   "cell_type": "code",
   "execution_count": 85,
   "metadata": {
    "collapsed": false
   },
   "outputs": [
    {
     "data": {
      "text/plain": [
       "{u'1': 1, u'2': 4, u'3': 9, u'4': 16}"
      ]
     },
     "execution_count": 85,
     "metadata": {},
     "output_type": "execute_result"
    }
   ],
   "source": [
    "json.loads(output)"
   ]
  },
  {
   "cell_type": "markdown",
   "metadata": {},
   "source": [
    "With JSON you can save a data object to file and serialize it. As well as load it from file and deserialize it. "
   ]
  },
  {
   "cell_type": "code",
   "execution_count": 90,
   "metadata": {
    "collapsed": true
   },
   "outputs": [],
   "source": [
    "# Serialize to file\n",
    "with open('tmp.json', 'w') as out_file:\n",
    "    json.dump(squares, out_file)"
   ]
  },
  {
   "cell_type": "code",
   "execution_count": 91,
   "metadata": {
    "collapsed": false
   },
   "outputs": [],
   "source": [
    "# Deserialize from file\n",
    "with open('tmp.json', 'r') as in_file:\n",
    "    \n",
    "    file_loaded = json.load(in_file)  "
   ]
  },
  {
   "cell_type": "code",
   "execution_count": 92,
   "metadata": {
    "collapsed": false
   },
   "outputs": [
    {
     "data": {
      "text/plain": [
       "{u'1': 1, u'2': 4, u'3': 9, u'4': 16}"
      ]
     },
     "execution_count": 92,
     "metadata": {},
     "output_type": "execute_result"
    }
   ],
   "source": [
    "file_loaded"
   ]
  },
  {
   "cell_type": "code",
   "execution_count": 93,
   "metadata": {
    "collapsed": false
   },
   "outputs": [
    {
     "data": {
      "text/plain": [
       "dict"
      ]
     },
     "execution_count": 93,
     "metadata": {},
     "output_type": "execute_result"
    }
   ],
   "source": [
    "type(file_loaded)"
   ]
  },
  {
   "cell_type": "code",
   "execution_count": 82,
   "metadata": {
    "collapsed": false
   },
   "outputs": [
    {
     "data": {
      "text/plain": [
       "'{\\n    \"1\": 1,\\n    \"2\": 4,\\n    \"3\": 9,\\n    \"4\": 16\\n}'"
      ]
     },
     "execution_count": 82,
     "metadata": {},
     "output_type": "execute_result"
    }
   ],
   "source": [
    "  # All variants support useful keyword arguments\n",
    "json.dumps(squares, indent=4, sort_keys=True, separators=(',', ': '))"
   ]
  },
  {
   "cell_type": "markdown",
   "metadata": {},
   "source": [
    "### Random\n",
    "\n",
    "This module implements pseudo-random number generators for various distributions.\n",
    "\n",
    "For integers, uniform selection from a range. For sequences, uniform selection of a random element, a function to generate a random permutation of a list in-place, and a function for random sampling without replacement."
   ]
  },
  {
   "cell_type": "code",
   "execution_count": 12,
   "metadata": {
    "collapsed": true
   },
   "outputs": [],
   "source": [
    "import random"
   ]
  },
  {
   "cell_type": "code",
   "execution_count": 13,
   "metadata": {
    "collapsed": false
   },
   "outputs": [
    {
     "data": {
      "text/plain": [
       "0.3974024022485141"
      ]
     },
     "execution_count": 13,
     "metadata": {},
     "output_type": "execute_result"
    }
   ],
   "source": [
    "random.random() # Random float x, 0.0 <= x < 1.0"
   ]
  },
  {
   "cell_type": "code",
   "execution_count": 14,
   "metadata": {
    "collapsed": false
   },
   "outputs": [
    {
     "data": {
      "text/plain": [
       "1.0836221776771089"
      ]
     },
     "execution_count": 14,
     "metadata": {},
     "output_type": "execute_result"
    }
   ],
   "source": [
    "random.uniform(1, 10) # Random float x, 1.0 <= x < 10.0"
   ]
  },
  {
   "cell_type": "code",
   "execution_count": 15,
   "metadata": {
    "collapsed": false
   },
   "outputs": [
    {
     "data": {
      "text/plain": [
       "0"
      ]
     },
     "execution_count": 15,
     "metadata": {},
     "output_type": "execute_result"
    }
   ],
   "source": [
    "random.randint(0, 9) # Integer from 0 to 9"
   ]
  },
  {
   "cell_type": "code",
   "execution_count": 16,
   "metadata": {
    "collapsed": false
   },
   "outputs": [
    {
     "data": {
      "text/plain": [
       "7"
      ]
     },
     "execution_count": 16,
     "metadata": {},
     "output_type": "execute_result"
    }
   ],
   "source": [
    "random.randrange(10) # Integer from 0 to 9"
   ]
  },
  {
   "cell_type": "code",
   "execution_count": 18,
   "metadata": {
    "collapsed": false
   },
   "outputs": [
    {
     "data": {
      "text/plain": [
       "50"
      ]
     },
     "execution_count": 18,
     "metadata": {},
     "output_type": "execute_result"
    }
   ],
   "source": [
    "random.randrange(0,101,2) # Even integer from 0 to 100"
   ]
  },
  {
   "cell_type": "code",
   "execution_count": 22,
   "metadata": {
    "collapsed": false
   },
   "outputs": [
    {
     "data": {
      "text/plain": [
       "[2, 4, 0]"
      ]
     },
     "execution_count": 22,
     "metadata": {},
     "output_type": "execute_result"
    }
   ],
   "source": [
    "random.sample(range(5), k=3)# k samples without replacement"
   ]
  },
  {
   "cell_type": "code",
   "execution_count": 23,
   "metadata": {
    "collapsed": false
   },
   "outputs": [
    {
     "data": {
      "text/plain": [
       "'b'"
      ]
     },
     "execution_count": 23,
     "metadata": {},
     "output_type": "execute_result"
    }
   ],
   "source": [
    "random.choice('abcdefghij') # Choose a single element"
   ]
  },
  {
   "cell_type": "markdown",
   "metadata": {},
   "source": [
    "### Useful debugging Tools"
   ]
  },
  {
   "cell_type": "markdown",
   "metadata": {},
   "source": [
    "### Pretty Print"
   ]
  },
  {
   "cell_type": "code",
   "execution_count": 27,
   "metadata": {
    "collapsed": true
   },
   "outputs": [],
   "source": [
    "from pprint import pprint"
   ]
  },
  {
   "cell_type": "code",
   "execution_count": 25,
   "metadata": {
    "collapsed": true
   },
   "outputs": [],
   "source": [
    "# Some horrendous data structure\n",
    "ugly = {\n",
    "'data': {\n",
    "'after': 't3_3q8aog',\n",
    "'before': None,\n",
    "'kind': 'pagination',\n",
    "'children': [{}, {}, {}, {}],\n",
    "'uuid': '40b6f818'} }\n",
    "\n",
    "ugly['recursive'] = ugly"
   ]
  },
  {
   "cell_type": "code",
   "execution_count": 26,
   "metadata": {
    "collapsed": false
   },
   "outputs": [
    {
     "name": "stdout",
     "output_type": "stream",
     "text": [
      "{'data': {'uuid': '40b6f818', 'kind': 'pagination', 'after': 't3_3q8aog', 'children': [{}, {}, {}, {}], 'before': None}, 'recursive': {...}}\n"
     ]
    }
   ],
   "source": [
    "print ugly"
   ]
  },
  {
   "cell_type": "code",
   "execution_count": 28,
   "metadata": {
    "collapsed": false
   },
   "outputs": [
    {
     "name": "stdout",
     "output_type": "stream",
     "text": [
      "{'data': {'after': 't3_3q8aog',\n",
      "          'before': None,\n",
      "          'children': [{}, {}, {}, {}],\n",
      "          'kind': 'pagination',\n",
      "          'uuid': '40b6f818'},\n",
      " 'recursive': <Recursion on dict with id=4366001608>}\n"
     ]
    }
   ],
   "source": [
    "pprint (ugly)"
   ]
  },
  {
   "cell_type": "markdown",
   "metadata": {},
   "source": [
    "### Time Short Snippets"
   ]
  },
  {
   "cell_type": "code",
   "execution_count": 29,
   "metadata": {
    "collapsed": true
   },
   "outputs": [],
   "source": [
    "import timeit"
   ]
  },
  {
   "cell_type": "code",
   "execution_count": 30,
   "metadata": {
    "collapsed": false
   },
   "outputs": [
    {
     "data": {
      "text/plain": [
       "0.39702486991882324"
      ]
     },
     "execution_count": 30,
     "metadata": {},
     "output_type": "execute_result"
    }
   ],
   "source": [
    "# Python Interface \n",
    "timeit.timeit('\"-\".join(str(n) for n in range(100))', number=10000)"
   ]
  },
  {
   "cell_type": "code",
   "execution_count": 31,
   "metadata": {
    "collapsed": false
   },
   "outputs": [
    {
     "data": {
      "text/plain": [
       "0.3775339126586914"
      ]
     },
     "execution_count": 31,
     "metadata": {},
     "output_type": "execute_result"
    }
   ],
   "source": [
    "timeit.timeit('\"-\".join([str(n) for n in range(100)])', number=10000)"
   ]
  },
  {
   "cell_type": "code",
   "execution_count": 32,
   "metadata": {
    "collapsed": false
   },
   "outputs": [
    {
     "data": {
      "text/plain": [
       "0.15209102630615234"
      ]
     },
     "execution_count": 32,
     "metadata": {},
     "output_type": "execute_result"
    }
   ],
   "source": [
    "timeit.timeit('\"-\".join(map(str, range(100)))', number=10000)"
   ]
  },
  {
   "cell_type": "code",
   "execution_count": 33,
   "metadata": {
    "collapsed": false
   },
   "outputs": [
    {
     "name": "stdout",
     "output_type": "stream",
     "text": [
      "10000 loops, best of 3: 33.7 usec per loop\r\n"
     ]
    }
   ],
   "source": [
    "# Command Line Interface\n",
    "!python -m timeit '\"-\".join(str(n) for n in range(100))'"
   ]
  },
  {
   "cell_type": "markdown",
   "metadata": {},
   "source": [
    "### Future Statements\n",
    "\n",
    "Future is a module that allows you import functions that are implemented ahead of your current python 2.x version. \n",
    "\n",
    "For instance, in python 3 dividing two ints will results in a float and not in their remainder. "
   ]
  },
  {
   "cell_type": "code",
   "execution_count": 103,
   "metadata": {
    "collapsed": false
   },
   "outputs": [
    {
     "data": {
      "text/plain": [
       "2.5"
      ]
     },
     "execution_count": 103,
     "metadata": {},
     "output_type": "execute_result"
    }
   ],
   "source": [
    "5/2"
   ]
  },
  {
   "cell_type": "code",
   "execution_count": 96,
   "metadata": {
    "collapsed": true
   },
   "outputs": [],
   "source": [
    "from __future__ import division"
   ]
  },
  {
   "cell_type": "code",
   "execution_count": 97,
   "metadata": {
    "collapsed": false
   },
   "outputs": [
    {
     "data": {
      "text/plain": [
       "2.5"
      ]
     },
     "execution_count": 97,
     "metadata": {},
     "output_type": "execute_result"
    }
   ],
   "source": [
    "5/2"
   ]
  },
  {
   "cell_type": "markdown",
   "metadata": {},
   "source": [
    "### Math\n",
    "\n",
    "Math has a small collection of usuful mathematical operations. "
   ]
  },
  {
   "cell_type": "code",
   "execution_count": 104,
   "metadata": {
    "collapsed": true
   },
   "outputs": [],
   "source": [
    "import math"
   ]
  },
  {
   "cell_type": "code",
   "execution_count": 105,
   "metadata": {
    "collapsed": false
   },
   "outputs": [
    {
     "data": {
      "text/plain": [
       "3.0"
      ]
     },
     "execution_count": 105,
     "metadata": {},
     "output_type": "execute_result"
    }
   ],
   "source": [
    "math.sqrt(9)"
   ]
  },
  {
   "cell_type": "code",
   "execution_count": 106,
   "metadata": {
    "collapsed": false
   },
   "outputs": [
    {
     "data": {
      "text/plain": [
       "6"
      ]
     },
     "execution_count": 106,
     "metadata": {},
     "output_type": "execute_result"
    }
   ],
   "source": [
    "math.factorial(3)"
   ]
  },
  {
   "cell_type": "code",
   "execution_count": 107,
   "metadata": {
    "collapsed": false
   },
   "outputs": [
    {
     "data": {
      "text/plain": [
       "32.0"
      ]
     },
     "execution_count": 107,
     "metadata": {},
     "output_type": "execute_result"
    }
   ],
   "source": [
    "math.pow(2,5)"
   ]
  },
  {
   "cell_type": "markdown",
   "metadata": {},
   "source": [
    "### Built-in Functions\n",
    "\n",
    "Checkout the [docs](https://docs.python.org/2/library/functions.html) for a complete list of python's built-in functions. "
   ]
  },
  {
   "cell_type": "code",
   "execution_count": 41,
   "metadata": {
    "collapsed": false
   },
   "outputs": [
    {
     "data": {
      "text/plain": [
       "True"
      ]
     },
     "execution_count": 41,
     "metadata": {},
     "output_type": "execute_result"
    }
   ],
   "source": [
    "any([True, True, False]) # => True"
   ]
  },
  {
   "cell_type": "code",
   "execution_count": 42,
   "metadata": {
    "collapsed": false
   },
   "outputs": [
    {
     "data": {
      "text/plain": [
       "False"
      ]
     },
     "execution_count": 42,
     "metadata": {},
     "output_type": "execute_result"
    }
   ],
   "source": [
    "all([True, True, False]) # => False"
   ]
  },
  {
   "cell_type": "code",
   "execution_count": 47,
   "metadata": {
    "collapsed": false
   },
   "outputs": [
    {
     "data": {
      "text/plain": [
       "[0, 1, 2, 3, 4]"
      ]
     },
     "execution_count": 47,
     "metadata": {},
     "output_type": "execute_result"
    }
   ],
   "source": [
    "range(5)"
   ]
  },
  {
   "cell_type": "code",
   "execution_count": 43,
   "metadata": {
    "collapsed": false
   },
   "outputs": [
    {
     "data": {
      "text/plain": [
       "45"
      ]
     },
     "execution_count": 43,
     "metadata": {},
     "output_type": "execute_result"
    }
   ],
   "source": [
    "int('45')"
   ]
  },
  {
   "cell_type": "code",
   "execution_count": 44,
   "metadata": {
    "collapsed": false
   },
   "outputs": [
    {
     "data": {
      "text/plain": [
       "123.5"
      ]
     },
     "execution_count": 44,
     "metadata": {},
     "output_type": "execute_result"
    }
   ],
   "source": [
    "round(123.45, 1)"
   ]
  },
  {
   "cell_type": "code",
   "execution_count": 45,
   "metadata": {
    "collapsed": false
   },
   "outputs": [
    {
     "data": {
      "text/plain": [
       "15"
      ]
     },
     "execution_count": 45,
     "metadata": {},
     "output_type": "execute_result"
    }
   ],
   "source": [
    "sum([1,2,3,4,5])"
   ]
  },
  {
   "cell_type": "markdown",
   "metadata": {},
   "source": [
    "# Third-Party Packages\n",
    "\n",
    "Thired-Party Packages are packages that didn't built in python (i.e. the standard library) or you didn't build. In python, thired-party packages tend to be open source: developed by the community for the community free of charge. "
   ]
  },
  {
   "cell_type": "markdown",
   "metadata": {},
   "source": [
    "### Package Management\n",
    "\n",
    "In order to download and install third-party packages, you'll need to use a package installer. \n",
    "\n",
    "**conda** - Try this first (but less supported by the community), if that doesn't work\n",
    "\n",
    "**brew** - Try this second, if that doesn't work\n",
    "\n",
    "**pip** - This will usually work (pip is the preferred Python package manager by the open source community)\n",
    "\n",
    "**python setup.py install** - build package from source\n",
    "\n",
    "### Python Package Index (PyPI)\n",
    "\n",
    "The [python package index](https://pypi.python.org/pypi) is a site that list about **97950*** that are availabel for download.  "
   ]
  },
  {
   "cell_type": "code",
   "execution_count": null,
   "metadata": {
    "collapsed": true
   },
   "outputs": [],
   "source": [
    "# Install/Uninstall a package\n",
    "$ pip install package_name\n",
    "$ pip uninstall package_name"
   ]
  },
  {
   "cell_type": "code",
   "execution_count": null,
   "metadata": {
    "collapsed": true
   },
   "outputs": [],
   "source": [
    "# Upgrade an existing package to the newest version\n",
    "$ pip install --upgrade package_name"
   ]
  },
  {
   "cell_type": "code",
   "execution_count": null,
   "metadata": {
    "collapsed": true
   },
   "outputs": [],
   "source": [
    "# Install to Python user-specific install directory\n",
    "$ pip install --user package_name\n",
    "\n",
    "# Require specific versions to be installed\n",
    "$ pip install \"package_name==4.1.0\"\n",
    "$ pip install \"package_name >= 1.0, != 1.4.0, < 2.0\"\n",
    "\n",
    "# Show information about a particular package\n",
    "$ pip show package_name\n",
    "\n",
    "# Search PyPI for matching\n",
    "$ pip search query"
   ]
  },
  {
   "cell_type": "markdown",
   "metadata": {},
   "source": [
    "### Popular Third-Party Packages"
   ]
  },
  {
   "cell_type": "markdown",
   "metadata": {},
   "source": [
    "![](http://static.wixstatic.com/media/7b913d_7d27b1ff5fe54cc79c80d2cc0e319d92~mv2.jpg_256)\n",
    "\n",
    "[Numpy's](http://www.numpy.org/) array object make transforming and minipulating matricies and vectors easy. \n"
   ]
  },
  {
   "cell_type": "markdown",
   "metadata": {},
   "source": [
    "![](http://www.cbvl.co.uk/static/upload/consulting/python/scipy.png)\n",
    "\n",
    "[Scipy](https://www.scipy.org/) has many useful tools that are commonly used for mathematics, science, and engineering."
   ]
  },
  {
   "cell_type": "markdown",
   "metadata": {},
   "source": [
    "![](http://www.scipy-lectures.org/_images/scikit-learn-logo.png)\n",
    "\n",
    "[Sklearn](http://scikit-learn.org/stable/) has an extensive library of machine learning models and feature engineering tools. "
   ]
  },
  {
   "cell_type": "markdown",
   "metadata": {},
   "source": [
    "![](http://spark.apache.org/images/spark-logo-trademark.png)\n",
    "\n",
    "[Apache Spark](http://spark.apache.org/) is a fast and general engine for large-scale data processing."
   ]
  }
 ],
 "metadata": {
  "anaconda-cloud": {},
  "kernelspec": {
   "display_name": "Python [conda env:python2]",
   "language": "python",
   "name": "conda-env-python2-py"
  },
  "language_info": {
   "codemirror_mode": {
    "name": "ipython",
    "version": 2
   },
   "file_extension": ".py",
   "mimetype": "text/x-python",
   "name": "python",
   "nbconvert_exporter": "python",
   "pygments_lexer": "ipython2",
   "version": "2.7.12"
  }
 },
 "nbformat": 4,
 "nbformat_minor": 1
}
