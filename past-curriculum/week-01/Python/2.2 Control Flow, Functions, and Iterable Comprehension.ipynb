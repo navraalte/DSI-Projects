{
 "cells": [
  {
   "cell_type": "markdown",
   "metadata": {},
   "source": [
    "<img src=\"https://camo.githubusercontent.com/6ce15b81c1f06d716d753a61f5db22375fa684da/68747470733a2f2f67612d646173682e73332e616d617a6f6e6177732e636f6d2f70726f64756374696f6e2f6173736574732f6c6f676f2d39663838616536633963333837313639306533333238306663663535376633332e706e67\"; align=\"left\"; height=\"40\"; width=\"30\"> \n",
    "### Control Flow, Functions, and Iterable Comprehension\n",
    "\n"
   ]
  },
  {
   "cell_type": "code",
   "execution_count": 6,
   "metadata": {
    "collapsed": false
   },
   "outputs": [
    {
     "data": {
      "text/html": [
       "<script>\n",
       "code_show=true; \n",
       "function code_toggle() {\n",
       " if (code_show){\n",
       " $('div.input').hide();\n",
       " } else {\n",
       " $('div.input').show();\n",
       " }\n",
       " code_show = !code_show\n",
       "} \n",
       "$( document ).ready(code_toggle);\n",
       "</script>\n",
       "<a href=\"javascript:code_toggle()\"></a>"
      ],
      "text/plain": [
       "<IPython.core.display.HTML object>"
      ]
     },
     "execution_count": 6,
     "metadata": {},
     "output_type": "execute_result"
    }
   ],
   "source": [
    "import sys\n",
    "sys.path.insert(0, '../../../utils/')\n",
    "from random_calling import caller\n",
    "\n",
    "from IPython.display import HTML\n",
    "HTML('''<script>\n",
    "code_show=true; \n",
    "function code_toggle() {\n",
    " if (code_show){\n",
    " $('div.input').hide();\n",
    " } else {\n",
    " $('div.input').show();\n",
    " }\n",
    " code_show = !code_show\n",
    "} \n",
    "$( document ).ready(code_toggle);\n",
    "</script>\n",
    "<a href=\"javascript:code_toggle()\"></a>''')"
   ]
  },
  {
   "cell_type": "markdown",
   "metadata": {},
   "source": [
    "### SESSION OBJECTIVES\n",
    "*After this session, you will be able to:*\n",
    "- Explain if/else and if/elif/else\n",
    "- Explain for loop\n",
    "- Demonstrate how to define functions"
   ]
  },
  {
   "cell_type": "markdown",
   "metadata": {},
   "source": [
    "## Introduction: Topic (10 mins)\n",
    "\n",
    "It is very important to control program execution because in real situations are full of conditions and if you want your program to mimic the real world you need to transform those real world situations into your program . For this, you need to control the execution of your program statements. Controlling the program execution sequence is commonly known as control flow.\n",
    "\n",
    "[control flow](http://www.codeproject.com/Articles/663666/Python-Basics-Understanding-The-Flow-Control-State)\n",
    "\n",
    "\n",
    "<a name=\"if, if/else\"></a>\n",
    "## Demo / Codealong / Guided Practice: if, if/else \n",
    "The general Python syntax for a simple if statement is:\n",
    "```bash\n",
    "        if condition :\n",
    "            indentedStatementBlock\n",
    "\n",
    "```\n",
    "\n",
    "If the condition is true, then do the indented statements. If the condition\n",
    "is not true, then skip the indented statements."
   ]
  },
  {
   "cell_type": "code",
   "execution_count": 3,
   "metadata": {
    "collapsed": false
   },
   "outputs": [
    {
     "name": "stdout",
     "output_type": "stream",
     "text": [
      "How many pounds does your suitcase weigh? 13\n",
      "Thank you for your business.\n"
     ]
    }
   ],
   "source": [
    "weight = float(input(\"How many pounds does your suitcase weigh? \"))\n",
    "\n",
    "\n",
    "if weight > 50:\n",
    "        print(\"There is a $25 charge for luggage that heavy.\")\n",
    "else:\n",
    "    print(\"Thank you for your business.\")"
   ]
  },
  {
   "cell_type": "code",
   "execution_count": null,
   "metadata": {
    "collapsed": true
   },
   "outputs": [],
   "source": [
    "temperature = float(input('What is the temperature? '))"
   ]
  },
  {
   "cell_type": "code",
   "execution_count": null,
   "metadata": {
    "collapsed": false
   },
   "outputs": [],
   "source": [
    "if temperature > 70:\n",
    "    print('Wear shorts.')\n",
    "\n",
    "else:\n",
    "    print('Wear long pants.')\n",
    "    \n",
    "print('Get some exercise outside.')"
   ]
  },
  {
   "cell_type": "markdown",
   "metadata": {},
   "source": [
    "The middle four lines are an if-else statement. There are two indented blocks: One, like in the simple if statement, comes right after the if heading and is executed when the condition in the if heading is true. In the if-else form this is followed by an else: line, followed by another indented block that is only executed when the original condition is false. In an if-else statement exactly one of two possible indented blocks is executed.\n",
    "\n",
    "\n",
    "[control flow statements](http://anh.cs.luc.edu/python/hands-on/3.1/handsonHtml/ifstatements.html)\n",
    "\n",
    "** Check for Understanding **: What is the general syntax for an if statement? an if/else?"
   ]
  },
  {
   "cell_type": "markdown",
   "metadata": {},
   "source": [
    "The syntax for an if-elif-else statement is indicated in general below:\n",
    "\n",
    "        if condition1 :\n",
    "            indentedStatementBlockForTrueCondition1\n",
    "        elif condition2 :\n",
    "            indentedStatementBlockForFirstTrueCondition2\n",
    "        elif condition3 :\n",
    "            indentedStatementBlockForFirstTrueCondition3\n",
    "        elif condition4 :\n",
    "            indentedStatementBlockForFirstTrueCondition4\n",
    "        else:\n",
    "            indentedStatementBlockForEachConditionFalse"
   ]
  },
  {
   "cell_type": "code",
   "execution_count": 4,
   "metadata": {
    "collapsed": false
   },
   "outputs": [
    {
     "name": "stdout",
     "output_type": "stream",
     "text": [
      "Please enter an integer: 49\n"
     ]
    }
   ],
   "source": [
    "x = int(raw_input(\"Please enter an integer: \"))"
   ]
  },
  {
   "cell_type": "code",
   "execution_count": 5,
   "metadata": {
    "collapsed": false
   },
   "outputs": [
    {
     "name": "stdout",
     "output_type": "stream",
     "text": [
      "More\n"
     ]
    }
   ],
   "source": [
    "if x < 0:\n",
    "    x = 0\n",
    "    print 'Negative changed to zero'\n",
    "elif x == 0:\n",
    "    print 'Zero'\n",
    "elif x == 1:\n",
    "    print 'Single'\n",
    "else:\n",
    "    print 'More'"
   ]
  },
  {
   "cell_type": "code",
   "execution_count": 13,
   "metadata": {
    "collapsed": false
   },
   "outputs": [
    {
     "name": "stdout",
     "output_type": "stream",
     "text": [
      "give me a string: abc\n",
      "a\n",
      "b\n"
     ]
    }
   ],
   "source": [
    "x = raw_input(\"give me a string: \")\n",
    "if 'a' in x:\n",
    "    print 'a'\n",
    "\n",
    "if 'b' in x:\n",
    "    print 'b'"
   ]
  },
  {
   "cell_type": "markdown",
   "metadata": {},
   "source": [
    "**Check for Understanding** : How many indented blocks in an if/elif/else are executed?"
   ]
  },
  {
   "cell_type": "markdown",
   "metadata": {},
   "source": [
    "<a name=\"loops\"></a>\n",
    "## Demo / Codealong / Guided Practice: loops (15 mins)\n",
    "\n",
    "Python’s for statement iterates over the items of any sequence (a list or a string), in the order that they appear in the sequence.\n",
    "\n",
    "The syntax for loop is indicated in general below:\n",
    "\n",
    "    for iterator_name in iterating_sequence:\n",
    "        …statements…\n"
   ]
  },
  {
   "cell_type": "code",
   "execution_count": 15,
   "metadata": {
    "collapsed": false
   },
   "outputs": [
    {
     "name": "stdout",
     "output_type": "stream",
     "text": [
      "cat 3\n",
      "window 3\n",
      "defenestrate 3\n"
     ]
    }
   ],
   "source": [
    "words = ['cat', 'window', 'defenestrate']\n",
    "for w in words:\n",
    "    print w, len(words)"
   ]
  },
  {
   "cell_type": "markdown",
   "metadata": {},
   "source": [
    "** Check for Understanding ** : what's happening here? Explain how the code returns what it does.\n"
   ]
  },
  {
   "cell_type": "markdown",
   "metadata": {},
   "source": [
    "<a name=\"functions\"></a>\n",
    "## Demo / Codealong / Guided Practice: functions (15 mins)\n",
    "\n",
    "- You can define functions to provide the required functionality. Here are simple rules to define a function in Python.\n",
    "    - Function blocks begin with the keyword def followed by the function name and parentheses ( ( ) ).\n",
    "    - Any input parameters or arguments should be placed within these parentheses. You can also define parameters inside            these parentheses.\n",
    "    - The first statement of a function can be an optional statement - the documentation string of the function or                  docstring.\n",
    "    - The code block within every function starts with a colon (:) and is indented.\n",
    "    - The statement return [expression] exits a function, optionally passing back an expression to the caller. A return             statement with no arguments is the same as return None."
   ]
  },
  {
   "cell_type": "markdown",
   "metadata": {},
   "source": [
    "The syntax for a function is indicated in general below:\n",
    "```bash\n",
    "def functionname( parameters ):\n",
    "   \"function_docstring\"\n",
    "   function_suite\n",
    "   return [expression]\n",
    "```"
   ]
  },
  {
   "cell_type": "code",
   "execution_count": 21,
   "metadata": {
    "collapsed": false
   },
   "outputs": [
    {
     "data": {
      "text/plain": [
       "3"
      ]
     },
     "execution_count": 21,
     "metadata": {},
     "output_type": "execute_result"
    }
   ],
   "source": [
    "def sample_fn():\n",
    "    pass \n",
    "\n",
    "sample_fn()\n",
    "\n",
    "def sample_fn(arg1):\n",
    "    return arg1\n",
    "    \n",
    "sample_fn(3)"
   ]
  },
  {
   "cell_type": "markdown",
   "metadata": {},
   "source": [
    "- Varying Positional Arguments: `*args` captures excess positional args. These are bundled into args tuple \n",
    "\n",
    "- Varying Keyword Arguments: A parameter of the form `**kwargs` captures all excess keyword. Allow arbitrary named parameters, usually for configuration"
   ]
  },
  {
   "cell_type": "code",
   "execution_count": 31,
   "metadata": {
    "collapsed": true
   },
   "outputs": [],
   "source": [
    "def product(*nums):\n",
    "    init = 1\n",
    "    print nums \n",
    "    for n in nums:\n",
    "        init *= n\n",
    "    return init"
   ]
  },
  {
   "cell_type": "code",
   "execution_count": 32,
   "metadata": {
    "collapsed": false
   },
   "outputs": [
    {
     "name": "stdout",
     "output_type": "stream",
     "text": [
      "(1,)\n",
      "1\n",
      "(1, 2, 3, 4)\n",
      "24\n",
      "(4, 6, 101323)\n",
      "2431752\n"
     ]
    }
   ],
   "source": [
    "print product(1)\n",
    "print product(1, 2, 3, 4)\n",
    "print product(4, 6, 101323)"
   ]
  },
  {
   "cell_type": "code",
   "execution_count": 44,
   "metadata": {
    "collapsed": false
   },
   "outputs": [],
   "source": [
    "def authorize(quote, **speaker_info):\n",
    "    print \">\" + quote\n",
    "    print(\"-\" * (len(quote) + 2))\n",
    "    print speaker_info\n",
    "    for k, v in speaker_info.items():\n",
    "        print k + ':' + v\n",
    "        \n",
    "        \n",
    "def mysterious_out(a, b):\n",
    "    return a, b\n",
    "\n",
    "a, b = mysterious_out(1, 2)"
   ]
  },
  {
   "cell_type": "code",
   "execution_count": 45,
   "metadata": {
    "collapsed": false
   },
   "outputs": [
    {
     "name": "stdout",
     "output_type": "stream",
     "text": [
      "> to be or not to be\n",
      "---------------------\n",
      "{'play_author': 'shakespere', 'num_pages': '30', 'play_name': 'hamlet'}\n",
      "play_author:shakespere\n",
      "num_pages:30\n",
      "play_name:hamlet\n"
     ]
    }
   ],
   "source": [
    "authorize(\" to be or not to be\", play_name=\"hamlet\", play_author= \"shakespere\", num_pages = '30')"
   ]
  },
  {
   "cell_type": "code",
   "execution_count": 46,
   "metadata": {
    "collapsed": true
   },
   "outputs": [],
   "source": [
    "## Docstrings\n",
    "\n",
    "def my_function():\n",
    "    \n",
    "    \"\"\"\n",
    "    \n",
    "    Summary line: do nothing, but document it.\n",
    "    Description: No, really, it doesn't do anything.\n",
    "    \n",
    "    \"\"\"\n",
    "    \n",
    "    pass "
   ]
  },
  {
   "cell_type": "code",
   "execution_count": 47,
   "metadata": {
    "collapsed": false
   },
   "outputs": [
    {
     "name": "stdout",
     "output_type": "stream",
     "text": [
      "\n",
      "    \n",
      "    Summary line: do nothing, but document it.\n",
      "    Description: No, really, it doesn't do anything.\n",
      "    \n",
      "    \n"
     ]
    }
   ],
   "source": [
    "print my_function.__doc__"
   ]
  },
  {
   "cell_type": "markdown",
   "metadata": {},
   "source": [
    "[defining a function](http://www.tutorialspoint.com/python/python_functions.htm)\n",
    "\n",
    "**Check** What’s the general syntax for a function? Why do you think functions might be useful?\n",
    "\n",
    "<a name=\"ind-practice\"></a>\n",
    "## Independent Practice\n",
    "- What is the general syntax/format of:  \n",
    "        -  if/else?\n",
    "        -  if/elif/else?\n",
    "        -  loop?\n",
    "        - function?\n",
    "- Define and explain each to a partner\n",
    "\n",
    "<a name=\"conclusion\"></a>\n",
    "## Conclusion \n",
    "Today we learned about if/else, if/elif/else, loops, and functions. Practice coding each until you\n",
    "feel comfortable. If you understand basic control flow concepts, you're on your way to writing\n",
    "fantastic executable programs!"
   ]
  },
  {
   "cell_type": "markdown",
   "metadata": {},
   "source": [
    "### SESSION OBJECTIVES\n",
    "*After this session, you will be able to:*\n",
    "- Iterate Using Loops \n",
    "- Iterate using `while` loops \n",
    "- Understand list comprehensions in python and what they are useful for"
   ]
  },
  {
   "cell_type": "markdown",
   "metadata": {},
   "source": [
    "<a name=\"for and while loops\"></a>\n",
    "## Introduction: for and while loops (10 mins)\n",
    "The for statement is used to iterate over the elements of a sequence. It's \n",
    "used when you have a piece of code which you want to repeat n number of times. \n",
    "You can use any object (such as strings, arrays, lists, tuples, dict and so on) \n",
    "in a for loop in Python.\n",
    "\n",
    "The while loop tells the computer to do something as long as a condition is met. \n",
    "A while loop consists of a block of code and a condition. The condition \n",
    "is evaluated, and if the condition is true, the code within the\n",
    "block is executed. This repeats until the condition becomes false. \n",
    "\n",
    "[for and while loops](http://www.pythonforbeginners.com/control-flow-2/python-for-and-while-loops)\n",
    "\n",
    "[for and while loops](http://www.cyberciti.biz/faq/python-for-loop-examples-statements/)\n"
   ]
  },
  {
   "cell_type": "code",
   "execution_count": 14,
   "metadata": {
    "collapsed": false
   },
   "outputs": [
    {
     "name": "stdout",
     "output_type": "stream",
     "text": [
      "1\n",
      "Yes\n",
      "2\n",
      "YesYes\n",
      "3\n",
      "YesYesYes\n"
     ]
    }
   ],
   "source": [
    "for count in [1, 2, 3]: \n",
    "    print count \n",
    "    print 'Yes' * count"
   ]
  },
  {
   "cell_type": "markdown",
   "metadata": {},
   "source": [
    "This is a for loop. It has the heading starting with for, followed by a \n",
    "variable name (count in this case), the word in, some sequence, and a final colon. \n",
    "As with function definitions and other heading lines, the colon at the end of \n",
    "the line indicates that a consistently indented block of statements follows \n",
    "to complete the for loop.\n",
    "\n",
    "Let's try a simple repeat for loop. When you just want to repeat the exact same \n",
    "thing a specific number of times. In that case only the length of the sequence, \n",
    "not the individual elements are important.\n"
   ]
  },
  {
   "cell_type": "code",
   "execution_count": 53,
   "metadata": {
    "collapsed": false
   },
   "outputs": [
    {
     "data": {
      "text/plain": [
       "[0, 1, 2]"
      ]
     },
     "execution_count": 53,
     "metadata": {},
     "output_type": "execute_result"
    }
   ],
   "source": [
    "range(3)"
   ]
  },
  {
   "cell_type": "code",
   "execution_count": 52,
   "metadata": {
    "collapsed": false
   },
   "outputs": [
    {
     "name": "stdout",
     "output_type": "stream",
     "text": [
      "0 SF\n",
      "1 Chicago\n",
      "2 NYC\n"
     ]
    }
   ],
   "source": [
    "cities = ['SF', 'Chicago', 'NYC']\n",
    "for i in range(len(cities)):\n",
    "    print i, cities[i]"
   ]
  },
  {
   "cell_type": "code",
   "execution_count": 58,
   "metadata": {
    "collapsed": false
   },
   "outputs": [
    {
     "name": "stdout",
     "output_type": "stream",
     "text": [
      "0 SF\n",
      "1 Chicago\n"
     ]
    }
   ],
   "source": [
    "for idx, item in enumerate(cities):\n",
    "    print idx, item\n",
    "    if idx == 1:\n",
    "        break"
   ]
  },
  {
   "cell_type": "code",
   "execution_count": 56,
   "metadata": {
    "collapsed": false
   },
   "outputs": [
    {
     "data": {
      "text/plain": [
       "[(0, 'SF'), (1, 'Chicago'), (2, 'NYC')]"
      ]
     },
     "execution_count": 56,
     "metadata": {},
     "output_type": "execute_result"
    }
   ],
   "source": [
    "list(enumerate(cities))"
   ]
  },
  {
   "cell_type": "markdown",
   "metadata": {},
   "source": [
    "Let's create a simple counter using a while loop. "
   ]
  },
  {
   "cell_type": "code",
   "execution_count": 61,
   "metadata": {
    "collapsed": false
   },
   "outputs": [
    {
     "name": "stdout",
     "output_type": "stream",
     "text": [
      "0\n"
     ]
    }
   ],
   "source": [
    "count = 0\n",
    "while count < 5: \n",
    "    print count\n",
    "    count = count + 1 \n",
    "    break"
   ]
  },
  {
   "cell_type": "code",
   "execution_count": 23,
   "metadata": {
    "collapsed": false
   },
   "outputs": [
    {
     "name": "stdout",
     "output_type": "stream",
     "text": [
      "1\n",
      "2\n",
      "3\n",
      "4\n",
      "5\n",
      "6\n",
      "7\n",
      "8\n",
      "9\n",
      "10\n"
     ]
    }
   ],
   "source": [
    "a = 0\n",
    "while a < 10:\n",
    "    a = a + 1\n",
    "    print a"
   ]
  },
  {
   "cell_type": "code",
   "execution_count": 62,
   "metadata": {
    "collapsed": false
   },
   "outputs": [
    {
     "name": "stdout",
     "output_type": "stream",
     "text": [
      "Enter text, [type \"stop\" to quit]: Hi This is Vrushank\n",
      "hi this is vrushank\n",
      "Enter text, [type \"stop\" to quit]: Great\n",
      "great\n",
      "Enter text, [type \"stop\" to quit]: stop repeating\n",
      "stop repeating\n",
      "Enter text, [type \"stop\" to quit]: stop\n",
      "stop\n"
     ]
    }
   ],
   "source": [
    "while True:\n",
    "    reply = raw_input('Enter text, [type \"stop\" to quit]: ')\n",
    "    print reply.lower()\n",
    "    if reply == 'stop':\n",
    "        break"
   ]
  },
  {
   "cell_type": "markdown",
   "metadata": {},
   "source": [
    "This while loop will stop when the user types \"stop\". \n",
    "\n",
    "Remember, a while loop runs until the expression is False. The problem is, \n",
    "sometimes they don't stop. To avoid this, here are some rules to follow: \n",
    "\n",
    "1. Make sure that you use while-loops sparingly. Usually a for-loop is better.\n",
    "2. Review your while statements and make sure that the boolean test will \n",
    "   become False at some point.\n",
    "3. When in doubt, print out your test variable at the top and bottom of the \n",
    "   while-loop to see what it's doing.\n",
    "\n",
    "[while loops](http://learnpythonthehardway.org/book/ex33.html)\n",
    "\n",
    "Now, try creating a few while loops on your own. \n",
    "\n",
    "**Check** What is a common problem that might occur with while loops? What are ways to avoid this problem? "
   ]
  },
  {
   "cell_type": "code",
   "execution_count": 26,
   "metadata": {
    "collapsed": false
   },
   "outputs": [],
   "source": [
    "numbers = range(10)\n",
    "nums_plus_one = []\n",
    "for num in numbers:\n",
    "    nums_plus_one.append(num+1)"
   ]
  },
  {
   "cell_type": "markdown",
   "metadata": {},
   "source": [
    "** List comprehensions ** are statements that perform some kind of operation on each element of a list. Let's start with a simple array of numbers:"
   ]
  },
  {
   "cell_type": "code",
   "execution_count": 27,
   "metadata": {
    "collapsed": true
   },
   "outputs": [],
   "source": [
    "## List Comprehension\n",
    "nums_plus_one = [x + 1 for x in numbers]"
   ]
  },
  {
   "cell_type": "markdown",
   "metadata": {},
   "source": [
    "** Conditional logic in list comprehensions **\n",
    "\n",
    "List comprehensions can be extended to cover more of the functionality of a for loop than just an operation over elements. Let's say we wanted to \"binarize\" a variable based on whether the elements are greater or less than the mean over all elements. The for loop could look something like this:"
   ]
  },
  {
   "cell_type": "code",
   "execution_count": 64,
   "metadata": {
    "collapsed": true
   },
   "outputs": [],
   "source": [
    "import numpy as np\n",
    "n = [1, 2, 7, 21, 3, 1, 62, 3, 34, 12, 73, 44, 12, 11, 9]\n",
    "n_bin = []\n",
    "n_mean = np.mean(n)\n",
    "for x in n:\n",
    "    if x >= n_mean:\n",
    "        n_bin.append(1)\n",
    "    else:\n",
    "        n_bin.append(0)"
   ]
  },
  {
   "cell_type": "code",
   "execution_count": 73,
   "metadata": {
    "collapsed": false
   },
   "outputs": [
    {
     "name": "stdout",
     "output_type": "stream",
     "text": [
      "[2, 3, 8, 22, 4, 2, 63, 4, 35, 13, 74, 45, 13, 12, 10]\n",
      "[21, 62, 34, 73, 44]\n",
      "[0, 0, 0, 1, 0, 0, 1, 0, 1, 0, 1, 1, 0, 0, 0]\n"
     ]
    }
   ],
   "source": [
    "n_mean = np.mean(n)\n",
    "## copy items \n",
    "print [item + 1 for item in n ]\n",
    "\n",
    "## copy items that are above the mean\n",
    "print [item for item in n if item > n_mean]\n",
    "\n",
    "## copy items that are 1 for above the mean and 0 for below the mean\n",
    "print [1 if item > n_mean else 0 for item in n]"
   ]
  },
  {
   "cell_type": "code",
   "execution_count": 83,
   "metadata": {
    "collapsed": false
   },
   "outputs": [
    {
     "data": {
      "text/plain": [
       "[0,\n",
       " 0,\n",
       " 0,\n",
       " 0,\n",
       " 0,\n",
       " 0,\n",
       " 0,\n",
       " 0,\n",
       " 0,\n",
       " 0,\n",
       " 0,\n",
       " 0,\n",
       " 0,\n",
       " 0,\n",
       " 0,\n",
       " 1,\n",
       " 2,\n",
       " 7,\n",
       " 21,\n",
       " 3,\n",
       " 1,\n",
       " 62,\n",
       " 3,\n",
       " 34,\n",
       " 12,\n",
       " 73,\n",
       " 44,\n",
       " 12,\n",
       " 11,\n",
       " 9,\n",
       " 2,\n",
       " 4,\n",
       " 14,\n",
       " 42,\n",
       " 6,\n",
       " 2,\n",
       " 124,\n",
       " 6,\n",
       " 68,\n",
       " 24,\n",
       " 146,\n",
       " 88,\n",
       " 24,\n",
       " 22,\n",
       " 18,\n",
       " 3,\n",
       " 6,\n",
       " 21,\n",
       " 63,\n",
       " 9,\n",
       " 3,\n",
       " 186,\n",
       " 9,\n",
       " 102,\n",
       " 36,\n",
       " 219,\n",
       " 132,\n",
       " 36,\n",
       " 33,\n",
       " 27,\n",
       " 4,\n",
       " 8,\n",
       " 28,\n",
       " 84,\n",
       " 12,\n",
       " 4,\n",
       " 248,\n",
       " 12,\n",
       " 136,\n",
       " 48,\n",
       " 292,\n",
       " 176,\n",
       " 48,\n",
       " 44,\n",
       " 36,\n",
       " 5,\n",
       " 10,\n",
       " 35,\n",
       " 105,\n",
       " 15,\n",
       " 5,\n",
       " 310,\n",
       " 15,\n",
       " 170,\n",
       " 60,\n",
       " 365,\n",
       " 220,\n",
       " 60,\n",
       " 55,\n",
       " 45,\n",
       " 6,\n",
       " 12,\n",
       " 42,\n",
       " 126,\n",
       " 18,\n",
       " 6,\n",
       " 372,\n",
       " 18,\n",
       " 204,\n",
       " 72,\n",
       " 438,\n",
       " 264,\n",
       " 72,\n",
       " 66,\n",
       " 54,\n",
       " 7,\n",
       " 14,\n",
       " 49,\n",
       " 147,\n",
       " 21,\n",
       " 7,\n",
       " 434,\n",
       " 21,\n",
       " 238,\n",
       " 84,\n",
       " 511,\n",
       " 308,\n",
       " 84,\n",
       " 77,\n",
       " 63,\n",
       " 8,\n",
       " 16,\n",
       " 56,\n",
       " 168,\n",
       " 24,\n",
       " 8,\n",
       " 496,\n",
       " 24,\n",
       " 272,\n",
       " 96,\n",
       " 584,\n",
       " 352,\n",
       " 96,\n",
       " 88,\n",
       " 72,\n",
       " 9,\n",
       " 18,\n",
       " 63,\n",
       " 189,\n",
       " 27,\n",
       " 9,\n",
       " 558,\n",
       " 27,\n",
       " 306,\n",
       " 108,\n",
       " 657,\n",
       " 396,\n",
       " 108,\n",
       " 99,\n",
       " 81]"
      ]
     },
     "execution_count": 83,
     "metadata": {},
     "output_type": "execute_result"
    }
   ],
   "source": [
    "## nested list comprehensions \n",
    "# for item in n: \n",
    "  #  for k in range(10):\n",
    "    # print item * k\n",
    "        \n",
    "[item * k for k in range(10) for item in n]"
   ]
  },
  {
   "cell_type": "code",
   "execution_count": 84,
   "metadata": {
    "collapsed": false
   },
   "outputs": [
    {
     "data": {
      "text/plain": [
       "[0,\n",
       " 1,\n",
       " 2,\n",
       " 3,\n",
       " 4,\n",
       " 5,\n",
       " 6,\n",
       " 7,\n",
       " 8,\n",
       " 9,\n",
       " 0,\n",
       " 2,\n",
       " 4,\n",
       " 6,\n",
       " 8,\n",
       " 10,\n",
       " 12,\n",
       " 14,\n",
       " 16,\n",
       " 18,\n",
       " 0,\n",
       " 7,\n",
       " 14,\n",
       " 21,\n",
       " 28,\n",
       " 35,\n",
       " 42,\n",
       " 49,\n",
       " 56,\n",
       " 63,\n",
       " 0,\n",
       " 21,\n",
       " 42,\n",
       " 63,\n",
       " 84,\n",
       " 105,\n",
       " 126,\n",
       " 147,\n",
       " 168,\n",
       " 189,\n",
       " 0,\n",
       " 3,\n",
       " 6,\n",
       " 9,\n",
       " 12,\n",
       " 15,\n",
       " 18,\n",
       " 21,\n",
       " 24,\n",
       " 27,\n",
       " 0,\n",
       " 1,\n",
       " 2,\n",
       " 3,\n",
       " 4,\n",
       " 5,\n",
       " 6,\n",
       " 7,\n",
       " 8,\n",
       " 9,\n",
       " 0,\n",
       " 62,\n",
       " 124,\n",
       " 186,\n",
       " 248,\n",
       " 310,\n",
       " 372,\n",
       " 434,\n",
       " 496,\n",
       " 558,\n",
       " 0,\n",
       " 3,\n",
       " 6,\n",
       " 9,\n",
       " 12,\n",
       " 15,\n",
       " 18,\n",
       " 21,\n",
       " 24,\n",
       " 27,\n",
       " 0,\n",
       " 34,\n",
       " 68,\n",
       " 102,\n",
       " 136,\n",
       " 170,\n",
       " 204,\n",
       " 238,\n",
       " 272,\n",
       " 306,\n",
       " 0,\n",
       " 12,\n",
       " 24,\n",
       " 36,\n",
       " 48,\n",
       " 60,\n",
       " 72,\n",
       " 84,\n",
       " 96,\n",
       " 108,\n",
       " 0,\n",
       " 73,\n",
       " 146,\n",
       " 219,\n",
       " 292,\n",
       " 365,\n",
       " 438,\n",
       " 511,\n",
       " 584,\n",
       " 657,\n",
       " 0,\n",
       " 44,\n",
       " 88,\n",
       " 132,\n",
       " 176,\n",
       " 220,\n",
       " 264,\n",
       " 308,\n",
       " 352,\n",
       " 396,\n",
       " 0,\n",
       " 12,\n",
       " 24,\n",
       " 36,\n",
       " 48,\n",
       " 60,\n",
       " 72,\n",
       " 84,\n",
       " 96,\n",
       " 108,\n",
       " 0,\n",
       " 11,\n",
       " 22,\n",
       " 33,\n",
       " 44,\n",
       " 55,\n",
       " 66,\n",
       " 77,\n",
       " 88,\n",
       " 99,\n",
       " 0,\n",
       " 9,\n",
       " 18,\n",
       " 27,\n",
       " 36,\n",
       " 45,\n",
       " 54,\n",
       " 63,\n",
       " 72,\n",
       " 81]"
      ]
     },
     "execution_count": 84,
     "metadata": {},
     "output_type": "execute_result"
    }
   ],
   "source": [
    "[item * k for item in n for k in range(10)]"
   ]
  },
  {
   "cell_type": "markdown",
   "metadata": {},
   "source": [
    "**zip** goes through each element of two lists iteratively at the same time:\n",
    "\n"
   ]
  },
  {
   "cell_type": "code",
   "execution_count": 88,
   "metadata": {
    "collapsed": false
   },
   "outputs": [
    {
     "data": {
      "text/plain": [
       "[['a', 'z'], ['b', 'y'], ['c', 'x'], ['d', 'w']]"
      ]
     },
     "execution_count": 88,
     "metadata": {},
     "output_type": "execute_result"
    }
   ],
   "source": [
    "a = ['a','b','b','d']\n",
    "z = ['z','y','x']\n",
    "\n",
    "zipped = []\n",
    "for a_i, z_i in zip(a, z):\n",
    "    zipped.append([a_i, z_i])\n",
    "\n",
    "[['a', 'z'], ['b', 'y'], ['c', 'x'], ['d', 'w']]"
   ]
  },
  {
   "cell_type": "code",
   "execution_count": 89,
   "metadata": {
    "collapsed": false
   },
   "outputs": [
    {
     "data": {
      "text/plain": [
       "[('a', 'z'), ('b', 'y'), ('c', 'x')]"
      ]
     },
     "execution_count": 89,
     "metadata": {},
     "output_type": "execute_result"
    }
   ],
   "source": [
    "zip(a, z)"
   ]
  },
  {
   "cell_type": "markdown",
   "metadata": {},
   "source": [
    "** Nested Loops **"
   ]
  },
  {
   "cell_type": "code",
   "execution_count": 32,
   "metadata": {
    "collapsed": false
   },
   "outputs": [],
   "source": [
    "import string\n",
    "vowels = ['a', 'e', 'i', 'o', 'u']\n",
    "alphabet = string.ascii_lowercase\n",
    "\n",
    "# simple list comprehension to get non-vowel letters:\n",
    "consonants = [x for x in alphabet if x not in vowels]\n",
    "\n",
    "# get all the syllables for each consonant + vowel pair in nested consonant-syllable lists:\n",
    "syllables = [[c + v for v in vowels] for c in consonants]\n",
    "\n",
    "syllables = [\n",
    "  s\n",
    "  for syls in syllables\n",
    "  for s in syls\n",
    "]"
   ]
  },
  {
   "cell_type": "markdown",
   "metadata": {},
   "source": [
    "### Dictionary Comprehensions (10 mins)"
   ]
  },
  {
   "cell_type": "code",
   "execution_count": 90,
   "metadata": {
    "collapsed": false
   },
   "outputs": [
    {
     "data": {
      "text/plain": [
       "{'bird': 2, 'cat': 4, 'dog': 4, 'horse': 4}"
      ]
     },
     "execution_count": 90,
     "metadata": {},
     "output_type": "execute_result"
    }
   ],
   "source": [
    "keys = ['dog', 'cat', 'bird', 'horse']\n",
    "legs = [4, 4, 2, 4]\n",
    "\n",
    "{key: value for key, value in zip(keys, legs)}"
   ]
  },
  {
   "cell_type": "code",
   "execution_count": null,
   "metadata": {
    "collapsed": true
   },
   "outputs": [],
   "source": []
  }
 ],
 "metadata": {
  "anaconda-cloud": {},
  "kernelspec": {
   "display_name": "Python 2",
   "language": "python",
   "name": "python2"
  },
  "language_info": {
   "codemirror_mode": {
    "name": "ipython",
    "version": 2
   },
   "file_extension": ".py",
   "mimetype": "text/x-python",
   "name": "python",
   "nbconvert_exporter": "python",
   "pygments_lexer": "ipython2",
   "version": "2.7.12"
  }
 },
 "nbformat": 4,
 "nbformat_minor": 2
}
