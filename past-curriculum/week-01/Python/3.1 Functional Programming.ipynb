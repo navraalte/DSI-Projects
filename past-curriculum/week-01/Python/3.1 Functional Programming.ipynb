{
 "cells": [
  {
   "cell_type": "markdown",
   "metadata": {},
   "source": [
    "<img src=\"https://camo.githubusercontent.com/6ce15b81c1f06d716d753a61f5db22375fa684da/68747470733a2f2f67612d646173682e73332e616d617a6f6e6177732e636f6d2f70726f64756374696f6e2f6173736574732f6c6f676f2d39663838616536633963333837313639306533333238306663663535376633332e706e67\"; align=\"left\"; height=\"40\"; width=\"30\"> \n",
    "### Functional Programming\n"
   ]
  },
  {
   "cell_type": "markdown",
   "metadata": {},
   "source": [
    "### SESSION OBJECTIVES\n",
    "*After this session, you will be able to:*\n",
    "\n",
    "- Use higher order functions like `map`, `filter`\n",
    "- Apply `lambda` functions in your code\n",
    "- Identify use cases for generator objects  \n",
    "- Explain what decorators are"
   ]
  },
  {
   "cell_type": "code",
   "execution_count": 6,
   "metadata": {
    "collapsed": false
   },
   "outputs": [
    {
     "data": {
      "text/html": [
       "<script>\n",
       "code_show=true; \n",
       "function code_toggle() {\n",
       " if (code_show){\n",
       " $('div.input').hide();\n",
       " } else {\n",
       " $('div.input').show();\n",
       " }\n",
       " code_show = !code_show\n",
       "} \n",
       "$( document ).ready(code_toggle);\n",
       "</script>\n",
       "<a href=\"javascript:code_toggle()\"></a>"
      ],
      "text/plain": [
       "<IPython.core.display.HTML object>"
      ]
     },
     "execution_count": 6,
     "metadata": {},
     "output_type": "execute_result"
    }
   ],
   "source": [
    "\n",
    "import sys\n",
    "sys.path.insert(0, '../../../utils/')\n",
    "from random_calling import caller\n",
    "\n",
    "from IPython.display import HTML\n",
    "HTML('''<script>\n",
    "code_show=true; \n",
    "function code_toggle() {\n",
    " if (code_show){\n",
    " $('div.input').hide();\n",
    " } else {\n",
    " $('div.input').show();\n",
    " }\n",
    " code_show = !code_show\n",
    "} \n",
    "$( document ).ready(code_toggle);\n",
    "</script>\n",
    "<a href=\"javascript:code_toggle()\"></a>''')\n"
   ]
  },
  {
   "cell_type": "markdown",
   "metadata": {},
   "source": [
    "Python is a multi-paradigm language:\n",
    "\n",
    "- **Procedural Languages:** Sequence of instructions that inform the computer what to do with the program's input. Examples: C, Pascal, Unix\n",
    "\n",
    "<img src=http://cnfolio.com/media/B142L_notes_02stdio.gif>\n",
    "\n",
    "- **Declarative:** Specification describes the problem. Examples: SQL\n",
    "\n",
    "<img src= http://www.w3resource.com/w3r_images/select-syntax.gif>\n",
    "\n",
    "- ** Object Oriented:** Deal with collections of objects which maintain internal state and support methods that query or modify this internal state in some. Examples: Java\n",
    "\n",
    "<img src=https://upload.wikimedia.org/wikipedia/commons/thumb/9/98/CPT-OOP-objects_and_classes_-_attmeth.svg/300px-CPT-OOP-objects_and_classes_-_attmeth.svg.png>\n",
    "\n",
    "- ** Functional Programming: ** No internal state. Everything is set of functions, each of which solely takes inputs and produces outputs. Examples: Haskell, Clojure, ML\n",
    "\n",
    "<img src=http://www.kammerath.co.uk/img/function-machine.jpeg>"
   ]
  },
  {
   "cell_type": "markdown",
   "metadata": {},
   "source": [
    "### Functional Programming \n",
    "\n",
    "- \"Pure\" functions are mathematical. \n",
    "    - Output depends only on output.\n",
    "    - No side effects that modify internal state.\n",
    "    \n",
    "- Python has functional-looking interface but use variables, state internally\n",
    "\n",
    "- Modularity: Everything can be small independent functions. \n",
    "\n",
    "- Easy to compose functions \n",
    "\n",
    "- Easy to debug \n",
    "\n",
    "- Line-by-line invariants "
   ]
  },
  {
   "cell_type": "markdown",
   "metadata": {},
   "source": [
    "### Independent Practice: Why Do we care (15 mins)\n",
    "\n",
    "<a href=http://www.kdnuggets.com/2015/04/functional-programming-big-data-machine-learning.html/2> Functional Programming in Machine Learning </a>"
   ]
  },
  {
   "cell_type": "markdown",
   "metadata": {},
   "source": [
    "### Higher Order Functions\n",
    "\n",
    "- Recall syntax for `for loop` and list comprehensions in Python\n",
    "\n",
    "    ```\n",
    "    output = []\n",
    "    for element in iterable:\n",
    "        val = function(element)\n",
    "        output.append(val)\n",
    "        \n",
    "    [function(element) for element in iterable]\n",
    "        \n",
    "    ```\n",
    "\n",
    "<details><summary> **Check for Understanding:** Given a list of strings, return a list of lengths.\n",
    "</summary>\n",
    "```\n",
    "[len(elem) for elem in strings]\n",
    "```\n",
    "</details>\n",
    "\n",
    "`map` is a higher order function that applies a function to each elment in a sequence. \n",
    "\n",
    "    \n",
    "    map(fn, iter)\n",
    "    \n",
    "<img src=http://reactivex.io/documentation/operators/images/map.png>\n",
    "\n",
    "<details><summary> **Check for Understanding:** Given a list of strings, return a list of lengths (using map).\n",
    "</summary>\n",
    "```\n",
    "map(len, strings)\n",
    "```\n",
    "</details>\n"
   ]
  },
  {
   "cell_type": "markdown",
   "metadata": {},
   "source": [
    "Another common pattern may involve a predicate: \n",
    "    \n",
    "    # using for loops\n",
    "    output = []\n",
    "    for element in iterable:\n",
    "        if predicate(element):\n",
    "            output.append(val)\n",
    "    \n",
    "<details><summary> **Check for Understanding:** How do you do this using list comprehensions?\n",
    "</summary>\n",
    "```\n",
    "[element for element in iterable if predicate(element)]\n",
    "\n",
    "```\n",
    "</details>\n",
    "    \n",
    "    \n",
    "<img src=http://i.imgur.com/JWlUBLr.png>\n",
    "\n",
    "\n",
    "Instead of writing a list comprehension, we can use the `filter` function in Python. \n",
    "\n",
    "\n",
    "`filter(pred, iter)`\n",
    "\n",
    "<img src=http://i.imgur.com/Vn6qLyO.png>"
   ]
  },
  {
   "cell_type": "markdown",
   "metadata": {},
   "source": [
    "**Check for Understanding:** What will the output of the following functions be?\n",
    "  \n",
    "- `map(float, ['1.0', '3.3', '-4.2'])`\n",
    "\n",
    "- `filter(is_prime, range(100))`\n",
    "\n",
    "**Check for Understanding:** How do you go from LHS to RHS?\n",
    "\n",
    "- `[[1, 3], [4, 2, -5]] # <4, 1>`\n",
    "- `[1, True, [2, 3]] # => \"1 : True : [2, 3]\" `\n",
    "- `[0, 1, 0, 6, 'A', 1, 0, 7] # => [1, 6, 1, 7] `\n"
   ]
  },
  {
   "cell_type": "markdown",
   "metadata": {},
   "source": [
    "#### List Comprehensions vs.  `map` + `filter`\n",
    "\n",
    "- Marginal difference in performance\n",
    "\n",
    "- Easier to think about syntactically "
   ]
  },
  {
   "cell_type": "markdown",
   "metadata": {},
   "source": [
    "### Lambda Functions: Autonomous, on the fly, unnamed functions \n",
    "\n",
    "<img src=http://i.imgur.com/r0vuC4f.png>\n",
    "\n",
    "<img src=http://i.imgur.com/U3LuFuI.png>"
   ]
  },
  {
   "cell_type": "markdown",
   "metadata": {},
   "source": [
    "**Check for Understanding:** What is the output of the following?\n",
    "\n",
    "```\n",
    "    triple = lambda x: x *3\n",
    "    triple(23)\n",
    "    \n",
    "    map(lambda val: val ** 2, range(10))\n",
    "    \n",
    "    filter(lambda pair: pair[1] > 0, [(4,1), (3, -2), (8,0)]\n",
    " ```\n"
   ]
  },
  {
   "cell_type": "markdown",
   "metadata": {},
   "source": [
    "### Independent Practice (5 minutes)"
   ]
  },
  {
   "cell_type": "code",
   "execution_count": null,
   "metadata": {
    "collapsed": true
   },
   "outputs": [],
   "source": [
    "## Create a simple encryption\n",
    "## given a string, move up letters by 3 \n",
    "\n",
    "def encrypt_caesar(plaintext):\n",
    "    s = \"ABCDEFGHIJKLMNOPQRSTUVWXYZ\"\n",
    "    pass"
   ]
  },
  {
   "cell_type": "markdown",
   "metadata": {},
   "source": [
    "### Iterators and Generators \n",
    "\n",
    "<img src=http://nvie.com/img/relationships.png>\n",
    "\n",
    "- **Iterators:** Represent data stream, returned one element at a time. Represent finite or infinite data streams\n",
    "    - Use `next(iterator)` to yield successive values\n",
    "    - Use iter(data) to build an iterator for a data structure\n",
    "    "
   ]
  },
  {
   "cell_type": "code",
   "execution_count": 14,
   "metadata": {
    "collapsed": false
   },
   "outputs": [
    {
     "ename": "StopIteration",
     "evalue": "",
     "output_type": "error",
     "traceback": [
      "\u001b[0;31m---------------------------------------------------------------------------\u001b[0m",
      "\u001b[0;31mStopIteration\u001b[0m                             Traceback (most recent call last)",
      "\u001b[0;32m<ipython-input-14-7087adb4f661>\u001b[0m in \u001b[0;36m<module>\u001b[0;34m()\u001b[0m\n\u001b[1;32m      3\u001b[0m \u001b[0mnext\u001b[0m\u001b[0;34m(\u001b[0m\u001b[0mit\u001b[0m\u001b[0;34m)\u001b[0m \u001b[0;31m# => 2\u001b[0m\u001b[0;34m\u001b[0m\u001b[0m\n\u001b[1;32m      4\u001b[0m \u001b[0mnext\u001b[0m\u001b[0;34m(\u001b[0m\u001b[0mit\u001b[0m\u001b[0;34m)\u001b[0m \u001b[0;31m# => 3\u001b[0m\u001b[0;34m\u001b[0m\u001b[0m\n\u001b[0;32m----> 5\u001b[0;31m \u001b[0mnext\u001b[0m\u001b[0;34m(\u001b[0m\u001b[0mit\u001b[0m\u001b[0;34m)\u001b[0m \u001b[0;31m# raises StopIteration error\u001b[0m\u001b[0;34m\u001b[0m\u001b[0m\n\u001b[0m",
      "\u001b[0;31mStopIteration\u001b[0m: "
     ]
    }
   ],
   "source": [
    "it = iter([1, 2, 3])\n",
    "next(it) # => 1\n",
    "next(it) # => 2\n",
    "next(it) # => 3\n",
    "next(it) # raises StopIteration error"
   ]
  },
  {
   "cell_type": "markdown",
   "metadata": {},
   "source": [
    "- **Generator Expressions:** Lazy list comprehensions. When you need to stream data, not all of it. \n",
    "\n",
    "    ```\n",
    "    (expensive_function(data) for data in iterable)\n",
    "    ```\n",
    "    \n",
    "<img src=http://i.imgur.com/qfsgBMG.png>"
   ]
  },
  {
   "cell_type": "code",
   "execution_count": null,
   "metadata": {
    "collapsed": false
   },
   "outputs": [],
   "source": [
    "## simple generator \n",
    "## the yield keyword tells Python to convert the fn into a generator\n",
    "def generate_ints(n):\n",
    "    for i in range(n):\n",
    "        yield i \n",
    "        \n",
    "g = generate_ints(3)\n",
    "type(g) # => <class 'generator'>\n",
    "next(g) # => 0\n",
    "next(g) # => 1\n",
    "next(g) # => 2\n",
    "next(g) # raises StopIteration"
   ]
  },
  {
   "cell_type": "code",
   "execution_count": 16,
   "metadata": {
    "collapsed": true
   },
   "outputs": [],
   "source": [
    "## another generator\n",
    "## infinite data stream of fib numbers\n",
    "def generate_fibs():\n",
    "    a, b = 0, 1\n",
    "    while True:\n",
    "        a, b = b, a + b\n",
    "        yield a"
   ]
  },
  {
   "cell_type": "code",
   "execution_count": 17,
   "metadata": {
    "collapsed": true
   },
   "outputs": [],
   "source": [
    "## lazy generation\n",
    "def fibs_under(n):\n",
    "    for f in generate_fibs(): # Loops over 1, 1, 2, …\n",
    "        if f > n:\n",
    "            break\n",
    "        print(f)"
   ]
  },
  {
   "cell_type": "markdown",
   "metadata": {},
   "source": [
    "- Why use Iterators and Generators?\n",
    "    - Compute data on demand. Don't load all of data into memory. \n",
    "    \n",
    "    - Can avoid expensive functions on large datasets."
   ]
  },
  {
   "cell_type": "markdown",
   "metadata": {},
   "source": [
    "### Decorators in Python\n",
    "\n",
    "In Python, functions are first-class objects, i.e. they can be passed around as arguments. Functions can be return values. "
   ]
  },
  {
   "cell_type": "code",
   "execution_count": 53,
   "metadata": {
    "collapsed": false
   },
   "outputs": [
    {
     "data": {
      "text/plain": [
       "True"
      ]
     },
     "execution_count": 53,
     "metadata": {},
     "output_type": "execute_result"
    }
   ],
   "source": [
    "def make_divisibility_test(n):\n",
    "    def divisible_by_n(m):\n",
    "        return m % n == 0\n",
    "    return divisible_by_n\n",
    "\n",
    "div_by_3 = make_divisibility_test(3)\n",
    "filter(div_by_3, range(10)) # generates 0, 3, 6, 9\n",
    "make_divisibility_test(5)(10) # => True"
   ]
  },
  {
   "cell_type": "code",
   "execution_count": 55,
   "metadata": {
    "collapsed": true
   },
   "outputs": [],
   "source": [
    "## what does the following function do?\n",
    "def primes_under(n):\n",
    "    tests = []\n",
    "    # will hold [div_by_2, div_by_3, div_by_5, …]\n",
    "    for i in range(2, n):\n",
    "    # implement is_prime using our divis. tests\n",
    "        if not any(map(lambda test: test(i), tests)):\n",
    "            tests.append(make_divisibility_test(i))\n",
    "            yield i    "
   ]
  },
  {
   "cell_type": "markdown",
   "metadata": {},
   "source": [
    "<img src=http://i.imgur.com/yhHt40s.png>"
   ]
  },
  {
   "cell_type": "code",
   "execution_count": 59,
   "metadata": {
    "collapsed": false
   },
   "outputs": [
    {
     "name": "stdout",
     "output_type": "stream",
     "text": [
      "('Arguments:', (2, 3), {})\n",
      "('Arguments:', (2, 1), {'c': 3})\n",
      "<function wrapper at 0x109b29230>\n"
     ]
    }
   ],
   "source": [
    "def debug(function):\n",
    "    def wrapper(*args, **kwargs):\n",
    "        print(\"Arguments:\", args, kwargs)\n",
    "        return function(*args, **kwargs)\n",
    "    return wrapper\n",
    "\n",
    "def foo(a, b, c=1):\n",
    "    return (a + b) * c\n",
    "\n",
    "foo = debug(foo)\n",
    "foo(2, 3)\n",
    "\n",
    "foo(2, 1, c=3)\n",
    "print foo"
   ]
  },
  {
   "cell_type": "code",
   "execution_count": 60,
   "metadata": {
    "collapsed": false
   },
   "outputs": [
    {
     "name": "stdout",
     "output_type": "stream",
     "text": [
      "('Arguments:', (5, 3), {'c': 2})\n"
     ]
    },
    {
     "data": {
      "text/plain": [
       "16"
      ]
     },
     "execution_count": 60,
     "metadata": {},
     "output_type": "execute_result"
    }
   ],
   "source": [
    "# @decorator applies a deocrator to the function\n",
    "@debug\n",
    "def foo(a, b, c=1):\n",
    "    return (a + b) * c \n",
    "\n",
    "foo(5, 3, c=2)\n"
   ]
  },
  {
   "cell_type": "code",
   "execution_count": 49,
   "metadata": {
    "collapsed": true
   },
   "outputs": [],
   "source": [
    "def add(*args):\n",
    "    print args\n",
    "    return sum(list(args))\n",
    "\n",
    "def multiply_by_three(f):\n",
    "    def decorator(*args):\n",
    "        print args\n",
    "        return f(*args) * 3 \n",
    "\n",
    "    return decorator\n",
    "\n",
    "add3 = multiply_by_three(add)"
   ]
  },
  {
   "cell_type": "code",
   "execution_count": 50,
   "metadata": {
    "collapsed": false
   },
   "outputs": [],
   "source": [
    "@multiply_by_three\n",
    "def add(*args):\n",
    "    print args\n",
    "    return sum(list(args))\n"
   ]
  }
 ],
 "metadata": {
  "kernelspec": {
   "display_name": "Python 2",
   "language": "python",
   "name": "python2"
  },
  "language_info": {
   "codemirror_mode": {
    "name": "ipython",
    "version": 2
   },
   "file_extension": ".py",
   "mimetype": "text/x-python",
   "name": "python",
   "nbconvert_exporter": "python",
   "pygments_lexer": "ipython2",
   "version": "2.7.12"
  }
 },
 "nbformat": 4,
 "nbformat_minor": 2
}
