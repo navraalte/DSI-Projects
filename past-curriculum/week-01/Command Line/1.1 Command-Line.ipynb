{
 "cells": [
  {
   "cell_type": "markdown",
   "metadata": {
    "slideshow": {
     "slide_type": "slide"
    }
   },
   "source": [
    "<img src=\"https://ga-dash.s3.amazonaws.com/production/assets/logo-9f88ae6c9c3871690e33280fcf557f33.png\" style=\"float: left; margin: 10px;\"> \n",
    "# Using the Command Line\n",
    "\n",
    "---\n",
    "Week 1 | Lesson 1.1\n",
    "\n",
    "### LEARNING OBJECTIVES\n",
    "*After this lesson, you will be able to:*\n",
    "- Create folders and files using the command line (mkdir, touch)\n",
    "- Change directories and list directory contents (cd, ls)\n",
    "- Check current working directly (pwd)\n",
    "\n",
    "\n",
    "### STUDENT PRE-WORK\n",
    "*Before this lesson, you should already be able to:*\n",
    "- [GA pre-work](http://generalassembly.github.io/prework/cl/#/)\n",
    "- Open the terminal\n",
    "- Familiarize yourself with the [UNIX] [1] commands cd, pwd, mkdir, pwd, and touch (Don't worry,\n",
    "    we'll be going over them in class, just be able to give a description of what the commands mean.)\n",
    "\n",
    "[1]: http://mally.stanford.edu/~sr/computing/basic-unix.html    \"UNIX\""
   ]
  },
  {
   "cell_type": "markdown",
   "metadata": {
    "slideshow": {
     "slide_type": "slide"
    }
   },
   "source": [
    "### LESSON GUIDE   --- To Do finish the time allocations \n",
    "| TIMING  | TYPE  | TOPIC  |\n",
    "|:-:|---|---|\n",
    "|  5 min  | [Introduction](#introduction)   | Diagnosic quiz and terminal demo|\n",
    "| 2 min  | [Codealong](#demo)  | Forget Finder, get fast at using your laptop  |\n",
    "| 10 min  | [Codealong](#demo)  | Paths |\n",
    "| 30 min  | [Codealong](#demo)  | Navigating files and directories |\n",
    "| 10 min  | [Independent Practice](#ind-practice)  |   |\n",
    "| 3 min  | [Conclusion](#conclusion)  |  |\n"
   ]
  },
  {
   "cell_type": "markdown",
   "metadata": {
    "slideshow": {
     "slide_type": "slide"
    }
   },
   "source": [
    "<a name=\"introduction\"></a>\n",
    "##  What is a GUI (pronounced gooey)? (5 mins)\n",
    "There was a point when computers didn't come with a Graphical User Interface (GUI). Instead, everyone interacted with the computer using text commands in what we call a Command Line Interface (CLI).\n",
    "\n",
    "![Dos](https://upload.wikimedia.org/wikipedia/commons/9/94/FreeDOS_Beta_9_pre-release5_%28command_line_interface%29_on_Bochs_sshot20040912.png)\n",
    "*Image from Wikimedia*\n",
    "\n",
    "Today, the command line still exists, even though you may have never seen it as a casual computer user. Knowing some basic CLI commands is useful."
   ]
  },
  {
   "cell_type": "markdown",
   "metadata": {
    "slideshow": {
     "slide_type": "notes"
    }
   },
   "source": [
    "This CLI is the gateway to your operating system and can do many of the same things you normally would do, without a graphical interface.  This is also facilitated by what we call a \"shell\".  What is a GUI? What is a CLI? What is a shell?"
   ]
  },
  {
   "cell_type": "markdown",
   "metadata": {
    "slideshow": {
     "slide_type": "slide"
    }
   },
   "source": [
    "#### What is a shell?\n",
    "\n",
    "A shell is simply a type of command line program, which contains a very simple, text-based user interface enabling us to access all of an operating system's services. It is, very simply, a program that accepts text as input and translates that text into the appropriate functions that you want your computer to run.\n",
    "\n",
    "*Taken from Just for fun: [Type like a hacker](http://hackertyper.com/)*\n",
    "\n",
    "Here are a few Windows equivalents:\n",
    "[Cygwin](https://www.cygwin.com/)\n",
    "[msis git](https://msysgit.github.io/)\n"
   ]
  },
  {
   "cell_type": "markdown",
   "metadata": {
    "slideshow": {
     "slide_type": "notes"
    }
   },
   "source": [
    "Running applications, checking settings like free hard drive space, or even fun stuff like browsing the web can happen from the shell.  \n"
   ]
  },
  {
   "cell_type": "markdown",
   "metadata": {
    "slideshow": {
     "slide_type": "slide"
    }
   },
   "source": [
    "## Forget Finder, get fast at using your laptop  \n",
    "\n",
    "#### Opening & Closing Terminal\n",
    "\n",
    "First, we need to launch the command prompt. We do this by using spotlight:\n",
    "\n",
    "- ⌘ (Command) + Space\n",
    "- \"*Te*rminal\"\n",
    "- Enter\n",
    "\n",
    "Notice that you can actually hit enter as soon as the field autocompletes. Get used to taking shortcuts – don't type the whole word out if you don't have to and avoid using your mouse if you can open or use an app with just keyboard shortcuts. It may seem harder now, but when you get used to it, it will save you literally hours of cumulative time."
   ]
  },
  {
   "cell_type": "markdown",
   "metadata": {},
   "source": [
    "##### Anatomy of a command line"
   ]
  },
  {
   "cell_type": "markdown",
   "metadata": {},
   "source": [
    "![](https://softcover.s3.amazonaws.com/636/learn_enough_command_line/images/figures/anatomy.png)"
   ]
  },
  {
   "cell_type": "markdown",
   "metadata": {},
   "source": [
    "##### How do I print out a statement in the terminal? ( You Do )"
   ]
  },
  {
   "cell_type": "markdown",
   "metadata": {},
   "source": [
    "Our first command: <font color='green'>echo</font>\n",
    " \n",
    "The command is echo, and the argument is the string of characters—or simply string for short—that we want to print.\n",
    "\n",
    "Type:\n",
    "    <font color='green'>echo</font> hello\n",
    "\n",
    "Type:\n",
    "    <font color='green'>echo</font> \"hello world\"\n",
    "\n",
    "Type:\n",
    "    <font color='green'>echo</font> \"hello world \n",
    "    \n",
    "   \n",
    "\n",
    "### Check for Understanding\n",
    "--------\n",
    "\n",
    "<details><summary>\n",
    "Why didn't the terminal produce any output when you typed the last command?\n",
    "</summary>\n",
    "1. Whenever you use qoutation marks, make sure to including the closing qoutations otherwise the terminal will think that you're not done typing. \n",
    "\n",
    "\n",
    "</details>\n",
    "\n",
    "A quick way to abort any command mid-way is to type **control + c** . Try this now. \n",
    "\n",
    "Now that we're done exploring the <font color='green'>echo</font> command, we can clear the output on our terminals with the keyboard shortcut **command + k ** or by using the command <font color='green'>clear</font>. Try this now. \n",
    "\n"
   ]
  },
  {
   "cell_type": "markdown",
   "metadata": {
    "slideshow": {
     "slide_type": "slide"
    }
   },
   "source": [
    "## Paths - Codealong (20 mins)\n",
    "\n",
    "Every file or folder in a file system can be read, written, and deleted by referencing its position inside the filesystem. When we talk about the position of a file or a folder in a file system, we refer to its \"path\". There are a couple of different kinds of paths we can use to refer to a file – **absolute paths** and **relative paths**.\n",
    "\n",
    "**Directory** is an important term that's used interchangeably with *folder*. Though they are not exactly the same thing, when we say \"navigate to your project directory\" think of this as \"navigate to your project folder\".  Here's a little more information:\n",
    "\n",
    "_Strictly speaking, there is a difference between a directory which is a file system concept, and the graphical user interface metaphor that is used to represent it (a folder)...If one is referring to a container of documents, the term folder is more appropriate. The term directory refers to the way a structured list of document files and folders is stored on the computer. It is comparable to a telephone directory that contains lists of names, numbers and addresses and does not contain the actual documents themselves._\n",
    "\n",
    "*Taken from [Close-To-Open Cache Consistency in the Linux NFS Client](http://www.citi.umich.edu/projects/nfs-perf/results/cel/dnlc.html)*"
   ]
  },
  {
   "cell_type": "markdown",
   "metadata": {},
   "source": [
    "##### How do I download data from sites using the terminal?\n",
    "\n",
    "Next we are going to use the <font color='green'>curl</font>  command to download a text file from a webpage. Then we are going to use <font color='green'> >> </font> to move the output to a file called *shakespeare.txt* which will be created when we execute the comamnd in the terminal.\n",
    "\n",
    "The <font color='green'>curl</font>  command is a tool to transfer data from a server (i.e. website) to the machine that you are working on (i.e. your laptop)\n",
    "\n",
    "\n",
    "\n",
    "Type:\n",
    "\n",
    "<font color='green'>curl</font> http://www.textfiles.com/etext/AUTHORS/SHAKESPEARE/shakespeare-hamlet-25.txt >> shakespeare.txt\n",
    "    \n",
    "Great! You've just used the command line to download data from a site and save it to a file in your home directory. When you create files, they will be placed in whatever directory you are currently in when you run the command -- this is done by default. But you can specify a specific location that you want the file to be saved. This brings up to the topic path.  \n",
    "    "
   ]
  },
  {
   "cell_type": "markdown",
   "metadata": {
    "slideshow": {
     "slide_type": "notes"
    }
   },
   "source": [
    "All files can created, updated, or deleted using the command line interface.  We do this by referencing **paths**, relative or absolute.  I prefer the term directory when talking about the shell / term."
   ]
  },
  {
   "cell_type": "markdown",
   "metadata": {
    "slideshow": {
     "slide_type": "slide"
    }
   },
   "source": [
    "#### What is an absolute path?\n",
    "\n",
    "An absolute path is defined as the specific location of a file or folder from the root directory, typically shown as `/`. The root directory is the starting point from which all other folders are defined and is not normally the same as your **Home** directory, which is normally found at `/Users/[Your Username]`.\n",
    "\n",
    "\n",
    "You can identify the absolute path of your current directory by running the <font color='green'>pwd</font> command. \n",
    "\n",
    "Type: \n",
    "\n",
    "<font color='green'>pwd</font> "
   ]
  },
  {
   "cell_type": "markdown",
   "metadata": {},
   "source": [
    "#### What is a relative path?\n",
    "\n",
    "A relative path is a reference to a file or folder **relative** to the current position, or the present working directory(pwd). The file shakespeare.txt is currently located in our **home** directory. So we should be able to access it wihout specifying an absolute path. \n",
    "\n",
    "\n",
    "By the way, <font color='green'>head</font> command will print out the first 5 lines of a data file.\n",
    "\n",
    "Type: \n",
    "\n",
    "<font color='green'>head</font> ./shakespeare.txt\n",
    "\n",
    "Since the file is located in our current working directory, we don't need to specify the absolute path to access the it.   \n",
    "\n",
    "\n",
    "But at any time, we can  use the absolute path. The absolute path is the same for a file or a folder regardless of the current working directory, but relative paths are different, depending on what directory we are in. Directory structures are laid out like `directory/subdirectory/subsubdirectory`."
   ]
  },
  {
   "cell_type": "markdown",
   "metadata": {},
   "source": [
    "Type: \n",
    "\n",
    "<font color='green'>head </font> /Users/[user_name]/shakespeare.txt\n",
    "\n",
    "\n",
    "### Check for Understanding\n",
    "--------\n",
    "<details><summary>\n",
    "What is the difference between an absolute path and a relative path?\n",
    "</summary>\n",
    "1. An absolute path specifies the file path from the root directory to the current working directory. \n",
    "<br>\n",
    "**Example:** /Users/Alexander/shakespeare.txt\n",
    "<br>\n",
    "2. A relative path specifies the current working directory or file.  \n",
    "**Example:** ./shakespeare.txt\n",
    "</details>"
   ]
  },
  {
   "cell_type": "markdown",
   "metadata": {},
   "source": [
    "## Navigating files and directories using the command prompt \n",
    "\n",
    "Most of the activity that we'll be doing on the terminal is file and folder minipulations: creating, deleting, moving, and copying. So we are going to learn some of core commands that you'll be using throughout this course. \n",
    "\n",
    "\n",
    "**Commands that:**\n",
    "* Change directories\n",
    "* List files\n",
    "* Creat directories and files\n",
    "* Remove files\n",
    "* Pipe command\n",
    "* grep command\n",
    "* super user access"
   ]
  },
  {
   "cell_type": "markdown",
   "metadata": {
    "slideshow": {
     "slide_type": "slide"
    }
   },
   "source": [
    "#### Changing Directories \n",
    "\n",
    "Typing **`cd`** - a command for \"change directory\" with no parameters takes us to our home directory.\n",
    "\n",
    "```bash\n",
    "cd\n",
    "```\n",
    "\n",
    "Typing **`cd ..`** - a command moves the current working directory to immediate super directory. \n",
    "\n",
    "```bash\n",
    "cd ..\n",
    "\n",
    "\n",
    "```\n",
    "\n",
    "\n",
    "The tilde `~` chacter is short hand for **/Users/your_username_here/**. This is useful to shorten paths that would otherwise be absolute paths. For example, to navigate to your Desktop you can type:\n",
    "\n",
    "```bash\n",
    "cd ~/Desktop \n",
    "```\n",
    "\n"
   ]
  },
  {
   "cell_type": "markdown",
   "metadata": {},
   "source": [
    "### You Do\n",
    "\n",
    "Let's move back one directory. \n",
    "\n",
    "Type: \n",
    "\n",
    "\n",
    "<font color='green'>cd ..</font>\n",
    "\n",
    "Check your new path. \n",
    "\n",
    "Type:\n",
    "\n",
    "<font color='green'>pwd</font>\n",
    "\n",
    "Let's move back to the home directory: \n",
    "\n",
    "Type:\n",
    "\n",
    "<font color='green'>cd ..</font>"
   ]
  },
  {
   "cell_type": "markdown",
   "metadata": {},
   "source": [
    "### Listing Files"
   ]
  },
  {
   "cell_type": "markdown",
   "metadata": {
    "slideshow": {
     "slide_type": "slide"
    }
   },
   "source": [
    "The `ls` command lists files and directories in the current folder.\n",
    "```bash\n",
    "ls\n",
    "```\n",
    "\n",
    "It can also be used to list files located in any directory. For example to list\n",
    "your applications you can type:\n",
    "```bash\n",
    "ls Applications\n",
    "```"
   ]
  },
  {
   "cell_type": "markdown",
   "metadata": {},
   "source": [
    "### You Do\n",
    "\n",
    "To make a new directory.\n",
    "```bash\n",
    "mkdir folder_name\n",
    "```\n",
    "\n",
    "To create a new file.\n",
    "```bash\n",
    "touch file_name\n",
    "```\n",
    "\n",
    "To remove a file.\n",
    "```bash\n",
    "rm file_name\n",
    "```\n",
    "\n",
    "To remove a directory.\n",
    "```bash\n",
    "rm -r folder_name\n",
    "```\n",
    "The  <font color='green'>-r</font> option attemps to remove the file hierarchy rooted in each file. This option needs to be specifed in order to remove a directory. "
   ]
  },
  {
   "cell_type": "markdown",
   "metadata": {},
   "source": [
    "### Check for Understanding\n",
    "--------\n",
    "<details><summary>\n",
    "What commands do I need to type to switch directories from home to Downloads and make a new direcory called Music?\n",
    "</summary>\n",
    "1. Switch from home to Downloads: <font color='green'>cd</font>  Downloads\n",
    "\n",
    "<br>\n",
    "2. Make a file called Music: <font color='green'>mkdir</font>  Music  \n",
    "\n",
    "</details>"
   ]
  },
  {
   "cell_type": "markdown",
   "metadata": {
    "slideshow": {
     "slide_type": "slide"
    }
   },
   "source": [
    "##### Anatomy of a command line"
   ]
  },
  {
   "cell_type": "markdown",
   "metadata": {},
   "source": [
    "![](https://softcover.s3.amazonaws.com/636/learn_enough_command_line/images/figures/anatomy.png)\n",
    "\n",
    "This template makes it clear how command line syntax are built. "
   ]
  },
  {
   "cell_type": "markdown",
   "metadata": {},
   "source": [
    "### Piping Commands\n",
    "\n",
    "The <font color='green'>|</font> pipe command tells the terminal to send the output from the command on the left side of the pipe command over to the right side of the pipe command.\n",
    "\n",
    "We are going to run some commands using pipe to see how the output is transformed as it is passed from command to command. \n",
    "\n",
    "### You Do\n",
    "\n",
    "\n",
    "\n",
    "Type:\n",
    "\n",
    "<font color='green'>cat</font> shakespeare.txt\n",
    "\n",
    "Scroll through the output. What do you notice? What does <font color='green'>cat</font>  do?"
   ]
  },
  {
   "cell_type": "markdown",
   "metadata": {},
   "source": []
  },
  {
   "cell_type": "markdown",
   "metadata": {},
   "source": [
    "-----\n",
    "\n",
    "##### Not sure what the command <font color='green'>cat</font> means? \n",
    "\n",
    "<font color='green'>man</font> is the help command that outputs the documentation on a command that you're looking to understand.\n",
    "\n",
    "\n",
    "Type:\n",
    "\n",
    "<font color='green'>man</font> <font color='green'>cat</font>\n",
    "\n",
    "-----\n",
    "\n",
    "Let's move on with our shakespeare example. "
   ]
  },
  {
   "cell_type": "markdown",
   "metadata": {},
   "source": [
    "Type:\n",
    "\n",
    "<font color='green'>cat</font>  shakespeare.txt | <font color='green'>tr</font>  'A-Z' 'a-z'\n",
    "\n",
    "\n",
    "Scroll through the output. What do you notice? What does <font color='green'>tr</font>  do?"
   ]
  },
  {
   "cell_type": "markdown",
   "metadata": {},
   "source": []
  },
  {
   "cell_type": "markdown",
   "metadata": {},
   "source": [
    "-----\n",
    "\n",
    "##### Not sure what the command <font color='green'>tr</font> means? \n",
    "\n",
    "<font color='green'>man</font> is the help command that outputs the documentation on a command that you're looking to understand.\n",
    "\n",
    "Type:\n",
    "\n",
    "<font color='green'>man</font> <font color='green'>tr</font>\n",
    "\n",
    "-----\n",
    "\n",
    "Let's move on with our shakespeare example. "
   ]
  },
  {
   "cell_type": "markdown",
   "metadata": {},
   "source": [
    "\n",
    "Type:\n",
    "\n",
    "<font color='green'>cat</font>  shakespeare.txt |  <font color='green'>tr</font> 'A-Z' 'a-z' |  <font color='green'>sort</font>\n",
    "\n",
    "\n",
    "Scroll through the output. How is the text sorted? "
   ]
  },
  {
   "cell_type": "markdown",
   "metadata": {},
   "source": []
  },
  {
   "cell_type": "markdown",
   "metadata": {},
   "source": [
    "Type:\n",
    "\n",
    "<font color='green'>cat</font>  shakespeare.txt |  <font color='green'>tr</font> 'A-Z' 'a-z' |  <font color='green'>sort</font> >  shake_lower.txt\n",
    "\n",
    "Great! You just used the terminal to transform all words in a document to lowercase and sort the text, which resulted  in sorting by character name and their spoken lines, then saved the results to a new file. "
   ]
  },
  {
   "cell_type": "markdown",
   "metadata": {},
   "source": [
    "\n",
    "\n",
    "\n",
    "### Check for Understanding\n",
    "--------\n",
    "\n",
    "In groups of two:\n",
    "\n",
    "1. One partner explain, in their own words, what they just did in this piping exercise .\n",
    "2. The other partner should think of a reason as to why piping and text minipulation through the terminal might be useful. "
   ]
  },
  {
   "cell_type": "markdown",
   "metadata": {},
   "source": [
    "#### Grep command\n",
    "\n",
    "The <font color='green'>grep</font> command tells the terminal to search the specified document for text provided by the user, then returns appears of that text. \n",
    "\n",
    "Type:\n",
    "\n",
    "<font color='green'>grep</font> \"scene\" shake_lower.txt"
   ]
  },
  {
   "cell_type": "markdown",
   "metadata": {},
   "source": [
    "Scroll through the output. What do you notice?"
   ]
  },
  {
   "cell_type": "markdown",
   "metadata": {},
   "source": []
  },
  {
   "cell_type": "markdown",
   "metadata": {},
   "source": [
    "Type:\n",
    "\n",
    "<font color='green'>grep</font> \"hamlet\" shake_lower.txt\n",
    "\n",
    "Scroll through the output. What do you notice?"
   ]
  },
  {
   "cell_type": "markdown",
   "metadata": {},
   "source": []
  },
  {
   "cell_type": "markdown",
   "metadata": {},
   "source": [
    "Type:\n",
    "\n",
    "<font color='green'>grep</font> \"tesla\" shake_lower.txt\n",
    "\n",
    "What do you notice?"
   ]
  },
  {
   "cell_type": "markdown",
   "metadata": {},
   "source": []
  },
  {
   "cell_type": "markdown",
   "metadata": {
    "collapsed": true
   },
   "source": [
    "### sudo command\n",
    "\n",
    "![](http://imgs.xkcd.com/comics/sandwich.png)\n",
    "\n",
    "$$\\text{\"With great power comes great responsibility.\"}$$\n",
    "$$\\text{-- Uncle Ben (Spider-Man)}$$"
   ]
  },
  {
   "cell_type": "markdown",
   "metadata": {},
   "source": [
    "<font color='green'>sudo</font> gives ordinary users the power to execute commands as the superuser. For example, let’s try touching a file in the system directory /opt as follows"
   ]
  },
  {
   "cell_type": "markdown",
   "metadata": {},
   "source": [
    "Type:\n",
    "\n",
    "<font color='green'>touch</font> /opt/foo"
   ]
  },
  {
   "cell_type": "markdown",
   "metadata": {},
   "source": [
    "Because normal users don’t have permission to modify /opt, the command fails."
   ]
  },
  {
   "cell_type": "markdown",
   "metadata": {},
   "source": [
    "Type:\n",
    "\n",
    "<font color='green'>sudo</font> <font color='green'>touch</font> /opt/foo\n",
    "\n",
    "After entering sudo we are prompted to enter our user password; if entered correctly, and if the user has been configured to have sudo privileges (which is the default on most desktop Unix systems), then the command will succeed.\n",
    "\n",
    "To check that the file really was created, we can ls it:\n",
    "\n",
    "Type:\n",
    "\n",
    "<font color='green'>ls</font>  -l /opt/foo\n",
    "\n",
    "Note that (1) a normal user can ls a file in a system directory (without sudo) and (2) the name root appears in the listing, indicating that the superuser owns the file. (The meaning of the second term, wheel, is a little obscure, but you can learn about it on a site called, appropriately enough, [superuser](http://superuser.com/questions/191955/what-is-the-wheel-user-in-os-x).)\n",
    "\n",
    "To remove the file we just created, we again need superuser status:\n",
    "\n",
    "Type: \n",
    "\n",
    "<font color='green'>rm</font> -f /opt/foo\n",
    "\n",
    "Because normal users don’t have permission to modify /opt, the command fails again. \n",
    "\n",
    "Type:\n",
    "\n",
    "<font color='green'>sudo</font> <font color='green'>rm</font> -f /opt/foo\n",
    "\n",
    "\n",
    "**Be careful!** Using <font color='green'>sudo</font> when you don't know exactly what the affects will be can lead to unanticipated consequences.  "
   ]
  },
  {
   "cell_type": "markdown",
   "metadata": {},
   "source": [
    "### Check for Understanding\n",
    "--------\n",
    "<details><summary>\n",
    "What does the command sudo allow you to do?\n",
    "</summary>\n",
    "Sudo gives ordinary users the power to execute commands as the superuser -- admin authority \n",
    "\n",
    "</details>"
   ]
  },
  {
   "cell_type": "markdown",
   "metadata": {},
   "source": [
    "## Independent Practice: 10 minutes \n",
    "\n",
    "### Exercise One\n",
    "\n",
    "You'll be going through an exercise in which you'll be applying the commands that we have covered and learning a couple of new commands as well. \n",
    "\n",
    "<font color='green'>mv</font> is the move command that we can use to move a file or directory to another directory. \n",
    "The syntax for this command is: \n",
    "\n",
    "```bash\n",
    "mv [path to file or dir you want to move] [path to new location]\n",
    "```\n",
    "\n",
    "\n",
    "<font color='green'>cp</font> is the copy command that we can use to copy a file or a directory. If the new location doesn't already exist, <font color='green'>cp</font> will create it for you!\n",
    "The syntax for this command is: \n",
    "\n",
    "```bash\n",
    "cp [path to file or dir you want to copy] [path to new location]\n",
    "```\n",
    "\n",
    "\n",
    "**Need Help?**\n",
    "\n",
    "Remember that you can always type <font color='green'>man </font> [command] to learn what the comands does and its options. "
   ]
  },
  {
   "cell_type": "markdown",
   "metadata": {},
   "source": [
    "#### Complete the follow tasks\n",
    "\n",
    "1. Navigate to your home directory\n",
    "\n",
    "2. Create a new file called dummy_file.txt\n",
    "\n",
    "2. Create a new directory called dummy_dir\n",
    "\n",
    "3. Move the dummy_file.txt file to the dummy_dir directory\n",
    "\n",
    "4. Copy the directory dummy_dir to a new directory called dummy_dir_copy\n",
    "\n",
    "5. Navigate into dummy_dir_copy and make sure that dummy_file.txt was copied into it\n",
    "\n",
    "6. Delete the directory dummy_dir \n",
    "\n",
    "7. Delete the file dummy_file\n",
    "\n"
   ]
  },
  {
   "cell_type": "markdown",
   "metadata": {},
   "source": [
    "Great! You just had more practice learning how to create, delete, move, and copy files and directories with the command line terminal. A lot of what you'll be doing in the terminal involve these four commands. There are many more commands that you can explore and read about. Check our the references to learn more!\n",
    "\n",
    "Finally, feel free to delete the dummy_dir_copy directory. This directory was created purely for the purposes of this exercise and you wont be needing it for any future assignments. "
   ]
  },
  {
   "cell_type": "markdown",
   "metadata": {},
   "source": [
    "### Exercise Two\n",
    "\n",
    "1. Navigate to your home downloads"
   ]
  },
  {
   "cell_type": "markdown",
   "metadata": {},
   "source": [
    "Type:\n",
    "\n",
    " <font color='green'>head</font> ./shakespeare.txt\n",
    " \n",
    "Did you get a print out? Why or why not?"
   ]
  },
  {
   "cell_type": "markdown",
   "metadata": {},
   "source": []
  },
  {
   "cell_type": "markdown",
   "metadata": {},
   "source": [
    "Type:\n",
    "\n",
    " <font color='green'>head</font> /Users/[your_username]/shakespeare.txt\n",
    " \n",
    "Did you get a print out? Why or why not?"
   ]
  },
  {
   "cell_type": "markdown",
   "metadata": {},
   "source": []
  },
  {
   "cell_type": "markdown",
   "metadata": {
    "slideshow": {
     "slide_type": "slide"
    }
   },
   "source": [
    "<a name=\"conclusion\"></a>\n",
    "## Conclusion \t \n",
    "Today we learned about the common terminal commands such as mkdir, touch, cd, pwd, and ls. We also learned about absolute and relative paths. Take a breather and then keep practicing. The more you practice the more comfortable you'll get!\n",
    "\n",
    "In time, you might find that simple operations are actually faster to perform from command line."
   ]
  },
  {
   "cell_type": "markdown",
   "metadata": {},
   "source": [
    "### Resources \n",
    "\n",
    "[Short Command Cheat Sheet](http://learntocodewith.me/command-line/unix-command-cheat-sheet/) A short, fun list of commonly used commands. \n",
    "\n",
    "\n",
    "[GitHub Command Cheat Sheet](https://gist.github.com/poopsplat/7195274) A slightly longer list of commands. \n",
    "\n",
    "[Command Line Tutorial](https://www.learnenough.com/command-line-tutorial#sec-less_is_more) a long, but fun tutorial that covers all the material in this lesson and some more (and there are lots of cat pictures!)\n",
    "\n",
    "[Mac OSX Textbook on Command Line](http://images.apple.com/server/docs/Command_Line.pdf) Mac text that covers everything you could ever want to know (and would rather not care to know) about what you types of administrative tasks you can do with the command line. "
   ]
  }
 ],
 "metadata": {
  "anaconda-cloud": {},
  "celltoolbar": "Raw Cell Format",
  "kernelspec": {
   "display_name": "Python [conda env:python2]",
   "language": "python",
   "name": "conda-env-python2-py"
  },
  "language_info": {
   "codemirror_mode": {
    "name": "ipython",
    "version": 2
   },
   "file_extension": ".py",
   "mimetype": "text/x-python",
   "name": "python",
   "nbconvert_exporter": "python",
   "pygments_lexer": "ipython2",
   "version": "2.7.12"
  }
 },
 "nbformat": 4,
 "nbformat_minor": 0
}
