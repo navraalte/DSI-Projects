{
 "cells": [
  {
   "cell_type": "markdown",
   "metadata": {},
   "source": [
    "### Review Problem 4\n",
    "\n",
    "For this problem you will be writing 4 functions that each accepts a string and operates on it.\n",
    "\n",
    "1. Function 1 : \n",
    "        Define a function that:\n",
    "        - Accept 1 arugment, which is a string.\n",
    "        - Iterates through the string to find duplicate letters. \n",
    "        - Prints each duplicate letter and it's corresponding count.\n",
    "            - For example : Input : spoon\n",
    "                            Output : o : 2 \n",
    "    \n",
    "2. Function 2 :\n",
    "        Define a function that:\n",
    "        - Accepts 1 arugment, which is a string.\n",
    "        - Prints the string.\n",
    "        - Iterates though the string to count number of vowels & consonants.\n",
    "        - Prints the number of consonants & vowels.\n",
    "             - For example : Input : java\n",
    "                             Output : This string has 2 consonants and 2 vowels\n",
    "        \n",
    "3. Function 3:\n",
    "        Define a function that :\n",
    "        - Accepts 1 arugment, which is a string.\n",
    "        - Prints the string.\n",
    "        - Iterates though the string to count number of occurences of each letter and print it.\n",
    "            - For example : Input : dog\n",
    "                            Output : d : 1 \n",
    "                                     o : 1\n",
    "                                     g : 1\n",
    "        \n",
    "4. Function 4 :\n",
    "        Define a function that :\n",
    "        - Accepts 1 arugment, which is a list of strings.\n",
    "        - Checks if each string in the list is a Palindrome.\n",
    "        - Prints True/False for each string respectively.\n",
    "            - For example : Input : ['radar','java','madam']\n",
    "                            Output : [True, False, True]\n",
    "                            \n",
    "Notes/Hints :\n",
    "1. Explore the python collections to see if there are any data structures you could leverage to perform counting.\n",
    "        "
   ]
  },
  {
   "cell_type": "code",
   "execution_count": 1,
   "metadata": {
    "collapsed": false
   },
   "outputs": [
    {
     "name": "stdout",
     "output_type": "stream",
     "text": [
      "g:2\n",
      "m:2\n",
      "r:2\n"
     ]
    }
   ],
   "source": [
    "# 1. Find duplicates in a string with a function:\n",
    "# ----------------------------------------------------\n",
    "# dups(\"programming\")\n",
    "# g : 2\n",
    "# r : 2\n",
    "# m : 2\n",
    "\n",
    "def dups(user_string):\n",
    "    # Write code here"
   ]
  },
  {
   "cell_type": "code",
   "execution_count": 2,
   "metadata": {
    "collapsed": false
   },
   "outputs": [
    {
     "name": "stdout",
     "output_type": "stream",
     "text": [
      "This word has 2 vowels and 2 consonants\n"
     ]
    }
   ],
   "source": [
    "# 2. Count vowels and consonants in a string:\n",
    "# ----------------------------------------------------\n",
    "# countTypes('java')\n",
    "# this has 2 vowels and 2 consonants\n",
    "\n",
    "\n",
    "def counterTypes(user_string):\n",
    "    # Write code here"
   ]
  },
  {
   "cell_type": "code",
   "execution_count": 3,
   "metadata": {
    "collapsed": false
   },
   "outputs": [
    {
     "name": "stdout",
     "output_type": "stream",
     "text": [
      "a : 2\n",
      "j : 1\n",
      "v : 1\n",
      "The maximum is a @ 2 chars\n"
     ]
    }
   ],
   "source": [
    "# 3. Count number of occurances in a string\n",
    "# ----------------------------------------------------\n",
    "# occurances('java'), also return and note the maximum\n",
    "# a : 2\n",
    "# v : 1\n",
    "# j : 1\n",
    "# the maximum is a @ 2 chars\n",
    "\n",
    "\n",
    "def occurances(user_string):\n",
    "    from collections import Counter\n",
    "    \n",
    "    #Write code here"
   ]
  },
  {
   "cell_type": "code",
   "execution_count": 4,
   "metadata": {
    "collapsed": false
   },
   "outputs": [
    {
     "name": "stdout",
     "output_type": "stream",
     "text": [
      "[True, True, False]\n"
     ]
    }
   ],
   "source": [
    "# 4. Check to see if a word is a palidrome\n",
    "# ----------------------------------------------------\n",
    "# phrases = ['radar','madam','java']\n",
    "# ---- > True, True, False\n",
    "\n",
    "\n",
    "def pal_check(user_list):\n",
    "    #Write code here"
   ]
  },
  {
   "cell_type": "code",
   "execution_count": null,
   "metadata": {
    "collapsed": true
   },
   "outputs": [],
   "source": []
  }
 ],
 "metadata": {
  "anaconda-cloud": {},
  "kernelspec": {
   "display_name": "Python [Root]",
   "language": "python",
   "name": "Python [Root]"
  },
  "language_info": {
   "codemirror_mode": {
    "name": "ipython",
    "version": 2
   },
   "file_extension": ".py",
   "mimetype": "text/x-python",
   "name": "python",
   "nbconvert_exporter": "python",
   "pygments_lexer": "ipython2",
   "version": "2.7.12"
  }
 },
 "nbformat": 4,
 "nbformat_minor": 0
}
