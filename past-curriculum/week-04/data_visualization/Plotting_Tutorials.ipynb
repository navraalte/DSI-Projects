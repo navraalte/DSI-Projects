{
 "cells": [
  {
   "cell_type": "markdown",
   "metadata": {},
   "source": [
    "## Additional Resources \n",
    "\n",
    "<a href=https://www.labri.fr/perso/nrougier/teaching/matplotlib/> Introduction to Matplotlib </a>\n",
    "\n",
    "<a href=https://vimeo.com/63260224> Creating Interactive Applications in Matplotlib </a>\n",
    "\n",
    "<a href=https://www.dataquest.io/blog/python-data-visualization-libraries/> Plotting in Python </a>\n",
    "\n",
    "<a href=https://jakevdp.github.io/blog/2013/03/23/matplotlib-and-the-future-of-visualization-in-python/> Future of Visualization in Python </a>\n",
    "\n",
    "<a href=http://bokeh.pydata.org/en/0.8.2/docs/user_guide/intro.html> Bokeh </a>\n",
    "\n",
    "<a href=https://www.youtube.com/watch?v=EQCtGIdA0nE> Getting Started with Bokeh </a>\n",
    "\n",
    "<a href=https://moz.com/blog/data-visualization-principles-lessons-from-tufte> Lessons from Edward Tufte </a>"
   ]
  }
 ],
 "metadata": {
  "kernelspec": {
   "display_name": "Python 2",
   "language": "python",
   "name": "python2"
  },
  "language_info": {
   "codemirror_mode": {
    "name": "ipython",
    "version": 2
   },
   "file_extension": ".py",
   "mimetype": "text/x-python",
   "name": "python",
   "nbconvert_exporter": "python",
   "pygments_lexer": "ipython2",
   "version": "2.7.13"
  }
 },
 "nbformat": 4,
 "nbformat_minor": 1
}
