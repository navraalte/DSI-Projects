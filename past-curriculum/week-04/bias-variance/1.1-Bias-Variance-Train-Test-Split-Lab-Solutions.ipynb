{
 "cells": [
  {
   "cell_type": "markdown",
   "metadata": {},
   "source": [
    "<img src=\"https://ga-dash.s3.amazonaws.com/production/assets/logo-9f88ae6c9c3871690e33280fcf557f33.png\" style=\"float:  left; margin: 10px;\">\n",
    "\n",
    "# Bias-Variance-Train-Test-Split-Lab\n",
    "---\n",
    "Week 4 | Lab 1.1"
   ]
  },
  {
   "cell_type": "markdown",
   "metadata": {},
   "source": [
    "# Bias-variance lab\n",
    "\n",
    "In this lab you'll explore how bias and variance changes using a dataset on college statistics.\n",
    "\n",
    "---"
   ]
  },
  {
   "cell_type": "code",
   "execution_count": 26,
   "metadata": {
    "collapsed": false
   },
   "outputs": [],
   "source": [
    "import numpy as np\n",
    "import scipy \n",
    "import seaborn as sns\n",
    "import pandas as pd\n",
    "import patsy\n",
    "\n",
    "from sklearn.preprocessing import PolynomialFeatures, StandardScaler\n",
    "from sklearn.linear_model import LinearRegression, Ridge, Lasso, RidgeCV, LassoCV\n",
    "from sklearn.cross_validation import cross_val_score, KFold, train_test_split\n",
    "\n",
    "import matplotlib\n",
    "import matplotlib.pyplot as plt\n",
    "\n",
    "%config InlineBackend.figure_format = 'retina'\n",
    "%matplotlib inline\n",
    "\n",
    "plt.style.use('fivethirtyeight')"
   ]
  },
  {
   "cell_type": "markdown",
   "metadata": {},
   "source": [
    "---\n",
    "\n",
    "### Load data\n",
    "\n",
    "Feel free to choose a target variable on your own. I chose \"Grad.Rate\" as my target variable but it's not required.\n",
    "\n",
    "You'll want to discard the name of the college, and if you're planning on using the \"Private\" variable it will have to be changed into 1s and 0s rather than yes/no."
   ]
  },
  {
   "cell_type": "code",
   "execution_count": 27,
   "metadata": {
    "collapsed": false
   },
   "outputs": [],
   "source": [
    "college = pd.read_csv('~/DSI-SF-5/datasets/college_stats/College.csv')"
   ]
  },
  {
   "cell_type": "code",
   "execution_count": 28,
   "metadata": {
    "collapsed": false
   },
   "outputs": [
    {
     "data": {
      "text/plain": [
       "Unnamed: 0      object\n",
       "Private         object\n",
       "Apps             int64\n",
       "Accept           int64\n",
       "Enroll           int64\n",
       "Top10perc        int64\n",
       "Top25perc        int64\n",
       "F.Undergrad      int64\n",
       "P.Undergrad      int64\n",
       "Outstate         int64\n",
       "Room.Board       int64\n",
       "Books            int64\n",
       "Personal         int64\n",
       "PhD              int64\n",
       "Terminal         int64\n",
       "S.F.Ratio      float64\n",
       "perc.alumni      int64\n",
       "Expend           int64\n",
       "Grad.Rate        int64\n",
       "dtype: object"
      ]
     },
     "execution_count": 28,
     "metadata": {},
     "output_type": "execute_result"
    }
   ],
   "source": [
    "college.dtypes"
   ]
  },
  {
   "cell_type": "code",
   "execution_count": 29,
   "metadata": {
    "collapsed": true
   },
   "outputs": [],
   "source": [
    "college.rename(columns={'Unnamed: 0':'College'}, inplace=True)"
   ]
  },
  {
   "cell_type": "code",
   "execution_count": 30,
   "metadata": {
    "collapsed": false
   },
   "outputs": [
    {
     "data": {
      "text/html": [
       "<div>\n",
       "<table border=\"1\" class=\"dataframe\">\n",
       "  <thead>\n",
       "    <tr style=\"text-align: right;\">\n",
       "      <th></th>\n",
       "      <th>College</th>\n",
       "      <th>Private</th>\n",
       "      <th>Apps</th>\n",
       "      <th>Accept</th>\n",
       "      <th>Enroll</th>\n",
       "      <th>Top10perc</th>\n",
       "      <th>Top25perc</th>\n",
       "      <th>F.Undergrad</th>\n",
       "      <th>P.Undergrad</th>\n",
       "      <th>Outstate</th>\n",
       "      <th>Room.Board</th>\n",
       "      <th>Books</th>\n",
       "      <th>Personal</th>\n",
       "      <th>PhD</th>\n",
       "      <th>Terminal</th>\n",
       "      <th>S.F.Ratio</th>\n",
       "      <th>perc.alumni</th>\n",
       "      <th>Expend</th>\n",
       "      <th>Grad.Rate</th>\n",
       "    </tr>\n",
       "  </thead>\n",
       "  <tbody>\n",
       "    <tr>\n",
       "      <th>0</th>\n",
       "      <td>Abilene Christian University</td>\n",
       "      <td>Yes</td>\n",
       "      <td>1660</td>\n",
       "      <td>1232</td>\n",
       "      <td>721</td>\n",
       "      <td>23</td>\n",
       "      <td>52</td>\n",
       "      <td>2885</td>\n",
       "      <td>537</td>\n",
       "      <td>7440</td>\n",
       "      <td>3300</td>\n",
       "      <td>450</td>\n",
       "      <td>2200</td>\n",
       "      <td>70</td>\n",
       "      <td>78</td>\n",
       "      <td>18.1</td>\n",
       "      <td>12</td>\n",
       "      <td>7041</td>\n",
       "      <td>60</td>\n",
       "    </tr>\n",
       "    <tr>\n",
       "      <th>1</th>\n",
       "      <td>Adelphi University</td>\n",
       "      <td>Yes</td>\n",
       "      <td>2186</td>\n",
       "      <td>1924</td>\n",
       "      <td>512</td>\n",
       "      <td>16</td>\n",
       "      <td>29</td>\n",
       "      <td>2683</td>\n",
       "      <td>1227</td>\n",
       "      <td>12280</td>\n",
       "      <td>6450</td>\n",
       "      <td>750</td>\n",
       "      <td>1500</td>\n",
       "      <td>29</td>\n",
       "      <td>30</td>\n",
       "      <td>12.2</td>\n",
       "      <td>16</td>\n",
       "      <td>10527</td>\n",
       "      <td>56</td>\n",
       "    </tr>\n",
       "    <tr>\n",
       "      <th>2</th>\n",
       "      <td>Adrian College</td>\n",
       "      <td>Yes</td>\n",
       "      <td>1428</td>\n",
       "      <td>1097</td>\n",
       "      <td>336</td>\n",
       "      <td>22</td>\n",
       "      <td>50</td>\n",
       "      <td>1036</td>\n",
       "      <td>99</td>\n",
       "      <td>11250</td>\n",
       "      <td>3750</td>\n",
       "      <td>400</td>\n",
       "      <td>1165</td>\n",
       "      <td>53</td>\n",
       "      <td>66</td>\n",
       "      <td>12.9</td>\n",
       "      <td>30</td>\n",
       "      <td>8735</td>\n",
       "      <td>54</td>\n",
       "    </tr>\n",
       "  </tbody>\n",
       "</table>\n",
       "</div>"
      ],
      "text/plain": [
       "                        College Private  Apps  Accept  Enroll  Top10perc  \\\n",
       "0  Abilene Christian University     Yes  1660    1232     721         23   \n",
       "1            Adelphi University     Yes  2186    1924     512         16   \n",
       "2                Adrian College     Yes  1428    1097     336         22   \n",
       "\n",
       "   Top25perc  F.Undergrad  P.Undergrad  Outstate  Room.Board  Books  Personal  \\\n",
       "0         52         2885          537      7440        3300    450      2200   \n",
       "1         29         2683         1227     12280        6450    750      1500   \n",
       "2         50         1036           99     11250        3750    400      1165   \n",
       "\n",
       "   PhD  Terminal  S.F.Ratio  perc.alumni  Expend  Grad.Rate  \n",
       "0   70        78       18.1           12    7041         60  \n",
       "1   29        30       12.2           16   10527         56  \n",
       "2   53        66       12.9           30    8735         54  "
      ]
     },
     "execution_count": 30,
     "metadata": {},
     "output_type": "execute_result"
    }
   ],
   "source": [
    "college.head(3)"
   ]
  },
  {
   "cell_type": "code",
   "execution_count": 31,
   "metadata": {
    "collapsed": true
   },
   "outputs": [],
   "source": [
    "gradrate = college['Grad.Rate'].values\n",
    "X = college.iloc[:,1:-1]"
   ]
  },
  {
   "cell_type": "code",
   "execution_count": 32,
   "metadata": {
    "collapsed": false
   },
   "outputs": [
    {
     "data": {
      "text/html": [
       "<div>\n",
       "<table border=\"1\" class=\"dataframe\">\n",
       "  <thead>\n",
       "    <tr style=\"text-align: right;\">\n",
       "      <th></th>\n",
       "      <th>Private</th>\n",
       "      <th>Apps</th>\n",
       "      <th>Accept</th>\n",
       "      <th>Enroll</th>\n",
       "      <th>Top10perc</th>\n",
       "      <th>Top25perc</th>\n",
       "      <th>F.Undergrad</th>\n",
       "      <th>P.Undergrad</th>\n",
       "      <th>Outstate</th>\n",
       "      <th>Room.Board</th>\n",
       "      <th>Books</th>\n",
       "      <th>Personal</th>\n",
       "      <th>PhD</th>\n",
       "      <th>Terminal</th>\n",
       "      <th>S.F.Ratio</th>\n",
       "      <th>perc.alumni</th>\n",
       "      <th>Expend</th>\n",
       "    </tr>\n",
       "  </thead>\n",
       "  <tbody>\n",
       "    <tr>\n",
       "      <th>0</th>\n",
       "      <td>Yes</td>\n",
       "      <td>1660</td>\n",
       "      <td>1232</td>\n",
       "      <td>721</td>\n",
       "      <td>23</td>\n",
       "      <td>52</td>\n",
       "      <td>2885</td>\n",
       "      <td>537</td>\n",
       "      <td>7440</td>\n",
       "      <td>3300</td>\n",
       "      <td>450</td>\n",
       "      <td>2200</td>\n",
       "      <td>70</td>\n",
       "      <td>78</td>\n",
       "      <td>18.1</td>\n",
       "      <td>12</td>\n",
       "      <td>7041</td>\n",
       "    </tr>\n",
       "    <tr>\n",
       "      <th>1</th>\n",
       "      <td>Yes</td>\n",
       "      <td>2186</td>\n",
       "      <td>1924</td>\n",
       "      <td>512</td>\n",
       "      <td>16</td>\n",
       "      <td>29</td>\n",
       "      <td>2683</td>\n",
       "      <td>1227</td>\n",
       "      <td>12280</td>\n",
       "      <td>6450</td>\n",
       "      <td>750</td>\n",
       "      <td>1500</td>\n",
       "      <td>29</td>\n",
       "      <td>30</td>\n",
       "      <td>12.2</td>\n",
       "      <td>16</td>\n",
       "      <td>10527</td>\n",
       "    </tr>\n",
       "  </tbody>\n",
       "</table>\n",
       "</div>"
      ],
      "text/plain": [
       "  Private  Apps  Accept  Enroll  Top10perc  Top25perc  F.Undergrad  \\\n",
       "0     Yes  1660    1232     721         23         52         2885   \n",
       "1     Yes  2186    1924     512         16         29         2683   \n",
       "\n",
       "   P.Undergrad  Outstate  Room.Board  Books  Personal  PhD  Terminal  \\\n",
       "0          537      7440        3300    450      2200   70        78   \n",
       "1         1227     12280        6450    750      1500   29        30   \n",
       "\n",
       "   S.F.Ratio  perc.alumni  Expend  \n",
       "0       18.1           12    7041  \n",
       "1       12.2           16   10527  "
      ]
     },
     "execution_count": 32,
     "metadata": {},
     "output_type": "execute_result"
    }
   ],
   "source": [
    "X.head(2)"
   ]
  },
  {
   "cell_type": "code",
   "execution_count": 33,
   "metadata": {
    "collapsed": true
   },
   "outputs": [],
   "source": [
    "X.Private = X.Private.map(lambda x: 1 if x == 'Yes' else 0)"
   ]
  },
  {
   "cell_type": "code",
   "execution_count": 34,
   "metadata": {
    "collapsed": true
   },
   "outputs": [],
   "source": [
    "X.columns = [x.lower().replace('.','_') for x in X.columns]"
   ]
  },
  {
   "cell_type": "code",
   "execution_count": 35,
   "metadata": {
    "collapsed": false
   },
   "outputs": [
    {
     "data": {
      "text/html": [
       "<div>\n",
       "<table border=\"1\" class=\"dataframe\">\n",
       "  <thead>\n",
       "    <tr style=\"text-align: right;\">\n",
       "      <th></th>\n",
       "      <th>private</th>\n",
       "      <th>apps</th>\n",
       "      <th>accept</th>\n",
       "      <th>enroll</th>\n",
       "      <th>top10perc</th>\n",
       "      <th>top25perc</th>\n",
       "      <th>f_undergrad</th>\n",
       "      <th>p_undergrad</th>\n",
       "      <th>outstate</th>\n",
       "      <th>room_board</th>\n",
       "      <th>books</th>\n",
       "      <th>personal</th>\n",
       "      <th>phd</th>\n",
       "      <th>terminal</th>\n",
       "      <th>s_f_ratio</th>\n",
       "      <th>perc_alumni</th>\n",
       "      <th>expend</th>\n",
       "    </tr>\n",
       "  </thead>\n",
       "  <tbody>\n",
       "    <tr>\n",
       "      <th>0</th>\n",
       "      <td>1</td>\n",
       "      <td>1660</td>\n",
       "      <td>1232</td>\n",
       "      <td>721</td>\n",
       "      <td>23</td>\n",
       "      <td>52</td>\n",
       "      <td>2885</td>\n",
       "      <td>537</td>\n",
       "      <td>7440</td>\n",
       "      <td>3300</td>\n",
       "      <td>450</td>\n",
       "      <td>2200</td>\n",
       "      <td>70</td>\n",
       "      <td>78</td>\n",
       "      <td>18.1</td>\n",
       "      <td>12</td>\n",
       "      <td>7041</td>\n",
       "    </tr>\n",
       "    <tr>\n",
       "      <th>1</th>\n",
       "      <td>1</td>\n",
       "      <td>2186</td>\n",
       "      <td>1924</td>\n",
       "      <td>512</td>\n",
       "      <td>16</td>\n",
       "      <td>29</td>\n",
       "      <td>2683</td>\n",
       "      <td>1227</td>\n",
       "      <td>12280</td>\n",
       "      <td>6450</td>\n",
       "      <td>750</td>\n",
       "      <td>1500</td>\n",
       "      <td>29</td>\n",
       "      <td>30</td>\n",
       "      <td>12.2</td>\n",
       "      <td>16</td>\n",
       "      <td>10527</td>\n",
       "    </tr>\n",
       "  </tbody>\n",
       "</table>\n",
       "</div>"
      ],
      "text/plain": [
       "   private  apps  accept  enroll  top10perc  top25perc  f_undergrad  \\\n",
       "0        1  1660    1232     721         23         52         2885   \n",
       "1        1  2186    1924     512         16         29         2683   \n",
       "\n",
       "   p_undergrad  outstate  room_board  books  personal  phd  terminal  \\\n",
       "0          537      7440        3300    450      2200   70        78   \n",
       "1         1227     12280        6450    750      1500   29        30   \n",
       "\n",
       "   s_f_ratio  perc_alumni  expend  \n",
       "0       18.1           12    7041  \n",
       "1       12.2           16   10527  "
      ]
     },
     "execution_count": 35,
     "metadata": {},
     "output_type": "execute_result"
    }
   ],
   "source": [
    "X.head(2)"
   ]
  },
  {
   "cell_type": "code",
   "execution_count": 36,
   "metadata": {
    "collapsed": true
   },
   "outputs": [],
   "source": [
    "featurenames = X.columns"
   ]
  },
  {
   "cell_type": "markdown",
   "metadata": {},
   "source": [
    "---\n",
    "\n",
    "### Cross-validate a linear regression predicting your target variable from the other variables\n",
    "\n",
    "Use Sklearn's implementation of [cross_val_score](http://scikit-learn.org/stable/modules/generated/sklearn.model_selection.cross_val_score.html) which will cross validate and score your model for you. \n",
    "\n",
    "Use 'neg_mean_squared_error' as your scoring method. This will cross_val_score will return the negative of the mean square error. In order to analyze the mean square error, simply multiply 'neg_mean_squared_error' by negative one.\n",
    "\n",
    "How does it perform?"
   ]
  },
  {
   "cell_type": "code",
   "execution_count": 55,
   "metadata": {
    "collapsed": false
   },
   "outputs": [
    {
     "name": "stdout",
     "output_type": "stream",
     "text": [
      "[ 156.61047196  199.5371563   140.97878176  173.39589458  222.40486258\n",
      "  172.86023644  188.79545328  163.46099385  106.78761673  178.37002974] 170.320149723\n"
     ]
    }
   ],
   "source": [
    "linreg = LinearRegression()\n",
    "\n",
    "lr_scores = cross_val_score(linreg, X, gradrate, cv=10, scoring = 'neg_mean_squared_error')\n",
    "\n",
    "linreg.fit(X, gradrate)\n",
    "\n",
    "print -1*lr_scores, -1*np.mean(lr_scores)"
   ]
  },
  {
   "cell_type": "code",
   "execution_count": 43,
   "metadata": {
    "collapsed": false
   },
   "outputs": [
    {
     "name": "stdout",
     "output_type": "stream",
     "text": [
      "private 3.38137582338\n",
      "apps 0.00129841619653\n",
      "accept -0.000696123912254\n",
      "enroll 0.00215927836564\n",
      "top10perc 0.0548964393801\n",
      "top25perc 0.13512882248\n",
      "f_undergrad -0.000471221055472\n",
      "p_undergrad -0.00148364257626\n",
      "outstate 0.00101744533787\n",
      "room_board 0.001914341067\n",
      "books -0.00222046570937\n",
      "personal -0.00166353476834\n",
      "phd 0.0872827138864\n",
      "terminal -0.07470226732\n",
      "s_f_ratio 0.0758222052443\n",
      "perc_alumni 0.279334292031\n",
      "expend -0.000456463007097\n"
     ]
    }
   ],
   "source": [
    "for f, c in zip(featurenames, linreg.coef_):\n",
    "    print f, c"
   ]
  },
  {
   "cell_type": "markdown",
   "metadata": {},
   "source": [
    "---\n",
    "\n",
    "### Create a function that will iteratively predict your target from different train-test splits\n",
    "\n",
    "This will be used to calculate the bias and the variance after this.\n",
    "\n",
    "Your function should:\n",
    "\n",
    "1. Accept a model, X predictor matrix/dataframe, y target variable, and a number of random splits to do training and testing on.\n",
    "2. The output should be a dataframe that has as its first column the true values of y, and all the other columns will be corresponding predicted values of y when that row was in the testing set.\n",
    "3. It will iterate through the number of splits\n",
    "4. Create a variable that is the list of row numbers. Use this with `train_test_split` to get out randomized training rows and testing rows for each iteration.\n",
    "5. Subset your X and y into training and testing\n",
    "6. Train your model on the training X and training y\n",
    "7. Predict values of y using the testing X\n",
    "8. Add the predicted values of y to the dataframe tracking y predictions - the predicted y values should be insert in the correct row so that they match the true value of y in the first column. You can index using the test indices you got out of train_test_split to do this. (The rest of the rows that were part of the training set can be nan for that iteration).\n",
    "\n",
    "\n",
    "**NOTE: ** This function will look considerably different than the \"cross_validate\" function that I wrote in the test-train-split lesson. "
   ]
  },
  {
   "cell_type": "code",
   "execution_count": 44,
   "metadata": {
    "collapsed": true
   },
   "outputs": [],
   "source": [
    "def predict_from_samples(model, X, y, number_of_splits=100):\n",
    "    \n",
    "    yhat_tracker = pd.DataFrame({'ytrue':y})\n",
    "    \n",
    "    rowinds = range(X.shape[0])\n",
    "    \n",
    "    for i in range(number_of_splits):\n",
    "        \n",
    "        train_inds, test_inds = train_test_split(rowinds, test_size=0.33)\n",
    "                \n",
    "        Xtrain, Ytrain = X.iloc[train_inds, :], y[train_inds]\n",
    "        Xtest, Ytest = X.iloc[test_inds, :],    y[test_inds]\n",
    "        \n",
    "        model.fit(Xtrain, Ytrain)\n",
    "        yhats = model.predict(Xtest)\n",
    "        \n",
    "        yhat_tracker['sample'+str(i+1)] = np.nan\n",
    "        yhat_tracker.iloc[test_inds, -1] = yhats\n",
    "        \n",
    "    return yhat_tracker"
   ]
  },
  {
   "cell_type": "markdown",
   "metadata": {},
   "source": [
    "---\n",
    "\n",
    "### Create different predictor datasets\n",
    "\n",
    "To see what happens to bias and variance as the predictors change, create a few versions of X that have different numbers of predictors in them.\n",
    "\n",
    "For example, one could have all the other variables, and another one could be predicting only using private vs. public."
   ]
  },
  {
   "cell_type": "code",
   "execution_count": 56,
   "metadata": {
    "collapsed": false
   },
   "outputs": [],
   "source": [
    "# get every combination of 3 features (i.e. n Choose k ) \n",
    "# and add them together to create a new feature than add it to X\n",
    "overfit_formula = '~ ('+' + '.join(featurenames)+')**3 -1'\n",
    "X_overfit = patsy.dmatrix(overfit_formula, data=X, return_type='dataframe')\n",
    "\n",
    "# only look at whether the school is public or private\n",
    "X_small = X[['private']]"
   ]
  },
  {
   "cell_type": "code",
   "execution_count": 72,
   "metadata": {
    "collapsed": false
   },
   "outputs": [
    {
     "data": {
      "text/html": [
       "<div>\n",
       "<table border=\"1\" class=\"dataframe\">\n",
       "  <thead>\n",
       "    <tr style=\"text-align: right;\">\n",
       "      <th></th>\n",
       "      <th>private</th>\n",
       "      <th>apps</th>\n",
       "      <th>accept</th>\n",
       "      <th>enroll</th>\n",
       "      <th>top10perc</th>\n",
       "      <th>top25perc</th>\n",
       "      <th>f_undergrad</th>\n",
       "      <th>p_undergrad</th>\n",
       "      <th>outstate</th>\n",
       "      <th>room_board</th>\n",
       "      <th>...</th>\n",
       "      <th>phd:terminal:s_f_ratio</th>\n",
       "      <th>phd:terminal:perc_alumni</th>\n",
       "      <th>phd:terminal:expend</th>\n",
       "      <th>phd:s_f_ratio:perc_alumni</th>\n",
       "      <th>phd:s_f_ratio:expend</th>\n",
       "      <th>phd:perc_alumni:expend</th>\n",
       "      <th>terminal:s_f_ratio:perc_alumni</th>\n",
       "      <th>terminal:s_f_ratio:expend</th>\n",
       "      <th>terminal:perc_alumni:expend</th>\n",
       "      <th>s_f_ratio:perc_alumni:expend</th>\n",
       "    </tr>\n",
       "  </thead>\n",
       "  <tbody>\n",
       "    <tr>\n",
       "      <th>0</th>\n",
       "      <td>1.0</td>\n",
       "      <td>1660.0</td>\n",
       "      <td>1232.0</td>\n",
       "      <td>721.0</td>\n",
       "      <td>23.0</td>\n",
       "      <td>52.0</td>\n",
       "      <td>2885.0</td>\n",
       "      <td>537.0</td>\n",
       "      <td>7440.0</td>\n",
       "      <td>3300.0</td>\n",
       "      <td>...</td>\n",
       "      <td>98826.0</td>\n",
       "      <td>65520.0</td>\n",
       "      <td>38443860.0</td>\n",
       "      <td>15204.0</td>\n",
       "      <td>8920947.0</td>\n",
       "      <td>5914440.0</td>\n",
       "      <td>16941.6</td>\n",
       "      <td>9940483.8</td>\n",
       "      <td>6590376.0</td>\n",
       "      <td>1529305.2</td>\n",
       "    </tr>\n",
       "    <tr>\n",
       "      <th>1</th>\n",
       "      <td>1.0</td>\n",
       "      <td>2186.0</td>\n",
       "      <td>1924.0</td>\n",
       "      <td>512.0</td>\n",
       "      <td>16.0</td>\n",
       "      <td>29.0</td>\n",
       "      <td>2683.0</td>\n",
       "      <td>1227.0</td>\n",
       "      <td>12280.0</td>\n",
       "      <td>6450.0</td>\n",
       "      <td>...</td>\n",
       "      <td>10614.0</td>\n",
       "      <td>13920.0</td>\n",
       "      <td>9158490.0</td>\n",
       "      <td>5660.8</td>\n",
       "      <td>3724452.6</td>\n",
       "      <td>4884528.0</td>\n",
       "      <td>5856.0</td>\n",
       "      <td>3852882.0</td>\n",
       "      <td>5052960.0</td>\n",
       "      <td>2054870.4</td>\n",
       "    </tr>\n",
       "    <tr>\n",
       "      <th>2</th>\n",
       "      <td>1.0</td>\n",
       "      <td>1428.0</td>\n",
       "      <td>1097.0</td>\n",
       "      <td>336.0</td>\n",
       "      <td>22.0</td>\n",
       "      <td>50.0</td>\n",
       "      <td>1036.0</td>\n",
       "      <td>99.0</td>\n",
       "      <td>11250.0</td>\n",
       "      <td>3750.0</td>\n",
       "      <td>...</td>\n",
       "      <td>45124.2</td>\n",
       "      <td>104940.0</td>\n",
       "      <td>30555030.0</td>\n",
       "      <td>20511.0</td>\n",
       "      <td>5972119.5</td>\n",
       "      <td>13888650.0</td>\n",
       "      <td>25542.0</td>\n",
       "      <td>7436979.0</td>\n",
       "      <td>17295300.0</td>\n",
       "      <td>3380445.0</td>\n",
       "    </tr>\n",
       "    <tr>\n",
       "      <th>3</th>\n",
       "      <td>1.0</td>\n",
       "      <td>417.0</td>\n",
       "      <td>349.0</td>\n",
       "      <td>137.0</td>\n",
       "      <td>60.0</td>\n",
       "      <td>89.0</td>\n",
       "      <td>510.0</td>\n",
       "      <td>63.0</td>\n",
       "      <td>12960.0</td>\n",
       "      <td>5450.0</td>\n",
       "      <td>...</td>\n",
       "      <td>68714.8</td>\n",
       "      <td>330188.0</td>\n",
       "      <td>169698784.0</td>\n",
       "      <td>26210.8</td>\n",
       "      <td>13470934.4</td>\n",
       "      <td>64730464.0</td>\n",
       "      <td>27635.3</td>\n",
       "      <td>14203050.4</td>\n",
       "      <td>68248424.0</td>\n",
       "      <td>5417658.4</td>\n",
       "    </tr>\n",
       "    <tr>\n",
       "      <th>4</th>\n",
       "      <td>1.0</td>\n",
       "      <td>193.0</td>\n",
       "      <td>146.0</td>\n",
       "      <td>55.0</td>\n",
       "      <td>16.0</td>\n",
       "      <td>44.0</td>\n",
       "      <td>249.0</td>\n",
       "      <td>869.0</td>\n",
       "      <td>7560.0</td>\n",
       "      <td>4120.0</td>\n",
       "      <td>...</td>\n",
       "      <td>65116.8</td>\n",
       "      <td>10944.0</td>\n",
       "      <td>59765184.0</td>\n",
       "      <td>1808.8</td>\n",
       "      <td>9877856.8</td>\n",
       "      <td>1660144.0</td>\n",
       "      <td>1713.6</td>\n",
       "      <td>9357969.6</td>\n",
       "      <td>1572768.0</td>\n",
       "      <td>259943.6</td>\n",
       "    </tr>\n",
       "  </tbody>\n",
       "</table>\n",
       "<p>5 rows × 833 columns</p>\n",
       "</div>"
      ],
      "text/plain": [
       "   private    apps  accept  enroll  top10perc  top25perc  f_undergrad  \\\n",
       "0      1.0  1660.0  1232.0   721.0       23.0       52.0       2885.0   \n",
       "1      1.0  2186.0  1924.0   512.0       16.0       29.0       2683.0   \n",
       "2      1.0  1428.0  1097.0   336.0       22.0       50.0       1036.0   \n",
       "3      1.0   417.0   349.0   137.0       60.0       89.0        510.0   \n",
       "4      1.0   193.0   146.0    55.0       16.0       44.0        249.0   \n",
       "\n",
       "   p_undergrad  outstate  room_board              ...               \\\n",
       "0        537.0    7440.0      3300.0              ...                \n",
       "1       1227.0   12280.0      6450.0              ...                \n",
       "2         99.0   11250.0      3750.0              ...                \n",
       "3         63.0   12960.0      5450.0              ...                \n",
       "4        869.0    7560.0      4120.0              ...                \n",
       "\n",
       "   phd:terminal:s_f_ratio  phd:terminal:perc_alumni  phd:terminal:expend  \\\n",
       "0                 98826.0                   65520.0           38443860.0   \n",
       "1                 10614.0                   13920.0            9158490.0   \n",
       "2                 45124.2                  104940.0           30555030.0   \n",
       "3                 68714.8                  330188.0          169698784.0   \n",
       "4                 65116.8                   10944.0           59765184.0   \n",
       "\n",
       "   phd:s_f_ratio:perc_alumni  phd:s_f_ratio:expend  phd:perc_alumni:expend  \\\n",
       "0                    15204.0             8920947.0               5914440.0   \n",
       "1                     5660.8             3724452.6               4884528.0   \n",
       "2                    20511.0             5972119.5              13888650.0   \n",
       "3                    26210.8            13470934.4              64730464.0   \n",
       "4                     1808.8             9877856.8               1660144.0   \n",
       "\n",
       "   terminal:s_f_ratio:perc_alumni  terminal:s_f_ratio:expend  \\\n",
       "0                         16941.6                  9940483.8   \n",
       "1                          5856.0                  3852882.0   \n",
       "2                         25542.0                  7436979.0   \n",
       "3                         27635.3                 14203050.4   \n",
       "4                          1713.6                  9357969.6   \n",
       "\n",
       "   terminal:perc_alumni:expend  s_f_ratio:perc_alumni:expend  \n",
       "0                    6590376.0                     1529305.2  \n",
       "1                    5052960.0                     2054870.4  \n",
       "2                   17295300.0                     3380445.0  \n",
       "3                   68248424.0                     5417658.4  \n",
       "4                    1572768.0                      259943.6  \n",
       "\n",
       "[5 rows x 833 columns]"
      ]
     },
     "execution_count": 72,
     "metadata": {},
     "output_type": "execute_result"
    }
   ],
   "source": [
    "X_overfit.head()"
   ]
  },
  {
   "cell_type": "markdown",
   "metadata": {},
   "source": [
    "---\n",
    "\n",
    "### Use the predict function you wrote above to get the predicted values for each version of the data\n",
    "\n",
    "Run each of your X through the function with the y target vector. As you recall the output of your function has the true values of y in a column and then predicted values of y in other columns for the different train-test splits"
   ]
  },
  {
   "cell_type": "code",
   "execution_count": 57,
   "metadata": {
    "collapsed": false
   },
   "outputs": [
    {
     "name": "stdout",
     "output_type": "stream",
     "text": [
      "(777, 17) (777, 1) (777, 833)\n",
      "(777, 101) (777, 101) (777, 101)\n"
     ]
    }
   ],
   "source": [
    "yhats_full = predict_from_samples(linreg, X, gradrate)\n",
    "yhats_small = predict_from_samples(linreg, X_small, gradrate)\n",
    "yhats_over = predict_from_samples(linreg, X_overfit, gradrate)\n",
    "\n",
    "print X.shape, X_small.shape, X_overfit.shape\n",
    "print yhats_full.shape, yhats_small.shape, yhats_over.shape"
   ]
  },
  {
   "cell_type": "code",
   "execution_count": 58,
   "metadata": {
    "collapsed": false
   },
   "outputs": [
    {
     "data": {
      "text/html": [
       "<div>\n",
       "<table border=\"1\" class=\"dataframe\">\n",
       "  <thead>\n",
       "    <tr style=\"text-align: right;\">\n",
       "      <th></th>\n",
       "      <th>ytrue</th>\n",
       "      <th>sample1</th>\n",
       "      <th>sample2</th>\n",
       "      <th>sample3</th>\n",
       "      <th>sample4</th>\n",
       "      <th>sample5</th>\n",
       "      <th>sample6</th>\n",
       "      <th>sample7</th>\n",
       "      <th>sample8</th>\n",
       "      <th>sample9</th>\n",
       "      <th>...</th>\n",
       "      <th>sample91</th>\n",
       "      <th>sample92</th>\n",
       "      <th>sample93</th>\n",
       "      <th>sample94</th>\n",
       "      <th>sample95</th>\n",
       "      <th>sample96</th>\n",
       "      <th>sample97</th>\n",
       "      <th>sample98</th>\n",
       "      <th>sample99</th>\n",
       "      <th>sample100</th>\n",
       "    </tr>\n",
       "  </thead>\n",
       "  <tbody>\n",
       "    <tr>\n",
       "      <th>0</th>\n",
       "      <td>60</td>\n",
       "      <td>53.731563</td>\n",
       "      <td>NaN</td>\n",
       "      <td>NaN</td>\n",
       "      <td>55.971737</td>\n",
       "      <td>NaN</td>\n",
       "      <td>56.732874</td>\n",
       "      <td>NaN</td>\n",
       "      <td>NaN</td>\n",
       "      <td>NaN</td>\n",
       "      <td>...</td>\n",
       "      <td>NaN</td>\n",
       "      <td>NaN</td>\n",
       "      <td>NaN</td>\n",
       "      <td>55.643294</td>\n",
       "      <td>NaN</td>\n",
       "      <td>55.916540</td>\n",
       "      <td>NaN</td>\n",
       "      <td>NaN</td>\n",
       "      <td>59.790594</td>\n",
       "      <td>NaN</td>\n",
       "    </tr>\n",
       "    <tr>\n",
       "      <th>1</th>\n",
       "      <td>56</td>\n",
       "      <td>67.639891</td>\n",
       "      <td>64.813772</td>\n",
       "      <td>NaN</td>\n",
       "      <td>65.098489</td>\n",
       "      <td>62.157157</td>\n",
       "      <td>NaN</td>\n",
       "      <td>NaN</td>\n",
       "      <td>63.215912</td>\n",
       "      <td>63.916046</td>\n",
       "      <td>...</td>\n",
       "      <td>64.927190</td>\n",
       "      <td>62.846937</td>\n",
       "      <td>NaN</td>\n",
       "      <td>NaN</td>\n",
       "      <td>NaN</td>\n",
       "      <td>NaN</td>\n",
       "      <td>NaN</td>\n",
       "      <td>NaN</td>\n",
       "      <td>NaN</td>\n",
       "      <td>NaN</td>\n",
       "    </tr>\n",
       "    <tr>\n",
       "      <th>2</th>\n",
       "      <td>54</td>\n",
       "      <td>NaN</td>\n",
       "      <td>NaN</td>\n",
       "      <td>NaN</td>\n",
       "      <td>NaN</td>\n",
       "      <td>NaN</td>\n",
       "      <td>67.541697</td>\n",
       "      <td>NaN</td>\n",
       "      <td>NaN</td>\n",
       "      <td>NaN</td>\n",
       "      <td>...</td>\n",
       "      <td>NaN</td>\n",
       "      <td>NaN</td>\n",
       "      <td>67.584771</td>\n",
       "      <td>NaN</td>\n",
       "      <td>NaN</td>\n",
       "      <td>NaN</td>\n",
       "      <td>NaN</td>\n",
       "      <td>NaN</td>\n",
       "      <td>67.270221</td>\n",
       "      <td>NaN</td>\n",
       "    </tr>\n",
       "    <tr>\n",
       "      <th>3</th>\n",
       "      <td>59</td>\n",
       "      <td>NaN</td>\n",
       "      <td>NaN</td>\n",
       "      <td>NaN</td>\n",
       "      <td>NaN</td>\n",
       "      <td>NaN</td>\n",
       "      <td>78.132323</td>\n",
       "      <td>NaN</td>\n",
       "      <td>NaN</td>\n",
       "      <td>76.978325</td>\n",
       "      <td>...</td>\n",
       "      <td>NaN</td>\n",
       "      <td>77.208827</td>\n",
       "      <td>NaN</td>\n",
       "      <td>NaN</td>\n",
       "      <td>NaN</td>\n",
       "      <td>77.612767</td>\n",
       "      <td>NaN</td>\n",
       "      <td>NaN</td>\n",
       "      <td>74.549321</td>\n",
       "      <td>77.890467</td>\n",
       "    </tr>\n",
       "    <tr>\n",
       "      <th>4</th>\n",
       "      <td>15</td>\n",
       "      <td>NaN</td>\n",
       "      <td>NaN</td>\n",
       "      <td>NaN</td>\n",
       "      <td>NaN</td>\n",
       "      <td>NaN</td>\n",
       "      <td>NaN</td>\n",
       "      <td>NaN</td>\n",
       "      <td>50.810827</td>\n",
       "      <td>NaN</td>\n",
       "      <td>...</td>\n",
       "      <td>53.172176</td>\n",
       "      <td>52.303726</td>\n",
       "      <td>NaN</td>\n",
       "      <td>52.480635</td>\n",
       "      <td>53.193393</td>\n",
       "      <td>51.783628</td>\n",
       "      <td>NaN</td>\n",
       "      <td>NaN</td>\n",
       "      <td>NaN</td>\n",
       "      <td>53.653503</td>\n",
       "    </tr>\n",
       "  </tbody>\n",
       "</table>\n",
       "<p>5 rows × 101 columns</p>\n",
       "</div>"
      ],
      "text/plain": [
       "   ytrue    sample1    sample2  sample3    sample4    sample5    sample6  \\\n",
       "0     60  53.731563        NaN      NaN  55.971737        NaN  56.732874   \n",
       "1     56  67.639891  64.813772      NaN  65.098489  62.157157        NaN   \n",
       "2     54        NaN        NaN      NaN        NaN        NaN  67.541697   \n",
       "3     59        NaN        NaN      NaN        NaN        NaN  78.132323   \n",
       "4     15        NaN        NaN      NaN        NaN        NaN        NaN   \n",
       "\n",
       "   sample7    sample8    sample9    ...       sample91   sample92   sample93  \\\n",
       "0      NaN        NaN        NaN    ...            NaN        NaN        NaN   \n",
       "1      NaN  63.215912  63.916046    ...      64.927190  62.846937        NaN   \n",
       "2      NaN        NaN        NaN    ...            NaN        NaN  67.584771   \n",
       "3      NaN        NaN  76.978325    ...            NaN  77.208827        NaN   \n",
       "4      NaN  50.810827        NaN    ...      53.172176  52.303726        NaN   \n",
       "\n",
       "    sample94   sample95   sample96  sample97  sample98   sample99  sample100  \n",
       "0  55.643294        NaN  55.916540       NaN       NaN  59.790594        NaN  \n",
       "1        NaN        NaN        NaN       NaN       NaN        NaN        NaN  \n",
       "2        NaN        NaN        NaN       NaN       NaN  67.270221        NaN  \n",
       "3        NaN        NaN  77.612767       NaN       NaN  74.549321  77.890467  \n",
       "4  52.480635  53.193393  51.783628       NaN       NaN        NaN  53.653503  \n",
       "\n",
       "[5 rows x 101 columns]"
      ]
     },
     "execution_count": 58,
     "metadata": {},
     "output_type": "execute_result"
    }
   ],
   "source": [
    "yhats_full.head(5)"
   ]
  },
  {
   "cell_type": "markdown",
   "metadata": {},
   "source": [
    "---\n",
    "\n",
    "### Calculate bias and variance \n",
    "\n",
    "I've given you two functions below to calculate bias and variance if they are given the dataframe that has the first column as the true y values and the other column the predicted y values at each train/test split iteration.\n",
    "\n",
    "You can use these to calculate the bias and variance of your different predictor variables. If you have more predictors variance of prediction should generally go up and bias goes down. Likewise, if you have few predictors variance should go down and bias goes up.\n",
    "\n",
    "If you have an insanely bad model, they both might go up a lot!"
   ]
  },
  {
   "cell_type": "code",
   "execution_count": 59,
   "metadata": {
    "collapsed": true
   },
   "outputs": [],
   "source": [
    "def calculate_bias_sq(yhats_df):\n",
    "    # Take out the true values of y that are in the first column:\n",
    "    ytrue = yhats_df.iloc[:,0].values\n",
    "    \n",
    "    # Calculate the mean of the predictions, averaged across the columns.\n",
    "    # So, all of the predictions for the true y at row 0 would be averaged together\n",
    "    # and so on for all the rows.\n",
    "    yhat_means = yhats_df.iloc[:,1:].mean(axis=1).values\n",
    "    \n",
    "    # Subtract the true value of y from the mean of the predicted values, and square it.\n",
    "    elementwise_bias_sq = (yhat_means - ytrue)**2\n",
    "    \n",
    "    # Take the mean of those squared bias values (across all y)\n",
    "    mean_bias_sq = np.mean(elementwise_bias_sq)\n",
    "    return mean_bias_sq\n",
    "\n",
    "\n",
    "def calculate_variance(yhats_df):\n",
    "    # Calculate the mean of the predicted y's across the columns (mean of yhat for each row)\n",
    "    yhats_means = yhats_df.iloc[:,1:].mean(axis=1)\n",
    "    \n",
    "    # subtract the mean of the yhats from the original yhat values (for each row)\n",
    "    # and square the result. \n",
    "    yhats_devsq = yhats_df.iloc[:,1:].subtract(yhats_means, axis=0)**2\n",
    "    \n",
    "    # Take the mean of the squared deviations from the mean, then \n",
    "    # take the mean of those to get the overall variance across the y observations\n",
    "    yhats_devsq_means = yhats_devsq.mean(axis=1).values\n",
    "    return np.mean(yhats_devsq_means)\n"
   ]
  },
  {
   "cell_type": "code",
   "execution_count": 67,
   "metadata": {
    "collapsed": false
   },
   "outputs": [
    {
     "name": "stdout",
     "output_type": "stream",
     "text": [
      "168.785907505 2.5479186244\n"
     ]
    }
   ],
   "source": [
    "print calculate_bias_sq(yhats_full), calculate_variance(yhats_full)"
   ]
  },
  {
   "cell_type": "code",
   "execution_count": 69,
   "metadata": {
    "collapsed": false
   },
   "outputs": [
    {
     "name": "stdout",
     "output_type": "stream",
     "text": [
      "262.732308859 0.3196221652\n"
     ]
    }
   ],
   "source": [
    "print calculate_bias_sq(yhats_small), calculate_variance(yhats_small)"
   ]
  },
  {
   "cell_type": "code",
   "execution_count": 70,
   "metadata": {
    "collapsed": false
   },
   "outputs": [
    {
     "name": "stdout",
     "output_type": "stream",
     "text": [
      "175528.668155 4874268.55387\n"
     ]
    }
   ],
   "source": [
    "print calculate_bias_sq(yhats_over), calculate_variance(yhats_over)"
   ]
  },
  {
   "cell_type": "markdown",
   "metadata": {},
   "source": [
    "## Learning Curves\n",
    "\n",
    "Plot a learning curve for each of your 3 different predictors  (ie. you should have created 3 different design matricies X, each with a different sete of predictors).\n",
    "\n",
    "Use Sklearn's built-in learning curves funciton: [learning_curve](http://scikit-learn.org/stable/modules/generated/sklearn.model_selection.learning_curve.html#sklearn.model_selection.learning_curve)   **Yes, you should read the docs.** \n",
    "\n",
    "Sklearn's learning_curve will do two things for you:\n",
    "\n",
    "1. It will cross validate your model for you\n",
    "2. It will return: train_sizes_abs, train_scores, and test_scores which you can use to plot a learning curve\n",
    "\n",
    "\n",
    "For each of your 3 design matricies: \n",
    "\n",
    "1. Use learning_curve with these parameters:  \n",
    "\n",
    "        train_sizes=np.arange(0.1, 1.1, 0.1), \n",
    "        scoring = 'neg_mean_squared_error',\n",
    "        cv=10, \n",
    "        n_jobs=3\n",
    "        \n",
    "        Make sure you understand what each of these parameters are doing!\n",
    "    \n",
    "2. Take the sum of your train_errors and test_errors along their columns. **Explain why this makes sense!** Hint: you specified 10 CV iterations, and 10 train_size which will iterate through the training sizes for each CV instance. So you'll recieve a 10x10 matrix for each error vector from learning_curve.\n",
    "\n",
    "3. Multiply your results train_errors and test_errors from part 2 by negative one. \n",
    "\n",
    "4. Plot your learning curve and label your plot\n",
    "\n",
    "5. Make some observations about how well your model performs (i.e. underfitting, overfitting, overtraining, ...) Do the bias/variance calculates you made above provide any insight about your learning curves?"
   ]
  },
  {
   "cell_type": "code",
   "execution_count": 74,
   "metadata": {
    "collapsed": true
   },
   "outputs": [],
   "source": [
    "from sklearn.model_selection import learning_curve"
   ]
  },
  {
   "cell_type": "code",
   "execution_count": 147,
   "metadata": {
    "collapsed": false
   },
   "outputs": [
    {
     "data": {
      "image/png": "[encoded data removed]",
      "text/plain": [
       "<matplotlib.figure.Figure at 0x114c6e950>"
      ]
     },
     "metadata": {
      "image/png": {
       "height": 381,
       "width": 594
      }
     },
     "output_type": "display_data"
    }
   ],
   "source": [
    "train_size, train_errors, test_errors = \\\n",
    "learning_curve(LinearRegression(),X_small, gradrate, train_sizes=np.arange(0.1, 1.1, 0.1),\n",
    "               scoring = 'neg_mean_squared_error',cv=10, n_jobs=3)\n",
    "\n",
    "train_e = -1*np.sum(train_errors, axis = 0)\n",
    "test_e = -1*np.sum(test_errors, axis = 0)\n",
    "\n",
    "plt.plot(train_size, train_e, 'b', label = 'train');\n",
    "plt.plot(train_size, test_e, 'r', label = 'test');\n",
    "plt.legend();"
   ]
  },
  {
   "cell_type": "code",
   "execution_count": 148,
   "metadata": {
    "collapsed": false
   },
   "outputs": [
    {
     "data": {
      "image/png": "[encoded data removed]",
      "text/plain": [
       "<matplotlib.figure.Figure at 0x1148c1850>"
      ]
     },
     "metadata": {
      "image/png": {
       "height": 381,
       "width": 601
      }
     },
     "output_type": "display_data"
    }
   ],
   "source": [
    "train_size, train_errors, test_errors = \\\n",
    "learning_curve(LinearRegression(),X, gradrate, train_sizes=np.arange(10,110,10),\n",
    "               scoring = 'neg_mean_squared_error',cv=10, n_jobs=3)\n",
    "\n",
    "train_e = -1*np.sum(train_errors, axis = 0)\n",
    "test_e = -1*np.sum(test_errors, axis = 0)\n",
    "\n",
    "plt.plot(train_size, train_e, 'b', label = 'train');\n",
    "plt.plot(train_size, test_e, 'r', label = 'test');\n",
    "plt.legend();"
   ]
  },
  {
   "cell_type": "code",
   "execution_count": 149,
   "metadata": {
    "collapsed": false
   },
   "outputs": [
    {
     "data": {
      "image/png": "[encoded data removed]",
      "text/plain": [
       "<matplotlib.figure.Figure at 0x1149558d0>"
      ]
     },
     "metadata": {
      "image/png": {
       "height": 388,
       "width": 582
      }
     },
     "output_type": "display_data"
    }
   ],
   "source": [
    "train_size, train_errors, test_errors = \\\n",
    "learning_curve(LinearRegression(),X_overfit, gradrate, train_sizes=np.arange(10,110,10),\n",
    "               scoring = 'neg_mean_squared_error',cv=10, n_jobs=3)\n",
    "\n",
    "train_e = -1*np.sum(train_errors, axis = 0)\n",
    "test_e = -1*np.sum(test_errors, axis = 0)\n",
    "\n",
    "plt.plot(train_size, train_e, 'b', label = 'train');\n",
    "plt.plot(train_size, test_e, 'r', label = 'test');\n",
    "plt.legend();"
   ]
  }
 ],
 "metadata": {
  "anaconda-cloud": {},
  "kernelspec": {
   "display_name": "Python [default]",
   "language": "python",
   "name": "python2"
  },
  "language_info": {
   "codemirror_mode": {
    "name": "ipython",
    "version": 2
   },
   "file_extension": ".py",
   "mimetype": "text/x-python",
   "name": "python",
   "nbconvert_exporter": "python",
   "pygments_lexer": "ipython2",
   "version": "2.7.12"
  }
 },
 "nbformat": 4,
 "nbformat_minor": 0
}
