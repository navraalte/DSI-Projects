{
 "cells": [
  {
   "cell_type": "markdown",
   "metadata": {},
   "source": [
    "\n",
    "<img src=\"http://i.imgur.com/Of6S8K9.png\">\n"
   ]
  },
  {
   "cell_type": "markdown",
   "metadata": {},
   "source": [
    "### Lesson Objectives\n",
    "\n",
    "By the end of this lesson, you will know how to: \n",
    "\n",
    "- Apply gradient descent and its variants to train machine learning algorithms \n",
    "\n",
    "- Use `SGDClassifier` in sklearn to train models on large datasets \n",
    "\n",
    "- Implement Binary Logistic Regression from scratch using SGD \n",
    "\n",
    "\n",
    "\n",
    "### Outline\n",
    "- Practice with Gradients \n",
    "- Indpendent Practice: Gradient Descent on Linear Regression \n",
    "- Gradient Descent vs. SGD vs. Batch Gradient Descent \n",
    "- Code Along: Gradient Descent on Logistic Regression\n",
    "- Lab: Practice with `SGDClassifier`"
   ]
  },
  {
   "cell_type": "markdown",
   "metadata": {},
   "source": [
    "## This lessons on builds on: \n",
    "\n",
    "- Derivatives, Gradients\n",
    "- Logistic Regression"
   ]
  },
  {
   "cell_type": "markdown",
   "metadata": {},
   "source": [
    "### Review: Supervised Machine Learning\n",
    "<img src = http://cs231n.github.io/assets/dataflow.jpeg> \n",
    "<img src = http://cs231n.github.io/assets/svmvssoftmax.png>"
   ]
  },
  {
   "cell_type": "markdown",
   "metadata": {},
   "source": [
    "--- \n",
    "### Review: Logistic Regression\n",
    "\n",
    "$$ P(y=1| x) = h_{\\theta}(x) = \\frac{1}{1 + \\exp(-\\theta^\\top x)} \\equiv \\sigma(\\theta^\\top x) $$\n",
    "\n",
    "$$ P(y=0| x) = 1 - P(y=1|x) = 1 - h_\\theta(x) $$\n",
    "\n",
    "\n",
    "#### Log-Loss Function: \n",
    "\n",
    "$$ J(\\theta) = - \\sum_i \\left(y^{(i)} \\log( h_\\theta(x^{(i)}) ) + (1 - y^{(i)}) \\log( 1 - h_\\theta(x^{(i)}) ) \\right) $$\n",
    "\n"
   ]
  },
  {
   "cell_type": "markdown",
   "metadata": {},
   "source": [
    "\n",
    "> **Check**: Given a loss function, what are some (non-derivative based) ways you can think of to find a minimum of that loss function? \n",
    "\n",
    "--- \n",
    "<a href=https://betterexplained.com/articles/calculus-building-intuition-for-the-derivative/> Intuition for the Derivative </a>\n",
    "\n",
    "<a href=https://betterexplained.com/articles/vector-calculus-understanding-the-gradient/> Understand Gradients </a>\n",
    "\n",
    "> **Check**:  Pair up with a partner and define what gradients, derivatives in an intuitive manner and why are they useful to us. \n",
    "\n"
   ]
  },
  {
   "cell_type": "markdown",
   "metadata": {},
   "source": [
    "### Intuition for Gradients: Cooking the Pillsbury Dough Boy\n",
    "\n",
    "<img src= https://betterexplained.com/wp-content/uploads/gradient/gradient_microwave_1_1.jpg>"
   ]
  },
  {
   "cell_type": "markdown",
   "metadata": {},
   "source": [
    "# Gradients\n",
    "\n",
    "The [gradient of a function](https://en.wikipedia.org/wiki/Gradient) is a multivariate derivate with a crucial property -- the gradient points in the direction of the greatest rate of increase of the function. Many physical processes can be modeled by gradient and gradient flows, such as the flow of water down a mountain and the movement of charged particles in electromagnetic potentials.\n",
    "\n",
    "As data scientists we use gradient descent to maximize or minimize various functions. For example, to find a good model fit we could attempt to minimize a loss function by following the gradient through many iterations in parameter-space. In particular, gradient descent can be used for [linear regression](https://en.wikipedia.org/wiki/Gradient_descent#Solution_of_a_linear_system). Let's take a close look.\n",
    "\n",
    "If we want to minimize a multivariate function $f(\\mathbf{a})$ -- typically a function of our parameters $\\mathbf{a} = (a_1, \\ldots, a_n)$ computed on our dataset -- we start with a guess $\\mathbf{a}_1$ and compute the next step using the gradient, denoted by $\\nabla f$:\n",
    "\n",
    "$$ \\mathbf{a}_2 = \\mathbf{a}_1 - \\lambda \\nabla f(\\mathbf{a}_1)$$\n",
    "\n",
    "Note the differences in notation carefully -- bold face indicates a vector of parameters. The variable $\\lambda$ is a parameter that controls the step size and is sometimes called the _learning rate_. Essentially we are taking a local linear approximation to our function, stepping a small bit in the direction of greatest change, and computing a new linear approximation to the function. We repeat the process until we converge to a minimum:\n",
    "\n",
    "$$ \\mathbf{a}_{n+1} = \\mathbf{a}_n - \\lambda \\nabla f(\\mathbf{a}_n)$$\n",
    "\n",
    "This is the _gradient descent_ algorithm. It is used for a variety of machine learning models including some that you will learn about soon, such as logistic regression, support vector machines, and neural networks.\n",
    "\n",
    "![](https://upload.wikimedia.org/wikipedia/commons/7/79/Gradient_descent.png)\n"
   ]
  },
  {
   "cell_type": "markdown",
   "metadata": {},
   "source": [
    "## Practice with Gradients"
   ]
  },
  {
   "cell_type": "code",
   "execution_count": 24,
   "metadata": {
    "collapsed": false
   },
   "outputs": [
    {
     "data": {
      "image/png": "[encoded data removed]",
      "text/plain": [
       "<matplotlib.figure.Figure at 0x10f4aa5d0>"
      ]
     },
     "metadata": {},
     "output_type": "display_data"
    }
   ],
   "source": [
    "def function_to_optimize(x, y):\n",
    "    return 0.5 * (x **2 + y **2 )\n",
    "\n",
    "def gradient_fn(x, y):\n",
    "    pass # to do in class \n",
    "\n",
    "def gradient_descent(gradient_fn, x0, y0, l=0.1):\n",
    "    vector = np.array([x0, y0])\n",
    "    gradient = gradient_fn(x0, y0)\n",
    "    return vector - l * np.array(gradient)\n",
    "    \n",
    "    \n",
    "    \n",
    "    \n",
    "\n",
    "import numpy as np\n",
    "import matplotlib.pyplot as plt\n",
    "\n",
    "delta = 0.025\n",
    "\n",
    "x = y = np.arange(-3.0, 3.01, delta)\n",
    "X, Y = np.meshgrid(x, y)\n",
    "\n",
    "Z = function_to_optimize(X, Y)\n",
    "\n",
    "CS = plt.contourf(X, Y, Z)\n",
    "plt.colorbar()\n",
    "plt.show()"
   ]
  },
  {
   "cell_type": "code",
   "execution_count": 42,
   "metadata": {
    "collapsed": false
   },
   "outputs": [
    {
     "data": {
      "image/png": "[encoded data removed]",
      "text/plain": [
       "<matplotlib.figure.Figure at 0x10f56e210>"
      ]
     },
     "metadata": {},
     "output_type": "display_data"
    },
    {
     "name": "stdout",
     "output_type": "stream",
     "text": [
      "4.49754969963e-44 4.72242718461e-44\n"
     ]
    }
   ],
   "source": [
    "delta = 0.025\n",
    "x = y = np.arange(-3.0, 3.01, delta)\n",
    "X, Y = np.meshgrid(x, y)\n",
    "Z = function_to_optimize(X, Y)\n",
    "CS = plt.contourf(X, Y, Z)\n",
    "\n",
    "xs = [2]\n",
    "ys = [2.1]\n",
    "for i in range(10000):\n",
    "    x, y = gradient_descent(gradient, xs[-1], ys[-1], l=0.01)\n",
    "    xs.append(x)\n",
    "    ys.append(y)\n",
    "\n",
    "plt.scatter(xs, ys, color=\"black\")\n",
    "plt.plot(xs, ys, color=\"black\")\n",
    "ax = plt.gca()\n",
    "ax.arrow(xs[-2], ys[-2], xs[-1] - xs[-2], ys[-1] - ys[-2], head_width=0.5, head_length=0.3, fc='k', ec='k')\n",
    "plt.show()\n",
    "print xs[-1], ys[-1]"
   ]
  },
  {
   "cell_type": "code",
   "execution_count": 39,
   "metadata": {
    "collapsed": false
   },
   "outputs": [
    {
     "data": {
      "image/png": "[encoded data removed]",
      "text/plain": [
       "<matplotlib.figure.Figure at 0x10cde3a90>"
      ]
     },
     "metadata": {},
     "output_type": "display_data"
    }
   ],
   "source": [
    "delta = 0.025\n",
    "x = y = np.arange(-3.0, 3.01, delta)\n",
    "X, Y = np.meshgrid(x, y)\n",
    "Z = function_to_optimize(X, Y)\n",
    "CS = plt.contourf(X, Y, Z)\n",
    "\n",
    "epochs = 5\n",
    "\n",
    "for (i, j) in [(-1, 2.1), (1, 2.1), (2, 0.4), (-2, -0.4), (-1, -2.1), (1, -2.1)]:\n",
    "    xs = [i]\n",
    "    ys = [j]\n",
    "    for i in range(epochs):\n",
    "        x, y = gradient_descent(gradient, xs[-1], ys[-1], l=1)\n",
    "        xs.append(x)\n",
    "        ys.append(y)\n",
    "    \n",
    "    ax = plt.scatter(xs, ys, color=\"black\")\n",
    "    ax = plt.gca()\n",
    "    ax.arrow(xs[1], ys[1], xs[3] - xs[1], ys[3] - ys[1], head_width=0.5, head_length=0.3, fc='k', ec='k')\n",
    "    plt.plot(xs, ys, color=\"black\")\n",
    "\n",
    "plt.show()"
   ]
  },
  {
   "cell_type": "markdown",
   "metadata": {},
   "source": [
    "### Exercise\n",
    "Here is a [nice example](http://math.stackexchange.com/questions/770622/gradient-descent-algorithm-always-converges-to-the-closest-local-optima) of when gradient descent gets stuck at a local minimum. Let's implement these functions and see that gradient descent gets stuck.\n",
    "\n",
    "The function is:\n",
    "$$f(x) = \\begin{cases}\n",
    "2 x^2 & \\quad \\text{if $x \\leq 1$}\\\\\n",
    "2  & \\quad \\text{else}\n",
    "\\end{cases}$$\n",
    "\n",
    "Walk throught the following code samples."
   ]
  },
  {
   "cell_type": "code",
   "execution_count": 62,
   "metadata": {
    "collapsed": true
   },
   "outputs": [],
   "source": [
    "def func(x):\n",
    "    if x <= 1:\n",
    "        return 2*x**2\n",
    "    else:\n",
    "        return 2\n",
    "    \n",
    "def gradient(x):\n",
    "    if x <= 1:\n",
    "        return 4*x\n",
    "    else:\n",
    "        return 0 \n",
    "\n",
    "def gradient_descent(x, l=0.1):\n",
    "    return x - l * gradient(x)\n",
    "\n",
    "def iterate(x0, n=10):\n",
    "    xs = [x0]\n",
    "    ys = [func(x0)]\n",
    "    for i in range(n):\n",
    "        x0 = gradient_descent(x0)\n",
    "        y0 = func(x0)\n",
    "        xs.append(x0)\n",
    "        ys.append(y0)\n",
    "    return xs, ys"
   ]
  },
  {
   "cell_type": "code",
   "execution_count": 63,
   "metadata": {
    "collapsed": false
   },
   "outputs": [
    {
     "data": {
      "text/plain": [
       "<matplotlib.collections.PathCollection at 0x10cda05d0>"
      ]
     },
     "execution_count": 63,
     "metadata": {},
     "output_type": "execute_result"
    },
    {
     "data": {
      "image/png": "[encoded data removed]",
      "text/plain": [
       "<matplotlib.figure.Figure at 0x10f8cd790>"
      ]
     },
     "metadata": {},
     "output_type": "display_data"
    }
   ],
   "source": [
    "%matplotlib inline\n",
    "xs = np.arange(-2, 3, 0.1)\n",
    "ys = map(func, xs)\n",
    "\n",
    "plt.figure(figsize=(10,8))\n",
    "plt.plot(xs, ys, alpha=0.5, ls='dashed')\n",
    "\n",
    "# Start gradient descent at x = -1.5\n",
    "epochs = 100\n",
    "xs2, ys2 = iterate(-1.5, n=epochs)\n",
    "plt.scatter(xs2, ys2, c='r', s=100)\n",
    "\n",
    "# Start gradient descent at x = 2\n",
    "xs3, ys3 = iterate(1, n=epochs)\n",
    "plt.scatter(xs3, ys3, c='y', s=300)"
   ]
  },
  {
   "cell_type": "markdown",
   "metadata": {},
   "source": [
    "### Exercise\n",
    "\n",
    "Similarly, use the function $f(x) = x^4 - 2* x^2 + x +1$ and apply gradient descent. If you need help with the derivative, you can use [Wolfram Alpha](http://www.wolframalpha.com/calculators/derivative-calculator/).\n",
    "\n",
    "Steps:\n",
    "* Plot the function and identify the two minima\n",
    "* Compute the derivative\n",
    "* Using gradient descent, find two starting points that converge to different minima\n",
    "\n",
    "Questions:\n",
    "* What does this tell you about the end result of gradient descent?\n",
    "* What are the implications for putting gradient descent into practice?"
   ]
  },
  {
   "cell_type": "code",
   "execution_count": 73,
   "metadata": {
    "collapsed": true
   },
   "outputs": [],
   "source": [
    "def func_2(x):\n",
    "    return x ** 4 - 2 * x ** 2 + x + 1\n",
    "    \n",
    "def gradient(x):\n",
    "    return 4 * x ** 3 - 4 * x + 1 \n",
    "\n",
    "def gradient_descent(x, l=0.1):\n",
    "    return x - l * gradient(x)\n",
    "\n",
    "def iterate(x0, n=10, lr=0.1):\n",
    "    xs = [x0]\n",
    "    ys = [func_2(x0)]\n",
    "    for i in range(n):\n",
    "        x0 = gradient_descent(x0, l=lr)\n",
    "        y0 = func_2(x0)\n",
    "        xs.append(x0)\n",
    "        ys.append(y0)\n",
    "    return xs, ys"
   ]
  },
  {
   "cell_type": "code",
   "execution_count": 78,
   "metadata": {
    "collapsed": false
   },
   "outputs": [
    {
     "data": {
      "text/plain": [
       "<matplotlib.collections.PathCollection at 0x10e5b3350>"
      ]
     },
     "execution_count": 78,
     "metadata": {},
     "output_type": "execute_result"
    },
    {
     "data": {
      "image/png": "[encoded data removed]",
      "text/plain": [
       "<matplotlib.figure.Figure at 0x10d554810>"
      ]
     },
     "metadata": {},
     "output_type": "display_data"
    }
   ],
   "source": [
    "%matplotlib inline\n",
    "xs = np.arange(-2, 2, 0.1)\n",
    "ys = map(func_2, xs)\n",
    "\n",
    "plt.figure(figsize=(10,8))\n",
    "plt.plot(xs, ys, alpha=0.5, ls='dashed')\n",
    "\n",
    "# Start gradient descent at x = -1.5\n",
    "epochs = 100\n",
    "xs2, ys2 = iterate(-1.5, n=epochs, lr=0.1)\n",
    "plt.scatter(xs2, ys2, c='r', s=100)\n",
    "\n",
    "# Start gradient descent at x = 2\n",
    "xs3, ys3 = iterate(1, n=epochs)\n",
    "plt.scatter(xs3, ys3, c='y', s=300)"
   ]
  },
  {
   "cell_type": "markdown",
   "metadata": {},
   "source": [
    "### Stochastic Gradient Descent\n",
    "\n",
    "What is the difference between gradient descent and stochastic gradient descent? It's actually a very small difference, but has big implications.\n",
    "\n",
    "Instead of **all** the samples updating the gradient at a time, **only one** sample updates the gradient (iterating over all the observations, though this can change based on specification) within each overall iteration.\n",
    "\n",
    "Stochastic gradient descent has some nice properties over gradient descent:\n",
    "\n",
    "- It solves faster since it immediately starts to update the gradient.\n",
    "- It can handle much, much larger datasets since it only needs to calculate a single row or small batch of rows of the entire dataset.\n",
    "\n",
    "The downside is that the MSE may not converge to an optimal value as well, since local minima become more likely. However, it typically _does_ converge to an optimal, so this risk is a small one. "
   ]
  },
  {
   "cell_type": "markdown",
   "metadata": {},
   "source": [
    "### Vanilla Gradient Descent: Update Weights At Once \n",
    "\n",
    "    while True:\n",
    "      weights_grad = evaluate_gradient(loss_fun, data, weights)\n",
    "      weights += - step_size * weights_grad # perform parameter update\n",
    "      \n",
    "      \n",
    "      \n",
    "### Minibatch Gradient Descent: \n",
    "          \n",
    "<img src=http://sebastianraschka.com/images/faq/closed-form-vs-gd/iter_gd.png align=center>\n",
    "\n",
    "      \n",
    "### Stochastic Gradient Descent: \n",
    " \n",
    "<img src=http://sebastianraschka.com/images/faq/closed-form-vs-gd/iter_sgd.png>\n",
    "      \n",
    "<img src=http://image.slidesharecdn.com/pkfetdxyqpiy2i94fvzv-signature-25ed596523f4a669f9a710899d8eaf303c4bbdce8b8e80e99e004c3f91b28bcc-poli-151222094839/95/recommender-systems-50-638.jpg?cb=1450777740>\n",
    "\n",
    "\n"
   ]
  },
  {
   "cell_type": "markdown",
   "metadata": {},
   "source": [
    "### In Summary, Gradient Descent vs. Minbatch Gradient Descent vs. SGD: \n",
    "- Hard to load X, y in memory at times so need to use minbatch gradient descent or SGD\n",
    "- Converges faster \n",
    "- MGD most common and works well because datasets are always correlated"
   ]
  },
  {
   "cell_type": "markdown",
   "metadata": {},
   "source": [
    "> ** Check for Understanding **: Let's Implement Logistic Regression from Scratch "
   ]
  },
  {
   "cell_type": "code",
   "execution_count": 102,
   "metadata": {
    "collapsed": false
   },
   "outputs": [],
   "source": [
    "test = [rng.uniform(0, 1) for i in range(100)]\n",
    "preds = np.array([[prob, 1-prob] for prob in test])\n",
    "label = np.array([rng.choice([0, 1]) for i in range(100)])\n",
    "label = np.array([np.eye(2)[i] for i in label]) ## one hot encoding "
   ]
  },
  {
   "cell_type": "code",
   "execution_count": 197,
   "metadata": {
    "collapsed": false
   },
   "outputs": [
    {
     "name": "stderr",
     "output_type": "stream",
     "text": [
      "/Users/Vrushank/anaconda/envs/dsi/lib/python2.7/site-packages/ipykernel/__main__.py:28: VisibleDeprecationWarning: using a non-integer number instead of an integer will result in an error in the future\n",
      "/Users/Vrushank/anaconda/envs/dsi/lib/python2.7/site-packages/ipykernel/__main__.py:29: VisibleDeprecationWarning: using a non-integer number instead of an integer will result in an error in the future\n"
     ]
    },
    {
     "name": "stdout",
     "output_type": "stream",
     "text": [
      "0.4453125\n"
     ]
    }
   ],
   "source": [
    "X = rng.random((128, 10))\n",
    "y = label = np.array([rng.choice([0, 1]) for i in range(128)])\n",
    "\n",
    "my_logit = LogisticRegression()\n",
    "my_logit.fit(X, y)\n",
    "\n",
    "print np.mean(np.argmax(my_logit.predict(X), axis=1) == y)"
   ]
  },
  {
   "cell_type": "code",
   "execution_count": 198,
   "metadata": {
    "collapsed": false
   },
   "outputs": [
    {
     "data": {
      "text/plain": [
       "0.640625"
      ]
     },
     "execution_count": 198,
     "metadata": {},
     "output_type": "execute_result"
    }
   ],
   "source": [
    "from sklearn.linear_model import SGDClassifier as LR\n",
    "sklearn_logit = LR()\n",
    "sklearn_logit.fit(X, y)\n",
    "np.mean(sklearn_logit.predict(X) == y)"
   ]
  },
  {
   "cell_type": "markdown",
   "metadata": {},
   "source": [
    "## Converge of Variants of SGD Algorithms \n",
    "<img src=http://i.imgur.com/2dKCQHh.gif>\n",
    "<img src=http://2.bp.blogspot.com/-L98w-SBmF58/VPmICIjKEKI/AAAAAAAACCs/rrFz3VetYmM/s1600/Beale%26amp%3B%23039%3Bs%2Bfunction%2B-%2BImgur.gif>"
   ]
  },
  {
   "cell_type": "markdown",
   "metadata": {},
   "source": [
    "### Additional Resources \n",
    "\n",
    "<a href=http://leon.bottou.org/publications/pdf/compstat-2010.pdf> Large Scale ML with SGD </a>\n",
    "\n",
    "<a href=http://sebastianruder.com/optimizing-gradient-descent/index.html#fn:22> Variants of SGD </a>\n",
    "\n",
    "<img src=https://pbs.twimg.com/media/C3nkAm2VUAID94h.jpg>"
   ]
  },
  {
   "cell_type": "code",
   "execution_count": null,
   "metadata": {
    "collapsed": true
   },
   "outputs": [],
   "source": []
  }
 ],
 "metadata": {
  "kernelspec": {
   "display_name": "Python 2",
   "language": "python",
   "name": "python2"
  },
  "language_info": {
   "codemirror_mode": {
    "name": "ipython",
    "version": 2
   },
   "file_extension": ".py",
   "mimetype": "text/x-python",
   "name": "python",
   "nbconvert_exporter": "python",
   "pygments_lexer": "ipython2",
   "version": "2.7.13"
  }
 },
 "nbformat": 4,
 "nbformat_minor": 1
}
