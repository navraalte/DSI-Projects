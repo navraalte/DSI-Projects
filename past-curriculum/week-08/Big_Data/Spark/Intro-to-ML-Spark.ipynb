{
 "cells": [
  {
   "cell_type": "markdown",
   "metadata": {},
   "source": [
    "\n",
    "```\n",
    "---\n",
    "title: Machine Learning with Spark\n",
    "type:  lesson + lab + demo\n",
    "duration: \"1:25\"\n",
    "creator:\n",
    "    name: David Yerrington\n",
    "    city: SF\n",
    "---\n",
    "```\n",
    "<img src=\"https://ga-dash.s3.amazonaws.com/production/assets/logo-9f88ae6c9c3871690e33280fcf557f33.png\" style=\"float: left; margin: 10px\">\n",
    "\n",
    "#  Intro to:  Machine Learning with Spark\n",
    "Week 9 | 4.3\n",
    "\n",
    "\n",
    "<img src=\"https://snag.gy/vD04Y2.jpg\" width=\"600\">\n",
    "\n",
    "Common cases with data preprocessing and Spark MLib for Machine Learning.\n"
   ]
  },
  {
   "cell_type": "markdown",
   "metadata": {},
   "source": [
    "## Loading Data\n",
    "\n",
    "Working with RDD's in Spark, can be a bit more challenging with regards to loading data.  The most common method provided for working with text data is `sc.textFile()`.  The data returned will be a semi-structured RDD where each line is cast into rows of strings."
   ]
  },
  {
   "cell_type": "code",
   "execution_count": 1,
   "metadata": {
    "collapsed": false
   },
   "outputs": [],
   "source": [
    "import findspark\n",
    "findspark.init()\n",
    "import pyspark"
   ]
  },
  {
   "cell_type": "code",
   "execution_count": 2,
   "metadata": {
    "collapsed": true
   },
   "outputs": [],
   "source": [
    "sc = pyspark.SparkContext()"
   ]
  },
  {
   "cell_type": "markdown",
   "metadata": {},
   "source": [
    "## RDD with Schema\n",
    "Let's look at the SQLContext module we have which we can use  read.csv files in Spark. "
   ]
  },
  {
   "cell_type": "code",
   "execution_count": 30,
   "metadata": {
    "collapsed": false
   },
   "outputs": [
    {
     "name": "stdout",
     "output_type": "stream",
     "text": [
      "root\n",
      " |-- Date: string (nullable = true)\n",
      " |-- Store Number: string (nullable = true)\n",
      " |-- City: string (nullable = true)\n",
      " |-- Zip Code: string (nullable = true)\n",
      " |-- County Number: string (nullable = true)\n",
      " |-- County: string (nullable = true)\n",
      " |-- Category: string (nullable = true)\n",
      " |-- Category Name: string (nullable = true)\n",
      " |-- Vendor Number: string (nullable = true)\n",
      " |-- Item Number: string (nullable = true)\n",
      " |-- Item Description: string (nullable = true)\n",
      " |-- Bottle Volume (ml): string (nullable = true)\n",
      " |-- State Bottle Cost: string (nullable = true)\n",
      " |-- State Bottle Retail: string (nullable = true)\n",
      " |-- Bottles Sold: string (nullable = true)\n",
      " |-- Sale (Dollars): string (nullable = true)\n",
      " |-- Volume Sold (Liters): string (nullable = true)\n",
      " |-- Volume Sold (Gallons): string (nullable = true)\n",
      "\n"
     ]
    }
   ],
   "source": [
    "from pyspark.sql import SQLContext\n",
    "sqlctx = SQLContext(sc)\n",
    "df = sqlctx.read.csv('../../../datasets/iowa_liquor/Iowa_Liquor_sales_sample_10pct.csv',\n",
    "                     header=True)\n",
    "\n",
    "df.printSchema()"
   ]
  },
  {
   "cell_type": "code",
   "execution_count": 5,
   "metadata": {
    "collapsed": false
   },
   "outputs": [
    {
     "name": "stdout",
     "output_type": "stream",
     "text": [
      "+-------+\n",
      "|summary|\n",
      "+-------+\n",
      "|  count|\n",
      "|   mean|\n",
      "| stddev|\n",
      "|    min|\n",
      "|    max|\n",
      "+-------+\n",
      "\n"
     ]
    }
   ],
   "source": [
    "df.select(\"Store Number\").describe().show()"
   ]
  },
  {
   "cell_type": "markdown",
   "metadata": {},
   "source": [
    "## Update Types / Cleanup"
   ]
  },
  {
   "cell_type": "code",
   "execution_count": 6,
   "metadata": {
    "collapsed": false
   },
   "outputs": [
    {
     "name": "stdout",
     "output_type": "stream",
     "text": [
      "+----------+------------+--------------------+------------+--------------+\n",
      "|      Date|Store Number|       Category Name|Bottles Sold|Sale (Dollars)|\n",
      "+----------+------------+--------------------+------------+--------------+\n",
      "|11/04/2015|        3717|    APRICOT BRANDIES|          12|        $81.00|\n",
      "|03/02/2016|        2614|    BLENDED WHISKIES|           2|        $41.26|\n",
      "|02/11/2016|        2106|STRAIGHT BOURBON ...|          24|       $453.36|\n",
      "|02/03/2016|        2501|  AMERICAN COCKTAILS|           6|        $85.50|\n",
      "|08/18/2015|        3654|      VODKA 80 PROOF|          12|       $129.60|\n",
      "+----------+------------+--------------------+------------+--------------+\n",
      "only showing top 5 rows\n",
      "\n"
     ]
    }
   ],
   "source": [
    "df.select(\"Date\", \"Store Number\", \"Category Name\", \"Bottles Sold\", \"Sale (Dollars)\").show(5)"
   ]
  },
  {
   "cell_type": "code",
   "execution_count": 5,
   "metadata": {
    "collapsed": false,
    "scrolled": false
   },
   "outputs": [],
   "source": [
    "# crap = df.select('Sale (Dollars)').na\n",
    "# crap.replace(\"$\", \"\").collect()"
   ]
  },
  {
   "cell_type": "code",
   "execution_count": 32,
   "metadata": {
    "collapsed": false,
    "scrolled": false
   },
   "outputs": [
    {
     "name": "stdout",
     "output_type": "stream",
     "text": [
      "root\n",
      " |-- Date: string (nullable = true)\n",
      " |-- Store Number: integer (nullable = true)\n",
      " |-- City: string (nullable = true)\n",
      " |-- Zip Code: integer (nullable = true)\n",
      " |-- County Number: integer (nullable = true)\n",
      " |-- County: string (nullable = true)\n",
      " |-- Category: string (nullable = true)\n",
      " |-- Category Name: string (nullable = true)\n",
      " |-- Vendor Number: integer (nullable = true)\n",
      " |-- Item Number: integer (nullable = true)\n",
      " |-- Item Description: string (nullable = true)\n",
      " |-- Bottle Volume (ml): integer (nullable = true)\n",
      " |-- State Bottle Cost: string (nullable = true)\n",
      " |-- State Bottle Retail: string (nullable = true)\n",
      " |-- Bottles Sold: integer (nullable = true)\n",
      " |-- Sale (Dollars): double (nullable = true)\n",
      " |-- Volume Sold (Liters): double (nullable = true)\n",
      " |-- Volume Sold (Gallons): double (nullable = true)\n",
      "\n",
      "+----------+------------+-----------+--------+-------------+----------+---------+--------------------+-------------+-----------+--------------------+------------------+-----------------+-------------------+------------+--------------+--------------------+---------------------+\n",
      "|      Date|Store Number|       City|Zip Code|County Number|    County| Category|       Category Name|Vendor Number|Item Number|    Item Description|Bottle Volume (ml)|State Bottle Cost|State Bottle Retail|Bottles Sold|Sale (Dollars)|Volume Sold (Liters)|Volume Sold (Gallons)|\n",
      "+----------+------------+-----------+--------+-------------+----------+---------+--------------------+-------------+-----------+--------------------+------------------+-----------------+-------------------+------------+--------------+--------------------+---------------------+\n",
      "|11/04/2015|        3717|     SUMNER|   50674|            9|    Bremer|1051100.0|    APRICOT BRANDIES|           55|      54436|Mr. Boston Aprico...|               750|             4.50|               6.75|          12|          81.0|                 9.0|                 2.38|\n",
      "|03/02/2016|        2614|  DAVENPORT|   52807|           82|     Scott|1011100.0|    BLENDED WHISKIES|          395|      27605|             Tin Cup|               750|            13.75|              20.63|           2|         41.26|                 1.5|                  0.4|\n",
      "|02/11/2016|        2106|CEDAR FALLS|   50613|            7|Black Hawk|1011200.0|STRAIGHT BOURBON ...|           65|      19067|            Jim Beam|              1000|            12.59|              18.89|          24|        453.36|                24.0|                 6.34|\n",
      "|02/03/2016|        2501|       AMES|   50010|           85|     Story|1071100.0|  AMERICAN COCKTAILS|          395|      59154|1800 Ultimate Mar...|              1750|             9.50|              14.25|           6|          85.5|                10.5|                 2.77|\n",
      "|08/18/2015|        3654|    BELMOND|   50421|           99|    Wright|1031080.0|      VODKA 80 PROOF|          297|      35918|  Five O'clock Vodka|              1750|             7.20|              10.80|          12|         129.6|                21.0|                 5.55|\n",
      "+----------+------------+-----------+--------+-------------+----------+---------+--------------------+-------------+-----------+--------------------+------------------+-----------------+-------------------+------------+--------------+--------------------+---------------------+\n",
      "only showing top 5 rows\n",
      "\n"
     ]
    }
   ],
   "source": [
    "from pyspark.sql.types import StringType, IntegerType, DoubleType\n",
    "from pyspark.sql.functions import udf, regexp_replace\n",
    "\n",
    "# stripDollarSigns = udf(lambda s: s.replace(\"$\", \"\"), DoubleType())\n",
    "\n",
    "df = df.withColumn(\"Store Number\", df[\"Store Number\"].cast(\"integer\"))\\\n",
    ".withColumn(\"Sale (Dollars)\",        regexp_replace(\"Sale (Dollars)\", \"\\\\$\", \"\").cast(\"double\")) \\\n",
    ".withColumn(\"Zip Code\",              df[\"Zip Code\"].cast(\"integer\")) \\\n",
    ".withColumn(\"County Number\",         df[\"County Number\"].cast(\"integer\")) \\\n",
    ".withColumn(\"Vendor Number\",         df[\"Vendor Number\"].cast(\"integer\")) \\\n",
    ".withColumn(\"Item Number\",           df[\"Item Number\"].cast(\"integer\")) \\\n",
    ".withColumn(\"Bottle Volume (ml)\",    df[\"Bottle Volume (ml)\"].cast(\"integer\")) \\\n",
    ".withColumn(\"State Bottle Cost\",     regexp_replace(\"State Bottle Cost\", \"\\\\$\", \"\")) \\\n",
    ".withColumn(\"State Bottle Retail\",   regexp_replace(\"State Bottle Retail\", \"\\\\$\", \"\")) \\\n",
    ".withColumn(\"Bottles Sold\",          df[\"Bottles Sold\"].cast(\"integer\")) \\\n",
    ".withColumn(\"Volume Sold (Liters)\",  df[\"Volume Sold (Liters)\"].cast(\"double\")) \\\n",
    ".withColumn(\"Volume Sold (Gallons)\", df[\"Volume Sold (Gallons)\"].cast(\"double\")) \\\n",
    "\n",
    "df.printSchema()\n",
    "df.show(5)"
   ]
  },
  {
   "cell_type": "markdown",
   "metadata": {},
   "source": [
    "## Basic Summary Statistics\n",
    "Once type is defined, describe / show will report useful statistics."
   ]
  },
  {
   "cell_type": "code",
   "execution_count": 8,
   "metadata": {
    "collapsed": false
   },
   "outputs": [
    {
     "name": "stdout",
     "output_type": "stream",
     "text": [
      "+-------+-----------------+------------------+-----------------+------------------+--------------------+\n",
      "|summary|         Zip Code|Bottle Volume (ml)|     Bottles Sold|    Sale (Dollars)|Volume Sold (Liters)|\n",
      "+-------+-----------------+------------------+-----------------+------------------+--------------------+\n",
      "|  count|           270738|            270955|           270955|            270955|              270955|\n",
      "|   mean|51264.20559729332| 924.8303408315033|9.871284899706593| 128.9023747485706|   8.981351183775748|\n",
      "| stddev|988.9071803701167|493.08848860663403|24.04091157393874|383.02736884240466|  28.913690130072464|\n",
      "|    min|            50002|                50|                1|              1.34|                 0.1|\n",
      "|    max|            56201|              6000|             2508|           36392.4|              2508.0|\n",
      "+-------+-----------------+------------------+-----------------+------------------+--------------------+\n",
      "\n"
     ]
    }
   ],
   "source": [
    "df.select([\"Zip Code\", \"Bottle Volume (ml)\", \"Bottles Sold\", \"Sale (Dollars)\", \"Volume Sold (Liters)\"]).describe().show()"
   ]
  },
  {
   "cell_type": "markdown",
   "metadata": {},
   "source": [
    "> The **Spark** equivelent to **Pandas** df.describe() is: \n",
    "> ```python \n",
    "> df.select(df.columns).describe().show()\n",
    "> ```"
   ]
  },
  {
   "cell_type": "markdown",
   "metadata": {},
   "source": [
    "## Quick Notes About Matrix/Vector Types in Spark\n",
    "\n",
    "There are lots of types to familliarize yourself with inside of Spark/MLib.  Generally, It is important to choose the right format with storing large and distributed matrices.\n",
    "\n",
    "_\"MLlib supports **local vectors** and matrices stored on a single machine, as well as **distributed matrices** backed by one or more RDDs. **Local vectors** and **local matrices** are simple data models that serve as public interfaces. The underlying linear algebra operations are provided by [Breeze](http://www.scalanlp.org/). A training example used in supervised learning is called a **“labeled point”** in MLlib.\"_\n",
    "\n",
    "> ### Local Vectors\n",
    "\n",
    "> A local vector has integer-typed and 0-based indices and double-typed values, stored on a single machine. MLlib supports two types of local vectors: dense and sparse. A dense vector is backed by a double array representing its entry values, while a sparse vector is backed by two parallel arrays: indices and values. For example, a vector (1.0, 0.0, 3.0) can be represented in dense format as [1.0, 0.0, 3.0] or in sparse format as (3, [0, 2], [1.0, 3.0]), where 3 is the size of the vector.\n",
    ">\n",
    "\n",
    "> ### Labeled Points\n",
    "> A labeled point is a local vector, either dense or sparse, associated with a label/response. In MLlib, labeled points are used in supervised learning algorithms. We use a double to store a label, so we can use labeled points in both regression and classification. For binary classification, a label should be either 0 (negative) or 1 (positive). For multiclass classification, labels should be class indices starting from zero: 0, 1, 2, ....\n",
    "\n",
    "Further reading about Spark matrix / vector types:\n",
    "http://spark.apache.org/docs/latest/mllib-data-types.html"
   ]
  },
  {
   "cell_type": "markdown",
   "metadata": {},
   "source": [
    "## Preparing our training data\n",
    "\n",
    "First, we need to take our dataframe, and encode the training features / predictors.  Notice our response variable is the first parameter.\n",
    "\n",
    "> **LabeledPoint(response, [features])**"
   ]
  },
  {
   "cell_type": "code",
   "execution_count": 9,
   "metadata": {
    "collapsed": false,
    "scrolled": false
   },
   "outputs": [],
   "source": [
    "from pyspark.mllib.regression import LabeledPoint, LinearRegressionWithSGD, LinearRegressionModel\n",
    "\n",
    "features = [\"Bottles Sold\", \"Sale (Dollars)\", \"Bottle Volume (ml)\"]\n",
    "response = \"Volume Sold (Liters)\"\n",
    "\n",
    "X = df.rdd.map( \n",
    "    lambda row: LabeledPoint(row[response], [row[feature] for feature in features])\n",
    ")"
   ]
  },
  {
   "cell_type": "markdown",
   "metadata": {},
   "source": [
    "## Test / Train Split\n",
    "\n",
    "It's also possible to do KFolds, but here is the equivelent to Scikit-learn's `train_test_split()`\n"
   ]
  },
  {
   "cell_type": "code",
   "execution_count": 10,
   "metadata": {
    "collapsed": false
   },
   "outputs": [],
   "source": [
    "# Split the data into training and test sets (30% held out for testing)\n",
    "trainingData, testData = X.randomSplit([0.7, 0.3])"
   ]
  },
  {
   "cell_type": "markdown",
   "metadata": {},
   "source": [
    "## Linear Regression in Spark\n",
    "\n",
    ">Train a linear regression model using Stochastic Gradient\n",
    "Descent (SGD). This solves the least squares regression\n",
    "formulation\n",
    "\n",
    ">    `f(weights) = 1/(2n) ||A weights - y||^2`\n",
    "\n",
    "Read about the SGD parameters here:<br>\n",
    "http://spark.apache.org/docs/latest/api/python/pyspark.mllib.html#pyspark.mllib.regression.LinearRegressionWithSGD\n",
    "\n",
    "The default step paramter is 1.0.  An optimal value for the step hyperparameter is dependant on the data size, and will vary depending on training, testing, and out of sample data.  Plotting the error rate to see how SGD converges is the best way to tune this paramter.  For the sake of this example, step/rate was chosen very roughly to give a cursory sense of the application of this model."
   ]
  },
  {
   "cell_type": "code",
   "execution_count": 11,
   "metadata": {
    "collapsed": false,
    "scrolled": false
   },
   "outputs": [
    {
     "name": "stderr",
     "output_type": "stream",
     "text": [
      "/Users/Vrushank/spark-2.0.1-bin-hadoop2.7/python/pyspark/mllib/regression.py:281: UserWarning: Deprecated in 2.0.0. Use ml.regression.LinearRegression.\n",
      "  warnings.warn(\"Deprecated in 2.0.0. Use ml.regression.LinearRegression.\")\n"
     ]
    }
   ],
   "source": [
    "linearModel = LinearRegressionWithSGD.train(trainingData, iterations=100, step=0.000001)"
   ]
  },
  {
   "cell_type": "markdown",
   "metadata": {},
   "source": [
    "### Examine Coefficients"
   ]
  },
  {
   "cell_type": "code",
   "execution_count": 12,
   "metadata": {
    "collapsed": false
   },
   "outputs": [
    {
     "data": {
      "text/plain": [
       "[('Bottles Sold', 0.0028388114049113112),\n",
       " ('Sale (Dollars)', 0.038752006629178624),\n",
       " ('Bottle Volume (ml)', 0.0052608986484459662)]"
      ]
     },
     "execution_count": 12,
     "metadata": {},
     "output_type": "execute_result"
    }
   ],
   "source": [
    "zip(features, linearModel.weights.array)"
   ]
  },
  {
   "cell_type": "markdown",
   "metadata": {},
   "source": [
    "## Familliar Regression Metrics"
   ]
  },
  {
   "cell_type": "code",
   "execution_count": 13,
   "metadata": {
    "collapsed": false,
    "scrolled": false
   },
   "outputs": [
    {
     "name": "stdout",
     "output_type": "stream",
     "text": [
      "\n",
      "                R2:  0.615141\n",
      "Explained Variance:  233.887470\n",
      "               MSE:  316.502071\n",
      "              RMSE:  17.790505\n",
      "\n"
     ]
    }
   ],
   "source": [
    "from pyspark.mllib.evaluation import RegressionMetrics\n",
    "\n",
    "prediObserRDD = testData.map(lambda row: (float(linearModel.predict(row.features)), row.label)).cache()\n",
    "metrics = RegressionMetrics(prediObserRDD)\n",
    "\n",
    "print \"\"\"\n",
    "                R2:  %.6f\n",
    "Explained Variance:  %.6f\n",
    "               MSE:  %.6f\n",
    "              RMSE:  %.6f\n",
    "\"\"\" % (metrics.r2, metrics.explainedVariance, metrics.meanSquaredError, metrics.rootMeanSquaredError)"
   ]
  },
  {
   "cell_type": "markdown",
   "metadata": {
    "collapsed": false
   },
   "source": [
    "## No Problem?\n",
    "\n",
    "By now you might see there are some similarities between Pandas DataFrames and Spark DataFrames.  The nuance and complexity lies with Sparks many types of matrices and datatypes that are specific to your application.  Your application largely depends on the scale of your problem, and the model(s) you choose to use."
   ]
  },
  {
   "cell_type": "markdown",
   "metadata": {
    "collapsed": true
   },
   "source": [
    "# Logistic Regression\n",
    "\n",
    "Similarly implemented, the logistic regression model we've become familliar with is implemented in Spark as well as many other models that are available in Scikit-learn.  We will attempt to demonstrate a more concise example using a prior dataset."
   ]
  },
  {
   "cell_type": "markdown",
   "metadata": {},
   "source": [
    "## Load / Clean / Apply Schema\n",
    "This time, we will attept to apply a schema at loadtime of our model.\n",
    "\n",
    "> Note:  If you don't see your data show up after applying a schema, it's likely that you forgot a field or that your supplied schema doesn't match your dataset 1:1."
   ]
  },
  {
   "cell_type": "code",
   "execution_count": 14,
   "metadata": {
    "collapsed": false
   },
   "outputs": [
    {
     "name": "stdout",
     "output_type": "stream",
     "text": [
      "root\n",
      " |-- PassengerId: integer (nullable = true)\n",
      " |-- Survived: integer (nullable = true)\n",
      " |-- Pclass: integer (nullable = true)\n",
      " |-- Name: string (nullable = true)\n",
      " |-- Sex: string (nullable = true)\n",
      " |-- Age: double (nullable = true)\n",
      " |-- SibSp: integer (nullable = true)\n",
      " |-- Parch: integer (nullable = true)\n",
      " |-- Fare: double (nullable = true)\n",
      " |-- Embarked: string (nullable = true)\n",
      "\n",
      "+-----------+--------+------+--------------------+------+----+-----+-----+-------+--------+\n",
      "|PassengerId|Survived|Pclass|                Name|   Sex| Age|SibSp|Parch|   Fare|Embarked|\n",
      "+-----------+--------+------+--------------------+------+----+-----+-----+-------+--------+\n",
      "|          1|       0|     3|Braund, Mr. Owen ...|  male|22.0|    1|    0|   7.25|       S|\n",
      "|          2|       1|     1|Cumings, Mrs. Joh...|female|38.0|    1|    0|71.2833|       C|\n",
      "|          3|       1|     3|Heikkinen, Miss. ...|female|26.0|    0|    0|  7.925|       S|\n",
      "|          4|       1|     1|Futrelle, Mrs. Ja...|female|35.0|    1|    0|   53.1|       S|\n",
      "|          5|       0|     3|Allen, Mr. Willia...|  male|35.0|    0|    0|   8.05|       S|\n",
      "+-----------+--------+------+--------------------+------+----+-----+-----+-------+--------+\n",
      "only showing top 5 rows\n",
      "\n"
     ]
    }
   ],
   "source": [
    "from pyspark.sql.types import StructType, StructField\n",
    "from pyspark.sql.types import DoubleType, IntegerType, StringType\n",
    "\n",
    "schema = StructType([\n",
    "    StructField(\"PassengerId\", IntegerType()),\n",
    "    StructField(\"Survived\",    IntegerType()),\n",
    "    StructField(\"Pclass\",      IntegerType()),\n",
    "    StructField(\"Name\",        StringType()),\n",
    "    StructField(\"Sex\",         StringType()),\n",
    "    StructField(\"Age\",         DoubleType()),\n",
    "    StructField(\"SibSp\",       IntegerType()),\n",
    "    StructField(\"Parch\",       IntegerType()),\n",
    "    StructField(\"Fare\",        DoubleType()),\n",
    "    StructField(\"Embarked\",    StringType()) \n",
    "])\n",
    "\n",
    "df = sqlctx.read.csv(\n",
    "    \"../../../datasets/titanic/titanic_clean.csv\", header=True, mode=\"DROPMALFORMED\", schema=schema\n",
    ")\n",
    "\n",
    "# Print schema, and then show the first 5 records in printed format\n",
    "df.printSchema()\n",
    "df.show(5)\n",
    "\n",
    "# rdd.printSchema()\n",
    "# df.select(df.columns).describe().show()\n",
    "# df.printSchema()\n",
    "\n",
    "\n",
    "# Build the model\n",
    "# model = LogisticRegressionWithLBFGS.train(parsedData)\n"
   ]
  },
  {
   "cell_type": "markdown",
   "metadata": {},
   "source": [
    "##  Labeled Points\n",
    "\n",
    "Time to create our training data and train test splits.\n",
    "\n",
    "> **LabeledPoint(response, [features])**"
   ]
  },
  {
   "cell_type": "code",
   "execution_count": 15,
   "metadata": {
    "collapsed": true
   },
   "outputs": [],
   "source": [
    "features = [\"Pclass\", \"Age\", \"SibSp\", \"Parch\"]\n",
    "response = \"Survived\"\n",
    "\n",
    "X = df.rdd.map( \n",
    "    lambda row: LabeledPoint(row[response], [row[feature] for feature in features])\n",
    ")\n",
    "\n",
    "# Split the data into training and test sets (30% held out for testing)\n",
    "trainingData, testData = X.randomSplit([0.7, 0.3])"
   ]
  },
  {
   "cell_type": "markdown",
   "metadata": {},
   "source": [
    "## Setup Logistic Model\n",
    "\n",
    "Just like Scikit-learn, Spark's Mlib follows a consistent pattern.  Learn the application of one model, the rest quickly become familliar."
   ]
  },
  {
   "cell_type": "code",
   "execution_count": 18,
   "metadata": {
    "collapsed": false
   },
   "outputs": [],
   "source": [
    "from pyspark.mllib.classification import LogisticRegressionWithLBFGS, LogisticRegressionModel\n",
    "from pyspark.mllib.evaluation import BinaryClassificationMetrics\n",
    "logisticModel = LogisticRegressionWithLBFGS.train(trainingData)"
   ]
  },
  {
   "cell_type": "markdown",
   "metadata": {},
   "source": [
    "## Coefficients"
   ]
  },
  {
   "cell_type": "code",
   "execution_count": 17,
   "metadata": {
    "collapsed": false
   },
   "outputs": [
    {
     "data": {
      "text/plain": [
       "[('Pclass', -0.40109411126250538),\n",
       " ('Age', 0.0074837668128318402),\n",
       " ('SibSp', -0.052646294269188945),\n",
       " ('Parch', 0.31349198435142495)]"
      ]
     },
     "execution_count": 17,
     "metadata": {},
     "output_type": "execute_result"
    }
   ],
   "source": [
    "zip(features, logisticModel.weights.array)"
   ]
  },
  {
   "cell_type": "code",
   "execution_count": 23,
   "metadata": {
    "collapsed": false,
    "scrolled": false
   },
   "outputs": [],
   "source": [
    "prediObserRDD = testData.map(lambda row: (float(logisticModel.predict(row.features)), row.label)).cache()"
   ]
  },
  {
   "cell_type": "markdown",
   "metadata": {},
   "source": [
    "## Classification Metrics"
   ]
  },
  {
   "cell_type": "code",
   "execution_count": 26,
   "metadata": {
    "collapsed": false,
    "scrolled": false
   },
   "outputs": [
    {
     "name": "stdout",
     "output_type": "stream",
     "text": [
      "Test Accuracy = 0.385650224215\n",
      "Area under PR = 0.555840273329\n",
      "Area under ROC = 0.541125541126\n"
     ]
    }
   ],
   "source": [
    "from pyspark.mllib.evaluation import BinaryClassificationMetrics\n",
    "from pyspark.ml.evaluation import BinaryClassificationEvaluator\n",
    "\n",
    "# Overall accuracy\n",
    "def testError(lap):\n",
    "    return lap.filter(lambda (v, p): v != p).count() / float(testData.count())\n",
    "    \n",
    "accuracy = testError(prediObserRDD)\n",
    "\n",
    "print \"Test Accuracy = %s\" % accuracy\n",
    "\n",
    "# Instantiate metrics object\n",
    "metrics = BinaryClassificationMetrics(prediObserRDD)\n",
    "\n",
    "# Area under precision-recall curve\n",
    "print \"Area under PR = %s\" % metrics.areaUnderPR\n",
    "\n",
    "# Area under ROC curve\n",
    "print \"Area under ROC = %s\" % metrics.areaUnderROC"
   ]
  },
  {
   "cell_type": "markdown",
   "metadata": {},
   "source": [
    "## Multi-Class Metrics\n",
    "If we had a multinomial response, we could use the _Multiclassmetrics_ to get a more accurate sense of these. It appears that the Scala and Java flavors include these in the binomial version of the metrics but not the Python flavor.  This is here mainly as a reference point for future problems you may want to use.\n",
    "\n",
    "> These metrics are highly suspect.  Only an example of the implementation with Pyspark.\n"
   ]
  },
  {
   "cell_type": "code",
   "execution_count": 27,
   "metadata": {
    "collapsed": false
   },
   "outputs": [
    {
     "name": "stdout",
     "output_type": "stream",
     "text": [
      "Summary Stats\n",
      "--------------------\n",
      "Accuracy  = 0.614349775785\n",
      "Precision = 0.614349775785\n",
      "Recall    = 0.614349775785\n",
      "F1 Score  = 0.614349775785\n"
     ]
    }
   ],
   "source": [
    "from pyspark.mllib.evaluation import MulticlassMetrics\n",
    "\n",
    "metrics = MulticlassMetrics(prediObserRDD)\n",
    "\n",
    "precision = metrics.precision()\n",
    "recall = metrics.recall()\n",
    "f1Score = metrics.fMeasure()\n",
    "\n",
    "print \"Summary Stats\" \n",
    "print \"--------------------\"\n",
    "print \"Accuracy  = %s\" % metrics.accuracy\n",
    "print \"Precision = %s\" % precision \n",
    "print \"Recall    = %s\" % recall \n",
    "print \"F1 Score  = %s\" % f1Score "
   ]
  },
  {
   "cell_type": "markdown",
   "metadata": {},
   "source": [
    "## Random Forests in Pyspark\n",
    "\n",
    "This is a very basic setup for RF's in Pyspark.  One thing that is missing at the time of the writing of this content is that \"feature importances\" aren't implemented inside of the Python library for spark yet, but if you implement these models in Scala or Java, that metric is available as part of the API.  It's very well possible that this feature is available inside the API for Python, but it isn't documented.  Python features usually are implemented last in the chain of the Spark ecosystem.\n",
    "\n",
    "You may recall a rant on Scala vs Python within the Spark ecosystem.  This sould give you a sense about the value of learning Scala or Java for big data.  The best way to learn Spark, is to re-implement what we've done in class using Spark.  Some tasks are much easier, but overall it's a little slower to implement than using Pandas + Sklearn because you are unfamilliar with the Mlib / Spark stack. "
   ]
  },
  {
   "cell_type": "code",
   "execution_count": 28,
   "metadata": {
    "collapsed": false
   },
   "outputs": [
    {
     "name": "stdout",
     "output_type": "stream",
     "text": [
      "Test Error = 0.264573991031\n",
      "Learned classification forest model:\n",
      "TreeEnsembleModel classifier with 3 trees\n",
      "\n",
      "  Tree 0:\n",
      "    If (feature 1 <= 17.0)\n",
      "     If (feature 2 <= 2.0)\n",
      "      If (feature 0 <= 2.0)\n",
      "       Predict: 1.0\n",
      "      Else (feature 0 > 2.0)\n",
      "       If (feature 3 <= 1.0)\n",
      "        Predict: 1.0\n",
      "       Else (feature 3 > 1.0)\n",
      "        Predict: 0.0\n",
      "     Else (feature 2 > 2.0)\n",
      "      If (feature 3 <= 1.0)\n",
      "       Predict: 0.0\n",
      "      Else (feature 3 > 1.0)\n",
      "       Predict: 0.0\n",
      "    Else (feature 1 > 17.0)\n",
      "     If (feature 0 <= 2.0)\n",
      "      If (feature 1 <= 23.0)\n",
      "       If (feature 0 <= 1.0)\n",
      "        Predict: 0.0\n",
      "       Else (feature 0 > 1.0)\n",
      "        Predict: 0.0\n",
      "      Else (feature 1 > 23.0)\n",
      "       If (feature 2 <= 0.0)\n",
      "        Predict: 1.0\n",
      "       Else (feature 2 > 0.0)\n",
      "        Predict: 1.0\n",
      "     Else (feature 0 > 2.0)\n",
      "      If (feature 1 <= 32.0)\n",
      "       If (feature 1 <= 30.0)\n",
      "        Predict: 0.0\n",
      "       Else (feature 1 > 30.0)\n",
      "        Predict: 1.0\n",
      "      Else (feature 1 > 32.0)\n",
      "       If (feature 2 <= 0.0)\n",
      "        Predict: 0.0\n",
      "       Else (feature 2 > 0.0)\n",
      "        Predict: 0.0\n",
      "  Tree 1:\n",
      "    If (feature 0 <= 1.0)\n",
      "     If (feature 2 <= 0.0)\n",
      "      Predict: 1.0\n",
      "     Else (feature 2 > 0.0)\n",
      "      If (feature 2 <= 1.0)\n",
      "       If (feature 3 <= 1.0)\n",
      "        Predict: 1.0\n",
      "       Else (feature 3 > 1.0)\n",
      "        Predict: 1.0\n",
      "      Else (feature 2 > 1.0)\n",
      "       If (feature 1 <= 21.0)\n",
      "        Predict: 1.0\n",
      "       Else (feature 1 > 21.0)\n",
      "        Predict: 0.0\n",
      "    Else (feature 0 > 1.0)\n",
      "     If (feature 3 <= 0.0)\n",
      "      If (feature 2 <= 2.0)\n",
      "       If (feature 0 <= 2.0)\n",
      "        Predict: 0.0\n",
      "       Else (feature 0 > 2.0)\n",
      "        Predict: 0.0\n",
      "      Else (feature 2 > 2.0)\n",
      "       Predict: 1.0\n",
      "     Else (feature 3 > 0.0)\n",
      "      If (feature 2 <= 2.0)\n",
      "       If (feature 1 <= 9.0)\n",
      "        Predict: 1.0\n",
      "       Else (feature 1 > 9.0)\n",
      "        Predict: 0.0\n",
      "      Else (feature 2 > 2.0)\n",
      "       If (feature 2 <= 3.0)\n",
      "        Predict: 0.0\n",
      "       Else (feature 2 > 3.0)\n",
      "        Predict: 0.0\n",
      "  Tree 2:\n",
      "    If (feature 0 <= 2.0)\n",
      "     If (feature 3 <= 0.0)\n",
      "      If (feature 0 <= 1.0)\n",
      "       If (feature 2 <= 1.0)\n",
      "        Predict: 1.0\n",
      "       Else (feature 2 > 1.0)\n",
      "        Predict: 1.0\n",
      "      Else (feature 0 > 1.0)\n",
      "       Predict: 0.0\n",
      "     Else (feature 3 > 0.0)\n",
      "      If (feature 1 <= 60.0)\n",
      "       If (feature 1 <= 17.0)\n",
      "        Predict: 1.0\n",
      "       Else (feature 1 > 17.0)\n",
      "        Predict: 1.0\n",
      "      Else (feature 1 > 60.0)\n",
      "       Predict: 0.0\n",
      "    Else (feature 0 > 2.0)\n",
      "     If (feature 1 <= 31.0)\n",
      "      If (feature 2 <= 1.0)\n",
      "       If (feature 3 <= 1.0)\n",
      "        Predict: 0.0\n",
      "       Else (feature 3 > 1.0)\n",
      "        Predict: 1.0\n",
      "      Else (feature 2 > 1.0)\n",
      "       Predict: 0.0\n",
      "     Else (feature 1 > 31.0)\n",
      "      If (feature 2 <= 1.0)\n",
      "       If (feature 3 <= 0.0)\n",
      "        Predict: 0.0\n",
      "       Else (feature 3 > 0.0)\n",
      "        Predict: 0.0\n",
      "      Else (feature 2 > 1.0)\n",
      "       Predict: 0.0\n",
      "\n"
     ]
    }
   ],
   "source": [
    "from pyspark.mllib.tree import RandomForest, RandomForestModel\n",
    "from pyspark.mllib.util import MLUtils\n",
    "\n",
    "model = RandomForest.trainClassifier(trainingData, numClasses=2, categoricalFeaturesInfo={},\n",
    "                                     numTrees=3, featureSubsetStrategy=\"auto\",\n",
    "                                     impurity='gini', maxDepth=4, maxBins=32)\n",
    "\n",
    "# Evaluate model on test instances and compute test error\n",
    "predictions = model.predict(testData.map(lambda x: x.features))\n",
    "labelsAndPredictions = testData.map(lambda lp: lp.label).zip(predictions)\n",
    "testErr = labelsAndPredictions.filter(lambda (v, p): v != p).count() / float(testData.count())\n",
    "\n",
    "print('Test Error = ' + str(testErr))\n",
    "print('Learned classification forest model:')\n",
    "print(model.toDebugString())"
   ]
  },
  {
   "cell_type": "markdown",
   "metadata": {},
   "source": [
    "## What Else!?\n",
    "\n",
    "This is barely scratching the surface of what's possible with Spark + Python.  Some models are implemented in MLib that are not in Scikit-learn but Scikit-learn is considered to be a more robust toolset in terms of analsysis on a single machine, however, there are exceptions to that statement.  Mainly, Spark requires a little more attention to types, and preprocessing can be a bit more inolved, but the fact that you can quickly iterate on a machine learning and data processing pipeline, is still a great asset when building predictive models.\n",
    "\n",
    "Some noteable features:\n",
    "\n",
    "- Pipelines\n",
    "- ParamGridSearch\n",
    "- Model Loading / Saving"
   ]
  },
  {
   "cell_type": "markdown",
   "metadata": {},
   "source": [
    "# Independent Practice\n",
    "\n",
    "Load up the merged version of the wine dataset and attempt to build an entire analysis pipeline with schema, test / train split, model evaluation."
   ]
  },
  {
   "cell_type": "code",
   "execution_count": 29,
   "metadata": {
    "collapsed": false
   },
   "outputs": [],
   "source": [
    "df = sqlctx.read.csv(\n",
    "    \"../../../datasets/wine_quality/winequality_merged.csv\", header=True, mode=\"DROPMALFORMED\"\n",
    ")"
   ]
  },
  {
   "cell_type": "markdown",
   "metadata": {},
   "source": [
    "### Attempt linear regression on one of the features as the response!"
   ]
  },
  {
   "cell_type": "code",
   "execution_count": null,
   "metadata": {
    "collapsed": true
   },
   "outputs": [],
   "source": []
  }
 ],
 "metadata": {
  "anaconda-cloud": {},
  "kernelspec": {
   "display_name": "Python 2",
   "language": "python",
   "name": "python2"
  },
  "language_info": {
   "codemirror_mode": {
    "name": "ipython",
    "version": 2
   },
   "file_extension": ".py",
   "mimetype": "text/x-python",
   "name": "python",
   "nbconvert_exporter": "python",
   "pygments_lexer": "ipython2",
   "version": "2.7.12"
  }
 },
 "nbformat": 4,
 "nbformat_minor": 0
}
