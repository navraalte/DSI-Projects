{
 "cells": [
  {
   "cell_type": "markdown",
   "metadata": {},
   "source": [
    "<img style=\"float: left;\" src=\"https://ga-dash.s3.amazonaws.com/production/assets/logo-9f88ae6c9c3871690e33280fcf557f33.png\">     \n",
    "##       SQL Review\n",
    "Week 8 | Lesson 2.2"
   ]
  },
  {
   "cell_type": "code",
   "execution_count": 3,
   "metadata": {
    "collapsed": true
   },
   "outputs": [],
   "source": [
    "from sqlalchemy import create_engine\n",
    "import psycopg2\n",
    "import pandas as pd\n",
    "\n",
    "conn_str = \"host='dsi.c20gkj5cvu3l.us-east-1.rds.amazonaws.com' dbname='northwind' user='dsi_student' password='gastudents'\"\n",
    "conn = psycopg2.connect(conn_str)"
   ]
  },
  {
   "cell_type": "markdown",
   "metadata": {},
   "source": [
    "The [Northwind Database Schema](https://northwinddatabase.codeplex.com/) will come in handy for writing your solutions to the problems below. \n",
    "\n",
    "A couple of notes on syntax. \n",
    "\n",
    "1. You want to wrap column names in double quotes **\"column_name\"**\n",
    "2. You can comment out a line by including a double dash in front **--**\n",
    "3. You want to wrap a string in single quotes **'string'**\n",
    "\n",
    "```*.sql\n",
    "SELECT \"ProductID\" as \"PID\"\n",
    "FROM Products\n",
    "WHERE \"ProductName\" like '%a' \n",
    "--AND \n",
    "```"
   ]
  },
  {
   "cell_type": "markdown",
   "metadata": {},
   "source": [
    "### Problem 1)\n",
    "#### From the employees table select all employees with an A or a B in their name who were born before 1/1/1980"
   ]
  },
  {
   "cell_type": "code",
   "execution_count": 1,
   "metadata": {
    "collapsed": false
   },
   "outputs": [],
   "source": [
    "SQL_STRING = '''\n",
    "\n",
    "SELECT *\n",
    "FROM Employees\n",
    "LIMIT 5\n",
    "'''\n",
    "\n",
    "df = pd.read_sql(SQL_STRING, con=conn)\n",
    "df"
   ]
  },
  {
   "cell_type": "markdown",
   "metadata": {},
   "source": [
    "#### Problem 2) \n",
    "\n",
    "#### From the Customers table return a count of number of customers per Country/City combination. Results should have 3 columns. Country, City, Count."
   ]
  },
  {
   "cell_type": "code",
   "execution_count": null,
   "metadata": {
    "collapsed": false,
    "scrolled": true
   },
   "outputs": [],
   "source": []
  },
  {
   "cell_type": "markdown",
   "metadata": {},
   "source": [
    "#### Problem 3\n",
    "#### From employees table, return the average age of employees per country in DESC order"
   ]
  },
  {
   "cell_type": "code",
   "execution_count": null,
   "metadata": {
    "collapsed": false
   },
   "outputs": [],
   "source": []
  },
  {
   "cell_type": "markdown",
   "metadata": {},
   "source": [
    "#### Problem 4\n",
    "#### From customers table what is the count of customers who have a 4 in their phone number per Region. Limit it to cities with at least 2 customers. "
   ]
  },
  {
   "cell_type": "code",
   "execution_count": null,
   "metadata": {
    "collapsed": false
   },
   "outputs": [],
   "source": []
  }
 ],
 "metadata": {
  "anaconda-cloud": {},
  "kernelspec": {
   "display_name": "Python [conda env:dsi]",
   "language": "python",
   "name": "conda-env-dsi-py"
  },
  "language_info": {
   "codemirror_mode": {
    "name": "ipython",
    "version": 2
   },
   "file_extension": ".py",
   "mimetype": "text/x-python",
   "name": "python",
   "nbconvert_exporter": "python",
   "pygments_lexer": "ipython2",
   "version": "2.7.13"
  }
 },
 "nbformat": 4,
 "nbformat_minor": 0
}
