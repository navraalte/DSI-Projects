{
 "cells": [
  {
   "cell_type": "markdown",
   "metadata": {},
   "source": [
    "<img style=\"float: left;\" src=\"https://ga-dash.s3.amazonaws.com/production/assets/logo-9f88ae6c9c3871690e33280fcf557f33.png\">     \n",
    "##   PostgreSQL Lab\n",
    "Week 8 | Lesson 2.2\n",
    "\n",
    "\n",
    "# Local Postgresql Database Lab\n",
    "\n",
    "In this lab we will practice adding and removing data from a local Postgresql database. We will:\n",
    "\n",
    "- Walk through instructions on how to set up and configure a local postgresql server\n",
    "- Create a database and a table using SQL and CRUD data in/from that table.\n",
    "- Learn how to copy data from a CSV file into this local database\n",
    "- Practice our SQL with a practice assignment."
   ]
  },
  {
   "cell_type": "markdown",
   "metadata": {},
   "source": [
    "## 1. Install postgresql locally\n",
    "\n",
    "You should have already taken care of this in the Installfest, but just in case, [here](http://www.postgresql.org/download/) are the instructions for the most common platforms."
   ]
  },
  {
   "cell_type": "markdown",
   "metadata": {},
   "source": [
    "## 2. Launch and connect to a local PostgreSQL server\n",
    "\n",
    "Now that you've installed PostgreSQL locally, practice connecting with the following methods:\n",
    "\n",
    "- [Postico](https://eggerapps.at/postico/docs/v1.0.6/)\n",
    "- Command-line (psql)\n",
    "- Sqlalchemy + Pandas\n",
    "- Ipython-notebook using the ipython-sql extension\n",
    "\n",
    "**Check:** List the existing databases, there should be none, right?\n",
    "> not true, there are some default databases from postgres\n",
    "\n",
    "**Check:** If there are databases, check the tables' contents."
   ]
  },
  {
   "cell_type": "code",
   "execution_count": null,
   "metadata": {
    "collapsed": false
   },
   "outputs": [],
   "source": []
  },
  {
   "cell_type": "markdown",
   "metadata": {},
   "source": [
    "## 3. Create DB\n",
    "Once you are connected to your local Postgresql server, create a new database. Call it `lab33`.\n",
    "\n",
    "Practice creating and deleting the database with the following methods:\n",
    "\n",
    "- Postico\n",
    "- Command-line:\n",
    ">     create database lab33\n",
    ">     drop database lab33\n",
    "\n",
    "- Sqlalchemy\n",
    "- Ipython-notebook using the ipython-sql extension\n",
    "\n",
    "**Check:** If you create a DB in Postico, do you see it from the command-line?\n",
    "> Yes\n",
    "\n",
    "**Check:** What does this tell us about multiple connections to the same db?\n",
    "> Multiple users/connections are possible and the data is consistent. Postgres is relational -> ACID."
   ]
  },
  {
   "cell_type": "code",
   "execution_count": null,
   "metadata": {
    "collapsed": false
   },
   "outputs": [],
   "source": []
  },
  {
   "cell_type": "markdown",
   "metadata": {},
   "source": [
    "## 4. CRUD (Create, Read, Update, and Delete)\n",
    "\n",
    "In lesson 1.1 you learned how to add and remove data from sqlite. Let's review that on our local PostgreSQL installation."
   ]
  },
  {
   "cell_type": "markdown",
   "metadata": {},
   "source": [
    "### 4.a: Creating Tables and Adding Columns\n",
    "\n",
    "1. Create an table called `table1` with a single column `field1` containing an INTEGER PRIMARY KEY. Practice doing this with any of the methods above.\n",
    "- Add a few more columns to `table1`:\n",
    "    - field2 VARCHAR(16)\n",
    "    - field3 REAL\n",
    "    - field4 TEXT\n",
    "check [the doc](http://www.postgresql.org/docs/9.3/static/datatype.html) for more info on data types supported by postgresql.\n",
    "- Check tables and schemas using command line or postico"
   ]
  },
  {
   "cell_type": "code",
   "execution_count": null,
   "metadata": {
    "collapsed": false
   },
   "outputs": [],
   "source": []
  },
  {
   "cell_type": "markdown",
   "metadata": {},
   "source": [
    "### 4.b: Add Data\n",
    "\n",
    "Add some data to `table1`:\n",
    "\n",
    "|field1|field2|field3|field4|\n",
    "|----|\n",
    "|1|'Henry James'|42|'75 Mission Street, San Francisco, CA'|\n",
    "|2|'Carol James'|40|'75 Mission Street, San Francisco, CA'|\n",
    "|3|'Jesse James'|12|'75 Mission Street, San Francisco, CA'|"
   ]
  },
  {
   "cell_type": "code",
   "execution_count": null,
   "metadata": {
    "collapsed": false
   },
   "outputs": [],
   "source": []
  },
  {
   "cell_type": "markdown",
   "metadata": {},
   "source": [
    "### 4.c: Read Data\n",
    "Read the content of the table,"
   ]
  },
  {
   "cell_type": "code",
   "execution_count": null,
   "metadata": {
    "collapsed": false
   },
   "outputs": [],
   "source": []
  },
  {
   "cell_type": "markdown",
   "metadata": {},
   "source": [
    "### 4.d: Update Records\n",
    "Suppose we need to update an existing record with new data - e.g. maybe `Jesse James` is only 9. Use the update command to do this."
   ]
  },
  {
   "cell_type": "code",
   "execution_count": null,
   "metadata": {
    "collapsed": false
   },
   "outputs": [],
   "source": []
  },
  {
   "cell_type": "markdown",
   "metadata": {},
   "source": [
    "### 4.e: Remove Records\n",
    "To remove records use the DELETE command. Delete the entry for anyone matching `Jesse`."
   ]
  },
  {
   "cell_type": "code",
   "execution_count": null,
   "metadata": {
    "collapsed": false
   },
   "outputs": [],
   "source": []
  },
  {
   "cell_type": "markdown",
   "metadata": {},
   "source": [
    "## 5. Data from CSV\n",
    "\n",
    "Copy CSV data from a local file into a local PostgreSQL database. We will use a [dataset](../../assets/datasets/Eviction_Notices.csv) pulled from the SF open data website. It contains a set of eviction notices issued in San Francisco.\n",
    "\n",
    "Open the data in a text editor and have a look at it."
   ]
  },
  {
   "cell_type": "markdown",
   "metadata": {},
   "source": [
    "### 5.a: Simple Import\n",
    "\n",
    "Read [this post](http://stackoverflow.com/questions/2987433/how-to-import-csv-file-data-into-a-postgresql-table) to learn how you can import data from CSV to PostgreSQL.\n",
    "\n",
    "Notice that you have to decide the type for each column. Let's keep it simple and import everything as a string of text for now.\n",
    "\n",
    "- Create a table called `evictions_simple` and import the data as varchar.\n",
    "- Check that everything worked fine by loading a few lines from the table.\n",
    "- Try some simple queries:\n",
    "    - count how many evictions are due to non_payments\n",
    "    - list the 3 most recent evictions\n",
    "\n",
    "\n",
    "**Hint:** A good practice when you create a new table is to always drop it first, in case it already exists.\n",
    "\n",
    "**Check:** Did you avoid importing the header as a record?"
   ]
  },
  {
   "cell_type": "code",
   "execution_count": null,
   "metadata": {
    "collapsed": false
   },
   "outputs": [],
   "source": []
  },
  {
   "cell_type": "markdown",
   "metadata": {},
   "source": [
    "### 5.b: Data Cleaning and Import\n",
    "\n",
    "If you've executed the last query correctly (most recent evictions), you'll have noticed that the dates are not correctly understood. This is because we were sloppy and imported the data as string for all fields.\n",
    "\n",
    "Let's see what data types we would ideally like to have for each column.\n",
    "\n",
    "[Here are data types](http://www.tutorialspoint.com/postgresql/postgresql_data_types.htm)\n",
    "\n",
    "- Discuss in pairs each column and then let's summarize together. Which data type would you choose for each field?\n",
    "- Repeat the import to a new table called `evictions`. Notice that line 31494 may throw an error. Why is that?\n",
    "> There are two ` characters that do not belong.\n",
    "- Repeat the query for the 3 most recent evictions. Does it work now?"
   ]
  },
  {
   "cell_type": "code",
   "execution_count": null,
   "metadata": {
    "collapsed": false
   },
   "outputs": [],
   "source": []
  },
  {
   "cell_type": "markdown",
   "metadata": {},
   "source": [
    "## 6. Queries\n",
    "\n",
    "Now that we have imported the data with correct data types, let's query the `evictions` table and find out a few things about SF and evictions.\n",
    "\n",
    "Questions:\n",
    "- How many neighborhoods are there in SF? List them alphabetically\n",
    "- How many supervisor districts? \n",
    "- How many unique zip codes?\n",
    "    - Are there any bad data in these? how many?\n",
    "- What are the top 5 causes of eviction?"
   ]
  },
  {
   "cell_type": "markdown",
   "metadata": {},
   "source": [
    "### 6.a: How many neighborhoods are there in SF? List them alphabetically."
   ]
  },
  {
   "cell_type": "code",
   "execution_count": null,
   "metadata": {
    "collapsed": false
   },
   "outputs": [],
   "source": []
  },
  {
   "cell_type": "markdown",
   "metadata": {},
   "source": [
    "### 6.b: How many supervisor districts?"
   ]
  },
  {
   "cell_type": "code",
   "execution_count": null,
   "metadata": {
    "collapsed": false
   },
   "outputs": [],
   "source": []
  },
  {
   "cell_type": "markdown",
   "metadata": {},
   "source": [
    "### 6.c how many unique zip codes?\n",
    "\n",
    "Are there any bad data in these?"
   ]
  },
  {
   "cell_type": "code",
   "execution_count": null,
   "metadata": {
    "collapsed": false
   },
   "outputs": [],
   "source": []
  },
  {
   "cell_type": "markdown",
   "metadata": {},
   "source": [
    "### 6.d: What are the top 5 causes of eviction?\n",
    "\n",
    "You may find it easier to answer this question using pandas."
   ]
  },
  {
   "cell_type": "code",
   "execution_count": null,
   "metadata": {
    "collapsed": false
   },
   "outputs": [],
   "source": []
  },
  {
   "cell_type": "markdown",
   "metadata": {},
   "source": [
    "## Bonus\n",
    "- Let's count the number of evictions for each year\n",
    "    - How has the number varied?\n",
    "    - Can you compare this with the nasdaq index? (use the DataReader module in Pandas to get the data)\n"
   ]
  },
  {
   "cell_type": "code",
   "execution_count": null,
   "metadata": {
    "collapsed": false
   },
   "outputs": [],
   "source": []
  }
 ],
 "metadata": {
  "kernelspec": {
   "display_name": "Python [default]",
   "language": "python",
   "name": "python2"
  },
  "language_info": {
   "codemirror_mode": {
    "name": "ipython",
    "version": 2
   },
   "file_extension": ".py",
   "mimetype": "text/x-python",
   "name": "python",
   "nbconvert_exporter": "python",
   "pygments_lexer": "ipython2",
   "version": "2.7.13"
  }
 },
 "nbformat": 4,
 "nbformat_minor": 0
}
