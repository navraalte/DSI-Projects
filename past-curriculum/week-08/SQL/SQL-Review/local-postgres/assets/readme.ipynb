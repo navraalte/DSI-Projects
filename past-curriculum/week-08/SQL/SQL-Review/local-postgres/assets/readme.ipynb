{
 "cells": [
  {
   "cell_type": "markdown",
   "metadata": {},
   "source": [
    "---\n",
    "title: Local Postgresql Database Lab\n",
    "type: lab\n",
    "duration: \"1:25\"\n",
    "creator:\n",
    "    name: Francesco Mosconi\n",
    "    city: SF\n",
    "---"
   ]
  },
  {
   "cell_type": "markdown",
   "metadata": {},
   "source": [
    "# ![](https://ga-dash.s3.amazonaws.com/production/assets/logo-9f88ae6c9c3871690e33280fcf557f33.png)  Local Postgresql Database Lab\n"
   ]
  },
  {
   "cell_type": "markdown",
   "metadata": {},
   "source": [
    "## Introduction\n",
    "\n",
    "In this lab we will practice adding and removing data from a local Postgresql database. We will walk through instructions on how to set up and configure their own local postgresql server.  We will first create a database and a table using SQL and CRUD data in/from that table. Then, we will learn how to copy data from a CSV file onto this local database. We will conclude with a short SQL practice assignment."
   ]
  },
  {
   "cell_type": "markdown",
   "metadata": {},
   "source": [
    "## Exercise\n",
    "\n",
    "#### Requirements\n",
    "\n",
    "- install postgresql locally (if not done in installfest)\n",
    "- create and connect to a local PostgreSQL server \n",
    "- using SQL, create a local PostgreSQL database \n",
    "- using SQL, CRUD data in/from a local PostgreSQL database \n",
    "- copy CSV data from a local file into a local PostgreSQL database \n",
    "- solve some simple queries of the data\n",
    "\n",
    "**Bonus:**\n",
    "\n",
    "- more advanced queries on the data\n",
    "- compare with external data\n",
    "\n",
    "#### Starter code\n",
    "\n",
    "[Starter Code](./code/starter-code/starter-code-3_3.ipynb)\n",
    "\n",
    "> [Solution Code](./code/solution-code/solution-code-3_3.ipynb)"
   ]
  },
  {
   "cell_type": "markdown",
   "metadata": {},
   "source": [
    "## Additional Resources\n",
    "\n",
    "- [Download Postgres documentation](http://www.postgresql.org/download/)\n",
    "- [Pandas Postgres connection](http://stackoverflow.com/questions/23103962/how-to-write-dataframe-to-postgres-table)\n",
    "- [Postgres input from CSV](http://stackoverflow.com/questions/2987433/how-to-import-csv-file-data-into-a-postgresql-table)\n",
    "- [Postgres input from sqlite](http://stackoverflow.com/questions/4581727/convert-sqlite-sql-dump-file-to-postgresql)\n"
   ]
  }
 ],
 "metadata": {
  "kernelspec": {
   "display_name": "Python 2",
   "language": "python",
   "name": "python2"
  },
  "language_info": {
   "codemirror_mode": {
    "name": "ipython",
    "version": 2
   },
   "file_extension": ".py",
   "mimetype": "text/x-python",
   "name": "python",
   "nbconvert_exporter": "python",
   "pygments_lexer": "ipython2",
   "version": "2.7.11"
  }
 },
 "nbformat": 4,
 "nbformat_minor": 0
}
