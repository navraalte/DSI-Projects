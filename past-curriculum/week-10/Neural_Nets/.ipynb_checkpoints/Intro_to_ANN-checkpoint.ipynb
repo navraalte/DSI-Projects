{
 "cells": [
  {
   "cell_type": "markdown",
   "metadata": {},
   "source": [
    "<img src=\"https://ga-dash.s3.amazonaws.com/production/assets/logo-9f88ae6c9c3871690e33280fcf557f33.png\" style=\"float: left; margin: 15px;\">\n",
    "### Introduction to Neural Networks \n",
    "\n",
    "Week 10 | Lesson 2.1 \n",
    "\n",
    "---\n",
    "| TIMING  | TYPE  \n",
    "|:-:|---|---|\n",
    "| 25 min| [Review: Classification, Regression](#review) |\n",
    "| 10 min| [Tensoflow Playground](#hook) |\n",
    "| 45 min| [Neural Network Foundations](#content) |\n",
    "\n",
    "---\n",
    "\n",
    "### Lesson Objectives\n",
    "*After this lesson, you will be able to:*\n",
    "- Understand what a multi-layer perceptron is and how it is different and more powerful than linear models \n",
    "\n",
    "- Identify the different non-linearities associated with Neural Networks \n",
    "\n",
    "- Train MLPs / ANNs using Keras \n",
    "\n",
    "- Understand the building blocks of Convolutional Neural Networks and use Keras to extract features and finetune\n",
    "\n",
    "---\n",
    "### Student Pre-Work \n",
    "\n",
    "*Before this lesson, you should already be able to understand:*\n",
    "\n",
    "- Linear Regression\n",
    "- Logistic Regression, Softmax "
   ]
  },
  {
   "cell_type": "markdown",
   "metadata": {},
   "source": [
    "---\n",
    "<a name=\"review\"></a>\n",
    "\n",
    "> **Check:** Tell me everything you know about linear regression. \n",
    "\n",
    "\n",
    "> **Check:** What is logistic regression, softmax regression? What are the differences? \n",
    "\n",
    "\n",
    "***Hint: It might be useful to think through the Loss Function, Solving for the Coefficients, etc. ***"
   ]
  },
  {
   "cell_type": "markdown",
   "metadata": {},
   "source": [
    "---\n",
    "<a name=\"hook\"> </a>\n",
    "\n",
    "### Neural Networks are everywhere...\n",
    "\n",
    "<center> \"_Artificial Intelligence is the new electricity_\" - Andrew Ng </center>\n",
    "\n",
    "**Computer Vision...**\n",
    "\n",
    "_Image Classification_\n",
    "<img src=http://img1.cache.netease.com/catchpic/3/3B/3B3537A8867C42B271119DF5EAFF1CE1.jpg> \n",
    "\n",
    "_Facial Recognition_\n",
    "\n",
    "<img src=https://gigaom.com/wp-content/uploads/sites/1/2014/08/deepface.jpg> \n",
    "\n",
    "_Semantic Segmentation_\n",
    "<img src=http://assets.nydailynews.com/polopoly_fs/1.1073990.1336429703!/img/httpImage/image.jpg_gen/derivatives/article_750/carswire8n-1-web.jpg height=100, width=500> \n",
    "\n",
    "\n",
    "**Speech Recognition...**\n",
    "<img src=https://assets.pcmag.com/media/images/518738-google-home-vs-amazon-echo.jpg?thumb=y&width=810&height=456 height=\"1500\" width=\"500\"> \n",
    "\n",
    "**Natural Language Processing...** \n",
    "\n",
    "<img src=https://venturebeat.com/wp-content/uploads/2016/05/Pypestream_chatbot_image.png?fit=930%2C1040&strip=all>\n",
    "\n",
    "**Medical Imagery...**\n",
    "\n",
    "<img src=http://www.womenfitness.net/img2016/artimg/march/Stages.jpg>\n",
    "\n",
    "<img src=https://image.slidesharecdn.com/2016-08-31-kagglereview-170121111640/95/ultrasound-nerve-segmentation-kaggle-review-2-638.jpg?cb=1484997543> \n",
    "\n"
   ]
  },
  {
   "cell_type": "markdown",
   "metadata": {},
   "source": [
    "---\n",
    "### Introduction to Neural Networks \n",
    "<a name=\"content\"></a>\n",
    "\n",
    "Before we get into the technical details, let's play in the <a href=http://playground.tensorflow.org/> Tensorflow Playground!</a> \n",
    "\n",
    "> **Check:** How do the following effect the generalization error: \n",
    "    - Number of Hidden Layers \n",
    "    - Neurons in Each Hidden Layer\n",
    "    - Learning Rate\n",
    "    - Regularization\n",
    "    - Noise\n",
    "    - Batch Size\n",
    "    - Ratio of training to test data\n",
    "\n"
   ]
  },
  {
   "cell_type": "code",
   "execution_count": 1,
   "metadata": {
    "collapsed": false
   },
   "outputs": [
    {
     "name": "stderr",
     "output_type": "stream",
     "text": [
      "/Users/Vrushank/anaconda/envs/py27/lib/python2.7/site-packages/matplotlib/__init__.py:872: UserWarning: axes.color_cycle is deprecated and replaced with axes.prop_cycle; please use the latter.\n",
      "  warnings.warn(self.msg_depr % (key, alt_key))\n"
     ]
    }
   ],
   "source": [
    "import matplotlib.pyplot as plt\n",
    "import numpy as np\n",
    "import pandas as pd\n",
    "import seaborn as sns\n",
    "\n",
    "sns.set_style('whitegrid')\n",
    "\n",
    "%matplotlib inline\n",
    "%config InlineBackend.figure_format = 'retina'"
   ]
  },
  {
   "cell_type": "code",
   "execution_count": 2,
   "metadata": {
    "collapsed": true
   },
   "outputs": [],
   "source": [
    "def draw_neural_net(ax, layer_sizes, layer_activations=None, weights=None,\n",
    "                    left=0.1, right=0.9, bottom=0.1, top=0.9):\n",
    "    '''\n",
    "    Draw a neural network cartoon using matplotilb.\n",
    "​\n",
    "    :usage:\n",
    "        >>> fig = plt.figure(figsize=(12, 12))\n",
    "        >>> draw_neural_net(fig.gca(), .1, .9, .1, .9, [4, 7, 2])\n",
    "​\n",
    "    '''\n",
    "    n_layers = len(layer_sizes)\n",
    "    v_spacing = (top - bottom)/float(max(max(layer_sizes), 2))\n",
    "    h_spacing = (right - left)/float(len(layer_sizes) - 1)\n",
    "    # Nodes\n",
    "    for n, layer_size in enumerate(layer_sizes):\n",
    "        layer_top = v_spacing*(layer_size - 1)/2. + (top + bottom)/2.\n",
    "        for m in xrange(layer_size):\n",
    "            circle = plt.Circle((n*h_spacing + left, layer_top - m*v_spacing), v_spacing/4.,\n",
    "                                color='w', ec='k', zorder=4)\n",
    "            ax.add_artist(circle)\n",
    "            if layer_activations is not None:\n",
    "                act = layer_activations[n][m]\n",
    "                if not isinstance(act, str):\n",
    "                    act = \"{0:.2f}\".format(act)\n",
    "                    fontsize = 14\n",
    "                else:\n",
    "                    fontsize = 18\n",
    "                ax.text(n*h_spacing + left, layer_top - m*v_spacing,\n",
    "                        act, ha='center', va='center', zorder=5, fontsize=fontsize)\n",
    "    # Edges\n",
    "    for n, (layer_size_a, layer_size_b) in enumerate(zip(layer_sizes[:-1], layer_sizes[1:])):\n",
    "        layer_top_a = v_spacing*(layer_size_a - 1)/2. + (top + bottom)/2.\n",
    "        layer_top_b = v_spacing*(layer_size_b - 1)/2. + (top + bottom)/2.\n",
    "        for m in xrange(layer_size_a):\n",
    "            for o in xrange(layer_size_b):\n",
    "                color = 'k'\n",
    "                lw = 2.\n",
    "                if weights is not None:\n",
    "                    W = weights[n]\n",
    "                    if len(W.shape) == 2:\n",
    "                        w = W[m, o]\n",
    "                    else:\n",
    "                        w = W[o]\n",
    "                    if w < 0:\n",
    "                        color = 'darkred'\n",
    "                    lw = 0.5 + 2*np.abs(w)\n",
    "                    \n",
    "                line = plt.Line2D([n*h_spacing + left, (n + 1)*h_spacing + left],\n",
    "                                  [layer_top_a - m*v_spacing, layer_top_b - o*v_spacing], \n",
    "                                  c=color, lw=lw)\n",
    "                ax.add_artist(line)"
   ]
  },
  {
   "cell_type": "code",
   "execution_count": 4,
   "metadata": {
    "collapsed": false
   },
   "outputs": [
    {
     "data": {
      "text/plain": [
       "(2, 2)"
      ]
     },
     "execution_count": 4,
     "metadata": {},
     "output_type": "execute_result"
    }
   ],
   "source": [
    "a = np.array([[1,2],[4,5]])\n",
    "a.shape"
   ]
  },
  {
   "cell_type": "code",
   "execution_count": 5,
   "metadata": {
    "collapsed": false
   },
   "outputs": [
    {
     "data": {
      "image/png": "[encoded data removed]",
      "text/plain": [
       "<matplotlib.figure.Figure at 0x10fb35210>"
      ]
     },
     "metadata": {
      "image/png": {
       "height": 426,
       "width": 432
      }
     },
     "output_type": "display_data"
    }
   ],
   "source": [
    "fig, ax = plt.subplots(figsize=(7, 7))\n",
    "ax.axis('off')\n",
    "draw_neural_net(ax, [5, 1])\n"
   ]
  },
  {
   "cell_type": "code",
   "execution_count": 6,
   "metadata": {
    "collapsed": false
   },
   "outputs": [
    {
     "data": {
      "image/png": "[encoded data removed]",
      "text/plain": [
       "<matplotlib.figure.Figure at 0x1120bd4d0>"
      ]
     },
     "metadata": {
      "image/png": {
       "height": 426,
       "width": 432
      }
     },
     "output_type": "display_data"
    }
   ],
   "source": [
    "fig, ax = plt.subplots(figsize=(7, 7))\n",
    "ax.axis('off')\n",
    "draw_neural_net(ax, [2, 3, 1], layer_activations=[[1.23, 1.23], [2.33, 4.33, 5.44], [1.34555]],\n",
    "                weights=[np.random.normal(0,1, size=(2,3)), np.random.normal(0,1,size=(3,1))])\n"
   ]
  },
  {
   "cell_type": "markdown",
   "metadata": {},
   "source": [
    "This is a feed-forward neural network with three layers. The first layer is typically called the \"input layer\" and the final layer is called the \"output layer\". \n",
    "\n",
    "In a basic feed-forward neural network, the layers between the input and output are referred to as _hidden_ layers. The implication is that their values are not observed, whereas the values of the inputs and outputs are.\n",
    "\n",
    "In the network above we have 2 input neurons, 3 hidden layer neurons, and one output neuron. We can define representations of these using numpy."
   ]
  },
  {
   "cell_type": "code",
   "execution_count": 7,
   "metadata": {
    "collapsed": false
   },
   "outputs": [
    {
     "name": "stdout",
     "output_type": "stream",
     "text": [
      "[ 0.  0.] [ 0.  0.  0.] [ 0.]\n"
     ]
    }
   ],
   "source": [
    "input_act = np.zeros(2)\n",
    "hidden_act = np.zeros(3)\n",
    "output_act = np.zeros(1)\n",
    "\n",
    "print input_act, hidden_act, output_act"
   ]
  },
  {
   "cell_type": "markdown",
   "metadata": {},
   "source": [
    "Let $a_j^i$ represent the activation of the $j$th neuron in the $i$th layer.\n",
    "\n",
    "$\\sigma$ is what's called an \"activation function\". More on this later, but it modifies the activation of neurons.\n",
    "\n",
    "$w_{jk}^i$ represents the weight of the activation in the $k$th neuron in the $i-1$ layer to the $j$th neuron in the $i$th layer.\n",
    "\n",
    "$a_k^{i-1}$ is the activation of the $k$th neuron in the $i-1$th layer.\n",
    "\n",
    "$b_j^i$ is the \"bias\" of the $j$th neuron in the $i$th layer.\n",
    "\n",
    "We can write the equation for the activation of the $j$th neuron in the $i$th layer as:\n",
    "\n",
    "### $$ a_j^i = \\sigma \\left( \\sum_k w_{jk}^i a_k^{i-1} + b_j^i \\right)$$\n",
    "\n",
    "Which is somewhat cumbersome, but the gist of it is that each neuron is a sum of the weighted activations of neurons that feed into it plus a \"bias\" value.\n"
   ]
  },
  {
   "cell_type": "markdown",
   "metadata": {},
   "source": [
    "It is cleaner to write the formula in matrix notation. Here is the vectorized version of the formula above:\n",
    "\n",
    "### $$ a^i = \\sigma(W^i a^{i-1} + b^i) $$\n",
    "\n",
    "We formulate this with a weight matrix $W^i$ for each layer $i$. The weight matrix defines the weightings on the previous layer neuron activations to the neurons of the current layer. "
   ]
  },
  {
   "cell_type": "markdown",
   "metadata": {},
   "source": [
    "---\n",
    "\n",
    "### Coding the forward propagation\n",
    "\n",
    "Let's start with a demo of how the activations are propagated forward with our basic neural network architecture. We can do this with both formulas for clarity.\n",
    "\n",
    "First write a function to calculate the activation of a **single** neuron given arguments:\n",
    "\n",
    "    neurons\n",
    "    neuron_weights\n",
    "    bias\n",
    "    activation_func"
   ]
  },
  {
   "cell_type": "code",
   "execution_count": 9,
   "metadata": {
    "collapsed": true
   },
   "outputs": [],
   "source": [
    "def linear(x):\n",
    "    return x"
   ]
  },
  {
   "cell_type": "code",
   "execution_count": 10,
   "metadata": {
    "collapsed": true
   },
   "outputs": [],
   "source": [
    "def single_activation(neurons, neuron_weights, bias, activation_func=linear):\n",
    "    activation = 0.\n",
    "    for n, w in zip(neurons, neuron_weights):\n",
    "        activation += n*w\n",
    "    activation += bias\n",
    "    activation = activation_func(activation)\n",
    "    return activation\n",
    "    "
   ]
  },
  {
   "cell_type": "code",
   "execution_count": 11,
   "metadata": {
    "collapsed": false
   },
   "outputs": [
    {
     "data": {
      "text/plain": [
       "13.0"
      ]
     },
     "execution_count": 11,
     "metadata": {},
     "output_type": "execute_result"
    }
   ],
   "source": [
    "single_activation([1.,2.,3.], [0.5, 0.5, 0.5], bias=10.)"
   ]
  },
  {
   "cell_type": "code",
   "execution_count": 12,
   "metadata": {
    "collapsed": false
   },
   "outputs": [
    {
     "data": {
      "image/png": "[encoded data removed]",
      "text/plain": [
       "<matplotlib.figure.Figure at 0x1134c4450>"
      ]
     },
     "metadata": {
      "image/png": {
       "height": 426,
       "width": 432
      }
     },
     "output_type": "display_data"
    }
   ],
   "source": [
    "fig, ax = plt.subplots(figsize=(7, 7))\n",
    "ax.axis('off')\n",
    "draw_neural_net(ax, [3, 1], layer_activations=np.array([[1,2,3],[13]]),\n",
    "                weights=np.array([[0.5, 0.5, 0.5]]))\n"
   ]
  },
  {
   "cell_type": "markdown",
   "metadata": {},
   "source": [
    "If we have the function to calculate activation for a single neuron, we can write a function to calculate an entire layer-to-layer forward propagation. This function will accept arguments:\n",
    "\n",
    "    layer_in\n",
    "    in_out_weights\n",
    "    layer_out_biases\n",
    "    activation_function\n",
    "    \n",
    "The `in_out_weights` will be a matrix or list of lists that specifies the weightings for each of the input neuron activations to all of the neurons in the output layer. The biases will be a vector the same length as the output layer.\n",
    "\n",
    "Assume that the layers in and out are represented as 1D vectors (rather than \"column\" format where the activations are row by row in a single column of a 2D matrix)."
   ]
  },
  {
   "cell_type": "code",
   "execution_count": 13,
   "metadata": {
    "collapsed": true
   },
   "outputs": [],
   "source": [
    "def layer_activation(layer_in, in_out_weights, out_biases, activation_func=linear):\n",
    "    activations = np.zeros(in_out_weights.shape[1])\n",
    "    print 'initial activations:', activations\n",
    "    for col in range(in_out_weights.shape[1]):\n",
    "        current_weights = in_out_weights[:, col]\n",
    "        print 'current weights:', current_weights\n",
    "        current_bias = out_biases[col]\n",
    "        activations[col] = single_activation(layer_in, current_weights, current_bias,\n",
    "                                             activation_func=activation_func)\n",
    "    return activations"
   ]
  },
  {
   "cell_type": "markdown",
   "metadata": {},
   "source": [
    "We can test it out below. Initialize the inputs, weights, and biases to calculate the hidden layer:"
   ]
  },
  {
   "cell_type": "code",
   "execution_count": 14,
   "metadata": {
    "collapsed": false
   },
   "outputs": [
    {
     "name": "stdout",
     "output_type": "stream",
     "text": [
      "[ 0.84102195 -0.41656951]\n",
      "[[ 2.58048269 -0.19973845 -0.05421173]\n",
      " [ 0.99118842  0.81145792 -0.42962183]]\n",
      "[ 1.  1.  1.]\n"
     ]
    }
   ],
   "source": [
    "input_act = np.random.uniform(-1, 1, size=2)\n",
    "input_to_hidden = np.random.randn(2, 3)\n",
    "hidden_biases = np.ones(3)\n",
    "\n",
    "print input_act\n",
    "print input_to_hidden\n",
    "print hidden_biases"
   ]
  },
  {
   "cell_type": "code",
   "execution_count": 15,
   "metadata": {
    "collapsed": false
   },
   "outputs": [
    {
     "name": "stdout",
     "output_type": "stream",
     "text": [
      "initial activations: [ 0.  0.  0.]\n",
      "current weights: [ 2.58048269  0.99118842]\n",
      "current weights: [-0.19973845  0.81145792]\n",
      "current weights: [-0.05421173 -0.42962183]\n"
     ]
    },
    {
     "data": {
      "text/plain": [
       "array([ 2.75734371,  0.49398695,  1.1333741 ])"
      ]
     },
     "execution_count": 15,
     "metadata": {},
     "output_type": "execute_result"
    }
   ],
   "source": [
    "hidden_act = layer_activation(input_act, input_to_hidden, hidden_biases)\n",
    "hidden_act"
   ]
  },
  {
   "cell_type": "code",
   "execution_count": 16,
   "metadata": {
    "collapsed": false
   },
   "outputs": [
    {
     "data": {
      "image/png": "[encoded data removed]",
      "text/plain": [
       "<matplotlib.figure.Figure at 0x1137e1110>"
      ]
     },
     "metadata": {
      "image/png": {
       "height": 426,
       "width": 432
      }
     },
     "output_type": "display_data"
    }
   ],
   "source": [
    "fig, ax = plt.subplots(figsize=(7, 7))\n",
    "ax.axis('off')\n",
    "draw_neural_net(ax, [2, 3], layer_activations=[input_act, hidden_act],\n",
    "                weights=input_to_hidden)"
   ]
  },
  {
   "cell_type": "markdown",
   "metadata": {},
   "source": [
    "You can do the same for the hidden layer to the output layer. Initialize the hidden to output weights as well as the bias for the output weights, then you can use the function again."
   ]
  },
  {
   "cell_type": "code",
   "execution_count": 17,
   "metadata": {
    "collapsed": false
   },
   "outputs": [
    {
     "name": "stdout",
     "output_type": "stream",
     "text": [
      "[[-1.03663444]\n",
      " [-0.10215402]\n",
      " [-0.27285057]]\n",
      "[-1]\n"
     ]
    }
   ],
   "source": [
    "hidden_to_output = np.random.randn(3,1)\n",
    "print hidden_to_output\n",
    "output_bias = np.array([-1])\n",
    "print output_bias"
   ]
  },
  {
   "cell_type": "code",
   "execution_count": 18,
   "metadata": {
    "collapsed": false
   },
   "outputs": [
    {
     "name": "stdout",
     "output_type": "stream",
     "text": [
      "[ 2.75734371  0.49398695  1.1333741 ]\n",
      "[-1.03663444 -0.10215402 -0.27285057]\n",
      "[-2.85835745 -0.05046275 -0.30924177]\n",
      "-3.21806197217\n",
      "-4.21806197217\n"
     ]
    }
   ],
   "source": [
    "print hidden_act\n",
    "print hidden_to_output.T[0]\n",
    "print hidden_act * hidden_to_output.T[0]\n",
    "print np.sum(hidden_act * hidden_to_output.T[0])\n",
    "print np.sum(hidden_act * hidden_to_output.T[0]) -1"
   ]
  },
  {
   "cell_type": "code",
   "execution_count": 19,
   "metadata": {
    "collapsed": false
   },
   "outputs": [
    {
     "data": {
      "text/plain": [
       "-4.2180619721707959"
      ]
     },
     "execution_count": 19,
     "metadata": {},
     "output_type": "execute_result"
    }
   ],
   "source": [
    "np.sum(hidden_act*hidden_to_output.T) -1 "
   ]
  },
  {
   "cell_type": "code",
   "execution_count": 20,
   "metadata": {
    "collapsed": false
   },
   "outputs": [
    {
     "name": "stdout",
     "output_type": "stream",
     "text": [
      "initial activations: [ 0.]\n",
      "current weights: [-1.03663444 -0.10215402 -0.27285057]\n"
     ]
    },
    {
     "data": {
      "text/plain": [
       "array([-4.21806197])"
      ]
     },
     "execution_count": 20,
     "metadata": {},
     "output_type": "execute_result"
    }
   ],
   "source": [
    "output_act = layer_activation(hidden_act, hidden_to_output, output_bias)\n",
    "output_act"
   ]
  },
  {
   "cell_type": "markdown",
   "metadata": {},
   "source": [
    "---\n",
    "\n",
    "### Matrix operation version of forward propagation\n",
    "\n",
    "The activation function does not have to be linear, but for now we will have it linear for simplicity. Linear activation is a commonly used activation function in neural networks. There are other popular activations such as sigmoid, tanh, and ReLU as well that we will discuss later.\n",
    "\n",
    "Recall the \"vectorized\" formulation of the forward propagation:\n",
    "\n",
    "### $$ a^i = \\sigma(W^i a^{i-1} + b^i) $$\n",
    "\n",
    "$a$ are vectors of neuron activations for layer $i$, the $b$ is now a vector of biases, and $W$ indicates our weight matrix.\n",
    "\n",
    "We can also define just the weighted input - the vector that is fed to the activation function - as a vector $z$:\n",
    "\n",
    "### $$ z^i = (W^i a^{i-1} + b^i) $$\n",
    "\n",
    "We can write the forward propagation functions above but using matrix operations. Define a function that will take the input layer, weight matrix, biases, and activation function and calculate the activations with linear algebra operations."
   ]
  },
  {
   "cell_type": "code",
   "execution_count": 21,
   "metadata": {
    "collapsed": false
   },
   "outputs": [
    {
     "data": {
      "text/plain": [
       "array([[ 2.58048269, -0.19973845, -0.05421173],\n",
       "       [ 0.99118842,  0.81145792, -0.42962183]])"
      ]
     },
     "execution_count": 21,
     "metadata": {},
     "output_type": "execute_result"
    }
   ],
   "source": [
    "input_to_hidden"
   ]
  },
  {
   "cell_type": "code",
   "execution_count": 22,
   "metadata": {
    "collapsed": false
   },
   "outputs": [
    {
     "data": {
      "text/plain": [
       "array([[ 0.84102195, -0.41656951]])"
      ]
     },
     "execution_count": 22,
     "metadata": {},
     "output_type": "execute_result"
    }
   ],
   "source": [
    "np.atleast_2d(input_act)"
   ]
  },
  {
   "cell_type": "code",
   "execution_count": 23,
   "metadata": {
    "collapsed": false
   },
   "outputs": [
    {
     "data": {
      "text/plain": [
       "array([ 1.75734371, -0.50601305,  0.1333741 ])"
      ]
     },
     "execution_count": 23,
     "metadata": {},
     "output_type": "execute_result"
    }
   ],
   "source": [
    "input_act.dot(input_to_hidden)"
   ]
  },
  {
   "cell_type": "code",
   "execution_count": 24,
   "metadata": {
    "collapsed": true
   },
   "outputs": [],
   "source": [
    "def forward(input_layer, weights, biases, activation_function=linear):\n",
    "    input_rows = np.atleast_2d(input_layer)\n",
    "    \n",
    "    # calculate output layer activations\n",
    "    output_activations = activation_function(input_rows.dot(weights) + biases)\n",
    "    \n",
    "    return output_activations"
   ]
  },
  {
   "cell_type": "markdown",
   "metadata": {},
   "source": [
    "You can see that this gives us the same result as above. This way of writing it will come in handy when you want to apply the operation to multiple observations of inputs at once."
   ]
  },
  {
   "cell_type": "code",
   "execution_count": 27,
   "metadata": {
    "collapsed": false
   },
   "outputs": [
    {
     "data": {
      "text/plain": [
       "array([[ 2.75734371,  0.49398695,  1.1333741 ]])"
      ]
     },
     "execution_count": 27,
     "metadata": {},
     "output_type": "execute_result"
    }
   ],
   "source": [
    "hidden_act = forward(input_act, input_to_hidden, hidden_biases)\n",
    "hidden_act"
   ]
  },
  {
   "cell_type": "code",
   "execution_count": 28,
   "metadata": {
    "collapsed": false
   },
   "outputs": [
    {
     "data": {
      "text/plain": [
       "array([[-4.21806197]])"
      ]
     },
     "execution_count": 28,
     "metadata": {},
     "output_type": "execute_result"
    }
   ],
   "source": [
    "output_act = forward(hidden_act, hidden_to_output, output_bias)\n",
    "output_act"
   ]
  },
  {
   "cell_type": "markdown",
   "metadata": {},
   "source": [
    "We can plot this out again with the activations for clarity."
   ]
  },
  {
   "cell_type": "code",
   "execution_count": 29,
   "metadata": {
    "collapsed": false
   },
   "outputs": [
    {
     "data": {
      "image/png": "[encoded data removed]",
      "text/plain": [
       "<matplotlib.figure.Figure at 0x113c81210>"
      ]
     },
     "metadata": {
      "image/png": {
       "height": 426,
       "width": 432
      }
     },
     "output_type": "display_data"
    }
   ],
   "source": [
    "fig, ax = plt.subplots(figsize=(7, 7))\n",
    "ax.axis('off')\n",
    "draw_neural_net(ax, [2, 3, 1], layer_activations=[input_act, hidden_act[0], output_act[0]],\n",
    "                weights=[input_to_hidden, hidden_to_output])\n"
   ]
  },
  {
   "cell_type": "markdown",
   "metadata": {},
   "source": [
    "---\n",
    "\n",
    "### The XOR problem\n",
    "\n",
    "Thus far, our setup is not terribly interesting or useful. Our goal in building a network is to construct a model, and for that we will need a problem to solve.\n",
    "\n",
    "The XOR problem is a famous problem for neural networks. XOR is the symbol for \"exclusive or\", which is a logical operation that evaluates to `True` when A or B is present, but not both. \n",
    "\n",
    "We can set up our \"data\" below, with the inputs to XOR and our expected output."
   ]
  },
  {
   "cell_type": "code",
   "execution_count": 31,
   "metadata": {
    "collapsed": false
   },
   "outputs": [
    {
     "name": "stdout",
     "output_type": "stream",
     "text": [
      "[[1 1]\n",
      " [1 0]\n",
      " [0 1]\n",
      " [0 0]]\n",
      "[[0]\n",
      " [1]\n",
      " [1]\n",
      " [0]]\n"
     ]
    }
   ],
   "source": [
    "XOR_in = np.array([[1,1],[1,0],[0,1],[0,0]])\n",
    "XOR_out = np.array([[0,1,1,0]]).T\n",
    "\n",
    "print XOR_in\n",
    "print XOR_out"
   ]
  },
  {
   "cell_type": "markdown",
   "metadata": {},
   "source": [
    "We will also need to specify a loss function. For now let's use the least squared loss, which we will code below."
   ]
  },
  {
   "cell_type": "code",
   "execution_count": 38,
   "metadata": {
    "collapsed": true
   },
   "outputs": [],
   "source": [
    "def lsq_loss(y_true, y_pred):\n",
    "    return np.mean(0.5 * (y_true - y_pred)**2)"
   ]
  },
  {
   "cell_type": "markdown",
   "metadata": {},
   "source": [
    "What would be our loss right now, if we fed the inputs into the neural network?\n",
    "\n",
    "We can put it through our function above to see."
   ]
  },
  {
   "cell_type": "code",
   "execution_count": 32,
   "metadata": {
    "collapsed": true
   },
   "outputs": [],
   "source": [
    "def forward_pass(input_layer, weights_list, biases_list):\n",
    "    activations = [input_layer]\n",
    "    for W, b in zip(weights_list, biases_list):\n",
    "        activations.append(forward(activations[-1], W, b))\n",
    "    return activations"
   ]
  },
  {
   "cell_type": "code",
   "execution_count": 33,
   "metadata": {
    "collapsed": true
   },
   "outputs": [],
   "source": [
    "acts = forward_pass(XOR_in, [input_to_hidden, hidden_to_output], [hidden_biases, output_bias])"
   ]
  },
  {
   "cell_type": "code",
   "execution_count": 34,
   "metadata": {
    "collapsed": false
   },
   "outputs": [
    {
     "name": "stdout",
     "output_type": "stream",
     "text": [
      "[[1 1]\n",
      " [1 0]\n",
      " [0 1]\n",
      " [0 0]]\n",
      "[[ 4.57167111  1.61171947  0.51616644]\n",
      " [ 3.58048269  0.80026155  0.94578827]\n",
      " [ 1.99118842  1.81145792  0.57037817]\n",
      " [ 1.          1.          1.        ]]\n",
      "[[-6.04463164]\n",
      " [-5.05146046]\n",
      " [-3.4048102 ]\n",
      " [-2.41163903]]\n"
     ]
    }
   ],
   "source": [
    "for a in acts:\n",
    "    print a"
   ]
  },
  {
   "cell_type": "code",
   "execution_count": 35,
   "metadata": {
    "collapsed": false
   },
   "outputs": [
    {
     "data": {
      "text/plain": [
       "array([[0],\n",
       "       [1],\n",
       "       [1],\n",
       "       [0]])"
      ]
     },
     "execution_count": 35,
     "metadata": {},
     "output_type": "execute_result"
    }
   ],
   "source": [
    "XOR_out"
   ]
  },
  {
   "cell_type": "code",
   "execution_count": 36,
   "metadata": {
    "collapsed": false
   },
   "outputs": [
    {
     "data": {
      "text/plain": [
       "array([[-1.03663444, -0.10215402, -0.27285057]])"
      ]
     },
     "execution_count": 36,
     "metadata": {},
     "output_type": "execute_result"
    }
   ],
   "source": [
    "hidden_to_output.T"
   ]
  },
  {
   "cell_type": "markdown",
   "metadata": {},
   "source": [
    "You'll notice that these are now for each observation."
   ]
  },
  {
   "cell_type": "code",
   "execution_count": 39,
   "metadata": {
    "collapsed": false
   },
   "outputs": [
    {
     "data": {
      "text/plain": [
       "('MSE loss:', 12.29701264499943)"
      ]
     },
     "execution_count": 39,
     "metadata": {},
     "output_type": "execute_result"
    }
   ],
   "source": [
    "'MSE loss:', lsq_loss(XOR_out, acts[-1])"
   ]
  },
  {
   "cell_type": "code",
   "execution_count": 40,
   "metadata": {
    "collapsed": false
   },
   "outputs": [
    {
     "data": {
      "text/plain": [
       "array([[ 0.1],\n",
       "       [ 0.2],\n",
       "       [ 0.3],\n",
       "       [ 0.4]])"
      ]
     },
     "execution_count": 40,
     "metadata": {},
     "output_type": "execute_result"
    }
   ],
   "source": [
    "delta = np.array([[0.1,0.2,0.3,0.4]]).T\n",
    "delta"
   ]
  },
  {
   "cell_type": "code",
   "execution_count": 41,
   "metadata": {
    "collapsed": false
   },
   "outputs": [
    {
     "data": {
      "text/plain": [
       "array([[-1.03663444, -0.10215402, -0.27285057]])"
      ]
     },
     "execution_count": 41,
     "metadata": {},
     "output_type": "execute_result"
    }
   ],
   "source": [
    "hidden_to_output.T"
   ]
  },
  {
   "cell_type": "code",
   "execution_count": 42,
   "metadata": {
    "collapsed": false
   },
   "outputs": [
    {
     "data": {
      "text/plain": [
       "array([[-0.10366344, -0.0102154 , -0.02728506],\n",
       "       [-0.20732689, -0.0204308 , -0.05457011],\n",
       "       [-0.31099033, -0.03064621, -0.08185517],\n",
       "       [-0.41465377, -0.04086161, -0.10914023]])"
      ]
     },
     "execution_count": 42,
     "metadata": {},
     "output_type": "execute_result"
    }
   ],
   "source": [
    "delta.dot(hidden_to_output.T)"
   ]
  },
  {
   "cell_type": "markdown",
   "metadata": {},
   "source": [
    "---\n",
    "\n",
    "### Backpropagation: calculating the adjustment of parameters to minimize loss\n",
    "\n",
    "We would like to reduce our error on prediction. In order to do this, we will have to adjust the weights in our network. Backpropagation of error is the method in which neural netoworks adjust these weights. \n",
    "\n",
    "The crux of backpropagation is that we calculate the partial derivative of the cost function with respect to weights and biases. This is the same idea of gradient descent, where we incrementally tweak the values of coefficients down the gradient towards the minimum of the loss function. The only difficulty is that we now have layered coefficients and the derivative with respect to any one of them may be intractable to explicitly derive.\n",
    "\n",
    "Luckily, backpropagation allows us to avoid deriving the full derivative of the cost function with respect to any given parameter. It leverages the chain rule of calculus to find the gradient through an iterative procedure.\n",
    "\n",
    "To simplify things starting out, let's look at an even more basic neural network architecture. Now we have 3 layers, but only one node in each one:\n"
   ]
  },
  {
   "cell_type": "code",
   "execution_count": 43,
   "metadata": {
    "collapsed": false
   },
   "outputs": [
    {
     "data": {
      "image/png": "[encoded data removed]",
      "text/plain": [
       "<matplotlib.figure.Figure at 0x10996c710>"
      ]
     },
     "metadata": {
      "image/png": {
       "height": 370,
       "width": 377
      }
     },
     "output_type": "display_data"
    }
   ],
   "source": [
    "fig, ax = plt.subplots(figsize=(6, 6))\n",
    "ax.axis('off')\n",
    "draw_neural_net(ax, [1, 1, 1], layer_activations=[['A'],['B'],['C']])\n"
   ]
  },
  {
   "cell_type": "markdown",
   "metadata": {},
   "source": [
    "Say $MSE_x$ is our loss function for a single training example, we want to calculate:\n",
    "\n",
    "### $$ \\frac{\\partial MSE_x}{\\partial w} \\\\\n",
    "\\frac{\\partial MSE_x}{\\partial b} $$\n",
    "\n",
    "Where $w$ are the weights between the neurons and $b$ are the biases. These partial derivatives will inform us how to adjust the values like in gradient descent to minimize the loss function.\n",
    "\n",
    "We may have many observations - in the case of our XOR problem we have 4. Luckily we can recover the partial derivative of the entire cost function with respect to $w$ and $b$ by averaging over the input training samples. This is because our least squared loss function can be described as an average loss across the training examples.\n",
    "\n",
    "Backpropagation is really about the backpropagation of the total error of the network (as defined by the loss/cost function) through to the neurons. One way of thinking about this is that each neuron will be assigned an amount of error that it is contributing to the overall error."
   ]
  },
  {
   "cell_type": "markdown",
   "metadata": {},
   "source": [
    "---\n",
    "​\n",
    "### The chain rule of calculus\n",
    "​\n",
    "The key to how backpropagation works lies in the chain rule. The chain rule is a method to compute the derivatives of functions that are compositions of other functions with known derivatives.\n",
    "​\n",
    "Say we have two functions, $f$ and $g$, and that we define variables $y$ and $z$ such that:\n",
    "​\n",
    "### $$ y = g(x) \\\\\n",
    "z = f(g(x)) = f(y) $$\n",
    "​\n",
    "Where $x$ is a real number. These are functions that map real numbers to other real numbers, and they represent a dependent relationship. Specifically, the value of $z$ is dependent on the value of $y$. The chain rule is written as:\n",
    "​\n",
    "### $$ \\frac{\\partial z}{\\partial x} = \\frac{\\partial z}{\\partial y} \\cdot \\frac{\\partial y}{\\partial x} $$\n",
    "​\n",
    "Take our simple neural network we plotted above with neurons A, B, and C. We can write out some formulas for the activations of these neurons:\n",
    "​\n",
    "### $$ act_B(x) = \\sigma (act_A(x) \\cdot W_{AB} + b_{B}) \\\\\n",
    "act_C(x) = \\sigma (act_B(x) \\cdot W_{BC} + b_{C})$$\n",
    "​\n",
    "So, therefore:\n",
    "​\n",
    "### $$ act_C(x) = \\sigma (\\sigma (act_A(x) \\cdot W_{AB} + b_{B}) \\cdot W_{BC} + b_{C}) $$\n",
    "​\n",
    "And:\n",
    "​\n",
    "### $$ \\frac{\\partial C}{x} = \\frac{\\partial C}{\\partial B} \\frac{\\partial B}{\\partial A} \\frac{\\partial A}{\\partial x} $$\n",
    "​\n",
    "We have the dependent function relationship defined in the chain rule above. Say we want to compute the "
   ]
  },
  {
   "cell_type": "markdown",
   "metadata": {},
   "source": [
    "---\n",
    "\n",
    "### Error of a single neuron\n",
    "\n",
    "We can define the error of a neuron $j$ as:\n",
    "\n",
    "### $$ \\partial_j^i = \\frac{\\partial C}{\\partial a_j^i} $$\n",
    "\n",
    "Where $a_j^i$ is the activation of the neuron as calculated by the forward propagating activations times weights before we apply the activation function $\\sigma$.\n",
    "\n",
    "$C$ here represents the cost, or total error of the network. The entire right hand side of the equation represents the partial derivative of the loss with respect to the weighted input of neuron $j$ at layer $i$.\n"
   ]
  },
  {
   "cell_type": "markdown",
   "metadata": {},
   "source": [
    "---\n",
    "\n",
    "### Error of the output layer\n",
    "\n",
    "In backpropagation we will work backwards from the output layer down, computing the error as calculated by derivatives at each step. The first step is to calculate the error of our output neurons. The error will be the derivative of our cost/loss $C$ with respect to the activation multiplied by the derivative our our activation function applied to the pre-function activation of our neurons $z_j^i$. The full formula is written as:\n",
    "\n",
    "### $$ \\partial_j^{out} = \\frac{\\partial C}{\\partial a_j^{out}} \\sigma' (z_j^{out}) $$\n",
    "\n",
    "$\\partial_j^{out}$ are the errors for each of the $j$ output nodes. In our case, there is just one output node, so we will just have $\\partial^{out}$\n",
    "\n",
    "$\\frac{\\partial C}{\\partial a_j^{out}}$ is the derivative of the cost/loss with respect to the activations of the output neurons. Again, we only have a single output neuron.\n",
    "\n",
    "$\\sigma' (z_j^{out})$ is the derivative of the activation function applied to the weighted inputs to the neurons. We are using a linear activation function, and it's derivative evaluates to 1 regardless of input:\n",
    "\n",
    "### $$ \\text{linear}'(x) = 1 $$\n",
    "\n",
    "For our simple neural network with a single output, we can simplify the equation:\n",
    "\n",
    "### $$ \\partial^{out} = \\frac{\\partial C}{\\partial a^{out}}$$\n",
    "\n",
    "This formula is derived using the chain rule:\n",
    "\n",
    "### $$ \\partial_j^{out} = \\frac{\\partial C}{\\partial a_j^{out}} \\frac{\\partial a_j^{out}}{\\partial z_j^{out}} = \\frac{\\partial C}{\\partial a_j^{out}} \\sigma' (z_j^{out}) $$\n",
    "\n",
    "Since, \n",
    "\n",
    "### $$ a_j^{out} = \\sigma (z_j^{out}) \\\\\n",
    "\\sigma' (z_j^{out}) = \\frac{\\partial a_j^{out}}{\\partial z_j^{out}} $$\n",
    "\n",
    "\n",
    "Our error is the derivative of the loss with respect to the output activation. Because we are using the least squares loss function (remember, we multiplied it by 0.5 earlier to cancel out the exponent in the derivative), we can further simplify this to:\n",
    "\n",
    "### $$ \\partial^{out} = - (y - a^{out}) \\\\\n",
    "\\partial^{out} = a^{out} - y  $$\n"
   ]
  },
  {
   "cell_type": "code",
   "execution_count": 44,
   "metadata": {
    "collapsed": true
   },
   "outputs": [],
   "source": [
    "def lsq_prime(y_true, y_hat):\n",
    "    return np.mean(y_hat - y_true)"
   ]
  },
  {
   "cell_type": "code",
   "execution_count": 45,
   "metadata": {
    "collapsed": false
   },
   "outputs": [
    {
     "data": {
      "text/plain": [
       "-4.7281353346488366"
      ]
     },
     "execution_count": 45,
     "metadata": {},
     "output_type": "execute_result"
    }
   ],
   "source": [
    "acts = forward_pass(XOR_in, [input_to_hidden, hidden_to_output], [hidden_biases, output_bias])\n",
    "out_act = acts[-1]\n",
    "delta = lsq_prime(XOR_out, out_act)\n",
    "delta"
   ]
  },
  {
   "cell_type": "markdown",
   "metadata": {},
   "source": [
    "---\n",
    "\n",
    "### Equation for error based on the error of the layer above\n",
    "\n",
    "Using the error of the output layer, we can calculate the error of the previous layer. We can keep doing this for each layer down the line. The equation to calculate the error of a layer from the error of the layer above it is:\n",
    "\n",
    "### $$ \\partial^i = ((W^{i+1})^T \\partial^{i+1}) \\circ \\sigma' (z^i) $$\n",
    "\n",
    "This is also derived using the chain rule. [The full proof (and a great overview of all the theory this lecture is primarily based on) of this can be found here.](http://neuralnetworksanddeeplearning.com/chap2.html)\n",
    "\n",
    "The $\\circ \\sigma' (z^i)$ indicates a \"hadamard product\" which is an elementwise multiplication. Because we are using the linear activation and our derivative activation function outputs 1, we do not have to worry about this. If you did need to do it, you can use the `np.multiply` function.\n",
    "\n",
    "With linear activation we can just write this:\n",
    "\n",
    "### $$ \\partial^i = ((W^{i+1})^T \\partial^{i+1})$$\n",
    "\n",
    "\n",
    "The $(W^{i+1})^T \\partial^{i+1}$ section of the equation is interesting. It is doing the dot product of the transposed weights and the error from the layer up. The intuition behind this is that we are moving the error down to this layer in accordance with the weightings between this layer and the one above."
   ]
  },
  {
   "cell_type": "markdown",
   "metadata": {},
   "source": [
    "---\n",
    "\n",
    "### Rate of change of cost/loss with respect to bias\n",
    "\n",
    "The derivative of the cost function with respect to the bias for a neuron in a layer is equal to the error of the neuron. This is good news because we have the formula for the error already in the equation above.\n",
    "\n",
    "### $$ \\frac{\\partial C}{\\partial b_j^i} = \\partial_j^i $$\n"
   ]
  },
  {
   "cell_type": "markdown",
   "metadata": {},
   "source": [
    "---\n",
    "\n",
    "### Rate of change of cost with respect to weights\n",
    "\n",
    "The derivative of the cost function with respect to a weight is calculated with the activation input to that neuron multiplied by the error of the neuron. The equation is:\n",
    "\n",
    "### $$ \\frac{\\partial C}{\\partial w_{jk}^i} = a_k^{i-1} \\partial_j^i $$\n",
    "\n",
    "Specifically, this states that for weights between neuron $k$ in layer $i-1$ to to the neuron $j$ in layer $i$, the derivative of the cost function with respect to this weight is the activation of the input times the error of the neuron.\n",
    "\n",
    "More casually:\n",
    "\n",
    "### $$ \\frac{\\partial C}{\\partial w_{jk}^i} = a_{in} \\partial_{out} $$\n",
    "\n",
    "Where $a_{in}$ is the activation of the neuron on the input side of the weight, and $\\partial_{out}$ is the error for the neuron on the output side of the weight."
   ]
  },
  {
   "cell_type": "markdown",
   "metadata": {},
   "source": [
    "---\n",
    "\n",
    "### Putting it all together into a neural network\n",
    "\n",
    "Now that we have all of the requisite equations, we can code a class to build a neural network that will adjust its weights using backpropagation.\n",
    "\n",
    "1. The class will need a function to perform the _forward_ propagation of the activations through the network given an input. This will give us the activations at each layer for the neurons.\n",
    "2. We will also need a cost function and its derivative. This is how we will calculate the error of the network from the output layers.\n",
    "3. Once we have the error of the network, we can create the _backwards_ propagation of this error/gradient from the output layer downwards. Our goal is to calculate the derivative of the cost function with respect to the weights and the biases, which are our parameters.\n",
    "4. With the derivatives of the cost function of our parameters, we can update the weights and biases according to a learning rate parameter."
   ]
  },
  {
   "cell_type": "markdown",
   "metadata": {},
   "source": [
    "**Initialization**\n",
    "\n",
    "First let's set up the network with the input, hidden, and output sizes.\n",
    "\n",
    "The initialization function needs to create some random weights between the input and hidden layer, the hidden and output layer, as well as create the bias vectors for the hidden and output.\n",
    "\n",
    "For the bias vectors, I am putting the values in the column dimension to make numpy operations consistent down the line."
   ]
  },
  {
   "cell_type": "code",
   "execution_count": 46,
   "metadata": {
    "collapsed": true
   },
   "outputs": [],
   "source": [
    "class DumbNet(object):\n",
    "    \n",
    "    activations = []\n",
    "    \n",
    "    def __init__(self, input_size=2, hidden_size=3, output_size=1):\n",
    "        \n",
    "        self.input_size = input_size\n",
    "        self.hidden_size = hidden_size\n",
    "        self.output_size = output_size\n",
    "        \n",
    "        self.input_to_hidden = np.random.randn(self.input_size, self.hidden_size)\n",
    "        self.hidden_to_output = np.random.randn(self.hidden_size, self.output_size)\n",
    "        \n",
    "        self.hidden_bias = np.random.uniform(-1, 1, (1, hidden_size))\n",
    "        self.output_bias = np.random.uniform(-1, 1, (1, output_size))\n",
    "        "
   ]
  },
  {
   "cell_type": "markdown",
   "metadata": {},
   "source": [
    "I've also initialized a list `activations` that will store the current forward propagation activations.\n",
    "\n",
    "We can print out the different initialized matrices to get a feel for the setup:"
   ]
  },
  {
   "cell_type": "code",
   "execution_count": 47,
   "metadata": {
    "collapsed": false
   },
   "outputs": [
    {
     "name": "stdout",
     "output_type": "stream",
     "text": [
      "input to hidden W:\n",
      "[[-0.85634279 -0.27488591 -0.6474249 ]\n",
      " [-1.54600366 -1.08812628  1.88597362]]\n",
      "hidden to output W: [[ 1.84205712]\n",
      " [ 1.1850628 ]\n",
      " [ 1.0664587 ]]\n",
      "hidden bias:\n",
      "[[ 0.46394303  0.45206268 -0.32441765]]\n",
      "output bias:\n",
      "[[-0.30288707]]\n"
     ]
    }
   ],
   "source": [
    "dn = DumbNet()\n",
    "print 'input to hidden W:'\n",
    "print dn.input_to_hidden\n",
    "print 'hidden to output W:',\n",
    "print dn.hidden_to_output\n",
    "print 'hidden bias:'\n",
    "print dn.hidden_bias\n",
    "print 'output bias:'\n",
    "print dn.output_bias"
   ]
  },
  {
   "cell_type": "markdown",
   "metadata": {},
   "source": [
    "You can see that rows correspond to the dimensions of inputs and columns the dimensions of outputs for the weights.\n",
    "\n",
    "**Activation and loss functions**\n",
    "\n",
    "Next we need to code the activation function, loss function, and their derivatives for use in the forward and backward propagation step. Instead of linear activation, we will be using a _nonlinear_ activation function, the sigmoid activation. This squishes activation to a value between 0 and 1. For the XOR problem this nonlinearity allows the network to converge on the right answer.\n",
    "\n",
    "The sigmoid activation function is defined:\n",
    "\n",
    "### $$ \\text{sigmoid}(x) = \\frac{1}{1 + e^{-x}} $$\n",
    "\n",
    "Which is the same as the link function in logistic regression.\n",
    "\n",
    "The derivative of the sigmoid function is:\n",
    "\n",
    "### $$ \\text{sigmoid}'(x) = (1 - \\text{sigmoid}(x)) \\text{ sigmoid}(x) $$\n",
    "\n",
    "Below add the sigmoid activations as well as the least squares loss function and its derivative. Recall the quadratic (least squares) cost function and its derivative is:\n",
    "\n",
    "### $$ C(y, \\hat{y}) = 0.5 (\\hat{y} - y)^2 \\\\\n",
    "C'(y, \\hat{y}) = \\hat{y} - y$$"
   ]
  },
  {
   "cell_type": "code",
   "execution_count": 48,
   "metadata": {
    "collapsed": true
   },
   "outputs": [],
   "source": [
    "class DumbNet(object):\n",
    "    \n",
    "    activations = []\n",
    "    \n",
    "    def __init__(self, input_size=2, hidden_size=3, output_size=1):\n",
    "        \n",
    "        self.input_size = input_size\n",
    "        self.hidden_size = hidden_size\n",
    "        self.output_size = output_size\n",
    "        \n",
    "        self.input_to_hidden = np.random.randn(self.input_size, self.hidden_size)\n",
    "        self.hidden_to_output = np.random.randn(self.hidden_size, self.output_size)\n",
    "        \n",
    "        self.hidden_bias = np.random.uniform(-1, 1, (1, hidden_size))\n",
    "        self.output_bias = np.random.uniform(-1, 1, (1, output_size))\n",
    "        \n",
    "    def quadratic_cost(self, y_true, y_hat):\n",
    "        return 0.5 * np.sum((y_hat - y_true)**2)\n",
    "    \n",
    "    def quadratic_prime(self, y_true, y_hat):\n",
    "        # returned as a vector, not sum, for gradient calculations\n",
    "        return y_hat - y_true\n",
    "        \n",
    "    def sigmoid(self, x):\n",
    "        x = 1. / (1. + np.exp(-x))\n",
    "        return x\n",
    "    \n",
    "    def sigmoid_prime(self, x):\n",
    "        return (1. - self.sigmoid(x)) * self.sigmoid(x)\n",
    "    "
   ]
  },
  {
   "cell_type": "markdown",
   "metadata": {},
   "source": [
    "**Forward propagation**\n",
    "\n",
    "Next we can write the function to do forward propagation. The function will take the input activations as an argument and calculate the activations for each layer.\n",
    "\n",
    "Recall the official formula for the activation of a layer $i$'s neurons is:\n",
    "\n",
    "### $$ z^i = W^i a^{i-1} + b^i \\\\\n",
    "a^i = \\sigma(W^i a^{i-1} + b^i) \\\\\n",
    "a^i = \\sigma(z^i)$$\n",
    "\n",
    "As it turns out, because we've specified our matrices to have rows corresponding to inputs and columns as outputs, the activation function changes to:\n",
    "\n",
    "### $$ a^i = \\sigma(a^i W^i + b^i) $$\n",
    "\n",
    "Where $a^{i-1}$ is the activations of the previous layer, $W^i$ is the weight matrix for the previous layer to current layer activations, and $b^i$ are the biases for the current layer neurons. $\\sigma$ is the activation function, which in our case will be the sigmoid function."
   ]
  },
  {
   "cell_type": "code",
   "execution_count": 49,
   "metadata": {
    "collapsed": false
   },
   "outputs": [
    {
     "name": "stdout",
     "output_type": "stream",
     "text": [
      "input acts:\n",
      "[[1 1]\n",
      " [1 0]\n",
      " [0 1]\n",
      " [0 0]]\n",
      "input by output weight matrix:\n",
      "[[ 1. -2.  3.]\n",
      " [-4.  5. -6.]]\n"
     ]
    }
   ],
   "source": [
    "# make a test matrix of weights for input to output:\n",
    "in_to_hid = np.array([[1.,-2.,3.],[-4.,5.,-6.]])\n",
    "\n",
    "print 'input acts:'\n",
    "print XOR_in\n",
    "print 'input by output weight matrix:'\n",
    "print in_to_hid\n"
   ]
  },
  {
   "cell_type": "markdown",
   "metadata": {},
   "source": [
    "If we use the formula with the weight matrix coming first in the dot product we will get dimension mismatch."
   ]
  },
  {
   "cell_type": "code",
   "execution_count": 50,
   "metadata": {
    "collapsed": false
   },
   "outputs": [
    {
     "ename": "ValueError",
     "evalue": "shapes (2,3) and (4,2) not aligned: 3 (dim 1) != 4 (dim 0)",
     "output_type": "error",
     "traceback": [
      "\u001b[0;31m---------------------------------------------------------------------------\u001b[0m",
      "\u001b[0;31mValueError\u001b[0m                                Traceback (most recent call last)",
      "\u001b[0;32m<ipython-input-50-9f25a41fa4df>\u001b[0m in \u001b[0;36m<module>\u001b[0;34m()\u001b[0m\n\u001b[0;32m----> 1\u001b[0;31m \u001b[0mnp\u001b[0m\u001b[0;34m.\u001b[0m\u001b[0mdot\u001b[0m\u001b[0;34m(\u001b[0m\u001b[0min_to_hid\u001b[0m\u001b[0;34m,\u001b[0m \u001b[0mXOR_in\u001b[0m\u001b[0;34m)\u001b[0m\u001b[0;34m\u001b[0m\u001b[0m\n\u001b[0m",
      "\u001b[0;31mValueError\u001b[0m: shapes (2,3) and (4,2) not aligned: 3 (dim 1) != 4 (dim 0)"
     ]
    }
   ],
   "source": [
    "np.dot(in_to_hid, XOR_in)"
   ]
  },
  {
   "cell_type": "markdown",
   "metadata": {},
   "source": [
    "If our inputs and weights were transposed, the operation would work - the column dimension of the input matrix matches the row dimension of the weight matrix:"
   ]
  },
  {
   "cell_type": "code",
   "execution_count": 51,
   "metadata": {
    "collapsed": false
   },
   "outputs": [
    {
     "name": "stdout",
     "output_type": "stream",
     "text": [
      "(3, 2)\n",
      "(2, 4)\n"
     ]
    },
    {
     "data": {
      "text/plain": [
       "array([[-3.,  1., -4.,  0.],\n",
       "       [ 3., -2.,  5.,  0.],\n",
       "       [-3.,  3., -6.,  0.]])"
      ]
     },
     "execution_count": 51,
     "metadata": {},
     "output_type": "execute_result"
    }
   ],
   "source": [
    "print in_to_hid.T.shape\n",
    "print XOR_in.T.shape\n",
    "np.dot(in_to_hid.T, XOR_in.T)"
   ]
  },
  {
   "cell_type": "markdown",
   "metadata": {},
   "source": [
    "If we transposed this dot product, it would be equivalent to the dot product with our input activation matrix coming first."
   ]
  },
  {
   "cell_type": "code",
   "execution_count": 52,
   "metadata": {
    "collapsed": false
   },
   "outputs": [
    {
     "name": "stdout",
     "output_type": "stream",
     "text": [
      "[[-3.  3. -3.]\n",
      " [ 1. -2.  3.]\n",
      " [-4.  5. -6.]\n",
      " [ 0.  0.  0.]]\n",
      "[[-3.  3. -3.]\n",
      " [ 1. -2.  3.]\n",
      " [-4.  5. -6.]\n",
      " [ 0.  0.  0.]]\n"
     ]
    }
   ],
   "source": [
    "print np.dot(in_to_hid.T, XOR_in.T).T\n",
    "print np.dot(XOR_in, in_to_hid)"
   ]
  },
  {
   "cell_type": "markdown",
   "metadata": {},
   "source": [
    "\n",
    "\n",
    "Which is a property of matrices:\n",
    "​\n",
    "### $$ A \\cdot B = (B^T \\cdot A^T)^T \\\\\n",
    "(AB)^T = B^T A^T$$\n",
    "​\n",
    "So, the standard formula is written for the transposed version of our input and weight matrices. We can rewrite the formula for our matrices as:\n",
    "​\n",
    "### $$ a^i = \\sigma(a^{i-1} W^{i} + b) $$ \n",
    "​\n",
    "Knowing that our $a^{i-1}$ and $W^i$ are the transposed versions of what is expected in the original."
   ]
  },
  {
   "cell_type": "code",
   "execution_count": 53,
   "metadata": {
    "collapsed": true
   },
   "outputs": [],
   "source": [
    "class DumbNet(object):\n",
    "    \n",
    "    activations = []\n",
    "    \n",
    "    def __init__(self, input_size=2, hidden_size=3, output_size=1):\n",
    "        \n",
    "        self.input_size = input_size\n",
    "        self.hidden_size = hidden_size\n",
    "        self.output_size = output_size\n",
    "        \n",
    "        self.input_to_hidden = np.random.randn(self.input_size, self.hidden_size)\n",
    "        self.hidden_to_output = np.random.randn(self.hidden_size, self.output_size)\n",
    "        \n",
    "        self.hidden_bias = np.random.uniform(-1, 1, (1, hidden_size))\n",
    "        self.output_bias = np.random.uniform(-1, 1, (1, output_size))\n",
    "        \n",
    "    def quadratic_cost(self, y_true, y_hat):\n",
    "        return 0.5 * np.sum((y_hat - y_true)**2)\n",
    "    \n",
    "    def quadratic_prime(self, y_true, y_hat):\n",
    "        # returned as a vector, not sum, for gradient calculations\n",
    "        return y_hat - y_true\n",
    "        \n",
    "    def sigmoid(self, x):\n",
    "        x = 1. / (1. + np.exp(-x))\n",
    "        return x\n",
    "    \n",
    "    def sigmoid_prime(self, x):\n",
    "        return (1. - self.sigmoid(x)) * self.sigmoid(x)\n",
    "    \n",
    "    def forward_prop(self, input_act):\n",
    "        \n",
    "        # ensure that the input is at least a 2D matrix - in case a single row is supplied:\n",
    "        input_act = np.atleast_2d(input_act)\n",
    "        \n",
    "        # reset the activations attribute to a list where the input activations are the first element\n",
    "        self.activations = [input_act]\n",
    "        \n",
    "        # hidden = sigmoid(a^{input} W^{hidden} + b^{hidden})\n",
    "        hidden_act = self.sigmoid(input_act.dot(self.input_to_hidden) + self.hidden_bias)\n",
    "        self.activations.append(hidden_act)\n",
    "        \n",
    "        # output = sigmoid(a^{hidden} W^{output} + b^{output})\n",
    "        output_act = self.sigmoid(hidden_act.dot(self.hidden_to_output) + self.output_bias)\n",
    "        self.activations.append(output_act)\n",
    "        \n",
    "        return self.activations"
   ]
  },
  {
   "cell_type": "markdown",
   "metadata": {},
   "source": [
    "We can test out the forward propagation function to make sure it works as expected:"
   ]
  },
  {
   "cell_type": "code",
   "execution_count": 54,
   "metadata": {
    "collapsed": false
   },
   "outputs": [
    {
     "name": "stdout",
     "output_type": "stream",
     "text": [
      "input activations:\n",
      "[[1 1]\n",
      " [1 0]\n",
      " [0 1]\n",
      " [0 0]]\n",
      "hidden activations:\n",
      "[[ 0.35937348  0.36080146  0.14881888]\n",
      " [ 0.74364144  0.6599847   0.1775034 ]\n",
      " [ 0.18983575  0.17589563  0.34461839]\n",
      " [ 0.54785025  0.4232873   0.39359165]]\n",
      "output activations:\n",
      "[[ 0.75535043]\n",
      " [ 0.83758702]\n",
      " [ 0.68065118]\n",
      " [ 0.76399629]]\n"
     ]
    }
   ],
   "source": [
    "dn = DumbNet()\n",
    "acts = dn.forward_prop(XOR_in)\n",
    "for w, label in zip(acts, ['input','hidden','output']):\n",
    "    print label, 'activations:'\n",
    "    print w"
   ]
  },
  {
   "cell_type": "markdown",
   "metadata": {},
   "source": [
    "**Backpropagation**\n",
    "\n",
    "Now we will code the backpropagation algorithm. We need to use the formulas covered above to calculating the derivatives with respect to parameters or neurons.\n",
    "\n",
    "The first step will be to calculate the derivative of the error with respect to the output layer activations:\n",
    "\n",
    "### $$ \\partial^{out} = \\frac{\\partial C}{\\partial a^{out}} \\sigma' (z^{out}) $$\n",
    "\n",
    "So we should really store the $z$ pre-activation function values in the forward propagation function as well, to make it easy to plug that in here.\n",
    "\n",
    "The first part of the right-hand side of the equation is the derivative of the cost function with respect to the activations. This is our derivative of the cost function that we wrote earlier that will take the true values of y and the predicted.\n",
    "\n",
    "The second part will plug in the pre-sigmoid activations to the sigmoid_prime function.\n",
    "\n",
    "We will also need to calculate the error of the hidden layer. The formula to calculate the delta using the layer above is:\n",
    "\n",
    "\n",
    "### $$ \\partial^{hidden} = ((\\partial^{output} W^{output})^T) \\circ \\sigma' (z^{hidden}) $$\n",
    "\n",
    "And again here we have swapped the weight and delta matrices since we have ours transposed from the standard formula.\n",
    "\n",
    "And last but not least, we need the rate of change in the cost with respect to the biases and weights. Recall the formulas for these are:\n",
    "\n",
    "### $$ \\frac{\\partial C}{\\partial b^i} = \\partial^i $$\n",
    "\n",
    "### $$ \\frac{\\partial C}{\\partial W^i} = a^{i-1} \\partial^i $$\n",
    "\n",
    "Once we have the gradients, we will adjust the weight and bias matrices. Essentially we will multiply the gradient by -1 and the learning rate, then add those values to the current values. We multiply by -1 because we want to go in the opposite direction of the gradient - towards a smaller cost/loss."
   ]
  },
  {
   "cell_type": "code",
   "execution_count": 56,
   "metadata": {
    "collapsed": true
   },
   "outputs": [],
   "source": [
    "class DumbNet(object):\n",
    "    \n",
    "    activations = []\n",
    "    z_activations = []\n",
    "    \n",
    "    def __init__(self, input_size=2, hidden_size=3, output_size=1):\n",
    "        \n",
    "        self.input_size = input_size\n",
    "        self.hidden_size = hidden_size\n",
    "        self.output_size = output_size\n",
    "        \n",
    "        self.input_to_hidden = np.random.randn(self.input_size, self.hidden_size)\n",
    "        self.hidden_to_output = np.random.randn(self.hidden_size, self.output_size)\n",
    "        \n",
    "        self.hidden_bias = np.random.uniform(-1, 1, (1, hidden_size))\n",
    "        self.output_bias = np.random.uniform(-1, 1, (1, output_size))\n",
    "        \n",
    "    def quadratic_cost(self, y_true, y_hat):\n",
    "        return 0.5 * np.sum((y_hat - y_true)**2)\n",
    "    \n",
    "    def quadratic_prime(self, y_true, y_hat):\n",
    "        # returned as a vector, not sum, for gradient calculations\n",
    "        return y_hat - y_true\n",
    "        \n",
    "    def sigmoid(self, x):\n",
    "        x = 1. / (1. + np.exp(-x))\n",
    "        return x\n",
    "    \n",
    "    def sigmoid_prime(self, x):\n",
    "        return (1. - self.sigmoid(x)) * self.sigmoid(x)\n",
    "    \n",
    "    def forward_prop(self, input_act):\n",
    "        \n",
    "        # ensure that the input is at least a 2D matrix - in case a single row is supplied:\n",
    "        input_act = np.atleast_2d(input_act)\n",
    "        \n",
    "        # reset the activations attribute to a list where the input activations are the first element\n",
    "        self.activations = [input_act]\n",
    "        self.z_activations = [input_act]\n",
    "        \n",
    "        # hidden = sigmoid(a^{input} W^{hidden} + b^{hidden})\n",
    "        hidden_z = input_act.dot(self.input_to_hidden) + self.hidden_bias\n",
    "        self.z_activations.append(hidden_z)\n",
    "        \n",
    "        hidden_act = self.sigmoid(hidden_z)\n",
    "        self.activations.append(hidden_act)\n",
    "        \n",
    "        # output = sigmoid(a^{hidden} W^{output} + b^{output})\n",
    "        output_z = hidden_act.dot(self.hidden_to_output) + self.output_bias\n",
    "        self.z_activations(output_z)\n",
    "        \n",
    "        output_act = self.sigmoid(output_z)\n",
    "        self.activations.append(output_act)\n",
    "        \n",
    "        return self.activations\n",
    "    \n",
    "    def backwards_prop(self, y_true, lr=0.05):\n",
    "                \n",
    "        output_act = self.activations[-1]\n",
    "        output_z = self.z_activations[-1]\n",
    "        \n",
    "        # calculate dC/da{out} * sigmoid'(z{out})\n",
    "        output_delta = self.lsq_prime(y_true, output_act) * self.sigmoid_prime(output_z)\n",
    "        \n",
    "        hidden_act = self.activations[-2]\n",
    "        hidden_z = self.z_activations[-2]\n",
    "        \n",
    "        # calculate d{out} W{out}^T * sigmoid'(z{hid})\n",
    "        hidden_delta = output_delta.dot(self.hidden_to_output.T) * self.sigmoid_prime(hidden_z)\n",
    "        \n",
    "        # dW{output} = a{hidden}^T d{output}\n",
    "        delta_hidden_to_output = np.dot(hidden_act.T, output_delta)\n",
    "        # db{output} = sum(d{output})\n",
    "        # we sum here because we have a bias update for each observation. We can just update\n",
    "        # a value for the bias of each neuron across all the observations.\n",
    "        delta_output_bias = np.sum(output_delta, axis=0, keepdims=True)\n",
    "\n",
    "        inputs_act = self.activations[-3]\n",
    "        \n",
    "        # dW{hidden} = a{input}^T d{hidden}\n",
    "        delta_input_to_hidden = np.dot(inputs_act.T, hidden_delta)\n",
    "        # db{hidden} = sum(d{hidden})\n",
    "        delta_hidden_bias = np.sum(hidden_delta, axis=0)\n",
    "        \n",
    "        # update the weights and biases by a small amount:\n",
    "        self.hidden_to_output += (lr * -1*delta_hidden_to_output)\n",
    "        self.input_to_hidden += (lr * -1*delta_input_to_hidden)\n",
    "        self.output_biases += (lr * -1*delta_output_bias)\n",
    "        self.hidden_biases += (lr * -1*delta_hidden_bias)"
   ]
  },
  {
   "cell_type": "markdown",
   "metadata": {},
   "source": [
    "**Fit function**\n",
    "\n",
    "Lastly we can write a fit function that will iterate through the forward and backward propagation many times, according to a prespecified learning rate and number of epochs."
   ]
  },
  {
   "cell_type": "code",
   "execution_count": 57,
   "metadata": {
    "collapsed": true
   },
   "outputs": [],
   "source": [
    "class DumbNet(object):\n",
    "    \n",
    "    activations = []\n",
    "    z_activations = []\n",
    "    \n",
    "    def __init__(self, input_size=2, hidden_size=3, output_size=1):\n",
    "        \n",
    "        self.input_size = input_size\n",
    "        self.hidden_size = hidden_size\n",
    "        self.output_size = output_size\n",
    "        \n",
    "        self.input_to_hidden = np.random.randn(self.input_size, self.hidden_size)\n",
    "        self.hidden_to_output = np.random.randn(self.hidden_size, self.output_size)\n",
    "        \n",
    "        self.hidden_bias = np.random.uniform(-1, 1, (1, hidden_size))\n",
    "        self.output_bias = np.random.uniform(-1, 1, (1, output_size))\n",
    "        \n",
    "    def quadratic_cost(self, y_true, y_hat):\n",
    "        return 0.5 * np.sum((y_hat - y_true)**2)\n",
    "    \n",
    "    def quadratic_prime(self, y_true, y_hat):\n",
    "        # returned as a vector, not sum, for gradient calculations\n",
    "        return y_hat - y_true\n",
    "        \n",
    "    def sigmoid(self, x):\n",
    "        x = 1. / (1. + np.exp(-x))\n",
    "        return x\n",
    "    \n",
    "    def sigmoid_prime(self, x):\n",
    "        return (1. - self.sigmoid(x)) * self.sigmoid(x)\n",
    "    \n",
    "    def forward_prop(self, input_act):\n",
    "        \n",
    "        # ensure that the input is at least a 2D matrix - in case a single row is supplied:\n",
    "        input_act = np.atleast_2d(input_act)\n",
    "        \n",
    "        # reset the activations attribute to a list where the input activations are the first element\n",
    "        self.activations = [input_act]\n",
    "        self.z_activations = [input_act]\n",
    "        \n",
    "        # hidden = sigmoid(a^{input} W^{hidden} + b^{hidden})\n",
    "        hidden_z = input_act.dot(self.input_to_hidden) + self.hidden_bias\n",
    "        self.z_activations.append(hidden_z)\n",
    "        \n",
    "        hidden_act = self.sigmoid(hidden_z)\n",
    "        self.activations.append(hidden_act)\n",
    "        \n",
    "        # output = sigmoid(a^{hidden} W^{output} + b^{output})\n",
    "        output_z = hidden_act.dot(self.hidden_to_output) + self.output_bias\n",
    "        self.z_activations.append(output_z)\n",
    "        \n",
    "        output_act = self.sigmoid(output_z)\n",
    "        self.activations.append(output_act)\n",
    "        \n",
    "        return self.activations\n",
    "    \n",
    "    def backward_prop(self, y_true, lr=0.05):\n",
    "                \n",
    "        output_act = self.activations[-1]\n",
    "        output_z = self.z_activations[-1]\n",
    "        \n",
    "        # calculate dC/da{out} * sigmoid'(z{out})\n",
    "        output_delta = self.quadratic_prime(y_true, output_act) * self.sigmoid_prime(output_z)\n",
    "        \n",
    "        hidden_act = self.activations[-2]\n",
    "        hidden_z = self.z_activations[-2]\n",
    "        \n",
    "        # calculate d{out} W{out}^T * sigmoid'(z{hid})\n",
    "        hidden_delta = output_delta.dot(self.hidden_to_output.T) * self.sigmoid_prime(hidden_z)\n",
    "        \n",
    "        # dW{output} = a{hidden}^T d{output}\n",
    "        delta_hidden_to_output = np.dot(hidden_act.T, output_delta)\n",
    "        # db{output} = sum(d{output})\n",
    "        # we sum here because we have a bias update for each observation. We can just update\n",
    "        # a value for the bias of each neuron across all the observations.\n",
    "        delta_output_bias = np.sum(output_delta, axis=0, keepdims=True)\n",
    "\n",
    "        inputs_act = self.activations[-3]\n",
    "        \n",
    "        # dW{hidden} = a{input}^T d{hidden}\n",
    "        delta_input_to_hidden = np.dot(inputs_act.T, hidden_delta)\n",
    "        # db{hidden} = sum(d{hidden})\n",
    "        delta_hidden_bias = np.sum(hidden_delta, axis=0)\n",
    "        \n",
    "        # update the weights and biases by a small amount:\n",
    "        self.hidden_to_output += (lr * -1*delta_hidden_to_output)\n",
    "        self.input_to_hidden += (lr * -1*delta_input_to_hidden)\n",
    "        self.output_bias += (lr * -1*delta_output_bias)\n",
    "        self.hidden_bias += (lr * -1*delta_hidden_bias)\n",
    "        \n",
    "        \n",
    "    def fit(self, X, y, epochs=100, lr=0.05, print_every=5):\n",
    "        \n",
    "        for i in range(epochs):\n",
    "            acts = self.forward_prop(X)\n",
    "            self.backward_prop(y, lr=lr)\n",
    "            if (i % print_every) == 0:\n",
    "                print 'MSE:', self.quadratic_cost(y, acts[-1])\n",
    "                print acts[-1]"
   ]
  },
  {
   "cell_type": "code",
   "execution_count": 58,
   "metadata": {
    "collapsed": false
   },
   "outputs": [
    {
     "name": "stdout",
     "output_type": "stream",
     "text": [
      "MSE: 0.641949785627\n",
      "[[ 0.80742921]\n",
      " [ 0.81241766]\n",
      " [ 0.67636143]\n",
      " [ 0.7014475 ]]\n",
      "MSE: 0.365711971081\n",
      "[[ 0.54025483]\n",
      " [ 0.55955528]\n",
      " [ 0.60658755]\n",
      " [ 0.30130342]]\n",
      "MSE: 0.124495076373\n",
      "[[ 0.32351911]\n",
      " [ 0.73445336]\n",
      " [ 0.76143835]\n",
      " [ 0.12999561]]\n",
      "MSE: 0.0440481841783\n",
      "[[ 0.19078227]\n",
      " [ 0.84322612]\n",
      " [ 0.85159612]\n",
      " [ 0.07139139]]\n",
      "MSE: 0.0235021982619\n",
      "[[ 0.13937652]\n",
      " [ 0.8857014 ]\n",
      " [ 0.89010642]\n",
      " [ 0.04937422]]\n",
      "MSE: 0.0154035136045\n",
      "[[ 0.11294459]\n",
      " [ 0.90752066]\n",
      " [ 0.91045352]\n",
      " [ 0.03846485]]\n",
      "MSE: 0.0112647140911\n",
      "[[ 0.09667757]\n",
      " [ 0.92093175]\n",
      " [ 0.9231242 ]\n",
      " [ 0.0319562 ]]\n",
      "MSE: 0.00880196522307\n",
      "[[ 0.08552895]\n",
      " [ 0.93011293]\n",
      " [ 0.93186502]\n",
      " [ 0.0276071 ]]\n",
      "MSE: 0.00718597677691\n",
      "[[ 0.07733465]\n",
      " [ 0.9368549 ]\n",
      " [ 0.93831638]\n",
      " [ 0.02447718]]\n",
      "MSE: 0.00605142994049\n",
      "[[ 0.07101123]\n",
      " [ 0.94205351]\n",
      " [ 0.94330921]\n",
      " [ 0.02210481]]\n",
      "MSE: 0.00521459642885\n",
      "[[ 0.06595413]\n",
      " [ 0.94620824]\n",
      " [ 0.9473107 ]\n",
      " [ 0.02023682]]\n",
      "MSE: 0.00457375600115\n",
      "[[ 0.06179806]\n",
      " [ 0.9496207 ]\n",
      " [ 0.95060462]\n",
      " [ 0.01872255]]\n",
      "MSE: 0.00406834150528\n",
      "[[ 0.05830848]\n",
      " [ 0.95248442]\n",
      " [ 0.95337391]\n",
      " [ 0.01746656]]\n",
      "MSE: 0.00366017546824\n",
      "[[ 0.05532742]\n",
      " [ 0.95492968]\n",
      " [ 0.95574215]\n",
      " [ 0.01640537]]\n",
      "MSE: 0.00332406577683\n",
      "[[ 0.05274429]\n",
      " [ 0.95704764]\n",
      " [ 0.95779608]\n",
      " [ 0.015495  ]]\n",
      "MSE: 0.00304275199624\n",
      "[[ 0.05047916]\n",
      " [ 0.95890416]\n",
      " [ 0.95959849]\n",
      " [ 0.01470401]]\n",
      "MSE: 0.00280403064163\n",
      "[[ 0.0484727 ]\n",
      " [ 0.96054808]\n",
      " [ 0.96119608]\n",
      " [ 0.01400927]]\n",
      "MSE: 0.00259904065021\n",
      "[[ 0.04667989]\n",
      " [ 0.96201648]\n",
      " [ 0.96262435]\n",
      " [ 0.01339336]]\n",
      "MSE: 0.00242119906968\n",
      "[[ 0.04506586]\n",
      " [ 0.96333807]\n",
      " [ 0.96391082]\n",
      " [ 0.01284292]]\n",
      "MSE: 0.00226551734323\n",
      "[[ 0.04360314]\n",
      " [ 0.96453541]\n",
      " [ 0.96507718]\n",
      " [ 0.0123475 ]]\n"
     ]
    }
   ],
   "source": [
    "dn = DumbNet(hidden_size=3)\n",
    "dn.fit(XOR_in, XOR_out, epochs=10000, lr=0.2, print_every=500)"
   ]
  }
 ],
 "metadata": {
  "kernelspec": {
   "display_name": "Python 2",
   "language": "python",
   "name": "python2"
  },
  "language_info": {
   "codemirror_mode": {
    "name": "ipython",
    "version": 2
   },
   "file_extension": ".py",
   "mimetype": "text/x-python",
   "name": "python",
   "nbconvert_exporter": "python",
   "pygments_lexer": "ipython2",
   "version": "2.7.11"
  }
 },
 "nbformat": 4,
 "nbformat_minor": 1
}
