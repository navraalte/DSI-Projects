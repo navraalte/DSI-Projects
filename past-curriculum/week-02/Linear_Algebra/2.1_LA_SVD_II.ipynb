{
 "cells": [
  {
   "cell_type": "markdown",
   "metadata": {},
   "source": [
    "###  Theorem\n",
    "\n",
    "##### Singular Value Decomposition\n",
    "\n",
    "The SVD of an $m x n$ matrix $A$ with real values is a factorization of $A$ as $ U \\Sigma V^{T} $ where $U$ is an $m x m$ orthognal matrix, $V$ is an $n x n$ orthogonal matrix, and $\\Sigma$ is a diagnoal matrix with nonnegative real entries on the diagonal. \n",
    "\n",
    "\n",
    "<img src=http://images.slideplayer.com/15/4792782/slides/slide_9.jpg>\n",
    "\n",
    "\n",
    "**Recall:** Matrices are just transformations. Hence, you can think about the decomposition as a combination of rotations, stretches, and rotations. \n",
    "\n",
    "<img src= https://upload.wikimedia.org/wikipedia/commons/thumb/b/bb/Singular-Value-Decomposition.svg/220px-Singular-Value-Decomposition.svg.png> "
   ]
  }
 ],
 "metadata": {
  "kernelspec": {
   "display_name": "Python 2",
   "language": "python",
   "name": "python2"
  },
  "language_info": {
   "codemirror_mode": {
    "name": "ipython",
    "version": 2
   },
   "file_extension": ".py",
   "mimetype": "text/x-python",
   "name": "python",
   "nbconvert_exporter": "python",
   "pygments_lexer": "ipython2",
   "version": "2.7.12"
  }
 },
 "nbformat": 4,
 "nbformat_minor": 1
}
