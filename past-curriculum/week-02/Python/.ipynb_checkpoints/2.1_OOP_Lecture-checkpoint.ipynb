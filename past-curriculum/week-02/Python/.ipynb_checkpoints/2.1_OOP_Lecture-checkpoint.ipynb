{
 "cells": [
  {
   "cell_type": "markdown",
   "metadata": {},
   "source": [
    "## Object Oriented Programming \n",
    "\n",
    "--- \n",
    "\n",
    "### Overview\n",
    "\n",
    "- Functional Programming\n",
    "\n",
    "- Classes\n",
    "\n",
    "- Instance\n",
    "\n",
    "- Inheritance \n",
    "\n",
    "- Exceptions "
   ]
  },
  {
   "cell_type": "markdown",
   "metadata": {},
   "source": [
    "### Objectives\n",
    "\n",
    "* Explain how OOP is used in Python\n",
    "* Differentiate between instantiating and creating an object\n",
    "* Define basic inhertiance  "
   ]
  },
  {
   "cell_type": "markdown",
   "metadata": {},
   "source": [
    "### Recap from Last Week \n",
    "\n",
    "Functional Programming encourages:\n",
    "\n",
    "- Modularity: encourages small independent functions \n",
    "\n",
    "- Composability: Arrange existing functions for new goals \n",
    "\n",
    "- Easy debugging: Behavior depends only on input\n",
    "\n",
    "\n",
    "#### Higher Order Functions \n",
    "\n",
    "- `map`\n",
    "\n",
    "- `filter`\n",
    "\n",
    "\n",
    "#### Function Definitions vs. Lambdas \n",
    "\n",
    "<img src=http://i.imgur.com/L4xYzty.png>\n",
    "\n",
    "\n",
    "### Deocrators \n",
    "\n",
    "<img src=http://i.imgur.com/TnSGZP2.png>"
   ]
  },
  {
   "cell_type": "code",
   "execution_count": 3,
   "metadata": {
    "collapsed": true
   },
   "outputs": [],
   "source": [
    "## an example of a decorator \n",
    "def multiply(function):\n",
    "    def multiply_wrapper(x, y):\n",
    "        return function(x, y) * 3\n",
    "    return multiply_wrapper\n",
    "\n",
    "@multiply\n",
    "def add(x, y):\n",
    "    return x + y\n",
    "\n",
    "@multiply\n",
    "@multiply\n",
    "def product(x, y):\n",
    "    return x * y"
   ]
  },
  {
   "cell_type": "markdown",
   "metadata": {},
   "source": [
    "<details>\n",
    "<summary>  **Check: **What is the output of the following: <br/>\n",
    "\n",
    "```\n",
    "add(3, 2)\n",
    "product(11, 3)\n",
    "product(3, 3, 4)\n",
    "```\n",
    "</summary><br/>\n",
    "\n",
    "```\n",
    "15 \n",
    "\n",
    "297 \n",
    "\n",
    "`TypeError: multiply_wrapper() takes exactly 2 arguments (3 given)`\n",
    "```\n",
    "</details>\n",
    "\n",
    "\n"
   ]
  },
  {
   "cell_type": "markdown",
   "metadata": {},
   "source": [
    "<details>\n",
    "<summary>  **Check: **How should we change it to accept multiple arguments? <br/>\n"
   ]
  },
  {
   "cell_type": "markdown",
   "metadata": {},
   "source": [
    "## Thought Experiment\n",
    "\n",
    "Let’s say you run a company and you’ve just decided to give all your employees a $10,000.00 raise. How could we write a Python script to make this change?"
   ]
  },
  {
   "cell_type": "markdown",
   "metadata": {},
   "source": [
    "<img src=http://izquotes.com/quotes-pictures/quote-actually-i-made-up-the-term-object-oriented-and-i-can-tell-you-i-did-not-have-c-in-mind-alan-kay-242748.jpg>"
   ]
  },
  {
   "cell_type": "markdown",
   "metadata": {},
   "source": [
    "## Introduction to OOP\n",
    "- An _object_ has identity. \n",
    "\n",
    "- A _name_ is a reference to an object. \n",
    "\n",
    "- A _namespace_ is an associative mapping from names to objects. \n",
    "\n",
    "- An _attribute_ is any name following a dot ('.')"
   ]
  },
  {
   "cell_type": "markdown",
   "metadata": {},
   "source": [
    "\n",
    "Deal with collections of objects which maintain internal state and support methods that query or modify this internal state in some way.\n",
    "\n",
    "<img src=\"http://www.ping127001.com/python/ObjectOrientedProgramming.png\">\n",
    "\n",
    "\n",
    "- Class: organized collection of variables and functions \n",
    "       \n",
    "       class MyClass(object):\n",
    "            i = 123\n",
    "            def say_hello(self):\n",
    "                return 'Hi there!'\n"
   ]
  },
  {
   "cell_type": "markdown",
   "metadata": {},
   "source": [
    "### Class Creation\n",
    "\n",
    "<img src=http://i.imgur.com/1NLYxXT.png>"
   ]
  },
  {
   "cell_type": "markdown",
   "metadata": {},
   "source": [
    "### Class Instantiation\n",
    "<img src=http://i.imgur.com/JkXY3pc.png>"
   ]
  },
  {
   "cell_type": "markdown",
   "metadata": {},
   "source": [
    "### Class Instantiation"
   ]
  },
  {
   "cell_type": "code",
   "execution_count": 71,
   "metadata": {
    "collapsed": false
   },
   "outputs": [],
   "source": [
    "class MyClass(object):\n",
    "    \"\"\"A simple example class\"\"\"\n",
    "    i = 12345\n",
    "    def say_hello(self):\n",
    "        return \"Hi there!\"\n",
    "    def add10(self):\n",
    "        return self.i + 10"
   ]
  },
  {
   "cell_type": "code",
   "execution_count": 73,
   "metadata": {
    "collapsed": false
   },
   "outputs": [
    {
     "name": "stdout",
     "output_type": "stream",
     "text": [
      "12350\n",
      "12355\n"
     ]
    }
   ],
   "source": [
    "MyClass.add5 = lambda self: self.i + 5 \n",
    "a = MyClass()\n",
    "print a.add5()\n",
    "print a.add10()"
   ]
  },
  {
   "cell_type": "markdown",
   "metadata": {},
   "source": [
    "To use a class, you create a representation of the class which is an instance or object. An object has an identity. Instantiating a class constructs an object of that class object.\n",
    "\n",
    "       \n",
    "          a = MyClass()\n",
    "          print a.i\n",
    "          print a.say_hello()"
   ]
  },
  {
   "cell_type": "code",
   "execution_count": 56,
   "metadata": {
    "collapsed": false
   },
   "outputs": [
    {
     "name": "stdout",
     "output_type": "stream",
     "text": [
      "12345 Hi there!\n",
      "323\n",
      "<type 'instancemethod'>\n",
      "<type 'instancemethod'>\n",
      "-----\n",
      "False\n",
      "False\n"
     ]
    }
   ],
   "source": [
    "a = MyClass() # classes are instantiated using parantheses and arg list \n",
    "\n",
    "print a.i, a.say_hello()\n",
    "\n",
    "\n",
    "a.i = 323\n",
    "\n",
    "print a.i\n",
    "print type(a.say_hello)\n",
    "print type(MyClass.say_hello)\n",
    "print \"-----\"\n",
    "print a.i is MyClass.i\n",
    "print a.say_hello is MyClass.say_hello"
   ]
  },
  {
   "cell_type": "markdown",
   "metadata": {},
   "source": [
    "Instantiation operation creates an empty object. Many times you want to create objects with instances customized to a specific initial state. We can use the `__init__()` which evaluates when the object is created to handle the specific intialization. Alternatively, we can also define MyClass with a `self` variable that represents the object itself. We use `self` to refer to other variables that are defined within the **scope** of the class. \n",
    "\n",
    "          class MyClass(object):\n",
    "            def __init__(self):\n",
    "                self.i = 123\n",
    "            def say_hello(self):\n",
    "                return 'Hi there!'"
   ]
  },
  {
   "cell_type": "code",
   "execution_count": 46,
   "metadata": {
    "collapsed": false
   },
   "outputs": [
    {
     "ename": "ValueError",
     "evalue": "give me nums",
     "output_type": "error",
     "traceback": [
      "\u001b[0;31m---------------------------------------------------------------------------\u001b[0m",
      "\u001b[0;31mValueError\u001b[0m                                Traceback (most recent call last)",
      "\u001b[0;32m<ipython-input-46-c0c4a38bbe54>\u001b[0m in \u001b[0;36m<module>\u001b[0;34m()\u001b[0m\n\u001b[1;32m     11\u001b[0m \u001b[0ma\u001b[0m \u001b[0;34m=\u001b[0m \u001b[0mMyClass\u001b[0m\u001b[0;34m(\u001b[0m\u001b[0;34m)\u001b[0m\u001b[0;34m\u001b[0m\u001b[0m\n\u001b[1;32m     12\u001b[0m \u001b[0ma\u001b[0m\u001b[0;34m.\u001b[0m\u001b[0msay_hello\u001b[0m\u001b[0;34m(\u001b[0m\u001b[0;36m3\u001b[0m\u001b[0;34m)\u001b[0m\u001b[0;34m\u001b[0m\u001b[0m\n\u001b[0;32m---> 13\u001b[0;31m \u001b[0ma\u001b[0m\u001b[0;34m.\u001b[0m\u001b[0mrepeat_user\u001b[0m\u001b[0;34m(\u001b[0m\u001b[0;34m\"str\"\u001b[0m\u001b[0;34m)\u001b[0m\u001b[0;34m\u001b[0m\u001b[0m\n\u001b[0m",
      "\u001b[0;32m<ipython-input-46-c0c4a38bbe54>\u001b[0m in \u001b[0;36mrepeat_user\u001b[0;34m(self, input_str)\u001b[0m\n\u001b[1;32m      7\u001b[0m                \u001b[0;32mreturn\u001b[0m \u001b[0mfloat\u001b[0m\u001b[0;34m(\u001b[0m\u001b[0minput_str\u001b[0m\u001b[0;34m)\u001b[0m\u001b[0;34m,\u001b[0m \u001b[0mself\u001b[0m\u001b[0;34m.\u001b[0m\u001b[0mi\u001b[0m\u001b[0;34m\u001b[0m\u001b[0m\n\u001b[1;32m      8\u001b[0m            \u001b[0;32mexcept\u001b[0m \u001b[0mValueError\u001b[0m\u001b[0;34m:\u001b[0m\u001b[0;34m\u001b[0m\u001b[0m\n\u001b[0;32m----> 9\u001b[0;31m                \u001b[0;32mraise\u001b[0m \u001b[0mValueError\u001b[0m\u001b[0;34m(\u001b[0m\u001b[0;34m\"give me nums\"\u001b[0m\u001b[0;34m)\u001b[0m\u001b[0;34m\u001b[0m\u001b[0m\n\u001b[0m\u001b[1;32m     10\u001b[0m \u001b[0;34m\u001b[0m\u001b[0m\n\u001b[1;32m     11\u001b[0m \u001b[0ma\u001b[0m \u001b[0;34m=\u001b[0m \u001b[0mMyClass\u001b[0m\u001b[0;34m(\u001b[0m\u001b[0;34m)\u001b[0m\u001b[0;34m\u001b[0m\u001b[0m\n",
      "\u001b[0;31mValueError\u001b[0m: give me nums"
     ]
    }
   ],
   "source": [
    " class MyClass(object):\n",
    "        def say_hello(self, i):\n",
    "            self.i = i \n",
    "            return 'Hi there!'\n",
    "        def repeat_user(self, input_str):\n",
    "            try:\n",
    "                return float(input_str), self.i\n",
    "            except ValueError:\n",
    "                raise ValueError(\"give me nums\")\n",
    "        \n",
    "a = MyClass()\n",
    "a.say_hello(3)\n",
    "a.repeat_user(\"str\")"
   ]
  },
  {
   "cell_type": "code",
   "execution_count": 53,
   "metadata": {
    "collapsed": false
   },
   "outputs": [
    {
     "name": "stdout",
     "output_type": "stream",
     "text": [
      "2\n",
      "4\n",
      "8\n",
      "16\n"
     ]
    },
    {
     "ename": "AttributeError",
     "evalue": "'Complex' object has no attribute 'c'",
     "output_type": "error",
     "traceback": [
      "\u001b[0;31m---------------------------------------------------------------------------\u001b[0m",
      "\u001b[0;31mAttributeError\u001b[0m                            Traceback (most recent call last)",
      "\u001b[0;32m<ipython-input-53-e9465a2a4fc3>\u001b[0m in \u001b[0;36m<module>\u001b[0;34m()\u001b[0m\n\u001b[1;32m     25\u001b[0m     \u001b[0;32mprint\u001b[0m \u001b[0mc\u001b[0m\u001b[0;34m.\u001b[0m\u001b[0mcounter\u001b[0m\u001b[0;34m\u001b[0m\u001b[0m\n\u001b[1;32m     26\u001b[0m \u001b[0;34m\u001b[0m\u001b[0m\n\u001b[0;32m---> 27\u001b[0;31m \u001b[0mfirst_comp\u001b[0m\u001b[0;34m.\u001b[0m\u001b[0mc\u001b[0m\u001b[0;34m\u001b[0m\u001b[0m\n\u001b[0m",
      "\u001b[0;31mAttributeError\u001b[0m: 'Complex' object has no attribute 'c'"
     ]
    }
   ],
   "source": [
    "# custom constructor using __init__\n",
    "import math\n",
    "class Complex(object):\n",
    "    def __init__(self, realpart=0, imagpart=0):\n",
    "        self.real = realpart\n",
    "        self.imag = imagpart \n",
    "    def modulus(self):\n",
    "        return math.sqrt(self.real ** 2 + self.imag **2 )\n",
    "\n",
    "    \n",
    "first_comp = Complex(3, 5)\n",
    "first_comp.modulus()\n",
    "\n",
    "\n",
    "# Make an object `c`\n",
    "c = Complex(3.0, -4.5)\n",
    "c.real, c.imag\n",
    "\n",
    "## Setting data attributes \n",
    "# You can set attributes on instance and class objects\n",
    "# on the fly (we used this in the constructor)\n",
    "c.counter = 1\n",
    "while c.counter < 10: \n",
    "    c.counter = c.counter * 2 \n",
    "    print c.counter\n",
    "\n",
    "first_comp.c"
   ]
  },
  {
   "cell_type": "markdown",
   "metadata": {},
   "source": [
    "### Methods vs. Functions \n",
    "\n",
    "A *method* is a function that is contained within an object \n",
    "\n",
    "    method ~ (object, function)\n",
    "    \n",
    " Methods invoke special semantics \n",
    "     \n",
    "    object.method(arguments) = function(object, arguments)"
   ]
  },
  {
   "cell_type": "code",
   "execution_count": 49,
   "metadata": {
    "collapsed": true
   },
   "outputs": [],
   "source": [
    "class Pizza(object):\n",
    "    def __init__(self, radius, toppings, slices=8):\n",
    "        self.radius = radius\n",
    "        self.toppings = toppings\n",
    "        self.slices_left = slices\n",
    "    \n",
    "    def eat_slice(self):\n",
    "        if self.slices_left > 0:\n",
    "            self.slices_left -= 1\n",
    "        else:\n",
    "            print(\"Oh no! Out of pizza\")\n",
    "\n",
    "    def __repr__(self):\n",
    "        return '{} pizza'.format(self.slices_left)"
   ]
  },
  {
   "cell_type": "code",
   "execution_count": 55,
   "metadata": {
    "collapsed": false
   },
   "outputs": [
    {
     "name": "stdout",
     "output_type": "stream",
     "text": [
      "<unbound method Pizza.eat_slice>\n",
      "None\n",
      "None\n"
     ]
    },
    {
     "data": {
      "text/plain": [
       "10 pizza"
      ]
     },
     "execution_count": 55,
     "metadata": {},
     "output_type": "execute_result"
    }
   ],
   "source": [
    "p = Pizza(14, (\"Pep\", \"Olives\"), slices=12)\n",
    "print Pizza.eat_slice\n",
    "\n",
    "print p.eat_slice()\n",
    "print p.eat_slice() #Implicitly calling Pizza.eat_slice(p)\n",
    "\n",
    "\n",
    "p.eat_slice.__self__"
   ]
  },
  {
   "cell_type": "code",
   "execution_count": 1,
   "metadata": {
    "collapsed": false
   },
   "outputs": [
    {
     "data": {
      "text/plain": [
       "'Mr. Peanut Butter'"
      ]
     },
     "execution_count": 1,
     "metadata": {},
     "output_type": "execute_result"
    }
   ],
   "source": [
    "class Dog:\n",
    "    kind = 'Canine' # class variable shared by all instances\n",
    "    def __init__(self, name):\n",
    "        self.name = name # instance variable unique to each instance\n",
    "\n",
    "a = Dog('Astro')\n",
    "\n",
    "pb = Dog('Mr. Peanut Butter')\n",
    "\n",
    "a.kind # 'Canine' (shared by all dogs)\n",
    "\n",
    "pb.kind # 'Canine' (shared by all dogs)\n",
    "\n",
    "a.name # 'Astro' (unique to a)\n",
    "\n",
    "pb.name # 'Mr. Peanut Butter' (unique to pb)"
   ]
  },
  {
   "cell_type": "markdown",
   "metadata": {},
   "source": [
    "## What could go wrong here?"
   ]
  },
  {
   "cell_type": "code",
   "execution_count": 76,
   "metadata": {
    "collapsed": false
   },
   "outputs": [
    {
     "data": {
      "text/plain": [
       "['roll over', 'play dead']"
      ]
     },
     "execution_count": 76,
     "metadata": {},
     "output_type": "execute_result"
    }
   ],
   "source": [
    "class Dog:\n",
    "    tricks = []\n",
    "    def __init__(self, name):\n",
    "        self.name = name\n",
    "    def add_trick(self, trick):\n",
    "        self.tricks.append(trick)\n",
    "        \n",
    "d = Dog('Fido')\n",
    "e = Dog('Buddy')\n",
    "d.add_trick('roll over')\n",
    "e.add_trick('play dead')\n",
    "d.tricks"
   ]
  },
  {
   "cell_type": "code",
   "execution_count": 84,
   "metadata": {
    "collapsed": false
   },
   "outputs": [
    {
     "name": "stdout",
     "output_type": "stream",
     "text": [
      "['roll over', 'play dead']\n",
      "['roll over', 'play dead']\n"
     ]
    }
   ],
   "source": [
    "class Dog:\n",
    "    def __init__(self, name='', tricks=[]):\n",
    "        self.name = name\n",
    "        self.tricks = tricks\n",
    "    def add_trick(self, trick):\n",
    "        self.tricks.append(trick)\n",
    "        \n",
    "        \n",
    "d = Dog('Fido')\n",
    "e = Dog('Buddy')\n",
    "d.add_trick('roll over')\n",
    "e.add_trick('play dead')\n",
    "print d.tricks\n",
    "print e.tricks"
   ]
  },
  {
   "cell_type": "code",
   "execution_count": 86,
   "metadata": {
    "collapsed": false
   },
   "outputs": [
    {
     "data": {
      "text/plain": [
       "['roll over', 'play dead']"
      ]
     },
     "execution_count": 86,
     "metadata": {},
     "output_type": "execute_result"
    }
   ],
   "source": [
    "class Dog:\n",
    "    def __init__(self, name, global_tricks=[]):\n",
    "        self.name = name\n",
    "        self.tricks = []\n",
    "        self.global_tricks = global_tricks \n",
    "    def add_trick(self, trick):\n",
    "        self.tricks.append(trick)\n",
    "        self.global_tricks.append(trick)\n",
    "d = Dog('Fido')\n",
    "e = Dog('Buddy')\n",
    "d.add_trick('roll over')\n",
    "e.add_trick('play dead')\n",
    "d.tricks\n",
    "d.global_tricks"
   ]
  },
  {
   "cell_type": "markdown",
   "metadata": {},
   "source": [
    "## Stylistic Conventions\n",
    " - A method's first parameter should always be `self` \n",
    "     - Explicitly differentiate instance vars from local vars\n",
    "     \n",
    " - Method calls implicitly provide the calling object as the first argument to the class function\n",
    " \n",
    " - Use verbs for methods and nouns for data attributes"
   ]
  },
  {
   "cell_type": "markdown",
   "metadata": {},
   "source": [
    "### Inheritance \n",
    "\n",
    "<img src=http://i.imgur.com/C7lsvRs.png>"
   ]
  },
  {
   "cell_type": "markdown",
   "metadata": {},
   "source": [
    "### Single Inheritance \n",
    "\n",
    "- A class object remembers its base class. \n",
    "\n",
    "- If you don't specify a base class, implicitly use object\n",
    "\n",
    "- Method and attribute lookup begins in the derived class\n",
    "    - Proceeds down the chain of base classes\n",
    "\n",
    "- Derived methods override (shadow) base methods\n",
    "\n",
    "- Like `virtual` in C++"
   ]
  },
  {
   "cell_type": "markdown",
   "metadata": {},
   "source": [
    "### Code Along: Single Inheritance\n",
    "\n",
    "Let's create a class to create General Assembly courses. \n",
    "\n",
    "- What whould be important characteristics of a course? \n",
    "\n"
   ]
  },
  {
   "cell_type": "code",
   "execution_count": 41,
   "metadata": {
    "collapsed": true
   },
   "outputs": [],
   "source": [
    "class Course(object):\n",
    "    pass \n",
    "        \n",
    "class DSCourse(Course):\n",
    "    pass"
   ]
  },
  {
   "cell_type": "markdown",
   "metadata": {},
   "source": [
    "<details>\n",
    "<summary> \n",
    "**Check**: What does `isinstance` function do? \n",
    "</summary>\n",
    "</details>\n",
    "\n",
    "<details>\n",
    "<summary> \n",
    "**Check**: What is the output for the following? <br/>\n",
    "```\n",
    "1. type(a)\n",
    "2. isinstance(a, Course)\n",
    "3. isinstance(b, Course)\n",
    "4. type(a) == type(b)\n",
    "5. a == b\n",
    "```\n",
    "</summary>\n",
    "__main__.Course <br/>\n",
    "\n",
    "True\n",
    "\n",
    "True\n",
    "\n",
    "False\n",
    "\n",
    "True\n",
    "\n",
    "\n",
    "</details>"
   ]
  },
  {
   "cell_type": "markdown",
   "metadata": {},
   "source": [
    "### Magic Methods\n",
    "\n",
    "You don't invoke them directly. The invokation happens behind the scenes. \n",
    "\n",
    "Python uses `__init__` to build classes. We can supply our own `__init__` for customization\n",
    "\n",
    "What else can we do? Can we make classes look like:\n",
    "\n",
    "- iterators?\n",
    "\n",
    "- sets? dictionaries?\n",
    "\n",
    "- numbers?\n",
    "\n",
    "- comparables?"
   ]
  },
  {
   "cell_type": "markdown",
   "metadata": {},
   "source": [
    "<img src=http://i.imgur.com/Pq36wry.png>"
   ]
  },
  {
   "cell_type": "code",
   "execution_count": 40,
   "metadata": {
    "collapsed": true
   },
   "outputs": [],
   "source": [
    "class Point:\n",
    "    def __init__(self, x=0, y=0):\n",
    "        self.x = x\n",
    "        self.y = y\n",
    "        \n",
    "    def rotate_90_CC(self):\n",
    "        self.x, self.y = -self.y, self.x\n",
    "        \n",
    "    def __add__(self, other):\n",
    "        return Point(self.x + other.x, self.y + other.y)\n",
    "\n",
    "    def __str__(self):\n",
    "        return \"Point({0}, {1})\".format(self.x, self.y)"
   ]
  },
  {
   "cell_type": "markdown",
   "metadata": {},
   "source": [
    "## Thought Experiment: Revisited\n",
    "\n",
    "Let’s say you run a company and you’ve just decided to give all your employees a $10,000.00 raise. How could we write a command-line script to make this change?"
   ]
  }
 ],
 "metadata": {
  "kernelspec": {
   "display_name": "Python 2",
   "language": "python",
   "name": "python2"
  },
  "language_info": {
   "codemirror_mode": {
    "name": "ipython",
    "version": 2
   },
   "file_extension": ".py",
   "mimetype": "text/x-python",
   "name": "python",
   "nbconvert_exporter": "python",
   "pygments_lexer": "ipython2",
   "version": "2.7.13"
  }
 },
 "nbformat": 4,
 "nbformat_minor": 0
}
