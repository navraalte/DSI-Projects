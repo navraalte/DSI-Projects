{
 "cells": [
  {
   "cell_type": "markdown",
   "metadata": {},
   "source": [
    "## Two Dimensional Vectors\n",
    "\n",
    "Define a Python class V2, which represents two-dimensional vectors (arrays) and supports the following operations:\n",
    "\n",
    "- Create a new vector out of two real numbers: v = V2(1.1, 2.2)\n",
    "\n",
    "- Convert a vector to a string (with the `__str__` method)\n",
    "\n",
    "- Access the components (with the getX and getY methods)\n",
    "\n",
    "- Add two V2s to get a new V2 (with add and `__add__` methods)\n",
    "\n",
    "- Multiply a V2 by a scalar (real or int) and return a new V2 (with the mul and `__mul__` methods)"
   ]
  },
  {
   "cell_type": "markdown",
   "metadata": {},
   "source": [
    "## Polynomial Class\n",
    "\n",
    "Define a Python class Polynomial which provides methods for performing algebraic operations on polynomials. Your class should behave as described in the following way:\n",
    "\n",
    "```\n",
    ">>> p1 = Polynomial([1, 2, 3])\n",
    ">>> p1\n",
    "1.000 z**2 + 2.000 z + 3.000\n",
    ">>> p2 = Polynomial([100, 200])\n",
    ">>> p1.add(p2)\n",
    "1.000 z**2 + 102.000 z + 203.000\n",
    ">>> p1 + p2\n",
    "1.000 z**2 + 102.000 z + 203.000\n",
    ">>> p1(1)\n",
    "6.0\n",
    ">>> p1(-1)\n",
    "2.0\n",
    ">>> (p1 + p2)(10)\n",
    "1323.0\n",
    ">>> p1.mul(p1)\n",
    "1.000 z**4 + 4.000 z**3 + 10.000 z**2 + 12.000 z + 9.000\n",
    ">>> p1 * p1\n",
    "1.000 z**4 + 4.000 z**3 + 10.000 z**2 + 12.000 z + 9.000\n",
    ">>> p1 * p2 + p1\n",
    "100.000 z**3 + 401.000 z**2 + 702.000 z + 603.000\n",
    ">>> p1.roots()\n",
    "[(-1+1.4142135623730947j), (-1-1.4142135623730947j)]\n",
    ">>> p2.roots()\n",
    "[-2.0]\n",
    ">>> p3 = Polynomial([3, 2, -1])\n",
    ">>> p3.roots()\n",
    "[-1.0, 0.33333333333333331]\n",
    ">>> (p1 * p1).roots()\n",
    "Order too high to solve for roots.\n",
    "\n",
    "```"
   ]
  },
  {
   "cell_type": "markdown",
   "metadata": {},
   "source": [
    "Note: `roots(self)` returns a list containing the root or roots of first or second order polynomials (for orders other than 1 and 2, just print an error message saying that you don’t handle them). If the roots are real-valued, then return the roots as floats. If a root has a non-zero imaginary part, then return it as a complex number. Python has built-in facilities for handling complex numbers. For example, complex(3,2) represents a complex number whose real part is 3 and whose imaginary part is 2. This same complex number could also be written as 3+2j. The real part of a complex number z can be obtained with z.real. \n",
    "2j."
   ]
  },
  {
   "cell_type": "markdown",
   "metadata": {},
   "source": [
    "## Inheritance\n",
    "\n",
    "Consider the following code: "
   ]
  },
  {
   "cell_type": "code",
   "execution_count": 1,
   "metadata": {
    "collapsed": true
   },
   "outputs": [],
   "source": [
    "\"\"\"Examples of Single Inheritance\"\"\"\n",
    "class Transportation:\n",
    "    wheels = 0\n",
    "\n",
    "    def __init__(self):\n",
    "        self.wheels = -1\n",
    "\n",
    "    def travel_one(self):\n",
    "        print(\"Travelling on generic transportation\")\n",
    "\n",
    "    def travel(self, distance):\n",
    "        for _ in range(distance):\n",
    "            self.travel_one()\n",
    "\n",
    "    def is_auto(self):\n",
    "        return self.wheels == 4\n",
    "\n",
    "class Bike(Transportation):\n",
    "\n",
    "    def travel_one(self):\n",
    "        print(\"Biking one mile\")\n",
    "\n",
    "class Car(Transportation):\n",
    "    wheels = 4\n",
    "\n",
    "    def travel_one(self):\n",
    "        print(\"Driving one mile\")\n",
    "\n",
    "    def make_sound(self):\n",
    "        print(\"VROOM\")\n",
    "\n",
    "class Ferrari(Car):\n",
    "    pass\n",
    "\n",
    "t = Transportation()\n",
    "b = Bike()\n",
    "c = Car()\n",
    "f = Ferrari()"
   ]
  },
  {
   "cell_type": "code",
   "execution_count": null,
   "metadata": {
    "collapsed": true
   },
   "outputs": [],
   "source": [
    "## Predict the outcome of each (DON'T EVALUATE THEM)\n",
    "\n",
    "isinstance(t, Transportation)\n",
    "\n",
    "isinstance(b, Bike)\n",
    "isinstance(b, Transportation)\n",
    "isinstance(b, Car)\n",
    "isinstance(b, t)\n",
    "\n",
    "isinstance(c, Car)\n",
    "isinstance(c, Transportation)\n",
    "\n",
    "isinstance(f, Ferrari)\n",
    "isinstance(f, Car)\n",
    "isinstance(f, Transportation)\n",
    "\n",
    "issubclass(Bike, Transportation)\n",
    "issubclass(Car, Transportation)\n",
    "issubclass(Ferrari, Car)\n",
    "issubclass(Ferrari, Transportation)\n",
    "issubclass(Transportation, Transportation)\n",
    "\n",
    "b.travel(5)\n",
    "c.is_auto()\n",
    "f.is_auto()\n",
    "b.is_auto()\n",
    "b.make_sound()\n",
    "c.travel(10)\n",
    "f.travel(4)"
   ]
  },
  {
   "cell_type": "markdown",
   "metadata": {},
   "source": [
    "## Bank Accounts\n",
    "\n",
    "Suppose we want to model a bank account with support for deposit and withdraw operations. One way to do that is by using global state as shown in the following example. However, this is good enough only if we have a single account. Things start getting complicated if want to model multiple accounts. Write a `class` that keeps track of people's back account. Your class should have an attribute for the `initial_balance`, methods for `withdraw`, `deposit`, and `overdrawing`.  \n",
    "\n",
    "\n"
   ]
  }
 ],
 "metadata": {
  "kernelspec": {
   "display_name": "Python 2",
   "language": "python",
   "name": "python2"
  },
  "language_info": {
   "codemirror_mode": {
    "name": "ipython",
    "version": 2
   },
   "file_extension": ".py",
   "mimetype": "text/x-python",
   "name": "python",
   "nbconvert_exporter": "python",
   "pygments_lexer": "ipython2",
   "version": "2.7.13"
  }
 },
 "nbformat": 4,
 "nbformat_minor": 1
}
