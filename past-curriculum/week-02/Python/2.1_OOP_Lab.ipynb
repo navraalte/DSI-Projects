{
 "cells": [
  {
   "cell_type": "markdown",
   "metadata": {},
   "source": [
    "## Two Dimensional Vectors\n",
    "\n",
    "Define a Python class V2, which represents two-dimensional vectors (arrays) and supports the following operations:\n",
    "\n",
    "- Create a new vector out of two real numbers: v = V2(1.1, 2.2)\n",
    "\n",
    "- Convert a vector to a string (with the `__str__` method)\n",
    "\n",
    "- Access the components (with the getX and getY methods)\n",
    "\n",
    "- Add two V2s to get a new V2 (with add and `__add__` methods)\n",
    "\n",
    "- Multiply a V2 by a scalar (real or int) and return a new V2 (with the mul and `__mul__` methods)"
   ]
  },
  {
   "cell_type": "code",
   "execution_count": 1,
   "metadata": {
    "collapsed": true
   },
   "outputs": [],
   "source": [
    "class V2(object):\n",
    "    \n",
    "    def __init__(self, x, y):\n",
    "        self.x = x \n",
    "        self.y = y \n",
    "        \n",
    "    def getX(self):\n",
    "        return self.x \n",
    "    \n",
    "    def getY(self):\n",
    "        return self.y \n",
    "    \n",
    "    def __str__(self): \n",
    "        return \"[{}, {}]\".format(self.x, self.y)\n",
    "    \n",
    "    def __add__(self, other):\n",
    "        return V2(self.x + other.x, self.y + other.y)\n",
    "        \n",
    "    def __mul__(self, alpha):\n",
    "        return V2(alpha * self.x, alpha * self.y)\n"
   ]
  },
  {
   "cell_type": "code",
   "execution_count": 7,
   "metadata": {
    "collapsed": false
   },
   "outputs": [
    {
     "name": "stdout",
     "output_type": "stream",
     "text": [
      "[8, 15]\n",
      "[88, 165]\n"
     ]
    }
   ],
   "source": [
    "v1 = V2(3, 5)\n",
    "v2 = V2(5, 10)\n",
    "v3 = v1 + v2\n",
    "print v3\n",
    "\n",
    "print v3 * 11"
   ]
  },
  {
   "cell_type": "markdown",
   "metadata": {},
   "source": [
    "## Polynomial Class\n",
    "\n",
    "Define a Python class Polynomial which provides methods for performing algebraic operations on polynomials. Your class should behave as described in the following way:\n",
    "\n",
    "```\n",
    ">>> p1 = Polynomial([1, 2, 3])\n",
    ">>> p1\n",
    "1.000 z**2 + 2.000 z + 3.000\n",
    ">>> p2 = Polynomial([100, 200])\n",
    ">>> p1.add(p2)\n",
    "1.000 z**2 + 102.000 z + 203.000\n",
    ">>> p1 + p2\n",
    "1.000 z**2 + 102.000 z + 203.000\n",
    ">>> p1(1)\n",
    "6.0\n",
    ">>> p1(-1)\n",
    "2.0\n",
    ">>> (p1 + p2)(10)\n",
    "1323.0\n",
    ">>> p1.mul(p1)\n",
    "1.000 z**4 + 4.000 z**3 + 10.000 z**2 + 12.000 z + 9.000\n",
    ">>> p1 * p1\n",
    "1.000 z**4 + 4.000 z**3 + 10.000 z**2 + 12.000 z + 9.000\n",
    ">>> p1 * p2 + p1\n",
    "100.000 z**3 + 401.000 z**2 + 702.000 z + 603.000\n",
    ">>> p1.roots()\n",
    "[(-1+1.4142135623730947j), (-1-1.4142135623730947j)]\n",
    ">>> p2.roots()\n",
    "[-2.0]\n",
    ">>> p3 = Polynomial([3, 2, -1])\n",
    ">>> p3.roots()\n",
    "[-1.0, 0.33333333333333331]\n",
    ">>> (p1 * p1).roots()\n",
    "Order too high to solve for roots.\n",
    "\n",
    "```"
   ]
  },
  {
   "cell_type": "markdown",
   "metadata": {},
   "source": [
    "Note: `roots(self)` returns a list containing the root or roots of first or second order polynomials (for orders other than 1 and 2, just print an error message saying that you don’t handle them). If the roots are real-valued, then return the roots as floats. If a root has a non-zero imaginary part, then return it as a complex number. Python has built-in facilities for handling complex numbers. For example, complex(3,2) represents a complex number whose real part is 3 and whose imaginary part is 2. This same complex number could also be written as 3+2j. The real part of a complex number z can be obtained with z.real. \n",
    "2j."
   ]
  },
  {
   "cell_type": "code",
   "execution_count": 61,
   "metadata": {
    "collapsed": false
   },
   "outputs": [],
   "source": [
    "class Polynomial(object):\n",
    "    \n",
    "    def __init__(self, coefs):\n",
    "        self.coefs = coefs \n",
    "    \n",
    "    def padding(self, alt_coefs):\n",
    "        \n",
    "        if len(self.coefs) > len(alt_coefs.coefs):\n",
    "            max_list, min_list = self.coefs, alt_coefs.coefs\n",
    "        else:\n",
    "            max_list, min_list = alt_coefs.coefs, self.coefs\n",
    "\n",
    "        min_list  = [0] * (len(max_list) - len(min_list)) + min_list \n",
    "        return max_list, min_list \n",
    "    \n",
    "    def __add__(self, alt_coefs):\n",
    "        max_list, min_list  = self.padding(alt_coefs)\n",
    "        combined_list = zip(max_list, min_list)\n",
    "        new_coefs = map(lambda x: x[0] + x[1], combined_list)\n",
    "        return Polynomial(new_coefs)\n",
    "    \n",
    "    def __call__(self, x):\n",
    "        eval_seq = [x ** power * self.coefs[coefs_idx]\n",
    "                    for power, coefs_idx in enumerate(range(len(self.coefs) - 1, -1, -1))]\n",
    "        return sum(eval_seq)\n",
    "    \n",
    "    def __mul__(self, alt_coefs):\n",
    "        max_list, min_list = self.padding(alt_coefs)\n",
    "        max_list.reverse()\n",
    "        min_list.reverse()\n",
    "        poly_hash = {}\n",
    "        for coef_idx, coef in enumerate(max_list):\n",
    "            for acoef_idx, alt_coef in enumerate(min_list):\n",
    "                key = coef_idx + acoef_idx\n",
    "                value = coef * alt_coef\n",
    "                if key in poly_hash:\n",
    "                    poly_hash[key] += value\n",
    "                else:\n",
    "                    poly_hash[key] = value \n",
    "       \n",
    "        new_poly = filter(lambda x: x > 0, [poly_hash[i] for i in range(len(poly_hash))])\n",
    "        new_poly.reverse()\n",
    "        return Polynomial(new_poly)\n",
    "    \n",
    "    def roots(self):\n",
    "        if not len(self.coefs) <= 3:\n",
    "            return 'Too many coefs'\n",
    "        else:\n",
    "            if len(self.coefs) == 3:\n",
    "                disc = self.coefs[1] ** 2 - 4*self.coefs[0]*self.coefs[2]\n",
    "                if disc < 0:\n",
    "                    disc_sqrt = complex(0, math.sqrt(-disc))\n",
    "                else:\n",
    "                    disc_sqrt = math.sqrt(disc)\n",
    "                roots = [-self.coefs[1] + disc_sqrt, -self.coefs[1] - disc_sqrt]\n",
    "                roots = map(lambda x: x / (2 * self.coefs[0]), roots)\n",
    "                return roots\n",
    "            \n",
    "            elif len(self.coefs) == 2:\n",
    "                return -self.coefs[1] / self.coefs[0]\n",
    "            \n",
    "            else:\n",
    "                return None \n",
    "            \n",
    "    def __str__(self):\n",
    "        return str(self.coefs)"
   ]
  },
  {
   "cell_type": "code",
   "execution_count": 55,
   "metadata": {
    "collapsed": false
   },
   "outputs": [
    {
     "data": {
      "text/plain": [
       "1.7320508075688772j"
      ]
     },
     "execution_count": 55,
     "metadata": {},
     "output_type": "execute_result"
    }
   ],
   "source": [
    "import cmath\n",
    "complex(0, math.sqrt(3))"
   ]
  },
  {
   "cell_type": "code",
   "execution_count": 63,
   "metadata": {
    "collapsed": false
   },
   "outputs": [
    {
     "data": {
      "text/plain": [
       "-2"
      ]
     },
     "execution_count": 63,
     "metadata": {},
     "output_type": "execute_result"
    }
   ],
   "source": [
    "p1 = Polynomial([1, 2, 3])\n",
    "p2 = Polynomial([100, 200])\n",
    "p2.roots()"
   ]
  },
  {
   "cell_type": "markdown",
   "metadata": {},
   "source": [
    "## Inheritance\n",
    "\n",
    "Consider the following code: "
   ]
  },
  {
   "cell_type": "code",
   "execution_count": 1,
   "metadata": {
    "collapsed": true
   },
   "outputs": [],
   "source": [
    "\"\"\"Examples of Single Inheritance\"\"\"\n",
    "class Transportation:\n",
    "    wheels = 0\n",
    "\n",
    "    def __init__(self):\n",
    "        self.wheels = -1\n",
    "\n",
    "    def travel_one(self):\n",
    "        print(\"Travelling on generic transportation\")\n",
    "\n",
    "    def travel(self, distance):\n",
    "        for _ in range(distance):\n",
    "            self.travel_one()\n",
    "\n",
    "    def is_auto(self):\n",
    "        return self.wheels == 4\n",
    "\n",
    "class Bike(Transportation):\n",
    "\n",
    "    def travel_one(self):\n",
    "        print(\"Biking one mile\")\n",
    "\n",
    "class Car(Transportation):\n",
    "    wheels = 4\n",
    "\n",
    "    def travel_one(self):\n",
    "        print(\"Driving one mile\")\n",
    "\n",
    "    def make_sound(self):\n",
    "        print(\"VROOM\")\n",
    "\n",
    "class Ferrari(Car):\n",
    "    pass\n",
    "\n",
    "t = Transportation()\n",
    "b = Bike()\n",
    "c = Car()\n",
    "f = Ferrari()"
   ]
  },
  {
   "cell_type": "code",
   "execution_count": null,
   "metadata": {
    "collapsed": true
   },
   "outputs": [],
   "source": [
    "## Predict the outcome of each (DON'T EVALUATE THEM)\n",
    "\n",
    "isinstance(t, Transportation)\n",
    "\n",
    "isinstance(b, Bike)\n",
    "isinstance(b, Transportation)\n",
    "isinstance(b, Car)\n",
    "isinstance(b, t)\n",
    "\n",
    "isinstance(c, Car)\n",
    "isinstance(c, Transportation)\n",
    "\n",
    "isinstance(f, Ferrari)\n",
    "isinstance(f, Car)\n",
    "isinstance(f, Transportation)\n",
    "\n",
    "issubclass(Bike, Transportation)\n",
    "issubclass(Car, Transportation)\n",
    "issubclass(Ferrari, Car)\n",
    "issubclass(Ferrari, Transportation)\n",
    "issubclass(Transportation, Transportation)\n",
    "\n",
    "b.travel(5)\n",
    "c.is_auto()\n",
    "f.is_auto()\n",
    "b.is_auto()\n",
    "b.make_sound()\n",
    "c.travel(10)\n",
    "f.travel(4)"
   ]
  },
  {
   "cell_type": "markdown",
   "metadata": {},
   "source": [
    "## Bank Accounts\n",
    "\n",
    "Suppose we want to model a bank account with support for deposit and withdraw operations. One way to do that is by using global state as shown in the following example. However, this is good enough only if we have a single account. Things start getting complicated if want to model multiple accounts. Write a `class` that keeps track of people's back account. Your class should have an attribute for the `initial_balance`, methods for `withdraw`, `deposit`, and `overdrawing`.  \n",
    "\n",
    "\n"
   ]
  },
  {
   "cell_type": "code",
   "execution_count": 68,
   "metadata": {
    "collapsed": false
   },
   "outputs": [],
   "source": [
    "class BankAccount(object):\n",
    "    \n",
    "    def __init__(self, curr_value):\n",
    "        self.curr_value = curr_value \n",
    "        \n",
    "    def withdraw(self, money):\n",
    "        if money > self.curr_value:\n",
    "            print 'You are too poor'\n",
    "        else:\n",
    "            self.curr_value -= money \n",
    "            \n",
    "    def deposit(self, money):\n",
    "        self.curr_value += money "
   ]
  }
 ],
 "metadata": {
  "kernelspec": {
   "display_name": "Python [Root]",
   "language": "python",
   "name": "Python [Root]"
  },
  "language_info": {
   "codemirror_mode": {
    "name": "ipython",
    "version": 2
   },
   "file_extension": ".py",
   "mimetype": "text/x-python",
   "name": "python",
   "nbconvert_exporter": "python",
   "pygments_lexer": "ipython2",
   "version": "2.7.12"
  }
 },
 "nbformat": 4,
 "nbformat_minor": 1
}
