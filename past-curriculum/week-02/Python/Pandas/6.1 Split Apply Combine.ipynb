{
 "cells": [
  {
   "cell_type": "markdown",
   "metadata": {
    "slideshow": {
     "slide_type": "slide"
    }
   },
   "source": [
    "<img src=\"https://ga-dash.s3.amazonaws.com/production/assets/logo-9f88ae6c9c3871690e33280fcf557f33.png\" style=\"float: left; margin: 15px;\">\n",
    "\n",
    "# Split-Apply-Combine \n",
    "\n",
    "***\n",
    "Week 2 | Lesson 6.1\n",
    "\n",
    "\n",
    "\n",
    "\n",
    "\n",
    "### LEARNING OBJECTIVES\n",
    "*After this lesson, you will be able to:*\n",
    "- Understand how split-apply-combine works\n",
    "- Understand and demonstrate the use of the **`.groupby()`** feature in Pandas"
   ]
  },
  {
   "cell_type": "markdown",
   "metadata": {
    "slideshow": {
     "slide_type": "slide"
    }
   },
   "source": [
    "### LESSON GUIDE\n",
    "| TIMING  | TYPE  | TOPIC  |\n",
    "|:-:|---|---|\n",
    "| 5 min  | [Introduction](#introduction)   |   |\n",
    "| 15 min  | [Demo /Guided Practice](#demo)  | Pulse on Grouping |\n",
    "| 15 min  | [Demo /Guided Practice](#demo)  | Explain the mechanics|\n",
    "| 20 min  | [Demo /Guided Practice](#demo)  |  |\n",
    "| 60+ min  | [Independent Practice](#ind-practice)  |   |\n",
    "| 10 min  | [Conclusion](#conclusion)  |   |\n"
   ]
  },
  {
   "cell_type": "markdown",
   "metadata": {
    "slideshow": {
     "slide_type": "slide"
    }
   },
   "source": [
    "<a name=\"introduction\"></a>\n",
    "## Introduction:  (5 mins)"
   ]
  },
  {
   "cell_type": "markdown",
   "metadata": {
    "slideshow": {
     "slide_type": "slide"
    }
   },
   "source": [
    "## What have you used grouping for ?"
   ]
  },
  {
   "cell_type": "markdown",
   "metadata": {
    "slideshow": {
     "slide_type": "slide"
    }
   },
   "source": [
    "### Remember groupby => multi-dimensional data analysis - powerful - underuse\n",
    "   \n",
    "   - Describe segments of your data based on unique values\n",
    "   - Helps understand hidden(latent) charactaristics of your data\n",
    "   - Apply aggregate functions to subsets, based on variable aspects of our datasets\n",
    "       - Summary statistics of subsets\n",
    "       - Discover patterns that exist in subsets\n",
    "   "
   ]
  },
  {
   "cell_type": "markdown",
   "metadata": {
    "slideshow": {
     "slide_type": "slide"
    }
   },
   "source": [
    "### Now, how does split, apply and combine work? \n",
    "   - **Splitting** the data into groups based on some criteria\n",
    "   - **Applying** a function to each group independently\n",
    "       - Aggregation, calculation of summary of stats per group (i.e. sum, ave)\n",
    "       - Transformation \n",
    "       - Filtration\n",
    "   - **Combining** the results into a data structure\n",
    "      "
   ]
  },
  {
   "cell_type": "markdown",
   "metadata": {
    "slideshow": {
     "slide_type": "slide"
    }
   },
   "source": [
    "### How does it work? \n"
   ]
  },
  {
   "cell_type": "markdown",
   "metadata": {
    "slideshow": {
     "slide_type": "notes"
    }
   },
   "source": [
    "1. Break it apart into manageable pieces\n",
    "2. Perform some operations on each of the pieces\n",
    "3. Put everything back together again\n",
    "4. In my terms: df.groupby(['var_1', 'var_2', ..........])[[ \"what I want to know\" ]].what_metric_I_want( )"
   ]
  },
  {
   "cell_type": "markdown",
   "metadata": {
    "slideshow": {
     "slide_type": "slide"
    }
   },
   "source": [
    "### How does it work? \n",
    "\n",
    "   \n",
    "    \n",
    "![](http://programminghistorian.github.io/ph-submissions/images/text-mining-with-extracted-features/example-split-apply-combine.png)"
   ]
  },
  {
   "cell_type": "markdown",
   "metadata": {
    "slideshow": {
     "slide_type": "slide"
    }
   },
   "source": [
    "### Once again, the basics of Split-Apply-Combine\n",
    "    \n",
    "![](https://pbs.twimg.com/media/B75gJJ1CQAEwd35.png)"
   ]
  },
  {
   "cell_type": "markdown",
   "metadata": {
    "slideshow": {
     "slide_type": "slide"
    }
   },
   "source": [
    "### Can you tell why searching for the hidden information is vital using this method?\n",
    "[Simpsons Paradox](http://vudlab.com/simpsons/) 5 min"
   ]
  },
  {
   "cell_type": "markdown",
   "metadata": {
    "slideshow": {
     "slide_type": "slide"
    }
   },
   "source": [
    "# Demo / Codealong \n",
    "\n",
    "Let's look at an example. \n",
    "\n",
    "> Open the **6.1 Grouping Code Along** notebook\n"
   ]
  }
 ],
 "metadata": {
  "anaconda-cloud": {},
  "celltoolbar": "Raw Cell Format",
  "kernelspec": {
   "display_name": "Python [conda env:dsi]",
   "language": "python",
   "name": "conda-env-dsi-py"
  },
  "language_info": {
   "codemirror_mode": {
    "name": "ipython",
    "version": 2
   },
   "file_extension": ".py",
   "mimetype": "text/x-python",
   "name": "python",
   "nbconvert_exporter": "python",
   "pygments_lexer": "ipython2",
   "version": "2.7.12"
  }
 },
 "nbformat": 4,
 "nbformat_minor": 0
}
