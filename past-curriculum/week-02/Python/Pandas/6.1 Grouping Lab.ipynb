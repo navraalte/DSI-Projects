{
 "cells": [
  {
   "cell_type": "markdown",
   "metadata": {
    "slideshow": {
     "slide_type": "slide"
    }
   },
   "source": [
    "<img src=\"https://ga-dash.s3.amazonaws.com/production/assets/logo-9f88ae6c9c3871690e33280fcf557f33.png\" style=\"float: left; margin: 15px;\">\n",
    "\n",
    "# Grouping with Pandas (Lab)\n",
    "\n",
    "***\n",
    "\n",
    "Week 2 | Lab 6.1"
   ]
  },
  {
   "cell_type": "markdown",
   "metadata": {},
   "source": [
    "## Group Exercize (~80mins-ish)\n",
    "\n",
    "We are going to investigate the nuances of UFO sightings around the US.  By now you should be able to perform groupby operations in multiple dimensions and investigate the relationships between subsets of datasets with basic aggregation.\n",
    "\n",
    "_Protip, to turn off slide type headers from every dataframe, go to \"View\" and select \"None\" from \"Cell Toolbar\"_"
   ]
  },
  {
   "cell_type": "code",
   "execution_count": 1,
   "metadata": {
    "collapsed": false
   },
   "outputs": [],
   "source": [
    "import pandas as pd\n",
    "import numpy as np\n",
    "import seaborn as sns\n",
    "import matplotlib.pyplot as plt\n",
    "%matplotlib inline"
   ]
  },
  {
   "cell_type": "code",
   "execution_count": 2,
   "metadata": {
    "collapsed": true
   },
   "outputs": [],
   "source": [
    "# Load the UFO dataset!\n",
    "# Did you know you can load csv over HTTP?  It's not ideal, but it can be done!\n",
    "\n",
    "ufo = pd.read_csv('https://raw.githubusercontent.com/sinanuozdemir/SF_DAT_17/master/data/ufo.csv')"
   ]
  },
  {
   "cell_type": "markdown",
   "metadata": {},
   "source": [
    "### 1. How many non-null values exist per each variable?\n",
    "\n",
    "The first thing that is important to know is how complete our dataset is and how uniform are the values."
   ]
  },
  {
   "cell_type": "code",
   "execution_count": null,
   "metadata": {
    "collapsed": false
   },
   "outputs": [],
   "source": []
  },
  {
   "cell_type": "markdown",
   "metadata": {},
   "source": [
    "### 2. What is the breakdown of dtypes in our dataframe?"
   ]
  },
  {
   "cell_type": "code",
   "execution_count": null,
   "metadata": {
    "collapsed": false
   },
   "outputs": [],
   "source": []
  },
  {
   "cell_type": "markdown",
   "metadata": {},
   "source": [
    "### 3. Provide a \"Data Dictionary\" that describes these features:\n",
    "\n",
    " - Variable / feature name\n",
    " - Brief description of what variable appears to represent\n",
    " - Expected dtype(s)\n",
    " - Number of unique values observed if categorical and < 20 unqiue \n"
   ]
  },
  {
   "cell_type": "code",
   "execution_count": null,
   "metadata": {
    "collapsed": false
   },
   "outputs": [],
   "source": []
  },
  {
   "cell_type": "markdown",
   "metadata": {},
   "source": [
    "### 3. Which colors are most commonly reported?\n",
    "Provide a breakdown of colors by count."
   ]
  },
  {
   "cell_type": "code",
   "execution_count": null,
   "metadata": {
    "collapsed": false
   },
   "outputs": [],
   "source": []
  },
  {
   "cell_type": "markdown",
   "metadata": {},
   "source": [
    "### 4. Which shapes are most commonly reported?"
   ]
  },
  {
   "cell_type": "code",
   "execution_count": null,
   "metadata": {
    "collapsed": false
   },
   "outputs": [],
   "source": []
  },
  {
   "cell_type": "markdown",
   "metadata": {},
   "source": [
    "### 5. Are there any shapes that take on some colors more than others?\n",
    "_* Warning: Use of broad langauge._"
   ]
  },
  {
   "cell_type": "code",
   "execution_count": null,
   "metadata": {
    "collapsed": false
   },
   "outputs": [],
   "source": []
  },
  {
   "cell_type": "markdown",
   "metadata": {},
   "source": [
    "### 6. Display only the group for \"CIGAR\" using a mask.. \n",
    "Go ahead try it out."
   ]
  },
  {
   "cell_type": "code",
   "execution_count": null,
   "metadata": {
    "collapsed": false
   },
   "outputs": [],
   "source": []
  },
  {
   "cell_type": "markdown",
   "metadata": {},
   "source": [
    "### 7. Return only the group for \"VARIOUS\" without using a mask..\n",
    "It can be done and we're not just making this up!"
   ]
  },
  {
   "cell_type": "code",
   "execution_count": null,
   "metadata": {
    "collapsed": false
   },
   "outputs": [],
   "source": []
  },
  {
   "cell_type": "code",
   "execution_count": null,
   "metadata": {
    "collapsed": false
   },
   "outputs": [],
   "source": []
  },
  {
   "cell_type": "markdown",
   "metadata": {},
   "source": [
    "### 8. Plot the counts of shapes, states, colors\n",
    "Double check our notebook and feel free to use Google for help."
   ]
  },
  {
   "cell_type": "code",
   "execution_count": null,
   "metadata": {
    "collapsed": false
   },
   "outputs": [],
   "source": []
  },
  {
   "cell_type": "markdown",
   "metadata": {},
   "source": [
    "### 9. Plot counts of sightings per City"
   ]
  },
  {
   "cell_type": "code",
   "execution_count": null,
   "metadata": {
    "collapsed": false
   },
   "outputs": [],
   "source": []
  },
  {
   "cell_type": "markdown",
   "metadata": {},
   "source": [
    "### 10.  Your co-worker in your data science team has approached you with some concerns..\n",
    "\n",
    "<center>![a real data scientist](http://nerdist.com/wp-content/uploads/2016/02/20160225_becausescience_pokemon_1x1.jpg)\n",
    "_* Actual data scientists may vary in appearance_\n",
    "</center>\n",
    "\n",
    "\n",
    "They tell you that group counting your sightings by city might be inaccurate.  How can you reassure them that your logic is sound and you are certianly correct?  Demonstrate to them, in any other way possible (with code) that you think counting groups by city is a good idea (right?).  Show them by using another method, or grouping in conjunction with other variables validates your assumptions."
   ]
  },
  {
   "cell_type": "markdown",
   "metadata": {},
   "source": [
    "### 11.  Which cities have the most \"CIGAR\" sightings?"
   ]
  },
  {
   "cell_type": "code",
   "execution_count": null,
   "metadata": {
    "collapsed": false
   },
   "outputs": [],
   "source": []
  },
  {
   "cell_type": "markdown",
   "metadata": {},
   "source": [
    "---\n",
    "\n",
    "Ask instructors for help on everything previous to this point, but we have designed the bonus material around collaboration in mind.  The next few problems are to be completed without instructor help.\n",
    "\n",
    "```\n",
    "if lab_question > 11:\n",
    "    no_instructors_allowed()\n",
    "```"
   ]
  },
  {
   "cell_type": "markdown",
   "metadata": {},
   "source": [
    "### 12.  Bonus:  Display only top 20 shape counts reported by state!\n",
    "\n",
    "This is a weird problem yes?  You're going to have weird questions and google is your friend!  So for this problem, we have found the answer with the search term \"pandas top 10 by group\" is a semi-obvious place where you will find many of these types of answers.\n",
    "\n",
    "You will easily find the answer but you will need to think about how to implement the solution as the ones you find won't be copy and paste but should demonstrate the intuition for doing so using a grouby object.\n",
    "\n",
    "This is the expected output, _using a groupby() and [some method(s)] to display \"State\" and \"Shape\" as your group indexes with a count!_:\n",
    "\n",
    "```\n",
    "State  Shape Reported\n",
    "CA     LIGHT             2171\n",
    "       CIRCLE            1023\n",
    "WA     LIGHT             1016\n",
    "CA     TRIANGLE           955\n",
    "FL     LIGHT              916\n",
    "TX     LIGHT              847\n",
    "CA     FIREBALL           808\n",
    "       DISK               775\n",
    "       OTHER              749\n",
    "       SPHERE             726\n",
    "NY     LIGHT              691\n",
    "AZ     LIGHT              677\n",
    "IL     LIGHT              600\n",
    "PA     LIGHT              581\n",
    "OH     LIGHT              525\n",
    "FL     FIREBALL           524\n",
    "MI     LIGHT              468\n",
    "FL     CIRCLE             467\n",
    "OR     LIGHT              466\n",
    "CA     OVAL               465\n",
    "dtype: int64\n",
    "```"
   ]
  },
  {
   "cell_type": "code",
   "execution_count": null,
   "metadata": {
    "collapsed": false
   },
   "outputs": [],
   "source": []
  },
  {
   "cell_type": "markdown",
   "metadata": {},
   "source": [
    "### 13.  Bonus:  What are the top 20 shapes by City + State?\n"
   ]
  },
  {
   "cell_type": "code",
   "execution_count": null,
   "metadata": {
    "collapsed": false
   },
   "outputs": [],
   "source": []
  },
  {
   "cell_type": "markdown",
   "metadata": {},
   "source": [
    "### 14. Bonus: What hours of the day are sightings most commonly reported?\n",
    "\n",
    "To solve this problem, you will need to follow these steps:\n",
    "    - Convert time feature to datetime type\n",
    "    - Create a new feature based on a characteristic of the first step\n",
    "    "
   ]
  },
  {
   "cell_type": "code",
   "execution_count": null,
   "metadata": {
    "collapsed": false
   },
   "outputs": [],
   "source": []
  },
  {
   "cell_type": "code",
   "execution_count": null,
   "metadata": {
    "collapsed": false
   },
   "outputs": [],
   "source": []
  },
  {
   "cell_type": "markdown",
   "metadata": {},
   "source": [
    "### 15. BONUS BONUS:  Generally, what interesting insights can you share about our UFO dataset?\n",
    "    \n",
    "Be as detailed as possible and tell us a nice story (long or short), about your observations.  Great ideas are:\n",
    " - Summary statistics\n",
    " - Outliers\n",
    " - Patterns\n",
    " - Latent characteristics\n",
    " - Graphs / plots / ascii art"
   ]
  },
  {
   "cell_type": "code",
   "execution_count": null,
   "metadata": {
    "collapsed": false
   },
   "outputs": [],
   "source": []
  },
  {
   "cell_type": "code",
   "execution_count": null,
   "metadata": {
    "collapsed": true
   },
   "outputs": [],
   "source": []
  }
 ],
 "metadata": {
  "anaconda-cloud": {},
  "celltoolbar": "Raw Cell Format",
  "kernelspec": {
   "display_name": "Python [conda env:dsi]",
   "language": "python",
   "name": "conda-env-dsi-py"
  },
  "language_info": {
   "codemirror_mode": {
    "name": "ipython",
    "version": 2
   },
   "file_extension": ".py",
   "mimetype": "text/x-python",
   "name": "python",
   "nbconvert_exporter": "python",
   "pygments_lexer": "ipython2",
   "version": "2.7.12"
  }
 },
 "nbformat": 4,
 "nbformat_minor": 0
}
