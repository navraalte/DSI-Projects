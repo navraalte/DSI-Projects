{
 "cells": [
  {
   "cell_type": "markdown",
   "metadata": {},
   "source": [
    "<img src=\"https://ga-dash.s3.amazonaws.com/production/assets/logo-9f88ae6c9c3871690e33280fcf557f33.png\" style=\"float: left; margin: 15px;\">\n",
    "\n",
    "## Probability and Counting\n",
    "\n",
    "Week 2 | 4.1 \n",
    "\n",
    "---\n",
    "\n",
    "### LEARNING OBJECTIVES\n",
    "*After this lesson, you will be able to:*\n",
    "- Understand and solve problems using classical, frequentist, and bayesian probability \n",
    "- Understand and solve counting problems using permutations and combinations \n",
    "\n",
    "### STUDENT PRE-WORK\n",
    "*Before this lesson, you should already be able to:*\n",
    "- Be able to code basic python syntax\n",
    "- Be comfortable using packages\n",
    "\n",
    "### INSTRUCTOR PREP\n",
    "*Before this lesson, instructors will need to:*\n",
    "- Review Learning Objectives \n",
    "- Review problems discussed during lesson"
   ]
  },
  {
   "cell_type": "code",
   "execution_count": null,
   "metadata": {
    "collapsed": true
   },
   "outputs": [],
   "source": [
    "from __future__ import division\n",
    "import pandas as pd\n",
    "import numpy as np\n",
    "import matplotlib.pyplot as plt\n",
    "import seaborn as sns\n",
    "from scipy import stats\n",
    "import random\n",
    "from math import factorial\n",
    "%matplotlib inline"
   ]
  },
  {
   "cell_type": "markdown",
   "metadata": {},
   "source": [
    "## Probability\n",
    "\n",
    "\n",
    "Because the fundation of statistics is probability, it is wise to first understand probability and its different versions. \n"
   ]
  },
  {
   "cell_type": "markdown",
   "metadata": {},
   "source": [
    "### Probability Axioms\n",
    "\n",
    "---\n",
    "\n",
    "**First Axiom**\n",
    "\n",
    "Probabilities are non-negative, real numbers. The lowest probability possible is zero, and probability cannot be infinite.\n",
    "\n",
    "**Second Axiom**\n",
    "\n",
    "The probability of the sample space $S$ of events is one:\n",
    "\n",
    "### $$ P(S) = 1 $$\n",
    "\n",
    "**Third Axiom**\n",
    "\n",
    "The probability of two _mutually exclusive_ events, here denoted $E_1$ and $E_2$, is equal to the sum of their individual probabilities:\n",
    "\n",
    "### $$ P(E_1 \\cup E_2) = P(E_1) + P(E_2) $$\n",
    "\n",
    "This is also known as additivity.\n",
    "\n",
    "This axiom can be understoon as say \"the probability of either event E_1 or event E_2 occuring is the same as the probability of both occuring.\""
   ]
  },
  {
   "cell_type": "markdown",
   "metadata": {},
   "source": [
    "### Random Variables\n",
    "\n",
    "A random variable (usually denoted as **X** ) is a variable that is assigned a random value. In other words, we don't know the value of the variabel until we check its value. Also, evey time we check its value we expect it's value to randomly change from one value to another. \n",
    "\n",
    "Let's go through some probability examples in order to better understand random variables. "
   ]
  },
  {
   "cell_type": "markdown",
   "metadata": {},
   "source": [
    "## 1. Classical probability\n",
    "\n",
    "---\n",
    "\n",
    "<div style=\"font-size:25px\">\n",
    "\\\\[P(X=x) = \\frac{\\text{n number of x outcomes}}{\\text{total possible outcomes in event space S}}\\\\]\n",
    "</div>\n",
    "\n",
    "<br>\n",
    "<div style=\"font-size:18px\">\n",
    "\n",
    "\n",
    "**Defned as:** The probability of x occuring is equal to the the numer of times that event x happens divided by the number of total possible outcomes. \n",
    "</div>\n",
    "\n",
    "Classical probability is an assessment of **possible** outcomes of elementary events. Elementary events are assumed to be equally likely.\n",
    "\n",
    "The set up to a classical probability problem is as follows:\n",
    "\n",
    "**Experiment** any action or process that generates observations\n",
    "\n",
    "**Sample Space** the set of all possible outcomes **S**\n",
    "\n",
    "**Event** a subset of the sample space **X**, where **X** is a random variable\n",
    "\n",
    "Let's go through some examples to better understand how to apply these ideas. \n",
    "\n",
    "### Ex One. Tossing 2 Coins\n",
    "\n",
    "What is the probability of tossing 2 coins and getting head twice?\n",
    "\n",
    "**Experiment** toss 2 coins\n",
    "\n",
    "**Sample Space** S = {HH, HT, TH, TT}\n",
    "\n",
    "**Event** Getting head twice, x = HH \n",
    "\n",
    "$$P(X= HH) = \\frac{\\text{# of two head outcomes }}{\\text{# total possible outcomes}}  = ~?~ $$"
   ]
  },
  {
   "cell_type": "code",
   "execution_count": null,
   "metadata": {
    "collapsed": false
   },
   "outputs": [],
   "source": [
    "def get_prob_for_two_coins(x):\n",
    "    '''Get probability that event x happens'''\n",
    "    \n",
    "    # define sample space by include all possible outcomes\n",
    "    sample_space = [\"HH\", \"HT\", \"TH\", \"TT\"]\n",
    "    \n",
    "    # numerator is cuonts the numer of times that event x happens\n",
    "    numerator = len([event for event in sample_space if event in x])\n",
    "    \n",
    "    # demoninator is the number of total possible outcomes\n",
    "    demoninator = len(sample_space)\n",
    "    \n",
    "    # prob of event x happening \n",
    "    P_X = numerator/ demoninator\n",
    "    \n",
    "    return P_X\n",
    "    "
   ]
  },
  {
   "cell_type": "code",
   "execution_count": null,
   "metadata": {
    "collapsed": false
   },
   "outputs": [],
   "source": [
    "#get_prob_for_two_coins()"
   ]
  },
  {
   "cell_type": "code",
   "execution_count": null,
   "metadata": {
    "collapsed": true
   },
   "outputs": [],
   "source": [
    "# Explore other outcomes"
   ]
  },
  {
   "cell_type": "markdown",
   "metadata": {},
   "source": [
    "\n",
    "### Ex Two. Rolling a Fair Die\n",
    "\n",
    "What is the probability of rolling an even number?\n",
    "\n",
    "**Experiment** roll a die\n",
    "\n",
    "**Sample Space** S = {1,2,3,4,5,6}\n",
    "\n",
    "**Event** Getting an even number, x = 2 or 4 or 6\n",
    "\n",
    "\n",
    "\n",
    "\n",
    "$$P( X = 2 ~\\text{or} ~4~ \\text{or} ~6) = \\frac{\\text{# of even outcomes}}{\\text{# total possible outcomes}}  = ~?~$$"
   ]
  },
  {
   "cell_type": "code",
   "execution_count": null,
   "metadata": {
    "collapsed": true
   },
   "outputs": [],
   "source": [
    "def get_prob_for_die_roll(x):\n",
    "    '''Get probability that event X happens'''\n",
    "    \n",
    "    # define sample space by include all possible outcomes\n",
    "    sample_space = [1, 2, 3, 4, 5, 6]\n",
    "    \n",
    "    # numerator is cuonts the numer of times that event x happens\n",
    "    numerator = len([event for event in sample_space if event in x])\n",
    "    \n",
    "    # demoninator is the number of total possible outcomes\n",
    "    demoninator = len(sample_space)\n",
    "    \n",
    "    # prob of event x happening \n",
    "    P_X = numerator/ demoninator\n",
    "    \n",
    "    return P_X"
   ]
  },
  {
   "cell_type": "code",
   "execution_count": null,
   "metadata": {
    "collapsed": false
   },
   "outputs": [],
   "source": [
    "#get_prob_for_die_roll()"
   ]
  },
  {
   "cell_type": "code",
   "execution_count": null,
   "metadata": {
    "collapsed": true
   },
   "outputs": [],
   "source": [
    "# Explore other outcomes"
   ]
  },
  {
   "cell_type": "markdown",
   "metadata": {},
   "source": [
    "### You Try\n",
    "\n",
    "What is the probability of tossing 3 coins and getting 2 heads and 1 tails in any order? In order words, what is the probability of getting the events **HHT** or **HTH** or **THH**  \n",
    "\n",
    "In your notebook:\n",
    "\n",
    "1. Write down what you think the experiment, sample space (S), and event x is for this example.\n",
    "2. Write a function that will output the probability just as we did in example one and two. \n",
    "\n",
    "**Hint:** You should be able to reuse the function in either example, but you do need to input the possible events in the sample space yourself. \n",
    "\n",
    "**Experiment ** ?\n",
    "\n",
    "**Sample Space** S = ?\n",
    "\n",
    "**Event** x = ?\n",
    "\n",
    "$$P(X=?) = \\frac{\\text{# x outcomes}}{\\text{# possible outcomes}} = ?$$"
   ]
  },
  {
   "cell_type": "code",
   "execution_count": null,
   "metadata": {
    "collapsed": true
   },
   "outputs": [],
   "source": [
    "# type your answer here"
   ]
  },
  {
   "cell_type": "markdown",
   "metadata": {},
   "source": [
    "### Classical Probability Summery\n",
    "\n",
    "In Classical probability, all we really need to do in order assign a probability to a future event is:\n",
    "\n",
    "1. Have an understanding of all possible outcomes (the event space)\n",
    "2. Counting the number of outcomes that interst us\n",
    "3. Then divide both numbers."
   ]
  },
  {
   "cell_type": "code",
   "execution_count": null,
   "metadata": {
    "collapsed": true
   },
   "outputs": [],
   "source": [
    "# have student volunteer to share their answer, slack their answer to me\n",
    "# have them explain their answer in front of the class "
   ]
  },
  {
   "cell_type": "markdown",
   "metadata": {},
   "source": [
    "### 2. Frequentist probability\n",
    "\n",
    "---\n",
    "\n",
    "<div style=\"font-size:25px\">\n",
    "\\\\[P(X=x | ~\\text{some condition}) =  \\frac{\\text{# times x has occurred}}{\\text{# independent and identical trials}}\\\\]\n",
    "</div>\n",
    "\n",
    "<br>\n",
    "<div style=\"font-size:18px\">\n",
    "**Defined as:** The probability of x occuring (given that the codition is true) is equal to the the number of times that the event x happens divided by the total number of independent and identical outcomes. \n",
    "</div>\n",
    "\n",
    "\n",
    "Unlike classical probability, frequentist probability is an EMPIRICAL definition. It is an objective statement desribing events that have occurred in the real world.\n",
    "\n",
    "In order to assign a probability to an event we must:\n",
    "\n",
    "1. Go out into the world and execute an experiment\n",
    "2. Make measurements of some kind \n",
    "3. Collect data\n",
    "4. Return to our computers and calculate the probability of some event happening based on the data that we can collected. \n",
    "\n",
    "You can think of frequentist probability as classical probability **plus empiricism**. However, unlike classical probability, we have to be very careful in our experimental design to **ensure that the following conditions are met**:\n",
    "\n",
    "1. Events occur independent of each other\n",
    "2. Trails/experiments used to measure events are all identical \n",
    "3. Randomization is built into the experiment - otherwise our random variable is not random. \n",
    "\n",
    "In order to better understand frequentist probability let's go through an example. \n",
    "\n",
    "### Male Heights Experiment\n",
    "\n",
    "We are interested in finding the frequentist probability that an American male is 6 ft tall, so we conduct an experiment. We travel the United states and: \n",
    "\n",
    "1. Randomly approach one million males and measure their heights - this ensures that events (measing height) are independent of each other. \n",
    "2. Always measure people's heights using the same measuring tape and between the hours of 9 am and 5 pm - this ensures that the experiments are identical. \n",
    "\n",
    "Consider the following cases: \n",
    "\n",
    "#### Case 1.\n",
    "\n",
    "1. The first male we measure is 6 feet tall. \n",
    "2. We go back to our computers, calculate the frequentist probability that a male is 6 ft tall, and get a probability of 100%\n",
    "\n",
    "$$P(X= \\text{6 ft}~ |~\\text{ male}) =  \\frac{\\text{# of 6 ft   males measured}}{\\text{total # of measurements}} = \\frac{1}{1} = 100\\%$$\n",
    "\n",
    "\n",
    "Can we trust this result?"
   ]
  },
  {
   "cell_type": "code",
   "execution_count": null,
   "metadata": {
    "collapsed": true
   },
   "outputs": [],
   "source": [
    "# switch cell to Markdown mode and write your answer here"
   ]
  },
  {
   "cell_type": "markdown",
   "metadata": {},
   "source": [
    "#### Case 2.\n",
    "\n",
    "1. We measure 100 males and none are 6 feet tall. \n",
    "2. We go back to our computers, calculate the frequentist probability that a male is 6 ft tall, and get a probability of 0%\n",
    "\n",
    "$$P(X= \\text{6 ft}~ |~\\text{ male})=  \\frac{\\text{# of 6 ft males measured}}{\\text{total # of measurements}} = \\frac{0}{100} = 0\\%$$\n",
    "\n",
    "\n",
    "Can we trust this result?"
   ]
  },
  {
   "cell_type": "code",
   "execution_count": null,
   "metadata": {
    "collapsed": true
   },
   "outputs": [],
   "source": [
    "# switch cell to Markdown mode and write your answer here"
   ]
  },
  {
   "cell_type": "markdown",
   "metadata": {},
   "source": [
    "#### Case 3.\n",
    "\n",
    "1. We measure 1,000,000 males and 100,000 are 6 feet tall. \n",
    "2. We go back to our computers, calculate the frequentist probability that a male is 6 ft tall, and get a probability of 10%\n",
    "\n",
    "$$P(X= \\text{6 ft}~ |~\\text{ male}) =  \\frac{\\text{# of 6 ft males measured}}{\\text{total # of measurements}} = \\frac{100,000}{1,000,000} = 10\\%$$\n",
    "\n",
    "\n",
    "Can we trust this result?"
   ]
  },
  {
   "cell_type": "code",
   "execution_count": null,
   "metadata": {
    "collapsed": true
   },
   "outputs": [],
   "source": [
    "# switch cell to Markdown mode and write your answer here"
   ]
  },
  {
   "cell_type": "markdown",
   "metadata": {},
   "source": [
    "### Sample Size: how many samples is enough?"
   ]
  },
  {
   "cell_type": "code",
   "execution_count": null,
   "metadata": {
    "collapsed": true
   },
   "outputs": [],
   "source": [
    "# switch cell to Markdown mode and write your answer here"
   ]
  },
  {
   "cell_type": "markdown",
   "metadata": {},
   "source": [
    "In order to help cement the idea of why sample size is important let's run through a simulation. \n",
    "\n",
    "Image that we don't actually know what the probabiliy is for getting heads or tails, so we start fliping a coin. "
   ]
  },
  {
   "cell_type": "code",
   "execution_count": null,
   "metadata": {
    "collapsed": true
   },
   "outputs": [],
   "source": [
    "def get_prob_for_coin_flip(num_events):\n",
    "    '''Get probability of getting heads on a coin flip for a given number of flips'''\n",
    "    # create dataframe with empty cells (i.e. no values)\n",
    "    df = pd.DataFrame(index = range(1,num_events), columns=['P(heads)','P(tails)']) \n",
    "\n",
    "    # initialize variables\n",
    "    heads = 0\n",
    "    tails = 0\n",
    "    tries = 0\n",
    "\n",
    "    while tries < num_events:\n",
    "\n",
    "        tries += 1\n",
    "        # randomly sample between values 1 and 2 to simulate a coin flip \n",
    "        coin = random.randint(1, 2)\n",
    "\n",
    "        # if heads\n",
    "        if coin == 1:\n",
    "            heads += 1\n",
    "            df.loc[tries, 'P(heads)'] = heads/tries\n",
    "            df.loc[tries, 'P(tails)'] = tails/tries\n",
    "\n",
    "        # if tails\n",
    "        if coin == 2:\n",
    "            tails += 1\n",
    "            df.loc[tries, 'P(tails)'] = tails/tries\n",
    "            df.loc[tries, 'P(heads)'] = heads/tries\n",
    "\n",
    "\n",
    "    Num_Heads = heads\n",
    "    Num_Tails = tails\n",
    "\n",
    "    Prob_Heads = Num_Heads/tries\n",
    "    Prob_Tails = Num_Tails/tries\n",
    "    \n",
    "    return df.values.T[1]\n"
   ]
  },
  {
   "cell_type": "code",
   "execution_count": null,
   "metadata": {
    "collapsed": true
   },
   "outputs": [],
   "source": [
    "# num_events = 10000\n",
    "# results = get_prob_for_coin_flip(num_events)"
   ]
  },
  {
   "cell_type": "code",
   "execution_count": null,
   "metadata": {
    "collapsed": false
   },
   "outputs": [],
   "source": [
    "# plt.figure(figsize = (12,4))\n",
    "# plt.plot(results)\n",
    "# plt.title(\"Probability of getting heads vs. Coin flips\")\n",
    "# plt.ylabel(\"Probability of getting heads\");\n",
    "# plt.xlabel(\"Number of coin flips\")\n",
    "# #plt.xlim(0,1)\n",
    "# plt.show()"
   ]
  },
  {
   "cell_type": "markdown",
   "metadata": {},
   "source": [
    "\n",
    "<div style=\"font-size:25px\">\n",
    "\\\\[P(X=x | ~\\text{some condition}) =  \\lim_{n \\rightarrow \\infty}  \\frac{\\text{# times x has occurred}}{\\text{# independent and identical trials}}\\\\]\n",
    "</div>\n",
    "\n",
    "### Frequentist Probability Summery\n",
    "\n",
    "We can see from the male height and coin flip examples, that the frequentist probability of an event happening is strongly dependent on the number of events that are recorded. If we have too few recorded events, we get one value for the probability of an event. As we record more and more events, we see that the value for the probability of an event fluxuates, but tends to converge to a single number. For this reason, we tend to approach the true probability as the number of samples **n** approaches infinity (i.e. taking more samples leads to more reliable results).\n",
    "\n",
    "###### Sample Size\n",
    "\n",
    "When applying Frequentist probability, we need to collected enough samples to be confident in our resulting probability. How we go about quantifying what \"enough samples\" is requires that we speak about [Type 1 and Type 2 errors](https://en.wikipedia.org/wiki/Type_I_and_type_II_errors) . A topic that we will cover in the hypothesis testing lesson."
   ]
  },
  {
   "cell_type": "markdown",
   "metadata": {},
   "source": [
    "### Check for Understanding\n",
    "--------\n",
    "\n",
    "<details><summary>\n",
    "Explain why we can or can't trust the results from each individual case study\n",
    "</summary>\n",
    "Because frequentist probabilities are based on the data that we collected, it is important to collect as much data as we can in order to ensure that our sample population is representative of the true population. The more data that we collect, the more confident we can be that our probabilities accurately reflect the true population.\n",
    "<br>\n",
    "**Case 1:** Although we seem to get a conclusive answer, basing any probabilities on a single data point is highly  unreliable. Also, we know from experimence that not all males in the United States are 6 feet tall. \n",
    "<br>\n",
    "**Case 2:** Although we have collected more data, our result (zero probability) means that there are no males in the United States that are 6 feet tall, which is clearly false. \n",
    "<br>\n",
    "**Case 3:** By measuring the height of one million males, we can be confident that our answer more accurately reflects the height distribution of the entire adult male population in the united states. Keep in mind, that we still need to formally, and quantitatively, define just how many measurements is enough to trust our result. \n",
    "\n",
    "--------"
   ]
  },
  {
   "cell_type": "markdown",
   "metadata": {
    "collapsed": true
   },
   "source": [
    "### 3. Bayesian probability\n",
    "\n",
    "---\n",
    "\n",
    "<div style=\"font-size:25px\">\n",
    "\\\\[ P(A|B) = \\frac{\\text{P(B|A)}\\cdot \\text{P(A)}}{\\text{P(B)}} \\\\]\n",
    "</div>\n",
    "\n",
    "<br>\n",
    "<div style=\"font-size:18px\">\n",
    "**Definded as:** The posterior probability of event B happening, given that event A has occured, is equal to the likelihood of event A happening, given that event B has occured, all divided by the total probability that event A happening. \n",
    "</div>\n",
    "\n",
    "\n",
    "Bayesian probability gives us an updated probability that something is true based on new obsverations. Unlike classical or frequentist probability, bayesian probability incorporates our prior belief $\\text{P(A)}$ that something is true into the probability model. "
   ]
  },
  {
   "cell_type": "markdown",
   "metadata": {
    "collapsed": true
   },
   "source": [
    "![](https://nflinjuryanalyticscom.files.wordpress.com/2016/12/bayes-rule-e1350930203949.png)"
   ]
  },
  {
   "cell_type": "markdown",
   "metadata": {
    "collapsed": true
   },
   "source": [
    "Bayesian probability gives us an updated probability that something is true based on new obsverations. Unlike classical or frequentist probability, bayesian probability incorporates our prior belief $\\text{P(A)}$ that something is true into the probability model. \n",
    "\n",
    "Let's look at the reformation of Bayes Law in the colored image above. \n",
    "\n",
    "**Hypothesis: H** Our hypothesis that we want to determine a probability for how true it is\n",
    "\n",
    "**Evidence: e** The data/evidence that we have collected in order to help determine how likely our hypothesis is true\n",
    "\n",
    "**Prior Probability: P(H)** The probability that our hypothesis is true before we make any measurements\n",
    "\n",
    "**Likelihood Probability: P(e|H)** The probability that our hypothesis is true based on the data that we have collected (i.e. if the hypothesis was true, how likely is it that we would see the data what we see)\n",
    "\n",
    "**Posterior Probability: P(H|e)** The updated probability that our hypothesis is true given the probability we initially assigned to it and the probability that we would see the evidence that we have collected it our hypothesis was true. \n",
    "\n",
    "**Marginal Probability: P(e)** Probability that the evidence is true given under all cases (i.e. if the hypothesis is true and if it is false). Mathematically, this is used as a normalization term. "
   ]
  },
  {
   "cell_type": "markdown",
   "metadata": {
    "collapsed": true
   },
   "source": [
    "### Male Height Probelm Revisted\n",
    "\n",
    "In the male height problem, we assume that the condition that all height measurements were done for males (and they were). But what if we are forced to design an experiment in which we don't actually know if the person whos height we are measuring is male or female and our goal was to determine the probability that this person was a male based on the measurement?\n",
    "\n",
    "Using frequentist probability, we can't actually address that problem because frequentist have to assume that a hypothesis is true, they don't have a way of incorporating uncertainty into their model -- but bayesian do!\n",
    "\n",
    "\n",
    "In the male height problem we were calculating the likelihood that we get the data that we get (measuremetns are 6 feet) assuming that the hypothesis is true (that all measurments are done on males) \n",
    "\n",
    "$$ \\text{Likelihood}~~ P(X= \\text{6 ft}~ |~\\text{ male})$$\n",
    "\n",
    "In the case that we don't know if the person being measured is male or female, bayesian can quantify their uncertainty with the prior probability:\n",
    "\n",
    "$$\\text{Prior}~~P(male) = P(\\text{person is a male}) = 0.5$$\n",
    "\n",
    "Leading to a probability that takes uncertainty into account and allowing us to address this problem. \n",
    "\n",
    "$$ P(\\text{male}~|~6 \\text{ft})   = \\frac{P(X= \\text{6 ft}~ |~\\text{ male})~~P(\\text{male}) } {P(~X= \\text{6 ft}) }  $$\n"
   ]
  },
  {
   "cell_type": "markdown",
   "metadata": {},
   "source": [
    "## Examples \n",
    "\n",
    "<br>\n",
    "<div style=\"font-size:25px\">\n",
    "\\\\[ P(A|B) = \\frac{\\text{P(B|A)}\\cdot \\text{P(A)}}{\\text{P(B)}} \\\\]\n",
    "</div>\n",
    "<br>"
   ]
  },
  {
   "cell_type": "markdown",
   "metadata": {
    "collapsed": true
   },
   "source": [
    "### Ex. One \n",
    "\n",
    "A family has two children. Given that one of the children is a boy, what is the probability that both children are boys?\n",
    "\n"
   ]
  },
  {
   "cell_type": "code",
   "execution_count": null,
   "metadata": {
    "collapsed": true
   },
   "outputs": [],
   "source": [
    "# draw out the probability tree"
   ]
  },
  {
   "cell_type": "markdown",
   "metadata": {
    "collapsed": true
   },
   "source": [
    "### Ex. Two\n",
    "\n",
    "Bag one contains 4 white and 6 black balls while another Bag two contains 4 white and 3 black balls. One ball is drawn at random from one of the bags and it is found to be black. Find the probability that it was drawn from Bag one."
   ]
  },
  {
   "cell_type": "code",
   "execution_count": null,
   "metadata": {
    "collapsed": true
   },
   "outputs": [],
   "source": [
    "# have students draw out the probability tree, then do it in class"
   ]
  },
  {
   "cell_type": "markdown",
   "metadata": {},
   "source": [
    "## Expected Values\n",
    "\n",
    "---\n",
    "\n",
    ">The expected value of a random variable, intuitively, is the long-run average value of repetitions of the experiment it represents. -Wikipedia\n",
    "\n",
    "\n",
    "$$ E[X] = \\sum_{i = 1}^{n}{x_{i}p_{i}} = \\sum_{x} x\\cdot P(X=x) $$\n",
    "\n",
    "\n",
    "$x\\cdot P(X=x)$ think of this expression as the event **x** times the probability of that event happening $P(X=x) = p_{x}$\n",
    "\n",
    "You might also see the expected value in the following form:\n",
    "\n",
    "$$ E[X] = \\sum_{i = 1}^{n}{x_{i}p_{i}} = x_{1}p_{1} + x_{2}p_{2} + \\cdot \\cdot \\cdot+ x_{n}p_{n}  $$\n",
    "\n",
    "\n",
    "The final expression is the **weighted average** of the random variable **X**. The weights are the probabilities for each event, **x**. We say that it is weighted because the influnce that each outcome has is dependent on it probability. \n",
    "\n",
    "#### Ex. Weighted Average \n",
    "\n",
    "Let's say we have a fixed die that has a weight inserted into it so that the probability of rolling a 1 is 50% and the probability of rolling any other number is 10%. \n",
    "\n",
    "**Question: **What is the average value we expect to get from this fixed die?\n",
    "\n",
    "This questions can be rephrase as saying, if I roll the die an infinit number of times, what is the average value?\n",
    "\n",
    "$$ E[X] = \\sum_{i = 1}^{n}{x_{i}p_{i}} = 1 (0.5) + 2 (0.10) + 3 (0.10) + 4 (0.10) + 5 (0.10) + 6 (0.10) = 2.5$$\n"
   ]
  },
  {
   "cell_type": "code",
   "execution_count": null,
   "metadata": {
    "collapsed": false
   },
   "outputs": [],
   "source": [
    "def expected_value_die(num_rolls):\n",
    "    '''Get expected value for a fixed die'''\n",
    "    \n",
    "    sample_space = [1,2,3,4,5,6]\n",
    "    weights = [0.5,0.1,0.1,0.1,0.1,0.1]\n",
    "    events = np.zeros(num_rolls)\n",
    "    expected_value = []\n",
    "    \n",
    "    roll = 1\n",
    "    for i, _ in  enumerate(xrange(num_rolls)):\n",
    "        event = np.random.choice(sample_space, size=1,p=weights)[0]\n",
    "        events[i] = event\n",
    "        expected_value.append(np.sum(events)/roll)\n",
    "        roll += 1\n",
    "        \n",
    "\n",
    "    return expected_value"
   ]
  },
  {
   "cell_type": "code",
   "execution_count": null,
   "metadata": {
    "collapsed": false
   },
   "outputs": [],
   "source": [
    "# num_rolls = 10\n",
    "# expected_val_fixed = expected_value_die(num_rolls)\n",
    "# expected_val_fixed[-1]"
   ]
  },
  {
   "cell_type": "code",
   "execution_count": null,
   "metadata": {
    "collapsed": false
   },
   "outputs": [],
   "source": [
    "# plt.figure(figsize=(12,4))\n",
    "# plt.title(\"Average Value of a Fixed Die vs. Number of Rolls\")\n",
    "# plt.xlabel(\"Number of Rolls\")\n",
    "# plt.ylabel(\"Average Dic Value\")\n",
    "# plt.plot(expected_val_fixed);"
   ]
  },
  {
   "cell_type": "markdown",
   "metadata": {},
   "source": [
    " ### Ex. Simple Average \n",
    " \n",
    "A simple average is the case in which all events are equally likely, such as fliping a fair coin or rolling a fair die. Since all probabilities are equal (all weights are the same) that means that we can rewrite the formula for the expecte value. \n",
    "\n",
    "$$ E[X] = \\sum_{i = 1}^{n}{x_{i}p_{i}} = x_{1}p_{1} + x_{2}p_{2} + \\cdot \\cdot \\cdot+ x_{n}p_{n}  $$\n",
    " \n",
    " \n",
    "$$ E[X] = \\sum_{i = 1}^{n}{x_{i}p_{i}} =\\frac{ x_{1}p_{1} + x_{2}p_{2} + \\cdot \\cdot \\cdot+ x_{n}p_{n}}{1}  $$\n",
    "\n",
    "\n",
    "**Recall: ** $p_{1} + x_{2} + \\cdot \\cdot \\cdot+ p_{n} = n\\cdot p = 1$\n",
    "\n",
    "$$ E[X] =\\frac{ x_{1}p_{1} + x_{2}p_{2} + \\cdot \\cdot \\cdot+ x_{n}p_{n}}{p_{1} + x_{2} + \\cdot \\cdot \\cdot+ p_{n}}  $$\n",
    "\n",
    "**Factor out all the p's**\n",
    "\n",
    "$$ E[X] = \\frac{p}{n\\cdot p}( x_{1} + x_{2} + \\cdot \\cdot \\cdot+ x_{n})   $$\n",
    "\n",
    "$$ E[X] = \\frac{1}{n}\\sum_{i = 1}^{n}{x_{i}}  $$\n",
    "\n",
    "**Note: ** The expectation value for events with equal probability is called the mean and denoted by $\\mu$. (Yes, the same mean that we are all familiar with). \n",
    "\n",
    "\n",
    "$$ E[X] = \\mu = \\frac{1}{n}\\sum_{i = 1}^{n}{x_{i}}  $$\n",
    "\n",
    "\n",
    "The average value of rolling a fair die an infinite number of times: \n",
    "\n",
    "$$ E[X] = \\frac{1}{n}\\sum_{i = 1}^{n}{x_{i}} = 1 \\frac{1}{6} + 2 \\frac{1}{6} + 3 \\frac{1}{6} + 4 \\frac{1}{6} + 5 \\frac{1}{6} + 6 \\frac{1}{6} = 3.5$$"
   ]
  },
  {
   "cell_type": "code",
   "execution_count": null,
   "metadata": {
    "collapsed": true
   },
   "outputs": [],
   "source": [
    "def expected_value_die(num_rolls):\n",
    "    '''Get expected value for a fair die'''\n",
    "    \n",
    "    # define sample space by include all possible outcomes\n",
    "    sample_space = [1, 2, 3, 4, 5, 6]\n",
    "    \n",
    "    events = np.zeros(num_rolls)\n",
    "    expected_value = []\n",
    "    \n",
    "    roll = 1\n",
    "    for i, _ in  enumerate(xrange(num_rolls)):\n",
    "        event = random.randint(1,6)\n",
    "        events[i] = event\n",
    "        expected_value.append(np.sum(events)/roll)\n",
    "        roll += 1\n",
    "        \n",
    "\n",
    "    return expected_value"
   ]
  },
  {
   "cell_type": "code",
   "execution_count": null,
   "metadata": {
    "collapsed": false
   },
   "outputs": [],
   "source": [
    "# num_rolls = 10000\n",
    "# expected_val = expected_value_die(num_rolls)\n",
    "# expected_val[-1]"
   ]
  },
  {
   "cell_type": "code",
   "execution_count": null,
   "metadata": {
    "collapsed": false
   },
   "outputs": [],
   "source": [
    "# plt.figure(figsize=(12,4))\n",
    "# plt.title(\"Average Value of Fair Die vs. Number of Rolls\")\n",
    "# plt.xlabel(\"Number of Rolls\")\n",
    "# plt.ylabel(\"Average Dic Value\")\n",
    "# plt.plot(expected_val);"
   ]
  },
  {
   "cell_type": "code",
   "execution_count": null,
   "metadata": {
    "collapsed": true
   },
   "outputs": [],
   "source": [
    "# response"
   ]
  },
  {
   "cell_type": "markdown",
   "metadata": {},
   "source": [
    "<a id='counting_principle'></a>\n",
    "\n",
    "# Counting Principle\n",
    "\n",
    "---\n",
    "\n",
    "Counting, combinations, and permutations are essential to understanding probability. The counting principal says that:\n",
    "\n",
    "If $A$ can occur in $n$ ways \n",
    "\n",
    "and $B$ can occur in $m$ ways\n",
    "\n",
    "then $A$ and $B$ can occur in $n * m$ ways."
   ]
  },
  {
   "cell_type": "markdown",
   "metadata": {},
   "source": [
    "**Q: If you have two groups of students, 10 freshman and 11 sophmores, how many teams of 2 can be formed with one member from each class?**"
   ]
  },
  {
   "cell_type": "code",
   "execution_count": null,
   "metadata": {
    "collapsed": true
   },
   "outputs": [],
   "source": []
  },
  {
   "cell_type": "markdown",
   "metadata": {},
   "source": [
    "<a id='permutation'></a>\n",
    "\n",
    "### Permutations\n",
    "\n",
    "---\n",
    "\n",
    "A permutation is an arragement of objects where the order is important, or in other words, a permutation is the number of arrangements that are possible.\n",
    "\n",
    "With a set of items of size $n$ and arrangements of length $k$, the permutations are calculated as\n",
    "\n",
    "### $$ \\text{permutations}(n, k) = n * (n - 1) * (n - 2) \\; ... \\; (n - k + 1)$$\n",
    "\n",
    "which is 0 when $k > n$"
   ]
  },
  {
   "cell_type": "markdown",
   "metadata": {},
   "source": [
    "**Q: There are 5 qualified candidates to fill 3 positions.  How many ways can the roles be filled assuming 1 person per position?**"
   ]
  },
  {
   "cell_type": "code",
   "execution_count": null,
   "metadata": {
    "collapsed": true
   },
   "outputs": [],
   "source": []
  },
  {
   "cell_type": "markdown",
   "metadata": {},
   "source": [
    "### The factorial function\n",
    "\n",
    "---\n",
    "\n",
    "The factorial function is defined as \n",
    "\n",
    "### $$ n! = n * (n-1) * (n-2) \\; ... \\; (n-1) $$\n",
    "\n",
    "and is an important part of permutations. When $n = k$, permutations of $n$ in $k$ arrangements is equivalent to $n!$\n",
    "\n",
    "The permutation function can be rewritten using factorials:\n",
    "\n",
    "### $$  \\text{permutations}(n, k) = \\frac{n!}{(n-k)!} $$"
   ]
  },
  {
   "cell_type": "markdown",
   "metadata": {},
   "source": [
    "**Q: If there are 9 players on a baseball team, how many possibilities are there for the first 3 players in the batting lineup?**"
   ]
  },
  {
   "cell_type": "code",
   "execution_count": null,
   "metadata": {
    "collapsed": true
   },
   "outputs": [],
   "source": []
  },
  {
   "cell_type": "markdown",
   "metadata": {},
   "source": [
    "<a id='combination'></a>\n",
    "\n",
    "### Combinations\n",
    "\n",
    "---\n",
    "\n",
    "Like permutations, combinations are arrangements of objects, but in the case of combinations the order of the objects does not matter.\n",
    "\n",
    "With a set of items of size $n$ and arrangements of length $k$, the combinations are calculated as\n",
    "\n",
    "### $$ \\text{combinations}(n, k) = \\frac{ \\text{permutations}(n,k) }{ \\text{permutations}(k, k) } = \\frac{n!}{(n-k)!k!}$$\n",
    "\n",
    "An intuitive way to think about this is that we take the number of permutations, then we divide by the number of possible orderings we could have in the available slots $k$."
   ]
  },
  {
   "cell_type": "markdown",
   "metadata": {},
   "source": [
    "**Q: How many possible 5 card hands are there with a deck of 52 cards?**"
   ]
  },
  {
   "cell_type": "code",
   "execution_count": null,
   "metadata": {
    "collapsed": true
   },
   "outputs": [],
   "source": []
  },
  {
   "cell_type": "markdown",
   "metadata": {},
   "source": [
    "# Lab\n",
    "\n",
    "## Classical probability and expectation values \n",
    "\n",
    "The exercises for classical probability and expectation values will be completed at Brilliant.org.\n",
    "\n",
    "1. Create a free account at [Brilliant.org](brilliant.org/)\n",
    "2. Navigate to the Math for Quantitative Finance section\n",
    "3. Complete the Probability and Expected Value modules \n",
    "\n",
    "\n"
   ]
  },
  {
   "cell_type": "markdown",
   "metadata": {},
   "source": [
    "## Bayes Therom\n",
    "\n",
    "<br>\n",
    "<div style=\"font-size:20px\">\n",
    "\\\\[ P(A|B) = \\frac{\\text{P(B|A)}\\cdot \\text{P(A)}}{\\text{P(B)}} \\\\]\n",
    "</div>\n",
    "<br>\n",
    "\n",
    "For these problems, be sure to understand and apply the formula correctly. Once you assign values to the various probability variables, all you have to do is plug in the values. \n",
    "\n",
    "I strongly recommend that you draw and label a probability tree for each problem (on paper or a white board). Probability trees will help you reason though the problem, help you understand conditional probability, and figure out the values that go in the demoninator (i.e. the marginal probability)\n",
    "\n",
    "### Problem 1\n",
    "\n",
    "A disease test is advertised as being 99% accurate: if you have the disease, you will test positive 99% of the time, and if you don't have the disease, you will test negative 99% of the time. If 1% of all people have this disease and you test positive, what is the probability that you actually have the disease?"
   ]
  },
  {
   "cell_type": "code",
   "execution_count": null,
   "metadata": {
    "collapsed": true
   },
   "outputs": [],
   "source": [
    "# your answer here: answer is 50%"
   ]
  },
  {
   "cell_type": "markdown",
   "metadata": {},
   "source": [
    "### Problem 2\n",
    "\n",
    "You go to see the doctor about an ingrowing toenail. The doctor selects you at random to have\n",
    "a blood test for swine flu, which for the purposes of this exercise we will say is currently suspected\n",
    "to affect 1 in 10,000 people in Australia. The test is 99% accurate, in the sense that the probability\n",
    "of a false positive is 1%. The probability of a false negative is zero. You test positive. What is the\n",
    "new probability that you have swine flu?"
   ]
  },
  {
   "cell_type": "markdown",
   "metadata": {},
   "source": [
    "### Problem 2 continued\n",
    "\n",
    "Now imagine that you went to a friend’s wedding in Mexico recently, and (for the purposes of this\n",
    "exercise) it is know that 1 in 200 people who visited Mexico recently come back with swine flu.\n",
    "Given the same test result as above, what should your revised estimate be for the probability you\n",
    "have the disease?"
   ]
  },
  {
   "cell_type": "markdown",
   "metadata": {
    "collapsed": true
   },
   "source": [
    "[Solution for Problem Two](http://www.maths.uq.edu.au/courses/MATH3104/Lectures/goodhill/bayes_solutions.pdf)"
   ]
  },
  {
   "cell_type": "markdown",
   "metadata": {},
   "source": [
    "## Counting\n",
    "\n",
    "You'll need to figure out if permutations or combinations are used to solve each problem. "
   ]
  },
  {
   "cell_type": "markdown",
   "metadata": {},
   "source": [
    "### Problem 1\n",
    "\n",
    "If there are 9 players on a baseball team, how many possibilities are there for the first 3 players in the batting lineup?\n",
    "\n"
   ]
  },
  {
   "cell_type": "code",
   "execution_count": null,
   "metadata": {
    "collapsed": true
   },
   "outputs": [],
   "source": [
    "\n"
   ]
  },
  {
   "cell_type": "markdown",
   "metadata": {},
   "source": [
    "### Problem 2 \n",
    "\n",
    "How many possible 5 card hands are there with a deck of 52 cards?"
   ]
  },
  {
   "cell_type": "code",
   "execution_count": null,
   "metadata": {
    "collapsed": true
   },
   "outputs": [],
   "source": []
  },
  {
   "cell_type": "markdown",
   "metadata": {},
   "source": [
    "**Q: What is the probability that you are dealt 2 cards and they turn out to both be aces from a 52-card deck?**"
   ]
  },
  {
   "cell_type": "code",
   "execution_count": null,
   "metadata": {
    "collapsed": true
   },
   "outputs": [],
   "source": [
    "# set up permutation and combination functions:\n",
    "def perm(n, k):\n",
    "    return float(factorial(n)) / factorial(n-k)\n",
    "\n",
    "def comb(n, k):\n",
    "    return float(perm(n, k)) / perm(k, k)"
   ]
  },
  {
   "cell_type": "code",
   "execution_count": null,
   "metadata": {
    "collapsed": true
   },
   "outputs": [],
   "source": [
    "# Find the number of different 2-ace hands you can have:\n",
    "\n",
    "\n",
    "# find the number of possible 2-card hands you can have from the deck:\n"
   ]
  },
  {
   "cell_type": "markdown",
   "metadata": {},
   "source": [
    "A restaurant has 22 employees, including:\n",
    "\n",
    "- 6 chefs\n",
    "- 5 waiters\n",
    "- 7 busboys \n",
    "\n",
    "The owner has requested a few things from you the manager:\n",
    "\n",
    "1. A private party is coming on Tuesday and wants to know how many teams of 1 chef and 2 waiters can be formed?\n",
    "2. Each busboy works just one day of the week. He wants to know how many different versions of the weekly busboy assignments there can be. \n",
    "3. He wants his favorite waiter to serve him and his wife for their anniversary on Sunday, along with 2 other waiters.  How many teams of 3 waiters can serve him?"
   ]
  },
  {
   "cell_type": "code",
   "execution_count": null,
   "metadata": {
    "collapsed": true
   },
   "outputs": [],
   "source": [
    "# 1:\n"
   ]
  },
  {
   "cell_type": "code",
   "execution_count": null,
   "metadata": {
    "collapsed": true
   },
   "outputs": [],
   "source": [
    "# 2:\n"
   ]
  },
  {
   "cell_type": "code",
   "execution_count": null,
   "metadata": {
    "collapsed": true
   },
   "outputs": [],
   "source": [
    "# 3:\n"
   ]
  }
 ],
 "metadata": {
  "anaconda-cloud": {},
  "kernelspec": {
   "display_name": "Python [conda env:dsi]",
   "language": "python",
   "name": "conda-env-dsi-py"
  },
  "language_info": {
   "codemirror_mode": {
    "name": "ipython",
    "version": 2
   },
   "file_extension": ".py",
   "mimetype": "text/x-python",
   "name": "python",
   "nbconvert_exporter": "python",
   "pygments_lexer": "ipython2",
   "version": "2.7.12"
  }
 },
 "nbformat": 4,
 "nbformat_minor": 1
}
