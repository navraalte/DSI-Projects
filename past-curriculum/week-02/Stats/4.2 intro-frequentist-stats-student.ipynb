{
 "cells": [
  {
   "cell_type": "markdown",
   "metadata": {
    "slideshow": {
     "slide_type": "slide"
    }
   },
   "source": [
    "<img src=\"https://ga-dash.s3.amazonaws.com/production/assets/logo-9f88ae6c9c3871690e33280fcf557f33.png\" style=\"float: left; margin: 15px;\">\n",
    "\n",
    "## Frequentist vs. Bayesian Statistics and the t-test\n",
    "\n",
    "Week 2 | 4.2\n",
    "\n",
    "---\n"
   ]
  },
  {
   "cell_type": "markdown",
   "metadata": {
    "slideshow": {
     "slide_type": "slide"
    }
   },
   "source": [
    "## \"Bayesian\" vs. \"Frequentist\"\n",
    "\n",
    "\"Bayesian\" statistics has been getting a lot of hype in recent years (with good reason), but it is easy to forget that both types of statistics are correct, they just focus on different things.\n",
    "\n",
    "We will go deeper into Bayesian stats later in the course; for now we will explore the differences between the two approaches to probability."
   ]
  },
  {
   "cell_type": "markdown",
   "metadata": {
    "slideshow": {
     "slide_type": "fragment"
    }
   },
   "source": [
    "The overarching goal of both approaches is the same:\n",
    "\n",
    "---\n",
    "\n",
    "**We want to make a statement about ALL data points (the population) based on a SAMPLE of data points, and describe our UNCERTAINTY about that statement.**\n",
    "\n",
    "---"
   ]
  },
  {
   "cell_type": "markdown",
   "metadata": {
    "slideshow": {
     "slide_type": "slide"
    }
   },
   "source": [
    "### Estimating a mean value\n",
    "\n",
    "Say we want to measure the **mean height of male professional athletes**. We measure the height of 100 different athletes and thus have 100 data points in our sample."
   ]
  },
  {
   "cell_type": "markdown",
   "metadata": {
    "slideshow": {
     "slide_type": "fragment"
    }
   },
   "source": [
    "Our scenario:\n",
    "\n",
    "- We want to make a statement about the mean height of **ALL** male professional athletes.\n",
    "- We only have a **sample** of 100 measured heights from that **population**."
   ]
  },
  {
   "cell_type": "markdown",
   "metadata": {
    "slideshow": {
     "slide_type": "slide"
    }
   },
   "source": [
    "### Estimating the mean height from a Bayesian approach...\n",
    "\n",
    "As a **Bayesian** my approach will be to make a statement about the probability of the mean height given the data I have:\n",
    "\n",
    "- The mean height of all male professional athletes is indeed a single value, but I only have a subset of the measurements.\n",
    "- I have a belief about how tall these athletes are.\n",
    "- I am going to make a statement about the probability the height is a value given the information I have."
   ]
  },
  {
   "cell_type": "markdown",
   "metadata": {
    "slideshow": {
     "slide_type": "fragment"
    }
   },
   "source": [
    "- I have 100 observations, or data points, that I will use to **update** my \"prior\" belief about the heights."
   ]
  },
  {
   "cell_type": "markdown",
   "metadata": {
    "slideshow": {
     "slide_type": "fragment"
    }
   },
   "source": [
    "- I have collected **fixed data** which I use to update my inference of the probability for the mean height, which is called my **posterior distribution** of mean heights.\n",
    "- Thus, there is a **distribution of values for the true mean height with varying probability.**"
   ]
  },
  {
   "cell_type": "markdown",
   "metadata": {
    "slideshow": {
     "slide_type": "slide"
    }
   },
   "source": [
    "### Estimating the mean height from a Frequentist approach...\n",
    "\n",
    "As a **Frequentist** I believe:\n",
    "\n",
    "- The mean height of male professional athletes is an unknown but **fixed, \"true\" value**."
   ]
  },
  {
   "cell_type": "markdown",
   "metadata": {
    "slideshow": {
     "slide_type": "fragment"
    }
   },
   "source": [
    "- My 100 data points are a **random sample.** That is to say, I have collected **at random** 100 heights from the **population pool**."
   ]
  },
  {
   "cell_type": "markdown",
   "metadata": {
    "slideshow": {
     "slide_type": "fragment"
    }
   },
   "source": [
    "- This random sampling procedure is considered **infinitely repeatable**. My inferences about height are based on the idea that this sample is just one of an infinite number of hypothetical population samples."
   ]
  },
  {
   "cell_type": "markdown",
   "metadata": {
    "slideshow": {
     "slide_type": "fragment"
    }
   },
   "source": [
    "- Our **data sampled is random**, but the **true value of height is fixed** across all hypothetical samples.\n",
    "- There is **a distribution of possible samples given the true fixed value**."
   ]
  },
  {
   "cell_type": "markdown",
   "metadata": {},
   "source": [
    "### The inverse approaches\n",
    "\n",
    "**FREQUENTISTS** ask:\n",
    "\n",
    "### $$P(\\text{data}\\;|\\;\\text{true mean})$$\n",
    "\n",
    "What is the probability of our data given a true and fixed population mean?\n",
    "\n",
    "---\n",
    "\n",
    "**BAYESIANS** ask:\n",
    "\n",
    "### $$P(\\text{true mean}\\;|\\;\\text{data})$$\n",
    "\n",
    "What is the probability of the true mean given the data that we have?\n",
    "\n"
   ]
  },
  {
   "cell_type": "markdown",
   "metadata": {
    "slideshow": {
     "slide_type": "slide"
    }
   },
   "source": [
    "### Pros and cons to both\n",
    "\n",
    "**Bayesian methods**:\n",
    "\n",
    "- Pros: Inference on measure is more intuitive. No \"absurd\" results. Does not require the hypothetical \"infinite sampling\".\n",
    "- Cons: Computationally intensive. Does not \"guarantee\" success rate of experiments. Requires prior belief.\n",
    "\n",
    "---"
   ]
  },
  {
   "cell_type": "markdown",
   "metadata": {
    "slideshow": {
     "slide_type": "fragment"
    }
   },
   "source": [
    "** Frequentist methods:**\n",
    "\n",
    "- Pros: Requires no justification of prior belief. Direct analogy to experimental design theory. Not as computationally expensive.\n",
    "- Cons: Inference not as intuitive. Requires \"asymptotic\" sampling axioms. Allows \"absurd\" results (it is ok if some of the \"experiments\" are nonsense as long as most are correct.)"
   ]
  },
  {
   "cell_type": "markdown",
   "metadata": {
    "slideshow": {
     "slide_type": "slide"
    }
   },
   "source": [
    "## Hypothesis testing with frequentist methods\n",
    "\n",
    "**Frequentist** methods lend themselves well to the idea of experimental design. For example, say we are testing a new drug:\n",
    "\n",
    "- We randomly select 50 people to be in the placebo control condition and 50 people to recieve the treatment.\n",
    "- Our sample is selected from the broader, unknown population pool.\n",
    "- In a parallel world we could have ended up with any random sample from the population pool of 100 people.\n",
    "\n",
    "\n",
    "### Steps:\n",
    "\n",
    "1. Form a null and alternative hypothesis\n",
    "2. Select a significance level, alpha (usually 5%)\n",
    "3. Select a statistical test\n",
    "4. Calculate the appropriate statistic \n",
    "5. Compare the p-value with alpha\n",
    "6. If the p-value > alpha, then we fail to reject the null hypothesis\n",
    "7. If the p-value <= alpha, then we reject the null hypothesis in favor of the alternative hypothesis"
   ]
  },
  {
   "cell_type": "markdown",
   "metadata": {
    "slideshow": {
     "slide_type": "slide"
    }
   },
   "source": [
    "### The \"null hypothesis\"\n",
    "\n",
    "The **null hypothesis** is a fundamental concept for Frequentist statistical tests. We can define this as **H0**. \n",
    "\n",
    "The null hypothesis is, in this example, the hypothesis that there is no difference between placebo and treatment."
   ]
  },
  {
   "cell_type": "markdown",
   "metadata": {
    "slideshow": {
     "slide_type": "fragment"
    }
   },
   "source": [
    "**H0:** The measured difference is equal to zero."
   ]
  },
  {
   "cell_type": "markdown",
   "metadata": {
    "slideshow": {
     "slide_type": "fragment"
    }
   },
   "source": [
    "The **alternative hypothesis** is the other possible outcome of the experiment: the difference between the placebo and the treatment is real.\n",
    "\n",
    "**H1:** The measured parameter is different not zero (greater than or less than zero for two-tailed, and one or the other for one-tailed tests)."
   ]
  },
  {
   "cell_type": "markdown",
   "metadata": {
    "slideshow": {
     "slide_type": "slide"
    }
   },
   "source": [
    "### The p-value\n",
    "\n",
    "The **p-value** is the probability that, **GIVEN THE NULL HYPOTHESIS IS TRUE**, we would have sampled the current set of data. \n",
    "\n",
    "---"
   ]
  },
  {
   "cell_type": "markdown",
   "metadata": {
    "slideshow": {
     "slide_type": "fragment"
    }
   },
   "source": [
    "Say in our experiment we follow-up with the experimental and control groups:\n",
    "\n",
    "- 5 out of 50 patients in the control group indicate that their symptoms are better\n",
    "- 20 out of 50 patients in the experimental group indicate that their symptoms are better\n",
    "\n",
    "The **p-value** would be the **probability that we measured this rate of recovery over placebo in our experiment (400%) given that in fact there is no difference in recovery rate.**"
   ]
  },
  {
   "cell_type": "markdown",
   "metadata": {
    "slideshow": {
     "slide_type": "slide"
    }
   },
   "source": [
    "### Calculating the probability the null hypothesis is true: the t-test\n",
    "\n",
    "Recall that as Frequentist we want to know:\n",
    "\n",
    "### $$P(\\text{data}\\;|\\;\\text{true mean})$$\n",
    "\n",
    "We obviously don't know the true mean difference in rate of recovery. Instead, **we will assume that the true mean difference is zero: the null hypothesis H0:**\n",
    "\n",
    "### $$P(\\text{data}\\;|\\;\\text{true mean}=0)$$\n",
    "\n",
    "This is known as the **likelihood**."
   ]
  },
  {
   "cell_type": "code",
   "execution_count": 2,
   "metadata": {
    "collapsed": true,
    "slideshow": {
     "slide_type": "slide"
    }
   },
   "outputs": [],
   "source": [
    "import numpy as np\n",
    "import scipy.stats as stats\n",
    "import seaborn as sns\n",
    "import matplotlib.pyplot as plt\n",
    "\n",
    "sns.set_style('whitegrid')\n",
    "\n",
    "%config InlineBackend.figure_format = 'retina'\n",
    "%matplotlib inline\n"
   ]
  },
  {
   "cell_type": "code",
   "execution_count": 6,
   "metadata": {
    "collapsed": false,
    "slideshow": {
     "slide_type": "slide"
    }
   },
   "outputs": [],
   "source": [
    "# Create the experimental and control group results\n",
    "\n",
    "# Control: 5 people got better, 45 did not:\n",
    "# concatenate two arrrays: one has zeros for people that didn't get better, the other has ones\n",
    "\n",
    "# Experimental: 20 people got better, 30 did not:\n",
    "# concatenate two arrrays: one has zeros for people that didn't get better, the other has ones\n",
    "\n",
    "# calculate the difference between their means in recovery rates:"
   ]
  },
  {
   "cell_type": "markdown",
   "metadata": {
    "slideshow": {
     "slide_type": "slide"
    }
   },
   "source": [
    "### t-tests: calculating the t-statistic\n",
    "\n",
    "---\n",
    "\n",
    "How do we calculate the p-value, or significance of our experimental results? For comparing two means (as is the case in this example: the mean difference in symptoms between conditions) we can use the **t-test**, which uses **t-statistics**.\n",
    "\n",
    "The p-value will be a conversion of the two-sample t-test **t-statistic**, which we calculate first:\n",
    "\n",
    "### $$t = \\frac{mean(sample_E) - mean(sample_C)}{\\sqrt {\\big(\\frac{(var(sample_E)}{n_E} + \\frac{var(sample_C)}{n_C}\\big)}}$$\n",
    "\n",
    "**Calculate the t-statistic for the difference in rates:**\n",
    "\n",
    "[For a gentle overview, see http://blog.minitab.com/blog/statistics-and-quality-data-analysis/what-are-t-values-and-p-values-in-statistics]\n"
   ]
  },
  {
   "cell_type": "code",
   "execution_count": null,
   "metadata": {
    "collapsed": true
   },
   "outputs": [],
   "source": [
    "# Create the experimental and control group results\n",
    "\n",
    "# Control: 5 people got better, 45 did not:\n",
    "# concatenate two arrrays: one has zeros for people that didn't get better, the other has ones\n",
    "\n",
    "# Experimental: 20 people got better, 30 did not:\n",
    "# concatenate two arrrays: one has zeros for people that didn't get better, the other has ones\n",
    "\n",
    "# calculate the difference between their means in recovery rates:\n",
    "\n",
    "# calculate the t-statistic "
   ]
  },
  {
   "cell_type": "markdown",
   "metadata": {
    "slideshow": {
     "slide_type": "fragment"
    }
   },
   "source": [
    "- The numerator: the difference between the mean of your sample and the hypothesized mean. Recall that our hypothesized mean is the null hypothesis H0. This is the **difference in means**."
   ]
  },
  {
   "cell_type": "markdown",
   "metadata": {
    "slideshow": {
     "slide_type": "fragment"
    }
   },
   "source": [
    "- The denominator: the standard deviation of your sample measurements divided by the square root of your sample size. This is the **standard error of the mean**. "
   ]
  },
  {
   "cell_type": "markdown",
   "metadata": {
    "slideshow": {
     "slide_type": "slide"
    }
   },
   "source": [
    "### Plotting the t-statistic\n",
    "\n",
    "From the central limit theorem, we know that (with enough samples), the distribution of means is normal. In the case of smaller sample sizes, [we adjust this to be a more conservative student-t distribution](https://en.wikipedia.org/wiki/Student%27s_t-distribution).\n",
    "\n",
    "We can plot the student-t distribution centered on zero, which corresponds to our null hypothesis."
   ]
  },
  {
   "cell_type": "code",
   "execution_count": 4,
   "metadata": {
    "collapsed": false,
    "slideshow": {
     "slide_type": "fragment"
    }
   },
   "outputs": [],
   "source": [
    "# generate points on the x axis between -4 and 4:\n",
    "\n",
    "\n",
    "# use stats.t.pdf to get values on the probability density function for the t-distribution\n"
   ]
  },
  {
   "cell_type": "code",
   "execution_count": 7,
   "metadata": {
    "collapsed": false,
    "slideshow": {
     "slide_type": "slide"
    }
   },
   "outputs": [],
   "source": [
    "# initialize a matplotlib \"figure\"\n",
    "\n",
    "\n",
    "# plot the lines using matplotlib's plot function:\n",
    "\n",
    "\n",
    "# plot a vertical line for our measured difference in rates t-statistic\n"
   ]
  },
  {
   "cell_type": "code",
   "execution_count": 8,
   "metadata": {
    "collapsed": false,
    "slideshow": {
     "slide_type": "fragment"
    }
   },
   "outputs": [],
   "source": [
    "# run a t-test on the two populations \n",
    "# use stats.ttest_ind"
   ]
  }
 ],
 "metadata": {
  "anaconda-cloud": {},
  "celltoolbar": "Raw Cell Format",
  "kernelspec": {
   "display_name": "Python [default]",
   "language": "python",
   "name": "python2"
  },
  "language_info": {
   "codemirror_mode": {
    "name": "ipython",
    "version": 2
   },
   "file_extension": ".py",
   "mimetype": "text/x-python",
   "name": "python",
   "nbconvert_exporter": "python",
   "pygments_lexer": "ipython2",
   "version": "2.7.12"
  }
 },
 "nbformat": 4,
 "nbformat_minor": 0
}
