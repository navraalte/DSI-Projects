{
 "cells": [
  {
   "cell_type": "markdown",
   "metadata": {},
   "source": [
    "Last week, we finished the **fundamentals of machine learning that are required to be an impactful Data Scientist.** Given what you know now, you have the necessary tools to take datasets and build useful models and generate interesting insights. This week, we will discus the Python libraries associated with **scraping and acquiring data from websites and APIs.** Next week, we will discuss how to **store, query, and process Big Data.**\n",
    "\n",
    "<img src=http://datascience.la/wp-content/uploads/2014/09/data-science-workflow-szilard.png>\n",
    "\n",
    "\n",
    "During this week, we will further practice your **Data Modeling and Analysis Skills by building models and analyses for publicly available datasets from Kaggle.** You will work in teams of 3-4 and you will be responsible for generating models that rank at least in the **Top 20%** of your past competition and generating interesting insights about the dataset and how it can be used to build useful data products. You may find it helpful to **peruse the Winners' Solutions and Discussion that was held between competitors during the time the competition was live.** While Kaggle doesn't allow its competitors to augment and combine its datasets with other publicly available datasets, feel free to be creative and augment the starting dataset with other sources. All teams will be required to: \n",
    "\n",
    "---\n",
    "> 1. Present their findings about the dataset and final\n",
    "solutions on Friday.  \n",
    "2. Demonstrate the performance of their model(s) on Kaggle's Test Data. \n",
    "3. Present sensible solutions to deal with the particular dataset's missing values and outliers.\n",
    "4. Build multiple models that iterate on their first solution. Create a repertoire of tricks that led to improvements in their initial model. _You can incorporate insights from the Winners' solutions in this portion_.\n",
    "5. _Sensibly_ use a library or a model that has not yet been discussed in class. \n",
    "6. Submit your code for review \n",
    "\n",
    "Your presentations and solutions will be judged on: \n",
    "\n",
    ">- Does the solution **identify the right business/product objectives?** \n",
    "- How does the **solution evaluate and verify the quality of data at hand?** \n",
    "- What justifications do the Data Scientists present for their:\n",
    "    - **data cleaning and imputation strategy**\n",
    "    - **strategy for dealing with the outliers** \n",
    "    - **feature and target transformations**\n",
    "    - **the different models used in the solutions**\n",
    "- How well do the Data Scientists **communicate the importance of their work to a non-technical audience**? \n"
   ]
  },
  {
   "cell_type": "markdown",
   "metadata": {},
   "source": [
    "---\n",
    "## Team Expedia: Taylor, Anthony, and Brian\n",
    "\n",
    "### Competition\n",
    "<a href=https://www.kaggle.com/c/expedia-hotel-recommendations/data> Expedia Hotel Recommendations </a>\n",
    "\n",
    "\n",
    "### Winners Solutions\n",
    "\n",
    "\n",
    "<a href=https://www.kaggle.com/c/expedia-hotel-recommendations/discussion/21607> 1st Place Solution </a>\n",
    "\n",
    "<a href=https://www.kaggle.com/c/expedia-hotel-recommendations/discussion/20684> Starting Tutorial </a>"
   ]
  },
  {
   "cell_type": "markdown",
   "metadata": {},
   "source": [
    "---\n",
    "\n",
    "## Team Ames: Daniel, Sasha, Lana, and Erik\n",
    "\n",
    "### Competition\n",
    "<a href=https://www.kaggle.com/c/house-prices-advanced-regression-techniques#evaluation> House Prices: Regression Techniques </a>\n",
    "\n",
    "\n",
    "### Meta-Analysis\n",
    "Grab the data from the Kaggle Leaderboard and perform basic data analysis on the scores.\n",
    "- What's the variance across the submissions? \n",
    "- How important do you think it is to optimize for the score on the leaderboard?  \n",
    "- Do you think the home buyers will care for a model that's at the top of the leaderboard versus simply in the top 10%, top 25%?"
   ]
  },
  {
   "cell_type": "markdown",
   "metadata": {},
   "source": [
    "---\n",
    "## Team Popcorn: Yunus, Nathan, Howard\n",
    "\n",
    "### Competition\n",
    "\n",
    "<a href=https://www.kaggle.com/c/word2vec-nlp-tutorial> Bag of Words Meets Bags of Popcorn </a>\n",
    "\n",
    "### Tutorials\n",
    "\n",
    "<a href=https://www.kaggle.com/c/word2vec-nlp-tutorial#part-3-more-fun-with-word-vectors> Deep Learning Based Techniques for NLP </a>\n",
    "\n",
    "### Meta-Analysis\n",
    "- Are deep learning based methods better than the BoWs? If so by, how much?"
   ]
  }
 ],
 "metadata": {
  "kernelspec": {
   "display_name": "Python 2",
   "language": "python",
   "name": "python2"
  },
  "language_info": {
   "codemirror_mode": {
    "name": "ipython",
    "version": 2
   },
   "file_extension": ".py",
   "mimetype": "text/x-python",
   "name": "python",
   "nbconvert_exporter": "python",
   "pygments_lexer": "ipython2",
   "version": "2.7.13"
  }
 },
 "nbformat": 4,
 "nbformat_minor": 1
}
