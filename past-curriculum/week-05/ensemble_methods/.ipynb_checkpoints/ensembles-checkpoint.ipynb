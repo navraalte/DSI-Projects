{
 "cells": [
  {
   "cell_type": "markdown",
   "metadata": {},
   "source": [
    "## Ensemble Methods: Random Forests and Boosting"
   ]
  },
  {
   "cell_type": "markdown",
   "metadata": {
    "collapsed": true
   },
   "source": [
    "### Opening: How do you make decisions? \n",
    "\n",
    "<img src=http://tfosuccess.com/wp-content/uploads/2013/12/Decision-Making.jpg>"
   ]
  },
  {
   "cell_type": "markdown",
   "metadata": {
    "collapsed": true
   },
   "source": [
    "# Algorithms of Champions \n",
    "\n",
    "\n",
    "<img src=http://www.kdnuggets.com/wp-content/uploads/kaggle.jpg>"
   ]
  },
  {
   "cell_type": "markdown",
   "metadata": {},
   "source": [
    "### LEARNING OBJECTIVES\n",
    "*After this lesson, you will be able to:*\n",
    "- Explain what Random Forest is and how it is different from Bagging of Decision trees\n",
    "- Explain what Extra Trees models are\n",
    "- Apply both techniques for supervised machine learning\n",
    "- Describe Boosting and how it differs from Bagging\n",
    "- Apply Adaboost and Gradient Boosting for supervised machine learning problems"
   ]
  },
  {
   "cell_type": "markdown",
   "metadata": {},
   "source": [
    "### STUDENT PRE-WORK\n",
    "*Before this lesson, you should know:*\n",
    "- Decision Trees \n",
    "- Bias // Variance Trade Off"
   ]
  },
  {
   "cell_type": "markdown",
   "metadata": {},
   "source": [
    "### LESSON GUIDE\n",
    "| TIMING  | TYPE  | TOPIC  |\n",
    "|:-:|---|---|\n",
    "| 5 min | [Opening](#opening) | Opening |\n",
    "| 25 min | [Introduction](#introduction) | Intro to Random Forest |\n",
    "| 20 min | [Guided-practice](#guided-practice) | Guided Practice: Random Forest and ExtraTrees in Scikit Learn |\n",
    "| 15 min | [Introduction](#introduction_2) | Intro to Boosting |\n",
    "| 15 min | [Ind-practice](#ind-practice) | Independent Practice: Ada Boost and Gradient Boosting Classifier |\n",
    "| 5 min | [Conclusion](#conclusion) | Conclusion |"
   ]
  },
  {
   "cell_type": "markdown",
   "metadata": {},
   "source": [
    "<a name=\"opening\"></a>\n",
    "## Opening (5 mins)\n",
    "**Check:** What happens when you combine bagging with decision trees? Recall some observations from the past labs and lessons.\n",
    "\n",
    "Today we will learn about random forests, which are essentially a variation of the bagging + decision tree model.\n",
    "We will also learn about a different ensemble technique called _boosting_ and we will compare it with _bagging_."
   ]
  },
  {
   "cell_type": "markdown",
   "metadata": {},
   "source": [
    "<a name=\"introduction\"></a>\n",
    "## Review: Random Forest (25 min)\n",
    "\n",
    "Random Forests are some of the most widespread classifiers used.  They are relatively simple to use because they require very few parameters to set and they perform pretty well.\n",
    "\n",
    "<img src=https://citizennet.com/blog/wp-content/uploads/2012/11/RF.jpg> \n",
    "\n",
    "As we have see, Decision Trees are very powerful machine learning models.\n",
    "\n",
    "**Check:** What are the main advantages of decision trees?\n",
    "\n",
    "On the other hand Decision Trees have some limitations, in particular, trees that are grown very deep tend to learn highly irregular patterns: they overfit their training sets. Bagging helps mitigate this problem by exposing different trees to different sub-samples of the whole training set.\n",
    "\n",
    "Random forests are a further way of averaging multiple deep decision trees, trained on different parts of the same training set, with the goal of reducing the variance. This comes at the expense of a small increase in the bias and some loss of interpretability, but generally greatly boosts the performance of the final model.\n",
    "\n",
    "\n",
    "**Check:** Describe how the bagging algorithm works:\n",
    "\n",
    "\n",
    "_Random forests_ differ from bagging decision tree in only one way: they use a modified tree learning algorithm that selects, at each candidate split in the learning process, a **random subset of the features**. This process is sometimes called \"feature bagging\". The reason for doing this is the correlation of the trees in an ordinary bootstrap sample: if one or a few features are very strong predictors for the response variable (target output), these features will be selected in many of the bagging base trees, causing them to become correlated. By selecting a random subset of the features at each split, we counter this correlation between base trees, strengthening the overall model.\n",
    "\n",
    "**Check:** recall what are the two properties base models must satisfy in order for bagging to work well.\n",
    "\n",
    "Typically, for a classification problem with $p$ features, $\\sqrt{p}$ (rounded down) features are used in each split. For regression problems the inventors recommend $p/3$ (rounded down) with a minimum node size of 5 as the default.\n",
    "\n",
    "\n",
    "### Extremely Randomized Trees\n",
    "Adding one further step of randomization yields extremely randomized trees, or _ExtraTrees_. These are trained using bagging and the random subspace method, like in an ordinary random forest, but an additional layer of randomness is introduced. Instead of computing the locally optimal feature/split combination (based on, e.g., information gain or the Gini impurity), for each feature under consideration, a random value is selected for the split. This value is selected from the feature's empirical range (in the tree's training set, i.e., the bootstrap sample), in other words, the top-down splitting in the tree learner is randomized."
   ]
  },
  {
   "cell_type": "markdown",
   "metadata": {},
   "source": [
    "<a name=\"guided-practice\"></a>\n",
    "## Guided Practice: Random Forest and ExtraTrees in Scikit Learn (20 min)\n",
    "\n",
    "Scikit Learn implements both random forest and extra trees methods as part of the `ensemble` module.\n",
    "\n",
    "Have a look at the documentation here: http://scikit-learn.org/stable/modules/ensemble.html#forest (5 min).\n",
    "\n",
    "**Check:** what parameters did you notice? Any questions on those?\n",
    "\n",
    "\n",
    "Let's load the [car dataset](https://archive.ics.uci.edu/ml/machine-learning-databases/car/), we are familiar with it by now."
   ]
  },
  {
   "cell_type": "code",
   "execution_count": 1,
   "metadata": {
    "collapsed": false
   },
   "outputs": [
    {
     "name": "stdout",
     "output_type": "stream",
     "text": [
      "  buying  maint doors persons lug_boot safety acceptability\n",
      "0  vhigh  vhigh     2       2    small    low         unacc\n",
      "1  vhigh  vhigh     2       2    small    med         unacc\n",
      "2  vhigh  vhigh     2       2    small   high         unacc\n",
      "3  vhigh  vhigh     2       2      med    low         unacc\n",
      "4  vhigh  vhigh     2       2      med    med         unacc\n",
      "       buying maint doors persons lug_boot safety acceptability\n",
      "count    1728  1728  1728    1728     1728   1728          1728\n",
      "unique      4     4     4       3        3      3             4\n",
      "top       med   med     3    more      med    med         unacc\n",
      "freq      432   432   432     576      576    576          1210\n"
     ]
    }
   ],
   "source": [
    "import pandas as pd\n",
    "df = pd.read_csv('car.csv')\n",
    "print df.head()\n",
    "\n",
    "print df.describe()"
   ]
  },
  {
   "cell_type": "markdown",
   "metadata": {},
   "source": [
    "This time we will encode the features using a One Hot encoding scheme, i.e. we will consider them as categorical variables. We also need to encode the label using the `LabelEncoder`."
   ]
  },
  {
   "cell_type": "code",
   "execution_count": 2,
   "metadata": {
    "collapsed": false
   },
   "outputs": [],
   "source": [
    "from sklearn.preprocessing import LabelEncoder\n",
    "labels = LabelEncoder()\n",
    "y = labels.fit_transform(df['acceptability'])\n",
    "X = pd.get_dummies(df.drop('acceptability', axis=1))"
   ]
  },
  {
   "cell_type": "markdown",
   "metadata": {},
   "source": [
    "\n",
    "We would like to compare the performance of the following 4 algorithms:\n",
    "\n",
    "- Decision Trees\n",
    "- Bagging + Decision Trees\n",
    "- Random Forest\n",
    "- Extra Trees\n",
    "\n",
    "Note that in order for our results to be consistent we have to expose the models to exactly the same Cross Validation scheme. Let's start initializing that."
   ]
  },
  {
   "cell_type": "code",
   "execution_count": 4,
   "metadata": {
    "collapsed": false
   },
   "outputs": [
    {
     "name": "stderr",
     "output_type": "stream",
     "text": [
      "/Users/Vrushank/anaconda/envs/dsi/lib/python2.7/site-packages/sklearn/cross_validation.py:44: DeprecationWarning: This module was deprecated in version 0.18 in favor of the model_selection module into which all the refactored classes and functions are moved. Also note that the interface of the new CV iterators are different from that of this module. This module will be removed in 0.20.\n",
      "  \"This module will be removed in 0.20.\", DeprecationWarning)\n"
     ]
    }
   ],
   "source": [
    "from sklearn.cross_validation import cross_val_score, StratifiedKFold\n",
    "from sklearn.tree import DecisionTreeClassifier\n",
    "from sklearn.ensemble import RandomForestClassifier, ExtraTreesClassifier, BaggingClassifier\n",
    "from sklearn.model_selection import GridSearchCV\n",
    "cv = StratifiedKFold(y, n_folds=3, shuffle=True, random_state=41)"
   ]
  },
  {
   "cell_type": "markdown",
   "metadata": {},
   "source": [
    "Now let's initialize a Decision Tree Classifier and evaluate its performance:"
   ]
  },
  {
   "cell_type": "code",
   "execution_count": 34,
   "metadata": {
    "collapsed": false
   },
   "outputs": [
    {
     "name": "stdout",
     "output_type": "stream",
     "text": [
      "Decision Tree Score:\t0.964 ± 0.007\n"
     ]
    }
   ],
   "source": [
    "dt = DecisionTreeClassifier(class_weight='balanced')\n",
    "s = cross_val_score(dt, X, y, cv=cv, n_jobs=-1)\n",
    "print \"{} Score:\\t{:0.3} ± {:0.3}\".format(\"Decision Tree\", s.mean().round(3), s.std().round(3))"
   ]
  },
  {
   "cell_type": "markdown",
   "metadata": {},
   "source": [
    "### Your turn now:\n",
    "\n",
    "Initialize the following models and check their performance:\n",
    "- Bagging + Decision Trees\n",
    "- Random Forest\n",
    "- Extra Trees\n",
    "\n",
    "You can also create a function to speed up your work...\n",
    "\n"
   ]
  },
  {
   "cell_type": "code",
   "execution_count": 50,
   "metadata": {
    "collapsed": false
   },
   "outputs": [
    {
     "name": "stdout",
     "output_type": "stream",
     "text": [
      "[mean: 0.94560, std: 0.01059, params: {'max_features': 'auto', 'min_samples_split': 1, 'n_estimators': 10}, mean: 0.95949, std: 0.01154, params: {'max_features': 'auto', 'min_samples_split': 1, 'n_estimators': 50}, mean: 0.94502, std: 0.00693, params: {'max_features': 'auto', 'min_samples_split': 3, 'n_estimators': 10}, mean: 0.95833, std: 0.00927, params: {'max_features': 'auto', 'min_samples_split': 3, 'n_estimators': 50}, mean: 0.90856, std: 0.00308, params: {'max_features': 'auto', 'min_samples_split': 10, 'n_estimators': 10}, mean: 0.93634, std: 0.01229, params: {'max_features': 'auto', 'min_samples_split': 10, 'n_estimators': 50}, mean: 0.94329, std: 0.00663, params: {'max_features': 'log2', 'min_samples_split': 1, 'n_estimators': 10}, mean: 0.95602, std: 0.00927, params: {'max_features': 'log2', 'min_samples_split': 1, 'n_estimators': 50}, mean: 0.92940, std: 0.01635, params: {'max_features': 'log2', 'min_samples_split': 3, 'n_estimators': 10}, mean: 0.95891, std: 0.01274, params: {'max_features': 'log2', 'min_samples_split': 3, 'n_estimators': 50}, mean: 0.91725, std: 0.01749, params: {'max_features': 'log2', 'min_samples_split': 10, 'n_estimators': 10}, mean: 0.94039, std: 0.01026, params: {'max_features': 'log2', 'min_samples_split': 10, 'n_estimators': 50}, mean: 0.97338, std: 0.00432, params: {'max_features': 1.0, 'min_samples_split': 1, 'n_estimators': 10}, mean: 0.97627, std: 0.00993, params: {'max_features': 1.0, 'min_samples_split': 1, 'n_estimators': 50}, mean: 0.96933, std: 0.01344, params: {'max_features': 1.0, 'min_samples_split': 3, 'n_estimators': 10}, mean: 0.97106, std: 0.00710, params: {'max_features': 1.0, 'min_samples_split': 3, 'n_estimators': 50}, mean: 0.95660, std: 0.00652, params: {'max_features': 1.0, 'min_samples_split': 10, 'n_estimators': 10}, mean: 0.96065, std: 0.00455, params: {'max_features': 1.0, 'min_samples_split': 10, 'n_estimators': 50}]\n"
     ]
    },
    {
     "name": "stderr",
     "output_type": "stream",
     "text": [
      "/Users/Vrushank/anaconda/envs/dsi/lib/python2.7/site-packages/sklearn/model_selection/_search.py:662: DeprecationWarning: The grid_scores_ attribute was deprecated in version 0.18 in favor of the more elaborate cv_results_ attribute. The grid_scores_ attribute will not be available from 0.20\n",
      "  DeprecationWarning)\n"
     ]
    }
   ],
   "source": [
    "def model_score(model, name):\n",
    "    s = cross_val_score(model, X, y, cv=cv, n_jobs=-1)\n",
    "    print \"{} Score:\\t{:0.3} ± {:0.3}\".format(name, s.mean().round(3), s.std().round(3))\n",
    "\n",
    "param_grid = {\n",
    "            'max_features': ['auto', 'log2', 1.0],\n",
    "            \"n_estimators\": [10, 50],\n",
    "            \"min_samples_split\": [1, 3, 10],\n",
    "             }\n",
    "\n",
    "rf_clf = RandomForestClassifier()\n",
    "rf_grid_search = GridSearchCV(rf_clf, param_grid=param_grid, cv=cv)\n",
    "rf_grid_search.fit(X, y)\n",
    "print rf_grid_search.grid_scores_"
   ]
  },
  {
   "cell_type": "code",
   "execution_count": 51,
   "metadata": {
    "collapsed": false
   },
   "outputs": [
    {
     "data": {
      "text/plain": [
       "(0.97627314814814814,\n",
       " {'max_features': 1.0, 'min_samples_split': 1, 'n_estimators': 50})"
      ]
     },
     "execution_count": 51,
     "metadata": {},
     "output_type": "execute_result"
    }
   ],
   "source": [
    "rf_grid_search.best_score_, rf_grid_search.best_params_"
   ]
  },
  {
   "cell_type": "code",
   "execution_count": 53,
   "metadata": {
    "collapsed": false
   },
   "outputs": [
    {
     "name": "stdout",
     "output_type": "stream",
     "text": [
      "[mean: 0.95602, std: 0.00585, params: {'max_features': 'auto', 'min_samples_split': 1, 'n_estimators': 10}, mean: 0.96933, std: 0.00920, params: {'max_features': 'auto', 'min_samples_split': 1, 'n_estimators': 50}, mean: 0.95660, std: 0.00988, params: {'max_features': 'auto', 'min_samples_split': 3, 'n_estimators': 10}, mean: 0.97280, std: 0.00589, params: {'max_features': 'auto', 'min_samples_split': 3, 'n_estimators': 50}, mean: 0.93866, std: 0.00455, params: {'max_features': 'auto', 'min_samples_split': 10, 'n_estimators': 10}, mean: 0.95255, std: 0.01271, params: {'max_features': 'auto', 'min_samples_split': 10, 'n_estimators': 50}, mean: 0.94907, std: 0.00409, params: {'max_features': 'log2', 'min_samples_split': 1, 'n_estimators': 10}, mean: 0.96701, std: 0.00854, params: {'max_features': 'log2', 'min_samples_split': 1, 'n_estimators': 50}, mean: 0.95023, std: 0.01072, params: {'max_features': 'log2', 'min_samples_split': 3, 'n_estimators': 10}, mean: 0.96991, std: 0.00431, params: {'max_features': 'log2', 'min_samples_split': 3, 'n_estimators': 50}, mean: 0.94676, std: 0.01146, params: {'max_features': 'log2', 'min_samples_split': 10, 'n_estimators': 10}, mean: 0.95370, std: 0.00967, params: {'max_features': 'log2', 'min_samples_split': 10, 'n_estimators': 50}, mean: 0.96701, std: 0.01120, params: {'max_features': 1.0, 'min_samples_split': 1, 'n_estimators': 10}, mean: 0.96991, std: 0.01059, params: {'max_features': 1.0, 'min_samples_split': 1, 'n_estimators': 50}, mean: 0.96701, std: 0.00926, params: {'max_features': 1.0, 'min_samples_split': 3, 'n_estimators': 10}, mean: 0.96759, std: 0.00802, params: {'max_features': 1.0, 'min_samples_split': 3, 'n_estimators': 50}, mean: 0.94618, std: 0.00644, params: {'max_features': 1.0, 'min_samples_split': 10, 'n_estimators': 10}, mean: 0.94618, std: 0.00644, params: {'max_features': 1.0, 'min_samples_split': 10, 'n_estimators': 50}]\n"
     ]
    },
    {
     "name": "stderr",
     "output_type": "stream",
     "text": [
      "/Users/Vrushank/anaconda/envs/dsi/lib/python2.7/site-packages/sklearn/model_selection/_search.py:662: DeprecationWarning: The grid_scores_ attribute was deprecated in version 0.18 in favor of the more elaborate cv_results_ attribute. The grid_scores_ attribute will not be available from 0.20\n",
      "  DeprecationWarning)\n"
     ]
    }
   ],
   "source": [
    "extra_clf = ExtraTreesClassifier()\n",
    "extra_grid_search = GridSearchCV(extra_clf, param_grid=param_grid, cv=cv)\n",
    "extra_grid_search.fit(X, y)\n",
    "print extra_grid_search.grid_scores_"
   ]
  },
  {
   "cell_type": "code",
   "execution_count": 54,
   "metadata": {
    "collapsed": false
   },
   "outputs": [
    {
     "name": "stdout",
     "output_type": "stream",
     "text": [
      "0.972800925926\n"
     ]
    }
   ],
   "source": [
    "print extra_grid_search.best_score_"
   ]
  },
  {
   "cell_type": "markdown",
   "metadata": {},
   "source": [
    "<a name=\"introduction_2\"></a>\n",
    "## Intro to Boosting (15 min)\n",
    "\n",
    "With bagging and random forests we tran models on separate subsets and then combine their prediction. In a sense we are parallelizing the training and then combining (like a map-reduce...).\n",
    "\n",
    "\n",
    "\n",
    "_Boosting_ is a different ensemble technique that is sequential.\n",
    "\n",
    "<img src=http://i.stack.imgur.com/5b2VM.png>\n",
    "\n",
    "Boosting is an iterative procedure that adaptively changes the sampling distribution of training records at each iteration, in order to correct the errors of the previous iteration of models. The first iteration uses uniform weights (like bagging) for all samples. In subsequent iterations, the weights are adjusted to emphasize records that were misclassified in previous iterations. The final prediction is constructed by a weighted vote (where the weights for a base classifier depends on its training error).\n",
    "\n",
    "Since the base classifier's focus more and more closely on records that are difficult to classify as the sequence of iterations progresses, they are faced with progressively more difficult learning problems.\n",
    "\n",
    "Boosting takes a base _weak_ learner and tries to make it a _strong_ learner by re-training it on the misclassified samples.\n",
    "\n",
    "\n",
    "\n",
    "There are several algorithms for boosting, in particular we will mention `AdaBoost`, `GradientBoostingClassifier` that are implemented in scikit learn.\n",
    "\n",
    "\n",
    "### AdaBoost\n",
    "\n",
    "`AdaBoost` refers to a particular method of training a boosted classifier. A boost classifier is a classifier in the for\n",
    "$$\n",
    "F_T(x) = \\sum_{t=1}^T f_t(x)\n",
    "$$\n",
    "where each $f_t$ is a weak learner that takes an object $x$ as input and returns a real valued result indicating the class of the object.\n",
    "\n",
    "![Boosting](fwd_stgwise.png)\n",
    "\n",
    "\n",
    "\n",
    "Each weak learner produces an output, hypothesis $h(x_i)$, for each sample in the training set. At each iteration $t$, a weak learner is selected and assigned a coefficient \\alpha_t such that the sum training error E_t of the resulting t-stage boost classifier is minimized.\n",
    "\n",
    "$$\n",
    "E_t = \\sum_i E[F_{t-1}(x_i) + \\alpha_t h(x_i)]\n",
    "$$\n",
    "\n",
    "Here $F_{t-1}(x)$ is the boosted classifier that has been built up to the previous stage of training, $E(F)$ is some error function and $f_t(x) = \\alpha_t h(x)$ is the weak learner that is being considered for addition to the final classifier.\n",
    "\n",
    "At each iteration of the training process, a weight is assigned to each sample in the training set equal to the current error $E(F_{t-1}(x_i))$ on that sample. These weights can be used to inform the training of the weak learner, for instance, decision trees can be grown that favor splitting sets of samples with high weights.\n",
    "\n",
    "\n",
    "\n",
    "- Fit an additive model (ensemble) in a forward stage-wise manner.\n",
    "- In each stage, introduce a weak learner to compensate the shortcomings of existing weak learners.\n",
    "\n"
   ]
  },
  {
   "cell_type": "markdown",
   "metadata": {},
   "source": [
    "### Gradient Boosting Classifier\n",
    "\n",
    "<a href=http://arogozhnikov.github.io/2016/06/24/gradient_boosting_explained.html> Gradient Boosted Trees </a>\n",
    "\n",
    "\n",
    "Gradient Boosting is a generalization of boosting to arbitrary differentiable loss functions. GBRT is an accurate and effective off-the-shelf procedure that can be used for both regression and classification problems. Gradient Tree Boosting models are used in a variety of areas including Web search ranking and ecology.\n",
    "\n",
    "The advantages of GBRT are:\n",
    "- Natural handling of data of mixed type (= heterogeneous features)\n",
    "- Predictive power\n",
    "- Robustness to outliers in output space (via robust loss functions)\n",
    "\n",
    "The disadvantages of GBRT are:\n",
    "- Scalability, due to the sequential nature of boosting it can hardly be parallelized."
   ]
  },
  {
   "cell_type": "markdown",
   "metadata": {},
   "source": [
    "<a name=\"ind-practice\"></a>\n",
    "## Independent Practice: Ada Boost and Gradient Boosting Classifier (15 min)\n",
    "\n",
    "Test the performance of the `AdaBoost` and `GradientBoostingClassifier` models on the car dataset. Use the code you developed above as a starter code.\n"
   ]
  },
  {
   "cell_type": "markdown",
   "metadata": {},
   "source": [
    "<a name=\"conclusion\"></a>\n",
    "## Conclusion (5 min)\n",
    "\n",
    "In this class we learned about Random Forest, Extremely randomized trees and Boosting. They are different ways to improve the performance of a weak learner.\n",
    "\n",
    "Some of these methods will perform better in some cases, some better in other cases. For example, Decision Trees are more nimble and easier to communicate, but have a tendency to overfit. On the other hand Ensemble methods perform better in more complex scenarios, but may become very complicated and harder to explain.\n",
    "Have a look [here](https://www.wise.io/resources) for a couple of examples from real world startup Wise.io.\n",
    "\n",
    "**Check:** Can you think of what could be limitations of these methods?\n"
   ]
  },
  {
   "cell_type": "markdown",
   "metadata": {},
   "source": [
    "### ADDITIONAL RESOURCES\n",
    "\n",
    "- [Random Forest on wikipedia](https://en.wikipedia.org/wiki/Random_forest)\n",
    "- [Quora question on Random Forest](https://www.quora.com/How-does-randomization-in-a-random-forest-work?redirected_qid=212859)\n",
    "- [Scikit Learn Ensemble Methods](http://scikit-learn.org/stable/modules/ensemble.html)\n",
    "- [Scikit Learn Random Forest Classifier](http://scikit-learn.org/stable/modules/generated/sklearn.ensemble.RandomForestClassifier.html)"
   ]
  }
 ],
 "metadata": {
  "kernelspec": {
   "display_name": "Python 2",
   "language": "python",
   "name": "python2"
  },
  "language_info": {
   "codemirror_mode": {
    "name": "ipython",
    "version": 2
   },
   "file_extension": ".py",
   "mimetype": "text/x-python",
   "name": "python",
   "nbconvert_exporter": "python",
   "pygments_lexer": "ipython2",
   "version": "2.7.13"
  }
 },
 "nbformat": 4,
 "nbformat_minor": 0
}
