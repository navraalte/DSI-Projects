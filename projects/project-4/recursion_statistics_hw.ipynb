{
 "cells": [
  {
   "cell_type": "markdown",
   "metadata": {},
   "source": [
    "\n",
    "\n",
    "# Recursion and Statistics\n",
    "\n",
    "### Enter the Contest!\n",
    "\n",
    "### [Week 5 Hackerrank Contest ](https://www.hackerrank.com/week-3-contest)\n",
    "\n",
    "---\n",
    "\n",
    "### Recursion :\n",
    "\n",
    "#### Review :\n",
    "1. [Recursion - Khan academy](https://www.khanacademy.org/computing/computer-science/algorithms/recursive-algorithms/a/recursion)\n",
    "2. [Intro to Recursion](https://www.youtube.com/watch?v=t4MSwiqfLaY&t=172s)\n",
    "3. [Recursion tutorial](https://www.cs.umd.edu/class/fall2002/cmsc214/Tutorial/recursion.html)\n",
    "4. [Recursive Functions](http://www.python-course.eu/recursive_functions.php)\n",
    "5. [Interactive programming](https://interactivepython.org/runestone/static/pythonds/Recursion/toctree.html)\n",
    "\n",
    "Additional Practice Questions :\n",
    "1. [Longest absolute file](https://leetcode.com/problems/longest-absolute-file-path/?tab=Description) *This requires an account on Leetcode.com\n",
    "\n",
    "2. [Valid Palindrome](https://leetcode.com/problems/valid-palindrome/?tab=Description) * This requires an account on Leetcode.com\n",
    "\n",
    "---\n",
    "\n",
    "\n",
    "### Probability & Statistics :\n",
    "#### Review : \n",
    "\n",
    "1. [Probability](https://github.com/GitPaulM/DSI-SF-2-GitPaulM/blob/master/GA%20Project/%201%20Probability%20-%20Getting%20Started.ipynb)\n",
    "2. [Khan acamedy videos on Stats](https://www.khanacademy.org/math/probability)\n",
    "\n",
    "\n",
    "\n"
   ]
  },
  {
   "cell_type": "code",
   "execution_count": null,
   "metadata": {
    "collapsed": true
   },
   "outputs": [],
   "source": []
  }
 ],
 "metadata": {
  "anaconda-cloud": {},
  "kernelspec": {
   "display_name": "Python 2",
   "language": "python",
   "name": "python2"
  },
  "language_info": {
   "codemirror_mode": {
    "name": "ipython",
    "version": 2
   },
   "file_extension": ".py",
   "mimetype": "text/x-python",
   "name": "python",
   "nbconvert_exporter": "python",
   "pygments_lexer": "ipython2",
   "version": "2.7.12"
  }
 },
 "nbformat": 4,
 "nbformat_minor": 1
}
