{
 "cells": [
  {
   "cell_type": "markdown",
   "metadata": {},
   "source": [
    "## Functional & Object Oriented Programming "
   ]
  },
  {
   "cell_type": "markdown",
   "metadata": {},
   "source": [
    "### Functional Programming in Python\n",
    "In class, we briefly explored the Functional Programming in Python through lambda functions, map, filter, iterators, generators, and deocrators. This note will review those ideas. "
   ]
  },
  {
   "cell_type": "markdown",
   "metadata": {},
   "source": [
    "#### Lambda Functions \n"
   ]
  },
  {
   "cell_type": "markdown",
   "metadata": {},
   "source": [
    "Exercise : For this exercise solve the following problem on Hackerrank and post your solution in the cell below\n",
    "\n",
    "[Validating Email addresses with a Filter](https://www.hackerrank.com/contests/pythonista-practice-session/challenges/validate-list-of-email-address-with-filter)\n"
   ]
  },
  {
   "cell_type": "code",
   "execution_count": 1,
   "metadata": {
    "collapsed": true
   },
   "outputs": [],
   "source": [
    "#Write code here\n",
    "\n",
    "def fun(s):\n",
    "    # return True if s is a valid email, else return False\n",
    "    try:\n",
    "        username = s[:s.index('@')]\n",
    "        domain = s[s.index('@')+1: s.index('.')]\n",
    "        ext = s[s.index('.')+1:]\n",
    "    except ValueError as e:\n",
    "        return False\n",
    "    if any(map(lambda x: len(x) == 0, [username, domain, ext])):\n",
    "        return False\n",
    "    return all([username == filter(lambda c: c.isalnum() or c in '-_', username), 1<= len(ext) <=3, domain == filter(lambda ch: ch.isalnum(), domain)])"
   ]
  },
  {
   "cell_type": "code",
   "execution_count": null,
   "metadata": {
    "collapsed": true
   },
   "outputs": [],
   "source": [
    "import re\n",
    "\n",
    "def fun2(s):\n",
    "    valid = re.match(r'[\\W-]+@[a-zA-Z0-9]+\\.[a-zA-Z]{1,3}$',s)\n",
    "    return valid"
   ]
  },
  {
   "cell_type": "markdown",
   "metadata": {},
   "source": [
    "#### Generators\n",
    "\n",
    "Exercise :\n",
    "Write a infinite generator that successively yields the triangle numbers 0, 1, 3, 6, 10, ...\n",
    "\n",
    "[Triangle Numbers](https://en.wikipedia.org/wiki/Triangular_number)"
   ]
  },
  {
   "cell_type": "code",
   "execution_count": 2,
   "metadata": {
    "collapsed": true
   },
   "outputs": [],
   "source": [
    "### Generators\n",
    "\"\"\"\n",
    "Exercise :\n",
    "Write a infinite generator that successively yields the triangle numbers 0, 1, 3, 6, 10, ...\n",
    "\n",
    "Triangle Numbers : https://en.wikipedia.org/wiki/Triangular_number\n",
    "\"\"\"\n",
    "def generate_triangles():\n",
    "    n = 0\n",
    "    i= 1\n",
    "    while True:\n",
    "        yield n\n",
    "        n  += i \n",
    "        i += 1\n",
    "\n",
    "    \n",
    "gen = generate_triangles()\n",
    "\n",
    "        "
   ]
  },
  {
   "cell_type": "code",
   "execution_count": 3,
   "metadata": {},
   "outputs": [
    {
     "name": "stdout",
     "output_type": "stream",
     "text": [
      "0\n"
     ]
    }
   ],
   "source": [
    "print gen.next()"
   ]
  },
  {
   "cell_type": "code",
   "execution_count": 4,
   "metadata": {
    "collapsed": true
   },
   "outputs": [],
   "source": [
    "\"\"\"\n",
    "Use your generator to write a function triangles_under(n) that prints out all triangle\n",
    "numbers strictly less than the parameter n.\n",
    "\n",
    "\"\"\"\n",
    "def triangles_under(z):\n",
    "\n",
    "    n = 0\n",
    "    i= 1\n",
    "    while n < z :\n",
    "        yield n\n",
    "        n  += i \n",
    "        i += 1\n",
    "\n",
    "    \n",
    "gen = triangles_under(10)"
   ]
  },
  {
   "cell_type": "code",
   "execution_count": 5,
   "metadata": {},
   "outputs": [
    {
     "name": "stdout",
     "output_type": "stream",
     "text": [
      "0\n"
     ]
    }
   ],
   "source": [
    "print gen.next()"
   ]
  },
  {
   "cell_type": "markdown",
   "metadata": {},
   "source": [
    "#### Decorators \n",
    "Exercise : Standardize Mobile Numbers using Decorators\n",
    "\n",
    "Make a list of the mobile numbers and pass it to a function that sorts the array \n",
    "in ascending order. Make a decorator that standardizes the mobile numbers and \n",
    "apply it to the function.\n",
    "\n",
    "Input : Take a list of mobile numbers. Sort them in ascending order then print them in \n",
    "the standard format shown below:\n",
    "    \n",
    "    +1 xxx xxx xxxx\n",
    "\n",
    "The given mobile numbers may have +1, 1 or 0 written before the actual digit number. \n",
    "Alternatively, there may not be any prefix at all. \n",
    "\n",
    "Sample Input : \n",
    "    06502505121\n",
    "    +19658764040\n",
    "\n",
    "Sample output :\n",
    "    +1 650 250 5121\n",
    "    +1 965 876 4040\n"
   ]
  },
  {
   "cell_type": "code",
   "execution_count": 12,
   "metadata": {},
   "outputs": [],
   "source": [
    "\n",
    "#Write code here\n",
    "\n",
    "def wrapper(f):\n",
    "    def fun(l):\n",
    "        # complete the function\n",
    "        f([\"+1 {} {} {}\".format(n[-10:-7], n[-7:-4], n[-4:])for n in l])\n",
    "    return fun\n"
   ]
  },
  {
   "cell_type": "code",
   "execution_count": 13,
   "metadata": {},
   "outputs": [
    {
     "name": "stdout",
     "output_type": "stream",
     "text": [
      "['+1 777 876 4040', '+1 999 950 5121']\n"
     ]
    }
   ],
   "source": [
    "@wrapper\n",
    "def phone(l):\n",
    "    print sorted(l)    \n",
    "\n",
    "phone([\"650277999999505121\" ,\"19657778764040\"])"
   ]
  },
  {
   "cell_type": "markdown",
   "metadata": {},
   "source": [
    "### Object Oriented Programming in Python"
   ]
  },
  {
   "cell_type": "markdown",
   "metadata": {},
   "source": [
    "#### Exercise 1: "
   ]
  },
  {
   "cell_type": "code",
   "execution_count": 7,
   "metadata": {
    "collapsed": true
   },
   "outputs": [],
   "source": [
    "# Before compiling the following code snippets, write down what\n",
    "# each individual call will return in an inline comment. \n",
    "# If you think it returns an error, why would it be the case. \n",
    " \n",
    "\n",
    "class Account(object):\n",
    "    interest = 0.02\n",
    "    def __init__(self, account_holder):\n",
    "        self.balance = 0\n",
    "        self.holder = account_holder\n",
    "    def deposit(self, amount):\n",
    "        self.balance = self.balance + amount\n",
    "        print(\"Yes!\")\n",
    "\n"
   ]
  },
  {
   "cell_type": "code",
   "execution_count": 8,
   "metadata": {},
   "outputs": [
    {
     "ename": "AttributeError",
     "evalue": "'Account' object has no attribute 'account_holder'",
     "output_type": "error",
     "traceback": [
      "\u001b[0;31m---------------------------------------------------------------------------\u001b[0m",
      "\u001b[0;31mAttributeError\u001b[0m                            Traceback (most recent call last)",
      "\u001b[0;32m<ipython-input-8-87a8148c6323>\u001b[0m in \u001b[0;36m<module>\u001b[0;34m()\u001b[0m\n\u001b[1;32m      2\u001b[0m \u001b[0;31m# Account object is created for the person Billy\u001b[0m\u001b[0;34m\u001b[0m\u001b[0;34m\u001b[0m\u001b[0m\n\u001b[1;32m      3\u001b[0m \u001b[0;34m\u001b[0m\u001b[0m\n\u001b[0;32m----> 4\u001b[0;31m \u001b[0ma\u001b[0m\u001b[0;34m.\u001b[0m\u001b[0maccount_holder\u001b[0m\u001b[0;34m\u001b[0m\u001b[0m\n\u001b[0m\u001b[1;32m      5\u001b[0m \u001b[0;31m# Account has no attribute of Account_holder\u001b[0m\u001b[0;34m\u001b[0m\u001b[0;34m\u001b[0m\u001b[0m\n\u001b[1;32m      6\u001b[0m \u001b[0;34m\u001b[0m\u001b[0m\n",
      "\u001b[0;31mAttributeError\u001b[0m: 'Account' object has no attribute 'account_holder'"
     ]
    }
   ],
   "source": [
    "a = Account(\"Billy\") \n",
    "# Account object is created for the person Billy \n",
    "\n",
    "a.account_holder \n",
    "# Account has no attribute of Account_holder\n",
    "\n",
    "Account.holder \n",
    "# Account has no attribute of holder\n",
    "\n",
    "Account.interest \n",
    "#Prints out value of interest (.02)\n",
    "\"\"\n",
    "a.interest \n",
    "#Prints out value of interest (.02)\n",
    "\n",
    "Account.interest = 0.03 \n",
    "#Reassigns  value of interest (.03)\n",
    "a.interest  \n",
    "#Prints  value of interest (.03)\n",
    "\n",
    "a.deposit(1000) \n",
    "#Shows completed msg for deposit (\"Yes\")\n",
    "\n",
    "a.balance  \n",
    "#Prints the current balance of the object a "
   ]
  },
  {
   "cell_type": "markdown",
   "metadata": {},
   "source": [
    "#### Exercise 2: Timed Key Value Store \n",
    "\n",
    "At a high-level, we'll be building a key-value store (think Dictionary or HashMap) that has a get method that takes an optional second parameter as a time object in Python to return the most recent value before that period in time. If no key-value pair was added to the map before that period in time, return None.\n",
    "\n",
    "For consistency’s sake, let’s call this class TimedKVStore and put it into a file called kv_store.py\n",
    "\n",
    "You’ll need some sort of time object to track when key-value pairs are getting added to this map. Consider using the time module from Python Docs\n",
    "\n",
    "To give you an idea of how this class works, this is what should happen after you implement TimedKVStore.\n",
    "\n"
   ]
  },
  {
   "cell_type": "code",
   "execution_count": 16,
   "metadata": {},
   "outputs": [
    {
     "name": "stdout",
     "output_type": "stream",
     "text": [
      "None\n",
      "None\n",
      "1.1\n",
      "1\n",
      "None\n"
     ]
    }
   ],
   "source": [
    "import time\n",
    "\n",
    "d = TimedKVStore()\n",
    "\n",
    "t0 = time.time()\n",
    "print d.put(\"k1\", 1)\n",
    "\n",
    "t1 = time.time()\n",
    "print d.put(\"k1\", 1.1)\n",
    "\n",
    "print d.get(\"k1\")\n",
    "#Output : 1.1\n",
    "        \n",
    "print d.get(\"k1\", t1)\n",
    "#Output : 1\n",
    "    \n",
    "print d.get(\"k1\", t0)\n",
    "#Output : None"
   ]
  },
  {
   "cell_type": "code",
   "execution_count": 14,
   "metadata": {},
   "outputs": [],
   "source": [
    "#Write code here\n",
    "\n",
    "\n",
    "class TimedKVStore():\n",
    "    \n",
    "    \n",
    "    \n",
    "    def __init__(self):\n",
    "        self.kv_dict = {}\n",
    "        \n",
    "    \n",
    "    def get(self, key, time=None):\n",
    "        if time:\n",
    "            for item_value, item_time in self.kv_dict[key]:\n",
    "                if item_time < time:\n",
    "                    return item_value \n",
    "        else:\n",
    "            return self.kv_dict[key][-1][0]\n",
    "\n",
    "          \n",
    "            \n",
    "    \n",
    "    def put(self, key, val):\n",
    "        if key not in self.kv_dict:\n",
    "            self.kv_dict[key] = [(val, time.time())]\n",
    "        else:\n",
    "            self.kv_dict[key].append((val, time.time()))\n"
   ]
  },
  {
   "cell_type": "code",
   "execution_count": 15,
   "metadata": {
    "collapsed": true
   },
   "outputs": [],
   "source": [
    "if None:\n",
    "    print 1"
   ]
  },
  {
   "cell_type": "markdown",
   "metadata": {
    "collapsed": true
   },
   "source": [
    "#### Exercise 3 : \n",
    "For this problem you will be creating a class and apply OOP priciples to it. The problem is divided into two parts.\n",
    "\n",
    "#### 1. PART 1: \n",
    "* Define a Rocket() class.\n",
    "* Define the __init__() method. Let your __init__() method accept x and y values for the initial position of the rocket. Make sure the default behavior is to position the rocket at (0,0).\n",
    "* Define the move_rocket() method. The method should accept an amount to move (x,y)\n",
    "* Create a Rocket object. Move the rocket around, printing its position after each move.\n",
    "* Create a small fleet of rockets. Move several of them around, and print their final positions to prove that each rocket can move independently of the other rockets.\n",
    "* Define the get_distance() method. The method should accept a Rocket object, and calculate the distance between the current rocket and the rocket that is passed into the method.\n",
    "* Use the get_distance() method to print the distances between several of the rockets in your fleet.\n",
    "\n",
    "#### 2. PART 2 : Applying Inheritance\n",
    "* Define a class SpaceShuttle() which extends class Rocket()\n",
    "* Add more attributes that are particular to space shuttles such as maximum number of flights, capability of supporting spacewalks, and capability of docking with the ISS.\n",
    "* Add a method to the class, that relates to shuttle behavior. This method could simply print a statement, such as \"Docking with the ISS,\" for a dock_ISS() method.\n",
    "* Create a Shuttle object with these attributes, and then call your new method.\n",
    "\n",
    "Hints/Notes :\n",
    "* You can use the Euclidean distance to calculate the distances between different Rocket objects\n",
    "\n",
    "    - Euclidean distance((x, y), (a, b)) = √(x - a)² + (y - b)²\n",
    "\n"
   ]
  },
  {
   "cell_type": "code",
   "execution_count": 17,
   "metadata": {},
   "outputs": [
    {
     "name": "stdout",
     "output_type": "stream",
     "text": [
      "Your position is [1, 1] \n",
      "[1, 1]\n",
      "Your new position is [[1, 2]] \n",
      "Your position is [5, 1] \n",
      "[5, 1]\n",
      "Current distance before Rocket collision: 4.0 lightyears\n",
      "Shuttle is initiating dock procedure with the ISS\n"
     ]
    }
   ],
   "source": [
    "#Write code here \n",
    "\n",
    "\n",
    "import math \n",
    "import numpy as np\n",
    "\n",
    "\n",
    "class Rocket(object):\n",
    "    \n",
    "\n",
    "    def __init__(self, x, y) :\n",
    "        self.x, self.y = [0], [0]\n",
    "        self.x, self.y = x, y\n",
    "        self.pos = [x, y]\n",
    "        print \"Your position is {} \".format([ x, y ])\n",
    "        print self.pos\n",
    "\n",
    "       \n",
    "#   rocket = (self,position):\n",
    "        \n",
    "    def move_rocket(self, movex, movey):\n",
    "        self.pos = [movex, movey]\n",
    "        print \"Your new position is {} \".format([self.pos])\n",
    "        \n",
    "    def get_distance(self, other):\n",
    "        dist = math.sqrt((self.x - other.x)**2 + (self.y - other.y)**2) \n",
    "        print \"Current distance before Rocket collision: {} lightyears\".format(dist)\n",
    "                 \n",
    "    \n",
    "    \n",
    "    \n",
    "\n",
    "       \n",
    "class Shuttle(Rocket):\n",
    "    \n",
    "       def __init__(self, max_flights, space_walk_capability, ISS_missions_completed):\n",
    "            self.max_flights, self.space_walk_capability, self.ISS_missions_completed = max_flights, space_walk_capability, ISS_missions_completed\n",
    "        \n",
    "       def dock_ISS(self):\n",
    "            print \"Shuttle is initiating dock procedure with the ISS\"\n",
    "        \n",
    "       # maximum number of flights, capability of supporting spacewalks, and capability of docking with the ISS.\n",
    "        \n",
    "       \n",
    "r1 = Rocket(1,1)  \n",
    "r1.move_rocket(1,2)\n",
    "r2 = Rocket(5,1) \n",
    "r2.get_distance(r1)\n",
    "s1 = Shuttle(5, \"yes\", 5) \n",
    "s1.dock_ISS()"
   ]
  },
  {
   "cell_type": "markdown",
   "metadata": {},
   "source": [
    "### Linear Algebra Review\n",
    "\n",
    "Exercise: Read through and review [Stanford's Linear Algebra Review](http://cs229.stanford.edu/section/cs229-linalg.pdf) \n",
    "\n",
    "\n",
    "Exercise : Go through videos : \n",
    "[Chapter 7 ,Chapter 9 , Chapter 10 , Chapter 11](https://www.youtube.com/playlist?list=PLZHQObOWTQDPD3MizzM2xVFitgF8hE_ab) and try to derive the algorithmic complexity of each vector and matrix operation. \n"
   ]
  },
  {
   "cell_type": "code",
   "execution_count": null,
   "metadata": {
    "collapsed": true
   },
   "outputs": [],
   "source": []
  }
 ],
 "metadata": {
  "anaconda-cloud": {},
  "kernelspec": {
   "display_name": "Python 2",
   "language": "python",
   "name": "python2"
  },
  "language_info": {
   "codemirror_mode": {
    "name": "ipython",
    "version": 2
   },
   "file_extension": ".py",
   "mimetype": "text/x-python",
   "name": "python",
   "nbconvert_exporter": "python",
   "pygments_lexer": "ipython2",
   "version": "2.7.12"
  }
 },
 "nbformat": 4,
 "nbformat_minor": 1
}
