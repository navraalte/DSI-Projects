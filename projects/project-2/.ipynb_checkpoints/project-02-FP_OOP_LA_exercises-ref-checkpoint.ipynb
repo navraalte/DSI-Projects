{
 "cells": [
  {
   "cell_type": "markdown",
   "metadata": {},
   "source": [
    "## Functional & Object Oriented Programming "
   ]
  },
  {
   "cell_type": "markdown",
   "metadata": {},
   "source": [
    "### Functional Programming in Python\n",
    "In class, we briefly explored the Functional Programming in Python through lambda functions, map, filter, iterators, generators, and deocrators. This note will review those ideas. "
   ]
  },
  {
   "cell_type": "markdown",
   "metadata": {},
   "source": [
    "#### Lambda Functions \n"
   ]
  },
  {
   "cell_type": "markdown",
   "metadata": {},
   "source": [
    "Exercise : For this exercise solve the following problem on Hackerrank and post your solution in the cell below\n",
    "\n",
    "[Validating Email addresses with a Filter](https://www.hackerrank.com/contests/pythonista-practice-session/challenges/validate-list-of-email-address-with-filter)\n"
   ]
  },
  {
   "cell_type": "code",
   "execution_count": 1,
   "metadata": {
    "collapsed": true
   },
   "outputs": [],
   "source": [
    "#solution separating username, domain and extension into three components, making sure they all exist and then returning the onces that meet \n",
    "#alpha numeric requirements\n",
    "def fun(s):\n",
    "    # return True if s is a valid email, else return False\n",
    "    try:\n",
    "        username = s[:s.index('@')]\n",
    "        domain = s[s.index('@')+1: s.index('.')]\n",
    "        ext = s[s.index('.')+1:]\n",
    "    except ValueError as e:\n",
    "        return False\n",
    "    if any(map(lambda x: len(x) == 0, [username, domain, ext])):\n",
    "        return False\n",
    "    return all([username == filter(lambda c: c.isalnum() or c in '-_', username), 1<= len(ext) <=3, domain == filter(lambda ch: ch.isalnum(), domain)])"
   ]
  },
  {
   "cell_type": "code",
   "execution_count": 2,
   "metadata": {
    "collapsed": true
   },
   "outputs": [],
   "source": [
    "import re\n",
    "\n",
    "def fun2(s):\n",
    "    valid = re.match(r'[\\W-]+@[a-zA-Z0-9]+\\.[a-zA-Z]{1,3}$',s)\n",
    "    return valid"
   ]
  },
  {
   "cell_type": "markdown",
   "metadata": {},
   "source": [
    "#### Generators\n",
    "\n",
    "Exercise :\n",
    "Write a infinite generator that successively yields the triangle numbers 0, 1, 3, 6, 10, ...\n",
    "\n",
    "[Triangle Numbers](https://en.wikipedia.org/wiki/Triangular_number)"
   ]
  },
  {
   "cell_type": "code",
   "execution_count": 3,
   "metadata": {
    "collapsed": true
   },
   "outputs": [],
   "source": [
    "### Generators\n",
    "\"\"\"\n",
    "Exercise :\n",
    "Write a infinite generator that successively yields the triangle numbers 0, 1, 3, 6, 10, ...\n",
    "\n",
    "Triangle Numbers : https://en.wikipedia.org/wiki/Triangular_number\n",
    "\"\"\"\n",
    "def generate_triangles():\n",
    "    i = 1\n",
    "    tri_num = 0\n",
    "    while True:\n",
    "        yield tri_num\n",
    "        tri_num += i\n",
    "        i += 1\n",
    "inf_tri = generate_triangles()"
   ]
  },
  {
   "cell_type": "code",
   "execution_count": 4,
   "metadata": {},
   "outputs": [
    {
     "name": "stdout",
     "output_type": "stream",
     "text": [
      "0\n"
     ]
    }
   ],
   "source": [
    "print inf_tri.next()"
   ]
  },
  {
   "cell_type": "code",
   "execution_count": 5,
   "metadata": {
    "collapsed": true
   },
   "outputs": [],
   "source": [
    "\"\"\"\n",
    "Use your generator to write a function triangles_under(n) that prints out all triangle\n",
    "numbers strictly less than the parameter n.\n",
    "\n",
    "\"\"\"\n",
    "def triangles_under(n):\n",
    "    i = 1\n",
    "    tri_num = 0\n",
    "    while tri_num < n:\n",
    "        yield tri_num\n",
    "        tri_num += i\n",
    "        i += 1\n",
    "        \n",
    "tri_under_100 = triangles_under(100)"
   ]
  },
  {
   "cell_type": "code",
   "execution_count": 6,
   "metadata": {},
   "outputs": [
    {
     "name": "stdout",
     "output_type": "stream",
     "text": [
      "0\n"
     ]
    }
   ],
   "source": [
    "print tri_under_100.next()"
   ]
  },
  {
   "cell_type": "markdown",
   "metadata": {},
   "source": [
    "#### Decorators \n",
    "Exercise : Standardize Mobile Numbers using Decorators\n",
    "\n",
    "Make a list of the mobile numbers and pass it to a function that sorts the array \n",
    "in ascending order. Make a decorator that standardizes the mobile numbers and \n",
    "apply it to the function.\n",
    "\n",
    "Input : Take a list of mobile numbers. Sort them in ascending order then print them in \n",
    "the standard format shown below:\n",
    "    \n",
    "    +1 xxx xxx xxxx\n",
    "\n",
    "The given mobile numbers may have +1, 1 or 0 written before the actual digit number. \n",
    "Alternatively, there may not be any prefix at all. \n",
    "\n",
    "Sample Input : \n",
    "    06502505121\n",
    "    +19658764040\n",
    "\n",
    "Sample output :\n",
    "    +1 650 250 5121\n",
    "    +1 965 876 4040\n"
   ]
  },
  {
   "cell_type": "code",
   "execution_count": 7,
   "metadata": {
    "collapsed": true
   },
   "outputs": [],
   "source": [
    "#Write code here\n",
    "def wrapper(f):\n",
    "    def fun(l):\n",
    "        # complete the function\n",
    "        f([\"+1 {} {} {}\".format(n[-10:-7], n[-7:-4], n[-4:])for n in l])\n",
    "    return fun"
   ]
  },
  {
   "cell_type": "code",
   "execution_count": 8,
   "metadata": {},
   "outputs": [
    {
     "name": "stdout",
     "output_type": "stream",
     "text": [
      "['+1 650 223 3988', '+1 650 250 5121', '+1 965 876 4040']\n"
     ]
    }
   ],
   "source": [
    "@wrapper\n",
    "def sort_phone(l):\n",
    "    print (sorted(l))\n",
    "\n",
    "sort_phone(['06502505121', '+19658764040', '+16502233988'])"
   ]
  },
  {
   "cell_type": "markdown",
   "metadata": {},
   "source": [
    "### Object Oriented Programming in Python"
   ]
  },
  {
   "cell_type": "markdown",
   "metadata": {},
   "source": [
    "#### Exercise 1: "
   ]
  },
  {
   "cell_type": "code",
   "execution_count": 4,
   "metadata": {},
   "outputs": [
    {
     "name": "stdout",
     "output_type": "stream",
     "text": [
      "Yes!\n"
     ]
    },
    {
     "data": {
      "text/plain": [
       "1000"
      ]
     },
     "execution_count": 4,
     "metadata": {},
     "output_type": "execute_result"
    }
   ],
   "source": [
    "# Before compiling the following code snippets, write down what\n",
    "# each individual call will return in an inline comment. \n",
    "# If you think it returns an error, why would it be the case. \n",
    " \n",
    "\n",
    "class Account(object):\n",
    "    interest = 0.02\n",
    "    def __init__(self, account_holder):\n",
    "        self.balance = 0\n",
    "        self.holder = account_holder\n",
    "    def deposit(self, amount):\n",
    "        self.balance = self.balance + amount\n",
    "        print(\"Yes!\")\n",
    "\n",
    "a = Account(\"Billy\") # a will hae an account holder named Billy\n",
    "\n",
    "a.account_holder #error as a has no attribute account_holter\n",
    "\n",
    "\n",
    "\n",
    "Account.holder #Return error because no attribute holder. account has not been instantiated\n",
    "\n",
    "\n",
    "Account.interest #return global variable interest 0.02\n",
    "#______\n",
    "\n",
    "a.interest # return GV 0.02\n",
    "#______\n",
    "\n",
    "Account.interest = 0.03 #Changes GV\n",
    "a.interest  # return 0.03\n",
    "#______\n",
    "\n",
    "a.deposit(1000) #will deposit $1000 into Billy's acoount balance and print yes!\n",
    "#______\n",
    "\n",
    "a.balance  #will show $1000\n",
    "#______"
   ]
  },
  {
   "cell_type": "markdown",
   "metadata": {},
   "source": [
    "#### Exercise 2: Timed Key Value Store \n",
    "\n",
    "At a high-level, we'll be building a key-value store (think Dictionary or HashMap) that has a get method that takes an optional second parameter as a time object in Python to return the most recent value before that period in time. If no key-value pair was added to the map before that period in time, return None.\n",
    "\n",
    "For consistency’s sake, let’s call this class TimedKVStore and put it into a file called kv_store.py\n",
    "\n",
    "You’ll need some sort of time object to track when key-value pairs are getting added to this map. Consider using the time module from Python Docs\n",
    "\n",
    "To give you an idea of how this class works, this is what should happen after you implement TimedKVStore.\n",
    "\n"
   ]
  },
  {
   "cell_type": "code",
   "execution_count": 118,
   "metadata": {},
   "outputs": [
    {
     "name": "stdout",
     "output_type": "stream",
     "text": [
      "None\n",
      "None\n",
      "1.1\n",
      "1\n",
      "None\n"
     ]
    }
   ],
   "source": [
    "import time\n",
    "\n",
    "d = TimedKVStore()\n",
    "\n",
    "t0 = time.time()\n",
    "print d.put(\"k1\", 1)\n",
    "\n",
    "t1 = time.time()\n",
    "print d.put(\"k1\", 1.1)\n",
    "\n",
    "print d.get(\"k1\")\n",
    "#Output : 1.1\n",
    "        \n",
    "print d.get(\"k1\", t1)\n",
    "#Output : 1\n",
    "    \n",
    "print d.get(\"k1\", t0)\n",
    "#Output : None"
   ]
  },
  {
   "cell_type": "code",
   "execution_count": 106,
   "metadata": {},
   "outputs": [
    {
     "data": {
      "text/plain": [
       "{'key': 'k1',\n",
       " 'kv_dict': {'k1': [(1, 1495840114.516933), (1.1, 1495840114.516992)]},\n",
       " 'time': 1495840114.516992,\n",
       " 'time_key': ['k1'],\n",
       " 'val': 1.1}"
      ]
     },
     "execution_count": 106,
     "metadata": {},
     "output_type": "execute_result"
    }
   ],
   "source": [
    "d.__dict__"
   ]
  },
  {
   "cell_type": "code",
   "execution_count": 29,
   "metadata": {},
   "outputs": [
    {
     "data": {
      "text/plain": [
       "1495758076.359405"
      ]
     },
     "execution_count": 29,
     "metadata": {},
     "output_type": "execute_result"
    }
   ],
   "source": [
    "time.time()"
   ]
  },
  {
   "cell_type": "code",
   "execution_count": 30,
   "metadata": {
    "collapsed": true
   },
   "outputs": [],
   "source": [
    "d1 = TimedKVStore()"
   ]
  },
  {
   "cell_type": "code",
   "execution_count": 116,
   "metadata": {
    "collapsed": true
   },
   "outputs": [],
   "source": [
    "\n",
    "class TimedKVStore():\n",
    "    \n",
    "    \n",
    "    \n",
    "    def __init__(self):\n",
    "        self.kv_dict = {}\n",
    "        \n",
    "    \n",
    "    def get(self, key, time=None):\n",
    "        if time:\n",
    "            for item_value, item_time in self.kv_dict[key]:\n",
    "                if item_time < time:\n",
    "                    return item_value \n",
    "        else:\n",
    "            return self.kv_dict[key][-1][0]\n",
    "\n",
    "          \n",
    "            \n",
    "    \n",
    "    def put(self, key, val):\n",
    "        if key not in self.kv_dict:\n",
    "            self.kv_dict[key] = [(val, time.time())]\n",
    "        else:\n",
    "            self.kv_dict[key].append((val, time.time()))"
   ]
  },
  {
   "cell_type": "code",
   "execution_count": 107,
   "metadata": {
    "collapsed": true
   },
   "outputs": [],
   "source": [
    "if None:\n",
    "    print 1"
   ]
  },
  {
   "cell_type": "markdown",
   "metadata": {
    "collapsed": true
   },
   "source": [
    "#### Exercise 3 : \n",
    "For this problem you will be creating a class and apply OOP priciples to it. The problem is divided into two parts.\n",
    "\n",
    "#### 1. PART 1: \n",
    "* Define a Rocket() class.\n",
    "* Define the __init__() method. Let your __init__() method accept x and y values for the initial position of the rocket. Make sure the default behavior is to position the rocket at (0,0).\n",
    "* Define the move_rocket() method. The method should accept an amount to move (x,y)\n",
    "* Create a Rocket object. Move the rocket around, printing its position after each move.\n",
    "* Create a small fleet of rockets. Move several of them around, and print their final positions to prove that each rocket can move independently of the other rockets.\n",
    "* Define the get_distance() method. The method should accept a Rocket object, and calculate the distance between the current rocket and the rocket that is passed into the method.\n",
    "* Use the get_distance() method to print the distances between several of the rockets in your fleet.\n",
    "\n",
    "#### 2. PART 2 : Applying Inheritance\n",
    "* Define a class SpaceShuttle() which extends class Rocket()\n",
    "* Add more attributes that are particular to space shuttles such as maximum number of flights, capability of supporting spacewalks, and capability of docking with the ISS.\n",
    "* Add a method to the class, that relates to shuttle behavior. This method could simply print a statement, such as \"Docking with the ISS,\" for a dock_ISS() method.\n",
    "* Create a Shuttle object with these attributes, and then call your new method.\n",
    "\n",
    "Hints/Notes :\n",
    "* You can use the Euclidean distance to calculate the distances between different Rocket objects\n",
    "\n",
    "    - Euclidean distance((x, y), (a, b)) = √(x - a)² + (y - b)²\n",
    "\n"
   ]
  },
  {
   "cell_type": "code",
   "execution_count": 79,
   "metadata": {
    "collapsed": true
   },
   "outputs": [],
   "source": [
    "#Write code here \n",
    "import math\n",
    "\n",
    "class Rocket():\n",
    "    \n",
    "    def __init__(self, name, x=0, y=0):\n",
    "        self.name = name\n",
    "        self.x = x\n",
    "        self.y = y\n",
    "        \n",
    "    def move_rocket(self, x, y):\n",
    "        \"\"\"Sets new coordinates for the rocket\"\"\"\n",
    "        \n",
    "        self.x = x\n",
    "        self.y = y\n",
    "        print \"{} moved to the coordinates {}, {}\".format(self.name, self.x, self.y)\n",
    "        \n",
    "        \n",
    "    def __repr__(self):\n",
    "        return \"The rocket is at the coordinates {}, {}\".format(self.x, self.y)\n",
    "    \n",
    "    def get_last_pos(self):\n",
    "        print \"{} last recorded position was the coordinates {}, {}\".format(self.name, self.x, self.y)\n",
    "        \n",
    "    def get_distance(self, other_r):\n",
    "        return math.sqrt((self.x - other_r.x)**2 + (self.y - other_r.y) **2)\n",
    "    \n",
    "class SpaceShuttle(Rocket):\n",
    "    \n",
    "    def __init__(self, name, x=0, y=0, flights=25, spacewalk=False, doc=True):\n",
    "        Rocket.__init__(self, name, x, y)\n",
    "        self.flights = flights\n",
    "        self.spacewalk = spacewalk\n",
    "        self.doc = doc\n",
    "        \n",
    "    def doc_ISS(self):\n",
    "        if self.doc == True:\n",
    "            print \"You have docked to the ISS\"\n",
    "        else:\n",
    "            print \"{} does not have the proper equiptment to dock at ISS\".format(self.name)\n",
    "        \n"
   ]
  },
  {
   "cell_type": "code",
   "execution_count": 67,
   "metadata": {},
   "outputs": [
    {
     "name": "stdout",
     "output_type": "stream",
     "text": [
      "r1 moved to the coordinates 2, 5\n"
     ]
    }
   ],
   "source": [
    "r1 = Rocket('r1')\n",
    "r1.move_rocket(2,5)"
   ]
  },
  {
   "cell_type": "code",
   "execution_count": 68,
   "metadata": {
    "collapsed": true
   },
   "outputs": [],
   "source": [
    "r2 = Rocket('r2')\n",
    "r3 = Rocket('r3')\n",
    "r4 = Rocket('r4')"
   ]
  },
  {
   "cell_type": "code",
   "execution_count": 69,
   "metadata": {},
   "outputs": [
    {
     "name": "stdout",
     "output_type": "stream",
     "text": [
      "r1 moved to the coordinates 8, 9\n",
      "r2 moved to the coordinates 3, 5\n",
      "r3 moved to the coordinates 10, 3\n",
      "r4 moved to the coordinates 5, 7\n"
     ]
    }
   ],
   "source": [
    "r1.move_rocket(8,9)\n",
    "r2.move_rocket(3,5)\n",
    "r3.move_rocket(10,3)\n",
    "r4.move_rocket(5,7)"
   ]
  },
  {
   "cell_type": "code",
   "execution_count": 70,
   "metadata": {},
   "outputs": [
    {
     "name": "stdout",
     "output_type": "stream",
     "text": [
      "r1 last recorded position was the coordinates 8, 9\n",
      "r2 last recorded position was the coordinates 3, 5\n",
      "r3 last recorded position was the coordinates 10, 3\n",
      "r4 last recorded position was the coordinates 5, 7\n"
     ]
    }
   ],
   "source": [
    "r1.get_last_pos()\n",
    "r2.get_last_pos()\n",
    "r3.get_last_pos()\n",
    "r4.get_last_pos()"
   ]
  },
  {
   "cell_type": "code",
   "execution_count": 73,
   "metadata": {},
   "outputs": [
    {
     "name": "stdout",
     "output_type": "stream",
     "text": [
      "6.40312423743\n",
      "7.28010988928\n",
      "3.60555127546\n"
     ]
    }
   ],
   "source": [
    "print r1.get_distance(r2)\n",
    "print r2.get_distance(r3)\n",
    "print r4.get_distance(r1)"
   ]
  },
  {
   "cell_type": "code",
   "execution_count": 80,
   "metadata": {},
   "outputs": [
    {
     "name": "stdout",
     "output_type": "stream",
     "text": [
      "You have docked to the ISS\n"
     ]
    }
   ],
   "source": [
    "ss1 = SpaceShuttle('ss1')\n",
    "ss1.doc_ISS()"
   ]
  },
  {
   "cell_type": "markdown",
   "metadata": {},
   "source": [
    "### Linear Algebra Review\n",
    "\n",
    "Exercise: Read through and review [Stanford's Linear Algebra Review](http://cs229.stanford.edu/section/cs229-linalg.pdf) \n",
    "\n",
    "\n",
    "Exercise : Go through videos : \n",
    "[Chapter 7 ,Chapter 9 , Chapter 10 , Chapter 11](https://www.youtube.com/playlist?list=PLZHQObOWTQDPD3MizzM2xVFitgF8hE_ab) and try to derive the algorithmic complexity of each vector and matrix operation. \n"
   ]
  },
  {
   "cell_type": "code",
   "execution_count": null,
   "metadata": {
    "collapsed": true
   },
   "outputs": [],
   "source": []
  }
 ],
 "metadata": {
  "anaconda-cloud": {},
  "kernelspec": {
   "display_name": "Python 2",
   "language": "python",
   "name": "python2"
  },
  "language_info": {
   "codemirror_mode": {
    "name": "ipython",
    "version": 2
   },
   "file_extension": ".py",
   "mimetype": "text/x-python",
   "name": "python",
   "nbconvert_exporter": "python",
   "pygments_lexer": "ipython2",
   "version": "2.7.12"
  }
 },
 "nbformat": 4,
 "nbformat_minor": 1
}
