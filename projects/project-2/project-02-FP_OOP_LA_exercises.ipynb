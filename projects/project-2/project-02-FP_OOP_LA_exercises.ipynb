{
 "cells": [
  {
   "cell_type": "markdown",
   "metadata": {},
   "source": [
    "## Functional & Object Oriented Programming "
   ]
  },
  {
   "cell_type": "markdown",
   "metadata": {},
   "source": [
    "### Functional Programming in Python\n",
    "In class, we briefly explored the Functional Programming in Python through lambda functions, map, filter, iterators, generators, and deocrators. This note will review those ideas. "
   ]
  },
  {
   "cell_type": "markdown",
   "metadata": {},
   "source": [
    "#### Lambda Functions \n"
   ]
  },
  {
   "cell_type": "markdown",
   "metadata": {
    "collapsed": false
   },
   "source": [
    "Exercise : For this exercise solve the following problem on Hackerrank and post your solution in the cell below\n",
    "\n",
    "[Validating Email addresses with a Filter](https://www.hackerrank.com/contests/pythonista-practice-session/challenges/validate-list-of-email-address-with-filter)\n"
   ]
  },
  {
   "cell_type": "code",
   "execution_count": null,
   "metadata": {
    "collapsed": true
   },
   "outputs": [],
   "source": [
    "#Write code here"
   ]
  },
  {
   "cell_type": "markdown",
   "metadata": {},
   "source": [
    "#### Generators\n",
    "\n",
    "Exercise :\n",
    "Write a infinite generator that successively yields the triangle numbers 0, 1, 3, 6, 10, ...\n",
    "\n",
    "[Triangle Numbers](https://en.wikipedia.org/wiki/Triangular_number)"
   ]
  },
  {
   "cell_type": "code",
   "execution_count": 5,
   "metadata": {
    "collapsed": true
   },
   "outputs": [],
   "source": [
    "### Generators\n",
    "\"\"\"\n",
    "Exercise :\n",
    "Write a infinite generator that successively yields the triangle numbers 0, 1, 3, 6, 10, ...\n",
    "\n",
    "Triangle Numbers : https://en.wikipedia.org/wiki/Triangular_number\n",
    "\"\"\"\n",
    "def generate_triangles():\n",
    "    pass  # Your implementation here"
   ]
  },
  {
   "cell_type": "code",
   "execution_count": 6,
   "metadata": {
    "collapsed": true
   },
   "outputs": [],
   "source": [
    "\"\"\"\n",
    "Use your generator to write a function triangles_under(n) that prints out all triangle\n",
    "numbers strictly less than the parameter n.\n",
    "\n",
    "\"\"\"\n",
    "def triangles_under(n):\n",
    "    pass  # Write code here"
   ]
  },
  {
   "cell_type": "markdown",
   "metadata": {},
   "source": [
    "#### Decorators \n",
    "Exercise : Standardize Mobile Numbers using Decorators\n",
    "\n",
    "Make a list of the mobile numbers and pass it to a function that sorts the array \n",
    "in ascending order. Make a decorator that standardizes the mobile numbers and \n",
    "apply it to the function.\n",
    "\n",
    "Input : Take a list of mobile numbers. Sort them in ascending order then print them in \n",
    "the standard format shown below:\n",
    "    \n",
    "    +1 xxx xxx xxxx\n",
    "\n",
    "The given mobile numbers may have +1, 1 or 0 written before the actual digit number. \n",
    "Alternatively, there may not be any prefix at all. \n",
    "\n",
    "Sample Input : \n",
    "    06502505121\n",
    "    +19658764040\n",
    "\n",
    "Sample output :\n",
    "    +1 650 250 5121\n",
    "    +1 965 876 4040\n"
   ]
  },
  {
   "cell_type": "code",
   "execution_count": 4,
   "metadata": {
    "collapsed": true
   },
   "outputs": [],
   "source": [
    "#Write code here\n",
    "def wrapper(f):\n",
    "    def fun(l):\n",
    "        # complete the function\n",
    "    return fun"
   ]
  },
  {
   "cell_type": "markdown",
   "metadata": {},
   "source": [
    "### Object Oriented Programming in Python"
   ]
  },
  {
   "cell_type": "markdown",
   "metadata": {},
   "source": [
    "#### Exercise 1: "
   ]
  },
  {
   "cell_type": "code",
   "execution_count": 3,
   "metadata": {
    "collapsed": false
   },
   "outputs": [],
   "source": [
    "# Before compiling the following code snippets, write down what\n",
    "# each individual call will return in an inline comment. \n",
    "# If you think it returns an error, why would it be the case. \n",
    " \n",
    "\n",
    "class Account(object):\n",
    "    interest = 0.02\n",
    "    def __init__(self, account_holder):\n",
    "        self.balance = 0\n",
    "        self.holder = account_holder\n",
    "    def deposit(self, amount):\n",
    "        self.balance = self.balance + amount\n",
    "        print(\"Yes!\")\n",
    "\n",
    "a = Account(\"Billy\") #\n",
    "____________\n",
    "\n",
    "a.account_holder #\n",
    "\n",
    "____________\n",
    "\n",
    "Account.holder #\n",
    "______\n",
    "\n",
    "Account.interest #\n",
    "______\n",
    "\n",
    "a.interest #\n",
    "______\n",
    "\n",
    "Account.interest = 0.03 \n",
    "a.interest  #\n",
    "______\n",
    "\n",
    "a.deposit(1000) #\n",
    "______\n",
    "\n",
    "a.balance  #\n",
    "______"
   ]
  },
  {
   "cell_type": "markdown",
   "metadata": {},
   "source": [
    "#### Exercise 2: Timed Key Value Store \n",
    "\n",
    "At a high-level, we'll be building a key-value store (think Dictionary or HashMap) that has a get method that takes an optional second parameter as a time object in Python to return the most recent value before that period in time. If no key-value pair was added to the map before that period in time, return None.\n",
    "\n",
    "For consistency’s sake, let’s call this class TimedKVStore and put it into a file called kv_store.py\n",
    "\n",
    "You’ll need some sort of time object to track when key-value pairs are getting added to this map. Consider using the time module from Python Docs\n",
    "\n",
    "To give you an idea of how this class works, this is what should happen after you implement TimedKVStore.\n",
    "\n"
   ]
  },
  {
   "cell_type": "code",
   "execution_count": null,
   "metadata": {
    "collapsed": true
   },
   "outputs": [],
   "source": [
    "d = TimedKVStore()\n",
    "\n",
    "t0 = time.time()\n",
    "d.put(\"1\", 1)\n",
    "\n",
    "t1 = time.time()\n",
    "d.put(\"1\", 1.1)\n",
    "\n",
    "d.get(\"1\")\n",
    "#Output : 1.1\n",
    "        \n",
    "d.get(\"1\", t1)\n",
    "#Output : 1\n",
    "    \n",
    "d.get(\"1\", t0)\n",
    "#Output : None"
   ]
  },
  {
   "cell_type": "code",
   "execution_count": null,
   "metadata": {
    "collapsed": true
   },
   "outputs": [],
   "source": [
    "#Write code here"
   ]
  },
  {
   "cell_type": "markdown",
   "metadata": {
    "collapsed": true
   },
   "source": [
    "#### Exercise 3 : \n",
    "For this problem you will be creating a class and apply OOP priciples to it. The problem is divided into two parts.\n",
    "\n",
    "#### 1. PART 1: \n",
    "* Define a Rocket() class.\n",
    "* Define the __init__() method. Let your __init__() method accept x and y values for the initial position of the rocket. Make sure the default behavior is to position the rocket at (0,0).\n",
    "* Define the move_rocket() method. The method should accept an amount to move (x,y)\n",
    "* Create a Rocket object. Move the rocket around, printing its position after each move.\n",
    "* Create a small fleet of rockets. Move several of them around, and print their final positions to prove that each rocket can move independently of the other rockets.\n",
    "* Define the get_distance() method. The method should accept a Rocket object, and calculate the distance between the current rocket and the rocket that is passed into the method.\n",
    "* Use the get_distance() method to print the distances between several of the rockets in your fleet.\n",
    "\n",
    "#### 2. PART 2 : Applying Inheritance\n",
    "* Define a class SpaceShuttle() which extends class Rocket()\n",
    "* Add more attributes that are particular to space shuttles such as maximum number of flights, capability of supporting spacewalks, and capability of docking with the ISS.\n",
    "* Add a method to the class, that relates to shuttle behavior. This method could simply print a statement, such as \"Docking with the ISS,\" for a dock_ISS() method.\n",
    "* Create a Shuttle object with these attributes, and then call your new method.\n",
    "\n",
    "Hints/Notes :\n",
    "* You can use the Euclidean distance to calculate the distances between different Rocket objects\n",
    "\n",
    "    - Euclidean distance((x, y), (a, b)) = √(x - a)² + (y - b)²\n",
    "\n"
   ]
  },
  {
   "cell_type": "code",
   "execution_count": null,
   "metadata": {
    "collapsed": true
   },
   "outputs": [],
   "source": [
    "#Write code here "
   ]
  },
  {
   "cell_type": "markdown",
   "metadata": {},
   "source": [
    "### Linear Algebra Review\n",
    "\n",
    "Exercise: Read through and review [Stanford's Linear Algebra Review](http://cs229.stanford.edu/section/cs229-linalg.pdf) \n",
    "\n",
    "\n",
    "Exercise : Go through videos : \n",
    "[Chapter 7 ,Chapter 9 , Chapter 10 , Chapter 11](https://www.youtube.com/playlist?list=PLZHQObOWTQDPD3MizzM2xVFitgF8hE_ab) and try to derive the algorithmic complexity of each vector and matrix operation. \n"
   ]
  },
  {
   "cell_type": "code",
   "execution_count": null,
   "metadata": {
    "collapsed": true
   },
   "outputs": [],
   "source": []
  }
 ],
 "metadata": {
  "anaconda-cloud": {},
  "kernelspec": {
   "display_name": "Python [dsi]",
   "language": "python",
   "name": "Python [dsi]"
  },
  "language_info": {
   "codemirror_mode": {
    "name": "ipython",
    "version": 2
   },
   "file_extension": ".py",
   "mimetype": "text/x-python",
   "name": "python",
   "nbconvert_exporter": "python",
   "pygments_lexer": "ipython2",
   "version": "2.7.12"
  }
 },
 "nbformat": 4,
 "nbformat_minor": 1
}
