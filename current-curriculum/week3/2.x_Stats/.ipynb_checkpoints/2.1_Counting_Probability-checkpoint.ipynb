{
 "cells": [
  {
   "cell_type": "markdown",
   "metadata": {},
   "source": [
    "<img src=\"https://ga-dash.s3.amazonaws.com/production/assets/logo-9f88ae6c9c3871690e33280fcf557f33.png\" style=\"float: left; margin: 15px;\">\n",
    "### Counting and Probability\n",
    "\n",
    "Week 3 | Lesson 2.1\n",
    "\n",
    "---\n",
    "| TIMING  | TYPE  \n",
    "|:-:|---|---|\n",
    "| 25 min| [Review: Linear Algebra](#review) |\n",
    "| 10 min| [Counting](#counting) |\n",
    "| 45 min| [Counting Lab](#counting_lab) |\n",
    "| 20 min| [Probability](#probability) |\n",
    "| 20 min| [Probability Lab](#probability_lab) |\n",
    "\n",
    "---\n",
    "\n",
    "### LEARNING OBJECTIVES\n",
    "*After this lesson, you will be able to:*\n",
    "- Solve counting problems using permutations and combinations \n",
    "- Tame uncertainty with classical, frequentist, and bayesian probability \n",
    "\n",
    "### STUDENT PRE-WORK\n",
    "*Before this lesson, you should already be able to:*\n",
    "- Be able to code basic python syntax\n",
    "- Be comfortable using packages\n",
    "\n",
    "### INSTRUCTOR PREP\n",
    "*Before this lesson, instructors will need to:*\n",
    "- Review Learning Objectives \n",
    "- Review problems discussed during lesson"
   ]
  },
  {
   "cell_type": "markdown",
   "metadata": {},
   "source": [
    "---\n",
    "<a name=\"review\"></a>\n",
    "### Review:  \n",
    "<a href=https://docs.google.com/presentation/d/1BV3IZdDuuPWtd1BwFgiKC_MZ54A-cxMOgt82GZWvmo4/edit> Linear Algebra for ML </a>\n",
    "\n",
    "<a href=http://math.arizona.edu/~brio/VIGRE/ThursdayTalk.pdf> Application of SVD to Image Compression </a>"
   ]
  },
  {
   "cell_type": "markdown",
   "metadata": {},
   "source": [
    "---\n",
    "<a name=\"counting\"> </a>\n",
    "\n",
    "### The Counting Principle\n",
    "\n",
    "---\n",
    "\n",
    "The counting principal says that:\n",
    "\n",
    "If $A$ can occur in $n$ ways \n",
    "\n",
    "and $B$ can occur in $m$ ways\n",
    "\n",
    "then $A$ and $B$ can occur in $n * m$ ways.\n",
    "\n",
    "Counting is a fundamental component of probability. From counting, we can start to examine combinations and permutations of events and their associated probabilties."
   ]
  },
  {
   "cell_type": "markdown",
   "metadata": {},
   "source": [
    "**Q: If you have two groups of students, 10 freshman and 11 sophmores, how many teams of 2 can be formed that include one member from each class?**"
   ]
  },
  {
   "cell_type": "code",
   "execution_count": 1,
   "metadata": {
    "collapsed": true
   },
   "outputs": [],
   "source": [
    "#A: "
   ]
  },
  {
   "cell_type": "markdown",
   "metadata": {},
   "source": [
    "**Q: How many ways can we award 1st, 2nd, and 3rd prize among eight contestants? **\n",
    "\n",
    "<img src=https://betterexplained.com/wp-content/uploads/math/permuations/permuation_medals.png>"
   ]
  },
  {
   "cell_type": "markdown",
   "metadata": {},
   "source": [
    "### The factorial function\n",
    "\n",
    "---\n",
    "\n",
    "The factorial function is defined as: \n",
    "\n",
    "### $$ n! = n \\cdot (n-1) \\cdot (n-2) \\; ... \\; (n-1) $$\n",
    "\n",
    "This is an important part of permutations. When $n = k$, permutations of $n$ in $k$ arrangements is equivalent to $n!$\n",
    "\n",
    "The permutation function can be rewritten using factorials:\n",
    "\n",
    "### $$  \\text{permutations}(n, k) = \\frac{n!}{(n-k)!} $$"
   ]
  },
  {
   "cell_type": "code",
   "execution_count": null,
   "metadata": {
    "collapsed": true
   },
   "outputs": [],
   "source": [
    "#A: "
   ]
  },
  {
   "cell_type": "markdown",
   "metadata": {},
   "source": [
    "**Q: If there are 9 players on a baseball team, how many possible permutations are there for the first three players in the batting lineup?**"
   ]
  },
  {
   "cell_type": "code",
   "execution_count": 2,
   "metadata": {
    "collapsed": true
   },
   "outputs": [],
   "source": [
    "from math import factorial\n",
    "\n",
    "# A:"
   ]
  },
  {
   "cell_type": "markdown",
   "metadata": {},
   "source": [
    "**Q: Code the factorial function.**\n",
    "\n",
    "Try writing a function that will compute the factorial of a number."
   ]
  },
  {
   "cell_type": "code",
   "execution_count": 3,
   "metadata": {
    "collapsed": true
   },
   "outputs": [],
   "source": [
    "#A: "
   ]
  },
  {
   "cell_type": "markdown",
   "metadata": {},
   "source": [
    "<a id='permutation'></a>\n",
    "\n",
    "### Permutations\n",
    "\n",
    "---\n",
    "\n",
    "Permutations ask \"How many different ways can a subset be generated from a set. An example of this type of question is:\n",
    "\n",
    "- \"How many distinct groups of three students can I make from a class of 6?\"\n",
    "\n",
    "This assumes that the **order matters** because we want distinct groups!\n",
    "\n",
    "A permutation is an arragement of objects where the order is important. The permutations of a set of items or events are the total number of order-dependent arrangements possible.\n",
    "\n",
    "Given a set of items of size $n$ and arrangements of length $k$, the permutations are calculated like so:\n",
    "\n",
    "### $$ \\text{permutations}(n, k) = n \\cdot (n - 1) \\cdot (n - 2) \\; ... \\; (n - k + 1)$$\n",
    "\n",
    "which is 0 when $k > n$\n",
    "\n",
    "This can be generalized out to the following equation for **permutation without replacement**:\n",
    "\n",
    "$$ P(n, k) = \\frac{n!}{(n - k)!} $$\n",
    "\n",
    "Let's assume that we have six wonderful students in our class:\n",
    "\n",
    "- George Washington\n",
    "- John Adams\n",
    "- Thomas Jefferson\n",
    "- James Madison\n",
    "- James Monroe\n",
    "- John Quincy Adams\n",
    "\n",
    "We want to give out 10 points of extra credit to one student, 5 points to the next, and 1 point to a third student. We want a permutation of these students!\n",
    "\n",
    "Every time we take out a person, we can't choose them a second time. That means that our full set of choices is $6!$. First we have 6 choices, then 5 choices, then 4 choices, etc.\n",
    "\n",
    "However, we just want to make 3 choices every time we try -- we can represent this as $3!$. This gives us $6!$/$3!$\n",
    "\n",
    "What we want is something that equates to $6 \\cdot 5 \\cdot 4$ -- first we choose from 6 things, then we choose from 5 things, then we choose from 4 things.\n"
   ]
  },
  {
   "cell_type": "markdown",
   "metadata": {},
   "source": [
    "**Q: There are 5 qualified candidates to fill 3 positions.  How many ways can the roles be filled, assuming only one person is hired for each position?**"
   ]
  },
  {
   "cell_type": "code",
   "execution_count": 4,
   "metadata": {
    "collapsed": true
   },
   "outputs": [],
   "source": [
    "# A:"
   ]
  },
  {
   "cell_type": "markdown",
   "metadata": {},
   "source": [
    "<a id='combination'></a>\n",
    "\n",
    "### Combinations\n",
    "\n",
    "---\n",
    "\n",
    "Like permutations, combinations are arrangements of objects. However, with combinations, the order of objects does not matter.\n",
    "\n",
    "Given a set of items of size $n$ and arrangements of length $k$, the combinations are calculated like so:\n",
    "\n",
    "### $$ \\text{combinations}(n, k) = \\frac{ \\text{permutations}(n,k) }{ \\text{permutations}(k, k) } = \\frac{n!}{(n-k)!k!}$$\n",
    "\n",
    "You'll _also_ see this referred to as the binomial coefficient and written as:\n",
    "\n",
    "$$ \\binom{n}{k}$$\n",
    "\n",
    "which is read n choose k or, from a group of n choose a group of k!\n",
    "\n",
    "An intuitive way to think about this is that we take the number of permutations, then we divide that by the number of possible orderings we could have in the available slots $k$."
   ]
  },
  {
   "cell_type": "markdown",
   "metadata": {},
   "source": [
    "### With Replacement\n",
    "\n",
    "The examples above assume that there once we've chosen something, it's gone for good. That's sometimes not the case! Sometimes we choose something and then put it back and choose again.\n",
    "\n",
    "For permutation with replacement, we represent that as:\n",
    "\n",
    "$$ P^R(n, k) = n^k $$\n",
    "\n",
    "We want all the different possibilities that we can make $k$ draws out of $n$ -- you can imagine it like $6 \\cdot 6 \\cdot 6$ (which is, of course, $6^3$).\n",
    "\n",
    "If we were replacing the students back and assigning students some extra credit, we'd have 216 different permutations of students.\n",
    "\n",
    "For combinations with replacement, we represent that as:\n",
    "\n",
    "$$ C^R(n, k) = \\frac{(n + r -1)!}{r! (n-1)!}$$\n",
    "\n",
    "If we wanted to know how many different ways we could group 3 students together _including replacing them_, we would have $56$ different groups (including one of \"Washington, Washington, Washington\")"
   ]
  },
  {
   "cell_type": "markdown",
   "metadata": {},
   "source": [
    "**Q: How many possible five-card hands are there with a deck of 52 cards?**"
   ]
  },
  {
   "cell_type": "code",
   "execution_count": 5,
   "metadata": {
    "collapsed": true
   },
   "outputs": [],
   "source": [
    "#A: "
   ]
  },
  {
   "cell_type": "markdown",
   "metadata": {},
   "source": [
    "---\n",
    "### **Counting Practice Problems (60 Minutes)**\n",
    "<a name=\"counting_lab\"></a>"
   ]
  },
  {
   "cell_type": "markdown",
   "metadata": {},
   "source": [
    "<a id='practice'></a>\n",
    "\n",
    "### Practice Problems with Counting, Permutations, and Combinations\n",
    "\n",
    "---\n",
    "\n",
    "A restaurant has 22 employees, including:\n",
    "\n",
    "- Six chefs\n",
    "- Five waiters\n",
    "- Seven busboys \n",
    "\n",
    "The owner has requested a few things from you, the manager:\n",
    "\n",
    "1. A private party is coming on Tuesday and wants to know how many teams of one chef and two waiters can be formed.\n",
    "- Each busboy works just one day of the week. The owner wants to know how many different versions of the weekly busboy assignments are possible.\n",
    "- He wants his favorite waiter to serve him and his wife for their anniversary on Sunday, along with two other waiters. How many teams of three waiters can serve him?"
   ]
  },
  {
   "cell_type": "code",
   "execution_count": null,
   "metadata": {
    "collapsed": true
   },
   "outputs": [],
   "source": [
    "#A.1"
   ]
  },
  {
   "cell_type": "code",
   "execution_count": null,
   "metadata": {
    "collapsed": true
   },
   "outputs": [],
   "source": [
    "#A.2"
   ]
  },
  {
   "cell_type": "code",
   "execution_count": null,
   "metadata": {
    "collapsed": true
   },
   "outputs": [],
   "source": [
    "#A.3"
   ]
  },
  {
   "cell_type": "markdown",
   "metadata": {},
   "source": [
    "**Question:** How many ways can you split 12 people into 3 teams of 4?"
   ]
  },
  {
   "cell_type": "code",
   "execution_count": 24,
   "metadata": {
    "collapsed": true
   },
   "outputs": [],
   "source": [
    "#A:"
   ]
  },
  {
   "cell_type": "markdown",
   "metadata": {},
   "source": [
    "#### Distinguishable urns and indistinguishable balls\n",
    "\n",
    "---\n",
    "\n",
    "Now, our three urns are still labeled, but the balls are indistinguishable; there is no way to tell them apart in arrangements. We can only tell arrangements apart by how many balls are in each labeled urn.\n",
    "\n",
    "Imagine our balls are represented by the character `o`. We also have \"separator\" character `|` that divides the balls between urns. So, if all balls were in the first urn, it would look like this:\n",
    "\n",
    "    'oo||'\n",
    "    \n",
    "Or, if one ball was in the first and one was in the second:\n",
    "    \n",
    "    'o|o|'\n",
    "    \n",
    "Or, if one was in the first and one was in the third:\n",
    "\n",
    "    'o||o'\n",
    "    \n",
    "To find all the distinct arrangements of the two indistinguishable balls among the three distinguishable urns, we need to find all the combinations of the separators in the string, or `comb(4, 2)`.\n",
    "\n",
    "The general formula for the arrangements of $n$ indistinguishable items among $k$ distinguishable places is:\n",
    "\n",
    "### $$ \\text{combinations}(n+k-1, k-1)$$\n"
   ]
  },
  {
   "cell_type": "markdown",
   "metadata": {},
   "source": [
    "**Q: Suppose you have a game in which you can toss a ball and it will land in one of five buckets.**\n",
    "\n",
    "**You toss two balls and they each land in a bucket. If the balls are indistinguishable from each other, how many different outcomes (distributions of balls in buckets) are possible?**\n",
    "\n",
    "\n",
    "\n",
    "    1.|BB |  2.|   |  3.|   |  4.|   |  5.|   |\n",
    "    1.|   |  2.|BB |  3.|   |  4.|   |  5.|   |\n",
    "    1.|   |  2.|   |  3.|BB |  4.|   |  5.|   |\n",
    "    1.|   |  2.|   |  3.|   |  4.|BB |  5.|   |\n",
    "    1.|   |  2.|   |  3.|   |  4.|   |  5.|BB |\n",
    "    1.|B  |  2.|B  |  3.|   |  4.|   |  5.|   |\n",
    "    1.|B  |  2.|   |  3.|B  |  4.|   |  5.|   |\n",
    "    1.|B  |  2.|   |  3.|   |  4.|B  |  5.|   |\n",
    "    1.|B  |  2.|   |  3.|   |  4.|   |  5.|B  |\n",
    "    1.|   |  2.|B  |  3.|B  |  4.|   |  5.|   |\n",
    "    1.|   |  2.|B  |  3.|   |  4.|B  |  5.|   |\n",
    "    1.|   |  2.|B  |  3.|   |  4.|   |  5.|B  |\n",
    "    1.|   |  2.|   |  3.|B  |  4.|B  |  5.|   |\n",
    "    1.|   |  2.|   |  3.|B  |  4.|   |  5.|B  |\n",
    "    1.|   |  2.|   |  3.|   |  4.|B  |  5.|B  |\n",
    "    "
   ]
  },
  {
   "cell_type": "code",
   "execution_count": null,
   "metadata": {
    "collapsed": true
   },
   "outputs": [],
   "source": [
    "#A:"
   ]
  },
  {
   "cell_type": "markdown",
   "metadata": {},
   "source": [
    "**Q: How many solutions are there to this formula:**\n",
    "\n",
    "$X_1 + X_2 + X_3 + X_4 = 15$\n",
    "\n",
    "What about when the order of numbers matters?"
   ]
  },
  {
   "cell_type": "code",
   "execution_count": null,
   "metadata": {
    "collapsed": true
   },
   "outputs": [],
   "source": []
  },
  {
   "cell_type": "markdown",
   "metadata": {},
   "source": [
    "The balls are indistinguishable (just because $X_1$ is three doesn't mean there are three versions, or, in other words, $1$ is indistinguishable from another $1$ in $1+1+1$)."
   ]
  },
  {
   "cell_type": "code",
   "execution_count": 8,
   "metadata": {
    "collapsed": true
   },
   "outputs": [],
   "source": [
    "#A: "
   ]
  },
  {
   "cell_type": "markdown",
   "metadata": {},
   "source": [
    "**Q: Hackerank: <a href=https://www.hackerrank.com/challenges/choose-and-calculate> Choose and Calculate </a> **"
   ]
  },
  {
   "cell_type": "markdown",
   "metadata": {},
   "source": [
    "**Q: Hackerank: <a href=https://www.hackerrank.com/challenges/permutation-problem> Permutations </a> **"
   ]
  },
  {
   "cell_type": "markdown",
   "metadata": {},
   "source": [
    "---\n",
    "### **Probability**\n",
    "<a name=\"probability\"></a>\n",
    "\n",
    "Probability is the mathematical framework for representing **uncertainty in the world.** It provides a means of quantifying uncertainty and axioms for deriving new uncertain statements. There are three possible sources of uncertainty (Deep Learning Book, Bengio et al.): \n",
    "\n",
    "1. **Stochasticity in the System Modeled**: Examples include behaviors of subatomic particles in quantum mechanics, card games where we assume shuffling has been truly random.\n",
    "\n",
    "2. **Incomplete Observability**: Some systems can appear random if we can't observe everything. Examples are: Monty Hall Problem, Donald Trump's tweets. \n",
    "\n",
    "3. **Incomplete Modeling**: When we discard some information during modeling which results in uncertain predictions. Examples include: Uber Pick up locations, Rumba Robots. "
   ]
  },
  {
   "cell_type": "markdown",
   "metadata": {},
   "source": [
    "### Probability Axioms\n",
    "\n",
    "---\n",
    "\n",
    "**First Axiom**\n",
    "\n",
    "Probabilities are non-negative, real numbers. The lowest probability possible is zero, and probability cannot be infinite.\n",
    "\n",
    "**Second Axiom**\n",
    "\n",
    "The probability of the sample space $S$ of events is one:\n",
    "\n",
    "### $$ P(S) = 1 $$\n",
    "\n",
    "**Third Axiom**\n",
    "\n",
    "The probability of two _mutually exclusive_ events, here denoted $E_1$ and $E_2$, is equal to the sum of their individual probabilities:\n",
    "\n",
    "### $$ P(E_1 \\cup E_2) = P(E_1) + P(E_2) $$\n",
    "\n",
    "This is also known as additivity. Hence, if $E_1$ and $E_2$ are complements, then: $$ 1 = P(S) = P(E_1) + P(E_2) = P(E) + P(E^c)$$. This leads to: \n",
    "$$ P(E^c) = 1 - P(E) $$.\n",
    "\n",
    "This axiom can be understoon as say \"the probability of either event E_1 or event E_2 occuring is the same as the probability of both occuring.\""
   ]
  },
  {
   "cell_type": "markdown",
   "metadata": {},
   "source": [
    "### Random Variables\n",
    "\n",
    "A random variable (usually denoted as **X** ) is a variable that is assigned a random value. In other words, we don't know the value of the variable until we check its value. Also, evey time we check its value we expect it's value to randomly change from one value to another. \n",
    "\n",
    "There are **discrete random variables** which can take on finite or countably infinite number of states. A **continuous random variable** is associated with a real value. \n",
    "\n",
    "Let's go through some probability examples in order to better understand random variables. "
   ]
  },
  {
   "cell_type": "markdown",
   "metadata": {},
   "source": [
    "## 1. Classical probability\n",
    "\n",
    "---\n",
    "\n",
    "<div style=\"font-size:25px\">\n",
    "\\\\[P(X=x) = \\frac{\\text{n number of x outcomes}}{\\text{total possible outcomes in event space S}}\\\\]\n",
    "</div>\n",
    "\n",
    "<br>\n",
    "<div style=\"font-size:18px\">\n",
    "\n",
    "\n",
    "**Defned as:** The probability of x occuring is equal to the the numer of times that event x happens divided by the number of total possible outcomes. \n",
    "</div>\n",
    "\n",
    "Classical probability is an assessment of **possible** outcomes of elementary events. Elementary events are assumed to be equally likely.\n",
    "\n",
    "The set up to a classical probability problem is as follows:\n",
    "\n",
    "**Experiment** any action or process that generates observations\n",
    "\n",
    "**Sample Space** the set of all possible outcomes **S**\n",
    "\n",
    "**Event** a subset of the sample space **X**, where **X** is a random variable\n",
    "\n",
    "Let's go through some examples to better understand how to apply these ideas. "
   ]
  },
  {
   "cell_type": "markdown",
   "metadata": {},
   "source": [
    "> **Example:** Toss two coins up and what is the probability of getting head twice."
   ]
  },
  {
   "cell_type": "code",
   "execution_count": null,
   "metadata": {
    "collapsed": true
   },
   "outputs": [],
   "source": [
    "#A: compute it analytically"
   ]
  },
  {
   "cell_type": "code",
   "execution_count": 10,
   "metadata": {
    "collapsed": true
   },
   "outputs": [],
   "source": [
    "#A: simulate it using np.random.choice\n",
    "\n",
    "def get_prob_for_two_coins(x, sims=100):\n",
    "    '''Get probability that event x happens'''\n",
    "    pass"
   ]
  },
  {
   "cell_type": "markdown",
   "metadata": {},
   "source": [
    ">**Example**: Roll a fair die. What is the probability of rolling an even number?"
   ]
  },
  {
   "cell_type": "code",
   "execution_count": 12,
   "metadata": {
    "collapsed": true
   },
   "outputs": [],
   "source": [
    "#A: compute it analytically\n",
    "\n",
    "#A: simulate it \n",
    "def get_prob_for_even_die_roll(x, sims=100):\n",
    "    '''Get probability that event x happens'''\n",
    "    pass"
   ]
  },
  {
   "cell_type": "markdown",
   "metadata": {},
   "source": [
    "> **Example:** What is the probability of tossing 3 coins and getting 2 heads and 1 tails in any order? "
   ]
  },
  {
   "cell_type": "code",
   "execution_count": null,
   "metadata": {
    "collapsed": true
   },
   "outputs": [],
   "source": [
    "#A: compute it analytically\n",
    "\n",
    "#A: simulate it \n",
    "def get_three_coin_tosses(x, sims=100):\n",
    "    '''Get probability that event x happens'''\n",
    "    pass"
   ]
  },
  {
   "cell_type": "markdown",
   "metadata": {},
   "source": [
    "### Conditional and Joint Probability \n",
    "---\n",
    "\n",
    "\n",
    "From the axioms outlined above, we can derive a variety of essential properties of probability. Many of these are outlined below.\n",
    "\n",
    "**The probability of no event**\n",
    "\n",
    "The probability of the empty set, denoted $\\emptyset$, is zero.\n",
    "\n",
    "### $$ P\\left(\\emptyset \\right) = 0 $$\n",
    "\n",
    "**The probability of A or B occuring (union)**\n",
    "\n",
    "The probability of event $A$ or event $B$ occuring is equivalent to the sum of their individual probabilities, minus the intersection of their probabilities (the probability they both occur).\n",
    "\n",
    "### $$ P(A \\cup B) = P(A) + P(B) - P(A \\cap B)$$\n",
    "\n",
    "**Conditional probability**\n",
    "\n",
    "The probability of an event that's conditional on another event is written using a vertical bar between the two events. The probability of event $A$ occuring _given_ event $B$ occurs is calculated like so:\n",
    "\n",
    "### $$ P(A | B) = \\frac{P(A \\cap B)}{P(B)} $$\n",
    "\n",
    "Meaning the probability of both $A$ and $B$ occuring is divided by the probability that $B$ occurs at all.\n",
    "\n",
    "\n",
    "<img src=https://i.ytimg.com/vi/H02B3aMNKzE/maxresdefault.jpg>\n",
    "\n",
    "**Joint probability**\n",
    "\n",
    "The joint probability of two events $A$ and $B$ is a reformulation of the above equation.\n",
    "\n",
    "### $$ P(A \\cap B) = P(A|B) \\; P(B) $$\n",
    "\n",
    "Verbally, if we want to know the probability that both $A$ and $B$ occur, we can multiply the probability that $B$ happens by the probability that $A$ happens given that $B$ happens.\n",
    "\n",
    "<img src=https://image.slidesharecdn.com/chap005-111020122418-phpapp01/95/chap005-18-728.jpg?cb=1319113519>\n",
    "\n",
    "**The law of total probability**\n",
    "\n",
    "Lets say we want to know the probability of the event $B$ occuring across _all_ different events $A$. For example, lets say that we are a judge presiding over a murder trial. $B$ is the event that the suspect's wallet was found at the scene of the murder. We could have many hypotheses or possible scenarios in which the wallet is found at there, one being that the suspect was actually at the scene at the time of the murder.\n",
    "\n",
    "These different events $A$ - our scenarios - are disjoint. The _total probability_ of $B$ is the probability across all of these scenarios that the wallet is found at the murder scene. In other words - regardless of the possible scenario $A$ - it's the probability that the wallet is found at the scene.\n",
    "\n",
    "### $$ P(B) = \\sum_{i=1}^n P(B \\cap A_i) $$\n"
   ]
  },
  {
   "cell_type": "markdown",
   "metadata": {},
   "source": [
    "### Contingency Table \n",
    "**Slides: <a href=http://ocw.metu.edu.tr/pluginfile.php/2277/mod_resource/content/0/ocw_iam530/2.Conditional%20Probability%20and%20Bayes%20Theorem.pdf>\n",
    "Contingency Tables </a> **"
   ]
  },
  {
   "cell_type": "markdown",
   "metadata": {},
   "source": [
    "### 2. Frequentist probability\n",
    "\n",
    "---\n",
    "\n",
    "<div style=\"font-size:25px\">\n",
    "\\\\[P(X=x | ~\\text{some condition}) =  \\frac{\\text{# times x has occurred}}{\\text{# independent and identical trials}}\\\\]\n",
    "</div>\n",
    "\n",
    "<br>\n",
    "<div style=\"font-size:18px\">\n",
    "**Defined as:** The probability of x occuring (given that the codition is true) is equal to the the number of times that the event x happens divided by the total number of independent and identical outcomes. \n",
    "</div>\n",
    "\n",
    "\n",
    "Unlike classical probability, frequentist probability is an EMPIRICAL definition. It is an objective statement desribing events that have occurred in the real world.\n",
    "\n",
    "In order to assign a probability to an event we must:\n",
    "\n",
    "1. Go out into the world and execute an experiment\n",
    "2. Make measurements of some kind \n",
    "3. Collect data\n",
    "4. Return to our computers and calculate the probability of some event happening based on the data that we can collected. \n",
    "\n",
    "You can think of frequentist probability as classical probability **plus empiricism**. However, unlike classical probability, we have to be very careful in our experimental design to **ensure that the following conditions are met**:\n",
    "\n",
    "1. Events occur independent of each other\n",
    "2. Trails/experiments used to measure events are all identical \n",
    "3. Randomization is built into the experiment - otherwise our random variable is not random. \n",
    "\n",
    "In order to better understand frequentist probability let's go through an example. \n",
    "\n",
    "### Male Heights Experiment\n",
    "\n",
    "We are interested in finding the frequentist probability that an American male is 6 ft tall, so we conduct an experiment. We travel the United states and: \n",
    "\n",
    "1. Randomly approach one million males and measure their heights - this ensures that events (measing height) are independent of each other. \n",
    "2. Always measure people's heights using the same measuring tape and between the hours of 9 am and 5 pm - this ensures that the experiments are identical. \n",
    "\n",
    "Consider the following cases: \n",
    "\n",
    "#### Case 1.\n",
    "\n",
    "1. The first male we measure is 6 feet tall. \n",
    "2. We go back to our computers, calculate the frequentist probability that a male is 6 ft tall, and get a probability of 100%\n",
    "\n",
    "$$P(X= \\text{6 ft}~ |~\\text{ male}) =  \\frac{\\text{# of 6 ft   males measured}}{\\text{total # of measurements}} = \\frac{1}{1} = 100\\%$$\n",
    "\n",
    "\n",
    "Can we trust this result?"
   ]
  },
  {
   "cell_type": "code",
   "execution_count": null,
   "metadata": {
    "collapsed": true
   },
   "outputs": [],
   "source": [
    "# switch cell to Markdown mode and write your answer here"
   ]
  },
  {
   "cell_type": "markdown",
   "metadata": {},
   "source": [
    "#### Case 2.\n",
    "\n",
    "1. We measure 100 males and none are 6 feet tall. \n",
    "2. We go back to our computers, calculate the frequentist probability that a male is 6 ft tall, and get a probability of 0%\n",
    "\n",
    "$$P(X= \\text{6 ft}~ |~\\text{ male})=  \\frac{\\text{# of 6 ft males measured}}{\\text{total # of measurements}} = \\frac{0}{100} = 0\\%$$\n",
    "\n",
    "\n",
    "Can we trust this result?\n"
   ]
  },
  {
   "cell_type": "code",
   "execution_count": null,
   "metadata": {
    "collapsed": true
   },
   "outputs": [],
   "source": [
    "# switch cell to Markdown mode and write your answer here"
   ]
  },
  {
   "cell_type": "markdown",
   "metadata": {},
   "source": [
    "#### Case 3.\n",
    "\n",
    "1. We measure 1,000,000 males and 100,000 are 6 feet tall. \n",
    "2. We go back to our computers, calculate the frequentist probability that a male is 6 ft tall, and get a probability of 10%\n",
    "\n",
    "$$P(X= \\text{6 ft}~ |~\\text{ male}) =  \\frac{\\text{# of 6 ft males measured}}{\\text{total # of measurements}} = \\frac{100,000}{1,000,000} = 10\\%$$\n",
    "\n",
    "\n",
    "Can we trust this result?"
   ]
  },
  {
   "cell_type": "code",
   "execution_count": 14,
   "metadata": {
    "collapsed": true
   },
   "outputs": [],
   "source": [
    "# switch cell to Markdown mode and write your answer here"
   ]
  },
  {
   "cell_type": "markdown",
   "metadata": {},
   "source": [
    "### Sample Size: how many samples is enough?\n"
   ]
  },
  {
   "cell_type": "code",
   "execution_count": 15,
   "metadata": {
    "collapsed": true
   },
   "outputs": [],
   "source": [
    "# switch cell to Markdown mode and write your answer here"
   ]
  },
  {
   "cell_type": "markdown",
   "metadata": {},
   "source": [
    "In order to help cement the idea of why sample size is important let's run through a simulation. \n",
    "\n",
    "Image that we don't actually know what the probabiliy is for getting heads or tails, so we start fliping a coin. "
   ]
  },
  {
   "cell_type": "code",
   "execution_count": 16,
   "metadata": {
    "collapsed": true
   },
   "outputs": [],
   "source": [
    "def get_prob_for_coin_flip(num_events):\n",
    "    '''Get probability of getting heads on a coin flip for a given number of flips'''\n",
    "    # create dataframe with empty cells (i.e. no values)\n",
    "    df = pd.DataFrame(index = range(1,num_events), columns=['P(heads)','P(tails)']) \n",
    "\n",
    "    # initialize variables\n",
    "    heads = 0\n",
    "    tails = 0\n",
    "    tries = 0\n",
    "\n",
    "    while tries < num_events:\n",
    "\n",
    "        tries += 1\n",
    "        # randomly sample between values 1 and 2 to simulate a coin flip \n",
    "        coin = random.randint(1, 2)\n",
    "\n",
    "        # if heads\n",
    "        if coin == 1:\n",
    "            heads += 1\n",
    "            df.loc[tries, 'P(heads)'] = heads/tries\n",
    "            df.loc[tries, 'P(tails)'] = tails/tries\n",
    "\n",
    "        # if tails\n",
    "        if coin == 2:\n",
    "            tails += 1\n",
    "            df.loc[tries, 'P(tails)'] = tails/tries\n",
    "            df.loc[tries, 'P(heads)'] = heads/tries\n",
    "\n",
    "\n",
    "    Num_Heads = heads\n",
    "    Num_Tails = tails\n",
    "\n",
    "    Prob_Heads = Num_Heads/tries\n",
    "    Prob_Tails = Num_Tails/tries\n",
    "    \n",
    "    return df.values.T[1]"
   ]
  },
  {
   "cell_type": "code",
   "execution_count": 17,
   "metadata": {
    "collapsed": true
   },
   "outputs": [],
   "source": [
    "# num_events = 10000\n",
    "# results = get_prob_for_coin_flip(num_events)\n",
    "\n",
    "# plt.figure(figsize = (12,4))\n",
    "# plt.plot(results)\n",
    "# plt.title(\"Probability of getting heads vs. Coin flips\")\n",
    "# plt.ylabel(\"Probability of getting heads\");\n",
    "# plt.xlabel(\"Number of coin flips\")\n",
    "# #plt.xlim(0,1)\n",
    "# plt.show()"
   ]
  },
  {
   "cell_type": "markdown",
   "metadata": {},
   "source": [
    "### 3. Bayesian probability\n",
    "\n",
    "---\n",
    "\n",
    "<div style=\"font-size:25px\">\n",
    "\\\\[ P(A|B) = \\frac{\\text{P(B|A)}\\cdot \\text{P(A)}}{\\text{P(B)}} \\\\]\n",
    "</div>\n",
    "\n",
    "<br>\n",
    "<div style=\"font-size:18px\">\n",
    "**Definded as:** The posterior probability of event B happening, given that event A has occured, is equal to the likelihood of event A happening, given that event B has occured, all divided by the total probability that event A happening. \n",
    "</div>\n",
    "\n",
    "\n",
    "Bayesian probability gives us an updated probability that something is true based on new obsverations. Unlike classical or frequentist probability, bayesian probability incorporates our prior belief $\\text{P(A)}$ that something is true into the probability model. \n",
    "\n",
    "![](https://nflinjuryanalyticscom.files.wordpress.com/2016/12/bayes-rule-e1350930203949.png)"
   ]
  },
  {
   "cell_type": "markdown",
   "metadata": {},
   "source": [
    "Bayesian probability gives us an updated probability that something is true based on new obsverations. Unlike classical or frequentist probability, bayesian probability incorporates our prior belief $\\text{P(A)}$ that something is true into the probability model. \n",
    "\n",
    "Let's look at the reformation of Bayes Law in the colored image above. \n",
    "\n",
    "**Hypothesis: H** Our hypothesis that we want to determine a probability for how true it is\n",
    "\n",
    "**Evidence: e** The data/evidence that we have collected in order to help determine how likely our hypothesis is true\n",
    "\n",
    "**Prior Probability: P(H)** The probability that our hypothesis is true before we make any measurements\n",
    "\n",
    "**Likelihood Probability: P(e|H)** The probability that our hypothesis is true based on the data that we have collected (i.e. if the hypothesis was true, how likely is it that we would see the data what we see)\n",
    "\n",
    "**Posterior Probability: P(H|e)** The updated probability that our hypothesis is true given the probability we initially assigned to it and the probability that we would see the evidence that we have collected it our hypothesis was true. \n",
    "\n",
    "**Marginal Probability: P(e)** Probability that the evidence is true given under all cases (i.e. if the hypothesis is true and if it is false). Mathematically, this is used as a normalization term. "
   ]
  },
  {
   "cell_type": "markdown",
   "metadata": {},
   "source": [
    "### Male Height Probelm Revisted\n",
    "\n",
    "In the male height problem, we assume that the condition that all height measurements were done for males (and they were). But what if we are forced to design an experiment in which we don't actually know if the person whos height we are measuring is male or female and our goal was to determine the probability that this person was a male based on the measurement?\n",
    "\n",
    "Using frequentist probability, we can't actually address that problem because frequentist have to assume that a hypothesis is true, they don't have a way of incorporating uncertainty into their model -- but bayesian do!\n",
    "\n",
    "\n",
    "In the male height problem we were calculating the likelihood that we get the data that we get (measuremetns are 6 feet) assuming that the hypothesis is true (that all measurments are done on males) \n",
    "\n",
    "$$ \\text{Likelihood}~~ P(X= \\text{6 ft}~ |~\\text{ male})$$\n",
    "\n",
    "In the case that we don't know if the person being measured is male or female, bayesian can quantify their uncertainty with the prior probability:\n",
    "\n",
    "$$\\text{Prior}~~P(male) = P(\\text{person is a male}) = 0.5$$\n",
    "\n",
    "Leading to a probability that takes uncertainty into account and allowing us to address this problem. \n",
    "\n",
    "$$ P(\\text{male}~|~6 \\text{ft})   = \\frac{P(X= \\text{6 ft}~ |~\\text{ male})~~P(\\text{male}) } {P(~X= \\text{6 ft}) }  $$\n"
   ]
  },
  {
   "cell_type": "markdown",
   "metadata": {},
   "source": [
    "### Ex. One \n",
    "\n",
    "A family has two children. Given that one of the children is a boy, what is the probability that both children are boys?\n",
    "\n"
   ]
  },
  {
   "cell_type": "markdown",
   "metadata": {},
   "source": [
    "### Ex. Two\n",
    "\n",
    "Bag one contains 4 white and 6 black balls while another Bag two contains 4 white and 3 black balls. One ball is drawn at random from one of the bags and it is found to be black. Find the probability that it was drawn from Bag one."
   ]
  },
  {
   "cell_type": "markdown",
   "metadata": {},
   "source": [
    "### Ex. Three\n",
    "A disease test is advertised as being 99% accurate: if you have the disease, you will test positive 99% of the time, and if you don't have the disease, you will test negative 99% of the time. If 1% of all people have this disease and you test positive, what is the probability that you actually have the disease?"
   ]
  },
  {
   "cell_type": "markdown",
   "metadata": {},
   "source": [
    "### Ex. Four\n",
    "\n",
    "You go to see the doctor about an ingrowing toenail. The doctor selects you at random to have\n",
    "a blood test for swine flu, which for the purposes of this exercise we will say is currently suspected\n",
    "to affect 1 in 10,000 people in Australia. The test is 99% accurate, in the sense that the probability\n",
    "of a false positive is 1%. The probability of a false negative is zero. You test positive. What is the\n",
    "new probability that you have swine flu?"
   ]
  },
  {
   "cell_type": "markdown",
   "metadata": {},
   "source": [
    "### Ex. 4 (continued)\n",
    "\n",
    "Now imagine that you went to a friend’s wedding in Mexico recently, and (for the purposes of this\n",
    "exercise) it is know that 1 in 200 people who visited Mexico recently come back with swine flu.\n",
    "Given the same test result as above, what should your revised estimate be for the probability you\n",
    "have the disease?"
   ]
  },
  {
   "cell_type": "markdown",
   "metadata": {},
   "source": [
    "## Expected Values\n",
    "\n",
    "---\n",
    "\n",
    ">The expected value of a random variable, intuitively, is the long-run average value of repetitions of the experiment it represents. -Wikipedia\n",
    "\n",
    "\n",
    "$$ E[X] = \\sum_{i = 1}^{n}{x_{i}p_{i}} = \\sum_{x} x\\cdot P(X=x) $$\n",
    "\n",
    "\n",
    "$x\\cdot P(X=x)$ think of this expression as the event **x** times the probability of that event happening $P(X=x) = p_{x}$\n",
    "\n",
    "You might also see the expected value in the following form:\n",
    "\n",
    "$$ E[X] = \\sum_{i = 1}^{n}{x_{i}p_{i}} = x_{1}p_{1} + x_{2}p_{2} + \\cdot \\cdot \\cdot+ x_{n}p_{n}  $$\n",
    "\n",
    "\n",
    "The final expression is the **weighted average** of the random variable **X**. The weights are the probabilities for each event, **x**. We say that it is weighted because the influnce that each outcome has is dependent on it probability. \n",
    "\n",
    "#### Ex. Weighted Average \n",
    "\n",
    "Let's say we have a fixed die that has a weight inserted into it so that the probability of rolling a 1 is 50% and the probability of rolling any other number is 10%. \n",
    "\n",
    "**Question: **What is the average value we expect to get from this fixed die?\n",
    "\n",
    "This questions can be rephrase as saying, if I roll the die an infinit number of times, what is the average value?\n",
    "\n",
    "$$ E[X] = \\sum_{i = 1}^{n}{x_{i}p_{i}} = 1 (0.5) + 2 (0.10) + 3 (0.10) + 4 (0.10) + 5 (0.10) + 6 (0.10) = 2.5$$\n"
   ]
  },
  {
   "cell_type": "code",
   "execution_count": 27,
   "metadata": {
    "collapsed": true
   },
   "outputs": [],
   "source": [
    "def expected_value_die(num_rolls):\n",
    "    '''Get expected value for a fixed die'''\n",
    "    \n",
    "    sample_space = [1,2,3,4,5,6]\n",
    "    weights = [0.5,0.1,0.1,0.1,0.1,0.1]\n",
    "    events = np.zeros(num_rolls)\n",
    "    expected_value = []\n",
    "    \n",
    "    roll = 1\n",
    "    for i, _ in  enumerate(xrange(num_rolls)):\n",
    "        event = np.random.choice(sample_space, size=1,p=weights)[0]\n",
    "        events[i] = event\n",
    "        expected_value.append(np.sum(events)/roll)\n",
    "        roll += 1\n",
    "        \n",
    "\n",
    "    return expected_value"
   ]
  },
  {
   "cell_type": "code",
   "execution_count": 28,
   "metadata": {
    "collapsed": true
   },
   "outputs": [],
   "source": [
    "# num_rolls = 10\n",
    "# expected_val_fixed = expected_value_die(num_rolls)\n",
    "# expected_val_fixed[-1]"
   ]
  },
  {
   "cell_type": "code",
   "execution_count": 29,
   "metadata": {
    "collapsed": true
   },
   "outputs": [],
   "source": [
    "# plt.figure(figsize=(12,4))\n",
    "# plt.title(\"Average Value of a Fixed Die vs. Number of Rolls\")\n",
    "# plt.xlabel(\"Number of Rolls\")\n",
    "# plt.ylabel(\"Average Dic Value\")\n",
    "# plt.plot(expected_val_fixed);"
   ]
  },
  {
   "cell_type": "markdown",
   "metadata": {},
   "source": [
    " ### Ex. Simple Average \n",
    " \n",
    "A simple average is the case in which all events are equally likely, such as fliping a fair coin or rolling a fair die. Since all probabilities are equal (all weights are the same) that means that we can rewrite the formula for the expecte value. \n",
    "\n",
    "$$ E[X] = \\sum_{i = 1}^{n}{x_{i}p_{i}} = x_{1}p_{1} + x_{2}p_{2} + \\cdot \\cdot \\cdot+ x_{n}p_{n}  $$\n",
    " \n",
    " \n",
    "$$ E[X] = \\sum_{i = 1}^{n}{x_{i}p_{i}} =\\frac{ x_{1}p_{1} + x_{2}p_{2} + \\cdot \\cdot \\cdot+ x_{n}p_{n}}{1}  $$\n",
    "\n",
    "\n",
    "**Recall: ** $p_{1} + x_{2} + \\cdot \\cdot \\cdot+ p_{n} = n\\cdot p = 1$\n",
    "\n",
    "$$ E[X] =\\frac{ x_{1}p_{1} + x_{2}p_{2} + \\cdot \\cdot \\cdot+ x_{n}p_{n}}{p_{1} + x_{2} + \\cdot \\cdot \\cdot+ p_{n}}  $$\n",
    "\n",
    "**Factor out all the p's**\n",
    "\n",
    "$$ E[X] = \\frac{p}{n\\cdot p}( x_{1} + x_{2} + \\cdot \\cdot \\cdot+ x_{n})   $$\n",
    "\n",
    "$$ E[X] = \\frac{1}{n}\\sum_{i = 1}^{n}{x_{i}}  $$\n",
    "\n",
    "**Note: ** The expectation value for events with equal probability is called the mean and denoted by $\\mu$. (Yes, the same mean that we are all familiar with). \n",
    "\n",
    "\n",
    "$$ E[X] = \\mu = \\frac{1}{n}\\sum_{i = 1}^{n}{x_{i}}  $$\n",
    "\n",
    "\n",
    "The average value of rolling a fair die an infinite number of times: \n",
    "\n",
    "$$ E[X] = \\frac{1}{n}\\sum_{i = 1}^{n}{x_{i}} = 1 \\frac{1}{6} + 2 \\frac{1}{6} + 3 \\frac{1}{6} + 4 \\frac{1}{6} + 5 \\frac{1}{6} + 6 \\frac{1}{6} = 3.5$$"
   ]
  },
  {
   "cell_type": "code",
   "execution_count": 30,
   "metadata": {
    "collapsed": true
   },
   "outputs": [],
   "source": [
    "def expected_value_die(num_rolls):\n",
    "    '''Get expected value for a fair die'''\n",
    "    \n",
    "    # define sample space by include all possible outcomes\n",
    "    sample_space = [1, 2, 3, 4, 5, 6]\n",
    "    \n",
    "    events = np.zeros(num_rolls)\n",
    "    expected_value = []\n",
    "    \n",
    "    roll = 1\n",
    "    for i, _ in  enumerate(xrange(num_rolls)):\n",
    "        event = random.randint(1,6)\n",
    "        events[i] = event\n",
    "        expected_value.append(np.sum(events)/roll)\n",
    "        roll += 1\n",
    "        \n",
    "\n",
    "    return expected_value"
   ]
  },
  {
   "cell_type": "code",
   "execution_count": 31,
   "metadata": {
    "collapsed": true
   },
   "outputs": [],
   "source": [
    "# num_rolls = 10000\n",
    "# expected_val = expected_value_die(num_rolls)\n",
    "# expected_val[-1]"
   ]
  },
  {
   "cell_type": "code",
   "execution_count": 32,
   "metadata": {
    "collapsed": true
   },
   "outputs": [],
   "source": [
    "# plt.figure(figsize=(12,4))\n",
    "# plt.title(\"Average Value of Fair Die vs. Number of Rolls\")\n",
    "# plt.xlabel(\"Number of Rolls\")\n",
    "# plt.ylabel(\"Average Dic Value\")\n",
    "# plt.plot(expected_val);"
   ]
  },
  {
   "cell_type": "markdown",
   "metadata": {},
   "source": [
    "### Variance, Standard Deviation\n",
    "---\n",
    "\n",
    "In probability theory, variance is a measure of **how far a set of numbers is spread out.** It describes how much a random variable differs from the expected value. The standard deviation is the square root of variance. \n",
    "\n",
    "<img src=https://wikimedia.org/api/rest_v1/media/math/render/svg/67c38600b240e9bf9479466f5f362792e4fc4fb8>"
   ]
  },
  {
   "cell_type": "markdown",
   "metadata": {},
   "source": [
    "<img src=https://image.slidesharecdn.com/randomvar-120913182756-phpapp01/95/random-variables-38-728.jpg?cb=1347561142>"
   ]
  },
  {
   "cell_type": "markdown",
   "metadata": {},
   "source": [
    "### Lab: Probability \n",
    "\n",
    "<a name=\"probability_lab\"></a>\n"
   ]
  },
  {
   "cell_type": "markdown",
   "metadata": {},
   "source": [
    "** Question 1:** In any 15-minute interval, there is a 20% probability that you will see at least one shooting star. What is the probability that you see at least one shooting star in the period of an hour?"
   ]
  },
  {
   "cell_type": "code",
   "execution_count": 20,
   "metadata": {
    "collapsed": true
   },
   "outputs": [],
   "source": [
    "##A:"
   ]
  },
  {
   "cell_type": "markdown",
   "metadata": {},
   "source": [
    "**Question 2:** A certain couple tells you that they have two children, at least one of which is a girl. What is the probability that they have two girls?"
   ]
  },
  {
   "cell_type": "code",
   "execution_count": 21,
   "metadata": {
    "collapsed": true
   },
   "outputs": [],
   "source": [
    "##A:"
   ]
  },
  {
   "cell_type": "markdown",
   "metadata": {},
   "source": [
    "**Question 3:** What is the probability that you are dealt two cards that are both  aces from a 52-card deck?"
   ]
  },
  {
   "cell_type": "code",
   "execution_count": null,
   "metadata": {
    "collapsed": true
   },
   "outputs": [],
   "source": [
    "##A:"
   ]
  },
  {
   "cell_type": "markdown",
   "metadata": {},
   "source": [
    "**Question 4:** What is the probability of getting two queens and three kings in a five-card hand\n",
    "\n"
   ]
  },
  {
   "cell_type": "code",
   "execution_count": null,
   "metadata": {
    "collapsed": true
   },
   "outputs": [],
   "source": [
    "##A:"
   ]
  },
  {
   "cell_type": "markdown",
   "metadata": {},
   "source": [
    "**Question 5:** For 10 coin-flips, print out the probability of getting 0 heads through 10 heads. Also, print out the sum of the probabilities.\n",
    "\n"
   ]
  },
  {
   "cell_type": "code",
   "execution_count": 23,
   "metadata": {
    "collapsed": true
   },
   "outputs": [],
   "source": [
    "## A:"
   ]
  },
  {
   "cell_type": "markdown",
   "metadata": {},
   "source": [
    "**Question 6:** You have two coins, one of which is fair and comes up heads with a probability 1/2, and the other which is biased and comes up heads with probability 3/4. You randomly pick coin and flip it twice, and get heads both times. What is the probability that you\n",
    "picked the fair coin?"
   ]
  },
  {
   "cell_type": "code",
   "execution_count": 25,
   "metadata": {
    "collapsed": true
   },
   "outputs": [],
   "source": [
    "##A:"
   ]
  },
  {
   "cell_type": "markdown",
   "metadata": {},
   "source": [
    "**Question 7:** You have a 0.1% chance of picking up a coin with both heads, and a 99.9% chance that you pick up a fair coin. You flip your coin and it comes up heads 10 times. What’s the chance that you picked up the fair coin, given the information that you observed?"
   ]
  },
  {
   "cell_type": "code",
   "execution_count": 26,
   "metadata": {
    "collapsed": true
   },
   "outputs": [],
   "source": [
    "##A:"
   ]
  },
  {
   "cell_type": "markdown",
   "metadata": {},
   "source": [
    "**Question 8:** What’s the expected number of coin flips until you get two heads in a row? What’s the expected number of coin flips until you get two tails in a row?"
   ]
  },
  {
   "cell_type": "code",
   "execution_count": 33,
   "metadata": {
    "collapsed": true
   },
   "outputs": [],
   "source": [
    "##A:"
   ]
  },
  {
   "cell_type": "markdown",
   "metadata": {},
   "source": [
    "**Question 9:** <a href=https://www.hackerrank.com/challenges/kevin-and-expected-value> Kevin and the Expected Value </a> "
   ]
  },
  {
   "cell_type": "markdown",
   "metadata": {},
   "source": [
    "** Question 10 [Challenge, Skip If Difficult] ** <a href=https://www.hackerrank.com/challenges/mathematical-expectation> Mathematical Expectation </a>"
   ]
  },
  {
   "cell_type": "code",
   "execution_count": 34,
   "metadata": {
    "collapsed": true
   },
   "outputs": [],
   "source": [
    "##A:"
   ]
  },
  {
   "cell_type": "markdown",
   "metadata": {},
   "source": [
    "**Question 11:** Brilliant Qustions \n",
    "##### Classical probability and expectation values \n",
    "\n",
    "The exercises for classical probability and expectation values will be completed at Brilliant.org.\n",
    "\n",
    "1. Create a free account at [Brilliant.org](brilliant.org/)\n",
    "2. Navigate to the Math for Quantitative Finance section\n",
    "3. Complete the Probability and Expected Value modules \n"
   ]
  },
  {
   "cell_type": "markdown",
   "metadata": {},
   "source": [
    "**Question 12:** Monty Hall Problem\n",
    "- There are 3 doors, behind which are two goats and a car.\n",
    "- You pick a door (call it door A). You’re hoping for the car of course.\n",
    "- Monty Hall, the game show host, examines the other doors (B & C) and always opens one of them with a goat (Both doors might have goats; he’ll randomly pick one to open)"
   ]
  },
  {
   "cell_type": "code",
   "execution_count": 35,
   "metadata": {
    "collapsed": true
   },
   "outputs": [],
   "source": [
    "## Should you switch? \n",
    "## 12.1 Use Bayes Theorem to say if you should switch or not\n",
    "## 12.2 Simulate the answer by writing some code "
   ]
  },
  {
   "cell_type": "markdown",
   "metadata": {},
   "source": [
    "**Question 13:** Birthday Problem\n",
    "\n",
    "There are 30 people in a room ... what is the chance that any two of them celebrate their birthday on the same day? Assume 365 days in a year.\n",
    "\n",
    "\n",
    "How many people do you need in a room to get the probability of two people sharing the birthday to be greater than 50%?"
   ]
  },
  {
   "cell_type": "code",
   "execution_count": null,
   "metadata": {
    "collapsed": true
   },
   "outputs": [],
   "source": []
  }
 ],
 "metadata": {
  "kernelspec": {
   "display_name": "Python 2",
   "language": "python",
   "name": "python2"
  },
  "language_info": {
   "codemirror_mode": {
    "name": "ipython",
    "version": 2
   },
   "file_extension": ".py",
   "mimetype": "text/x-python",
   "name": "python",
   "nbconvert_exporter": "python",
   "pygments_lexer": "ipython2",
   "version": "2.7.11"
  }
 },
 "nbformat": 4,
 "nbformat_minor": 1
}
