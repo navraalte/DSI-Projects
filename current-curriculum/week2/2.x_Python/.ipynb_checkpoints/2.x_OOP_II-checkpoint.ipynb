{
 "cells": [
  {
   "cell_type": "markdown",
   "metadata": {},
   "source": [
    "<img src=\"https://ga-dash.s3.amazonaws.com/production/assets/logo-9f88ae6c9c3871690e33280fcf557f33.png\" style=\"float: left; margin: 15px;\">\n",
    "### Object Oriented Programming Part II\n",
    "\n",
    "Week 2 | Lesson 2.x\n",
    "\n",
    "---\n",
    "| TIMING  | TYPE  \n",
    "|:-:|---|---|\n",
    "| 25 min| [Review: OOP Jargon](#review) |\n",
    "| 10 min| [Sklearn, Pandas](#hook) |\n",
    "| 45 min| [OOP: Diving Deeper](#content) |\n",
    "| 20 min| [Conclusion](#conclusion) |\n",
    "| 5 min | [Additional Resources](#more)\n",
    "\n",
    "---\n",
    "\n",
    "### Lesson Objectives\n",
    "*After this lesson, you will be able to:*\n",
    "- Design and write classes in Python\n",
    "- Instantiate objects from commonly used libraries \n",
    "- Understand the difference between OOP and FP and why OOP is important \n",
    "\n",
    "---\n",
    "### Student Pre-Work \n",
    "\n",
    "*Before this lesson, you should already be able to:*\n",
    "\n",
    "- Understand the fundamental primitives of OOP\n",
    "\n"
   ]
  },
  {
   "cell_type": "markdown",
   "metadata": {},
   "source": [
    "As you have seen from the earliest code examples in this course, it is not compulsory to organise your code into classes when you program in Python. You can use functions by themselves, in what is called a procedural programming approach. However, while a procedural style can suffice for writing **short, simple programs, an object-oriented programming (OOP) approach becomes more valuable the more your program grows in size and complexity.**\n",
    "\n",
    "The most important principle of object orientation is _encapsulation_: the idea that data inside the object should only be accessed through a public interface – that is, the object’s methods.\n",
    "\n",
    "\n"
   ]
  },
  {
   "cell_type": "markdown",
   "metadata": {},
   "source": [
    "---\n",
    "<a name=\"review\"></a>\n",
    "### Review: OOP from Yesterday \n",
    "\n",
    "Let's define the following terms:\n",
    "\n",
    "    - class\n",
    "\n",
    "    - object\n",
    "    \n",
    "    - self \n",
    "    \n",
    "    - __init__\n",
    "    \n",
    "    - Instance Attributes and Methods \n",
    "    \n",
    "    - Class Attributes \n",
    "    \n",
    "    - Inheritance "
   ]
  },
  {
   "cell_type": "markdown",
   "metadata": {},
   "source": [
    "`class`  is the _fundamental building_ block in Python. It is used to define a `class` which allows us to logically group data and functions together. As I mentioned yesterday, they can be thought of as __blueprints for creating objects__."
   ]
  },
  {
   "cell_type": "code",
   "execution_count": 6,
   "metadata": {
    "collapsed": true
   },
   "outputs": [],
   "source": [
    "class Customer(object):\n",
    "    \n",
    "    def __init__(self, name, balance=0.0):\n",
    "        self.name = name\n",
    "        self.balance = balance \n",
    "        \n",
    "    def withdraw(self, amount):\n",
    "        if amount > self.balance:\n",
    "            raise RuntimeError('Amount greater than available balance.')\n",
    "        self.balance -= amount\n",
    "        return self.balance\n",
    "    \n",
    "    def deposit(self, amount):\n",
    "        self.balance += amount\n",
    "        return self.balance\n"
   ]
  },
  {
   "cell_type": "markdown",
   "metadata": {},
   "source": [
    "Above when we defined `Customer`, we have not created a new customer. We have just defined a blueprint of creating one. Objects are the __buildings__ you create with your `class`. The following `vrushank` object is know as an __instance__ of the `Customer` class. "
   ]
  },
  {
   "cell_type": "code",
   "execution_count": 10,
   "metadata": {
    "collapsed": true
   },
   "outputs": [],
   "source": [
    "vrushank = Customer('Vrushank', 1000)"
   ]
  },
  {
   "cell_type": "code",
   "execution_count": 11,
   "metadata": {},
   "outputs": [
    {
     "name": "stdout",
     "output_type": "stream",
     "text": [
      "900\n",
      "800\n"
     ]
    }
   ],
   "source": [
    "# note for methods this two things are equivalent \n",
    "print vrushank.withdraw(100)\n",
    "print Customer.withdraw(vrushank, 100)"
   ]
  },
  {
   "cell_type": "markdown",
   "metadata": {},
   "source": [
    "Let's quickly go through Datacamp Tutorial to make sure we understand the fundamental building blocks of `class` and `object`.\n",
    "\n",
    "<a href=https://www.learnpython.org/en/Classes_and_Objects> Datacamp Tutorial </a>"
   ]
  },
  {
   "cell_type": "markdown",
   "metadata": {},
   "source": [
    "The `self` parameter is a reference to the class instance. It is always the first argument of __every class method.__ By convention this argument is always named self. \n",
    "\n",
    "Check out: Guido's Proposal on why `self` is here to stay <a href=http://neopythonic.blogspot.com/2008/10/why-explicit-self-has-to-stay.html> Guido's Blog Post </a>"
   ]
  },
  {
   "cell_type": "markdown",
   "metadata": {},
   "source": [
    "`__init__` is the method used for initializing an object. \n",
    "\n",
    "Instance Attributes and Methods: A function defined in a class is called a \"method.\"Methods have access to all of the data contained in an instance object. Instance attributes are associated with a particular instance of the class and are defined with `self`. Class attributes are defined globally within the class. "
   ]
  },
  {
   "cell_type": "markdown",
   "metadata": {},
   "source": [
    "## Check for Understanding \n",
    "\n",
    "- Briefly describe a possible collection of classes which can be used to represent a music collection (for example, inside a music player), focusing on how they would be related by composition. You should include classes for songs, artists, albums and playlists. Hint: write down the four class names, draw a line between each pair of classes which you think should have a relationship, and decide what kind of relationship would be the most appropriate.\n",
    "\n",
    "    For simplicity you can assume that any song or album has a single “artist” value (which could represent more than one person), but you should include compilation albums (which contain songs by a selection of different artists). The “artist” of a compilation album can be a special value like “Various Artists”. You can also assume that each song is associated with a single album, but that multiple copies of the same song (which are included in different albums) can exist.\n",
    "    \n",
    "\n",
    "- Write a simple implementation of this model which clearly shows how the different classes are composed. Write some example code to show how you would use your classes to create an album and add all its songs to a playlist. Hint: if two objects are related to each other bidirectionally, you will have to decide how this link should be formed – one of the objects will have to be created before the other, so you can’t link them to each other in both directions simultaneously!"
   ]
  },
  {
   "cell_type": "code",
   "execution_count": 30,
   "metadata": {},
   "outputs": [],
   "source": [
    "         \n",
    "class Song(object):\n",
    "    def __init__(self, title, artist, album):\n",
    "        self.title = title   #instance object\n",
    "        self.artist = artist #instance object\n",
    "        self.album = album   #instance object\n",
    "        \n",
    "        artist.add_song(self)\n",
    "        album.add_song(self)\n",
    "        \n",
    "    \n",
    "    \n",
    "class Album(object):\n",
    "    def __init__(self, title, artist, year):\n",
    "        self.title = title\n",
    "        self.artist = artist\n",
    "        self.year = year\n",
    "        self.songs = []\n",
    "\n",
    "    def add_song(self, song):\n",
    "\n",
    "        self.songs.append(song)\n",
    "        \n",
    "\n",
    "class Artist(object):\n",
    "    def __init__(self, name):\n",
    "        self.name = name\n",
    "        self.albums = []\n",
    "        self.songs = []\n",
    "    \n",
    "    def add_album(self, album):\n",
    "        self.albums.append(album)\n",
    "    \n",
    "    def add_song(self, song):\n",
    "        self.songs.append(song)\n",
    "        \n",
    "    \n",
    "\n",
    "class Playlist(object):\n",
    "    def __init__(self, name):\n",
    "        self.name = name\n",
    "        self.songs = []\n",
    "        \n",
    "    def add_song(self, song):\n",
    "        self.songs.append(song)\n",
    "        \n",
    "    \n",
    "\n",
    "\n",
    "    \n",
    "    \n",
    "    \n",
    "    \n",
    "    \n",
    "    \n",
    "        "
   ]
  },
  {
   "cell_type": "code",
   "execution_count": 39,
   "metadata": {},
   "outputs": [
    {
     "data": {
      "text/plain": [
       "dict_proxy({'__dict__': <attribute '__dict__' of 'Album' objects>,\n",
       "            '__doc__': None,\n",
       "            '__init__': <function __main__.__init__>,\n",
       "            '__module__': '__main__',\n",
       "            '__weakref__': <attribute '__weakref__' of 'Album' objects>,\n",
       "            'add_song': <function __main__.add_song>})"
      ]
     },
     "execution_count": 39,
     "metadata": {},
     "output_type": "execute_result"
    }
   ],
   "source": [
    "drake = Artist(\"Drake\")\n",
    "views = Album('Views', drake, 1990)\n",
    "\n",
    "song1 = Song('Song1', drake, views)\n",
    "\n",
    "song2 = Song('Song2', drake, views)\n",
    "\n",
    "playlist = Playlist(\"Drake Songs\")\n",
    "for song in views.songs:\n",
    "    playlist.add_song(song)\n",
    "    \n",
    "Album.__dict__"
   ]
  },
  {
   "cell_type": "markdown",
   "metadata": {},
   "source": [
    "_Inheritance_ allows us to arrange classes in a heiarchy from most general to the most specific. We say that a class is a _subclass_ or a _child class_ of a class from which it inherits. "
   ]
  },
  {
   "cell_type": "code",
   "execution_count": 22,
   "metadata": {
    "collapsed": true
   },
   "outputs": [],
   "source": [
    "class Person:\n",
    "    def __init__(self, name, surname, number):\n",
    "        self.name = name\n",
    "        self.surname = surname\n",
    "        self.number = number\n",
    "\n",
    "\n",
    "class Student(Person):\n",
    "    UNDERGRADUATE, POSTGRADUATE = range(2)\n",
    "\n",
    "    def __init__(self, student_type, *args, **kwargs):\n",
    "        self.student_type = student_type\n",
    "        self.classes = []\n",
    "        Person.__init__(self, *args, **kwargs)\n",
    "\n",
    "    def enrol(self, course):\n",
    "        self.classes.append(course)\n",
    "\n",
    "\n",
    "class StaffMember(Person):\n",
    "    PERMANENT, TEMPORARY = range(2)\n",
    "\n",
    "    def __init__(self, employment_type, *args, **kwargs):\n",
    "        self.employment_type = employment_type\n",
    "        Person.__init__(self, *args, **kwargs)\n",
    "\n",
    "\n",
    "class Lecturer(StaffMember):\n",
    "    def __init__(self, *args, **kwargs):\n",
    "        self.courses_taught = []\n",
    "        Person.__init__(self, *args, **kwargs)\n",
    "\n",
    "    def assign_teaching(self, course):\n",
    "        self.courses_taught.append(course)"
   ]
  },
  {
   "cell_type": "markdown",
   "metadata": {},
   "source": [
    "---\n",
    "<a name=\"hook\"> </a>\n",
    "\n",
    "### Applications: Python Libraries \n",
    "\n",
    "<img src=http://scikit-learn.org/stable/_static/scikit-learn-logo-small.png>\n",
    "\n",
    "<img src=http://pandas.pydata.org/_static/pandas_logo.png>"
   ]
  },
  {
   "cell_type": "markdown",
   "metadata": {},
   "source": [
    "Let's peek into the `scikit-learn` API.\n"
   ]
  },
  {
   "cell_type": "code",
   "execution_count": 61,
   "metadata": {
    "collapsed": true
   },
   "outputs": [],
   "source": [
    "from sklearn.linear_model import LinearRegression\n",
    "from sklearn.datasets import load_boston\n",
    "boston = load_boston()\n",
    "X = boston.data\n",
    "y = boston.target"
   ]
  },
  {
   "cell_type": "code",
   "execution_count": 62,
   "metadata": {
    "collapsed": true
   },
   "outputs": [],
   "source": [
    "## Instantiate the linear regression class \n",
    "\n",
    "lr = LinearRegression()"
   ]
  },
  {
   "cell_type": "code",
   "execution_count": 63,
   "metadata": {},
   "outputs": [
    {
     "data": {
      "text/plain": [
       "LinearRegression(copy_X=True, fit_intercept=True, n_jobs=1, normalize=False)"
      ]
     },
     "execution_count": 63,
     "metadata": {},
     "output_type": "execute_result"
    }
   ],
   "source": [
    "## Use the fit method to fit X, y \n",
    "\n",
    "lr.fit(X,y)"
   ]
  },
  {
   "cell_type": "code",
   "execution_count": 67,
   "metadata": {},
   "outputs": [
    {
     "ename": "AttributeError",
     "evalue": "'LinearRegression' object has no attribute 'plot'",
     "output_type": "error",
     "traceback": [
      "\u001b[0;31m---------------------------------------------------------------------------\u001b[0m",
      "\u001b[0;31mAttributeError\u001b[0m                            Traceback (most recent call last)",
      "\u001b[0;32m<ipython-input-67-4da54b20f3d1>\u001b[0m in \u001b[0;36m<module>\u001b[0;34m()\u001b[0m\n\u001b[1;32m      3\u001b[0m \u001b[0mlr\u001b[0m\u001b[0;34m.\u001b[0m\u001b[0mpredict\u001b[0m\u001b[0;34m(\u001b[0m\u001b[0mX\u001b[0m\u001b[0;34m)\u001b[0m\u001b[0;34m\u001b[0m\u001b[0m\n\u001b[1;32m      4\u001b[0m \u001b[0;34m\u001b[0m\u001b[0m\n\u001b[0;32m----> 5\u001b[0;31m \u001b[0mlr\u001b[0m\u001b[0;34m.\u001b[0m\u001b[0mplot\u001b[0m\u001b[0;34m(\u001b[0m\u001b[0mX\u001b[0m\u001b[0;34m)\u001b[0m\u001b[0;34m\u001b[0m\u001b[0m\n\u001b[0m",
      "\u001b[0;31mAttributeError\u001b[0m: 'LinearRegression' object has no attribute 'plot'"
     ]
    }
   ],
   "source": [
    "## Use the predict method to predict on X\n",
    "\n",
    "lr.predict(X)\n",
    "\n"
   ]
  },
  {
   "cell_type": "markdown",
   "metadata": {},
   "source": [
    "> **Check for Understanding:** What classes does `LinearRegression` inherit from? \n",
    "\n",
    "Check out the source code here: <a href=https://github.com/scikit-learn/scikit-learn/blob/14031f6/sklearn/linear_model/base.py#L417> Linear Regression Source Code </a>\n",
    "\n",
    "> **Check for Understanding:** What methods and attributes does `LinearRegression` inherit from the two classes it's inheriting from?"
   ]
  },
  {
   "cell_type": "markdown",
   "metadata": {},
   "source": [
    "## Part II. Tic Tac Toe Implementation\n",
    "\n",
    "1. Let's discuss what methods and attributes should we have in our Tic Tac Toe Game. \n",
    "\n",
    "2. What __internal state__ will we be keeping track of? \n",
    "\n",
    "3. How should we represent the board? (Hint: Check out `np.chararray`)?\n",
    "\n",
    "4. How are we going to know when to end the game? \n",
    "\n",
    "5. How do we know if someone is making a valid move? \n"
   ]
  },
  {
   "cell_type": "code",
   "execution_count": null,
   "metadata": {},
   "outputs": [
    {
     "name": "stdout",
     "output_type": "stream",
     "text": [
      "O will go first!\n",
      "Where do you want to move O: 1,1\n",
      "[['' '' '']\n",
      " ['' 'O' '']\n",
      " ['' '' '']]\n",
      "---\n",
      "[['' '' '']\n",
      " ['' 'O' '']\n",
      " ['' '' '']]\n",
      "Where do you want to move X: 2,2\n",
      "[['' '' '']\n",
      " ['' 'O' '']\n",
      " ['' '' 'X']]\n",
      "---\n",
      "[['' '' '']\n",
      " ['' 'O' '']\n",
      " ['' '' 'X']]\n",
      "Where do you want to move O: 1,3\n",
      "Give Valid Index Inputs. Try again!\n",
      "[['' '' '']\n",
      " ['' 'O' '']\n",
      " ['' '' 'X']]\n",
      "---\n",
      "[['' '' '']\n",
      " ['' 'O' '']\n",
      " ['' '' 'X']]\n",
      "Where do you want to move O: 1,3\n",
      "Give Valid Index Inputs. Try again!\n",
      "[['' '' '']\n",
      " ['' 'O' '']\n",
      " ['' '' 'X']]\n",
      "---\n",
      "[['' '' '']\n",
      " ['' 'O' '']\n",
      " ['' '' 'X']]\n",
      "Where do you want to move O: 1,2\n",
      "[['' '' '']\n",
      " ['' 'O' 'O']\n",
      " ['' '' 'X']]\n",
      "---\n",
      "[['' '' '']\n",
      " ['' 'O' '']\n",
      " ['' 'O' 'X']]\n"
     ]
    }
   ],
   "source": [
    "class TicTacToe(object):\n",
    "    ## not alternating a\n",
    "    def __init__(self, size=3):\n",
    "        self.size = size\n",
    "        self.board = np.chararray((self.size, self.size))\n",
    "        self.board[:] = ''\n",
    "        \n",
    "    \n",
    "    def is_valid_move(self, i, j):\n",
    "        \n",
    "        # is the location within the board \n",
    "        if i < 0 or i > self.size - 1 or j < 0 or j > self.size - 1:\n",
    "            return False \n",
    "        \n",
    "        # using numpy indices to extract item at a particular board location\n",
    "        # checking if it's an empty string\n",
    "        if self.board[i, j] is not '':  \n",
    "            return False \n",
    "        \n",
    "        return True \n",
    "            \n",
    "        \n",
    "    \n",
    "    def is_row_victory(self, board):\n",
    "        for i in range(self.size):\n",
    "            if np.all(board[i] == 'X'):\n",
    "                self.winner = 'X'\n",
    "                return True \n",
    "            \n",
    "            if np.all(board[i] == 'O'):\n",
    "                self.winner = 'O'\n",
    "                return True \n",
    "        \n",
    "        return False \n",
    "    \n",
    "    def is_diag_victory(self, board):\n",
    "        if np.all(np.diag(board) == 'X') | np.all(np.diag(np.fliplr(board)) == 'X'):\n",
    "            self.winner = 'X'\n",
    "            return True \n",
    "        elif np.all(np.diag(board) == 'O') | np.all(np.diag(np.fliplr(board)) == 'O'):\n",
    "            self.winner = 'O'\n",
    "            return True \n",
    "        return False \n",
    "    \n",
    "    def is_game_over(self):\n",
    "        if self.is_row_victory(self.board) | self.is_row_victory(self.board.T) | self.is_diag_victory(self.board):\n",
    "            return True \n",
    "        elif np.sum(self.board == '') == 0:\n",
    "            self.winner = 'Game Tied'\n",
    "            return True \n",
    "        else:\n",
    "            return False \n",
    "    \n",
    "    def declare_winner(self):\n",
    "        if self.winner != 'Game Tied':\n",
    "            return \"Player {} won the game!\".format(self.winner)\n",
    "        return 'Game Tied'\n",
    "    \n",
    "    def play_game(self):\n",
    "        move = np.random.choice(['X', 'O']) # randomly pick the first player\n",
    "        print \"{} will go first!\".format(move)\n",
    "        while not self.is_game_over():\n",
    "            loc = raw_input(\"Where do you want to move \" + move + ': ')\n",
    "            try:\n",
    "                i, j = map(int, loc.split(','))\n",
    "                if self.is_valid_move(i, j):\n",
    "                    self.board[i, j] = move\n",
    "                    if move == 'X':\n",
    "                        move = 'O'\n",
    "                    else:\n",
    "                        move = 'X'\n",
    "                else:\n",
    "                    print \"Give Valid Index Inputs. Try again!\"\n",
    "                    \n",
    "            except ValueError:\n",
    "                print \"Give Valild Integer Inputs. Try again!\"\n",
    "            \n",
    "\n",
    "            \n",
    "            print self.board\n",
    "            print '-' * 3\n",
    "            print self.board.T\n",
    "        \n",
    "        self.declare_winner()  \n",
    "        \n",
    "tictac = TicTacToe()\n",
    "tictac.play_game()\n"
   ]
  },
  {
   "cell_type": "code",
   "execution_count": 84,
   "metadata": {},
   "outputs": [
    {
     "name": "stdout",
     "output_type": "stream",
     "text": [
      "[['' '' '']\n",
      " ['' '' '']\n",
      " ['' '' '']]\n"
     ]
    }
   ],
   "source": [
    "\n",
    "size = np.chararray((3,3))\n",
    "size[:] = \"\"\n",
    "print size"
   ]
  },
  {
   "cell_type": "code",
   "execution_count": null,
   "metadata": {
    "collapsed": true
   },
   "outputs": [],
   "source": []
  }
 ],
 "metadata": {
  "kernelspec": {
   "display_name": "Python 2",
   "language": "python",
   "name": "python2"
  },
  "language_info": {
   "codemirror_mode": {
    "name": "ipython",
    "version": 2
   },
   "file_extension": ".py",
   "mimetype": "text/x-python",
   "name": "python",
   "nbconvert_exporter": "python",
   "pygments_lexer": "ipython2",
   "version": "2.7.12"
  }
 },
 "nbformat": 4,
 "nbformat_minor": 1
}
