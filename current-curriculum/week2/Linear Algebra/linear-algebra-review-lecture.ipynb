{
 "cells": [
  {
   "cell_type": "markdown",
   "metadata": {
    "slideshow": {
     "slide_type": "notes"
    }
   },
   "source": [
    "> **Jupyter slideshow:** This notebook can be displayed as slides. To view it as a slideshow in your browser type in the console:\n",
    "\n",
    "\n",
    "> `> jupyter nbconvert [this_notebook.ipynb] --to slides --post serve`\n",
    "\n",
    "\n",
    "> To toggle off the slideshow cell formatting, click the `CellToolbar` button, then `View --> Cell Toolbar --> None`"
   ]
  },
  {
   "cell_type": "markdown",
   "metadata": {
    "slideshow": {
     "slide_type": "slide"
    }
   },
   "source": [
    "<img src=\"http://imgur.com/1ZcRyrc.png\" style=\"float: left; margin: 20px; height: 55px\">\n",
    "\n",
    "# Linear algebra: review of basic concepts with numpy\n",
    "\n",
    "_Authors: Phillippa Thomson (NYC)_\n",
    "\n",
    "---"
   ]
  },
  {
   "cell_type": "markdown",
   "metadata": {
    "slideshow": {
     "slide_type": "slide"
    }
   },
   "source": [
    "<a id=\"learning-objectives\"></a>\n",
    "<a id=\"learning-objectives\"></a>\n",
    "### Learning Objectives\n",
    "- Recognize scalars, vectors, and matricies.\n",
    "- Know how to calculate additions and dot products of vectors and matricies.\n",
    "- Implement basic linear algebra concepts in NumPy.\n",
    "- Recognize uses of linear algebra in machine learning."
   ]
  },
  {
   "cell_type": "markdown",
   "metadata": {
    "slideshow": {
     "slide_type": "slide"
    }
   },
   "source": [
    "### Lesson Guide\n",
    "- [Scalars, vectors and matrices](#scalars-vectors-and-matrices)\n",
    "- [Types of vectors](#types-of-vectors)\n",
    "\t- [Vectors and Matricies are useful for multi-dimensional concepts](#vectors-and-matricies-are-useful-for-multi-dimensional-concepts)\n",
    "- [Basic matrix algebra](#basic-matrix-algebra)\n",
    "\t- [Addition and substraction](#addition-and-substraction)\n",
    "\t- [Scalar multiplication](#scalar-multiplication)\n",
    "\t- [Vector norm](#vector-norm)\n",
    "\t- [Dot product](#dot-product)\n",
    "\t- [Matrix multiplication](#matrix-multiplication)\n",
    "\t- [The identity matrix](#the-identity-matrix)\n",
    "- [Applications to machine learning](#applications-to-machine-learning)\n",
    "\t- [Distance between actual values and predicted values](#distance-between-actual-values-and-predicted-values)\n",
    "\t- [Least squares](#least-squares)\n",
    "- [Independent practice](#independent-practice)\n",
    "- [Additional resources](#additional-resources)\n"
   ]
  },
  {
   "cell_type": "code",
   "execution_count": 2,
   "metadata": {
    "collapsed": true,
    "slideshow": {
     "slide_type": "skip"
    }
   },
   "outputs": [],
   "source": [
    "import numpy as np"
   ]
  },
  {
   "cell_type": "markdown",
   "metadata": {
    "slideshow": {
     "slide_type": "slide"
    }
   },
   "source": [
    "<a id=\"scalars-vectors-and-matrices\"></a>\n",
    "## Scalars, vectors and matrices\n",
    "---\n",
    "\n",
    "A **scalar** is a single number.\n",
    "\n",
    "### $$a$$\n",
    "\n",
    "A **vector** is several numbers in sequence.\n",
    "\n",
    "### $$\\vec{u} = \\left[ \\begin{array}{c}\n",
    "1&3&7\n",
    "\\end{array} \\right]$$"
   ]
  },
  {
   "cell_type": "code",
   "execution_count": 3,
   "metadata": {
    "collapsed": true
   },
   "outputs": [],
   "source": [
    "# Make the vector using numpy\n",
    "\n",
    "z = np.array([1,3,5,6])"
   ]
  },
  {
   "cell_type": "markdown",
   "metadata": {},
   "source": [
    "An '`m x n`' **matrix** is a rectangular array of numbers with '`m`' rows and '`n`' columns. Each number in the matrix is an entry. Entries can be denoted $a_{mn}$\n",
    "\n",
    "### $$A= \\left[ \\begin{array}{c}\n",
    "a_{11} & a_{12} & ... & a_{1n}  \\\\\n",
    "a_{21} & a_{22} & ... & a_{2n}  \\\\\n",
    "... & ... & ... & ... \\\\\n",
    "a_{m1} & a_{m2} & ... & a_{mn}\n",
    "\\end{array} \\right]$$\n",
    "\n",
    "### $$A \\in \\mathbb{R}^{mn}$$"
   ]
  },
  {
   "cell_type": "code",
   "execution_count": 9,
   "metadata": {},
   "outputs": [
    {
     "data": {
      "text/plain": [
       "array([[ 1,  2,  3,  4],\n",
       "       [ 4,  5,  6,  7],\n",
       "       [ 8,  9, 10, 11]])"
      ]
     },
     "execution_count": 9,
     "metadata": {},
     "output_type": "execute_result"
    }
   ],
   "source": [
    "# make the matrix using numpy\n",
    "\n",
    "s = np.array([[1,2,3,4],\n",
    "             [4,5,6,7],\n",
    "             [8,9,10,11]])\n",
    "s\n"
   ]
  },
  {
   "cell_type": "markdown",
   "metadata": {
    "slideshow": {
     "slide_type": "slide"
    }
   },
   "source": [
    "<a id=\"types-of-vectors\"></a>\n",
    "## Types of vectors\n",
    "---\n",
    "\n",
    "A (column) **vector** is a matrix with a single column. Entries are components.\n",
    "\n",
    "### $$\\vec{v} = \\left[ \\begin{array}{c}\n",
    "1 \\\\\n",
    "3 \\\\\n",
    "7 \\\\\n",
    "\\end{array} \\right]$$\n",
    "\n",
    "$\\vec{v} \\in \\mathbb{R}^{n}$, where $\\mathbb{R}^{n}$ is n-dimensional real coordinate space. It includes all possible real-valued n-tuples, i.e. $\\vec{v}$.\n",
    "\n",
    "\n",
    "Components are denoted $v_{i}$."
   ]
  },
  {
   "cell_type": "code",
   "execution_count": 4,
   "metadata": {
    "collapsed": true
   },
   "outputs": [],
   "source": [
    "# create v as a 2-dimensional matrix (three rows & one column)\n",
    "\n"
   ]
  },
  {
   "cell_type": "markdown",
   "metadata": {
    "slideshow": {
     "slide_type": "-"
    }
   },
   "source": [
    "A matrix with a single row is a **row vector**.\n",
    "\n",
    "### $$\\vec{u} = \\left[ \\begin{array}{c}\n",
    "1&3&7\n",
    "\\end{array} \\right]$$"
   ]
  },
  {
   "cell_type": "code",
   "execution_count": 5,
   "metadata": {
    "collapsed": true
   },
   "outputs": [],
   "source": [
    "# create u as a 2-dimensional matrix (one row & three columns)"
   ]
  },
  {
   "cell_type": "markdown",
   "metadata": {
    "slideshow": {
     "slide_type": "slide"
    }
   },
   "source": [
    "<a id=\"vectors-and-matricies-are-useful-for-multi-dimensional-concepts\"></a>\n",
    "<a id=\"vectors-and-matricies-are-useful-for-multi-dimensional-concepts\"></a>\n",
    "<a id=\"vectors-and-matricies-are-useful-for-multi-dimensional-concepts\"></a>\n",
    "### Vectors and Matricies are useful for multi-dimensional concepts\n",
    "![](./assets/images/r3_vectors.png)\n",
    "\n",
    "We can represent vectors as arrows in n-dimensional space, having magnitude and direction.\n",
    "\n",
    "(Image from: \n",
    "[Louis Scharf, Linear Algebra: Vectors. OpenStax CNX. Sep 17, 2009](http://cnx.org/contents/3d05d982-e21c-4f8a-ab5a-d3e94186f924@6).)"
   ]
  },
  {
   "cell_type": "markdown",
   "metadata": {
    "slideshow": {
     "slide_type": "slide"
    }
   },
   "source": [
    "<a id=\"basic-matrix-algebra\"></a>\n",
    "## Basic matrix algebra"
   ]
  },
  {
   "cell_type": "markdown",
   "metadata": {
    "slideshow": {
     "slide_type": "slide"
    }
   },
   "source": [
    "<a id=\"addition-and-substraction\"></a>\n",
    "### Addition and substaction\n",
    "Vector **addition** is straightforward. If two vectors are of equal dimensions:\n",
    "\n",
    "### $$\\vec{v} = \\left[ \\begin{array}{c}\n",
    "1 \\\\\n",
    "3 \\\\\n",
    "7\n",
    "\\end{array} \\right], \\;\\; \\vec{w} = \\left[ \\begin{array}{c}\n",
    "1 \\\\\n",
    "0 \\\\\n",
    "1\n",
    "\\end{array} \\right]$$"
   ]
  },
  {
   "cell_type": "code",
   "execution_count": 20,
   "metadata": {
    "collapsed": true
   },
   "outputs": [],
   "source": [
    "# create v and w\n",
    "\n",
    "v = np.array([1,2,3]).reshape((3,1))\n",
    "w = np.array([4,5,6]).reshape((3,1))"
   ]
  },
  {
   "cell_type": "markdown",
   "metadata": {
    "slideshow": {
     "slide_type": "-"
    }
   },
   "source": [
    "### $$\\vec{v} + \\vec{w} =\n",
    "\\left[ \\begin{array}{c}\n",
    "1 \\\\\n",
    "3 \\\\\n",
    "7\n",
    "\\end{array} \\right] + \\left[ \\begin{array}{c}\n",
    "1 \\\\\n",
    "0 \\\\\n",
    "1\n",
    "\\end{array} \\right] = \n",
    "\\left[ \\begin{array}{c}\n",
    "1+1 \\\\\n",
    "3+0 \\\\\n",
    "7+1\n",
    "\\end{array} \\right] = \n",
    "\\left[ \\begin{array}{c}\n",
    "2 \\\\\n",
    "3 \\\\\n",
    "8\n",
    "\\end{array} \\right]\n",
    "$$\n",
    "\n",
    "(Subtraction is similar.)"
   ]
  },
  {
   "cell_type": "code",
   "execution_count": 21,
   "metadata": {},
   "outputs": [
    {
     "data": {
      "text/plain": [
       "array([[5],\n",
       "       [7],\n",
       "       [9]])"
      ]
     },
     "execution_count": 21,
     "metadata": {},
     "output_type": "execute_result"
    }
   ],
   "source": [
    "# compute v + w (column vectors)\n",
    "\n",
    "v+w"
   ]
  },
  {
   "cell_type": "markdown",
   "metadata": {},
   "source": [
    "Having the vectors be rows or columns will _not_ affect the operation, so long as both vectors are the same shape."
   ]
  },
  {
   "cell_type": "code",
   "execution_count": 22,
   "metadata": {},
   "outputs": [
    {
     "data": {
      "text/plain": [
       "array([[5, 7, 9]])"
      ]
     },
     "execution_count": 22,
     "metadata": {},
     "output_type": "execute_result"
    }
   ],
   "source": [
    "# compute v + w (row vectors)\n",
    "\n",
    "v.T + w.T "
   ]
  },
  {
   "cell_type": "markdown",
   "metadata": {},
   "source": [
    "### What if our vectors have different shapes?\n",
    "\n",
    "First, lets look at adding vectors with the same shape (row) but different sizes."
   ]
  },
  {
   "cell_type": "code",
   "execution_count": 18,
   "metadata": {},
   "outputs": [
    {
     "data": {
      "text/plain": [
       "array([ 7,  9, 11])"
      ]
     },
     "execution_count": 18,
     "metadata": {},
     "output_type": "execute_result"
    }
   ],
   "source": [
    "# A:\n",
    "\n"
   ]
  },
  {
   "cell_type": "markdown",
   "metadata": {},
   "source": [
    "We can see that the single value in vector '`w`' is added to all of the values on vetor '`v`'.\n",
    "\n",
    "### $$\\vec{v} + \\vec{w} =\n",
    "\\left[ \\begin{array}{c}\n",
    "2&3&9\n",
    "\\end{array} \\right] + \\left[ \\begin{array}{c}\n",
    "2 \n",
    "\\end{array} \\right] = \n",
    "\\left[ \\begin{array}{c}\n",
    "2+2&3+2&9+2\n",
    "\\end{array} \\right] = \n",
    "\\left[ \\begin{array}{c}\n",
    "4&5&11\n",
    "\\end{array} \\right]\n",
    "$$\n",
    "\n",
    "Lets see how this applies to vectors of different shapes."
   ]
  },
  {
   "cell_type": "code",
   "execution_count": null,
   "metadata": {
    "collapsed": true
   },
   "outputs": [],
   "source": [
    "# A:\n",
    "\n"
   ]
  },
  {
   "cell_type": "markdown",
   "metadata": {},
   "source": [
    "While we start with a vector of shape [1,3] and another that is [3,1], we end up with a matrix with a shape of [3,3].  How is this possible?\n",
    "\n",
    "Below we can see that the first value in vector `w` is added to all of the values in vector `v` to make the first row of the matrix.  This process is repeated with the second and thrid values of vector `w` to create the respecting second and third rows of the resulting matrix.\n",
    "\n",
    "### $$\\vec{v} + \\vec{w} =\n",
    "\\left[ \\begin{array}{c}\n",
    "1&2&3\n",
    "\\end{array} \\right] + \\left[ \\begin{array}{c}\n",
    "3 \\\\\n",
    "6 \\\\\n",
    "9\n",
    "\\end{array} \\right] = \n",
    "\\left[ \\begin{array}{c}\n",
    "1+3&2+3&3+3 \\\\\n",
    "1+6&2+6&3+6 \\\\\n",
    "1+9&2+0&3+9\n",
    "\\end{array} \\right] = \n",
    "\\left[ \\begin{array}{c}\n",
    "4&5&6 \\\\\n",
    "7&8&9 \\\\\n",
    "10&11&12\n",
    "\\end{array} \\right]\n",
    "$$"
   ]
  },
  {
   "cell_type": "markdown",
   "metadata": {
    "slideshow": {
     "slide_type": "slide"
    }
   },
   "source": [
    "<a id=\"scalar-multiplication\"></a>\n",
    "### Scalar multiplication\n",
    "We scale a vector with **scalar multiplication**, multiplying a vector by a scalar (single quantity):\n",
    "\n",
    "### $$ 2 \\left[ \\begin{array}{c}\n",
    "1 \\\\\n",
    "3 \\\\\n",
    "7\n",
    "\\end{array} \\right] = \n",
    " \\left[ \\begin{array}{c}\n",
    "2 \\cdot 1 \\\\\n",
    "2 \\cdot 3 \\\\\n",
    "2 \\cdot 7\n",
    "\\end{array} \\right] = \n",
    " \\left[ \\begin{array}{c}\n",
    "2 \\\\\n",
    "6 \\\\\n",
    "14\n",
    "\\end{array} \\right]$$\n",
    "\n",
    "_It is kind of similar to adding vectors of different sizes._"
   ]
  },
  {
   "cell_type": "code",
   "execution_count": 23,
   "metadata": {},
   "outputs": [
    {
     "data": {
      "text/plain": [
       "array([[2],\n",
       "       [4],\n",
       "       [6]])"
      ]
     },
     "execution_count": 23,
     "metadata": {},
     "output_type": "execute_result"
    }
   ],
   "source": [
    "# multiply v by 2\n",
    "\n",
    "v*2"
   ]
  },
  {
   "cell_type": "markdown",
   "metadata": {
    "slideshow": {
     "slide_type": "-"
    }
   },
   "source": [
    "If $\\vec{a} = \\left[ \\begin{array}{c}\n",
    "2 \\\\\n",
    "1 \n",
    "\\end{array} \\right]$ and $b = 3$:\n",
    "\n",
    "$b*\\vec{a} = 3*\\left[ \\begin{array}{c}\n",
    "2 \\\\\n",
    "1 \n",
    "\\end{array} \\right] = \\left[ \\begin{array}{c}\n",
    "6 \\\\\n",
    "3 \n",
    "\\end{array} \\right]$\n",
    "\n",
    "![](./assets/images/scalar_multiplication_3a.png)"
   ]
  },
  {
   "cell_type": "markdown",
   "metadata": {},
   "source": [
    "The nature of the operation remains the same for vectors with row shapes as well."
   ]
  },
  {
   "cell_type": "code",
   "execution_count": 6,
   "metadata": {
    "collapsed": true
   },
   "outputs": [],
   "source": [
    "# A:\n"
   ]
  },
  {
   "cell_type": "markdown",
   "metadata": {
    "slideshow": {
     "slide_type": "slide"
    }
   },
   "source": [
    "<a id=\"vector-norm\"></a>\n",
    "### Vector norm\n",
    "The **magnitude** of a vector $\\vec{v} \\in \\mathbb{R}^{n}$ in is interpretable as its length in n-dimensional space, and is calculable via the Euclidean distance:\n",
    "\n",
    "$\\vec{v} = \\left[ \\begin{array}{c}\n",
    "v_{1} \\\\\n",
    "v_{2} \\\\\n",
    "\\vdots \\\\\n",
    "v_{n}\n",
    "\\end{array} \\right]$\n",
    "\n",
    "then $\\| \\vec{v} \\| = \\sqrt{v_{1}^{2} + v_{2}^{2} + ... + v_{n}^{2}}$\n",
    "\n",
    "E.g. if $\\vec{v} = \n",
    "\\left[ \\begin{array}{c}\n",
    "3 \\\\\n",
    "4\n",
    "\\end{array} \\right]$, then $\\| \\vec{v} \\| = \\sqrt{3^{2} + 4^{2}} = 5$\n",
    "\n",
    "This is also called the vector **norm**. You will see this often in machine learning as _least squares_."
   ]
  },
  {
   "cell_type": "code",
   "execution_count": 25,
   "metadata": {},
   "outputs": [
    {
     "data": {
      "text/plain": [
       "5.0"
      ]
     },
     "execution_count": 25,
     "metadata": {},
     "output_type": "execute_result"
    }
   ],
   "source": [
    "# A:\n",
    "\n",
    "v = np.array([[3],[4]])\n",
    "\n",
    "np.linalg.norm(v)"
   ]
  },
  {
   "cell_type": "markdown",
   "metadata": {},
   "source": [
    "#### Independent practice  \n",
    "Use vectors `u` & `v`, given below, to calculate the following.  First calculate by hand, then with numpy.  \n",
    "\n",
    "- Find sum of vectors `u` and `v`\n",
    "- Find the difference between `u` and `v`\n",
    "- Find the scalar product of `u` and `3`\n",
    "- Find magnitude of vector `u`"
   ]
  },
  {
   "cell_type": "code",
   "execution_count": 27,
   "metadata": {
    "collapsed": true
   },
   "outputs": [],
   "source": [
    "u = np.array([3.0,4.0]).reshape((2,1))\n",
    "\n",
    "v = np.array([2.0,1.0]).reshape((2,1))"
   ]
  },
  {
   "cell_type": "code",
   "execution_count": 28,
   "metadata": {},
   "outputs": [
    {
     "data": {
      "text/plain": [
       "array([[ 5.],\n",
       "       [ 5.]])"
      ]
     },
     "execution_count": 28,
     "metadata": {},
     "output_type": "execute_result"
    }
   ],
   "source": [
    "# A: \n",
    "v+u\n",
    "\n"
   ]
  },
  {
   "cell_type": "code",
   "execution_count": 29,
   "metadata": {
    "scrolled": true
   },
   "outputs": [
    {
     "data": {
      "text/plain": [
       "array([[-1.],\n",
       "       [-3.]])"
      ]
     },
     "execution_count": 29,
     "metadata": {},
     "output_type": "execute_result"
    }
   ],
   "source": [
    "v-u\n"
   ]
  },
  {
   "cell_type": "code",
   "execution_count": 32,
   "metadata": {},
   "outputs": [
    {
     "data": {
      "text/plain": [
       "array([[  9.],\n",
       "       [ 12.]])"
      ]
     },
     "execution_count": 32,
     "metadata": {},
     "output_type": "execute_result"
    }
   ],
   "source": [
    "u*3\n"
   ]
  },
  {
   "cell_type": "code",
   "execution_count": 33,
   "metadata": {},
   "outputs": [
    {
     "data": {
      "text/plain": [
       "5.0"
      ]
     },
     "execution_count": 33,
     "metadata": {},
     "output_type": "execute_result"
    }
   ],
   "source": [
    "np.linalg.norm(u)"
   ]
  },
  {
   "cell_type": "markdown",
   "metadata": {
    "slideshow": {
     "slide_type": "slide"
    }
   },
   "source": [
    "<a id=\"dot-product\"></a>\n",
    "### Dot product\n",
    "The **dot product** of two _n_-dimensional vectors is:\n",
    "\n",
    "### $$ \\vec{v} \\cdot \\vec{w} =\\sum _{i=1}^{n}v_{i}w_{i}=v_{1}w_{1}+v_{2}w_{2}+\\cdots +v_{n}w_{n} $$\n",
    "\n",
    "So, if:\n",
    "\n",
    "### $$\\vec{v} = \\left[ \\begin{array}{c}\n",
    "1 \\\\\n",
    "3 \\\\\n",
    "7\n",
    "\\end{array} \\right], \\vec{w} = \\left[ \\begin{array}{c}\n",
    "1 \\\\\n",
    "0 \\\\\n",
    "1\n",
    "\\end{array} \\right]$$\n",
    "\n",
    "### $$ \\vec{v} \\cdot \\vec{w} = 1*1 + 3*0 + 7*1 = 8 $$"
   ]
  },
  {
   "cell_type": "code",
   "execution_count": 4,
   "metadata": {},
   "outputs": [
    {
     "data": {
      "text/plain": [
       "array([[8]])"
      ]
     },
     "execution_count": 4,
     "metadata": {},
     "output_type": "execute_result"
    }
   ],
   "source": [
    "# calculate the dot product\n",
    "\n",
    "v = np.array([1,3,7]).reshape(1,3)\n",
    "w = np.array([1,0,1]).reshape(3,1)\n",
    "d = v.dot(w)\n",
    "\n",
    "d"
   ]
  },
  {
   "cell_type": "markdown",
   "metadata": {
    "slideshow": {
     "slide_type": "slide"
    }
   },
   "source": [
    "<a id=\"matrix-multiplication\"></a>\n",
    "### Matrix multiplication\n",
    "**Matrix multiplication**, $A_{mn} * B_{ij}$, is valid when the left matrix has the same number of columns as the right matrix has rows ($n = i$). Each entry is the dot product of corresponding row and column vectors.\n",
    "\n",
    "![](./assets/images/matrix-multiply-a.gif)\n",
    "(Image: mathisfun.com!)"
   ]
  },
  {
   "cell_type": "markdown",
   "metadata": {
    "slideshow": {
     "slide_type": "fragment"
    }
   },
   "source": [
    "### $$\\left[ \\begin{array}{c}\n",
    "1 & 2 & 3  \\\\\n",
    "4 & 5 & 6\n",
    "\\end{array} \\right]*\n",
    "\\left[ \\begin{array}{c}\n",
    "7 & 8 \\\\\n",
    "9 & 10 \\\\\n",
    "11 & 12 \n",
    "\\end{array} \\right] = \n",
    "\\left[ \\begin{array}{c}\n",
    "1*7 + 2*9 + 3*11 & ... \\\\\n",
    "... & ... \\\\\n",
    "\\end{array} \\right]\n",
    "= \n",
    "\\left[ \\begin{array}{c}\n",
    "58 & 64 \\\\\n",
    "139 & 154 \\\\\n",
    "\\end{array} \\right]\n",
    "$$"
   ]
  },
  {
   "cell_type": "code",
   "execution_count": null,
   "metadata": {
    "collapsed": true
   },
   "outputs": [],
   "source": [
    "# A:"
   ]
  },
  {
   "cell_type": "markdown",
   "metadata": {
    "slideshow": {
     "slide_type": "slide"
    }
   },
   "source": [
    "<a id=\"the-identity-matrix\"></a>\n",
    "### The identity matrix\n",
    "The **identity matrix**, $I_{n}$ is the matrix where $I_{n} A = A$. This is like multiplying by 1:\n",
    "\n",
    "### $$ I \\cdot \\left[ \\begin{array}{c}\n",
    "a_{11} & a_{12} \\\\\n",
    "a_{21} & a_{22} \n",
    "\\end{array} \\right] = \\left[ \\begin{array}{c}\n",
    "a_{11} & a_{12} \\\\\n",
    "a_{21} & a_{22} \n",
    "\\end{array} \\right]$$\n",
    "\n",
    "E.g.:\n",
    "\n",
    "### $$ \\left[ \\begin{array}{c}\n",
    "1 & 0 \\\\\n",
    "0 & 1 \n",
    "\\end{array} \\right] \\cdot \\left[ \\begin{array}{c}\n",
    "3 & 4 \\\\\n",
    "5 & 6 \n",
    "\\end{array} \\right] = \\left[ \\begin{array}{c}\n",
    "(1 \\cdot 3 + 0 \\cdot 5) & (1 \\cdot 4 + 0 \\cdot 6) \\\\\n",
    "(0 \\cdot 3 + 1 \\cdot 5) & (0 \\cdot 4 + 1 \\cdot 6) \n",
    "\\end{array} \\right] =\n",
    "\\left[ \\begin{array}{c}\n",
    "3 & 4 \\\\\n",
    "5 & 6 \n",
    "\\end{array} \\right]$$\n",
    "\n",
    "This is the matrix equivalent of multiplying a value times the identity 1."
   ]
  },
  {
   "cell_type": "markdown",
   "metadata": {},
   "source": [
    "### Independent Practice\n",
    "Calculate the dor product of the below matrices by hand and then check your results using numpy.\n",
    "\n",
    "### $$ \\left[ \\begin{array}{c}\n",
    "1&2&3 \\\\\n",
    "4&5&6\n",
    "\\end{array} \\right] \\cdot \\left[ \\begin{array}{c}\n",
    "1&2 \\\\\n",
    "3&4 \\\\\n",
    "5&6\n",
    "\\end{array} \\right]$$"
   ]
  },
  {
   "cell_type": "code",
   "execution_count": 5,
   "metadata": {
    "collapsed": true,
    "slideshow": {
     "slide_type": "slide"
    }
   },
   "outputs": [],
   "source": [
    "# Create 2 x 3 matrix A, of type array\n",
    "A = np.array([[1, 2, 3], [4, 5, 6]]) \n",
    "# Create 3 x 2 matrix B, of type array\n",
    "B = np.array([[1, 2], [3, 4], [5,6]]) "
   ]
  },
  {
   "cell_type": "code",
   "execution_count": 8,
   "metadata": {},
   "outputs": [
    {
     "name": "stdout",
     "output_type": "stream",
     "text": [
      "[22, 28]\n",
      "[49, 12]\n",
      "[22, 28]\n",
      "[49, 12]\n"
     ]
    },
    {
     "ename": "AttributeError",
     "evalue": "'list' object has no attribute 'dot'",
     "output_type": "error",
     "traceback": [
      "\u001b[0;31m---------------------------------------------------------------------------\u001b[0m",
      "\u001b[0;31mAttributeError\u001b[0m                            Traceback (most recent call last)",
      "\u001b[0;32m<ipython-input-8-34ae6fe1f236>\u001b[0m in \u001b[0;36m<module>\u001b[0;34m()\u001b[0m\n\u001b[1;32m     11\u001b[0m \u001b[0;34m\u001b[0m\u001b[0m\n\u001b[1;32m     12\u001b[0m \u001b[0;34m\" \"\u001b[0m\u001b[0;34m\u001b[0m\u001b[0m\n\u001b[0;32m---> 13\u001b[0;31m \u001b[0mc\u001b[0m \u001b[0;34m=\u001b[0m \u001b[0ma\u001b[0m\u001b[0;34m.\u001b[0m\u001b[0mdot\u001b[0m\u001b[0;34m(\u001b[0m\u001b[0mb\u001b[0m\u001b[0;34m)\u001b[0m\u001b[0;34m\u001b[0m\u001b[0m\n\u001b[0m\u001b[1;32m     14\u001b[0m \u001b[0mc\u001b[0m\u001b[0;34m\u001b[0m\u001b[0m\n",
      "\u001b[0;31mAttributeError\u001b[0m: 'list' object has no attribute 'dot'"
     ]
    }
   ],
   "source": [
    "# A:\n",
    "\n",
    "a = [(1*1 + 2*3 + 3*5  ), (2*1 + 4*2 + 3*6)]\n",
    "b = [(1*4 + 3*5 + 5*6 ) ,(2*4 + 4)]\n",
    "\n",
    "print a\n",
    "print b\n",
    "\n",
    "print a\n",
    "print b\n",
    "\n",
    "\" \"\n",
    "c = a.dot(b)\n",
    "c\n"
   ]
  },
  {
   "cell_type": "markdown",
   "metadata": {
    "slideshow": {
     "slide_type": "slide"
    }
   },
   "source": [
    "<a id=\"applications-to-machine-learning\"></a>\n",
    "## Applications to machine learning\n",
    "---\n",
    "\n",
    "<a id=\"distance-between-actual-values-and-predicted-values\"></a>\n",
    "\n",
    "### Distance between actual values and predicted values\n",
    "We often need to know the difference between predicted values and actual values.\n",
    "We calculate this as:\n",
    "\n",
    "### $$\\| \\vec{actual} - \\vec{predicted} \\| =\\sqrt{(actual_1 - predicted_1)^2 + (actual_2 - predict_2)^2}$$\n",
    "\n",
    "<a id=\"least-squares\"></a>\n",
    "\n",
    "### Least squares\n",
    "Many machine learning models are composed in the following form:\n",
    "\n",
    "### $$\\min \\| \\vec{y} - f(X) \\|$$\n",
    "\n",
    "The goal is to minimize the distance between model predictions and actual data."
   ]
  },
  {
   "cell_type": "markdown",
   "metadata": {
    "slideshow": {
     "slide_type": "slide"
    }
   },
   "source": [
    "<a id=\"independent-practice\"></a>\n",
    "## Independent practice\n",
    "---\n",
    "\n",
    "Review the numpy operations, and try out their examples, here: http://docs.scipy.org/doc/numpy/reference/routines.linalg.html"
   ]
  },
  {
   "cell_type": "code",
   "execution_count": null,
   "metadata": {
    "collapsed": true
   },
   "outputs": [],
   "source": []
  },
  {
   "cell_type": "markdown",
   "metadata": {
    "slideshow": {
     "slide_type": "slide"
    }
   },
   "source": [
    "<a id=\"additional-resources\"></a>\n",
    "## Additional resources\n",
    "---\n",
    "\n",
    "+ For a surprisingly comprehensive (yet dense!) review, be sure to check out [Linear algebra in four pages](http://www-bcf.usc.edu/~lototsky/MATH408/LinAlg1.pdf)\n",
    "+ This [deck](http://cseweb.ucsd.edu/classes/wi05/cse252a/linear_algebra_review.pdf) provides great insight into linear operations and advanced geometric topics\n",
    "+ Stanford's Review and Reference [26-page](http://cs229.stanford.edu/section/cs229-linalg.pdf) guide provides a nice review\n",
    "+ Spend some time on [Khan Academy](https://www.khanacademy.org/math/linear-algebra/matrix-transformations#concept-intro)!"
   ]
  }
 ],
 "metadata": {
  "celltoolbar": "Raw Cell Format",
  "kernelspec": {
   "display_name": "Python 2",
   "language": "python",
   "name": "python2"
  },
  "language_info": {
   "codemirror_mode": {
    "name": "ipython",
    "version": 2
   },
   "file_extension": ".py",
   "mimetype": "text/x-python",
   "name": "python",
   "nbconvert_exporter": "python",
   "pygments_lexer": "ipython2",
   "version": "2.7.12"
  }
 },
 "nbformat": 4,
 "nbformat_minor": 1
}
