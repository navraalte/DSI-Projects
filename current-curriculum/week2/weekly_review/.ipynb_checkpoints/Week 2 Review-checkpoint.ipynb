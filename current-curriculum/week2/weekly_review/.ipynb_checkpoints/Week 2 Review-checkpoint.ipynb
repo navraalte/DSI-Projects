{
 "cells": [
  {
   "cell_type": "markdown",
   "metadata": {},
   "source": [
    "## OOP Review \n",
    "\n",
    "### 1. Creating an E-Commerce engine \n",
    "\n",
    "Create the foundations of a basic E-commerce engine (Business-to-Consumer). An E-commerce engine typically consists of a consumer, a shopping cart and some items. \n",
    "- What are some attributes and methods our classes must have?\n",
    "- What internal state are we keeping track of?\n",
    "- Keep in mind that items go into carts and consumers can have multiple carts!\n",
    "- Do we require inheritance?\n",
    "- What are some other components that can be added to our E-commerce engine?"
   ]
  },
  {
   "cell_type": "code",
   "execution_count": null,
   "metadata": {
    "collapsed": true
   },
   "outputs": [],
   "source": [
    "#Class\n",
    "\n",
    "#ECommmerce \n",
    "#CX\n",
    "#Cart \n",
    "\n",
    "#Methods:\n",
    "\n",
    "# CX Methods\n",
    "# Add to cart \n",
    "\n",
    "\n",
    "#Cart Methods \n",
    "\n",
    "# Add_to_cart()\n",
    "# Remove_items()\n",
    "# Reset_cart()\n",
    "# List_items_and_total()\n",
    "# Check_out\n",
    "\n",
    "\n",
    "\n",
    "\n",
    "\n",
    "\n",
    "#, purch_hist, spent_total items_in_cart\n",
    "\n",
    "\n",
    "class Customer(object):\n",
    "    def __init__(self, first_name, last_name, email, cx_id, address):\n",
    "        self.first_name, self.last_name, self.email, self.cx_id,  self.address, = first_name,\n",
    "        last_name, email, cx_id, address\n",
    "        \n",
    "    def change_address(self, address):                 #changes the address of the cutomer\n",
    "        \n",
    "    def change_name(self, first_name, last_name):       #changes the name of the cutomer\n",
    "        \n",
    "    def change_email(self, email):                     #changes the email of the cutomer\n",
    "        \n",
    "\n",
    "    \n",
    "class Cart(Customer):\n",
    "    def __init__(self, items, item_quantity, total_number, total_price, stage):\n",
    "        self.items, self.item_quantity, self.total_number, self.total_price, self.stage = items, \n",
    "        item_quantity, total_number, total_price, stage\n",
    "        \n",
    "        \n",
    "    def remove_item_from_cart(self, items):            #adds item and displays new total of cart\n",
    "    \n",
    "    def change_quantity(self, new_quantity):         #changes the quanity of a selected item\n",
    "    \n",
    "    def get_cart_contents(self, items):               #displays the carts items w/ prices quantity, and the cart total\n",
    "            \n",
    "    def checkout(self, items, total_number, total_price, stage):    # Allows customer to check out with selected items\n",
    "                                                                    # progresses stage to checkout \n",
    "        \n",
    "                        \n",
    "        \n",
    "class Item(object):\n",
    "    def __init__(self, name, price, stock, category, rating, description):\n",
    "        self.name, self.price, self.stock, self.category, self.rating, self.description = name,\n",
    "        price, stock, category, rating, description\n",
    "        \n",
    "        \n",
    "    def add_item(self, item):                      #Add Items To Cart \n",
    "         \n",
    "    def change_quantity(self, item):               #Changes the quantity of the items to add to the cart\n",
    "        \n",
    "        \n",
    "        \n",
    "    "
   ]
  },
  {
   "cell_type": "markdown",
   "metadata": {},
   "source": [
    "### 2. Hackerrank Contest\n",
    "\n",
    "#### Please create an account on Hackerrank to enter the Week 2 contest!\n",
    "\n",
    "#### [Enter here!](https://www.hackerrank.com/week-2-contests)"
   ]
  },
  {
   "cell_type": "code",
   "execution_count": null,
   "metadata": {
    "collapsed": true
   },
   "outputs": [],
   "source": []
  }
 ],
 "metadata": {
  "anaconda-cloud": {},
  "kernelspec": {
   "display_name": "Python 2",
   "language": "python",
   "name": "python2"
  },
  "language_info": {
   "codemirror_mode": {
    "name": "ipython",
    "version": 2
   },
   "file_extension": ".py",
   "mimetype": "text/x-python",
   "name": "python",
   "nbconvert_exporter": "python",
   "pygments_lexer": "ipython2",
   "version": "2.7.12"
  }
 },
 "nbformat": 4,
 "nbformat_minor": 1
}
