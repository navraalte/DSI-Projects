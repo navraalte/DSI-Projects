{
 "cells": [
  {
   "cell_type": "markdown",
   "metadata": {},
   "source": [
    "<img src=\"https://ga-dash.s3.amazonaws.com/production/assets/logo-9f88ae6c9c3871690e33280fcf557f33.png\" style=\"float: left; margin: 15px;\">\n",
    "### Object Oriented Programming Part II\n",
    "\n",
    "Week 2 | Lesson 2.x\n",
    "\n",
    "---\n",
    "| TIMING  | TYPE  \n",
    "|:-:|---|---|\n",
    "| 25 min| [Review: OOP Jargon](#review) |\n",
    "| 10 min| [Sklearn, Pandas](#hook) |\n",
    "| 45 min| [OOP: Diving Deeper](#content) |\n",
    "| 20 min| [Conclusion](#conclusion) |\n",
    "| 5 min | [Additional Resources](#more)\n",
    "\n",
    "---\n",
    "\n",
    "### Lesson Objectives\n",
    "*After this lesson, you will be able to:*\n",
    "- Design and write classes in Python\n",
    "- Instantiate objects from commonly used libraries \n",
    "- Understand the difference between OOP and FP and why OOP is important \n",
    "\n",
    "---\n",
    "### Student Pre-Work \n",
    "\n",
    "*Before this lesson, you should already be able to:*\n",
    "\n",
    "- Understand the fundamental primitives of OOP\n",
    "\n"
   ]
  },
  {
   "cell_type": "markdown",
   "metadata": {},
   "source": [
    "As you have seen from the earliest code examples in this course, it is not compulsory to organise your code into classes when you program in Python. You can use functions by themselves, in what is called a procedural programming approach. However, while a procedural style can suffice for writing **short, simple programs, an object-oriented programming (OOP) approach becomes more valuable the more your program grows in size and complexity.**\n",
    "\n",
    "The most important principle of object orientation is _encapsulation_: the idea that data inside the object should only be accessed through a public interface – that is, the object’s methods.\n",
    "\n",
    "\n"
   ]
  },
  {
   "cell_type": "markdown",
   "metadata": {},
   "source": [
    "---\n",
    "<a name=\"review\"></a>\n",
    "### Review: OOP from Yesterday \n",
    "\n",
    "Let's define the following terms:\n",
    "\n",
    "    - class\n",
    "\n",
    "    - object\n",
    "    \n",
    "    - self \n",
    "    \n",
    "    - __init__\n",
    "    \n",
    "    - Instance Attributes and Methods \n",
    "    \n",
    "    - Class Attributes \n",
    "    \n",
    "    - Inheritance "
   ]
  },
  {
   "cell_type": "markdown",
   "metadata": {},
   "source": [
    "`class`  is the _fundamental building_ block in Python. It is used to define a `class` which allows us to logically group data and functions together. As I mentioned yesterday, they can be thought of as __blueprints for creating objects__."
   ]
  },
  {
   "cell_type": "code",
   "execution_count": 5,
   "metadata": {
    "collapsed": true
   },
   "outputs": [],
   "source": [
    "class Customer(object):\n",
    "    \n",
    "    def __init__(self, name, balance=0.0):\n",
    "        self.name = name\n",
    "        self.balance = balance \n",
    "        \n",
    "    def withdraw(self, amount):\n",
    "        if amount > self.balance:\n",
    "            raise RuntimeError('Amount greater than available balance.')\n",
    "        self.balance -= amount\n",
    "        self.last_mnt = amount \n",
    "        return self.balance\n",
    "    \n",
    "    def deposit(self, amount):\n",
    "        self.balance += amount\n",
    "        return self.balance\n"
   ]
  },
  {
   "cell_type": "markdown",
   "metadata": {},
   "source": [
    "Above when we defined `Customer`, we have not created a new customer. We have just defined a blueprint of creating one. Objects are the __buildings__ you create with your `class`. The following `vrushank` object is know as an __instance__ of the `Customer` class. "
   ]
  },
  {
   "cell_type": "code",
   "execution_count": 6,
   "metadata": {
    "collapsed": true
   },
   "outputs": [],
   "source": [
    "vrushank = Customer('Vrushank', 1000)"
   ]
  },
  {
   "cell_type": "code",
   "execution_count": 7,
   "metadata": {},
   "outputs": [
    {
     "data": {
      "text/plain": [
       "{'balance': 1000, 'name': 'Vrushank'}"
      ]
     },
     "execution_count": 7,
     "metadata": {},
     "output_type": "execute_result"
    }
   ],
   "source": [
    "vrushank.__dict__"
   ]
  },
  {
   "cell_type": "code",
   "execution_count": 8,
   "metadata": {},
   "outputs": [
    {
     "name": "stdout",
     "output_type": "stream",
     "text": [
      "900\n",
      "800\n"
     ]
    }
   ],
   "source": [
    "# note for methods this two things are equivalent \n",
    "print vrushank.withdraw(100)\n",
    "print Customer.withdraw(vrushank, 100)"
   ]
  },
  {
   "cell_type": "code",
   "execution_count": 11,
   "metadata": {},
   "outputs": [
    {
     "name": "stdout",
     "output_type": "stream",
     "text": [
      "{'balance': 800, 'name': 'Vrushank', 'last_mnt': 100, 'bankrupt': 'yes'}\n"
     ]
    }
   ],
   "source": [
    "vrushank.__dict__\n",
    "vrushank.bankrupt = 'yes'\n",
    "print vrushank.__dict__"
   ]
  },
  {
   "cell_type": "markdown",
   "metadata": {},
   "source": [
    "Let's quickly go through Datacamp Tutorial to make sure we understand the fundamental building blocks of `class` and `object`.\n",
    "\n",
    "<a href=https://www.learnpython.org/en/Classes_and_Objects> Datacamp Tutorial </a>"
   ]
  },
  {
   "cell_type": "markdown",
   "metadata": {},
   "source": [
    "The `self` parameter is a reference to the class instance. It is always the first argument of __every class method.__ By convention this argument is always named self. \n",
    "\n",
    "Check out: Guido's Proposal on why `self` is here to stay <a href=http://neopythonic.blogspot.com/2008/10/why-explicit-self-has-to-stay.html> Guido's Blog Post </a>"
   ]
  },
  {
   "cell_type": "markdown",
   "metadata": {},
   "source": [
    "`__init__` is the method used for initializing an object. \n",
    "\n",
    "Instance Attributes and Methods: A function defined in a class is called a \"method.\"Methods have access to all of the data contained in an instance object. Instance attributes are associated with a particular instance of the class and are defined with `self`. Class attributes are defined globally within the class. "
   ]
  },
  {
   "cell_type": "code",
   "execution_count": null,
   "metadata": {
    "collapsed": true
   },
   "outputs": [],
   "source": []
  },
  {
   "cell_type": "markdown",
   "metadata": {},
   "source": [
    "## Check for Understanding \n",
    "\n",
    "- Briefly describe a possible collection of classes which can be used to represent a music collection (for example, inside a music player), focusing on how they would be related by composition. You should include classes for songs, artists, albums and playlists. Hint: write down the four class names, draw a line between each pair of classes which you think should have a relationship, and decide what kind of relationship would be the most appropriate.\n",
    "\n",
    "    For simplicity you can assume that any song or album has a single “artist” value (which could represent more than one person), but you should include compilation albums (which contain songs by a selection of different artists). The “artist” of a compilation album can be a special value like “Various Artists”. You can also assume that each song is associated with a single album, but that multiple copies of the same song (which are included in different albums) can exist.\n",
    "    \n",
    "\n",
    "- Write a simple implementation of this model which clearly shows how the different classes are composed. Write some example code to show how you would use your classes to create an album and add all its songs to a playlist. Hint: if two objects are related to each other bidirectionally, you will have to decide how this link should be formed – one of the objects will have to be created before the other, so you can’t link them to each other in both directions simultaneously!"
   ]
  },
  {
   "cell_type": "code",
   "execution_count": 47,
   "metadata": {
    "collapsed": true
   },
   "outputs": [],
   "source": [
    "class Song(object): #every class inherits from the object class \n",
    "\n",
    "    def __init__(self, title, artist, album):\n",
    "        self.title = title\n",
    "        self.artist = artist # instance objects \n",
    "        self.album = album  # instance objects\n",
    "        \n",
    "        artist.add_song(self)\n",
    "        album.add_song(self)\n",
    "\n",
    "class Album(object):\n",
    "    \n",
    "    def __init__(self, title, artist, year):\n",
    "        self.title = title\n",
    "        self.artist = artist \n",
    "        self.year = year\n",
    "        self.songs = []\n",
    "    \n",
    "    def add_song(self, song):\n",
    "        self.songs.append(song)\n",
    "        \n",
    "class Artist(object):\n",
    "    \n",
    "    def __init__(self, name):\n",
    "        self.name = name\n",
    "        self.albums = []\n",
    "        self.songs = []\n",
    "        \n",
    "    def add_album(self, album):\n",
    "        self.albums.append(album)\n",
    "    \n",
    "    def add_song(self, song):\n",
    "        self.songs.append(song)\n",
    "        \n",
    "\n",
    "class Playlist(object):\n",
    "    def __init__(self, name):\n",
    "        self.name = name \n",
    "        self.songs = []\n",
    "    \n",
    "    def add_song(self, song):\n",
    "        self.songs.append(song)\n"
   ]
  },
  {
   "cell_type": "code",
   "execution_count": 46,
   "metadata": {
    "collapsed": true
   },
   "outputs": [],
   "source": [
    "drake = Artist(\"Drake\")\n",
    "views = Album('Views', drake, 1990)\n",
    "\n",
    "song1 = Song('Song1', drake, views)\n",
    "\n",
    "song2 = Song('Song2', drake, views)\n",
    "\n",
    "playlist = Playlist(\"Drake Songs\")\n",
    "for song in views.songs:\n",
    "    playlist.add_song(song)"
   ]
  },
  {
   "cell_type": "markdown",
   "metadata": {},
   "source": [
    "_Inheritance_ allows us to arrange classes in a heiarchy from most general to the most specific. We say that a class is a _subclass_ or a _child class_ of a class from which it inherits. "
   ]
  },
  {
   "cell_type": "code",
   "execution_count": 45,
   "metadata": {},
   "outputs": [
    {
     "data": {
      "text/plain": [
       "['Song1', 'Song2']"
      ]
     },
     "execution_count": 45,
     "metadata": {},
     "output_type": "execute_result"
    }
   ],
   "source": [
    "map(lambda x: x.title, playlist.songs)"
   ]
  },
  {
   "cell_type": "code",
   "execution_count": 22,
   "metadata": {
    "collapsed": true
   },
   "outputs": [],
   "source": [
    "class Person:\n",
    "    def __init__(self, name, surname, number):\n",
    "        self.name = name\n",
    "        self.surname = surname\n",
    "        self.number = number\n",
    "\n",
    "\n",
    "class Student(Person):\n",
    "    UNDERGRADUATE, POSTGRADUATE = range(2)\n",
    "\n",
    "    def __init__(self, student_type, *args, **kwargs):\n",
    "        self.student_type = student_type\n",
    "        self.classes = []\n",
    "        Person.__init__(self, *args, **kwargs)\n",
    "\n",
    "    def enrol(self, course):\n",
    "        self.classes.append(course)\n",
    "\n",
    "\n",
    "class StaffMember(Person):\n",
    "    PERMANENT, TEMPORARY = range(2)\n",
    "\n",
    "    def __init__(self, employment_type, *args, **kwargs):\n",
    "        self.employment_type = employment_type\n",
    "        Person.__init__(self, *args, **kwargs)\n",
    "\n",
    "\n",
    "class Lecturer(StaffMember):\n",
    "    def __init__(self, *args, **kwargs):\n",
    "        self.courses_taught = []\n",
    "        Person.__init__(self, *args, **kwargs)\n",
    "\n",
    "    def assign_teaching(self, course):\n",
    "        self.courses_taught.append(course)"
   ]
  },
  {
   "cell_type": "markdown",
   "metadata": {},
   "source": [
    "---\n",
    "<a name=\"hook\"> </a>\n",
    "\n",
    "### Applications: Python Libraries \n",
    "\n",
    "<img src=http://scikit-learn.org/stable/_static/scikit-learn-logo-small.png>\n",
    "\n",
    "<img src=http://pandas.pydata.org/_static/pandas_logo.png>"
   ]
  },
  {
   "cell_type": "markdown",
   "metadata": {},
   "source": [
    "Let's peek into the `scikit-learn` API.\n"
   ]
  },
  {
   "cell_type": "code",
   "execution_count": 48,
   "metadata": {
    "collapsed": true
   },
   "outputs": [],
   "source": [
    "from sklearn.linear_model import LinearRegression\n",
    "from sklearn.datasets import load_boston\n",
    "boston = load_boston()\n",
    "X = boston.data\n",
    "y = boston.target"
   ]
  },
  {
   "cell_type": "code",
   "execution_count": 49,
   "metadata": {
    "collapsed": true
   },
   "outputs": [],
   "source": [
    "## Instantiate the linear regression class \n",
    "lr = LinearRegression()"
   ]
  },
  {
   "cell_type": "code",
   "execution_count": 50,
   "metadata": {},
   "outputs": [
    {
     "data": {
      "text/plain": [
       "LinearRegression(copy_X=True, fit_intercept=True, n_jobs=1, normalize=False)"
      ]
     },
     "execution_count": 50,
     "metadata": {},
     "output_type": "execute_result"
    }
   ],
   "source": [
    "## Use the fit method to fit X, y \n",
    "lr.fit(X, y) "
   ]
  },
  {
   "cell_type": "code",
   "execution_count": 51,
   "metadata": {},
   "outputs": [
    {
     "data": {
      "text/plain": [
       "array([ 30.00821269,  25.0298606 ,  30.5702317 ,  28.60814055,\n",
       "        27.94288232,  25.25940048,  23.00433994,  19.5347558 ,\n",
       "        11.51696539,  18.91981483,  18.9958266 ,  21.58970854,\n",
       "        20.90534851,  19.55535931,  19.2837957 ,  19.30000174,\n",
       "        20.52889993,  16.9096749 ,  16.17067411,  18.40781636,\n",
       "        12.52040454,  17.67104565,  15.82934891,  13.80368317,\n",
       "        15.67708138,  13.3791645 ,  15.46258829,  14.69863607,\n",
       "        19.54518512,  20.87309945,  11.44806825,  18.05900412,\n",
       "         8.78841666,  14.27882319,  13.69097132,  23.81755469,\n",
       "        22.34216285,  23.11123204,  22.91494157,  31.35826216,\n",
       "        34.21485385,  28.0207132 ,  25.20646572,  24.61192851,\n",
       "        22.94438953,  22.10150945,  20.42467417,  18.03614022,\n",
       "         9.10176198,  17.20856571,  21.28259372,  23.97621248,\n",
       "        27.65853521,  24.0521088 ,  15.35989132,  31.14817003,\n",
       "        24.85878746,  33.11017111,  21.77458036,  21.08526739,\n",
       "        17.87203538,  18.50881381,  23.9879809 ,  22.54944098,\n",
       "        23.37068403,  30.36557584,  25.53407332,  21.11758504,\n",
       "        17.42468223,  20.7893086 ,  25.20349174,  21.74490595,\n",
       "        24.56275612,  24.04479519,  25.5091157 ,  23.97076758,\n",
       "        22.94823519,  23.36106095,  21.26432549,  22.4345376 ,\n",
       "        28.40699937,  26.99734716,  26.03807246,  25.06152125,\n",
       "        24.7858613 ,  27.79291889,  22.16927073,  25.89685664,\n",
       "        30.67771522,  30.83225886,  27.12127354,  27.41597825,\n",
       "        28.9456478 ,  29.08668003,  27.04501726,  28.62506705,\n",
       "        24.73038218,  35.78062378,  35.11269515,  32.25115468,\n",
       "        24.57946786,  25.59386215,  19.76439137,  20.31157117,\n",
       "        21.4353635 ,  18.53971968,  17.18572611,  20.74934949,\n",
       "        22.64791346,  19.77000977,  20.64745349,  26.52652691,\n",
       "        20.77440554,  20.71546432,  25.17461484,  20.4273652 ,\n",
       "        23.37862521,  23.69454145,  20.33202239,  20.79378139,\n",
       "        21.92024414,  22.47432006,  20.55884635,  16.36300764,\n",
       "        20.56342111,  22.48570454,  14.61264839,  15.1802607 ,\n",
       "        18.93828443,  14.0574955 ,  20.03651959,  19.41306288,\n",
       "        20.06401034,  15.76005772,  13.24771577,  17.26167729,\n",
       "        15.87759672,  19.36145104,  13.81270814,  16.44782934,\n",
       "        13.56511101,   3.98343974,  14.59241207,  12.14503093,\n",
       "         8.72407108,  12.00815659,  15.80308586,   8.50963929,\n",
       "         9.70965512,  14.79848067,  20.83598096,  18.30017013,\n",
       "        20.12575267,  17.27585681,  22.35997992,  20.07985184,\n",
       "        13.59903744,  33.26635221,  29.03938379,  25.56694529,\n",
       "        32.71732164,  36.78111388,  40.56615533,  41.85122271,\n",
       "        24.79875684,  25.3771545 ,  37.20662185,  23.08244608,\n",
       "        26.40326834,  26.65647433,  22.55412919,  24.2970948 ,\n",
       "        22.98024802,  29.07488389,  26.52620066,  30.72351225,\n",
       "        25.61835359,  29.14203283,  31.43690634,  32.9232938 ,\n",
       "        34.72096487,  27.76792733,  33.88992899,  30.99725805,\n",
       "        22.72124288,  24.76567683,  35.88131719,  33.42696242,\n",
       "        32.41513625,  34.51611818,  30.76057666,  30.29169893,\n",
       "        32.92040221,  32.11459912,  31.56133385,  40.84274603,\n",
       "        36.13046343,  32.66639271,  34.70558647,  30.09276228,\n",
       "        30.64139724,  29.29189704,  37.07062623,  42.02879611,\n",
       "        43.18582722,  22.6923888 ,  23.68420569,  17.85435295,\n",
       "        23.49543857,  17.00872418,  22.39535066,  17.06152243,\n",
       "        22.74106824,  25.21974252,  11.10601161,  24.51300617,\n",
       "        26.60749026,  28.35802444,  24.91860458,  29.69254951,\n",
       "        33.18492755,  23.77145523,  32.14086508,  29.74802362,\n",
       "        38.36605632,  39.80716458,  37.58362546,  32.39769704,\n",
       "        35.45048257,  31.23446481,  24.48478321,  33.28615723,\n",
       "        38.04368164,  37.15737267,  31.71297469,  25.26658017,\n",
       "        30.101515  ,  32.71897655,  28.42735376,  28.42999168,\n",
       "        27.2913215 ,  23.74446671,  24.11878941,  27.40241209,\n",
       "        16.32993575,  13.39695213,  20.01655581,  19.86205904,\n",
       "        21.28604604,  24.07796482,  24.20603792,  25.04201534,\n",
       "        24.91709097,  29.93762975,  23.97709054,  21.69931969,\n",
       "        37.51051381,  43.29459357,  36.48121427,  34.99129701,\n",
       "        34.80865729,  37.16296374,  40.9823638 ,  34.44211691,\n",
       "        35.83178068,  28.24913647,  31.22022312,  40.83256202,\n",
       "        39.31768808,  25.71099424,  22.30344878,  27.20551341,\n",
       "        28.51386352,  35.47494122,  36.11110647,  33.80004807,\n",
       "        35.61141951,  34.84311742,  30.35359323,  35.31260262,\n",
       "        38.79684808,  34.33296541,  40.34038636,  44.67339923,\n",
       "        31.5955473 ,  27.35994642,  20.09520596,  27.04518524,\n",
       "        27.21674397,  26.91105226,  33.43602979,  34.40228785,\n",
       "        31.83374181,  25.82416035,  24.43687139,  28.46348891,\n",
       "        27.36916176,  19.54441878,  29.11480679,  31.90852699,\n",
       "        30.77325183,  28.9430835 ,  28.88108106,  32.79876794,\n",
       "        33.20356949,  30.76568546,  35.55843485,  32.70725436,\n",
       "        28.64759861,  23.59388439,  18.5461558 ,  26.88429024,\n",
       "        23.28485442,  25.55002201,  25.48337323,  20.54343769,\n",
       "        17.61406384,  18.37627933,  24.29187594,  21.3257202 ,\n",
       "        24.88826131,  24.87143049,  22.87255605,  19.4540234 ,\n",
       "        25.11948741,  24.66816374,  23.68209656,  19.33951725,\n",
       "        21.17636041,  24.25306588,  21.59311197,  19.98766667,\n",
       "        23.34079584,  22.13973959,  21.55349196,  20.61808868,\n",
       "        20.1607571 ,  19.28455466,  22.16593919,  21.24893735,\n",
       "        21.42985456,  30.32874523,  22.04915396,  27.70610125,\n",
       "        28.54595004,  16.54657063,  14.78278261,  25.27336772,\n",
       "        27.54088054,  22.14633467,  20.46081206,  20.54472332,\n",
       "        16.88194391,  25.40066956,  14.32299547,  16.5927403 ,\n",
       "        19.63224597,  22.7117302 ,  22.19946949,  19.1989151 ,\n",
       "        22.66091019,  18.92059374,  18.22715359,  20.22444386,\n",
       "        37.47946099,  14.29172583,  15.53697148,  10.82825817,\n",
       "        23.81134987,  32.64787163,  34.61163401,  24.94604102,\n",
       "        26.00259724,   6.12085728,   0.78021126,  25.311373  ,\n",
       "        17.73465914,  20.22593282,  15.83834861,  16.83742401,\n",
       "        14.43123608,  18.47647773,  13.42427933,  13.05677824,\n",
       "         3.27646485,   8.05936467,   6.13903114,   5.62271213,\n",
       "         6.44935154,  14.20597451,  17.21022671,  17.29035065,\n",
       "         9.89064351,  20.21972222,  17.94511052,  20.30017588,\n",
       "        19.28790318,  16.33300008,   6.56843662,  10.87541577,\n",
       "        11.88704097,  17.81098929,  18.25461066,  12.99282707,\n",
       "         7.39319053,   8.25609561,   8.07899971,  19.98563715,\n",
       "        13.69651744,  19.83511412,  15.2345378 ,  16.93112419,\n",
       "         1.69347406,  11.81116263,  -4.28300934,   9.55007844,\n",
       "        13.32635521,   6.88351077,   6.16827417,  14.56933235,\n",
       "        19.59292932,  18.1151686 ,  18.52011987,  13.13707457,\n",
       "        14.59662601,   9.8923749 ,  16.31998048,  14.06750301,\n",
       "        14.22573568,  13.00752251,  18.13277547,  18.66645496,\n",
       "        21.50283795,  17.00039379,  15.93926602,  13.32952716,\n",
       "        14.48949211,   8.78366731,   4.8300317 ,  13.06115528,\n",
       "        12.71101472,  17.2887624 ,  18.73424906,  18.05271013,\n",
       "        11.49855612,  13.00841512,  17.66975577,  18.12342294,\n",
       "        17.51503231,  17.21307203,  16.48238543,  19.40079737,\n",
       "        18.57392951,  22.47833186,  15.24179836,  15.78327609,\n",
       "        12.64853778,  12.84121049,  17.17173661,  18.50906858,\n",
       "        19.02803874,  20.16441773,  19.76975335,  22.42614937,\n",
       "        20.31750314,  17.87618837,  14.3391341 ,  16.93715603,\n",
       "        16.98716629,  18.59431701,  20.16395155,  22.97743546,\n",
       "        22.45110639,  25.5707207 ,  16.39091112,  16.09765427,\n",
       "        20.52835689,  11.5429045 ,  19.20387482,  21.86820603,\n",
       "        23.47052203,  27.10034494,  28.57064813,  21.0839881 ,\n",
       "        19.4490529 ,  22.2189221 ,  19.65423066,  21.324671  ,\n",
       "        11.86231364,   8.22260592,   3.65825168,  13.76275951,\n",
       "        15.93780944,  20.62730097,  20.61035443,  16.88048035,\n",
       "        14.01017244,  19.10825534,  21.29720741,  18.45524217,\n",
       "        20.46764235,  23.53261729,  22.37869798,  27.62934247,\n",
       "        26.12983844,  22.34870269])"
      ]
     },
     "execution_count": 51,
     "metadata": {},
     "output_type": "execute_result"
    }
   ],
   "source": [
    "## Use the predict method to predict on X\n",
    "lr.predict(X) # returns an array of predictions "
   ]
  },
  {
   "cell_type": "markdown",
   "metadata": {},
   "source": [
    "> **Check for Understanding:** What classes does `LinearRegression` inherit from? \n",
    "\n",
    "Check out the source code here: <a href=https://github.com/scikit-learn/scikit-learn/blob/14031f6/sklearn/linear_model/base.py#L417> Linear Regression Source Code </a>\n",
    "\n",
    "> **Check for Understanding:** What methods and attributes does `LinearRegression` inherit from the two classes it's inheriting from?"
   ]
  },
  {
   "cell_type": "markdown",
   "metadata": {},
   "source": [
    "## Part II. Tic Tac Toe Implementation\n",
    "\n",
    "1. Let's discuss what methods and attributes should we have in our Tic Tac Toe Game. \n",
    "\n",
    "2. What __internal state__ will we be keeping track of? \n",
    "\n",
    "3. How should we represent the board? (Hint: Check out `np.chararray`)?\n",
    "\n",
    "4. How are we going to know when to end the game? \n",
    "\n",
    "5. How do we know if someone is making a valid move? \n"
   ]
  },
  {
   "cell_type": "markdown",
   "metadata": {},
   "source": [
    "A potential way to represent the board is using `np.chararray` which provides a convinient way to view arrays of string and unicode values (<a href=https://docs.scipy.org/doc/numpy-1.12.0/reference/generated/numpy.chararray.html> Numpy Chararray </a>). Advantage of this representation is that you can easily access values of a numpy array, transpose (switch rows and columns), flip them, and sum them. "
   ]
  },
  {
   "cell_type": "code",
   "execution_count": 19,
   "metadata": {},
   "outputs": [
    {
     "name": "stdout",
     "output_type": "stream",
     "text": [
      "[['X' 'X' 'O']\n",
      " ['O' 'O' 'X']\n",
      " ['O' 'X' 'O']]\n"
     ]
    }
   ],
   "source": [
    "## A potential representation of the board\n",
    "import numpy as np\n",
    "board =  np.chararray((3, 3))\n",
    "board[:] = ''\n",
    "for i in range(3):\n",
    "    for j in range(3):\n",
    "        # pick from Xs and Os\n",
    "        board[i, j] = np.random.choice(['X', 'O'])\n",
    "\n",
    "print board"
   ]
  },
  {
   "cell_type": "code",
   "execution_count": 21,
   "metadata": {},
   "outputs": [
    {
     "name": "stdout",
     "output_type": "stream",
     "text": [
      "[['X' 'O' 'O']\n",
      " ['X' 'O' 'X']\n",
      " ['O' 'X' 'O']]\n"
     ]
    }
   ],
   "source": [
    "## We can transpose this board to flip rows and columns \n",
    "print board.T"
   ]
  },
  {
   "cell_type": "code",
   "execution_count": 22,
   "metadata": {},
   "outputs": [
    {
     "name": "stdout",
     "output_type": "stream",
     "text": [
      "['X' 'O' 'O']\n"
     ]
    }
   ],
   "source": [
    "## We get the diagnal of this board using np.diag\n",
    "print np.diag(board)"
   ]
  },
  {
   "cell_type": "code",
   "execution_count": 27,
   "metadata": {},
   "outputs": [
    {
     "name": "stdout",
     "output_type": "stream",
     "text": [
      "[['O' 'X' 'X']\n",
      " ['X' 'O' 'O']\n",
      " ['O' 'X' 'O']]\n",
      "---------------\n",
      "['O' 'O' 'O']\n"
     ]
    }
   ],
   "source": [
    "## We can flip the board in the left and right direction. \n",
    "### np.fliplr would preserve the columns but appear in different order.\n",
    "### We also have np.flipud which flips up and down. \n",
    "print np.fliplr(board)\n",
    "\n",
    "print '-----'*3\n",
    "## We can use this to get the other diagnol. \n",
    "print np.diag(np.fliplr(board))"
   ]
  },
  {
   "cell_type": "markdown",
   "metadata": {},
   "source": [
    "### What is the difference between `is` and `==`? \n",
    "\n",
    "`is` in Python checks for memory level equivalence, i.e., whether they are stored at the same location in memory. \n",
    "\n",
    "`==` in Python checks for value level equivalence. "
   ]
  },
  {
   "cell_type": "code",
   "execution_count": 38,
   "metadata": {},
   "outputs": [
    {
     "name": "stdout",
     "output_type": "stream",
     "text": [
      "Memory Location equivalence: False\n",
      "Value equivalence: True\n"
     ]
    }
   ],
   "source": [
    "move_x = 'X'\n",
    "move_o = 'O'\n",
    "move  = np.random.choice(['X', 'O'])\n",
    "\n",
    "## since is check for id(move_x) == id(move) | id(move_o) == id(move)\n",
    "### this will always return false since move \n",
    "### will have a different loction in memory\n",
    "print \"Memory Location equivalence: {}\".format((move_x is move) | (move_o is move))\n",
    "\n",
    "## On the other hand, == will always return true since it's \n",
    "### value equivalence. \n",
    "print \"Value equivalence: {}\".format((move_x == move) | (move_o == move))"
   ]
  },
  {
   "cell_type": "markdown",
   "metadata": {},
   "source": [
    "### `continue`\n",
    "`continue` statment can be use in `for` and `while` loops. It subsequently rejects all remaining statements in the current iteration and moves back to the top of the loop. \n",
    "\n",
    "<img src=https://www.tutorialspoint.com/python/images/cpp_continue_statement.jpg> "
   ]
  },
  {
   "cell_type": "code",
   "execution_count": 41,
   "metadata": {},
   "outputs": [
    {
     "name": "stdout",
     "output_type": "stream",
     "text": [
      "Invalid Move\n",
      "--\n",
      "Invalid Move\n",
      "--\n",
      "0\n",
      "1\n",
      "2\n",
      "Invalid Move\n",
      "--\n",
      "3\n",
      "4\n",
      "Invalid Move\n",
      "--\n",
      "5\n",
      "6\n",
      "Invalid Move\n",
      "--\n",
      "Invalid Move\n",
      "--\n",
      "Invalid Move\n",
      "--\n",
      "7\n",
      "Invalid Move\n",
      "--\n",
      "8\n"
     ]
    }
   ],
   "source": [
    "board_size = 9\n",
    "move_num = 0\n",
    "## in the following loop. If valid_move is false then \n",
    "## it will exit the necessary statements and continue to the top of the loop.\n",
    "while move_num < board_size:\n",
    "    valid_move = np.random.choice([True, False])\n",
    "    if not valid_move:\n",
    "        print 'Invalid Move'\n",
    "        print '--'\n",
    "        continue \n",
    "    print move_num\n",
    "    move_num += 1"
   ]
  },
  {
   "cell_type": "markdown",
   "metadata": {},
   "source": [
    "#### Privacy in Python\n",
    "\n",
    "In the context of Python, privacy is intendend to mean that attributes and methods are only available within the class and not outside of the class. There are two levels of privacy in Python: \n",
    "`_` (single underscore) means it's a protected method or attribute while `__` (double underscore) means it's a private method or attribute. Private methods and attributes lead to a much more stringent accessibility criteria compared to Protected methods or attributes. "
   ]
  },
  {
   "cell_type": "code",
   "execution_count": 52,
   "metadata": {
    "collapsed": true
   },
   "outputs": [],
   "source": [
    "class Book:\n",
    "    \n",
    "    def __init__(self, name, year, subject):\n",
    "        self.name = name \n",
    "        self._year = year # protected attribute \n",
    "        self.__subject = subject # private attribute "
   ]
  },
  {
   "cell_type": "code",
   "execution_count": 53,
   "metadata": {},
   "outputs": [
    {
     "name": "stdout",
     "output_type": "stream",
     "text": [
      "Great Divergence\n"
     ]
    }
   ],
   "source": [
    "book = Book('Great Divergence', '2012', 'Chinese Economy')\n",
    "print book.name # not a private, protected attribute hence accessible"
   ]
  },
  {
   "cell_type": "code",
   "execution_count": 55,
   "metadata": {
    "collapsed": true
   },
   "outputs": [],
   "source": [
    "# try\n",
    "print book.year"
   ]
  },
  {
   "cell_type": "code",
   "execution_count": 56,
   "metadata": {},
   "outputs": [
    {
     "name": "stdout",
     "output_type": "stream",
     "text": [
      "2012\n"
     ]
    }
   ],
   "source": [
    "# in order to access protected methods \n",
    "print book._year\n",
    "# hence protected attributes warn the user of the class that \n",
    "## this should not bee changed but can still be overwritten. \n",
    "## This is because nothing in Python is truly private. "
   ]
  },
  {
   "cell_type": "code",
   "execution_count": 58,
   "metadata": {
    "collapsed": true
   },
   "outputs": [],
   "source": [
    "# try\n",
    "print book.__subject"
   ]
  },
  {
   "cell_type": "code",
   "execution_count": 60,
   "metadata": {},
   "outputs": [
    {
     "name": "stdout",
     "output_type": "stream",
     "text": [
      "Chinese Economy\n"
     ]
    }
   ],
   "source": [
    "# in order to access private attributes, you will need to do the following.\n",
    "## instance._Class__privateattribute. Again this is because nothing\n",
    "## in Python is truly private but only warns the user that \n",
    "## this is not to be touched. \n",
    "print book._Book__subject"
   ]
  },
  {
   "cell_type": "code",
   "execution_count": 59,
   "metadata": {},
   "outputs": [
    {
     "data": {
      "text/plain": [
       "{'_Book__subject': 'Chinese Economy',\n",
       " '_year': '2012',\n",
       " 'name': 'Great Divergence'}"
      ]
     },
     "execution_count": 59,
     "metadata": {},
     "output_type": "execute_result"
    }
   ],
   "source": [
    "book.__dict__"
   ]
  },
  {
   "cell_type": "markdown",
   "metadata": {},
   "source": [
    "### Additional Resources on Privacy: \n",
    "<a href=http://radek.io/2011/07/21/private-protected-and-public-in-python/> Public vs. Protected vs. Private Attributes/Methods </a>\n",
    "\n",
    "<a href=https://www.quora.com/Why-doesnt-Python-have-private-member-variables-or-methods> Why Doesn't Python have Privacy? </a>"
   ]
  }
 ],
 "metadata": {
  "kernelspec": {
   "display_name": "Python 2",
   "language": "python",
   "name": "python2"
  },
  "language_info": {
   "codemirror_mode": {
    "name": "ipython",
    "version": 2
   },
   "file_extension": ".py",
   "mimetype": "text/x-python",
   "name": "python",
   "nbconvert_exporter": "python",
   "pygments_lexer": "ipython2",
   "version": "2.7.12"
  }
 },
 "nbformat": 4,
 "nbformat_minor": 1
}
