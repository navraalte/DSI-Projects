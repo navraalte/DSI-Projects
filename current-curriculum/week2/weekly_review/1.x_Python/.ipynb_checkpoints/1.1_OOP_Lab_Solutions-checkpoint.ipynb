{
 "cells": [
  {
   "cell_type": "markdown",
   "metadata": {},
   "source": [
    "## Question 1: Two Dimensional Vectors\n",
    "\n",
    "Define a Python class `Vector`, which represents two-dimensional vectors (arrays) and supports the following operations:\n",
    "\n",
    "- Create a new vector out of two real numbers: `v = Vector(1.1, 2.2)`\n",
    "\n",
    "- Convert a vector to a string (with the `__str__` method)\n",
    "\n",
    "- Access the components (with the `getX` and `getY` methods)\n",
    "\n",
    "- Add two V2s to get a new Vector (with add and `__add__` methods). \n",
    "    ```\n",
    "    v1 = Vector(1.1, 2.2)\n",
    "    v2 = Vector(1.9, 2.8)\n",
    "    v3 = v1 + v2 \n",
    "    assert v3.getX == 3\n",
    "    assert v3.getY == 5\n",
    "    ```\n",
    "\n",
    "- Multiply a Vector by a scalar (real or int) and return a new Vector (with the mul and `__mul__` methods)\n",
    "    \n",
    "    ```\n",
    "    v1 = Vector(1.1, 2.2)\n",
    "    v2 = 3 * v1\n",
    "    assert v3.getX == 3.3\n",
    "    assert v3.getY == 6.6\n",
    "    ```"
   ]
  },
  {
   "cell_type": "code",
   "execution_count": 1,
   "metadata": {
    "collapsed": true
   },
   "outputs": [],
   "source": [
    "class Vector(object):\n",
    "    \n",
    "    def __init__(self, x, y):\n",
    "        self.x = x \n",
    "        self.y = y \n",
    "        \n",
    "    def __str__(self):\n",
    "        return \"X:{}, Y:{}\".format(self.x, self.y)\n",
    "    \n",
    "    def getX(self):\n",
    "        return self.x \n",
    "    \n",
    "    def getY(self):\n",
    "        return self.y \n",
    "    \n",
    "    def __add__(self, other):\n",
    "        return Vector(self.x + other.x, self.y + other.y)\n",
    "    \n",
    "    def __mul__(self, scalar):\n",
    "        return Vector(self.x * scalar, self.y * scalar)"
   ]
  },
  {
   "cell_type": "code",
   "execution_count": 4,
   "metadata": {
    "collapsed": true
   },
   "outputs": [],
   "source": [
    "v1 = Vector(1.1, 2.2)\n",
    "v2 = Vector(1.9, 2.8)\n",
    "v3 = v1 + v2 ## result of the add method \n",
    "\n",
    "assert v3.x == 3\n",
    "assert v3.y == 5"
   ]
  },
  {
   "cell_type": "code",
   "execution_count": 10,
   "metadata": {
    "collapsed": true
   },
   "outputs": [],
   "source": [
    "v1 = Vector(1.1, 2.2)\n",
    "v2 = v1 * 3\n",
    "assert round(v2.getX(), 1) == 3.3\n",
    "assert round(v2.getY(), 1) == 6.6"
   ]
  },
  {
   "cell_type": "markdown",
   "metadata": {},
   "source": [
    "## Question 2: Polynomial Class\n",
    "\n",
    "Define a Python class Polynomial which provides methods for performing algebraic operations on polynomials. Your class should behave as described in the following way:\n",
    "\n",
    "```\n",
    ">>> p1 = Polynomial([1, 2, 3])\n",
    ">>> print p1 \n",
    "1.000 z**2 + 2.000 z + 3.000\n",
    "\n",
    ">>> p2 = Polynomial([100, 200])\n",
    ">>> p3 = p1.__add__(p2)\n",
    ">>> print p3\n",
    "1.000 z**2 + 102.000 z + 203.000\n",
    ">>> print p1 + p2\n",
    "1.000 z**2 + 102.000 z + 203.000\n",
    "\n",
    ">>> p1(1)\n",
    "6.0\n",
    ">>> p1(-1)\n",
    "2.0\n",
    ">>> (p1 + p2)(10)\n",
    "1323.0\n",
    "\n",
    ">>> print p1.mul(p1)\n",
    "1.000 z**4 + 4.000 z**3 + 10.000 z**2 + 12.000 z + 9.000\n",
    ">>> print p1 * p1\n",
    "1.000 z**4 + 4.000 z**3 + 10.000 z**2 + 12.000 z + 9.000\n",
    ">>> print p1 * p2 + p1\n",
    "100.000 z**3 + 401.000 z**2 + 702.000 z + 603.000\n",
    "\n",
    "\n",
    "```"
   ]
  },
  {
   "cell_type": "code",
   "execution_count": 8,
   "metadata": {
    "collapsed": true
   },
   "outputs": [],
   "source": [
    "class Polynomial(object):\n",
    "    \n",
    "    def __init__(self, coefs):\n",
    "        self.coefs = coefs\n",
    "    \n",
    "    def __repr__(self):\n",
    "        poly_string = \"\"\n",
    "        highest_exp = len(self.coefs) - 1 \n",
    "        for idx, item in enumerate(self.coefs):\n",
    "            exp = highest_exp - idx \n",
    "            if exp == 0:\n",
    "                poly_string += str(item)\n",
    "            elif exp == 1:\n",
    "                poly_string += str(item) + \"z + \"\n",
    "            else:\n",
    "                poly_string += str(item) + \"z**\" + str(exp) + \" + \"\n",
    "\n",
    "        return poly_string\n",
    "    \n",
    "    def __call__(self, x):\n",
    "        highest_exp = len(self.coefs) - 1 \n",
    "        evalx = sum([item * x ** (highest_exp - idx) for idx, item in enumerate(self.coefs)])\n",
    "        return evalx\n",
    "        \n",
    "    def __add__(self, new_poly):\n",
    "        # manuel's answer \n",
    "        #  coefs1, coefs2 = self.coefs, other.coefs\n",
    "        #  if (len(coefs2) > coefs1):\n",
    "        #      coefs1, coefs2 = coefs2, coefs1\n",
    "        #      coefs2 = [0]*(len(coefs1) - len(coefs2)) + coefs2\n",
    "        #      coeficientes = [coefs1[i] + coefs2[i] for i in\n",
    "        #                         range(len(coefs1))]\n",
    "        # return Polynomial(coeficientes)\n",
    "        small_coefs, large_coefs = self.padding(new_poly)\n",
    "        added_coefs = map(lambda x: x[0] + x[1], zip(small_coefs, large_coefs))\n",
    "        return Polynomial(added_coefs)\n",
    "    \n",
    "    def __mul__(self, new_poly):\n",
    "        small_coefs, large_coefs = self.coefs, new_poly.coefs  \n",
    "        if len(small_coefs) > len(large_coefs):\n",
    "            small_coefs, large_coefs = large_coefs, small_coefs        \n",
    "\n",
    "        M = len(large_coefs) - 1\n",
    "        N = len(small_coefs) - 1\n",
    "       \n",
    "        poly_hash = {}\n",
    "        for lcoef_idx, lcoef in enumerate(large_coefs):\n",
    "            for scoef_idx, scoef in enumerate(small_coefs):\n",
    "                large_exp = M - lcoef_idx\n",
    "                small_exp = N - scoef_idx\n",
    "                total_exp = large_exp + small_exp\n",
    "                if total_exp in poly_hash:\n",
    "                    poly_hash[total_exp] += lcoef * scoef\n",
    "                else:\n",
    "                    poly_hash[total_exp] = lcoef * scoef\n",
    "        \n",
    "        new_poly_values = sorted(zip(poly_hash.keys(), poly_hash.values()), key=lambda x: x[0], reverse=True)\n",
    "        new_poly_values = map(lambda x: x[1], new_poly_values)\n",
    "        return Polynomial(new_poly_values)\n",
    "        \n",
    "    def padding(self, new_poly):\n",
    "        small_coefs, large_coefs = self.coefs, new_poly.coefs\n",
    "        \n",
    "        if len(small_coefs) > len(large_coefs):\n",
    "            small_coefs, large_coefs = large_coefs, small_coefs\n",
    "       \n",
    "        L, S = len(large_coefs), len(small_coefs)\n",
    "        pad_zeros = [0] * (L - S)\n",
    "        small_coefs_pad = pad_zeros + small_coefs\n",
    "        return small_coefs_pad, large_coefs"
   ]
  },
  {
   "cell_type": "code",
   "execution_count": 10,
   "metadata": {},
   "outputs": [
    {
     "name": "stdout",
     "output_type": "stream",
     "text": [
      "6z**3 + 4z**2 + 2z + 22\n",
      "3z**3 + 2z**2 + 3z + 12\n"
     ]
    }
   ],
   "source": [
    "p1 = Polynomial([3, 2, 1, 11])\n",
    "p2 = Polynomial([3, 2, 1, 11])\n",
    "p3 = Polynomial([2, 1])\n",
    "print p1 + p2\n",
    "print p1 + p3"
   ]
  },
  {
   "cell_type": "code",
   "execution_count": 12,
   "metadata": {},
   "outputs": [
    {
     "name": "stdout",
     "output_type": "stream",
     "text": [
      "9z**6 + 12z**5 + 10z**4 + 70z**3 + 45z**2 + 22z + 121\n",
      "6z**4 + 7z**3 + 4z**2 + 23z + 11\n"
     ]
    }
   ],
   "source": [
    "print p1 * p2 # 9 x^6 + 12 x^5 + 10 x^4 + 70 x^3 + 45 x^2 + 22 x + 121\n",
    "print p1 * p3 # 6 x^4 + 7 x^3 + 4 x^2 + 23 x + 11"
   ]
  },
  {
   "cell_type": "markdown",
   "metadata": {},
   "source": [
    "## Question 3: Bank Accounts\n",
    "\n",
    "Suppose we want to model a bank account with support for deposit and withdraw operations. One way to do that is by using global state as shown in the following example. However, this is good enough only if we have a single account. Things start getting complicated if want to model multiple accounts. Write a `class` that keeps track of people's back account. Your class should have an attribute for the `initial_balance`, methods for `withdraw`, `deposit`, and `overdrawing`.  \n",
    "\n",
    "\n"
   ]
  },
  {
   "cell_type": "code",
   "execution_count": 20,
   "metadata": {
    "collapsed": true
   },
   "outputs": [],
   "source": [
    "class Bank:\n",
    "    def __init__(self, initial_balance):\n",
    "        self.balance = initial_balance\n",
    "        \n",
    "    def withdraw(self, amount):\n",
    "        if self.balance - amount > 0:\n",
    "            self.balance -= amount\n",
    "            return 'withdraw amount: {}'.format(amount)\n",
    "        else:\n",
    "            return self._overdrawing()\n",
    "        \n",
    "    def deposit(self, amount):\n",
    "        self.balance += amount\n",
    "        return self.balance\n",
    "    \n",
    "    def _overdrawing(self):\n",
    "        raise Exception('Not Enough Money')\n",
    "    "
   ]
  },
  {
   "cell_type": "markdown",
   "metadata": {},
   "source": [
    "## Question 4: Exploring Inheritance\n",
    "\n",
    "Consider the following code: "
   ]
  },
  {
   "cell_type": "code",
   "execution_count": 22,
   "metadata": {
    "collapsed": true
   },
   "outputs": [],
   "source": [
    "## Examples of Single Inheritance\n",
    "class Transportation(object):\n",
    "    wheels = 0\n",
    "\n",
    "    def __init__(self):\n",
    "        self.wheels = -1\n",
    "\n",
    "    def travel_one(self):\n",
    "        print(\"Travelling on generic transportation\")\n",
    "\n",
    "    def travel(self, distance):\n",
    "        for _ in range(distance):\n",
    "            self.travel_one()\n",
    "\n",
    "    def is_auto(self):\n",
    "        return self.wheels == 4\n",
    "\n",
    "class Bike(Transportation):\n",
    "\n",
    "    def travel_one(self):\n",
    "        print(\"Biking one mile\")\n",
    "        \n",
    "\n",
    "\n",
    "class Car(Transportation):\n",
    "    wheels = 4\n",
    "\n",
    "    def travel_one(self):\n",
    "        print(\"Driving one mile\")\n",
    "\n",
    "    def make_sound(self):\n",
    "        print(\"VROOM\")\n",
    "\n",
    "class Ferrari(Car):\n",
    "    pass\n",
    "\n",
    "t = Transportation()\n",
    "b = Bike()\n",
    "c = Car()\n",
    "f = Ferrari()"
   ]
  },
  {
   "cell_type": "code",
   "execution_count": 26,
   "metadata": {},
   "outputs": [
    {
     "data": {
      "text/plain": [
       "<function issubclass>"
      ]
     },
     "execution_count": 26,
     "metadata": {},
     "output_type": "execute_result"
    }
   ],
   "source": [
    "issubclass()"
   ]
  },
  {
   "cell_type": "code",
   "execution_count": 27,
   "metadata": {},
   "outputs": [
    {
     "ename": "TypeError",
     "evalue": "isinstance() arg 2 must be a class, type, or tuple of classes and types",
     "output_type": "error",
     "traceback": [
      "\u001b[0;31m---------------------------------------------------------------------------\u001b[0m",
      "\u001b[0;31mTypeError\u001b[0m                                 Traceback (most recent call last)",
      "\u001b[0;32m<ipython-input-27-1fc994dca1cd>\u001b[0m in \u001b[0;36m<module>\u001b[0;34m()\u001b[0m\n\u001b[1;32m      6\u001b[0m \u001b[0misinstance\u001b[0m\u001b[0;34m(\u001b[0m\u001b[0mb\u001b[0m\u001b[0;34m,\u001b[0m \u001b[0mTransportation\u001b[0m\u001b[0;34m)\u001b[0m \u001b[0;31m# True\u001b[0m\u001b[0;34m\u001b[0m\u001b[0m\n\u001b[1;32m      7\u001b[0m \u001b[0misinstance\u001b[0m\u001b[0;34m(\u001b[0m\u001b[0mb\u001b[0m\u001b[0;34m,\u001b[0m \u001b[0mCar\u001b[0m\u001b[0;34m)\u001b[0m \u001b[0;31m# False\u001b[0m\u001b[0;34m\u001b[0m\u001b[0m\n\u001b[0;32m----> 8\u001b[0;31m \u001b[0misinstance\u001b[0m\u001b[0;34m(\u001b[0m\u001b[0mb\u001b[0m\u001b[0;34m,\u001b[0m \u001b[0mt\u001b[0m\u001b[0;34m)\u001b[0m \u001b[0;31m# will give error since t must be a class not a class object\u001b[0m\u001b[0;34m\u001b[0m\u001b[0m\n\u001b[0m\u001b[1;32m      9\u001b[0m \u001b[0;34m\u001b[0m\u001b[0m\n\u001b[1;32m     10\u001b[0m \u001b[0misinstance\u001b[0m\u001b[0;34m(\u001b[0m\u001b[0mc\u001b[0m\u001b[0;34m,\u001b[0m \u001b[0mCar\u001b[0m\u001b[0;34m)\u001b[0m  \u001b[0;31m# True\u001b[0m\u001b[0;34m\u001b[0m\u001b[0m\n",
      "\u001b[0;31mTypeError\u001b[0m: isinstance() arg 2 must be a class, type, or tuple of classes and types"
     ]
    }
   ],
   "source": [
    "## Predict the outcome of each (DON'T EVALUATE THEM)\n",
    "\n",
    "isinstance(t, Transportation) # True \n",
    "\n",
    "isinstance(b, Bike) # True \n",
    "isinstance(b, Transportation) # True \n",
    "isinstance(b, Car) # False \n",
    "isinstance(b, t) # will give error since t must be a class not a class object \n",
    "\n",
    "isinstance(c, Car)  # True \n",
    "isinstance(c, Transportation) # True \n",
    "\n",
    "isinstance(f, Ferrari) # True \n",
    "isinstance(f, Car) # True \n",
    "isinstance(f, Transportation) # True \n",
    "\n",
    "issubclass(Bike, Transportation) # True \n",
    "issubclass(Car, Transportation) # True \n",
    "issubclass(Ferrari, Car) # True \n",
    "issubclass(Ferrari, Transportation) # True \n",
    "issubclass(Transportation, Transportation) # True "
   ]
  },
  {
   "cell_type": "code",
   "execution_count": 36,
   "metadata": {},
   "outputs": [
    {
     "name": "stdout",
     "output_type": "stream",
     "text": [
      "Biking one mile\n",
      "Biking one mile\n",
      "Biking one mile\n",
      "Biking one mile\n",
      "Biking one mile\n",
      "None\n",
      "True\n",
      "False\n",
      "False\n",
      "Driving one mile\n",
      "Driving one mile\n",
      "Driving one mile\n",
      "Driving one mile\n",
      "Driving one mile\n",
      "Driving one mile\n",
      "Driving one mile\n",
      "Driving one mile\n",
      "Driving one mile\n",
      "Driving one mile\n",
      "None\n",
      "Driving one mile\n",
      "Driving one mile\n",
      "Driving one mile\n",
      "Driving one mile\n",
      "None\n"
     ]
    }
   ],
   "source": [
    "print b.travel(5)\n",
    "print c.is_auto()\n",
    "print f.is_auto()\n",
    "\n",
    "print b.is_auto()\n",
    "#print b.make_sound()\n",
    "print c.travel(10)\n",
    "print f.travel(4)"
   ]
  },
  {
   "cell_type": "markdown",
   "metadata": {},
   "source": [
    "## Question 5: Exceptions \n",
    "\n",
    "### Reading\n",
    "\n",
    "Skim over [Python's documentation on built-in exceptions](https://docs.python.org/3.4/library/exceptions.html).\n",
    "\n",
    "### `try`/`except`/`else`/`finally`\n",
    "\n",
    "Python provides `try` and `except` blocks , similar to other languages' `try` and `catch` blocks, for basic exceptional control flow.\n",
    "\n",
    "#### `get_age`\n",
    "\n",
    "Write a function `get_age` that asks a user for their age, which must be a positive integer between 0 and 123 (the oldest human recorded, Jeanna Clement, died at the age of 122). If the user enters something that's not an integer, you should reprompt them. However, if they enter an integer and it's out of range, you should raise an exception. That is, you should keep reprompting them until they enter something that can be converted into an integer, and then return that number if it's in range, and raise an exception otherwise. Two sample runs are shown below\n",
    "\n",
    "```\n",
    "# (Call 1)\n",
    "How old are you? ABC\n",
    "Invalid integer input.\n",
    "How old are you? -4.5\n",
    "Invalid integer input.\n",
    "How old are you? 36\n",
    "# returns 36\n",
    "\n",
    "# (Call 2)\n",
    "How old are you? XYZ\n",
    "Invalid integer input.\n",
    "How old are you? 128\n",
    "# raises some exception\n",
    "Traceback (most recent call last):\n",
    "  File \"<stdin>\", line 1, in <module>\n",
    "ValueError: Age 128 out of range\n",
    "```\n",
    "\n",
    "### Custom Exceptions\n",
    "\n",
    "Write a custom exception class called `OutOfRangeError` that inherits from `ValueError` which indicates that a given value is outside of an acceptable range. What does this class definition look like? What is the body of the class?\n",
    "\n",
    "``` \n",
    "# Implement OutOfRangeError\n",
    "```\n",
    "\n",
    "Rewrite your code in `get_age` to use this custom exception. Do you need to change any other code?\n",
    "\n",
    "### Using `else` and `finally`\n",
    "\n",
    "Rewrite your `get_age` function to use the `else` block, and optionally the `finally` block. As is consistent with general style guidelines, try to keep the `try` block as short as possible, containing just the code that might raise the exception you're trying to catch.\n",
    "\n",
    "### Reraising\n",
    "\n",
    "Consider the following code:\n",
    "\n",
    "```\n",
    "try:\n",
    "\tprint(\"in try\")\n",
    "\t# (A)\n",
    "except Exception as exc:\n",
    "\tprint(\"in except\")\n",
    "\t# (B)\n",
    "else:\n",
    "\tprint(\"in else\")\n",
    "\t# (C)\n",
    "finally:\n",
    "    print(\"in finally\")\n",
    "    # (D)\n",
    "```\n",
    "\n",
    "We're going to add some errors to this code block, which currently prints out\n",
    "\n",
    "```\n",
    "in try\n",
    "in else\n",
    "in finally\n",
    "```\n",
    "\n",
    "For each of the labelled locations `(A), (B), (C), (D)`, which statements print out if we `raise Exception()` at that position? Run the code to test your hypotheses."
   ]
  },
  {
   "cell_type": "code",
   "execution_count": 64,
   "metadata": {
    "collapsed": true
   },
   "outputs": [],
   "source": [
    "def get_age():\n",
    "    age_str = raw_input('Give us your age: ')\n",
    "    try:\n",
    "        age = int(age_str)\n",
    "        assert 0 < age < 124 \n",
    "        return age \n",
    "    except ValueError:\n",
    "        print \"Invalid Integer Input\"\n",
    "        return get_age()\n",
    "    except AssertionError:\n",
    "        raise ValueError(age_str + ' is out of range')"
   ]
  },
  {
   "cell_type": "code",
   "execution_count": 69,
   "metadata": {},
   "outputs": [],
   "source": [
    "class OutofRangeError(ValueError):\n",
    "    def __init__(self, message):\n",
    "        ValueError.__init__(self, message)"
   ]
  },
  {
   "cell_type": "code",
   "execution_count": 70,
   "metadata": {
    "collapsed": true
   },
   "outputs": [],
   "source": [
    "def get_age():\n",
    "    age_str = raw_input('Give us your age: ')\n",
    "    try:\n",
    "        age = int(age_str)\n",
    "        assert 0 < age < 124 \n",
    "        return age \n",
    "    except ValueError:\n",
    "        print \"Invalid Integer Input\"\n",
    "        return get_age()\n",
    "    except AssertionError:\n",
    "        raise OutofRangeError(age_str + ' is out of range')"
   ]
  },
  {
   "cell_type": "code",
   "execution_count": null,
   "metadata": {
    "collapsed": true
   },
   "outputs": [],
   "source": [
    "def get_age():\n",
    "    age_str = raw_input('Give us your age: ')\n",
    "    try:\n",
    "        age = int(age_str)\n",
    "        assert 0 < age < 124 \n",
    "    except ValueError:\n",
    "        print \"Invalid Integer Input\"\n",
    "        return get_age()\n",
    "    except AssertionError:\n",
    "        raise OutofRangeError(age_str + ' is out of range')\n",
    "    else:\n",
    "        return age "
   ]
  },
  {
   "cell_type": "markdown",
   "metadata": {},
   "source": [
    "## Question 5b: Exceptions \n",
    "Solve this related to Exceptions <a href=https://www.hackerrank.com/challenges/exceptions> Hackerrank Challenge </a>"
   ]
  },
  {
   "cell_type": "code",
   "execution_count": 74,
   "metadata": {},
   "outputs": [
    {
     "name": "stdout",
     "output_type": "stream",
     "text": [
      "Error Code: invalid literal for int() with base 10: '$'\n"
     ]
    }
   ],
   "source": [
    "def check_divisor(a, b):\n",
    "    try: \n",
    "        a = int(a)\n",
    "        b = int(b)\n",
    "        print a / b\n",
    "    except ZeroDivisionError as e:\n",
    "        print \"Error Code:\", e\n",
    "    except ValueError as e:\n",
    "        print \"Error Code:\", e\n",
    "\n",
    "t = raw_input()\n",
    "for _ in range(int(t)):\n",
    "    a, b = raw_input().split()\n",
    "    check_divisor(a, b)"
   ]
  },
  {
   "cell_type": "code",
   "execution_count": null,
   "metadata": {
    "collapsed": true
   },
   "outputs": [],
   "source": []
  }
 ],
 "metadata": {
  "kernelspec": {
   "display_name": "Python 2",
   "language": "python",
   "name": "python2"
  },
  "language_info": {
   "codemirror_mode": {
    "name": "ipython",
    "version": 2
   },
   "file_extension": ".py",
   "mimetype": "text/x-python",
   "name": "python",
   "nbconvert_exporter": "python",
   "pygments_lexer": "ipython2",
   "version": "2.7.13"
  }
 },
 "nbformat": 4,
 "nbformat_minor": 1
}
