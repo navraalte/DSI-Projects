{
 "cells": [
  {
   "cell_type": "markdown",
   "metadata": {},
   "source": [
    "## OOP Review \n",
    "\n",
    "### 1. Creating an E-Commerce engine \n",
    "\n",
    "Create the foundations of a basic E-commerce engine (Business-to-Consumer). An E-commerce engine typically consists of a consumer, a shopping cart and some items. \n",
    "- What are some attributes and methods our classes must have?\n",
    "- What internal state are we keeping track of?\n",
    "- Keep in mind that items go into carts and consumers can have multiple carts!\n",
    "- Do we require inheritance?\n",
    "- What are some other components that can be added to our E-commerce engine?"
   ]
  },
  {
   "cell_type": "code",
   "execution_count": 1,
   "metadata": {},
   "outputs": [],
   "source": [
    "import random \n",
    "\n",
    "\n",
    "class Customer(object):\n",
    "    def __init__(self, first_name, last_name, email, address):\n",
    "        self.first_name, self.last_name, self.email, self.address, = first_name, last_name, email, address\n",
    "        self.__cx_id = random.randint(0,1000)\n",
    "        \n",
    "    def change_address(self, newaddress):                 #changes the address of the cutomer\n",
    "        self.address = newaddress\n",
    "        pass\n",
    "        \n",
    "    def change_name(self, newfirst_name, newlast_name):       #changes the name of the cutomer\n",
    "        self.first_name, self.last_name = newfirst_name, newlast_name\n",
    "        pass\n",
    "        \n",
    "    def change_email(self, newemail):                     #changes the email of the cutomer\n",
    "        self.email = newemail\n",
    "        pass\n",
    "        \n",
    "\n",
    "\n",
    "    "
   ]
  },
  {
   "cell_type": "code",
   "execution_count": 2,
   "metadata": {},
   "outputs": [
    {
     "ename": "IndentationError",
     "evalue": "expected an indented block (<ipython-input-2-306d3c2e40b0>, line 7)",
     "output_type": "error",
     "traceback": [
      "\u001b[0;36m  File \u001b[0;32m\"<ipython-input-2-306d3c2e40b0>\"\u001b[0;36m, line \u001b[0;32m7\u001b[0m\n\u001b[0;31m    def change_quantity(self, new_quantity):         #changes the quanity of a selected item\u001b[0m\n\u001b[0m      ^\u001b[0m\n\u001b[0;31mIndentationError\u001b[0m\u001b[0;31m:\u001b[0m expected an indented block\n"
     ]
    }
   ],
   "source": [
    "class Cart(Customer):\n",
    "    cart = []\n",
    "\n",
    "    def __init__(self, items, item_quantity, total_number, total_price, stage):\n",
    "        self.items, self.item_quantity, self.total_number, self.total_price, self.stage = items, \n",
    "        item_quantity, total_number, total_price, stage\n",
    "    \n",
    "    def add_item(self, item):                      #Add Items To Cart \n",
    "        cart = {}\n",
    "        \n",
    "        \n",
    "        Item(self).__init__ = []\n",
    "        return self.queued_item.append(item)\n",
    "            \n",
    "        \n",
    "        \n",
    "        \n",
    "    def remove_item_from_cart(self, items):            #removes item and displays new total of cart\n",
    "    def change_quantity(self, new_quantity):         #changes the quanity of a selected item\n",
    "    def get_cart_contents(self, items):               #displays the carts items w/ prices quantity, and the cart total\n",
    "        \n",
    "      \n",
    "    def checkout(self, items, total_number, total_price, stage):    # Allows customer to check out with selected items\n",
    "                                                                    # progresses stage to checkout \n",
    "               "
   ]
  },
  {
   "cell_type": "code",
   "execution_count": 17,
   "metadata": {},
   "outputs": [],
   "source": [
    "class Item(object):\n",
    "    def __init__(self, name, price, stock, category, rating, description):\n",
    "        self.name = name\n",
    "        self.price = price\n",
    "        self.stock = stock\n",
    "        self.category = category\n",
    "        self.rating = rating\n",
    "        self.description = description\n",
    "        item = [self, name, price, stock, category, rating, description]\n",
    "        \n",
    "\n",
    "        \n",
    "        \n",
    "        \n",
    "  #  def change_quantityitem(self, item):               #Changes the quantity of the items to add to the cart\n",
    "        \n",
    "        "
   ]
  },
  {
   "cell_type": "code",
   "execution_count": null,
   "metadata": {
    "collapsed": true
   },
   "outputs": [],
   "source": [
    "item1 = Item(\"Pampers\", 7.0, 25, \"Home Supplies\", 5.0, \"A unbeatable diaper\")\n",
    "item1 = Item(\"Hersheys Kisses\", 2.0, 2500, \"Food\", 4.7, \"The best chocolate\")\n",
    "item1 = Item(\"DJI Phantom 4\", 1200.0, 10, \"Electronics\", 5.0, \"The ultimate consumer drone\") \n",
    "item1 = Item(\"Xbox One\", 299.0, 19, \"Electronics\", 4.6, \"A multi-media home station\")\n",
    "    \n",
    "cart1 = Cart(dfsdfsfg)\n",
    "    \n",
    "cart1.add_item(item)"
   ]
  },
  {
   "cell_type": "markdown",
   "metadata": {},
   "source": [
    "### 2. Hackerrank Contest\n",
    "\n",
    "#### Please create an account on Hackerrank to enter the Week 2 contest!\n",
    "\n",
    "#### [Enter here!](https://www.hackerrank.com/week-2-contests)"
   ]
  },
  {
   "cell_type": "code",
   "execution_count": 19,
   "metadata": {},
   "outputs": [
    {
     "name": "stdout",
     "output_type": "stream",
     "text": [
      "Soap\n"
     ]
    }
   ],
   "source": [
    "item = Item(\"Soap\", 4.00, 5, \"bathroom\", 5, \"A great soap\")\n",
    "\n",
    "print item.name"
   ]
  },
  {
   "cell_type": "code",
   "execution_count": null,
   "metadata": {
    "collapsed": true
   },
   "outputs": [],
   "source": []
  }
 ],
 "metadata": {
  "anaconda-cloud": {},
  "kernelspec": {
   "display_name": "Python 2",
   "language": "python",
   "name": "python2"
  },
  "language_info": {
   "codemirror_mode": {
    "name": "ipython",
    "version": 2
   },
   "file_extension": ".py",
   "mimetype": "text/x-python",
   "name": "python",
   "nbconvert_exporter": "python",
   "pygments_lexer": "ipython2",
   "version": "2.7.12"
  }
 },
 "nbformat": 4,
 "nbformat_minor": 1
}
