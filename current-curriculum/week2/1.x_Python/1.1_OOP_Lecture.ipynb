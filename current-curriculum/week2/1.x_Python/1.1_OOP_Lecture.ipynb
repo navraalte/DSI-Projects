{
 "cells": [
  {
   "cell_type": "markdown",
   "metadata": {},
   "source": [
    "## Lesson 1.1: Object Oriented Programming \n",
    "\n",
    "--- \n",
    "\n",
    "### Overview\n",
    "\n",
    "- Functional Programming\n",
    "\n",
    "- Classes\n",
    "\n",
    "- Instance\n",
    "\n",
    "- Inheritance \n",
    "\n",
    "- Exceptions "
   ]
  },
  {
   "cell_type": "markdown",
   "metadata": {},
   "source": [
    "### Objectives\n",
    "\n",
    "* Explain how OOP is used in Python\n",
    "* Differentiate between instantiating and creating an object\n",
    "* Define basic inhertiance  "
   ]
  },
  {
   "cell_type": "markdown",
   "metadata": {},
   "source": [
    "### Recap from Last Week \n",
    "\n",
    "Functional Programming encourages:\n",
    "\n",
    "- Modularity: encourages small independent functions \n",
    "\n",
    "- Composability: Arrange existing functions for new goals \n",
    "\n",
    "- Easy debugging: Behavior depends only on input\n",
    "\n",
    "\n",
    "#### Higher Order Functions \n",
    "\n",
    "- `map`\n",
    "\n",
    "- `filter`\n",
    "\n",
    "\n",
    "#### Function Definitions vs. Lambdas \n",
    "\n",
    "<img src=http://i.imgur.com/L4xYzty.png>\n",
    "\n",
    "\n",
    "### Deocrators \n",
    "\n",
    "<img src=http://i.imgur.com/TnSGZP2.png>"
   ]
  },
  {
   "cell_type": "code",
   "execution_count": 8,
   "metadata": {},
   "outputs": [
    {
     "data": {
      "text/html": [
       "<div>\n",
       "<table border=\"1\" class=\"dataframe\">\n",
       "  <thead>\n",
       "    <tr style=\"text-align: right;\">\n",
       "      <th></th>\n",
       "      <th>0</th>\n",
       "    </tr>\n",
       "  </thead>\n",
       "  <tbody>\n",
       "    <tr>\n",
       "      <th>0</th>\n",
       "      <td>0</td>\n",
       "    </tr>\n",
       "    <tr>\n",
       "      <th>1</th>\n",
       "      <td>1</td>\n",
       "    </tr>\n",
       "    <tr>\n",
       "      <th>2</th>\n",
       "      <td>2</td>\n",
       "    </tr>\n",
       "    <tr>\n",
       "      <th>3</th>\n",
       "      <td>3</td>\n",
       "    </tr>\n",
       "    <tr>\n",
       "      <th>4</th>\n",
       "      <td>4</td>\n",
       "    </tr>\n",
       "  </tbody>\n",
       "</table>\n",
       "</div>"
      ],
      "text/plain": [
       "   0\n",
       "0  0\n",
       "1  1\n",
       "2  2\n",
       "3  3\n",
       "4  4"
      ]
     },
     "execution_count": 8,
     "metadata": {},
     "output_type": "execute_result"
    }
   ],
   "source": [
    "import pandas as pd\n",
    "import numpy as np\n",
    "df = pd.DataFrame(data=range(10), index=range(10))\n",
    "df.head()"
   ]
  },
  {
   "cell_type": "code",
   "execution_count": 10,
   "metadata": {},
   "outputs": [
    {
     "data": {
      "text/plain": [
       "0    10.000000\n",
       "1    10.693147\n",
       "2    11.098612\n",
       "3    11.386294\n",
       "4    11.609438\n",
       "5    11.791759\n",
       "6    11.945910\n",
       "7    12.079442\n",
       "8    12.197225\n",
       "9    12.302585\n",
       "Name: 0, dtype: float64"
      ]
     },
     "execution_count": 10,
     "metadata": {},
     "output_type": "execute_result"
    }
   ],
   "source": [
    "df.loc[:, 0].apply(lambda x: np.log1p(x) + 10)"
   ]
  },
  {
   "cell_type": "code",
   "execution_count": 23,
   "metadata": {
    "collapsed": true
   },
   "outputs": [],
   "source": [
    "## an example of a decorator \n",
    "def multiply(function):\n",
    "    def multiply_wrapper(*args):\n",
    "        return function(*args) * 3\n",
    "    return multiply_wrapper\n",
    "\n",
    "def subtract(function):\n",
    "    def subtract_wrapper(*args):\n",
    "        return function(*args) - 10\n",
    "    return subtract_wrapper\n",
    "\n",
    "\n",
    "\n",
    "# @multiply\n",
    "# def add(x, y):\n",
    "#     return x + y\n",
    "\n",
    "@subtract\n",
    "@multiply\n",
    "@multiply\n",
    "def product(*args):\n",
    "    print args\n",
    "    return reduce(lambda x, y: x * y, args)"
   ]
  },
  {
   "cell_type": "markdown",
   "metadata": {},
   "source": [
    "<details>\n",
    "<summary>  **Check: **What is the output of the following: <br/>\n",
    "\n",
    "```\n",
    "add(3, 2)\n",
    "product(11, 3)\n",
    "product(3, 3, 4)\n",
    "```\n",
    "</summary><br/>\n",
    "\n",
    "```\n",
    "15 \n",
    "\n",
    "297 \n",
    "\n",
    "`TypeError: multiply_wrapper() takes exactly 2 arguments (3 given)`\n",
    "```\n",
    "</details>\n",
    "\n",
    "\n"
   ]
  },
  {
   "cell_type": "markdown",
   "metadata": {},
   "source": [
    "<details>\n",
    "<summary>  **Check: **How should we change it to accept multiple arguments? <br/>\n"
   ]
  },
  {
   "cell_type": "markdown",
   "metadata": {},
   "source": [
    "## Thought Experiment\n",
    "\n",
    "Let’s say you run a company and you’ve just decided to give all your employees a $10,000.00 raise. How could we write a Python script to make this change?"
   ]
  },
  {
   "cell_type": "code",
   "execution_count": 32,
   "metadata": {
    "collapsed": true
   },
   "outputs": [],
   "source": [
    "## dictionary \n"
   ]
  },
  {
   "cell_type": "code",
   "execution_count": 54,
   "metadata": {
    "collapsed": true
   },
   "outputs": [],
   "source": [
    "employee_df = pd.DataFrame(data = (employee_dict.values()), index=employee_dict.keys(), columns=['Salary'])\n",
    "employee_df['random_num'] = [np.random.uniform(0, 1) for _ in range(employee_df.shape[0])]"
   ]
  },
  {
   "cell_type": "markdown",
   "metadata": {},
   "source": [
    "<img src=http://izquotes.com/quotes-pictures/quote-actually-i-made-up-the-term-object-oriented-and-i-can-tell-you-i-did-not-have-c-in-mind-alan-kay-242748.jpg>"
   ]
  },
  {
   "cell_type": "markdown",
   "metadata": {},
   "source": [
    "## Introduction to OOP\n",
    "- An _object_ has identity. \n",
    "\n",
    "- A _name_ is a reference to an object. \n",
    "\n",
    "- A _namespace_ is an associative mapping from names to objects. \n",
    "\n",
    "- An _attribute_ is any name following a dot ('.')"
   ]
  },
  {
   "cell_type": "markdown",
   "metadata": {},
   "source": [
    "\n",
    "Deal with collections of objects which maintain internal state and support methods that query or modify this internal state in some way.\n",
    "\n",
    "<img src=\"http://www.ping127001.com/python/ObjectOrientedProgramming.png\">\n",
    "\n",
    "\n",
    "- Class: organized collection of variables and functions \n",
    "       \n",
    "       class MyClass(object):\n",
    "            i = 123\n",
    "            def say_hello(self):\n",
    "                return 'Hi there!'\n"
   ]
  },
  {
   "cell_type": "markdown",
   "metadata": {},
   "source": [
    "### Class Creation\n",
    "\n",
    "<img src=http://i.imgur.com/1NLYxXT.png>"
   ]
  },
  {
   "cell_type": "code",
   "execution_count": 68,
   "metadata": {
    "collapsed": true
   },
   "outputs": [],
   "source": [
    "class FirstClass(object):\n",
    "    # create an attribute within a class (variable within a class)\n",
    "    our_string = 'Hello world'\n",
    "    # create a method (function within a class)\n",
    "    def print_helloworld(self):\n",
    "        return 'Hello world!'\n",
    "    "
   ]
  },
  {
   "cell_type": "markdown",
   "metadata": {},
   "source": [
    "### Class Instantiation\n",
    "<img src=http://i.imgur.com/JkXY3pc.png>"
   ]
  },
  {
   "cell_type": "code",
   "execution_count": 67,
   "metadata": {},
   "outputs": [
    {
     "data": {
      "text/plain": [
       "'Hello world'"
      ]
     },
     "execution_count": 67,
     "metadata": {},
     "output_type": "execute_result"
    }
   ],
   "source": [
    "hello = FirstClass()\n",
    "hello.print_helloworld()\n",
    "hello.our_string"
   ]
  },
  {
   "cell_type": "markdown",
   "metadata": {},
   "source": [
    "### Class Instantiation"
   ]
  },
  {
   "cell_type": "code",
   "execution_count": 110,
   "metadata": {
    "collapsed": true
   },
   "outputs": [],
   "source": [
    "class MyClass(object):\n",
    "    \"\"\"A simple example class\"\"\"\n",
    "    i = 12345\n",
    "    def say_hello(self):\n",
    "        #self.name = name # an example of an instance variable \n",
    "        return \"Hi there!\"\n",
    "    def add10(self):\n",
    "        return self.i + 10\n",
    "    \n",
    "MyClass.add5 = lambda self: self.i + 5 \n",
    "MyClass.i = 10"
   ]
  },
  {
   "cell_type": "code",
   "execution_count": 101,
   "metadata": {},
   "outputs": [
    {
     "name": "stdout",
     "output_type": "stream",
     "text": [
      "Brian\n"
     ]
    }
   ],
   "source": [
    "a = MyClass()\n",
    "#print a.name \n",
    "a.say_hello('Brian')\n",
    "print a.name"
   ]
  },
  {
   "cell_type": "code",
   "execution_count": 87,
   "metadata": {},
   "outputs": [
    {
     "name": "stdout",
     "output_type": "stream",
     "text": [
      "15\n"
     ]
    }
   ],
   "source": [
    "a.i = a.add5()\n",
    "print a.i"
   ]
  },
  {
   "cell_type": "code",
   "execution_count": 88,
   "metadata": {},
   "outputs": [
    {
     "name": "stdout",
     "output_type": "stream",
     "text": [
      "10\n"
     ]
    }
   ],
   "source": [
    "print b.i"
   ]
  },
  {
   "cell_type": "code",
   "execution_count": 90,
   "metadata": {},
   "outputs": [
    {
     "name": "stdout",
     "output_type": "stream",
     "text": [
      "10\n"
     ]
    }
   ],
   "source": [
    "print c.i"
   ]
  },
  {
   "cell_type": "code",
   "execution_count": 91,
   "metadata": {},
   "outputs": [
    {
     "data": {
      "text/plain": [
       "20"
      ]
     },
     "execution_count": 91,
     "metadata": {},
     "output_type": "execute_result"
    }
   ],
   "source": [
    "c.add10()"
   ]
  },
  {
   "cell_type": "code",
   "execution_count": 25,
   "metadata": {},
   "outputs": [
    {
     "name": "stdout",
     "output_type": "stream",
     "text": [
      "5\n",
      "4\n",
      "(6, 5)\n",
      "\n",
      "5\n",
      "6\n",
      "(10, 12)\n",
      " \n",
      "5\n",
      "6\n",
      "(2, 3)\n"
     ]
    }
   ],
   "source": [
    "class AddPoint:\n",
    "    def __init__(self, x, y):\n",
    "        self.x = x\n",
    "        self.y = y \n",
    "   \n",
    "    def calc_point_add(self, z, q):\n",
    "        self.x = self.x + z \n",
    "        self.y = self.y + q\n",
    "        return self.x , self.y\n",
    "\n",
    "p = AddPoint(5,4)\n",
    "\n",
    "print p.x\n",
    "print(p.y)\n",
    "\n",
    "print(p.calc_point_add(1,1))\n",
    "\n",
    "print \"\" \n",
    "\n",
    "class Multiply_by:\n",
    "    def __init__(self, x,y):\n",
    "        self.x = x\n",
    "        self.y = y \n",
    "    \n",
    "    def calc_mult_by(self, a, b):\n",
    "        self.x = self.x * a\n",
    "        self.y = self.y * b\n",
    "        return self.x, self.y\n",
    "    \n",
    "m = Multiply_by(5,6)\n",
    "print m.x\n",
    "print m.y\n",
    "\n",
    "print(m.calc_mult_by(2,2))\n",
    "\n",
    "print\" \"\n",
    "\n",
    "class Divide_by:\n",
    "    def __init__(self, x,y):\n",
    "        self.x = x\n",
    "        self.y = y \n",
    "    \n",
    "    def calc_divide_by(self, m, n):\n",
    "        self.x = self.x / m\n",
    "        self.y = self.y / n\n",
    "        return self.x, self.y\n",
    "    \n",
    "d = Divide_by(5,6)\n",
    "print d.x\n",
    "print d.y\n",
    "\n",
    "print(d.calc_divide_by(2,2))\n",
    "\n",
    "\n"
   ]
  },
  {
   "cell_type": "markdown",
   "metadata": {},
   "source": [
    "To use a class, you create a representation of the class which is an instance or object. An object has an identity. Instantiating a class constructs an object of that class object.\n",
    "\n",
    "       \n",
    "          a = MyClass()\n",
    "          print a.i\n",
    "          print a.say_hello()"
   ]
  },
  {
   "cell_type": "code",
   "execution_count": 112,
   "metadata": {},
   "outputs": [
    {
     "name": "stdout",
     "output_type": "stream",
     "text": [
      "10 Hi there!\n",
      "323\n",
      "<type 'instancemethod'>\n",
      "<type 'instancemethod'>\n",
      "-----\n",
      "False\n",
      "<bound method MyClass.say_hello of <__main__.MyClass object at 0x112b4f350>>\n",
      "<unbound method MyClass.say_hello>\n"
     ]
    }
   ],
   "source": [
    "a = MyClass() # classes are instantiated using parantheses and arg list \n",
    "\n",
    "print a.i, a.say_hello()\n",
    "\n",
    "\n",
    "a.i = 323\n",
    "\n",
    "print a.i\n",
    "print type(a.say_hello)\n",
    "print type(MyClass.say_hello)\n",
    "print \"-----\"\n",
    "print a.i is MyClass.i\n",
    "print a.say_hello \n",
    "print MyClass.say_hello"
   ]
  },
  {
   "cell_type": "markdown",
   "metadata": {},
   "source": [
    "Instantiation operation creates an empty object. Many times you want to create objects with instances customized to a specific initial state. We can use the `__init__()` which evaluates when the object is created to handle the specific intialization. Alternatively, we can also define MyClass with a `self` variable that represents the object itself. We use `self` to refer to other variables that are defined within the **scope** of the class. \n",
    "\n",
    "          class MyClass(object):\n",
    "            def __init__(self):\n",
    "                self.i = 123\n",
    "            def say_hello(self):\n",
    "                return 'Hi there!'"
   ]
  },
  {
   "cell_type": "code",
   "execution_count": 115,
   "metadata": {
    "collapsed": true
   },
   "outputs": [],
   "source": [
    "class MyClassInit(object):\n",
    "    def __init__(self):\n",
    "        self.i = 123\n",
    "    def say_hello(self):\n",
    "        return 'Hi there!'\n",
    "    \n",
    "class MyClass(object):\n",
    "    i = 123\n",
    "    def say_hello(self):\n",
    "        return 'Hi there!'"
   ]
  },
  {
   "cell_type": "code",
   "execution_count": 119,
   "metadata": {},
   "outputs": [
    {
     "ename": "AttributeError",
     "evalue": "type object 'MyClassInit' has no attribute 'i'",
     "output_type": "error",
     "traceback": [
      "\u001b[0;31m---------------------------------------------------------------------------\u001b[0m",
      "\u001b[0;31mAttributeError\u001b[0m                            Traceback (most recent call last)",
      "\u001b[0;32m<ipython-input-119-732baa8d4a9e>\u001b[0m in \u001b[0;36m<module>\u001b[0;34m()\u001b[0m\n\u001b[0;32m----> 1\u001b[0;31m \u001b[0mMyClassInit\u001b[0m\u001b[0;34m.\u001b[0m\u001b[0mi\u001b[0m\u001b[0;34m\u001b[0m\u001b[0m\n\u001b[0m",
      "\u001b[0;31mAttributeError\u001b[0m: type object 'MyClassInit' has no attribute 'i'"
     ]
    }
   ],
   "source": [
    "MyClassInit.i"
   ]
  },
  {
   "cell_type": "code",
   "execution_count": 120,
   "metadata": {},
   "outputs": [
    {
     "name": "stdout",
     "output_type": "stream",
     "text": [
      "123\n"
     ]
    }
   ],
   "source": [
    "a = MyClassInit()\n",
    "print a.i"
   ]
  },
  {
   "cell_type": "code",
   "execution_count": 123,
   "metadata": {},
   "outputs": [
    {
     "name": "stdout",
     "output_type": "stream",
     "text": [
      "33\n"
     ]
    }
   ],
   "source": [
    "b = MyClass()\n",
    "b.i += 10 #( b.i = b.i + 10)\n",
    "MyClass.i = 23\n",
    "print b.i  "
   ]
  },
  {
   "cell_type": "code",
   "execution_count": 46,
   "metadata": {},
   "outputs": [
    {
     "ename": "ValueError",
     "evalue": "give me nums",
     "output_type": "error",
     "traceback": [
      "\u001b[0;31m---------------------------------------------------------------------------\u001b[0m",
      "\u001b[0;31mValueError\u001b[0m                                Traceback (most recent call last)",
      "\u001b[0;32m<ipython-input-46-c0c4a38bbe54>\u001b[0m in \u001b[0;36m<module>\u001b[0;34m()\u001b[0m\n\u001b[1;32m     11\u001b[0m \u001b[0ma\u001b[0m \u001b[0;34m=\u001b[0m \u001b[0mMyClass\u001b[0m\u001b[0;34m(\u001b[0m\u001b[0;34m)\u001b[0m\u001b[0;34m\u001b[0m\u001b[0m\n\u001b[1;32m     12\u001b[0m \u001b[0ma\u001b[0m\u001b[0;34m.\u001b[0m\u001b[0msay_hello\u001b[0m\u001b[0;34m(\u001b[0m\u001b[0;36m3\u001b[0m\u001b[0;34m)\u001b[0m\u001b[0;34m\u001b[0m\u001b[0m\n\u001b[0;32m---> 13\u001b[0;31m \u001b[0ma\u001b[0m\u001b[0;34m.\u001b[0m\u001b[0mrepeat_user\u001b[0m\u001b[0;34m(\u001b[0m\u001b[0;34m\"str\"\u001b[0m\u001b[0;34m)\u001b[0m\u001b[0;34m\u001b[0m\u001b[0m\n\u001b[0m",
      "\u001b[0;32m<ipython-input-46-c0c4a38bbe54>\u001b[0m in \u001b[0;36mrepeat_user\u001b[0;34m(self, input_str)\u001b[0m\n\u001b[1;32m      7\u001b[0m                \u001b[0;32mreturn\u001b[0m \u001b[0mfloat\u001b[0m\u001b[0;34m(\u001b[0m\u001b[0minput_str\u001b[0m\u001b[0;34m)\u001b[0m\u001b[0;34m,\u001b[0m \u001b[0mself\u001b[0m\u001b[0;34m.\u001b[0m\u001b[0mi\u001b[0m\u001b[0;34m\u001b[0m\u001b[0m\n\u001b[1;32m      8\u001b[0m            \u001b[0;32mexcept\u001b[0m \u001b[0mValueError\u001b[0m\u001b[0;34m:\u001b[0m\u001b[0;34m\u001b[0m\u001b[0m\n\u001b[0;32m----> 9\u001b[0;31m                \u001b[0;32mraise\u001b[0m \u001b[0mValueError\u001b[0m\u001b[0;34m(\u001b[0m\u001b[0;34m\"give me nums\"\u001b[0m\u001b[0;34m)\u001b[0m\u001b[0;34m\u001b[0m\u001b[0m\n\u001b[0m\u001b[1;32m     10\u001b[0m \u001b[0;34m\u001b[0m\u001b[0m\n\u001b[1;32m     11\u001b[0m \u001b[0ma\u001b[0m \u001b[0;34m=\u001b[0m \u001b[0mMyClass\u001b[0m\u001b[0;34m(\u001b[0m\u001b[0;34m)\u001b[0m\u001b[0;34m\u001b[0m\u001b[0m\n",
      "\u001b[0;31mValueError\u001b[0m: give me nums"
     ]
    }
   ],
   "source": [
    " class MyClass(object):\n",
    "        def say_hello(self, i):\n",
    "            self.i = i \n",
    "            return 'Hi there!'\n",
    "        def repeat_user(self, input_str):\n",
    "            try:\n",
    "                return float(input_str), self.i\n",
    "            except ValueError:\n",
    "                raise ValueError(\"give me nums\")\n",
    "        \n",
    "a = MyClass()\n",
    "a.say_hello(3)\n",
    "a.repeat_user(\"str\")"
   ]
  },
  {
   "cell_type": "code",
   "execution_count": null,
   "metadata": {
    "collapsed": true
   },
   "outputs": [],
   "source": []
  },
  {
   "cell_type": "code",
   "execution_count": 171,
   "metadata": {},
   "outputs": [
    {
     "data": {
      "text/plain": [
       "(3, -5)"
      ]
     },
     "execution_count": 171,
     "metadata": {},
     "output_type": "execute_result"
    }
   ],
   "source": [
    "# custom constructor using __init__\n",
    "import math\n",
    "class Complex(object):\n",
    "    def __init__(self, realpart=0, imagpart=0):\n",
    "        self.real = realpart\n",
    "        self.imag = imagpart \n",
    "    def modulus(self):\n",
    "        return math.sqrt(self.real ** 2 + self.imag **2 )\n",
    "    def conjugate(self):\n",
    "        return (self.real, -self.imag)\n",
    "    def __add__(self, other):\n",
    "        self.real_add = self.real + other.real\n",
    "        self.imag_add = self.imag + other.imag\n",
    "        return self.real_add, self.imag_add\n",
    "first_comp = Complex(3, 5)\n",
    "first_comp.modulus()\n",
    "first_comp.conjugate()"
   ]
  },
  {
   "cell_type": "code",
   "execution_count": 173,
   "metadata": {
    "collapsed": true
   },
   "outputs": [],
   "source": [
    "second_comp = Complex(10, 11)"
   ]
  },
  {
   "cell_type": "markdown",
   "metadata": {},
   "source": [
    "### Methods vs. Functions \n",
    "\n",
    "A *method* is a function that is contained within an object \n",
    "\n",
    "    method ~ (object, function)\n",
    "    \n",
    " Methods invoke special semantics \n",
    "     \n",
    "    object.method(arguments) = function(object, arguments)"
   ]
  },
  {
   "cell_type": "code",
   "execution_count": 159,
   "metadata": {
    "collapsed": true
   },
   "outputs": [],
   "source": [
    "class Pizza(object):\n",
    "    def __init__(self, radius, toppings, slices=8):\n",
    "        self.radius = radius\n",
    "        self.toppings = toppings\n",
    "        self.slices_left = slices\n",
    "    \n",
    "    def eat_slice(self):\n",
    "        if self.slices_left > 0:\n",
    "            self.slices_left -= 1\n",
    "        else:\n",
    "            print(\"Oh no! Out of pizza\")\n",
    "\n",
    "    def __add__(self, other):\n",
    "        self.radius = self.radius + other.radius\n",
    "        self.slices_left = self.slices_left + other.slices_left\n",
    "    "
   ]
  },
  {
   "cell_type": "code",
   "execution_count": 168,
   "metadata": {},
   "outputs": [
    {
     "ename": "TypeError",
     "evalue": "unsupported operand type(s) for -: 'Pizza' and 'Pizza'",
     "output_type": "error",
     "traceback": [
      "\u001b[0;31m---------------------------------------------------------------------------\u001b[0m",
      "\u001b[0;31mTypeError\u001b[0m                                 Traceback (most recent call last)",
      "\u001b[0;32m<ipython-input-168-f537d7617f02>\u001b[0m in \u001b[0;36m<module>\u001b[0;34m()\u001b[0m\n\u001b[1;32m      3\u001b[0m \u001b[0;34m\u001b[0m\u001b[0m\n\u001b[1;32m      4\u001b[0m \u001b[0;31m## operator overloading\u001b[0m\u001b[0;34m\u001b[0m\u001b[0;34m\u001b[0m\u001b[0m\n\u001b[0;32m----> 5\u001b[0;31m \u001b[0mp2\u001b[0m \u001b[0;34m-\u001b[0m \u001b[0mp1\u001b[0m\u001b[0;34m\u001b[0m\u001b[0m\n\u001b[0m",
      "\u001b[0;31mTypeError\u001b[0m: unsupported operand type(s) for -: 'Pizza' and 'Pizza'"
     ]
    }
   ],
   "source": [
    "p1 = Pizza(14, (\"Pep\", \"Olives\"), slices=12)\n",
    "p2 = Pizza(13, ('Jalepenos', 'Tomoates'), slices=13)\n",
    "\n",
    "## operator overloading\n",
    "p2 - p1\n"
   ]
  },
  {
   "cell_type": "code",
   "execution_count": 166,
   "metadata": {},
   "outputs": [
    {
     "name": "stdout",
     "output_type": "stream",
     "text": [
      "13\n",
      "13\n"
     ]
    }
   ],
   "source": [
    "print p2.radius\n",
    "\n",
    "print p2.slices_left"
   ]
  },
  {
   "cell_type": "code",
   "execution_count": 1,
   "metadata": {},
   "outputs": [
    {
     "data": {
      "text/plain": [
       "'Mr. Peanut Butter'"
      ]
     },
     "execution_count": 1,
     "metadata": {},
     "output_type": "execute_result"
    }
   ],
   "source": [
    "class Dog:\n",
    "    kind = 'Canine' # class variable shared by all instances\n",
    "    def __init__(self, name):\n",
    "        self.name = name # instance variable unique to each instance\n",
    "\n",
    "a = Dog('Astro')\n",
    "\n",
    "pb = Dog('Mr. Peanut Butter')\n",
    "\n",
    "a.kind # 'Canine' (shared by all dogs)\n",
    "\n",
    "pb.kind # 'Canine' (shared by all dogs)\n",
    "\n",
    "a.name # 'Astro' (unique to a)\n",
    "\n",
    "pb.name # 'Mr. Peanut Butter' (unique to pb)"
   ]
  },
  {
   "cell_type": "markdown",
   "metadata": {},
   "source": [
    "## What could go wrong here?"
   ]
  },
  {
   "cell_type": "code",
   "execution_count": 76,
   "metadata": {},
   "outputs": [
    {
     "data": {
      "text/plain": [
       "['roll over', 'play dead']"
      ]
     },
     "execution_count": 76,
     "metadata": {},
     "output_type": "execute_result"
    }
   ],
   "source": [
    "class Dog:\n",
    "    tricks = []\n",
    "    def __init__(self, name):\n",
    "        self.name = name\n",
    "    def add_trick(self, trick):\n",
    "        self.tricks.append(trick)\n",
    "        \n",
    "d = Dog('Fido')\n",
    "e = Dog('Buddy')\n",
    "d.add_trick('roll over')\n",
    "e.add_trick('play dead')\n",
    "d.tricks"
   ]
  },
  {
   "cell_type": "code",
   "execution_count": 84,
   "metadata": {},
   "outputs": [
    {
     "name": "stdout",
     "output_type": "stream",
     "text": [
      "['roll over', 'play dead']\n",
      "['roll over', 'play dead']\n"
     ]
    }
   ],
   "source": [
    "class Dog:\n",
    "    def __init__(self, name='', tricks=[]):\n",
    "        self.name = name\n",
    "        self.tricks = tricks\n",
    "    def add_trick(self, trick):\n",
    "        self.tricks.append(trick)\n",
    "        \n",
    "        \n",
    "d = Dog('Fido')\n",
    "e = Dog('Buddy')\n",
    "d.add_trick('roll over')\n",
    "e.add_trick('play dead')\n",
    "print d.tricks\n",
    "print e.tricks"
   ]
  },
  {
   "cell_type": "code",
   "execution_count": 86,
   "metadata": {},
   "outputs": [
    {
     "data": {
      "text/plain": [
       "['roll over', 'play dead']"
      ]
     },
     "execution_count": 86,
     "metadata": {},
     "output_type": "execute_result"
    }
   ],
   "source": [
    "class Dog:\n",
    "    def __init__(self, name, global_tricks=[]):\n",
    "        self.name = name\n",
    "        self.tricks = []\n",
    "        self.global_tricks = global_tricks \n",
    "    def add_trick(self, trick):\n",
    "        self.tricks.append(trick)\n",
    "        self.global_tricks.append(trick)\n",
    "d = Dog('Fido')\n",
    "e = Dog('Buddy')\n",
    "d.add_trick('roll over')\n",
    "e.add_trick('play dead')\n",
    "d.tricks\n",
    "d.global_tricks"
   ]
  },
  {
   "cell_type": "markdown",
   "metadata": {},
   "source": [
    "## Stylistic Conventions\n",
    " - A method's first parameter should always be `self` \n",
    "     - Explicitly differentiate instance vars from local vars\n",
    "     \n",
    " - Method calls implicitly provide the calling object as the first argument to the class function\n",
    " \n",
    " - Use verbs for methods and nouns for data attributes"
   ]
  },
  {
   "cell_type": "markdown",
   "metadata": {},
   "source": [
    "### Inheritance \n",
    "\n",
    "<img src=http://i.imgur.com/C7lsvRs.png>"
   ]
  },
  {
   "cell_type": "markdown",
   "metadata": {},
   "source": [
    "### Single Inheritance \n",
    "\n",
    "- A class object remembers its base class. \n",
    "\n",
    "- If you don't specify a base class, implicitly use object\n",
    "\n",
    "- Method and attribute lookup begins in the derived class\n",
    "    - Proceeds down the chain of base classes\n",
    "\n",
    "- Derived methods override (shadow) base methods\n",
    "\n",
    "- Like `virtual` in C++"
   ]
  },
  {
   "cell_type": "markdown",
   "metadata": {},
   "source": [
    "### Code Along: Single Inheritance\n",
    "\n",
    "Let's create a class to create General Assembly courses. \n",
    "\n",
    "- What whould be important characteristics of a course? \n",
    "\n"
   ]
  },
  {
   "cell_type": "code",
   "execution_count": 27,
   "metadata": {
    "collapsed": true
   },
   "outputs": [],
   "source": [
    "class Course(object):\n",
    "    \n",
    "    def __init__(self, instructor='Alex', location='SF', \n",
    "                 producer='Merceds', num_students=11):\n",
    "        self.instructor = instructor\n",
    "        self.location = location\n",
    "        self.producer = producer \n",
    "        self.num_students = num_students\n",
    "        \n",
    "    def calculate_num_pizzas(self):\n",
    "        return self.num_students * 5 \n",
    "\n",
    "\n",
    "        "
   ]
  },
  {
   "cell_type": "code",
   "execution_count": 31,
   "metadata": {
    "collapsed": true
   },
   "outputs": [],
   "source": [
    "class DSCourse(Course): # Inhereiting from the course object \n",
    "    \n",
    "    def __init__(self, instructor, location, producer, num_students):\n",
    "        Course.__init__(self, instructor, location, producer, num_students)\n",
    "        super(DSCourse, self).__init__(instructor, location, producer, num_students)\n",
    "        self.topics = []\n",
    "        \n",
    "    def add_topic(self, topic):\n",
    "        self.topics.append(topic)\n",
    "    "
   ]
  },
  {
   "cell_type": "code",
   "execution_count": 32,
   "metadata": {},
   "outputs": [
    {
     "ename": "NameError",
     "evalue": "name 'Z' is not defined",
     "output_type": "error",
     "traceback": [
      "\u001b[0;31m---------------------------------------------------------------------------\u001b[0m",
      "\u001b[0;31mNameError\u001b[0m                                 Traceback (most recent call last)",
      "\u001b[0;32m<ipython-input-32-9771cf0f5358>\u001b[0m in \u001b[0;36m<module>\u001b[0;34m()\u001b[0m\n\u001b[1;32m      3\u001b[0m \u001b[0mdsi_sf_7\u001b[0m\u001b[0;34m.\u001b[0m\u001b[0mcalculate_num_pizzas\u001b[0m\u001b[0;34m(\u001b[0m\u001b[0;34m)\u001b[0m\u001b[0;34m\u001b[0m\u001b[0m\n\u001b[1;32m      4\u001b[0m \u001b[0;34m\u001b[0m\u001b[0m\n\u001b[0;32m----> 5\u001b[0;31m \u001b[0mZ\u001b[0m\u001b[0;34m.\u001b[0m\u001b[0mmro\u001b[0m\u001b[0;34m(\u001b[0m\u001b[0;34m)\u001b[0m\u001b[0;34m\u001b[0m\u001b[0m\n\u001b[0m",
      "\u001b[0;31mNameError\u001b[0m: name 'Z' is not defined"
     ]
    }
   ],
   "source": [
    "dsi_sf_7 = DSCourse('Nick', 'SF', 'Emily', 13)\n",
    "\n",
    "dsi_sf_7.calculate_num_pizzas()\n"
   ]
  },
  {
   "cell_type": "code",
   "execution_count": 190,
   "metadata": {},
   "outputs": [
    {
     "data": {
      "text/plain": [
       "50"
      ]
     },
     "execution_count": 190,
     "metadata": {},
     "output_type": "execute_result"
    }
   ],
   "source": [
    "dsi5.calculate_num_pizzas()"
   ]
  },
  {
   "cell_type": "markdown",
   "metadata": {},
   "source": [
    "<details>\n",
    "<summary> \n",
    "**Check**: What does `isinstance` function do? \n",
    "</summary>\n",
    "</details>\n",
    "\n",
    "<details>\n",
    "<summary> \n",
    "**Check**: What is the output for the following? <br/>\n",
    "```\n",
    "1. type(a)\n",
    "2. isinstance(a, Course)\n",
    "3. isinstance(b, Course)\n",
    "4. type(a) == type(b)\n",
    "5. a == b\n",
    "```\n",
    "</summary>\n",
    "__main__.Course <br/>\n",
    "\n",
    "True\n",
    "\n",
    "True\n",
    "\n",
    "False\n",
    "\n",
    "True\n",
    "\n",
    "\n",
    "</details>"
   ]
  },
  {
   "cell_type": "markdown",
   "metadata": {},
   "source": [
    "### Magic Methods\n",
    "\n",
    "You don't invoke them directly. The invokation happens behind the scenes. \n",
    "\n",
    "Python uses `__init__` to build classes. We can supply our own `__init__` for customization\n",
    "\n",
    "What else can we do? Can we make classes look like:\n",
    "\n",
    "- iterators?\n",
    "\n",
    "- sets? dictionaries?\n",
    "\n",
    "- numbers?\n",
    "\n",
    "- comparables?"
   ]
  },
  {
   "cell_type": "markdown",
   "metadata": {},
   "source": [
    "<img src=http://i.imgur.com/Pq36wry.png>"
   ]
  },
  {
   "cell_type": "code",
   "execution_count": 202,
   "metadata": {
    "collapsed": true
   },
   "outputs": [],
   "source": [
    "class Point:\n",
    "    def __init__(self, x=0, y=0):\n",
    "        self.x = x\n",
    "        self.y = y\n",
    "        \n",
    "    def rotate_90_CC(self):\n",
    "        self.x, self.y = -self.y, self.x\n",
    "        \n",
    "    def __add__(self, other):\n",
    "        return Point(self.x + other.x, self.y + other.y)\n",
    "\n",
    "    def __str__(self):\n",
    "        return \"Point({0}, {1})\".format(self.x, self.y)"
   ]
  },
  {
   "cell_type": "code",
   "execution_count": 205,
   "metadata": {},
   "outputs": [
    {
     "name": "stdout",
     "output_type": "stream",
     "text": [
      "23\n",
      "56\n"
     ]
    }
   ],
   "source": [
    "p1 = Point(10, 11)\n",
    "p2 = Point(13, 45)\n",
    "p3 = p1 + p2\n",
    "print p3.x\n",
    "print p3.y "
   ]
  },
  {
   "cell_type": "markdown",
   "metadata": {},
   "source": [
    "## Thought Experiment: Revisited\n",
    "\n",
    "Let’s say you run a company and you’ve just decided to give all your employees a $10,000.00 raise. How could we write a command-line script to make this change?"
   ]
  }
 ],
 "metadata": {
  "kernelspec": {
   "display_name": "Python 2",
   "language": "python",
   "name": "python2"
  },
  "language_info": {
   "codemirror_mode": {
    "name": "ipython",
    "version": 2
   },
   "file_extension": ".py",
   "mimetype": "text/x-python",
   "name": "python",
   "nbconvert_exporter": "python",
   "pygments_lexer": "ipython2",
   "version": "2.7.12"
  }
 },
 "nbformat": 4,
 "nbformat_minor": 1
}
