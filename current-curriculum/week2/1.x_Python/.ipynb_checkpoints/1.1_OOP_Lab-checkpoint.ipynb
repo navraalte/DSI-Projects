{
 "cells": [
  {
   "cell_type": "markdown",
   "metadata": {},
   "source": [
    "## Question 1: Two Dimensional Vectors\n",
    "\n",
    "Define a Python class `Vector`, which represents two-dimensional vectors (arrays) and supports the following operations:\n",
    "\n",
    "- Create a new vector out of two real numbers: `v = Vector(1.1, 2.2)`\n",
    "\n",
    "- Convert a vector to a string (with the `__str__` method)\n",
    "\n",
    "- Access the components (with the `getX` and `getY` methods)\n",
    "\n",
    "- Add two V2s to get a new Vector (with add and `__add__` methods). \n",
    "    ```\n",
    "    v1 = Vector(1.1, 2.2)\n",
    "    v2 = Vector(1.9, 2.8)\n",
    "    v3 = v1 + v2 \n",
    "    assert v3.getX == 3\n",
    "    assert v3.getY == 5\n",
    "    ```\n",
    "\n",
    "- Multiply a Vector by a scalar (real or int) and return a new Vector (with the mul and `__mul__` methods)\n",
    "    \n",
    "    ```\n",
    "    v1 = Vector(1.1, 2.2)\n",
    "    v2 = 3 * v1\n",
    "    assert v3.getX == 3.3\n",
    "    assert v3.getY == 6.6\n",
    "    ```"
   ]
  },
  {
   "cell_type": "code",
   "execution_count": 1,
   "metadata": {
    "collapsed": true
   },
   "outputs": [],
   "source": [
    "class Vector(object):\n",
    "    \n",
    "    def __init__(self, x, y):\n",
    "        self.x = x\n",
    "        self.y = y\n",
    "\n",
    "    def __str__(self):\n",
    "        return \"x:{}, y{}\".format(self.x,self.y)\n",
    "    \n",
    "    def getX(self):\n",
    "        return self.x\n",
    "    \n",
    "    def getY(self):\n",
    "        return self.y\n",
    "\n",
    "    def __add__(self, other):\n",
    "        return Vector(self.x + other.x, self.y + other.y)\n",
    "    \n",
    "    def __mul__(self, scalar):\n",
    "        return Vector(self.x * scalar, self.y * scalar)\n",
    "    \n",
    "    \n",
    "    \n",
    "\n",
    "\n"
   ]
  },
  {
   "cell_type": "code",
   "execution_count": 2,
   "metadata": {
    "collapsed": true
   },
   "outputs": [],
   "source": [
    "    \n",
    "v1 = Vector(1.1, 2.2)\n",
    "v2 = Vector(1.9, 2.8)\n",
    "v3 = v1 + v2 \n",
    "assert v3.getX() == 3\n",
    "assert v3.getY() == 5\n",
    "  \n"
   ]
  },
  {
   "cell_type": "code",
   "execution_count": 3,
   "metadata": {},
   "outputs": [
    {
     "ename": "TypeError",
     "evalue": "unsupported operand type(s) for *: 'int' and 'Vector'",
     "output_type": "error",
     "traceback": [
      "\u001b[0;31m---------------------------------------------------------------------------\u001b[0m",
      "\u001b[0;31mTypeError\u001b[0m                                 Traceback (most recent call last)",
      "\u001b[0;32m<ipython-input-3-dbda7afe0821>\u001b[0m in \u001b[0;36m<module>\u001b[0;34m()\u001b[0m\n\u001b[1;32m      1\u001b[0m \u001b[0mv1\u001b[0m \u001b[0;34m=\u001b[0m \u001b[0mVector\u001b[0m\u001b[0;34m(\u001b[0m\u001b[0;36m1.1\u001b[0m\u001b[0;34m,\u001b[0m \u001b[0;36m2.2\u001b[0m\u001b[0;34m)\u001b[0m\u001b[0;34m\u001b[0m\u001b[0m\n\u001b[0;32m----> 2\u001b[0;31m \u001b[0mv2\u001b[0m \u001b[0;34m=\u001b[0m \u001b[0;36m3\u001b[0m \u001b[0;34m*\u001b[0m \u001b[0mv1\u001b[0m\u001b[0;34m\u001b[0m\u001b[0m\n\u001b[0m\u001b[1;32m      3\u001b[0m \u001b[0;32massert\u001b[0m \u001b[0mv3\u001b[0m\u001b[0;34m.\u001b[0m\u001b[0mgetX\u001b[0m\u001b[0;34m(\u001b[0m\u001b[0;34m)\u001b[0m \u001b[0;34m==\u001b[0m \u001b[0;36m3.3\u001b[0m\u001b[0;34m\u001b[0m\u001b[0m\n\u001b[1;32m      4\u001b[0m \u001b[0;32massert\u001b[0m \u001b[0mv3\u001b[0m\u001b[0;34m.\u001b[0m\u001b[0mgetY\u001b[0m\u001b[0;34m(\u001b[0m\u001b[0;34m)\u001b[0m \u001b[0;34m==\u001b[0m \u001b[0;36m6.6\u001b[0m\u001b[0;34m\u001b[0m\u001b[0m\n",
      "\u001b[0;31mTypeError\u001b[0m: unsupported operand type(s) for *: 'int' and 'Vector'"
     ]
    }
   ],
   "source": [
    "v1 = Vector(1.1, 2.2)\n",
    "v2 = 3 * v1\n",
    "assert v3.getX() == 3.3\n",
    "assert v3.getY() == 6.6"
   ]
  },
  {
   "cell_type": "markdown",
   "metadata": {},
   "source": [
    "## Question 2: Polynomial Class\n",
    "\n",
    "Define a Python class Polynomial which provides methods for performing algebraic operations on polynomials. Your class should behave as described in the following way:\n",
    "\n",
    "```\n",
    ">>> p1 = Polynomial([1, 2, 3])\n",
    ">>> print p1 \n",
    "1.000 z**2 + 2.000 z + 3.000\n",
    "\n",
    ">>> p2 = Polynomial([100, 200])\n",
    ">>> p3 = p1.add(p2)\n",
    ">>> print p3\n",
    "1.000 z**2 + 102.000 z + 203.000\n",
    ">>> print p1 + p2\n",
    "1.000 z**2 + 102.000 z + 203.000\n",
    "\n",
    ">>> p1(1)\n",
    "6.0\n",
    ">>> p1(-1)\n",
    "2.0\n",
    ">>> (p1 + p2)(10)\n",
    "1323.0\n",
    "\n",
    ">>> print p1.mul(p1)\n",
    "1.000 z**4 + 4.000 z**3 + 10.000 z**2 + 12.000 z + 9.000\n",
    ">>> print p1 * p1\n",
    "1.000 z**4 + 4.000 z**3 + 10.000 z**2 + 12.000 z + 9.000\n",
    ">>> print p1 * p2 + p1\n",
    "100.000 z**3 + 401.000 z**2 + 702.000 z + 603.000\n",
    "\n",
    "\n",
    "```"
   ]
  },
  {
   "cell_type": "code",
   "execution_count": 9,
   "metadata": {},
   "outputs": [
    {
     "ename": "UnboundLocalError",
     "evalue": "local variable 'small_coefs' referenced before assignment",
     "output_type": "error",
     "traceback": [
      "\u001b[0;31m---------------------------------------------------------------------------\u001b[0m",
      "\u001b[0;31mUnboundLocalError\u001b[0m                         Traceback (most recent call last)",
      "\u001b[0;32m<ipython-input-9-8e983d4706fe>\u001b[0m in \u001b[0;36m<module>\u001b[0;34m()\u001b[0m\n\u001b[1;32m     65\u001b[0m \u001b[0mp3\u001b[0m \u001b[0;34m=\u001b[0m \u001b[0mPolynomial\u001b[0m\u001b[0;34m(\u001b[0m\u001b[0;34m[\u001b[0m\u001b[0;36m3\u001b[0m\u001b[0;34m,\u001b[0m\u001b[0;36m2\u001b[0m\u001b[0;34m,\u001b[0m\u001b[0;36m1\u001b[0m\u001b[0;34m,\u001b[0m\u001b[0;36m11\u001b[0m\u001b[0;34m]\u001b[0m\u001b[0;34m)\u001b[0m\u001b[0;34m\u001b[0m\u001b[0m\n\u001b[1;32m     66\u001b[0m \u001b[0;34m\u001b[0m\u001b[0m\n\u001b[0;32m---> 67\u001b[0;31m \u001b[0;32mprint\u001b[0m \u001b[0mp1\u001b[0m\u001b[0;34m+\u001b[0m\u001b[0mp2\u001b[0m\u001b[0;34m\u001b[0m\u001b[0m\n\u001b[0m\u001b[1;32m     68\u001b[0m \u001b[0;32mprint\u001b[0m \u001b[0mp1\u001b[0m \u001b[0;34m+\u001b[0m \u001b[0mp3\u001b[0m\u001b[0;34m\u001b[0m\u001b[0m\n\u001b[1;32m     69\u001b[0m \u001b[0;34m\u001b[0m\u001b[0m\n",
      "\u001b[0;32m<ipython-input-9-8e983d4706fe>\u001b[0m in \u001b[0;36m__add__\u001b[0;34m(self, new_poly)\u001b[0m\n\u001b[1;32m     38\u001b[0m         \u001b[0mL\u001b[0m \u001b[0;34m,\u001b[0m \u001b[0mS\u001b[0m \u001b[0;34m=\u001b[0m \u001b[0mlen\u001b[0m\u001b[0;34m(\u001b[0m\u001b[0mlarge_coefs\u001b[0m\u001b[0;34m)\u001b[0m\u001b[0;34m,\u001b[0m \u001b[0mlen\u001b[0m\u001b[0;34m(\u001b[0m\u001b[0msmall_coefs\u001b[0m\u001b[0;34m)\u001b[0m\u001b[0;34m\u001b[0m\u001b[0m\n\u001b[1;32m     39\u001b[0m         \u001b[0mpad_zeros\u001b[0m \u001b[0;34m=\u001b[0m \u001b[0;34m[\u001b[0m\u001b[0;36m0\u001b[0m\u001b[0;34m]\u001b[0m \u001b[0;34m*\u001b[0m \u001b[0;34m(\u001b[0m\u001b[0mL\u001b[0m\u001b[0;34m-\u001b[0m\u001b[0mS\u001b[0m\u001b[0;34m)\u001b[0m\u001b[0;34m\u001b[0m\u001b[0m\n\u001b[0;32m---> 40\u001b[0;31m         \u001b[0msmall_coefs_pad\u001b[0m\u001b[0;34m,\u001b[0m \u001b[0mlarge_coefs\u001b[0m \u001b[0;34m=\u001b[0m \u001b[0mself\u001b[0m\u001b[0;34m.\u001b[0m\u001b[0mpadding\u001b[0m\u001b[0;34m(\u001b[0m\u001b[0mnew_poly\u001b[0m\u001b[0;34m)\u001b[0m\u001b[0;34m\u001b[0m\u001b[0m\n\u001b[0m\u001b[1;32m     41\u001b[0m         \u001b[0madded_coefs\u001b[0m \u001b[0;34m=\u001b[0m \u001b[0mmap\u001b[0m\u001b[0;34m(\u001b[0m\u001b[0;32mlambda\u001b[0m \u001b[0mx\u001b[0m\u001b[0;34m:\u001b[0m \u001b[0mx\u001b[0m\u001b[0;34m[\u001b[0m\u001b[0;36m0\u001b[0m\u001b[0;34m]\u001b[0m\u001b[0;34m+\u001b[0m\u001b[0mx\u001b[0m\u001b[0;34m[\u001b[0m\u001b[0;36m1\u001b[0m\u001b[0;34m]\u001b[0m\u001b[0;34m,\u001b[0m \u001b[0mzip\u001b[0m\u001b[0;34m(\u001b[0m\u001b[0msmall_coefs_pad\u001b[0m\u001b[0;34m,\u001b[0m \u001b[0mlarge_coefs\u001b[0m\u001b[0;34m)\u001b[0m\u001b[0;34m)\u001b[0m\u001b[0;34m\u001b[0m\u001b[0m\n\u001b[1;32m     42\u001b[0m         \u001b[0;32mreturn\u001b[0m \u001b[0mPolynomial\u001b[0m\u001b[0;34m(\u001b[0m\u001b[0madded_coefs\u001b[0m\u001b[0;34m)\u001b[0m\u001b[0;34m\u001b[0m\u001b[0m\n",
      "\u001b[0;32m<ipython-input-9-8e983d4706fe>\u001b[0m in \u001b[0;36mpadding\u001b[0;34m(self, new_poly)\u001b[0m\n\u001b[1;32m     54\u001b[0m \u001b[0;34m\u001b[0m\u001b[0m\n\u001b[1;32m     55\u001b[0m     \u001b[0;32mdef\u001b[0m \u001b[0mpadding\u001b[0m\u001b[0;34m(\u001b[0m\u001b[0mself\u001b[0m\u001b[0;34m,\u001b[0m \u001b[0mnew_poly\u001b[0m\u001b[0;34m)\u001b[0m\u001b[0;34m:\u001b[0m\u001b[0;34m\u001b[0m\u001b[0m\n\u001b[0;32m---> 56\u001b[0;31m         \u001b[0;32mif\u001b[0m \u001b[0mlen\u001b[0m\u001b[0;34m(\u001b[0m\u001b[0msmall_coefs\u001b[0m\u001b[0;34m)\u001b[0m \u001b[0;34m>\u001b[0m \u001b[0mlen\u001b[0m\u001b[0;34m(\u001b[0m\u001b[0mlarge_coefs\u001b[0m\u001b[0;34m)\u001b[0m\u001b[0;34m:\u001b[0m\u001b[0;34m\u001b[0m\u001b[0m\n\u001b[0m\u001b[1;32m     57\u001b[0m             \u001b[0msmall_coefs\u001b[0m\u001b[0;34m,\u001b[0m \u001b[0mlarge_coefs\u001b[0m \u001b[0;34m=\u001b[0m \u001b[0mlarge_coefs\u001b[0m\u001b[0;34m,\u001b[0m \u001b[0msmall_coefs\u001b[0m\u001b[0;34m\u001b[0m\u001b[0m\n\u001b[1;32m     58\u001b[0m \u001b[0;34m\u001b[0m\u001b[0m\n",
      "\u001b[0;31mUnboundLocalError\u001b[0m: local variable 'small_coefs' referenced before assignment"
     ]
    }
   ],
   "source": [
    "class Polynomial (object):\n",
    "    def __init__(self, coefs):\n",
    "        self.coefs = coefs\n",
    "        \n",
    "    def __repr__(self):\n",
    "        poly_string = \"\"\n",
    "        highest_exp = len(self.coefs) - 1 \n",
    "        for idx, item in enumerate(self.coefs):\n",
    "            exp = highest_exp - idx\n",
    "            if exp == 0:\n",
    "                poly_string += str(item)\n",
    "            elif exp == 1:\n",
    "                poly_string += str(item) + \"Z + \"\n",
    "            else:\n",
    "                poly_string += str(item) + \"z**\" + str(exp)  + \"+ \"\n",
    "                    \n",
    "        return poly_string\n",
    "            \n",
    "        \n",
    "    def __call__(self,x):\n",
    "        highest_exp = len(self.coefs) - 1 \n",
    "        evalx = sum([item * x ** (highest_exp - idx) for idx, item in enumerate(self.coefs)])\n",
    "        # keeps track of the polynomial and exp\n",
    "        return evalx\n",
    "        #sums both up \n",
    "        \n",
    "        \n",
    "    def __add__(self, new_poly):\n",
    "        new_coefs = new_poly.coefs \n",
    "        \n",
    "        if len(new_coefs) < len(self.coefs):\n",
    "            small_coefs = new_coefs\n",
    "            large_coefs = self.coefs\n",
    "        else:\n",
    "            small_coefs = self.coefs\n",
    "            large_coefs = new_coefs\n",
    "            \n",
    "        L , S = len(large_coefs), len(small_coefs)\n",
    "        pad_zeros = [0] * (L-S)\n",
    "        small_coefs_pad, large_coefs = self.padding(new_poly) \n",
    "        added_coefs = map(lambda x: x[0]+x[1], zip(small_coefs_pad, large_coefs))\n",
    "        return Polynomial(added_coefs)\n",
    "    \n",
    "\n",
    "    def __mul__(self, new_poly):\n",
    "        \n",
    "        small_coefs_pad, large_coefs = self.padding(new_poly) \n",
    "        N = len(small_coefs) - 1 \n",
    "        \n",
    "        \n",
    "        \n",
    "        poly_hash = {}\n",
    "        for lcoef_idx, lcoef in enumerate(large_coefs):\n",
    "            for scoef_idx, scoef in enumerate(small_coefs):\n",
    "                large_exp = N - lcoef_idx\n",
    "                small_exp = N - scoef_idx\n",
    "                total_exp = large_exp + small_exp\n",
    "                if total_exp in poly_hash:\n",
    "                    poly_hash[total_exp] += lcoef * scoef\n",
    "                else:\n",
    "                    poly_hash[total_exp] = lcoef + scoef\n",
    "                \n",
    "\n",
    "        \n",
    "    def padding(self, new_poly):\n",
    "\n",
    "        \n",
    "            \n",
    "                    \n",
    "        if len(small_coefs) > len(large_coefs):\n",
    "            small_coefs, large_coefs = large_coefs, small_coefs\n",
    "            \n",
    "        L , S = len(large_coefs), len(small_coefs)\n",
    "        pad_zeros = [0] * (L-S)\n",
    "        small_coefs_pad = pad_zeros + small_coefs \n",
    "        \n",
    "         \n",
    "            \n",
    "            \n",
    "            \n",
    "p1 = Polynomial([3,2,1,11])  \n",
    "p2 = Polynomial([3,2,1,11])                             \n",
    "p3 = Polynomial([3,2,1,11])          \n",
    "\n",
    "print p1+p2\n",
    "print p1 + p3                          \n",
    "\n",
    "\n",
    "    "
   ]
  },
  {
   "cell_type": "markdown",
   "metadata": {},
   "source": [
    "## Question 3: Bank Accounts\n",
    "\n",
    "Suppose we want to model a bank account with support for deposit and withdraw operations. One way to do that is by using global state as shown in the following example. However, this is good enough only if we have a single account. Things start getting complicated if want to model multiple accounts. Write a `class` that keeps track of people's back account. Your class should have an attribute for the `initial_balance`, methods for `withdraw`, `deposit`, and `overdrawing`.  \n",
    "\n",
    "\n"
   ]
  },
  {
   "cell_type": "code",
   "execution_count": 19,
   "metadata": {},
   "outputs": [
    {
     "data": {
      "text/plain": [
       "900"
      ]
     },
     "execution_count": 19,
     "metadata": {},
     "output_type": "execute_result"
    }
   ],
   "source": [
    "\n",
    "class Bank():\n",
    "    \n",
    "    def __init__(self):\n",
    "        initial_balance = 200\n",
    "        self.x = initial_balance\n",
    "        \n",
    "    def withdraw(self, w):\n",
    "        self.x -= w \n",
    "        return self.x\n",
    "    \n",
    "    def deposit(self, d):\n",
    "        self.x = self.x + d\n",
    "        return self.x\n",
    "    \n",
    "    def overdraw(self, od):\n",
    "        if od > self.x:\n",
    "            self.x = self.x - od\n",
    "            return self.x , \"your account is overdrawn\" \n",
    "\n",
    "        \n",
    "        else:\n",
    "            self.x  = initial_balance\n",
    "            print(\"transaction approved, your balance is: $\" , self.x)\n",
    "    \n",
    "    \n",
    "a = Bank()\n",
    "\n",
    "\n",
    "a.deposit(500)\n",
    "a.deposit(400)\n",
    "a.withdraw(100)\n",
    "a.overdraw(10000)\n",
    "a.withdraw(100)\n",
    "a.deposit(10000)"
   ]
  },
  {
   "cell_type": "code",
   "execution_count": null,
   "metadata": {
    "collapsed": true
   },
   "outputs": [],
   "source": []
  },
  {
   "cell_type": "code",
   "execution_count": null,
   "metadata": {
    "collapsed": true
   },
   "outputs": [],
   "source": []
  },
  {
   "cell_type": "markdown",
   "metadata": {},
   "source": [
    "## Question 4: Exploring Inheritance\n",
    "\n",
    "Consider the following code: "
   ]
  },
  {
   "cell_type": "code",
   "execution_count": null,
   "metadata": {
    "collapsed": true
   },
   "outputs": [],
   "source": [
    "## Examples of Single Inheritance\n",
    "class Transportation(object):\n",
    "    wheels = 0\n",
    "\n",
    "    def __init__(self):\n",
    "        self.wheels = -1\n",
    "\n",
    "    def travel_one(self):\n",
    "        print(\"Travelling on generic transportation\")\n",
    "\n",
    "    def travel(self, distance):\n",
    "        for _ in range(distance):\n",
    "            self.travel_one()\n",
    "\n",
    "    def is_auto(self):\n",
    "        return self.wheels == 4\n",
    "\n",
    "class Bike(Transportation):\n",
    "\n",
    "    def travel_one(self):\n",
    "        print(\"Biking one mile\")\n",
    "\n",
    "class Car(Transportation):\n",
    "    wheels = 4\n",
    "\n",
    "    def travel_one(self):\n",
    "        print(\"Driving one mile\")\n",
    "\n",
    "    def make_sound(self):\n",
    "        print(\"VROOM\")\n",
    "\n",
    "class Ferrari(Car):\n",
    "    pass\n",
    "\n",
    "t = Transportation()\n",
    "b = Bike()\n",
    "c = Car()\n",
    "f = Ferrari()"
   ]
  },
  {
   "cell_type": "code",
   "execution_count": null,
   "metadata": {},
   "outputs": [],
   "source": [
    "f.travel(4)"
   ]
  },
  {
   "cell_type": "code",
   "execution_count": null,
   "metadata": {},
   "outputs": [],
   "source": [
    "## Predict the outcome of each (DON'T EVALUATE THEM)\n",
    "\n",
    "isinstance(t, Transportation) True \n",
    "\n",
    "isinstance(b, Bike) True \n",
    "isinstance(b, Transportation) True \n",
    "isinstance(b, Car) True \n",
    "isinstance(b, t) False \n",
    "\n",
    "isinstance(c, Car) True\n",
    "isinstance(c, Transportation) True \n",
    "\n",
    "isinstance(f, Ferrari) True  \n",
    "isinstance(f, Car) True \n",
    "isinstance(f, Transportation) True \n",
    "\n",
    "issubclass(Bike, Transportation) True  \n",
    "issubclass(Car, Transportation) True \n",
    "issubclass(Ferrari, Car) True \n",
    "issubclass(Ferrari, Transportation) True \n",
    "issubclass(Transportation, Transportation) True \n",
    "\n",
    "b.travel(5) \n",
    "c.is_auto() False\n",
    "f.is_auto() False \n",
    "b.is_auto() False \n",
    "b.make_sound() False \n",
    "c.travel(10) \n",
    "f.travel(4)"
   ]
  },
  {
   "cell_type": "markdown",
   "metadata": {},
   "source": [
    "## Question 5: Exceptions \n",
    "\n",
    "### Reading\n",
    "\n",
    "Skim over [Python's documentation on built-in exceptions](https://docs.python.org/3.4/library/exceptions.html).\n",
    "\n",
    "### `try`/`except`/`else`/`finally`\n",
    "\n",
    "Python provides `try` and `except` blocks , similar to other languages' `try` and `catch` blocks, for basic exceptional control flow.\n",
    "\n",
    "#### `get_age`\n",
    "\n",
    "Write a function `get_age` that asks a user for their age, which must be a positive integer between 0 and 123 (the oldest human recorded, Jeanna Clement, died at the age of 122). If the user enters something that's not an integer, you should reprompt them. However, if they enter an integer and it's out of range, you should raise an exception. That is, you should keep reprompting them until they enter something that can be converted into an integer, and then return that number if it's in range, and raise an exception otherwise. Two sample runs are shown below\n",
    "\n",
    "```\n",
    "# (Call 1)\n",
    "How old are you? ABC\n",
    "Invalid integer input.\n",
    "How old are you? -4.5\n",
    "Invalid integer input.\n",
    "How old are you? 36\n",
    "# returns 36\n",
    "\n",
    "# (Call 2)\n",
    "How old are you? XYZ\n",
    "Invalid integer input.\n",
    "How old are you? 128\n",
    "# raises some exception\n",
    "Traceback (most recent call last):\n",
    "  File \"<stdin>\", line 1, in <module>\n",
    "ValueError: Age 128 out of range\n",
    "```\n",
    "\n",
    "### Custom Exceptions\n",
    "\n",
    "Write a custom exception class called `OutOfRangeError` that inherits from `ValueError` which indicates that a given value is outside of an acceptable range. What does this class definition look like? What is the body of the class?\n",
    "\n",
    "``` \n",
    "# Implement OutOfRangeError\n",
    "```\n",
    "\n",
    "Rewrite your code in `get_age` to use this custom exception. Do you need to change any other code?\n",
    "\n",
    "### Using `else` and `finally`\n",
    "\n",
    "Rewrite your `get_age` function to use the `else` block, and optionally the `finally` block. As is consistent with general style guidelines, try to keep the `try` block as short as possible, containing just the code that might raise the exception you're trying to catch.\n",
    "\n",
    "### Reraising\n",
    "\n",
    "Consider the following code:\n",
    "\n",
    "```\n",
    "try:\n",
    "\tprint(\"in try\")\n",
    "\t# (A)\n",
    "except Exception as exc:\n",
    "\tprint(\"in except\")\n",
    "\t# (B)\n",
    "else:\n",
    "\tprint(\"in else\")\n",
    "\t# (C)\n",
    "finally:\n",
    "    print(\"in finally\")\n",
    "    # (D)\n",
    "```\n",
    "\n",
    "We're going to add some errors to this code block, which currently prints out\n",
    "\n",
    "```\n",
    "in try\n",
    "in else\n",
    "in finally\n",
    "```\n",
    "\n",
    "For each of the labelled locations `(A), (B), (C), (D)`, which statements print out if we `raise Exception()` at that position? Run the code to test your hypotheses."
   ]
  },
  {
   "cell_type": "code",
   "execution_count": 1,
   "metadata": {},
   "outputs": [
    {
     "name": "stdout",
     "output_type": "stream",
     "text": [
      "Your age is asdjasdj\n",
      "TypeError: Please enter a numeric value\n",
      "Your age is asdkasdk\n",
      "TypeError: Please enter a numeric value\n",
      "Your age is 234243\n",
      "IntError: invalid input\n",
      "Your age is -2323\n",
      "IntError: invalid input\n",
      "Your age is 14\n"
     ]
    },
    {
     "data": {
      "text/plain": [
       "14"
      ]
     },
     "execution_count": 1,
     "metadata": {},
     "output_type": "execute_result"
    }
   ],
   "source": [
    "\n",
    "def age_reader(): \n",
    "  \n",
    "    while True:\n",
    "        try:\n",
    "            a = int(raw_input(\"Your age is \"))\n",
    "            if not 0 < a < 123:\n",
    "                print(\"IntError: invalid input\")\n",
    "  \n",
    " \n",
    "                continue\n",
    "\n",
    "        except :\n",
    "    \n",
    "            print(\"TypeError: Please enter a numeric value\")\n",
    "            continue\n",
    "            \n",
    "            \n",
    "\n",
    "        return a\n",
    "    \n",
    "age_reader()\n",
    "\n",
    "        \n",
    "        "
   ]
  },
  {
   "cell_type": "markdown",
   "metadata": {},
   "source": [
    "# Question 5b: Exceptions \n",
    "Solve this related to Exceptions <a href=https://www.hackerrank.com/challenges/exceptions> Hackerrank Challenge </a>"
   ]
  },
  {
   "cell_type": "code",
   "execution_count": 3,
   "metadata": {},
   "outputs": [
    {
     "ename": "IndentationError",
     "evalue": "expected an indented block (<ipython-input-3-39e55e8e22ae>, line 23)",
     "output_type": "error",
     "traceback": [
      "\u001b[0;36m  File \u001b[0;32m\"<ipython-input-3-39e55e8e22ae>\"\u001b[0;36m, line \u001b[0;32m23\u001b[0m\n\u001b[0;31m    return a\u001b[0m\n\u001b[0m         ^\u001b[0m\n\u001b[0;31mIndentationError\u001b[0m\u001b[0;31m:\u001b[0m expected an indented block\n"
     ]
    }
   ],
   "source": [
    "\n",
    "def age_reader(): \n",
    "  \n",
    "    while True:\n",
    "        try:\n",
    "            a = int(raw_input(\"Your age is \"))\n",
    "            if not 0 < a < 123:\n",
    "                print(\"IntError: invalid input\")\n",
    "  \n",
    " \n",
    "                continue\n",
    "\n",
    "        except :\n",
    "    \n",
    "            print(\"TypeError: Please enter a numeric value\")\n",
    "            continue\n",
    "        \n",
    "        else:\n",
    "            \n",
    "            \n",
    "            \n",
    "\n",
    "        return a\n",
    "    \n",
    "age_reader()\n",
    "\n",
    "        "
   ]
  },
  {
   "cell_type": "code",
   "execution_count": null,
   "metadata": {
    "collapsed": true
   },
   "outputs": [],
   "source": []
  },
  {
   "cell_type": "code",
   "execution_count": null,
   "metadata": {
    "collapsed": true
   },
   "outputs": [],
   "source": []
  }
 ],
 "metadata": {
  "kernelspec": {
   "display_name": "Python 2",
   "language": "python",
   "name": "python2"
  },
  "language_info": {
   "codemirror_mode": {
    "name": "ipython",
    "version": 2
   },
   "file_extension": ".py",
   "mimetype": "text/x-python",
   "name": "python",
   "nbconvert_exporter": "python",
   "pygments_lexer": "ipython2",
   "version": "2.7.12"
  }
 },
 "nbformat": 4,
 "nbformat_minor": 1
}
