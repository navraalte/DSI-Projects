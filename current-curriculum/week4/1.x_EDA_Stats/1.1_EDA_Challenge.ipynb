{
 "cells": [
  {
   "cell_type": "markdown",
   "metadata": {},
   "source": [
    "## add review \n",
    "\n",
    "-- add bayes rules stuff, conditional, joint distribution\n",
    "\n",
    "-- simpson's paradox\n",
    "\n",
    "\n",
    "-- review of hypothesis testing \n",
    "\n",
    "-- error rates, p-values, alpha, power\n",
    "\n",
    "-- false discovery rate \n",
    "\n",
    "-- bootstrapping \n"
   ]
  },
  {
   "cell_type": "markdown",
   "metadata": {},
   "source": [
    "### Review: Statistics \n",
    "\n",
    "#### Bayes Theorem\n",
    "\n",
    "<img src=http://www.psychologyinaction.org/wp-content/uploads/2012/10/bayes-rule-e1350930203949.png>\n",
    "\n",
    "\n",
    "> **Check for Understanding:** You have a 0.1% chance of picking up a coin with both heads, and a 99.9% chance that you pick up a fair coin. You flip your coin and it comes up heads 10 times. What’s the chance that you picked up the fair coin, given the information that you observed?\n",
    "\n",
    "\n",
    "> **Check for Understanding:** You have two coins, one of which is fair and comes up heads with a probability 1/2, and the other which is biased and comes up heads with probability 3/4. You randomly pick coin and flip it twice, and get heads both times. What is the probability that you picked the fair coin?"
   ]
  },
  {
   "cell_type": "code",
   "execution_count": null,
   "metadata": {
    "collapsed": true
   },
   "outputs": [],
   "source": [
    "2 flips \n",
    "fair coin 2 heads = .25 / 3/4 coin  = .5625\n",
    ".25 /.5 + .5625 /5 * .5\n",
    "2*\n",
    "\n",
    "p()"
   ]
  },
  {
   "cell_type": "markdown",
   "metadata": {},
   "source": [
    "#### Expected Value, Variances\n",
    "\n",
    "<img src=http://iimk.ac.in/gsdl/collect/statis/index/assoc/HASH01ac.dir/3_7_13.gif>\n",
    "\n",
    "> **Check for Understanding**: What’s the expected number of coin flips until you get two heads in a row? What’s the expected number of coin flips until you get two tails in a row?"
   ]
  },
  {
   "cell_type": "markdown",
   "metadata": {},
   "source": [
    "<img src=https://classconnection.s3.amazonaws.com/684/flashcards/598684/png/covariance_equation1310527772947.png>\n",
    "\n",
    "<img src=http://www.thinkcalculator.com/statistics/correlation-coefficient.jpg>"
   ]
  },
  {
   "cell_type": "markdown",
   "metadata": {},
   "source": [
    "> **Check for Understanding:** What is: \n",
    "        - p-value\n",
    "        - Type I, Type II Error \n",
    "        - FPR, FNR, Power\n",
    "        - Hypothesis Testing\n",
    "        \n",
    "> **Check for Understanding: ** What do the following functions do: \n",
    "  - `scipy.stats.ttest_ind`\n",
    "  - `scipy.stats.ttest_1samp`"
   ]
  },
  {
   "cell_type": "markdown",
   "metadata": {},
   "source": [
    "#### Bootstrapping \n",
    "<img src=http://www.statisticshowto.com/wp-content/uploads/2016/10/bootstrap-sample.png>"
   ]
  },
  {
   "cell_type": "markdown",
   "metadata": {},
   "source": [
    "### Aside: Simpson's Paradox \n",
    "\n",
    "If you are a job seeker, is it better to send cold emails or call people up? \n",
    "\n",
    "|        | Cold Emails         | Phone Call  |\n",
    "| ------------- |:-------------:| -----:|\n",
    "| Week 1     | 12/25 | 0/5 |\n",
    "| Week 2      | 9/10      |   40/50|\n",
    "\n",
    "\n",
    "> **Check for Understanding:** Can you think of another scenario where this would be true? \n",
    "\n",
    "\n",
    "\"**Simpson's paradox, or the Yule–Simpson effect,** is a phenomenon in probability and statistics, in which a trend appears in different groups of data but disappears or reverses when these groups are combined.\" -- WikiPedia\n",
    "\n",
    "<a href=http://vudlab.com/simpsons/> Simpson's Par"
   ]
  },
  {
   "cell_type": "markdown",
   "metadata": {},
   "source": [
    "\n",
    "# A/B Testing Challenge\n",
    "---\n",
    "\n",
    "## Goal\n",
    "\n",
    "A/B tests play a huge role in website optimization. Analyzing A/B tests data is a very important data scientist responsibility. Especially, data scientists have to make sure that results are reliable, trustworthy, and conclusions can be drawn.\n",
    "\n",
    "\n",
    "Furthermore, companies often run tens, if not hundreds, of A/B tests at the same time. Manually analyzing all of them would require lot of time and people. Therefore, it is common practice to look at the typical A/B test analysis steps and try to automate as much as possible. This frees up time for the data scientists to work on more high level topics.\n",
    "In this challenge, you will have to analyze results from an A/B test. Also, you will be asked to design an algorithm to automate some steps.\n",
    "\n",
    "## Challenge Description\n",
    "Company XYZ is a worldwide e-commerce site with localized versions of the site.\n",
    "A data scientist at XYZ noticed that Spain-based users have a much higher conversion rate than any other Spanish-speaking country. She therefore went and talked to the international team in charge of Spain And LatAm to see if they had any ideas about why that was happening.\n",
    "\n",
    "Spain and LatAm country manager suggested that one reason could be translation. All Spanish- speaking countries had the same translation of the site which was written by a Spaniard. They agreed to try a test where each country would have its one translation written by a local. That is, Argentinian users would see a translation written by an Argentinian, Mexican users by a Mexican and so on. Obviously, nothing would change for users from Spain.\n",
    "After they run the test however, they are really surprised cause the test is negative. I.e., it appears that the non-localized translation was doing better!\n",
    "\n",
    "### You are asked to:\n",
    "Confirm that the test is actually negative. That is, it appears that the old version of the site with just one translation across Spain and LatAm performs better\n",
    "Explain why that might be happening. Are the localized translations really worse?\n",
    "\n",
    "\n",
    "If you identified what was wrong, design an algorithm that would return FALSE if the same problem is happening in the future and TRUE if everything is good and the results can be trusted.\n",
    "\n",
    "\n",
    "## Data\n",
    "We have 2 tables in the Translation_test folder. The Translation_test folder can be found in the folder : <br> interview_challenges/data_challenges/Translation_test\n",
    "\n",
    "There are two tables in the folder.\n",
    "\n",
    "#### Table 1 - test_table\n",
    "\n",
    "Columns:\n",
    "\n",
    "user_id : the id of the user. Unique by user. Can be joined to user id in the other table. For each user, we just check whether conversion happens the first time they land on the site since the test started. <br>\n",
    "\n",
    "date : when they came to the site for the first time since the test started <br>\n",
    "\n",
    "source : marketing channel: Ads, SEO, Direct . Direct means everything except for ads and SEO. Such as directly typing site URL on the browser, downloading the app w/o coming from SEO or Ads, referral friend, etc. <br>\n",
    "\n",
    "device : device used by the user. It can be mobile or web<br>\n",
    "\n",
    "browser_language : in browser or app settings, the language chosen by the user. It can be EN, ES, Other (Other means any language except for English and Spanish) <br>\n",
    "\n",
    "ads_channel : if marketing channel is ads, this is the site where the ad was displayed. It can be: Google, Facebook, Bing, Yahoo ,Other. If the user didn't come via an ad, this field is NA <br>\n",
    "\n",
    "browser : user browser. It can be: IE, Chrome, Android_App, FireFox, Iphone_App, Safari, Opera <br>\n",
    "\n",
    "conversion : whether the user converted (1) or not (0). This is our label. A test is considered successful if it increases the proportion of users who convert. <br>\n",
    "\n",
    "test : users are randomly split into test (1) and control (0). Test users see the new translation and control the old one. For Spain-based users, this is obviously always 0 since there is no change there.\n",
    "      \"test_table\" - general information about the test results\n",
    "              \"user_table\" - some information about the user\n",
    "\n",
    "\n",
    "___ \n",
    "\n",
    "#### Table 2 - user_table\n",
    "\n",
    "Columns:\n",
    "user_id : the id of the user. It can be joined to user id in the other table \n",
    "\n",
    "sex : user sex: Male or Female <br>\n",
    "\n",
    "age : user age (self-reported) <br>\n",
    "\n",
    "country : user country based on ip address <br>\n",
    "\n",
    "\n",
    "\n"
   ]
  },
  {
   "cell_type": "code",
   "execution_count": null,
   "metadata": {
    "collapsed": true
   },
   "outputs": [],
   "source": []
  }
 ],
 "metadata": {
  "anaconda-cloud": {},
  "kernelspec": {
   "display_name": "Python 2",
   "language": "python",
   "name": "python2"
  },
  "language_info": {
   "codemirror_mode": {
    "name": "ipython",
    "version": 2
   },
   "file_extension": ".py",
   "mimetype": "text/x-python",
   "name": "python",
   "nbconvert_exporter": "python",
   "pygments_lexer": "ipython2",
   "version": "2.7.12"
  }
 },
 "nbformat": 4,
 "nbformat_minor": 1
}
