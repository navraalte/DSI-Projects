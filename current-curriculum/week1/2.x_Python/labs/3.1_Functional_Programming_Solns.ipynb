{
 "cells": [
  {
   "cell_type": "markdown",
   "metadata": {},
   "source": [
    "### Functional Programming in Python\n",
    "In class, we briefly explored the Functional Programming in Python through lambda functions, map, filter, iterators, generators, and deocrators. This note will review those ideas. "
   ]
  },
  {
   "cell_type": "markdown",
   "metadata": {},
   "source": [
    "#### Lambda Functions \n",
    "The `lambda` keyword creates anonymous functions within Python. Programmers usually use `lambda` out of convenience because they don't require explicitly defining a new function. This is especially useful when the function you are writing won't be used again outside a particular context. `lambda`s usually serve as an input function to higher order functions (that require functional input), i.e. `map`, `filter`, `pandas.apply`, and others alike."
   ]
  },
  {
   "cell_type": "code",
   "execution_count": null,
   "metadata": {
    "collapsed": false
   },
   "outputs": [],
   "source": [
    "# Before compiling the following code snippets, write down what\n",
    "# each individual lambda function will return in an inline comment. \n",
    "# If you think it returns an error, why would it be the case. \n",
    " \n",
    "    \n",
    "(lambda val: val** 2) (2) \n",
    "## Answer: Output should be 4 \n",
    "\n",
    "(lambda x, y: x + y)(2, 3)\n",
    "# Answer: 5\n",
    "\n",
    "(lambda x, y: x + y)((2, 3))\n",
    "# Answer: This returns an error because the input is a tuple which is only one argument\n",
    "\n",
    "ga = (lambda s: s if 'General' in s else 'Specific ' + s)\n",
    "ga('General Assembly')\n",
    "# Answer: General Assembly\n",
    "ga('Assembly')\n",
    "# Answer: Specific Assembly"
   ]
  },
  {
   "cell_type": "markdown",
   "metadata": {},
   "source": [
    "### Comprehensions \n",
    "\n",
    "In Python, you can build sequences using list comprehensions or generator expressions. Such expressions make your code more readable and often faster to execute. \n",
    "\n",
    "Exercise: Transform the following piece of code into a list comprehension.\n",
    "\n",
    "    letters = string.ascii_uppercase\n",
    "    letters_idx = []\n",
    "    for letter in letters:\n",
    "        letters_idx.append(letters.index(letter))\n",
    "    print letters_idx\n",
    "    \n",
    "\n",
    "Exercise: Create a Cartesian product of t-shirt colors/sizes using a list comprehension. \n",
    "    \n",
    "    Inputs: \n",
    "    colors = ['black', 'white']\n",
    "    sizes = ['S', 'M', 'L']\n",
    "    \n",
    "    Output: \n",
    "    [('black', 'S'), ('black', 'M'), ('black', 'L'), \n",
    "     ('white', 'S'), ('white', 'M'), ('white', 'L')]\n",
    "     \n",
    "     \n",
    "Exercise: In the output above, change the 'S' size to 'Small' and 'M' and 'L' to be 'Large'. "
   ]
  },
  {
   "cell_type": "code",
   "execution_count": 10,
   "metadata": {
    "collapsed": false
   },
   "outputs": [
    {
     "name": "stdout",
     "output_type": "stream",
     "text": [
      "[0, 1, 2, 3, 4, 5, 6, 7, 8, 9, 10, 11, 12, 13, 14, 15, 16, 17, 18, 19, 20, 21, 22, 23, 24, 25]\n"
     ]
    }
   ],
   "source": [
    "\"\"\"\n",
    "Exercise: Transform the following piece of code into a list comprehension.\n",
    "\n",
    "letters = string.ascii_uppercase\n",
    "letters_idx = []\n",
    "for letter in letters:\n",
    "    letters_idx.append(letters.index(letter))\n",
    "print letters_idx\n",
    "\n",
    "\"\"\"\n",
    "#solution\n",
    "import string \n",
    "letters_idx = [string.ascii_uppercase.index(letter) for letter in string.ascii_uppercase]\n",
    "print letters_idx"
   ]
  },
  {
   "cell_type": "code",
   "execution_count": 14,
   "metadata": {
    "collapsed": false
   },
   "outputs": [
    {
     "name": "stdout",
     "output_type": "stream",
     "text": [
      "[('black', 'S'), ('black', 'M'), ('black', 'L'), ('white', 'S'), ('white', 'M'), ('white', 'L')]\n",
      "[('black', 'Small'), ('black', 'Large'), ('black', 'Large'), ('white', 'Small'), ('white', 'Large'), ('white', 'Large')]\n"
     ]
    }
   ],
   "source": [
    "\"\"\"\n",
    "Exercise: Create a Cartesian product of t-shirt colors/sizes using a list comprehension. \n",
    "    \n",
    "    Inputs: \n",
    "    colors = ['black', 'white']\n",
    "    sizes = ['S', 'M', 'L']\n",
    "    \n",
    "    Output: \n",
    "    [('black', 'S'), ('black', 'M'), ('black', 'L'), \n",
    "     ('white', 'S'), ('white', 'M'), ('white', 'L')]\n",
    "     \n",
    "     \n",
    "Exercise: In the output above, change the 'S' size to 'Small' and 'M' and 'L' to be 'Large'. \n",
    "\"\"\"\n",
    "\n",
    "colors = ['black', 'white']\n",
    "sizes = ['S', 'M', 'L']\n",
    "cart_product = [(color, size) for color in colors for size in sizes]\n",
    "print cart_product\n",
    "\n",
    "modified_cart_product = [(prod[0], 'Small') if prod[1] == 'S' \n",
    "                       else (prod[0], 'Large') for prod in cart_product]\n",
    "\n",
    "print modified_cart_product"
   ]
  },
  {
   "cell_type": "markdown",
   "metadata": {},
   "source": [
    "Exercise: What are the other types of comprehensions and how are they different from list comprehensions?\n",
    "\n",
    "While `for loop` can be general and do things beyond just outputting a list, list comprehensions are designed to build a new list. Don’t use that syntax if you are not doing something with the produced list. Additionally, if the list comprehension spans more than two lines, it is probably best to break it apart or rewrite as a plain old `for loop`."
   ]
  },
  {
   "cell_type": "markdown",
   "metadata": {},
   "source": [
    "There are three other types of comprehensions: \n",
    "\n",
    "- Dictionary Comprehension: Python has dict comprehensions like the following which can be used to create key and value expressions: \n",
    "    \n",
    "    ``` \n",
    "    {x: x**2 for x in (2, 4, 6)} \n",
    "    \n",
    "    ```\n",
    "   \n",
    "- Set Comprehension:  A set is an unordered collection with no duplicate elements. Basic uses include membership testing and eliminating duplicate entries. Syntax for set comprehensions looks very similar to the syntax for dictionary comprehensions. \n",
    "       \n",
    "     ```\n",
    "        names = ['John', 'James', 'Nate', 'Stephanie', 'Sara']\n",
    "        first_letters = set()\n",
    "        for name in names:\n",
    "            first_letters.add(name[0])\n",
    "        \n",
    "        # this is a set comprehension. Note the lack of key:value for mat\n",
    "        first_letters = {name[0] for name in names}\n",
    "        \n",
    "     ```\n",
    "- Generator Comprehension: Generators act like iterables but they return items in the iterable one at a time, i.e. evaluation occurs lazily. Generators are great if you only need to iterate through your data once and it is expensive to load everything in memory at once. \n",
    "\n",
    "    ``` (i ** 2 for i in range(10)) ```\n",
    "    "
   ]
  },
  {
   "cell_type": "markdown",
   "metadata": {},
   "source": [
    "### Higher Order functions\n",
    "Higher order functions take in function as an argument OR returns a function as result is a higher order\n",
    "function. Some of the examples we have discussed so far are `map`, `sorted`, `filter`. \n",
    "\n",
    "`map(func, iterable)` applies the function over elements of an iterable. If you have multiple iterables, then `map(func, zip(iterA, iterB, iterC))` where your function takes in as many arguments \n",
    "\n",
    "From module: `functools`, recall the function `reduce`. `functools.reduce(function, iterable[, initializer])`. \n",
    "\n",
    "Exercise: Read through the Blog Post on MapReduce (http://michaelnielsen.org/blog/write-your-first-mapreduce-program-in-20-minutes/) [no need to implement] and explain how it's related to the `map` and `reduce` functions we have covered. \n",
    "\n",
    "`filter(pred, iterable)` applies a function that returns a bool value to each item in the iterable and returns only the items for which this is true. \n",
    "\n",
    "\n",
    "\n",
    "`sorted(iterable, key=func)` takes in an optional key argument that allows you to provide a function to be applied to each item for sorting. \n",
    "\n",
    "Beyond `sorted`, `max(seq)`, `min(seq)`, and `seq.sort()` also use keys to determine the values used for ordering elements in a sequence.\n",
    "\n",
    "\n",
    "Exercise: What do the following uses of `sorted` return?\n",
    "    \n",
    "    # first example \n",
    "    fruits = ['strawberry','fig','apple','cherry','raspberry','banana']\n",
    "    sorted(fruits, key=len)\n",
    "    \n",
    "    # second example\n",
    "    sorted(fruits, key=lambda word: word[::-1])\n",
    "    \n",
    "   \n",
    "    \n",
    "Exercise: Write a function to return the two words with the highest alphanumeric score of uppercase letters:\n",
    "\n",
    "    def alpha_score(upper_letters):\n",
    "         \"\"\"\n",
    "         Computes the alphanumeric sum of letters in a\n",
    "         string. Prerequisite: upper_letters is composed\n",
    "         entirely of capital letters.\n",
    "         \n",
    "         \"\"\"\n",
    "        return sum(map(lambda l: 1 + ord(l) - ord('A'), upper_letters))\n",
    "\n",
    "    \n",
    "    alpha_score('ABC')  # => 6 = 1 ('A') + 2 ('B') + 3 ('C')\n",
    "\n",
    "    \n",
    "    def two_best(words):\n",
    "        pass  # Your implementation here\n",
    "\n",
    "    two_best(['hEllO', 'wOrLD', 'i', 'aM', 'PyThOn'])\n",
    "  "
   ]
  },
  {
   "cell_type": "code",
   "execution_count": 17,
   "metadata": {
    "collapsed": false
   },
   "outputs": [
    {
     "data": {
      "text/plain": [
       "['banana', 'apple', 'fig', 'raspberry', 'strawberry', 'cherry']"
      ]
     },
     "execution_count": 17,
     "metadata": {},
     "output_type": "execute_result"
    }
   ],
   "source": [
    "# first example\n",
    "## sorts things by len \n",
    "fruits = ['strawberry','fig','apple','cherry','raspberry','banana']\n",
    "sorted(fruits, key=len)\n",
    "\n",
    "# second example\n",
    "## recall that word[::-1] reverses the list so the following sorted call sorts by the reversed\n",
    "## version of the word\n",
    "sorted(fruits, key=lambda word: word[::-1])"
   ]
  },
  {
   "cell_type": "code",
   "execution_count": 36,
   "metadata": {
    "collapsed": false
   },
   "outputs": [
    {
     "data": {
      "text/plain": [
       "['PyThOn', 'wOrLD']"
      ]
     },
     "execution_count": 36,
     "metadata": {},
     "output_type": "execute_result"
    }
   ],
   "source": [
    "#Exercise: Write a function to return the two words with the highest alphanumeric score of uppercase letters:\n",
    "\n",
    "\n",
    "def alpha_score(upper_letters):\n",
    "    return sum(map(lambda l: 1 + ord(l) - ord('A'), upper_letters))\n",
    "\n",
    "\n",
    "alpha_score('ABC')  # => 6 = 1 ('A') + 2 ('B') + 3 ('C')\n",
    "\n",
    "\n",
    "def two_best(words):\n",
    "    alpha_sort_fn = lambda word: alpha_score(filter(lambda y: y.isupper(), word))\n",
    "    alpha_sort = sorted(words, key=alpha_sort_fn, reverse=True)\n",
    "    return alpha_sort[:2]\n",
    "\n",
    "\n",
    "two_best(['hEllO', 'wOrLD', 'i', 'aM', 'PyThOn'])"
   ]
  },
  {
   "cell_type": "markdown",
   "metadata": {},
   "source": [
    "### Generators \n",
    "\n",
    "Generators are examples of iterators. Generators lazily compute the values on the fly without holding the contents of the list in place in memory. \n",
    "\n",
    "\n",
    "[Expert] Exercise: For each of the following scenarios, discuss whether it would be more appropriate to use a generator expression or a list comprehension:\n",
    "- Searching for a given entity in the entries of a 1TB database.\n",
    "\n",
    "** Answer: You would need to use *a generator* for this problem. You wouldn't be able to read a 1TB databse in memory. **\n",
    "\n",
    "- Calculate cheap airfare using journey-to-destination flight information.\n",
    "\n",
    "** Answer: For a given date and destination, there are only so many flights. This doesn't sound too memory intensive so it doesn't matter if you use *list comprehensions* for intermediate calculations of the cheapest fair. **\n",
    "\n",
    "- Finding the first palindromic Fibonacci number greater than 1,000,000.\n",
    "\n",
    "** Answer: The following is an elegant implemenation for generating Fibonacci Sequences using *generators*. There is no need to maintain a list in memory for the numbers in a Fibonacci sequence. One can iterate through the fib function one at a time until a palindromic number greater than 1,000,000 is found without keeping anything memory.**\n",
    "\n",
    "    def fib():\n",
    "        a, b = 0, 1\n",
    "        while True:            # First iteration:\n",
    "            yield a            # yield 0 to start with and then\n",
    "            a, b = b, a + b    # a will now be 1, and b will also be 1, (0 + 1)\n",
    "            \n",
    "            \n",
    "- Determine all multi-word anagrams of user-supplied 1000-character-or-more strings (very expensive to do).\n",
    "\n",
    "** Answer: Since there can be a huge number of multi-word anagrams that can be formed from a 1000 character string, it is sensible to generate the anagrams at a time since the combination may not be easily stored in memory.** \n",
    "\n",
    "- Return a list of all startups within 50 miles of San Francisco. \n",
    "\n",
    "** Answer: This requires returning a *list comprehension* because the number of startups in the Bay Area is around 15-30K. Hence there would only be 30k strings in your list which doesn't seem to memory intensive.**\n",
    "\n",
    "[Challenge] Exercise: In class, we dicussed how to generate primes using the following function. \n",
    "\n",
    "       def primes_under(n):\n",
    "        tests = []\n",
    "        for i in range(2, n):\n",
    "            if not any(map(lambda test: test(i), tests)):\n",
    "                tests.append(make_divisibility_test(i))\n",
    "                yield i\n",
    "\n",
    "Change this function to generate composites. What is the 1000th composite number?"
   ]
  },
  {
   "cell_type": "code",
   "execution_count": 71,
   "metadata": {
    "collapsed": false
   },
   "outputs": [
    {
     "name": "stdout",
     "output_type": "stream",
     "text": [
      "1197\n"
     ]
    }
   ],
   "source": [
    "def make_divisibility_test(m):\n",
    "    return lambda n: n % m == 0\n",
    "\n",
    "def composites_under(n):\n",
    "    tests = []\n",
    "    for i in range(2, n):\n",
    "        if not any(map(lambda test: test(i), tests)):\n",
    "            tests.append(make_divisibility_test(i))\n",
    "        else:\n",
    "            yield i\n",
    "\n",
    "## generate the 1000th composite number\n",
    "comps = composites_under(10**6)\n",
    "number = 1\n",
    "while number <= 1000:\n",
    "    tmp_comp = comps.next()\n",
    "    if number == 1000:\n",
    "        print tmp_comp\n",
    "    number += 1"
   ]
  },
  {
   "cell_type": "markdown",
   "metadata": {},
   "source": [
    "### Decorators \n",
    "\n",
    "Functional decorators are essentially syntactic sugar that help you anotate and simplify your code. While decorators may seem abstract right now, they pop up all over the place when reading large codebases. Thus, it's important to have an understanding of what they do and why they could be useful. \n",
    "\n",
    "As mentioned in class, decorators take another function as an argument. They may perform some processing with the decorated function and return it or replace it with another function. More concretely, the following two snippets of code return the same output: \n",
    "\n",
    "    @decorate\n",
    "    def target():\n",
    "        print 'running target()'\n",
    "     \n",
    "    def target():\n",
    "        print running target()\n",
    "    \n",
    "    target = decorate(target)\n",
    "\n",
    "\n",
    "Deocrators help reduce the repetition in your code. While repetition may seem harmless, it can introduce subtle bugs into your system. Take the use case of an e-commerce app that keeps track of the promos/coupons being offered on the site. As the company introduces new types of promotional deals, it will probably write new functions to calculate the discount % for that customer associated with the promo. However, we also want to maintain a master list of all of the promos to keep track of the `best_promo`."
   ]
  },
  {
   "cell_type": "code",
   "execution_count": 34,
   "metadata": {
    "collapsed": false
   },
   "outputs": [],
   "source": [
    "# in the snippet below \n",
    "promos = []\n",
    "def promotion(promo_func):\n",
    "    promos.append(promo_func)\n",
    "    return promo_func\n",
    "\n",
    "@promotion\n",
    "def fidelity(order):\n",
    "    \"\"\"5% discount for customers with 1000 or more fidelity points\"\"\"\n",
    "    return order.total() * .05 if order.customer.fidelity >= 1000 else 0\n",
    "\n",
    "@promotion\n",
    "def bulk_item(order):\n",
    "    \"\"\"10% discount for each LineItem with 20 or more units\"\"\"\n",
    "    discount = 0\n",
    "    for item in order.cart:\n",
    "        if item.quantity >= 20:\n",
    "            discount += item.total() * .1\n",
    "    return discount\n",
    "\n",
    "\n",
    "@promotion\n",
    "def large_order(order):\n",
    "    \"\"\" 7% discount for orders with 10 or more distinct items\"\"\"\n",
    "    distinct_items = {item.product for item in order.cart}\n",
    "    if len(distinct_items) >= 10:\n",
    "        return order.total() * .07\n",
    "    return 0\n",
    "\n",
    "def best_promo(order):\n",
    "    \"\"\"\n",
    "    Select best discount available\n",
    "\n",
    "    \"\"\"\n",
    "    return max(promo(order) for promo in promos)"
   ]
  },
  {
   "cell_type": "markdown",
   "metadata": {},
   "source": [
    "In the code above, `promos` list starts out empty. `promotion` decorator returns `promo_func` unchanged but appends it to the `promos` list. Any function decorated by @promotion will be added to promos. This thus becomes an easy way to add items to the master promos list as new promotions are going live. "
   ]
  },
  {
   "cell_type": "markdown",
   "metadata": {},
   "source": [
    "Exercise: Familiarize yourself with the ipyparallel (http://people.duke.edu/~ccc14/sta-663-2016/19C_IPyParallel.html). Elaborate on why @remote and @parallel are useful decorators and specifically why could they come in handy when you are implementing ML algorithms that are easily parallelizable. \n",
    "\n",
    "** Answer: @remote allows the function to run on all engines in view. Meanwhile, @parallel breaks up elementwise operations in parallel. Both of these decorators can be applied to ML algorithms that are easily parallelizable, e.g. K-means or require running multiple runs at the same time, e.g. ensemble methods. This is important because you don't have to separately write a parallel implementation of those algorithms. The syntactic sugar can be extended across different implementations. **  "
   ]
  },
  {
   "cell_type": "markdown",
   "metadata": {},
   "source": [
    "[Expert] Exercise: Describe how @property and @lazy property are being used to build a pipeline for Tensorflow Models in this blog post: https://danijar.com/structuring-your-tensorflow-models/\n",
    "\n",
    "** Answer: @property, @lazy_property is a decorator designed for methods of class objects. @property allows the user to access to methods of the class as if they are attributes. @property protects users of the class if the designer of the class changes the attribute to a method. Specifically, in the blog post, you can access `prediction`, `optimize`, and `error` as attributes even though they are methods. This is important because Tensorflow expresses computation as a computational graph. The first version of the model definition loads everything up at the same time in the `__init__` method. This is often unncessary. You don't need to add specific functions or operations to the computational graph until you need them. Hence, having methods for `prediction`, `optimize`, and `error` is useful but at the same time you want the ability to access these methods as attributes. @lazy_property is a slightly customized deocrator which allows for similar functionality as @property but the methods are mostly Tensorflow code instead of containing other housekeeping code which makes the code much easier to read. **"
   ]
  },
  {
   "cell_type": "markdown",
   "metadata": {},
   "source": [
    "[Expert] Exercise: Explore how decorators are used in Flask through these blog posts (http://flask.pocoo.org/docs/0.11/quickstart/; http://flask.pocoo.org/docs/0.11/patterns/viewdecorators/). Describe your findings.\n",
    "\n",
    "**Answer: Flask is using `@app.route('/')` to bind functions to specific urls. ** "
   ]
  },
  {
   "cell_type": "markdown",
   "metadata": {},
   "source": [
    "[Challenge] Exercise: Automatic Caching\n",
    "\n",
    "Write the `cache`  decorator that automatically caches any calls to the decorated function. You can assume that all arguments passed to the decorated function will always be hashable types. Can you think of reasons why such a decorator would be useful?\n",
    "\n",
    "Note: This is functionality is implemented as a decorator with functools.lru_cache"
   ]
  },
  {
   "cell_type": "code",
   "execution_count": 5,
   "metadata": {
    "collapsed": false
   },
   "outputs": [
    {
     "name": "stdout",
     "output_type": "stream",
     "text": [
      "55\n",
      "0.000132083892822\n",
      "354224848179261915075\n",
      "176023680645013966468226945392411250770384383304492191886725992896575345044216019675\n"
     ]
    }
   ],
   "source": [
    "## solution\n",
    "def cache(function):\n",
    "    cache_vars = {}\n",
    "    def cache_wrapper(n):\n",
    "        if n not in cache_vars:\n",
    "            cache_vars[n] = function(n)\n",
    "        return cache_vars[n]\n",
    "    return cache_wrapper\n",
    "\n",
    "    \n",
    "@cache\n",
    "def fib(n):\n",
    "    return fib(n-1) + fib(n-2) if n > 2 else 1\n",
    "\n",
    "import time\n",
    "begin = time.time()\n",
    "print fib(10)  # 55 (takes a moment to execute)\n",
    "print time.time() - begin\n",
    "\n",
    "print fib(100) # 100 doesn't take forever\n",
    "print fib(400) # 400 doesn't take forever"
   ]
  }
 ],
 "metadata": {
  "kernelspec": {
   "display_name": "Python 2",
   "language": "python",
   "name": "python2"
  },
  "language_info": {
   "codemirror_mode": {
    "name": "ipython",
    "version": 2
   },
   "file_extension": ".py",
   "mimetype": "text/x-python",
   "name": "python",
   "nbconvert_exporter": "python",
   "pygments_lexer": "ipython2",
   "version": "2.7.11"
  }
 },
 "nbformat": 4,
 "nbformat_minor": 1
}
