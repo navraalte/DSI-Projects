{
 "cells": [
  {
   "cell_type": "markdown",
   "metadata": {},
   "source": [
    "<img src=\"https://camo.githubusercontent.com/6ce15b81c1f06d716d753a61f5db22375fa684da/68747470733a2f2f67612d646173682e73332e616d617a6f6e6177732e636f6d2f70726f64756374696f6e2f6173736574732f6c6f676f2d39663838616536633963333837313639306533333238306663663535376633332e706e67\"; align=\"left\"; height=\"40\"; width=\"30\"> \n",
    "### Functional Programming\n"
   ]
  },
  {
   "cell_type": "markdown",
   "metadata": {},
   "source": [
    "### SESSION OBJECTIVES\n",
    "*After this session, you will be able to:*\n",
    "\n",
    "- Use higher order functions like `map`, `filter`\n",
    "- Apply `lambda` functions in your code\n",
    "- Identify use cases for generator objects  \n",
    "- Explain what decorators are"
   ]
  },
  {
   "cell_type": "raw",
   "metadata": {
    "scrolled": true
   },
   "source": [
    "\n",
    "import sys\n",
    "sys.path.insert(0, '../../../utils/')\n",
    "from random_calling import caller\n",
    "\n",
    "from IPython.display import HTML\n",
    "HTML('''<script>\n",
    "code_show=true; \n",
    "function code_toggle() {\n",
    " if (code_show){\n",
    " $('div.input').hide();\n",
    " } else {\n",
    " $('div.input').show();\n",
    " }\n",
    " code_show = !code_show\n",
    "} \n",
    "$( document ).ready(code_toggle);\n",
    "</script>\n",
    "<a href=\"javascript:code_toggle()\"></a>''')\n"
   ]
  },
  {
   "cell_type": "markdown",
   "metadata": {},
   "source": [
    "Python is a multi-paradigm language:\n",
    "\n",
    "- **Procedural Languages:** Sequence of instructions that inform the computer what to do with the program's input. Examples: C, Pascal, Unix\n",
    "\n",
    "<img src=http://cnfolio.com/media/B142L_notes_02stdio.gif>\n",
    "\n",
    "- **Declarative:** Specification describes the problem. Examples: SQL\n",
    "\n",
    "<img src= http://www.w3resource.com/w3r_images/select-syntax.gif>\n",
    "\n",
    "- ** Object Oriented:** Deal with collections of objects which maintain internal state and support methods that query or modify this internal state in some. Examples: Java\n",
    "\n",
    "<img src=https://upload.wikimedia.org/wikipedia/commons/thumb/9/98/CPT-OOP-objects_and_classes_-_attmeth.svg/300px-CPT-OOP-objects_and_classes_-_attmeth.svg.png>\n",
    "\n",
    "- ** Functional Programming: ** No internal state. Everything is set of functions, each of which solely takes inputs and produces outputs. Examples: Haskell, Clojure, ML\n",
    "\n",
    "<img src=http://www.kammerath.co.uk/img/function-machine.jpeg>"
   ]
  },
  {
   "cell_type": "code",
   "execution_count": 3,
   "metadata": {
    "collapsed": true
   },
   "outputs": [],
   "source": [
    "def add_val(l):\n",
    "    '''appends a constant value to a list'''\n",
    "    return l + [2]\n",
    "\n",
    "def add_val_two(l):\n",
    "    '''appends a constant value to a list'''\n",
    "    l.append(2)\n",
    "    return l"
   ]
  },
  {
   "cell_type": "markdown",
   "metadata": {},
   "source": [
    "### Functional Programming \n",
    "\n",
    "- \"Pure\" functions are mathematical. \n",
    "    - Output depends only on output.\n",
    "    - No side effects that modify internal state.\n",
    "    \n",
    "- Python has functional-looking interface but use variables, state internally\n",
    "\n",
    "- Modularity: Everything can be small independent functions. \n",
    "\n",
    "- Easy to compose functions \n",
    "\n",
    "- Easy to debug \n",
    "\n",
    "- Line-by-line invariants "
   ]
  },
  {
   "cell_type": "markdown",
   "metadata": {},
   "source": [
    "### Independent Practice: Why Do we care (15 mins)\n",
    "\n",
    "<a href=http://www.kdnuggets.com/2015/04/functional-programming-big-data-machine-learning.html/2> Functional Programming in Machine Learning </a>"
   ]
  },
  {
   "cell_type": "markdown",
   "metadata": {},
   "source": [
    "### Higher Order Functions\n",
    "\n",
    "- Recall syntax for `for loop` and list comprehensions in Python\n",
    "\n",
    "    ```\n",
    "    output = []\n",
    "    for element in iterable:\n",
    "        val = function(element)\n",
    "        output.append(val)\n",
    "        \n",
    "    [function(element) for element in iterable]\n",
    "        \n",
    "    ```"
   ]
  },
  {
   "cell_type": "code",
   "execution_count": 5,
   "metadata": {
    "collapsed": true
   },
   "outputs": [],
   "source": [
    "# code out Higher Order Functions example\n",
    "def add_constant(val):\n",
    "    return val + 10\n",
    "\n",
    "def add_balls(val):\n",
    "    return val + 'balls'\n",
    "\n",
    "def add_values_to_list(lst):\n",
    "    output = []\n",
    "    for element in lst:\n",
    "        val = add_constant(element)\n",
    "        output.append(val)\n",
    "        \n",
    "    return output"
   ]
  },
  {
   "cell_type": "code",
   "execution_count": 5,
   "metadata": {
    "collapsed": true
   },
   "outputs": [],
   "source": [
    "lst = ['one', 'two', \"three\"]"
   ]
  },
  {
   "cell_type": "code",
   "execution_count": 6,
   "metadata": {},
   "outputs": [
    {
     "data": {
      "text/plain": [
       "['oneballs', 'twoballs', 'threeballs']"
      ]
     },
     "execution_count": 6,
     "metadata": {},
     "output_type": "execute_result"
    }
   ],
   "source": [
    "# code out the equivalent using map\n",
    "\n",
    "\n",
    "\n",
    "def add_balls(val):\n",
    "    return val + 'balls'\n",
    "map(add_balls, lst)"
   ]
  },
  {
   "cell_type": "code",
   "execution_count": 17,
   "metadata": {},
   "outputs": [
    {
     "data": {
      "text/plain": [
       "[3, 3, 5]"
      ]
     },
     "execution_count": 17,
     "metadata": {},
     "output_type": "execute_result"
    }
   ],
   "source": [
    "\n",
    "\n",
    "\n",
    "lst = ['one', 'two', \"three\"]\n",
    "\n",
    "map( len,lst)"
   ]
  },
  {
   "cell_type": "markdown",
   "metadata": {},
   "source": [
    "<details><summary> **Check for Understanding:** Given a list of strings, return a list of lengths.\n",
    "</summary>\n",
    "```\n",
    "[len(elem) for elem in strings]\n",
    "```\n",
    "</details>\n",
    "\n",
    "`map` is a higher order function that applies a function to each elment in a sequence. \n",
    "\n",
    "    \n",
    "    map(fn, iter)\n",
    "    \n",
    "<img src=http://reactivex.io/documentation/operators/images/map.png>\n",
    "\n",
    "<details><summary> **Check for Understanding:** Given a list of strings, return a list of lengths (using map).\n",
    "</summary>\n",
    "```\n",
    "map(len, strings)\n",
    "```\n",
    "</details>\n"
   ]
  },
  {
   "cell_type": "markdown",
   "metadata": {},
   "source": [
    "Another common pattern may involve a predicate: \n",
    "    \n",
    "    # using for loops\n",
    "    output = []\n",
    "    for element in iterable:\n",
    "        if predicate(element):\n",
    "            output.append(val)\n",
    "            \n",
    "            "
   ]
  },
  {
   "cell_type": "code",
   "execution_count": null,
   "metadata": {
    "collapsed": true
   },
   "outputs": [],
   "source": [
    "# code the predicate example using the predicate \"is_even\""
   ]
  },
  {
   "cell_type": "markdown",
   "metadata": {},
   "source": [
    "    \n",
    "<details><summary> **Check for Understanding:** How do you do this using list comprehensions?\n",
    "</summary>\n",
    "```\n",
    "[element for element in iterable if predicate(element)]\n",
    "\n",
    "```\n",
    "</details>\n",
    "    \n",
    "    \n",
    "<img src=http://i.imgur.com/JWlUBLr.png>\n",
    "\n",
    "\n",
    "Instead of writing a list comprehension, we can use the `filter` function in Python. \n",
    "\n",
    "\n",
    "`filter(pred, iter)`\n",
    "\n",
    "<img src=http://i.imgur.com/Vn6qLyO.png>"
   ]
  },
  {
   "cell_type": "code",
   "execution_count": null,
   "metadata": {
    "collapsed": true
   },
   "outputs": [],
   "source": [
    "# code the predicate example using the predicate \"is_even\" using filter"
   ]
  },
  {
   "cell_type": "markdown",
   "metadata": {},
   "source": [
    "**Check for Understanding:** What will the output of the following functions be?\n",
    "  \n",
    "- `map(float, ['1.0', '3.3', '-4.2'])`\n",
    "\n",
    "- `filter(is_prime, range(100))`"
   ]
  },
  {
   "cell_type": "code",
   "execution_count": 1,
   "metadata": {},
   "outputs": [
    {
     "ename": "NameError",
     "evalue": "name 'is_prime' is not defined",
     "output_type": "error",
     "traceback": [
      "\u001b[0;31m-------------------------------------\u001b[0m",
      "\u001b[0;31mNameError\u001b[0mTraceback (most recent call last)",
      "\u001b[0;32m<ipython-input-1-ddc7efef6f77>\u001b[0m in \u001b[0;36m<module>\u001b[0;34m()\u001b[0m\n\u001b[1;32m      6\u001b[0m \u001b[0;34m\u001b[0m\u001b[0m\n\u001b[1;32m      7\u001b[0m \u001b[0mmap\u001b[0m\u001b[0;34m(\u001b[0m\u001b[0mfloat\u001b[0m\u001b[0;34m,\u001b[0m \u001b[0;34m[\u001b[0m\u001b[0;34m'1.0'\u001b[0m\u001b[0;34m,\u001b[0m \u001b[0;34m'3.3'\u001b[0m\u001b[0;34m,\u001b[0m \u001b[0;34m'-4.2'\u001b[0m\u001b[0;34m]\u001b[0m\u001b[0;34m)\u001b[0m\u001b[0;34m\u001b[0m\u001b[0m\n\u001b[0;32m----> 8\u001b[0;31m \u001b[0mfilter\u001b[0m\u001b[0;34m(\u001b[0m\u001b[0mis_prime\u001b[0m\u001b[0;34m,\u001b[0m \u001b[0mrange\u001b[0m\u001b[0;34m(\u001b[0m\u001b[0;36m100\u001b[0m\u001b[0;34m)\u001b[0m\u001b[0;34m)\u001b[0m\u001b[0;34m\u001b[0m\u001b[0m\n\u001b[0m",
      "\u001b[0;31mNameError\u001b[0m: name 'is_prime' is not defined"
     ]
    }
   ],
   "source": [
    "# Pick One: write the output on the white desks -- do not run code \n",
    "\n",
    "\n"
   ]
  },
  {
   "cell_type": "markdown",
   "metadata": {},
   "source": [
    "**Check for Understanding:** How do you go from LHS to RHS?\n",
    "\n",
    "- `[[1, 3], [4, 2, -5]] => [1, 4]`\n",
    "- `[1, True, [2, 3]] => \"1 : True : [2, 3]\" `\n",
    "- `[0, 1, 0, 6, 'A', 1, 0, 7]  => [1, 6, 1, 7] `"
   ]
  },
  {
   "cell_type": "code",
   "execution_count": 5,
   "metadata": {},
   "outputs": [
    {
     "name": "stdout",
     "output_type": "stream",
     "text": [
      "<type 'str'>\n"
     ]
    }
   ],
   "source": [
    "\n",
    "print(type(strthing)"
   ]
  },
  {
   "cell_type": "markdown",
   "metadata": {},
   "source": [
    "#### List Comprehensions vs.  `map` + `filter`\n",
    "\n",
    "- Marginal difference in performance\n",
    "\n",
    "- Easier to think about syntactically "
   ]
  },
  {
   "cell_type": "markdown",
   "metadata": {},
   "source": [
    "### Lambda Functions: Autonomous, on the fly, unnamed functions \n",
    "\n",
    "<img src=http://i.imgur.com/r0vuC4f.png>\n",
    "\n",
    "<img src=http://i.imgur.com/U3LuFuI.png>"
   ]
  },
  {
   "cell_type": "code",
   "execution_count": null,
   "metadata": {
    "collapsed": true
   },
   "outputs": [],
   "source": [
    "# code an example\n",
    "lst = [1,2,3]\n",
    "val_1 = 10\n",
    "val_2 = -2"
   ]
  },
  {
   "cell_type": "code",
   "execution_count": null,
   "metadata": {
    "collapsed": true
   },
   "outputs": [],
   "source": [
    "print lambda x, y : x - y"
   ]
  },
  {
   "cell_type": "code",
   "execution_count": null,
   "metadata": {
    "collapsed": true
   },
   "outputs": [],
   "source": [
    "print f(val_1, val_2)"
   ]
  },
  {
   "cell_type": "code",
   "execution_count": null,
   "metadata": {
    "collapsed": true
   },
   "outputs": [],
   "source": [
    "print f(val_2, val_1)"
   ]
  },
  {
   "cell_type": "code",
   "execution_count": null,
   "metadata": {
    "collapsed": true
   },
   "outputs": [],
   "source": [
    "# combine map and a lambda function into a one line composite function \n",
    "# h (f ( x ) ), where x is an iterable, ie. list, tuple,..."
   ]
  },
  {
   "cell_type": "markdown",
   "metadata": {},
   "source": [
    "**Check for Understanding:** What is the output of the following?\n",
    "\n",
    "```\n",
    "    triple = lambda x: x *3\n",
    "    triple(2)\n",
    "    \n",
    "    map(lambda val: val ** 2, range(5))\n",
    "    \n",
    "    filter(lambda pair: pair[1] > 0, [(4,1), (3, -2), (8,0)])\n",
    " ```\n"
   ]
  },
  {
   "cell_type": "code",
   "execution_count": null,
   "metadata": {
    "collapsed": true
   },
   "outputs": [],
   "source": [
    "# write answers on white desks -- do not run code"
   ]
  },
  {
   "cell_type": "markdown",
   "metadata": {},
   "source": [
    "### Independent Practice (5 minutes)"
   ]
  },
  {
   "cell_type": "code",
   "execution_count": null,
   "metadata": {
    "collapsed": true
   },
   "outputs": [],
   "source": [
    "## Create a simple encryption\n",
    "## given a string, move up letters by 3 \n",
    "\n",
    "def encrypt_caesar(plaintext):\n",
    "    s = \"ABCDEFGHIJKLMNOPQRSTUVWXYZ\"\n",
    "    pass"
   ]
  },
  {
   "cell_type": "markdown",
   "metadata": {},
   "source": [
    "### Iterators and Generators \n",
    "\n",
    "<img src=http://nvie.com/img/relationships.png>\n",
    "\n",
    "- **Iterators:** Represent data stream, returned one element at a time. Represent finite or infinite data streams\n",
    "    - Use `next(iterator)` to yield successive values\n",
    "    - Use iter(data) to build an iterator for a data structure\n",
    "    "
   ]
  },
  {
   "cell_type": "markdown",
   "metadata": {},
   "source": [
    "- **Generator Expressions:** Lazy list comprehensions. When you need to stream data, not all of it. \n",
    "\n",
    "    ```\n",
    "    (expensive_function(data) for data in iterable)\n",
    "    ```\n",
    "    \n",
    "<img src=http://i.imgur.com/qfsgBMG.png>"
   ]
  },
  {
   "cell_type": "markdown",
   "metadata": {},
   "source": [
    "The built-in function iter takes an iterable object and returns an iterator."
   ]
  },
  {
   "cell_type": "code",
   "execution_count": 2,
   "metadata": {},
   "outputs": [
    {
     "name": "stdout",
     "output_type": "stream",
     "text": [
      "<listiterator object at 0x106955910>\n"
     ]
    }
   ],
   "source": [
    "# code an iterable\n",
    "x = iter([1, 2, 3])\n"
   ]
  },
  {
   "cell_type": "code",
   "execution_count": 7,
   "metadata": {},
   "outputs": [
    {
     "ename": "StopIteration",
     "evalue": "",
     "output_type": "error",
     "traceback": [
      "\u001b[0;31m---------------------------------------------------------------------------\u001b[0m",
      "\u001b[0;31mStopIteration\u001b[0m                             Traceback (most recent call last)",
      "\u001b[0;32m<ipython-input-7-e05f366da090>\u001b[0m in \u001b[0;36m<module>\u001b[0;34m()\u001b[0m\n\u001b[0;32m----> 1\u001b[0;31m \u001b[0mx\u001b[0m\u001b[0;34m.\u001b[0m\u001b[0mnext\u001b[0m\u001b[0;34m(\u001b[0m\u001b[0;34m)\u001b[0m\u001b[0;34m\u001b[0m\u001b[0m\n\u001b[0m",
      "\u001b[0;31mStopIteration\u001b[0m: "
     ]
    }
   ],
   "source": [
    "x.next() "
   ]
  },
  {
   "cell_type": "markdown",
   "metadata": {},
   "source": [
    "Generators simplifies creation of iterators. A generator is a function that produces a sequence of results instead of a single value."
   ]
  },
  {
   "cell_type": "code",
   "execution_count": 9,
   "metadata": {
    "collapsed": true
   },
   "outputs": [],
   "source": [
    "# code a generator \n",
    "def yrange(n):\n",
    "    i = 0\n",
    "    while i < n:\n",
    "        yield i\n",
    "        i += 1"
   ]
  },
  {
   "cell_type": "code",
   "execution_count": 10,
   "metadata": {
    "collapsed": true
   },
   "outputs": [],
   "source": [
    "n = 3\n",
    "generator = yrange(n)"
   ]
  },
  {
   "cell_type": "code",
   "execution_count": 14,
   "metadata": {},
   "outputs": [
    {
     "ename": "StopIteration",
     "evalue": "",
     "output_type": "error",
     "traceback": [
      "\u001b[0;31m---------------------------------------------------------------------------\u001b[0m",
      "\u001b[0;31mStopIteration\u001b[0m                             Traceback (most recent call last)",
      "\u001b[0;32m<ipython-input-14-4d83b5efa530>\u001b[0m in \u001b[0;36m<module>\u001b[0;34m()\u001b[0m\n\u001b[0;32m----> 1\u001b[0;31m \u001b[0mgenerator\u001b[0m\u001b[0;34m.\u001b[0m\u001b[0mnext\u001b[0m\u001b[0;34m(\u001b[0m\u001b[0;34m)\u001b[0m\u001b[0;34m\u001b[0m\u001b[0m\n\u001b[0m",
      "\u001b[0;31mStopIteration\u001b[0m: "
     ]
    }
   ],
   "source": [
    "generator.next()"
   ]
  },
  {
   "cell_type": "markdown",
   "metadata": {},
   "source": [
    "- Why use Iterators and Generators?\n",
    "    - Compute data on demand. Don't load all of data into memory. \n",
    "    \n",
    "    - Can avoid expensive functions on large datasets."
   ]
  },
  {
   "cell_type": "markdown",
   "metadata": {},
   "source": [
    "### Decorators in Python\n",
    "\n",
    "In Python, functions are first-class objects, i.e. they can be passed around as arguments. Functions can be return values. "
   ]
  },
  {
   "cell_type": "markdown",
   "metadata": {},
   "source": [
    "<img src=http://i.imgur.com/yhHt40s.png>"
   ]
  },
  {
   "cell_type": "markdown",
   "metadata": {},
   "source": [
    "### Passing Functions into Functions | Example one"
   ]
  },
  {
   "cell_type": "code",
   "execution_count": 15,
   "metadata": {
    "collapsed": true
   },
   "outputs": [],
   "source": [
    "# backend\n",
    "def get_text(name):\n",
    "    return \"Hello, {0} welcome to my home.\".format(name)\n",
    "\n",
    "def p_decorate(func):\n",
    "    # Python allows read access to the outer scope \n",
    "    # func_wrapper implicitly references the passed in argument (i.e. func)\n",
    "    def func_wrapper(name):\n",
    "        return \"<p>{0}</p>\".format(func(name))\n",
    "    return func_wrapper"
   ]
  },
  {
   "cell_type": "code",
   "execution_count": 16,
   "metadata": {},
   "outputs": [
    {
     "name": "stdout",
     "output_type": "stream",
     "text": [
      "<p>Hello, John welcome to my home.</p>\n"
     ]
    }
   ],
   "source": [
    "# frontend\n",
    "my_get_text = p_decorate(get_text)\n",
    "\n",
    "print my_get_text(\"John\")"
   ]
  },
  {
   "cell_type": "markdown",
   "metadata": {},
   "source": [
    "### Passing Functions into Functions | Example Two"
   ]
  },
  {
   "cell_type": "code",
   "execution_count": null,
   "metadata": {
    "collapsed": true
   },
   "outputs": [],
   "source": [
    "# backend\n",
    "def p_decorate(func):\n",
    "    def func_wrapper(name):\n",
    "        return \"<p>{0}</p>\".format(func(name))\n",
    "    return func_wrapper\n",
    "\n",
    "@p_decorate\n",
    "def get_text(name):\n",
    "    return \"Hello, {0} welcome to my home.\".format(name)"
   ]
  },
  {
   "cell_type": "code",
   "execution_count": null,
   "metadata": {
    "collapsed": true
   },
   "outputs": [],
   "source": [
    "# frontend\n",
    "print get_text(\"John\")"
   ]
  },
  {
   "cell_type": "markdown",
   "metadata": {},
   "source": [
    "### Additional Resources \n",
    "\n",
    "[Python Decorlaters](https://www.thecodeship.com/patterns/guide-to-python-function-decorators/) This links explains what decorlators are and their applications through the use of several examples. \n",
    "\n",
    "[Python Iterators & Generators](http://anandology.com/python-practice-book/iterators.html#iterators) This link explains how iterators and generators are defined and their applications through the use of several examples. \n",
    "\n",
    "[Python Higher Order Functions](http://composingprograms.com/pages/16-higher-order-functions.html)This link explains how high order functions work through the use of several examples and visualizations. "
   ]
  }
 ],
 "metadata": {
  "kernelspec": {
   "display_name": "Python 2",
   "language": "python",
   "name": "python2"
  },
  "language_info": {
   "codemirror_mode": {
    "name": "ipython",
    "version": 2
   },
   "file_extension": ".py",
   "mimetype": "text/x-python",
   "name": "python",
   "nbconvert_exporter": "python",
   "pygments_lexer": "ipython2",
   "version": "2.7.12"
  }
 },
 "nbformat": 4,
 "nbformat_minor": 2
}
