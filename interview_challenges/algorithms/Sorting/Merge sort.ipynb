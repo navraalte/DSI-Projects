{
 "cells": [
  {
   "cell_type": "markdown",
   "metadata": {},
   "source": [
    "\n",
    "# Divide & Conquer\n",
    "---\n",
    "### Review : Recursion:\n",
    "\n",
    "#### Three Laws of Recursion\n",
    "\n",
    "All recursive algorithms must obey three important laws:\n",
    "\n",
    "- A recursive algorithm must have a base case.\n",
    "- A recursive algorithm must change its state and move toward the base case.\n",
    "- A recursive algorithm must call itself, recursively.\n",
    "\n",
    "Proper recursive definitions must have a basis — a part of the definition that does not rely on the recursive \"step.\" \n",
    "\n",
    "Without a basis, you might get into serious trouble, and may even end up with a true circular definition.\n",
    "\n",
    "### What is the Divide & Conquer paradigm?\n",
    "\n",
    "A typical Divide and Conquer algorithm solves a problem using following three steps.\n",
    "\n",
    "1. Divide: Break the given problem into subproblems of same type.\n",
    "2. Conquer: Recursively solve these subproblems\n",
    "3. Combine: Appropriately combine the answers\n",
    "\n",
    "\n",
    "\n",
    "Some examples of algorithms which use the Divide & Conquer paradigm are :\n",
    "\n",
    "1) Binary Search is a searching algorithm. In each step, the algorithm compares the input element x with the value of the middle element in array. If the values match, return the index of middle. Otherwise, if x is less than the middle element, then the algorithm recurs for left side of middle element, else recurs for right side of middle element.\n",
    "\n",
    "2) Quicksort is a sorting algorithm. The algorithm picks a pivot element, rearranges the array elements in such a way that all elements smaller than the picked pivot element move to left side of pivot, and all greater elements move to right side. Finally, the algorithm recursively sorts the subarrays on left and right of pivot element.\n",
    "\n",
    "3) Merge Sort is also a sorting algorithm. The algorithm divides the array in two halves, recursively sorts them and finally merges the two sorted halves.\n",
    "\n",
    "\n",
    "\n",
    "\n",
    "\n",
    "\n",
    "\n"
   ]
  },
  {
   "cell_type": "markdown",
   "metadata": {},
   "source": [
    "![](https://qph.ec.quoracdn.net/main-qimg-f5600977940cff1ada37130409eb5800)\n",
    "\n",
    "\n"
   ]
  },
  {
   "cell_type": "markdown",
   "metadata": {},
   "source": [
    "## Merge Sort \n",
    "\n",
    "### Merge sort is a recursive algorithm that continually splits a list in half. \n",
    "\n",
    "### Base case : \n",
    "If the list is empty or has one item, it is sorted by definition (the base case).\n",
    "\n",
    "### Recursive step - Divide & Conquer: \n",
    "If the list has more than one item, we split the list and recursively invoke a merge sort on both halves. \n",
    "\n",
    "### Combine step : \n",
    "Once the two halves are sorted, the fundamental operation, called a __merge__, is performed. \n",
    "Merging is the process of taking two smaller sorted lists and combining them together into a single, sorted, new list. "
   ]
  },
  {
   "cell_type": "markdown",
   "metadata": {},
   "source": [
    "## Merge sort in Action : \n",
    "\n",
    "### [Visual for Merge sort](https://www.youtube.com/watch?v=XaqR3G_NVoo)\n",
    "\n",
    "\n",
    "### A more concrete example : \n",
    "\n",
    "![Divide](http://interactivepython.org/courselib/static/pythonds/_images/mergesortA.png)\n",
    "![Conquer/Combine](http://interactivepython.org/courselib/static/pythonds/_images/mergesortB.png)\n",
    "\n"
   ]
  },
  {
   "cell_type": "markdown",
   "metadata": {},
   "source": [
    "### Idea: \n",
    "\n",
    "MergeSort(arr, l,  r)\n",
    "If r > l\n",
    "     1. Find the middle point to divide the array into two halves:  \n",
    "             middle m = (l+r)/2\n",
    "     2. Call mergeSort for first half:   \n",
    "             Call mergeSort(arr, l, m)\n",
    "     3. Call mergeSort for second half:\n",
    "             Call mergeSort(arr, m+1, r)\n",
    "     4. Merge the two halves sorted in step 2 and 3:\n",
    "             Call merge(arr, l, m, r)\n",
    " \n"
   ]
  },
  {
   "cell_type": "code",
   "execution_count": null,
   "metadata": {
    "collapsed": true
   },
   "outputs": [],
   "source": [
    "#Recursive function to implement merge sort\n",
    "\n",
    "def merge_sort(input_list):\n",
    "    pass\n",
    "\n",
    "def merge(left,right):\n",
    "    pass\n",
    "\n",
    "\n",
    "\n",
    "\n",
    "\n",
    "\n"
   ]
  },
  {
   "cell_type": "markdown",
   "metadata": {},
   "source": [
    "## Time Complexity of Merge sort \n",
    "\n",
    "![](https://s3.amazonaws.com/ka-cs-algorithms/merge_sort_tree_3.png)"
   ]
  },
  {
   "cell_type": "code",
   "execution_count": null,
   "metadata": {
    "collapsed": true
   },
   "outputs": [],
   "source": []
  }
 ],
 "metadata": {
  "anaconda-cloud": {},
  "kernelspec": {
   "display_name": "Python [Root]",
   "language": "python",
   "name": "Python [Root]"
  },
  "language_info": {
   "codemirror_mode": {
    "name": "ipython",
    "version": 2
   },
   "file_extension": ".py",
   "mimetype": "text/x-python",
   "name": "python",
   "nbconvert_exporter": "python",
   "pygments_lexer": "ipython2",
   "version": "2.7.12"
  }
 },
 "nbformat": 4,
 "nbformat_minor": 0
}
