{
 "cells": [
  {
   "cell_type": "markdown",
   "metadata": {},
   "source": [
    "\n",
    "# Divide & Conquer\n",
    "---\n",
    "### Review : Recursion:\n",
    "\n",
    "#### Three Laws of Recursion\n",
    "\n",
    "All recursive algorithms must obey three important laws:\n",
    "\n",
    "- A recursive algorithm must have a base case.\n",
    "- A recursive algorithm must change its state and move toward the base case.\n",
    "- A recursive algorithm must call itself, recursively.\n",
    "\n",
    "Proper recursive definitions must have a basis — a part of the definition that does not rely on the recursive \"step.\" \n",
    "\n",
    "Without a basis, you might get into serious trouble, and may even end up with a true circular definition.\n",
    "\n",
    "### What is the Divide & Conquer paradigm?\n",
    "\n",
    "A typical Divide and Conquer algorithm solves a problem using following three steps.\n",
    "\n",
    "1. Divide: Break the given problem into subproblems of same type.\n",
    "2. Conquer: Recursively solve these subproblems\n",
    "3. Combine: Appropriately combine the answers\n",
    "\n",
    "\n",
    "\n",
    "Some examples of algorithms which use the Divide & Conquer paradigm are :\n",
    "\n",
    "1) Binary Search is a searching algorithm. In each step, the algorithm compares the input element x with the value of the middle element in array. If the values match, return the index of middle. Otherwise, if x is less than the middle element, then the algorithm recurs for left side of middle element, else recurs for right side of middle element.\n",
    "\n",
    "2) Quicksort is a sorting algorithm. The algorithm picks a pivot element, rearranges the array elements in such a way that all elements smaller than the picked pivot element move to left side of pivot, and all greater elements move to right side. Finally, the algorithm recursively sorts the subarrays on left and right of pivot element.\n",
    "\n",
    "3) Merge Sort is also a sorting algorithm. The algorithm divides the array in two halves, recursively sorts them and finally merges the two sorted halves.\n",
    "\n",
    "\n",
    "\n",
    "\n",
    "\n",
    "\n",
    "\n"
   ]
  },
  {
   "cell_type": "markdown",
   "metadata": {},
   "source": [
    "![](https://qph.ec.quoracdn.net/main-qimg-f5600977940cff1ada37130409eb5800)\n",
    "\n",
    "\n"
   ]
  },
  {
   "cell_type": "markdown",
   "metadata": {},
   "source": [
    "## Quick Sort \n",
    "\n",
    "### In-place sorting algorithm\n",
    "\n",
    "#### A quick sort first selects a value, which is called the pivot value. \n",
    "\n",
    "#### The role of the pivot value is to assist with splitting the list. The actual position where the pivot value belongs in the final sorted list, commonly called the split point, will be used to divide the list for subsequent calls to the quick sort.\n",
    "\n",
    "Basic Idea of QuickSort\n",
    "\n",
    "\n",
    "1. Pick an element in the array as the pivot element.\n",
    "\n",
    "2. Make a pass to the array, called the PARTITION step, which rearranges the elements in the array:\n",
    "   a. The pivot element is in the proper place\n",
    "    b. The elements less than pivot element are on the left of it\n",
    "    c. The elements greater than pivot element are on the right of it\n",
    "3. Recursively apply the above process to the left and right part of the pivot element.\n",
    "\n",
    "\n",
    "\n",
    "Quick Sort Example\n",
    "\n",
    "Algorithm\n",
    "\n",
    "![](http://1.bp.blogspot.com/--9x3QrYCYvE/URiL6Bfds6I/AAAAAAAABEQ/_oYdmJGo5zY/s1600/Quicksort-example.gif)\n",
    "\n",
    "\n",
    "\n",
    "Step 1.  Choosing the Pivot Element\n",
    "Choosing the pivot element can determine the complexity of the algorithm i.e. whether it will be n*logn or quadratic time:\n",
    "\n",
    "a. Normally we choose the first, last or the middle element as pivot. This can harm us badly as the pivot might end up to be the smallest or the largest element, thus leaving one of the partitions empty.\n",
    "\n",
    "b. We should choose the Median of the first, last and middle elements. If there are N elements, then the ceiling of N/2 is taken as the pivot element.\n",
    "\n",
    "Example:\n",
    "\n",
    "8, 3, 25, 6, 10, 17, 1, 2, 18, 5\n",
    "\n",
    "first element: 8\n",
    "middle element: 10\n",
    "last element: 5\n",
    "\n",
    "Therefore the median on [8,10,5] is 8.\n",
    "\n",
    "Step 2.  Partitioning \n",
    "\n",
    "a. First thing is to get the pivot out of the way and swapping it with the last number. \n",
    "\n",
    "Example: (shown using the above array elements)\n",
    "\n",
    "5, 3, 25, 6, 10, 17, 1, 2, 18,  8\n",
    "\n",
    "b. Now we want the elements greater than pivot to be on the right side of it and similarly the elements less than pivot to be on the left side of it.\n",
    "\n",
    "For this we define 2 pointers, namely i and j. i being at the first index and j being and the last index of the array.\n",
    "\n",
    "   * While i is less than j  we keep in incrementing i until we find an element    greater than pivot.\n",
    "   * Similarly, while j is greater then i keep decrementing j  until we find an element less than pivot.\n",
    "   * After both i and j stop we swap the elements at the indexes of i and j respectively.\n",
    "\n",
    "\n",
    "c. Restoring the pivot\n",
    "\n",
    "When the above steps are done correctly we will get this as our output:\n",
    "\n",
    "[5, 3, 2, 6, 1] [8] [10, 25, 18, 17]\n",
    "\n",
    "Step 3. Recursively Sort the left and right part of the pivot.\n",
    "\n"
   ]
  },
  {
   "cell_type": "markdown",
   "metadata": {},
   "source": [
    "## Quick sort in Action : \n",
    "\n",
    "### [Visual for Quick sort](https://visualgo.net/sorting)\n",
    "### [Quick Sort Example](http://me.dt.in.th/page/Quicksort/)\n",
    "\n",
    "\n"
   ]
  },
  {
   "cell_type": "markdown",
   "metadata": {},
   "source": [
    "## Pseudo Code for Quick sort\n",
    "```\n",
    "Quicksort(A as array, low as int, high as int){\n",
    "    if (low < high){\n",
    "        pivot_location = Partition(A,low,high)\n",
    "        Quicksort(A,low, pivot_location)\n",
    "        Quicksort(A, pivot_location + 1, high)\n",
    "    }\n",
    "}\n",
    "Partition(A as array, low as int, high as int){\n",
    "     pivot = A[low]\n",
    "     leftwall = low\n",
    "\n",
    "     for i = low + 1 to high{\n",
    "         if (A[i] < pivot) then{\n",
    "             swap(A[i], A[leftwall])\n",
    "             leftwall = leftwall + 1\n",
    "         }\n",
    "     }\n",
    "     swap(pivot,A[leftwall])\n",
    "\n",
    "    return (leftwall)}\n",
    "```"
   ]
  },
  {
   "cell_type": "code",
   "execution_count": null,
   "metadata": {
    "collapsed": true
   },
   "outputs": [],
   "source": [
    "def QuickSort(alist):\n",
    "    return quick_sort_helper(alist,0,len(alist)-1)\n",
    "\n",
    "def quick_sort_helper(alist,first,last): #Quick sort\n",
    "    pass\n",
    "def partition(alist,first,last): #Partition function\n",
    "    pass"
   ]
  },
  {
   "cell_type": "code",
   "execution_count": null,
   "metadata": {
    "collapsed": true
   },
   "outputs": [],
   "source": []
  },
  {
   "cell_type": "code",
   "execution_count": null,
   "metadata": {
    "collapsed": true
   },
   "outputs": [],
   "source": []
  },
  {
   "cell_type": "code",
   "execution_count": null,
   "metadata": {
    "collapsed": true
   },
   "outputs": [],
   "source": []
  }
 ],
 "metadata": {
  "anaconda-cloud": {},
  "kernelspec": {
   "display_name": "Python [Root]",
   "language": "python",
   "name": "Python [Root]"
  },
  "language_info": {
   "codemirror_mode": {
    "name": "ipython",
    "version": 2
   },
   "file_extension": ".py",
   "mimetype": "text/x-python",
   "name": "python",
   "nbconvert_exporter": "python",
   "pygments_lexer": "ipython2",
   "version": "2.7.12"
  }
 },
 "nbformat": 4,
 "nbformat_minor": 0
}
