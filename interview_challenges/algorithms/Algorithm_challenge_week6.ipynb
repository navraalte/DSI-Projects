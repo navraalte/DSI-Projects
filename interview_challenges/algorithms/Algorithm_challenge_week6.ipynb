{
 "cells": [
  {
   "cell_type": "markdown",
   "metadata": {},
   "source": [
    "\n",
    "## Algorithm Challenges\n",
    "\n",
    "### Here is a list of problems to solve for this week's algorithm challenge:\n",
    "\n",
    "1. [Strings](https://www.hackerrank.com/challenges/ctci-making-anagrams)\n",
    "2. [Recursion](https://www.hackerrank.com/challenges/ctci-recursive-staircase) \n",
    "3. [Binary search](https://www.hackerrank.com/challenges/ctci-ice-cream-parlor)\n",
    "4. [Quick sort](https://www.hackerrank.com/week-6-contest)"
   ]
  },
  {
   "cell_type": "markdown",
   "metadata": {},
   "source": [
    "Resources  : \n",
    "1. Recursion : \n",
    "    - [Review of recursion](http://www.python-course.eu/recursive_functions.php)\n",
    "    - [Video on recursion](https://www.youtube.com/watch?v=Mv9NEXX1VHc&t=300s)\n",
    "    - [CS50 Video on recurison](https://www.youtube.com/watch?v=t4MSwiqfLaY&t=275s)\n",
    "    \n",
    "2. Binary search:\n",
    "    - [Binary search review](https://www.khanacademy.org/computing/computer-science/algorithms/binary-search/a/implementing-binary-search-of-an-array)\n",
    "    - [Video tutorial on Binary search](https://www.youtube.com/watch?v=P3YID7liBug)\n",
    "3. Merge sort :\n",
    "    - [Merge sort](http://www.cs.umd.edu/~meesh/351/mount/lectures/lect6-divide-conquer-mergesort.pdf)\n",
    "    - [CS50 Video tutorial](https://www.youtube.com/watch?v=EeQ8pwjQxTM&t=355s)\n",
    "4. Quick Sort \n",
    "    - [Quick sort](http://www.algorithmist.com/index.php/Quicksort)\n",
    "    - [CS50 Video tutorial](https://www.youtube.com/watch?v=aQiWF4E8flQ&t=243s)\n"
   ]
  },
  {
   "cell_type": "code",
   "execution_count": null,
   "metadata": {
    "collapsed": true
   },
   "outputs": [],
   "source": []
  }
 ],
 "metadata": {
  "anaconda-cloud": {},
  "kernelspec": {
   "display_name": "Python [Root]",
   "language": "python",
   "name": "Python [Root]"
  },
  "language_info": {
   "codemirror_mode": {
    "name": "ipython",
    "version": 2
   },
   "file_extension": ".py",
   "mimetype": "text/x-python",
   "name": "python",
   "nbconvert_exporter": "python",
   "pygments_lexer": "ipython2",
   "version": "2.7.12"
  }
 },
 "nbformat": 4,
 "nbformat_minor": 0
}
