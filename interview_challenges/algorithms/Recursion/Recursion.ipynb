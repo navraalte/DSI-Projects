{
 "cells": [
  {
   "cell_type": "markdown",
   "metadata": {},
   "source": [
    "\n",
    "# Recursion\n",
    "---\n",
    "\n",
    "### What is Recursion?\n",
    "\n",
    "Recursion is the process of solving a problem by solving a smaller instance of the same problem, unless the problem is so small that we can just solve it directly.\n",
    "\n",
    "\n",
    "Video to watch : [Recursion](https://www.youtube.com/watch?v=KEEKn7Me-ms)\n",
    "\n",
    "<br>\n",
    "\n",
    "![](http://xkcdsw.com/content/img/1105.gif)\n",
    "\n",
    "<br>\n",
    "<br>\n",
    "\n",
    "\n",
    "\n",
    "\n",
    "\n",
    "\n"
   ]
  },
  {
   "cell_type": "markdown",
   "metadata": {},
   "source": [
    "![](https://qph.ec.quoracdn.net/main-qimg-f5600977940cff1ada37130409eb5800)\n",
    "\n",
    "\n",
    "![Recursion in Nature](https://qph.ec.quoracdn.net/main-qimg-c0dc2372b299aebb16700aadc5a6c9c2-c)"
   ]
  },
  {
   "cell_type": "markdown",
   "metadata": {},
   "source": [
    "\n",
    "### Why learn recursion?\n",
    "- New mode of thinking.\n",
    "- Powerful programming tool.\n",
    "- Divide-and-conquer paradigm.\n",
    "\n",
    "---\n",
    "\n",
    "### Three Laws of Recursion\n",
    "\n",
    "All recursive algorithms must obey three important laws:\n",
    "\n",
    "- A recursive algorithm must have a base case.\n",
    "- A recursive algorithm must change its state and move toward the base case.\n",
    "- A recursive algorithm must call itself, recursively.\n",
    "\n",
    "Proper recursive definitions must have a basis — a part of the definition that does not rely on the recursive \"step.\" \n",
    "\n",
    "Without a basis, you might get into serious trouble, and may even end up with a true circular definition.\n",
    "\n",
    "---"
   ]
  },
  {
   "cell_type": "markdown",
   "metadata": {},
   "source": [
    "### Classic Example of Recursion : \n",
    "\n",
    "#### Computing the factorial of a number\n",
    " \n",
    "The factorial function is a common function that can illustrate recursion. \n",
    "The factorial function is:<br>\n",
    "\n",
    "    F(n) = n * (n – 1) * (n – 2) * … * 2 * 1 (for any integer n > 0)\n",
    "    F(1) = 1\n",
    "    \n",
    "We can write a simple (non-recursive) function to compute factorial:\n",
    "```\n",
    "// Computes the factorial of n, if n > 0. Otherwise, returns 1.\n",
    "def factorial(n) {\n",
    "     result = 1;\n",
    "     for i in range(n):\n",
    "        result = result * i;\n",
    "     return result;\n",
    "}\n",
    "```"
   ]
  },
  {
   "cell_type": "markdown",
   "metadata": {},
   "source": [
    "We can also write :__ F(n) = n * F(n-1) (for n > 1). __ <br>\n",
    "Since this defines the function in terms of a simpler version of the problem, we can use \n",
    "recursion to compute factorial:\n",
    "\n",
    "<!-- \n",
    "Let’s compare the two versions:\n",
    " The iterative version has two local variables; the recursive version has none.\n",
    " The iterative version requires more lines of code than the iterative version.\n",
    " The iterative version is more difficult to understand (arguably).\n",
    "-->"
   ]
  },
  {
   "cell_type": "code",
   "execution_count": null,
   "metadata": {
    "collapsed": true
   },
   "outputs": [],
   "source": [
    "#Recursive function to compute the factorial\n",
    "\n",
    "def factorial_recursive(n):\n",
    "    if n <=1:\n",
    "        return n\n",
    "    else:\n",
    "        return n * factorial_recursive(n-1)\n",
    "\n",
    "\n",
    "\n",
    "\n",
    "\n",
    "\n",
    "\n",
    "\n",
    "\n"
   ]
  },
  {
   "cell_type": "markdown",
   "metadata": {},
   "source": [
    "#### Let's trace the function calls :\n",
    "\n",
    "#### factorial(4) <br>\n",
    "####  = 4 *  factorial(3)<br>\n",
    "####  = 4 * (3 *  factorial(2))<br>\n",
    "####  = 4 * (3 * (2 * factorial(1)))<br>\n",
    "####  = 4 * (3 * (2 * (1 * factorial(0))))<br>\n",
    "####  = 4 * (3 * (2 * (1 * 1))) <br>\n",
    "####  = 4 * (3 * (2 * 1))<br>\n",
    "####  = 4 * (3 * 2)<br>\n",
    "####  = 4 * 6<br>\n",
    "####  = 24\n",
    "\n",
    "---"
   ]
  },
  {
   "cell_type": "markdown",
   "metadata": {},
   "source": [
    "### Ensuring recursion works :\n",
    "    \n",
    "- A recursive subprogram must have at least one base case and one recursive case (it's OK to have more than one base case, and more than one recursive case).\n",
    "- The test for the base case must execute before the recursive call.\n",
    "- The problem must be broken down in such a way that the recursive call is closer to the base case than the top--level call. ( This condition is actually not quite strong enough. Moving toward the base case alone is not sufficient; it must also be true that the base case is reached in a finite number of recursive calls. In practice though, it is rare to encounter situations where there is always movement toward the base case but the base case is not reached).\n",
    "- The recursive call must not skip over the base case.\n",
    "- The non-recursive portions of the subprogram must operate correctly.\n",
    "---\n",
    "\n"
   ]
  },
  {
   "cell_type": "markdown",
   "metadata": {
    "collapsed": true
   },
   "source": [
    "### Binary Search \n",
    "\n",
    "Watch : [Classic Phonebook problem](https://m.youtube.com/watch?v=o2LqhHoAXxI)\n",
    "\n",
    "Binary search relies on a divide and conquer strategy to find a value within an already-sorted collection.\n",
    "\n",
    "In simple terms, binary search is used to quickly find a value in a sorted sequence (consider a sequence an ordinary array for now).<br>\n",
    "We’ll call the sought value the target value for clarity. Binary search maintains a contiguous subsequence of the starting sequence where the target value is surely located. This is called the *search space*. <br> \n",
    "\n",
    "The search space is initially the entire sequence. At each step, the algorithm compares the median value in the search space to the target value. Based on the comparison and because the sequence is sorted, it can then eliminate half of the search space. By doing this repeatedly, it will eventually be left with a search space consisting of a single element, the target value. <br> \n",
    "\n",
    "___\n",
    "\n",
    "For example, consider the following sequence of integers sorted in ascending order and say we are looking for the number 55:<br>\n",
    "\n",
    "\n",
    "<center> 0\t5\t13\t19\t22\t41\t55\t68\t72\t81\t98 </center> <br>\n",
    "\n",
    "We are interested in the location of the target value in the sequence so we will represent the search space as indices into the sequence. \n",
    "\n",
    "- Initially, the search space contains indices 1 through 11. Since the search space is really an interval, it suffices to store just two numbers, the low and high indices. \n",
    "- We now choose the median value, which is the value at index 6 (the midpoint between 1 and 11)\n",
    "    - This value is 41 and it is smaller than the target value.\n",
    "    - From this we conclude not only that the element at index 6 is not the target value, but also that no element at indices between 1 and 5 can be the target value, because all elements at these indices are smaller than 41, which is smaller than the target value. <br>\n",
    "- This brings the search space down to indices 7 through 11:\n",
    "\n",
    "<center> 55\t68\t72\t81\t98</center><br>\n",
    "- Proceeding in a similar fashion, we chop off the second half of the search space and are left with:\n",
    "\n",
    "<center>55\t68 </center> <br>\n",
    "- Depending on how we choose the median of an even number of elements we will either find 55 in the next step or chop off 68 to get a search space of only one element. \n",
    "- Either way, we conclude that the index where the target value is located is 7.\n"
   ]
  },
  {
   "cell_type": "code",
   "execution_count": 17,
   "metadata": {
    "collapsed": false
   },
   "outputs": [],
   "source": [
    "#Binary search Iterative implementation\n",
    "def binary_search(lst, elem):\n",
    "    while lst:\n",
    "        midpoint_idx = len(lst)/2\n",
    "        midpoint = lst[len(lst)/2]\n",
    "        if midpoint == elem:\n",
    "            return  True \n",
    "        elif midpoint > elem:\n",
    "            lst = lst[:midpoint_idx]\n",
    "        else:\n",
    "            lst = lst[midpoint_idx:]\n",
    "    return False \n",
    "\n",
    "\n",
    "test_list1 = [1, 2, 3, 5]\n",
    "\n",
    "assert binary_search(test_list1, 6) == (6 in test_list1) "
   ]
  },
  {
   "cell_type": "code",
   "execution_count": 25,
   "metadata": {
    "collapsed": false
   },
   "outputs": [
    {
     "data": {
      "text/plain": [
       "'Found element 2'"
      ]
     },
     "execution_count": 25,
     "metadata": {},
     "output_type": "execute_result"
    }
   ],
   "source": [
    "#Binary search Recursive implementation\n",
    "test_list2 = [1, 2, 3, 5, 9]\n",
    "\n",
    "def binary_search2(n, sorted_list):\n",
    "    if not sorted_list:\n",
    "        return 'Not in list'\n",
    "    else:\n",
    "        midpoint_idx = len(sorted_list) / 2\n",
    "        midpoint = sorted_list[midpoint_idx]\n",
    "        if midpoint == n:\n",
    "            return (\"Found element %d\") % midpoint\n",
    "        elif midpoint < n:\n",
    "            return binary_search2(n, sorted_list[midpoint + 1:])\n",
    "        else:\n",
    "            return binary_search2(n, sorted_list[:midpoint])\n",
    "    \n",
    "    \n",
    "binary_search2(2,test_list2)"
   ]
  },
  {
   "cell_type": "markdown",
   "metadata": {
    "collapsed": true
   },
   "source": [
    "\n",
    "## Additional Resources\n",
    "\n",
    "-   [Recursion](http://vaidehijoshi.github.io/blog/2014/12/14/to-understand-recursion-you-must-first-understand-recursion/)\n",
    "-   [Sorting Algorithm Animations](http://www.sorting-algorithms.com/)\n",
    "-   [A Beginner’s Guide to Big O Notation « Rob Bell](http://rob-bell.net/2009/06/a-beginners-guide-to-big-o-notation/)\n",
    "-   [Stack Overflow : In plain English,what is recursion?](http://softwareengineering.stackexchange.com/questions/25052/in-plain-english-what-is-recursion)\n",
    "-   [Binary Search](https://www.youtube.com/watch?v=lyZQPjUT5B4)\n",
    "-   [Quick-sort with Hungarian (Küküllőmenti legényes) folk dance - YouTube](https://www.youtube.com/watch?v=ywWBy6J5gz8)\n"
   ]
  }
 ],
 "metadata": {
  "anaconda-cloud": {},
  "kernelspec": {
   "display_name": "Python [Root]",
   "language": "python",
   "name": "Python [Root]"
  },
  "language_info": {
   "codemirror_mode": {
    "name": "ipython",
    "version": 2
   },
   "file_extension": ".py",
   "mimetype": "text/x-python",
   "name": "python",
   "nbconvert_exporter": "python",
   "pygments_lexer": "ipython2",
   "version": "2.7.12"
  }
 },
 "nbformat": 4,
 "nbformat_minor": 0
}
