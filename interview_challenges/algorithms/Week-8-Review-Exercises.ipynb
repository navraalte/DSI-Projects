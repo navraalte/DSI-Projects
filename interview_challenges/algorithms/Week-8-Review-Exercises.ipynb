{
 "cells": [
  {
   "cell_type": "markdown",
   "metadata": {},
   "source": [
    "## SQL and Algorithm Review \n",
    "---\n",
    "### SQL exercises\n",
    "\n",
    "#### 1. Given the following tables and their schemas\n",
    "\n",
    "Table Name\tColumn Names\n",
    "\n",
    "consumer\tid: unique ID of consumer\n",
    "\n",
    "delivery\tid: unique ID given to each delivery, actual_delivery_time: timestamp of mint delivery completed,\n",
    "            restaurant_id: unique ID of restaurant location associated with delivery\n",
    "\n",
    "order_cart\tid: unique ID given to each order cart, creator_id: consumer ID of order cart creator, delivery_id:delivery ID associated with order cart, is_first_ordercart: designation of order cart from a first-time customer\n",
    "\n",
    "store\tid: unique ID of restaurant associated with delivery, name: restaurant name, market_id: ID number of market in which store is located\n",
    "\n",
    "Relevant tables and fields:\n",
    "Format:   table_name.field_name\n",
    "Example: delivery.actual_delivery_time\n",
    "\n",
    "1. Please write a query to establish monthly cohorts based on month joined.\n",
    "2. Please write a query or series of queries to calculate weighted average retention of new customers by months after first purchase (1,2,etc.).\n",
    "\n",
    "\n",
    "__Notes : Weighted average retention looks at all new customers (they are new in month 0 and so month 0 retention is 100%) and looks at their behavior in month 1. For new customers in October 2014, month 1 is November 2014. For new customers in December 2014, month 1 is January 2015. We take a weighted average of all the 1-month-after-purchase retention numbers to get a 1-month retention calculation.__\n",
    "\n",
    "\n",
    "#### 2. Below, we have two tables in our relational database named accounts and weigh_ins.\n",
    "\n",
    "#### accounts\n",
    "\n",
    "    account_id\tINT\n",
    "    gender\t    TEXT\n",
    "    birthday\tDATE\n",
    "\n",
    "#### weigh_ins\n",
    "    account_id\tINT\n",
    "    weighed_at\tTIMESTAMP\n",
    "    weight\t    FLOAT\n",
    "\n",
    "**Using the tables above, please answer the following using SQL:**\n",
    "\n",
    "\n",
    "1. Write a query to get the number of accounts by gender.\n",
    "2. Write a query to get the number of accounts by this age group. [18-29, 30-39, 40-49, 50+]\n",
    "3. Extend the query above to filter the above results by male participants who have weighed-in in the last two weeks?\n",
    "\n",
    "____\n",
    "____\n"
   ]
  },
  {
   "cell_type": "markdown",
   "metadata": {},
   "source": [
    "## Algorithm Review : \n",
    "\n",
    "\n",
    "#### 1. Problem 1 : \n",
    "\n",
    "Winter is coming! Your first job during the contest is to design a standard heater with fixed warm radius to warm all the houses.\n",
    "\n",
    "Now, you are given positions of houses and heaters on a horizontal line, find out minimum radius of heaters so that all houses could be covered by those heaters.\n",
    "\n",
    "So, your input will be the positions of houses and heaters seperately, and your expected output will be the minimum radius standard of heaters.\n",
    "\n",
    "__Note:\n",
    "Numbers of houses and heaters you are given are non-negative and will not exceed 25000.\n",
    "Positions of houses and heaters you are given are non-negative and will not exceed 10^9.__\n",
    "\n",
    "As long as a house is in the heaters' warm radius range, it can be warmed.\n",
    "All the heaters follow your radius standard and the warm radius will the same.\n",
    "\n",
    "- Example 1:\n",
    "    - Input: [1,2,3],[2]\n",
    "    \n",
    "    - Output: 1\n",
    "Explanation: The only heater was placed in the position 2, and if we use the radius 1 standard, then all the houses can be warmed.\n",
    "\n",
    "\n",
    "- Example 2:\n",
    "    - Input: [1,2,3,4],[1,4]\n",
    "    \n",
    "    - Output: 1\n",
    "Explanation: The two heater was placed in the position 1 and 4. We need to use radius 1 standard, then all the houses can be warmed."
   ]
  },
  {
   "cell_type": "markdown",
   "metadata": {
    "collapsed": true
   },
   "source": [
    "#### 2. Problem 2 \n",
    "\n",
    "Given a list of non negative integers, arrange them such that they form the largest number.\n",
    "\n",
    "For example, given [3, 30, 34, 5, 9], the largest formed number is 9534330.\n",
    "\n",
    "Note: The result may be very large, so you need to return a string instead of an integer.\n",
    "\n"
   ]
  },
  {
   "cell_type": "markdown",
   "metadata": {
    "collapsed": true
   },
   "source": [
    "--------"
   ]
  },
  {
   "cell_type": "markdown",
   "metadata": {},
   "source": [
    "### Afternoon Project\n",
    "\n",
    "Analyze data on New York motor vehicle collisions and answer the question : \n",
    "\n",
    "__ What are your ideas for reducing accidents in Brooklyn?__\n",
    "\n",
    "Data is available on Google BigQuery. \n",
    "(See [quickstart](https://cloud.google.com/bigquery/quickstart-web-ui) for more detailed instructions on set up)\n",
    "1. Log on to Google [BigQuery](https://bigquery.cloud.google.com/welcome) \n",
    "2. Create a new Project\n",
    "3. Go to the [BigQuery Motor Vehicle data UI](https://bigquery.cloud.google.com/table/bigquery-public-data:new_york.nypd_mv_collisions?tab=schema)\n",
    "4. Use \"Preview\" to view the data and \"Compose Query\" to access it in SQL.\n",
    "\n"
   ]
  },
  {
   "cell_type": "code",
   "execution_count": null,
   "metadata": {
    "collapsed": true
   },
   "outputs": [],
   "source": []
  }
 ],
 "metadata": {
  "anaconda-cloud": {},
  "kernelspec": {
   "display_name": "Python [Root]",
   "language": "python",
   "name": "Python [Root]"
  },
  "language_info": {
   "codemirror_mode": {
    "name": "ipython",
    "version": 2
   },
   "file_extension": ".py",
   "mimetype": "text/x-python",
   "name": "python",
   "nbconvert_exporter": "python",
   "pygments_lexer": "ipython2",
   "version": "2.7.12"
  }
 },
 "nbformat": 4,
 "nbformat_minor": 0
}
