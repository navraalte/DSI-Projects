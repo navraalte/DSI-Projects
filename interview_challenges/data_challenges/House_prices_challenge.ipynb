{
 "cells": [
  {
   "cell_type": "markdown",
   "metadata": {},
   "source": [
    "<!--\n",
    "Creator:\n",
    "Location: SF\n",
    "-->\n",
    "\n",
    "![](https://ga-dash.s3.amazonaws.com/production/assets/logo-9f88ae6c9c3871690e33280fcf557f33.png)\n",
    "\n",
    "## Building a Modeling Pipeline \n",
    "\n",
    " - Introduce Kaggle and why it's useful \n",
    " - Build Regression Models for predicting selling price of a home \n",
    " - Review the data modeling pipline"
   ]
  },
  {
   "cell_type": "code",
   "execution_count": 1,
   "metadata": {
    "collapsed": false
   },
   "outputs": [],
   "source": [
    "import pandas as pd\n",
    "import numpy as np\n",
    "import seaborn as sns\n",
    "\n",
    "from matplotlib import pyplot as plt\n",
    "plt.style.use('fivethirtyeight')\n",
    "%matplotlib inline"
   ]
  },
  {
   "cell_type": "code",
   "execution_count": 1,
   "metadata": {
    "collapsed": false
   },
   "outputs": [],
   "source": [
    "## dataset on housing prices \n",
    "dataset_dir = '../house_prices/'\n",
    "\n",
    "## you can read the data_description.txt in the directory to figure out \n",
    "## what the columns mean \n",
    "train = pd.read_csv(dataset_dir + 'train.csv')\n",
    "print train.shape\n",
    "\n",
    "test = pd.read_csv(dataset_dir + 'test.csv')\n",
    "print test.shape\n",
    "\n",
    "\n"
   ]
  },
  {
   "cell_type": "markdown",
   "metadata": {},
   "source": [
    "### 1. Perform EDA and Data Cleaning \n",
    "\n",
    "- Clean the data \n",
    "- Develop and state clear hypothesis that you want to test \n",
    "- Create some initial visualizations on your portions of the data "
   ]
  },
  {
   "cell_type": "code",
   "execution_count": null,
   "metadata": {
    "collapsed": true
   },
   "outputs": [],
   "source": []
  },
  {
   "cell_type": "code",
   "execution_count": null,
   "metadata": {
    "collapsed": true
   },
   "outputs": [],
   "source": []
  },
  {
   "cell_type": "markdown",
   "metadata": {},
   "source": [
    "### 2. Construct and Evaluate Regression models on the data \n",
    "\n",
    "- Use at least 3 different regression models\n",
    "\n",
    "- State variables that are predictors in your regression. \n",
    "\n",
    "- For variables that are categorical, read this blog post on handling categorical values with Pandas and Sklearn: http://fastml.com/converting-categorical-data-into-numbers-with-pandas-and-scikit-learn/\n",
    "\n",
    "- Construct your regression models\n",
    "\n",
    "- Evaluate the model. How does the Mean squared error of the overall model compare to cross-validated Mean squared error. What do the differences in Mean squared error mean?\n",
    " - Use test / train split\n",
    " - Use K-Folds CV\n",
    " - Compare and explain your results with both\n"
   ]
  },
  {
   "cell_type": "code",
   "execution_count": null,
   "metadata": {
    "collapsed": true
   },
   "outputs": [],
   "source": []
  }
 ],
 "metadata": {
  "anaconda-cloud": {},
  "kernelspec": {
   "display_name": "Python [Root]",
   "language": "python",
   "name": "Python [Root]"
  },
  "language_info": {
   "codemirror_mode": {
    "name": "ipython",
    "version": 2
   },
   "file_extension": ".py",
   "mimetype": "text/x-python",
   "name": "python",
   "nbconvert_exporter": "python",
   "pygments_lexer": "ipython2",
   "version": "2.7.12"
  }
 },
 "nbformat": 4,
 "nbformat_minor": 0
}
