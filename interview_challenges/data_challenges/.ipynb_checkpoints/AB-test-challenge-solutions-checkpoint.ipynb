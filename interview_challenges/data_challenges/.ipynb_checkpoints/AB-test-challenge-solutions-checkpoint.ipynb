{
 "cells": [
  {
   "cell_type": "markdown",
   "metadata": {},
   "source": [
    "\n",
    "# A/B Testing Challenge\n",
    "---\n",
    "\n",
    "## Goal\n",
    "\n",
    "A/B tests play a huge role in website optimization. Analyzing A/B tests data is a very important data scientist responsibility. Especially, data scientists have to make sure that results are reliable, trustworthy, and conclusions can be drawn.\n",
    "\n",
    "\n",
    "Furthermore, companies often run tens, if not hundreds, of A/B tests at the same time. Manually analyzing all of them would require lot of time and people. Therefore, it is common practice to look at the typical A/B test analysis steps and try to automate as much as possible. This frees up time for the data scientists to work on more high level topics.\n",
    "In this challenge, you will have to analyze results from an A/B test. Also, you will be asked to design an algorithm to automate some steps.\n",
    "\n",
    "## Challenge Description\n",
    "Company XYZ is a worldwide e-commerce site with localized versions of the site.\n",
    "A data scientist at XYZ noticed that Spain-based users have a much higher conversion rate than any other Spanish-speaking country. She therefore went and talked to the international team in charge of Spain And LatAm to see if they had any ideas about why that was happening.\n",
    "\n",
    "Spain and LatAm country manager suggested that one reason could be translation. All Spanish- speaking countries had the same translation of the site which was written by a Spaniard. They agreed to try a test where each country would have its one translation written by a local. That is, Argentinian users would see a translation written by an Argentinian, Mexican users by a Mexican and so on. Obviously, nothing would change for users from Spain.\n",
    "After they run the test however, they are really surprised cause the test is negative. I.e., it appears that the non-localized translation was doing better!\n",
    "\n",
    "### You are asked to:\n",
    "Confirm that the test is actually negative. That is, it appears that the old version of the site with just one translation across Spain and LatAm performs better\n",
    "Explain why that might be happening. Are the localized translations really worse?\n",
    "\n",
    "\n",
    "If you identified what was wrong, design an algorithm that would return FALSE if the same problem is happening in the future and TRUE if everything is good and the results can be trusted.\n",
    "\n",
    "\n",
    "## Data\n",
    "We have 2 tables in the Translation_test folder. The Translation_test folder can be found in the folder : <br> interview_challenges/data_challenges/Translation_test\n",
    "\n",
    "There are two tables in the folder.\n",
    "\n",
    "#### Table 1 - test_table\n",
    "\n",
    "Columns:\n",
    "\n",
    "user_id : the id of the user. Unique by user. Can be joined to user id in the other table. For each user, we just check whether conversion happens the first time they land on the site since the test started. <br>\n",
    "\n",
    "date : when they came to the site for the first time since the test started <br>\n",
    "\n",
    "source : marketing channel: Ads, SEO, Direct . Direct means everything except for ads and SEO. Such as directly typing site URL on the browser, downloading the app w/o coming from SEO or Ads, referral friend, etc. <br>\n",
    "\n",
    "device : device used by the user. It can be mobile or web<br>\n",
    "\n",
    "browser_language : in browser or app settings, the language chosen by the user. It can be EN, ES, Other (Other means any language except for English and Spanish) <br>\n",
    "\n",
    "ads_channel : if marketing channel is ads, this is the site where the ad was displayed. It can be: Google, Facebook, Bing, Yahoo ,Other. If the user didn't come via an ad, this field is NA <br>\n",
    "\n",
    "browser : user browser. It can be: IE, Chrome, Android_App, FireFox, Iphone_App, Safari, Opera <br>\n",
    "\n",
    "conversion : whether the user converted (1) or not (0). This is our label. A test is considered successful if it increases the proportion of users who convert. <br>\n",
    "\n",
    "test : users are randomly split into test (1) and control (0). Test users see the new translation and control the old one. For Spain-based users, this is obviously always 0 since there is no change there.\n",
    "      \"test_table\" - general information about the test results\n",
    "              \"user_table\" - some information about the user\n",
    "\n",
    "\n",
    "___ \n",
    "\n",
    "#### Table 2 - user_table\n",
    "\n",
    "Columns:\n",
    "user_id : the id of the user. It can be joined to user id in the other table \n",
    "\n",
    "sex : user sex: Male or Female <br>\n",
    "\n",
    "age : user age (self-reported) <br>\n",
    "\n",
    "country : user country based on ip address <br>\n",
    "\n",
    "\n",
    "\n"
   ]
  },
  {
   "cell_type": "code",
   "execution_count": 166,
   "metadata": {
    "collapsed": false
   },
   "outputs": [],
   "source": [
    "import pandas as pd\n",
    "import numpy as np\n",
    "import seaborn as sns\n",
    "from matplotlib import pyplot as plt\n",
    "from scipy.stats import ttest_ind \n",
    "\n",
    "sns.set_style(\"whitegrid\")\n",
    "%matplotlib inline"
   ]
  },
  {
   "cell_type": "code",
   "execution_count": 138,
   "metadata": {
    "collapsed": true
   },
   "outputs": [],
   "source": [
    "user_table = pd.read_csv('Translation_Test/user_table.csv')\n",
    "test_table = pd.read_csv('Translation_Test/test_table.csv')"
   ]
  },
  {
   "cell_type": "code",
   "execution_count": 85,
   "metadata": {
    "collapsed": false
   },
   "outputs": [],
   "source": [
    "def get_conversions(df, get_ratios=1):\n",
    "    conversions = np.array(df.groupby(['test', 'conversion']).size().unstack())\n",
    "    conversions = pd.DataFrame(conversions, columns=['not_converted', 'converted'], index=['control', 'experiment'])\n",
    "    if get_ratios:\n",
    "        return conversions.T / conversions.sum(axis=1)\n",
    "    return conversions.T"
   ]
  },
  {
   "cell_type": "code",
   "execution_count": 15,
   "metadata": {
    "collapsed": false
   },
   "outputs": [
    {
     "name": "stdout",
     "output_type": "stream",
     "text": [
      "Tests Shape: (453321, 9), Users Shape: (452867, 4)\n",
      "453321\n",
      "452867\n"
     ]
    }
   ],
   "source": [
    "print 'Tests Shape: {}, Users Shape: {}'.format(test_table.shape, user_table.shape) \n",
    "## not all users are assigned to a test\n",
    "print test_table.user_id.nunique()\n",
    "print user_table.user_id.nunique()\n",
    "not_assigned_users = set(user_table.user_id.unique()) - set(test_table.user_id.unique()) "
   ]
  },
  {
   "cell_type": "code",
   "execution_count": 62,
   "metadata": {
    "collapsed": false
   },
   "outputs": [
    {
     "data": {
      "text/html": [
       "<div>\n",
       "<table border=\"1\" class=\"dataframe\">\n",
       "  <thead>\n",
       "    <tr style=\"text-align: right;\">\n",
       "      <th></th>\n",
       "      <th>user_id</th>\n",
       "      <th>date</th>\n",
       "      <th>source</th>\n",
       "      <th>device</th>\n",
       "      <th>browser_language</th>\n",
       "      <th>ads_channel</th>\n",
       "      <th>browser</th>\n",
       "      <th>conversion</th>\n",
       "      <th>test</th>\n",
       "    </tr>\n",
       "  </thead>\n",
       "  <tbody>\n",
       "    <tr>\n",
       "      <th>0</th>\n",
       "      <td>315281</td>\n",
       "      <td>2015-12-03</td>\n",
       "      <td>Direct</td>\n",
       "      <td>Web</td>\n",
       "      <td>ES</td>\n",
       "      <td>NaN</td>\n",
       "      <td>IE</td>\n",
       "      <td>1</td>\n",
       "      <td>0</td>\n",
       "    </tr>\n",
       "    <tr>\n",
       "      <th>1</th>\n",
       "      <td>497851</td>\n",
       "      <td>2015-12-04</td>\n",
       "      <td>Ads</td>\n",
       "      <td>Web</td>\n",
       "      <td>ES</td>\n",
       "      <td>Google</td>\n",
       "      <td>IE</td>\n",
       "      <td>0</td>\n",
       "      <td>1</td>\n",
       "    </tr>\n",
       "    <tr>\n",
       "      <th>2</th>\n",
       "      <td>848402</td>\n",
       "      <td>2015-12-04</td>\n",
       "      <td>Ads</td>\n",
       "      <td>Web</td>\n",
       "      <td>ES</td>\n",
       "      <td>Facebook</td>\n",
       "      <td>Chrome</td>\n",
       "      <td>0</td>\n",
       "      <td>0</td>\n",
       "    </tr>\n",
       "  </tbody>\n",
       "</table>\n",
       "</div>"
      ],
      "text/plain": [
       "   user_id        date  source device browser_language ads_channel browser  \\\n",
       "0   315281  2015-12-03  Direct    Web               ES         NaN      IE   \n",
       "1   497851  2015-12-04     Ads    Web               ES      Google      IE   \n",
       "2   848402  2015-12-04     Ads    Web               ES    Facebook  Chrome   \n",
       "\n",
       "   conversion  test  \n",
       "0           1     0  \n",
       "1           0     1  \n",
       "2           0     0  "
      ]
     },
     "execution_count": 62,
     "metadata": {},
     "output_type": "execute_result"
    }
   ],
   "source": [
    "test_table.head(3)"
   ]
  },
  {
   "cell_type": "code",
   "execution_count": 63,
   "metadata": {
    "collapsed": false
   },
   "outputs": [
    {
     "data": {
      "text/html": [
       "<div>\n",
       "<table border=\"1\" class=\"dataframe\">\n",
       "  <thead>\n",
       "    <tr style=\"text-align: right;\">\n",
       "      <th></th>\n",
       "      <th>user_id</th>\n",
       "      <th>sex</th>\n",
       "      <th>age</th>\n",
       "      <th>country</th>\n",
       "    </tr>\n",
       "  </thead>\n",
       "  <tbody>\n",
       "    <tr>\n",
       "      <th>0</th>\n",
       "      <td>765821</td>\n",
       "      <td>M</td>\n",
       "      <td>20</td>\n",
       "      <td>Mexico</td>\n",
       "    </tr>\n",
       "    <tr>\n",
       "      <th>1</th>\n",
       "      <td>343561</td>\n",
       "      <td>F</td>\n",
       "      <td>27</td>\n",
       "      <td>Nicaragua</td>\n",
       "    </tr>\n",
       "    <tr>\n",
       "      <th>2</th>\n",
       "      <td>118744</td>\n",
       "      <td>M</td>\n",
       "      <td>23</td>\n",
       "      <td>Colombia</td>\n",
       "    </tr>\n",
       "  </tbody>\n",
       "</table>\n",
       "</div>"
      ],
      "text/plain": [
       "   user_id sex  age    country\n",
       "0   765821   M   20     Mexico\n",
       "1   343561   F   27  Nicaragua\n",
       "2   118744   M   23   Colombia"
      ]
     },
     "execution_count": 63,
     "metadata": {},
     "output_type": "execute_result"
    }
   ],
   "source": [
    "user_table.head(3)"
   ]
  },
  {
   "cell_type": "code",
   "execution_count": 64,
   "metadata": {
    "collapsed": false
   },
   "outputs": [
    {
     "data": {
      "text/plain": [
       "ES       377547\n",
       "EN        63137\n",
       "Other     12637\n",
       "Name: browser_language, dtype: int64"
      ]
     },
     "execution_count": 64,
     "metadata": {},
     "output_type": "execute_result"
    }
   ],
   "source": [
    "test_table.browser_language.value_counts()"
   ]
  },
  {
   "cell_type": "code",
   "execution_count": 65,
   "metadata": {
    "collapsed": false
   },
   "outputs": [
    {
     "data": {
      "text/plain": [
       "Mexico         128484\n",
       "Colombia        54060\n",
       "Spain           51782\n",
       "Argentina       46733\n",
       "Peru            33666\n",
       "Venezuela       32054\n",
       "Chile           19737\n",
       "Ecuador         15895\n",
       "Guatemala       15125\n",
       "Bolivia         11124\n",
       "Honduras         8568\n",
       "El Salvador      8175\n",
       "Paraguay         7347\n",
       "Nicaragua        6723\n",
       "Costa Rica       5309\n",
       "Uruguay          4134\n",
       "Panama           3951\n",
       "Name: country, dtype: int64"
      ]
     },
     "execution_count": 65,
     "metadata": {},
     "output_type": "execute_result"
    }
   ],
   "source": [
    "user_table.country.value_counts()"
   ]
  },
  {
   "cell_type": "code",
   "execution_count": 82,
   "metadata": {
    "collapsed": false
   },
   "outputs": [],
   "source": [
    "user_tests = user_table.merge(test_table, on='user_id')"
   ]
  },
  {
   "cell_type": "code",
   "execution_count": 98,
   "metadata": {
    "collapsed": false
   },
   "outputs": [],
   "source": [
    "country_conversions = user_tests.groupby('country')['conversion'].sum() / user_tests.groupby('country')['conversion'].size()"
   ]
  },
  {
   "cell_type": "code",
   "execution_count": 99,
   "metadata": {
    "collapsed": false
   },
   "outputs": [
    {
     "data": {
      "text/plain": [
       "country\n",
       "Spain          0.079719\n",
       "Costa Rica     0.053494\n",
       "Nicaragua      0.053399\n",
       "Colombia       0.051332\n",
       "El Salvador    0.050765\n",
       "Mexico         0.050341\n",
       "Peru           0.050258\n",
       "Chile          0.049704\n",
       "Venezuela      0.049666\n",
       "Guatemala      0.049653\n",
       "Honduras       0.049253\n",
       "Ecuador        0.049072\n",
       "Paraguay       0.048863\n",
       "Bolivia        0.048634\n",
       "Panama         0.048089\n",
       "Argentina      0.013994\n",
       "Uruguay        0.012821\n",
       "dtype: float64"
      ]
     },
     "execution_count": 99,
     "metadata": {},
     "output_type": "execute_result"
    }
   ],
   "source": [
    "country_conversions.sort_values(ascending=False)"
   ]
  },
  {
   "cell_type": "code",
   "execution_count": 111,
   "metadata": {
    "collapsed": false
   },
   "outputs": [],
   "source": [
    "users_not_spain = user_tests.loc[user_tests.country != 'Spain']\n",
    "experiment_not_spain = users_not_spain.loc[users_not_spain['test'] == 1, 'conversion']\n",
    "control_not_spain = users_not_spain.loc[users_not_spain['test'] == 0, 'conversion']"
   ]
  },
  {
   "cell_type": "code",
   "execution_count": 117,
   "metadata": {
    "collapsed": false
   },
   "outputs": [
    {
     "name": "stdout",
     "output_type": "stream",
     "text": [
      "Not Spanish Control Conversion:  0.0482917905575\n",
      "Spanish Experimental Conversion: 0.0434111616784\n"
     ]
    }
   ],
   "source": [
    "print 'Not Spanish Control Conversion: ', control_not_spain.mean()\n",
    "print 'Spanish Experimental Conversion:', experiment_not_spain.mean()"
   ]
  },
  {
   "cell_type": "code",
   "execution_count": 118,
   "metadata": {
    "collapsed": false
   },
   "outputs": [
    {
     "data": {
      "text/plain": [
       "Ttest_indResult(statistic=7.382252163053967, pvalue=1.5593292778816856e-13)"
      ]
     },
     "execution_count": 118,
     "metadata": {},
     "output_type": "execute_result"
    }
   ],
   "source": [
    "ttest_ind(control_not_spain, experiment_not_spain)"
   ]
  },
  {
   "cell_type": "code",
   "execution_count": 144,
   "metadata": {
    "collapsed": false
   },
   "outputs": [],
   "source": [
    "date_control = pd.to_datetime(users_not_spain.loc[users_not_spain['test'] == 1, 'date']).value_counts()\n",
    "date_exp = pd.to_datetime(users_not_spain.loc[users_not_spain['test'] == 0, 'date']).value_counts()"
   ]
  },
  {
   "cell_type": "code",
   "execution_count": 145,
   "metadata": {
    "collapsed": false
   },
   "outputs": [],
   "source": [
    "date_control = sorted(zip(date_control.index, date_control), key=lambda x: x[0])\n",
    "date_exp = sorted(zip(date_exp.index, date_exp), key=lambda x: x[0])"
   ]
  },
  {
   "cell_type": "code",
   "execution_count": 173,
   "metadata": {
    "collapsed": false
   },
   "outputs": [],
   "source": [
    "dates = map(lambda x: x[0].date(), date_control)"
   ]
  },
  {
   "cell_type": "code",
   "execution_count": 188,
   "metadata": {
    "collapsed": false
   },
   "outputs": [
    {
     "data": {
      "image/png": "[encoded data removed]",
      "text/plain": [
       "<matplotlib.figure.Figure at 0x13ae53410>"
      ]
     },
     "metadata": {},
     "output_type": "display_data"
    }
   ],
   "source": [
    "plt.bar(range(len(dates)), map(lambda x: x[1], date_control), align='center', label='Control')\n",
    "plt.bar(range(len(dates)), map(lambda x: x[1], date_exp), align='center', color='r', label='Experimental')\n",
    "\n",
    "plt.xticks(range(len(dates)), dates, rotation=90)\n",
    "plt.legend(loc='upper left')\n",
    "plt.show()"
   ]
  },
  {
   "cell_type": "code",
   "execution_count": 189,
   "metadata": {
    "collapsed": false
   },
   "outputs": [
    {
     "name": "stdout",
     "output_type": "stream",
     "text": [
      "\n",
      "Country:Mexico\n",
      "\n",
      "                control  experiment\n",
      "not_converted  0.950505    0.948814\n",
      "converted      0.049495    0.051186\n",
      "Ttest_indResult(statistic=-1.3866622608887011, pvalue=0.1655471793333996)\n",
      "\n",
      "Country:Nicaragua\n",
      "\n",
      "                control  experiment\n",
      "not_converted  0.947353    0.945823\n",
      "converted      0.052647    0.054177\n",
      "Ttest_indResult(statistic=-0.27887298868544658, pvalue=0.78035087831788208)\n",
      "\n",
      "Country:Colombia\n",
      "\n",
      "                control  experiment\n",
      "not_converted  0.947911    0.949429\n",
      "converted      0.052089    0.050571\n",
      "Ttest_indResult(statistic=0.79996776451522145, pvalue=0.42373298936771575)\n",
      "\n",
      "Country:Venezuela\n",
      "\n",
      "                control  experiment\n",
      "not_converted  0.949656    0.951022\n",
      "converted      0.050344    0.048978\n",
      "Ttest_indResult(statistic=0.56255845214574196, pvalue=0.57373952489624136)\n",
      "\n",
      "Country:Spain\n",
      "\n",
      "\n",
      "\n",
      "Country:Ecuador\n",
      "\n",
      "                control  experiment\n",
      "not_converted  0.950846    0.951012\n",
      "converted      0.049154    0.048988\n",
      "Ttest_indResult(statistic=0.048256568065656126, pvalue=0.96151237422511571)\n",
      "\n",
      "Country:Paraguay\n",
      "\n",
      "                control  experiment\n",
      "not_converted  0.951507    0.950771\n",
      "converted      0.048493    0.049229\n",
      "Ttest_indResult(statistic=-0.14628327831341764, pvalue=0.88370178025937596)\n",
      "\n",
      "Country:Bolivia\n",
      "\n",
      "                control  experiment\n",
      "not_converted  0.950631    0.952099\n",
      "converted      0.049369    0.047901\n",
      "Ttest_indResult(statistic=0.35996930325868887, pvalue=0.71887692432444861)\n",
      "\n",
      "Country:Argentina\n",
      "\n",
      "                control  experiment\n",
      "not_converted  0.984929    0.986275\n",
      "converted      0.015071    0.013725\n",
      "Ttest_indResult(statistic=0.99084511116841445, pvalue=0.32176634809750632)\n",
      "\n",
      "Country:Peru\n",
      "\n",
      "                control  experiment\n",
      "not_converted  0.950086    0.949396\n",
      "converted      0.049914    0.050604\n",
      "Ttest_indResult(statistic=-0.28982761667685353, pvalue=0.77194990417644904)\n",
      "\n",
      "Country:Chile\n",
      "\n",
      "                control  experiment\n",
      "not_converted  0.951893    0.948705\n",
      "converted      0.048107    0.051295\n",
      "Ttest_indResult(statistic=-1.0303236741009691, pvalue=0.30287071613661221)\n",
      "\n",
      "Country:Guatemala\n",
      "\n",
      "                control  experiment\n",
      "not_converted  0.949357    0.951353\n",
      "converted      0.050643    0.048647\n",
      "Ttest_indResult(statistic=0.56487848042883948, pvalue=0.57216480040818551)\n",
      "\n",
      "Country:Costa Rica\n",
      "\n",
      "                control  experiment\n",
      "not_converted  0.947744    0.945262\n",
      "converted      0.052256    0.054738\n",
      "Ttest_indResult(statistic=-0.40177890057855575, pvalue=0.68786293032685442)\n",
      "\n",
      "Country:Honduras\n",
      "\n",
      "                control  experiment\n",
      "not_converted  0.949094     0.95246\n",
      "converted      0.050906     0.04754\n",
      "Ttest_indResult(statistic=0.71971330492509245, pvalue=0.47172116808275688)\n",
      "\n",
      "Country:El Salvador\n",
      "\n",
      "                control  experiment\n",
      "not_converted  0.946446    0.952053\n",
      "converted      0.053554    0.047947\n",
      "Ttest_indResult(statistic=1.1546911588302902, pvalue=0.24825068097389943)\n",
      "\n",
      "Country:Panama\n",
      "\n",
      "                control  experiment\n",
      "not_converted  0.953204     0.95063\n",
      "converted      0.046796     0.04937\n",
      "Ttest_indResult(statistic=-0.37812080651068991, pvalue=0.70536117590241199)\n",
      "\n",
      "Country:Uruguay\n",
      "\n",
      "                control  experiment\n",
      "not_converted  0.987952    0.987093\n",
      "converted      0.012048    0.012907\n",
      "Ttest_indResult(statistic=-0.14741402589354316, pvalue=0.88281242762429468)\n"
     ]
    }
   ],
   "source": [
    "for cntry in user_tests.country.unique():\n",
    "    try:\n",
    "        cntry_df = user_tests[user_tests['country'] == cntry]\n",
    "        print \n",
    "        print 'Country:{}'.format(cntry)\n",
    "        print \n",
    "        print get_conversions(cntry_df)\n",
    "        print ttest_ind(cntry_df.loc[cntry_df['test'] == 0, 'conversion'], \n",
    "                        cntry_df.loc[cntry_df['test'] == 1, 'conversion'])\n",
    "        \n",
    "    except:\n",
    "        print \n",
    "        #print 'This is an error: {}'.format(cntry)"
   ]
  }
 ],
 "metadata": {
  "anaconda-cloud": {},
  "kernelspec": {
   "display_name": "Python 2",
   "language": "python",
   "name": "python2"
  },
  "language_info": {
   "codemirror_mode": {
    "name": "ipython",
    "version": 2
   },
   "file_extension": ".py",
   "mimetype": "text/x-python",
   "name": "python",
   "nbconvert_exporter": "python",
   "pygments_lexer": "ipython2",
   "version": "2.7.13"
  }
 },
 "nbformat": 4,
 "nbformat_minor": 0
}
