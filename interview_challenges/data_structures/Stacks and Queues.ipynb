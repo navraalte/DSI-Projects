{
 "cells": [
  {
   "cell_type": "markdown",
   "metadata": {},
   "source": [
    "\n",
    "# Stacks and Queues\n",
    "---\n",
    "\n",
    "## 1. Stacks : \n",
    "\n",
    "### What is a Stack?\n",
    "\n",
    "#### A stack is an ordered collection of items where the addition of new items and the removal of existing items always takes place at the same end. This end is commonly referred to as the “top.” \n",
    "\n",
    "![](https://www.cs.cmu.edu/~adamchik/15-121/lectures/Stacks%20and%20Queues/pix/stack.bmp)\n",
    "\n",
    "\n",
    "\n",
    "#### The stack data structure follows the ordering principle called __LIFO, last-in first-out__. In this regime, the most recently added item/element is in the position to be removed first. \n",
    "\n",
    "#### The element at the bottom of the stack can be called the item that has lived the longest in the stack.\n",
    "\n",
    "![](https://qph.ec.quoracdn.net/main-qimg-f2d56a823063de7de538c37a9f2f8d7b-p)\n"
   ]
  },
  {
   "cell_type": "markdown",
   "metadata": {},
   "source": [
    "### The Stack data structure has two fundamental operations: push and pop. \n",
    "\n",
    "####  The Push operation adds to the top of the list, hiding any items already on the stack, or initializing the stack if it is empty.\n",
    "\n",
    "#### The Pop operation removes an item from the top of the list, and returns this value to the caller. A pop either reveals previously concealed items, or results in an empty list.\n",
    "\n",
    "\n",
    "\n",
    "![](http://botbench.com/blog/wp-content/uploads/2013/01/image5.png)"
   ]
  },
  {
   "cell_type": "code",
   "execution_count": 1,
   "metadata": {
    "collapsed": true
   },
   "outputs": [],
   "source": [
    "### Implementing the Stack class\n",
    "\n",
    "class Stack:\n",
    "    def __init__(self):\n",
    "        self.stack_list = []\n",
    "    \n",
    "    def isEmpty(self):\n",
    "        return self.stack_list == []\n",
    "    \n",
    "    def push(self,item):\n",
    "        return self.stack_list.append(item)\n",
    "    \n",
    "    def pop(self):\n",
    "        return self.stack_list.pop()\n",
    "#  Our assumption is that the top is the last position of our list       "
   ]
  },
  {
   "cell_type": "code",
   "execution_count": 2,
   "metadata": {
    "collapsed": false
   },
   "outputs": [
    {
     "data": {
      "text/plain": [
       "2"
      ]
     },
     "execution_count": 2,
     "metadata": {},
     "output_type": "execute_result"
    }
   ],
   "source": [
    "s = Stack()\n",
    "s.push(1)\n",
    "s.push(2)\n",
    "s.pop()"
   ]
  },
  {
   "cell_type": "markdown",
   "metadata": {},
   "source": [
    "## 2. Queues : \n",
    "\n",
    "### What is a Queue?\n",
    "\n",
    "####  A queue is an ordered collection of items where a new element can be inserted from one end called the 'rear' and an element can be deleted from the other end called the 'front'. \n",
    "\n",
    "####  The most recently added item in the queue must wait at the end of the collection. The item that has been in the collection the longest is at the front. \n",
    "\n",
    "####  The Queue data structure follows an ordering principle called __FIFO, first-in first-out__. It is also known as “first-come first-served.”\n",
    "\n",
    "![](http://scanftree.com/Data_Structure/queues.png)\n",
    "\n",
    "A common example of a queue is a check out at a grocery store. \n",
    "\n",
    "#### The Queue data structure has two major operations : \n",
    "\n",
    "- Enqueue\n",
    "- Dequeue\n",
    "\n",
    "\n",
    "\n"
   ]
  },
  {
   "cell_type": "markdown",
   "metadata": {
    "collapsed": true
   },
   "source": [
    "The Enqueue operation adds a new item to the rear of the queue. <br>\n",
    "The Dequeue operation removes the front item from the queue. "
   ]
  },
  {
   "cell_type": "code",
   "execution_count": null,
   "metadata": {
    "collapsed": true
   },
   "outputs": [],
   "source": [
    "class Queue:\n",
    "    def __init__(self):\n",
    "        self.queue_list = []\n",
    "\n",
    "    def isEmpty(self):\n",
    "        if self.queue_list == []:\n",
    "            return True\n",
    "        else:\n",
    "            return False\n",
    "\n",
    "    def enqueue(self, item):\n",
    "        return self.queue_list.append(item)\n",
    "    \n",
    "\n",
    "    def dequeue(self):\n",
    "        if not self.queue_list:\n",
    "            del self.queue_list[0]\n",
    "        return self.queue_list\n",
    "\n"
   ]
  },
  {
   "cell_type": "code",
   "execution_count": 4,
   "metadata": {
    "collapsed": false
   },
   "outputs": [],
   "source": [
    "\"\"\"\n",
    "#Write a program that will read a string of parentheses from left to right and decide whether the symbols are balanced\n",
    "\n",
    "Example : Input : ((()))\n",
    "#           Output : True\n",
    "\n",
    "\"\"\"\n",
    "\n",
    "def parenthsis_checker(symbolString):\n",
    "    \n",
    "    index = 0 \n",
    "    s = Stack()\n",
    "    balanced = True\n",
    "    while index < len(symbolString) and balanced:\n",
    "        symbol = symbolString[index]\n",
    "        if symbol == '(':\n",
    "            s.push(symbol)\n",
    "        else:\n",
    "            if s.isEmpty():\n",
    "                balanced = False\n",
    "            else:\n",
    "                s.pop()\n",
    "        index = index + 1\n",
    "        \n",
    "    if balanced and s.isEmpty():\n",
    "        return True\n",
    "    else:\n",
    "        return False\n",
    "\n"
   ]
  },
  {
   "cell_type": "code",
   "execution_count": 8,
   "metadata": {
    "collapsed": false
   },
   "outputs": [
    {
     "data": {
      "text/plain": [
       "False"
      ]
     },
     "execution_count": 8,
     "metadata": {},
     "output_type": "execute_result"
    }
   ],
   "source": [
    "parenthsis_checker('(')\n"
   ]
  },
  {
   "cell_type": "code",
   "execution_count": null,
   "metadata": {
    "collapsed": true
   },
   "outputs": [],
   "source": []
  }
 ],
 "metadata": {
  "anaconda-cloud": {},
  "kernelspec": {
   "display_name": "Python [Root]",
   "language": "python",
   "name": "Python [Root]"
  },
  "language_info": {
   "codemirror_mode": {
    "name": "ipython",
    "version": 2
   },
   "file_extension": ".py",
   "mimetype": "text/x-python",
   "name": "python",
   "nbconvert_exporter": "python",
   "pygments_lexer": "ipython2",
   "version": "2.7.12"
  }
 },
 "nbformat": 4,
 "nbformat_minor": 0
}
